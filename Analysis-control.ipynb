{
 "cells": [
  {
   "cell_type": "code",
   "execution_count": 71,
   "metadata": {
    "collapsed": true
   },
   "outputs": [],
   "source": [
    "import numpy as np\n",
    "import pandas as pd\n",
    "import matplotlib.pyplot as plt\n",
    "from scipy import stats\n",
    "from scipy.stats import norm\n",
    "#### Paquete de tiempo\n",
    "import datetime\n",
    "\n",
    "%matplotlib inline\n",
    "\n",
    "#Para cargar los datos\n",
    "\n",
    "################################\n",
    "######  MEDICINA NUCLEAR #######\n",
    "################################\n",
    "\n",
    "###Activimetro CRC 25 PET con fuente Cs-137\n",
    "data = pd.read_csv('ActPET.txt', delim_whitespace =True)\n",
    "\n",
    "###Activimetro 55tR con fuente Co-57\n",
    "#data = pd.read_csv('ActSPECT.txt', delim_whitespace =True)\n",
    "\n",
    "\n",
    "#data.head()"
   ]
  },
  {
   "cell_type": "code",
   "execution_count": 72,
   "metadata": {},
   "outputs": [
    {
     "data": {
      "text/html": [
       "<div>\n",
       "<table border=\"1\" class=\"dataframe\">\n",
       "  <thead>\n",
       "    <tr style=\"text-align: right;\">\n",
       "      <th></th>\n",
       "      <th>Number</th>\n",
       "      <th>AjustemV</th>\n",
       "      <th>Fondo</th>\n",
       "      <th>Voltaje</th>\n",
       "      <th>Actividad</th>\n",
       "      <th>Desviacion</th>\n",
       "    </tr>\n",
       "  </thead>\n",
       "  <tbody>\n",
       "    <tr>\n",
       "      <th>count</th>\n",
       "      <td>368.000000</td>\n",
       "      <td>368.000000</td>\n",
       "      <td>368.000000</td>\n",
       "      <td>368.000000</td>\n",
       "      <td>368.000000</td>\n",
       "      <td>368.000000</td>\n",
       "    </tr>\n",
       "    <tr>\n",
       "      <th>mean</th>\n",
       "      <td>184.500000</td>\n",
       "      <td>-0.197120</td>\n",
       "      <td>6.261033</td>\n",
       "      <td>513.702446</td>\n",
       "      <td>206.149457</td>\n",
       "      <td>3.116304</td>\n",
       "    </tr>\n",
       "    <tr>\n",
       "      <th>std</th>\n",
       "      <td>106.376689</td>\n",
       "      <td>0.033454</td>\n",
       "      <td>18.064371</td>\n",
       "      <td>1.169210</td>\n",
       "      <td>2.818226</td>\n",
       "      <td>0.774249</td>\n",
       "    </tr>\n",
       "    <tr>\n",
       "      <th>min</th>\n",
       "      <td>1.000000</td>\n",
       "      <td>-0.400000</td>\n",
       "      <td>-20.400000</td>\n",
       "      <td>510.000000</td>\n",
       "      <td>200.000000</td>\n",
       "      <td>-3.400000</td>\n",
       "    </tr>\n",
       "    <tr>\n",
       "      <th>25%</th>\n",
       "      <td>92.750000</td>\n",
       "      <td>-0.200000</td>\n",
       "      <td>3.875000</td>\n",
       "      <td>513.200000</td>\n",
       "      <td>204.000000</td>\n",
       "      <td>2.700000</td>\n",
       "    </tr>\n",
       "    <tr>\n",
       "      <th>50%</th>\n",
       "      <td>184.500000</td>\n",
       "      <td>-0.190000</td>\n",
       "      <td>5.300000</td>\n",
       "      <td>513.700000</td>\n",
       "      <td>206.000000</td>\n",
       "      <td>3.200000</td>\n",
       "    </tr>\n",
       "    <tr>\n",
       "      <th>75%</th>\n",
       "      <td>276.250000</td>\n",
       "      <td>-0.190000</td>\n",
       "      <td>6.685000</td>\n",
       "      <td>514.000000</td>\n",
       "      <td>209.000000</td>\n",
       "      <td>3.500000</td>\n",
       "    </tr>\n",
       "    <tr>\n",
       "      <th>max</th>\n",
       "      <td>368.000000</td>\n",
       "      <td>-0.100000</td>\n",
       "      <td>347.000000</td>\n",
       "      <td>519.500000</td>\n",
       "      <td>213.000000</td>\n",
       "      <td>7.200000</td>\n",
       "    </tr>\n",
       "  </tbody>\n",
       "</table>\n",
       "</div>"
      ],
      "text/plain": [
       "           Number    AjustemV       Fondo     Voltaje   Actividad  Desviacion\n",
       "count  368.000000  368.000000  368.000000  368.000000  368.000000  368.000000\n",
       "mean   184.500000   -0.197120    6.261033  513.702446  206.149457    3.116304\n",
       "std    106.376689    0.033454   18.064371    1.169210    2.818226    0.774249\n",
       "min      1.000000   -0.400000  -20.400000  510.000000  200.000000   -3.400000\n",
       "25%     92.750000   -0.200000    3.875000  513.200000  204.000000    2.700000\n",
       "50%    184.500000   -0.190000    5.300000  513.700000  206.000000    3.200000\n",
       "75%    276.250000   -0.190000    6.685000  514.000000  209.000000    3.500000\n",
       "max    368.000000   -0.100000  347.000000  519.500000  213.000000    7.200000"
      ]
     },
     "execution_count": 72,
     "metadata": {},
     "output_type": "execute_result"
    }
   ],
   "source": [
    "data.describe()"
   ]
  },
  {
   "cell_type": "code",
   "execution_count": 73,
   "metadata": {
    "collapsed": true
   },
   "outputs": [],
   "source": [
    "##### de mCi a Bq\n",
    "mcibq=3.7E7\n",
    "\n",
    "##### de uCi a Bq\n",
    "ucibq=3.7E4"
   ]
  },
  {
   "cell_type": "markdown",
   "metadata": {},
   "source": [
    "## Fuentes Chequeo MN"
   ]
  },
  {
   "cell_type": "code",
   "execution_count": 74,
   "metadata": {
    "collapsed": true
   },
   "outputs": [],
   "source": [
    "### Fuentes de Chequeo en Medicina Nuclear \n",
    "\n",
    "##############################\n",
    "########   Co 57  ###########\n",
    "\n",
    "#Fecha de referencia\n",
    "# primero de noviembre de 2015\n",
    "Co='01/11/2015'\n",
    "Co57= datetime.datetime.strptime(Co,'%d/%m/%Y')\n",
    "#Actividad en mCi\n",
    "AcCo= 5.774\n",
    "#Actividad en Bq [1/s]\n",
    "#AcCobq= AcCo*mcibq\n",
    "### half life [días]\n",
    "HLCo= 271.74\n",
    "### half life [s]\n",
    "HLCobq= 271.74*86400\n",
    "### Lambda\n",
    "Lambdaco= np.log(2)/HLCo\n",
    "### Lambda [1/s]\n",
    "Lambdacobq= np.log(2)/HLCobq\n",
    "\n",
    "#############################################\n",
    "######## Medicina Nuclear Cs 137  ###########\n",
    "\n",
    "#Fecha de referencia\n",
    "# primero de noviembre de 2015\n",
    "Cs='01/11/2015'\n",
    "Cs137= datetime.datetime.strptime(Cs,'%d/%m/%Y')\n",
    "#Actividad en uCi\n",
    "AcCs= 214.9\n",
    "#Actividad en Bq [1/s]\n",
    "#AcCsbq= AcCs*ucibq\n",
    "### half life  [días]\n",
    "HLCs= 30.08*365\n",
    "### half life [s]\n",
    "HLCsbq= HLCs*86400\n",
    "### Lambda\n",
    "Lambdacs= np.log(2)/HLCs\n",
    "### Lambda [1/s]\n",
    "Lambdacsbq= np.log(2)/HLCsbq\n",
    "\n",
    "\n",
    "\n",
    "#############################################\n",
    "######## Radiofarmacia Cs 137  ###########\n",
    "\n",
    "#Fecha de referencia\n",
    "# primero de Abril de 2007\n",
    "#Csrf='01/04/2007'\n",
    "#Cs137rf= datetime.datetime.strptime(Csrf,'%d/%m/%Y')\n",
    "#Actividad en uCi\n",
    "#AcCsrf= 190.1\n",
    "#Actividad en Bq [1/s]\n",
    "#AcCsrfbq= AcCsrf*ucibq\n",
    "\n",
    "\n",
    "### Lambda\n",
    "Lambdacsrf= np.log(2)/HLCs"
   ]
  },
  {
   "cell_type": "code",
   "execution_count": 75,
   "metadata": {
    "collapsed": true
   },
   "outputs": [],
   "source": [
    "# import the visualization package: seaborn\n",
    "#import seaborn as sns"
   ]
  },
  {
   "cell_type": "code",
   "execution_count": 76,
   "metadata": {
    "collapsed": true
   },
   "outputs": [],
   "source": [
    "#sns.set_context(\"talk\",font_scale=1.4)"
   ]
  },
  {
   "cell_type": "markdown",
   "metadata": {},
   "source": [
    "# PHASE 1 "
   ]
  },
  {
   "cell_type": "code",
   "execution_count": 77,
   "metadata": {
    "collapsed": true
   },
   "outputs": [],
   "source": [
    "##data['Actividad'][0:30]"
   ]
  },
  {
   "cell_type": "markdown",
   "metadata": {},
   "source": [
    "## Medición de actividad "
   ]
  },
  {
   "cell_type": "code",
   "execution_count": 78,
   "metadata": {
    "collapsed": true
   },
   "outputs": [],
   "source": [
    "##########   Co-57\n",
    "#data['Incer']=(np.sqrt((data['Actividad']*mcibq)*Lambdacobq))/mcibq\n",
    "\n",
    "##########   Cs-137\n",
    "#data['Incer']=(np.sqrt((data['Actividad']*ucibq)*Lambdacsbq))/ucibq"
   ]
  },
  {
   "cell_type": "markdown",
   "metadata": {},
   "source": [
    "### Practical Mathematics in Nuclear Medicine Technology, Patricia Wells"
   ]
  },
  {
   "cell_type": "code",
   "execution_count": 81,
   "metadata": {
    "collapsed": true
   },
   "outputs": [],
   "source": [
    "################# Elapsed time ###############\n",
    "\n",
    "#data[\"Fecha\"][0]\n",
    "\n",
    "d = pd.to_datetime(data[\"Fecha\"],format='%m/%d/%y')\n",
    "###Cobalto 57\n",
    "#timeE=(d-Co57)\n",
    "\n",
    "### Cesio 137\n",
    "timeE=(d-Cs137)\n",
    "#timeE=(d-Cs137rf)"
   ]
  },
  {
   "cell_type": "code",
   "execution_count": 82,
   "metadata": {
    "collapsed": true
   },
   "outputs": [],
   "source": [
    "data['timeE']=timeE.dt.days.values"
   ]
  },
  {
   "cell_type": "code",
   "execution_count": 83,
   "metadata": {
    "collapsed": true
   },
   "outputs": [],
   "source": [
    "############# Expected Activity ###########\n",
    "#### Act =Act_oe^{-\\lambda t}\n",
    "\n",
    "###Cobalto 57\n",
    "#Actco=AcCo*np.exp(-Lambdaco*data[\"timeE\"])*1000\n",
    "\n",
    "###Cesio 137\n",
    "Actcs=AcCs*np.exp(-Lambdacs*data[\"timeE\"])"
   ]
  },
  {
   "cell_type": "code",
   "execution_count": 84,
   "metadata": {
    "collapsed": true
   },
   "outputs": [],
   "source": [
    "#### Cobalto 57\n",
    "#data['EAct']=round(Actco,1)\n",
    "#### Cesio 137\n",
    "data['EAct']=round(Actcs,1)"
   ]
  },
  {
   "cell_type": "code",
   "execution_count": 85,
   "metadata": {
    "collapsed": true
   },
   "outputs": [],
   "source": [
    "############# Acceptable Range of dose calibrator readings ###########\n",
    "\n",
    "### 10% ó 5%\n",
    "X=data['EAct']*(0.05)\n",
    "\n",
    "\n",
    "### Rango\n",
    "Rmin=np.round(data['EAct']-X,1)\n",
    "Rmax=np.round(data['EAct']+X,1)\n",
    "\n",
    "\n",
    "### Ingresar datos en el data \n",
    "data['Rmin']=Rmin\n",
    "data['Rmax']=Rmax"
   ]
  },
  {
   "cell_type": "code",
   "execution_count": 86,
   "metadata": {
    "collapsed": true
   },
   "outputs": [],
   "source": [
    "### Plot the data\n",
    "#ax1=plt.subplot(1,1,1)\n",
    "\n",
    "#ax1.errorbar(data['Number'],data['Actividad'],yerr=data['Incer'],fmt='.r',label='Experimento',capsize=6)\n",
    "#ax1.plot(data['Number'],data['Rmin'],'b--')\n",
    "#ax1.plot(data['Number'],data['Rmax'],'b--')\n",
    "\n",
    "\n",
    "#ax1.set_title('Actividad Co-57 CRC 55tR MN',fontsize=14)\n",
    "#ax1.set_xlabel('Número de Medida diaria',fontsize=14)\n",
    "#ax1.set_ylabel('Actividad [$\\mu$Ci]',fontsize=14)\n",
    "#ax1.tick_params(axis='both',labelsize=14)\n",
    "#ax1.legend()\n",
    "#ax1.set_yscale('log')\n",
    "## Set second y-axis for MBq\n",
    "#ax2 = ax1.twinx()\n",
    "#kBqs = np.linspace(data['Actividad'].min(),data['Actividad'].max()*37,6) # Actividad en MBq\n",
    "#ax2.set_yticks(kBqs/37) # Ponga los ticks\n",
    "#ax2.set_yticklabels(kBqs.astype(int)) # Ponga los Labels\n",
    "#ax2.yaxis.set_ticks_position('right') # set the position of the second x-axis to bottom\n",
    "#ax2.yaxis.set_label_position('right') # set the position of the second x-axis to bottom\n",
    "#ax2.spines['right'].set_position(('outward', 0))\n",
    "#ax2.set_ylabel('Actividad [kBq]',fontsize=14)\n",
    "#ax2.set_ylim(ax1.get_ylim())\n",
    "#ax2.tick_params(axis='y',labelsize=14)\n",
    "\n",
    "\n",
    "#plt.savefig('mncrc55tRcs.pdf')\n",
    "\n",
    "#plt.legend()\n",
    "#plt.title('TODOS')\n",
    "#plt.ylabel('Actividad [$\\mu$Ci]')\n",
    "#plt.xlabel('Measurement number')"
   ]
  },
  {
   "cell_type": "markdown",
   "metadata": {},
   "source": [
    "#### Percent error for dose calibrator accuracy and constancy, Pag 104"
   ]
  },
  {
   "cell_type": "code",
   "execution_count": 87,
   "metadata": {
    "collapsed": true
   },
   "outputs": [],
   "source": [
    "##Diferencia\n",
    "#perce=np.absolute(((data['EAct']-data['Actividad'])*100)/data['EAct'])\n",
    "perce=(-(data['EAct']-data['Actividad'])*100)/data['EAct']\n",
    "\n",
    "\n",
    "percent=round(perce,1)\n",
    "\n",
    "### Ingresar datos en el data \n",
    "data['percent']=percent\n",
    "#percent"
   ]
  },
  {
   "cell_type": "code",
   "execution_count": 88,
   "metadata": {
    "collapsed": true
   },
   "outputs": [],
   "source": [
    "#plt.plot(data['Number'],data['percent'],'bo-')\n",
    "#plt.plot((0, 439),(5,5), 'k:', linewidth=2) \n",
    "#plt.plot((0, 439),(-5,-5), 'k:', linewidth=2) "
   ]
  },
  {
   "cell_type": "markdown",
   "metadata": {},
   "source": [
    "#### Percent Outside"
   ]
  },
  {
   "cell_type": "code",
   "execution_count": 89,
   "metadata": {},
   "outputs": [
    {
     "data": {
      "text/plain": [
       "6"
      ]
     },
     "execution_count": 89,
     "metadata": {},
     "output_type": "execute_result"
    }
   ],
   "source": [
    "len(data[(np.absolute(data['percent'])>5.0)])"
   ]
  },
  {
   "cell_type": "code",
   "execution_count": 90,
   "metadata": {},
   "outputs": [
    {
     "data": {
      "text/html": [
       "<div>\n",
       "<table border=\"1\" class=\"dataframe\">\n",
       "  <thead>\n",
       "    <tr style=\"text-align: right;\">\n",
       "      <th></th>\n",
       "      <th>Number</th>\n",
       "      <th>Fecha</th>\n",
       "      <th>AjustemV</th>\n",
       "      <th>Fondo</th>\n",
       "      <th>Voltaje</th>\n",
       "      <th>Actividad</th>\n",
       "      <th>Desviacion</th>\n",
       "      <th>timeE</th>\n",
       "      <th>EAct</th>\n",
       "      <th>Rmin</th>\n",
       "      <th>Rmax</th>\n",
       "      <th>percent</th>\n",
       "    </tr>\n",
       "  </thead>\n",
       "  <tbody>\n",
       "    <tr>\n",
       "      <th>151</th>\n",
       "      <td>152</td>\n",
       "      <td>10/23/18</td>\n",
       "      <td>-0.20</td>\n",
       "      <td>3.06</td>\n",
       "      <td>514.2</td>\n",
       "      <td>211.0</td>\n",
       "      <td>4.5</td>\n",
       "      <td>1087</td>\n",
       "      <td>200.6</td>\n",
       "      <td>190.6</td>\n",
       "      <td>210.6</td>\n",
       "      <td>5.2</td>\n",
       "    </tr>\n",
       "    <tr>\n",
       "      <th>158</th>\n",
       "      <td>159</td>\n",
       "      <td>11/01/18</td>\n",
       "      <td>-0.20</td>\n",
       "      <td>2.06</td>\n",
       "      <td>514.2</td>\n",
       "      <td>212.0</td>\n",
       "      <td>4.6</td>\n",
       "      <td>1096</td>\n",
       "      <td>200.5</td>\n",
       "      <td>190.5</td>\n",
       "      <td>210.5</td>\n",
       "      <td>5.7</td>\n",
       "    </tr>\n",
       "    <tr>\n",
       "      <th>224</th>\n",
       "      <td>225</td>\n",
       "      <td>02/19/19</td>\n",
       "      <td>-0.13</td>\n",
       "      <td>3.50</td>\n",
       "      <td>514.2</td>\n",
       "      <td>211.0</td>\n",
       "      <td>5.7</td>\n",
       "      <td>1206</td>\n",
       "      <td>199.1</td>\n",
       "      <td>189.1</td>\n",
       "      <td>209.1</td>\n",
       "      <td>6.0</td>\n",
       "    </tr>\n",
       "    <tr>\n",
       "      <th>232</th>\n",
       "      <td>233</td>\n",
       "      <td>03/01/19</td>\n",
       "      <td>-0.21</td>\n",
       "      <td>4.16</td>\n",
       "      <td>513.6</td>\n",
       "      <td>213.0</td>\n",
       "      <td>3.1</td>\n",
       "      <td>1216</td>\n",
       "      <td>199.0</td>\n",
       "      <td>189.0</td>\n",
       "      <td>209.0</td>\n",
       "      <td>7.0</td>\n",
       "    </tr>\n",
       "    <tr>\n",
       "      <th>312</th>\n",
       "      <td>313</td>\n",
       "      <td>07/31/19</td>\n",
       "      <td>-0.22</td>\n",
       "      <td>4.60</td>\n",
       "      <td>513.0</td>\n",
       "      <td>208.0</td>\n",
       "      <td>5.4</td>\n",
       "      <td>1368</td>\n",
       "      <td>197.1</td>\n",
       "      <td>187.2</td>\n",
       "      <td>207.0</td>\n",
       "      <td>5.5</td>\n",
       "    </tr>\n",
       "    <tr>\n",
       "      <th>363</th>\n",
       "      <td>364</td>\n",
       "      <td>11/25/19</td>\n",
       "      <td>-0.19</td>\n",
       "      <td>4.50</td>\n",
       "      <td>513.1</td>\n",
       "      <td>209.0</td>\n",
       "      <td>1.8</td>\n",
       "      <td>1485</td>\n",
       "      <td>195.7</td>\n",
       "      <td>185.9</td>\n",
       "      <td>205.5</td>\n",
       "      <td>6.8</td>\n",
       "    </tr>\n",
       "  </tbody>\n",
       "</table>\n",
       "</div>"
      ],
      "text/plain": [
       "     Number     Fecha  AjustemV  Fondo  Voltaje  Actividad  Desviacion  timeE  \\\n",
       "151     152  10/23/18     -0.20   3.06    514.2      211.0         4.5   1087   \n",
       "158     159  11/01/18     -0.20   2.06    514.2      212.0         4.6   1096   \n",
       "224     225  02/19/19     -0.13   3.50    514.2      211.0         5.7   1206   \n",
       "232     233  03/01/19     -0.21   4.16    513.6      213.0         3.1   1216   \n",
       "312     313  07/31/19     -0.22   4.60    513.0      208.0         5.4   1368   \n",
       "363     364  11/25/19     -0.19   4.50    513.1      209.0         1.8   1485   \n",
       "\n",
       "      EAct   Rmin   Rmax  percent  \n",
       "151  200.6  190.6  210.6      5.2  \n",
       "158  200.5  190.5  210.5      5.7  \n",
       "224  199.1  189.1  209.1      6.0  \n",
       "232  199.0  189.0  209.0      7.0  \n",
       "312  197.1  187.2  207.0      5.5  \n",
       "363  195.7  185.9  205.5      6.8  "
      ]
     },
     "execution_count": 90,
     "metadata": {},
     "output_type": "execute_result"
    }
   ],
   "source": [
    "data[(np.absolute(data['percent'])>5.0)]"
   ]
  },
  {
   "cell_type": "markdown",
   "metadata": {},
   "source": [
    "### Razones de Actividades \n",
    "\\begin{equation}\n",
    "\\frac{\\text{Actividad Medida}}{\\text{Actividad Esperada}}\n",
    "\\end{equation}"
   ]
  },
  {
   "cell_type": "code",
   "execution_count": 91,
   "metadata": {
    "collapsed": true
   },
   "outputs": [],
   "source": [
    "razon=data['Actividad']/data['EAct']\n",
    "#razoninc=data['Incer']/data['EAct']\n",
    "data['razon']=round(razon,3)\n",
    "#data['razon'].head(10)"
   ]
  },
  {
   "cell_type": "markdown",
   "metadata": {},
   "source": [
    "#### Razón Outside"
   ]
  },
  {
   "cell_type": "code",
   "execution_count": 92,
   "metadata": {},
   "outputs": [
    {
     "data": {
      "text/plain": [
       "6"
      ]
     },
     "execution_count": 92,
     "metadata": {},
     "output_type": "execute_result"
    }
   ],
   "source": [
    "## Cuantos datos por fuera del rango según servicio\n",
    "len(data[(data['razon']<0.95) | (data['razon']>1.05)])"
   ]
  },
  {
   "cell_type": "code",
   "execution_count": 93,
   "metadata": {},
   "outputs": [
    {
     "data": {
      "text/plain": [
       "0     1.037\n",
       "1     1.023\n",
       "2     1.023\n",
       "3     1.023\n",
       "4     1.024\n",
       "5     1.024\n",
       "6     1.029\n",
       "7     1.019\n",
       "8     1.019\n",
       "9     1.020\n",
       "10    1.020\n",
       "11    1.029\n",
       "12    1.029\n",
       "13    1.030\n",
       "14    1.030\n",
       "15    1.030\n",
       "16    1.030\n",
       "17    1.030\n",
       "18    1.030\n",
       "19    1.031\n",
       "20    1.031\n",
       "21    1.026\n",
       "22    1.026\n",
       "23    1.026\n",
       "24    1.027\n",
       "25    1.017\n",
       "26    1.027\n",
       "27    1.027\n",
       "28    1.031\n",
       "29    1.027\n",
       "30    1.027\n",
       "Name: razon, dtype: float64"
      ]
     },
     "execution_count": 93,
     "metadata": {},
     "output_type": "execute_result"
    }
   ],
   "source": [
    "#data[(data['razon']<0.95) | (data['razon']>1.05)]\n",
    "data['razon'][0:31]"
   ]
  },
  {
   "cell_type": "markdown",
   "metadata": {},
   "source": [
    "## Amplifier offset "
   ]
  },
  {
   "cell_type": "code",
   "execution_count": 37,
   "metadata": {
    "collapsed": true
   },
   "outputs": [],
   "source": [
    "#plt.plot(data['Number'],data['AjustemV'],'ob-')"
   ]
  },
  {
   "cell_type": "code",
   "execution_count": 38,
   "metadata": {
    "collapsed": true
   },
   "outputs": [],
   "source": [
    "#data['AjustemV'].value_counts()"
   ]
  },
  {
   "cell_type": "code",
   "execution_count": 94,
   "metadata": {
    "collapsed": true
   },
   "outputs": [],
   "source": [
    "###### Diferencia entre datos\n",
    "diffajuste = data.AjustemV.diff()\n",
    "diffajuste.replace(np.nan, 0.0, inplace=True)\n",
    "data['Diffzero']=diffajuste"
   ]
  },
  {
   "cell_type": "code",
   "execution_count": 95,
   "metadata": {},
   "outputs": [
    {
     "data": {
      "text/plain": [
       "count    368.000000\n",
       "mean       0.000000\n",
       "std        0.039077\n",
       "min       -0.200000\n",
       "25%       -0.010000\n",
       "50%        0.000000\n",
       "75%        0.010000\n",
       "max        0.200000\n",
       "Name: Diffzero, dtype: float64"
      ]
     },
     "execution_count": 95,
     "metadata": {},
     "output_type": "execute_result"
    }
   ],
   "source": [
    "data['Diffzero'].describe()"
   ]
  },
  {
   "cell_type": "markdown",
   "metadata": {},
   "source": [
    "#### Offset Outside"
   ]
  },
  {
   "cell_type": "code",
   "execution_count": 96,
   "metadata": {},
   "outputs": [
    {
     "data": {
      "text/plain": [
       "0"
      ]
     },
     "execution_count": 96,
     "metadata": {},
     "output_type": "execute_result"
    }
   ],
   "source": [
    "## Cuantos datos por fuera del rango según fabricante\n",
    "len(data[(np.absolute(data['Diffzero'])>0.3)])"
   ]
  },
  {
   "cell_type": "code",
   "execution_count": 97,
   "metadata": {
    "collapsed": true
   },
   "outputs": [],
   "source": [
    "#data[(np.absolute(data['Diffzero'])>0.3)]"
   ]
  },
  {
   "cell_type": "markdown",
   "metadata": {},
   "source": [
    "### Voltaje"
   ]
  },
  {
   "cell_type": "code",
   "execution_count": 98,
   "metadata": {
    "collapsed": true
   },
   "outputs": [],
   "source": [
    "#plt.plot(data['Number'],data['Voltaje'],'b-')"
   ]
  },
  {
   "cell_type": "code",
   "execution_count": 102,
   "metadata": {
    "collapsed": true
   },
   "outputs": [],
   "source": [
    "#####  EQUIPOS 15R y  25 PET\n",
    "Z=data['Voltaje'].mean()*(0.05)\n",
    "Zmin=data['Voltaje'].mean()-Z\n",
    "Zmax=data['Voltaje'].mean()+Z"
   ]
  },
  {
   "cell_type": "markdown",
   "metadata": {},
   "source": [
    "#### Voltaje Outside"
   ]
  },
  {
   "cell_type": "code",
   "execution_count": 103,
   "metadata": {},
   "outputs": [
    {
     "data": {
      "text/plain": [
       "0"
      ]
     },
     "execution_count": 103,
     "metadata": {},
     "output_type": "execute_result"
    }
   ],
   "source": [
    "###fabricante 25 PET MN\n",
    "len(data[(data['Voltaje']<Zmin) | (data['Voltaje']>Zmax)])\n",
    "## Cuantos datos por fuera del rango según fabricante 55tR MN\n",
    "#len(data[(data['Voltaje']<147.5) | (data['Voltaje']>163.1)])"
   ]
  },
  {
   "cell_type": "code",
   "execution_count": 46,
   "metadata": {
    "collapsed": true
   },
   "outputs": [],
   "source": [
    "#data[(data['Voltaje']<Zmin) | (data['Voltaje']>Zmax)]"
   ]
  },
  {
   "cell_type": "markdown",
   "metadata": {},
   "source": [
    "### Fondo"
   ]
  },
  {
   "cell_type": "code",
   "execution_count": 47,
   "metadata": {
    "collapsed": true
   },
   "outputs": [],
   "source": [
    "#plt.plot(data['Number'],data['Fondo'],'ob-')"
   ]
  },
  {
   "cell_type": "code",
   "execution_count": 104,
   "metadata": {},
   "outputs": [
    {
     "data": {
      "text/plain": [
       "5"
      ]
     },
     "execution_count": 104,
     "metadata": {},
     "output_type": "execute_result"
    }
   ],
   "source": [
    "## Cuantos datos por fuera del protocolo INC \n",
    "len(data[(data['Fondo']<0.0) | (data['Fondo']>15.0)])"
   ]
  },
  {
   "cell_type": "code",
   "execution_count": 105,
   "metadata": {
    "collapsed": true
   },
   "outputs": [],
   "source": [
    "#data[(data['Fondo']<0.0) | (data['Fondo']>15.0)]"
   ]
  },
  {
   "cell_type": "markdown",
   "metadata": {},
   "source": [
    "# Limpieza Datos -Outliers\n",
    "### CAPINTEC"
   ]
  },
  {
   "cell_type": "code",
   "execution_count": 106,
   "metadata": {},
   "outputs": [
    {
     "data": {
      "text/plain": [
       "11"
      ]
     },
     "execution_count": 106,
     "metadata": {},
     "output_type": "execute_result"
    }
   ],
   "source": [
    "######  Medicina Nuclear\n",
    "###   CAPINTEC 25 PET MN \n",
    "len(data[(data['Fondo']<0.0) | (data['Fondo']>15.0)])+ len(data[(data['razon']<0.95) | (data['razon']>1.05)])+len(data[(np.absolute(data['Diffzero'])>0.3)])+len(data[(data['Voltaje']<Zmin) | (data['Voltaje']>Zmax)])\n",
    "###   CAPINTEC 55 tR MN\n",
    "#len(data[(data['Fondo']<0.0) | (data['Fondo']>15.0)])+ len(data[(data['razon']<0.95) | (data['razon']>1.05)])+len(data[(np.absolute(data['Diffzero'])>0.3)])+ len(data[(data['Voltaje']<147.5) | (data['Voltaje']>163.1)])"
   ]
  },
  {
   "cell_type": "code",
   "execution_count": 107,
   "metadata": {
    "collapsed": true
   },
   "outputs": [],
   "source": [
    "data.loc[np.absolute(data['percent'])>5.0]= np.nan\n",
    "data.dropna(subset=[\"percent\"], axis=0, inplace=True)"
   ]
  },
  {
   "cell_type": "code",
   "execution_count": 108,
   "metadata": {
    "collapsed": true
   },
   "outputs": [],
   "source": [
    "#Localización y conversión a Not a Number NaN\n",
    "data.loc[(data['razon']<0.95) | (data['razon']>1.05)]= np.nan\n",
    "# simply drop whole row with NaN in \"razon\" column\n",
    "data.dropna(subset=[\"razon\"], axis=0, inplace=True)"
   ]
  },
  {
   "cell_type": "code",
   "execution_count": 109,
   "metadata": {
    "collapsed": true
   },
   "outputs": [],
   "source": [
    "#Localización y conversión a Not a Number NaN\n",
    "data.loc[np.absolute(data['Diffzero'])>0.3]= np.nan\n",
    "# simply drop whole row with NaN in \"Fondo\" column\n",
    "data.dropna(subset=[\"Diffzero\"], axis=0, inplace=True)"
   ]
  },
  {
   "cell_type": "code",
   "execution_count": 110,
   "metadata": {
    "collapsed": true
   },
   "outputs": [],
   "source": [
    "#Localización y conversión a Not a Number NaN\n",
    "data.loc[(data['Fondo']<0.0) | (data['Fondo']>15.0)]= np.nan\n",
    "# simply drop whole row with NaN in \"Fondo\" column\n",
    "data.dropna(subset=[\"Fondo\"], axis=0, inplace=True)"
   ]
  },
  {
   "cell_type": "markdown",
   "metadata": {},
   "source": [
    "### Voltaje"
   ]
  },
  {
   "cell_type": "code",
   "execution_count": 111,
   "metadata": {
    "collapsed": true
   },
   "outputs": [],
   "source": [
    "##########################   Voltaje  ######################################\n",
    "#Localización y conversión a Not a Number NaN\n",
    "####### CAPINTEC 25 PET MN\n",
    "data.loc[(data['Voltaje']<Zmin) | (data['Voltaje']>Zmax)]= np.nan\n",
    "####### CAPINTEC 55 tR MN\n",
    "#data.loc[(data['Voltaje']<147.5) | (data['Voltaje']>163.1)]= np.nan"
   ]
  },
  {
   "cell_type": "code",
   "execution_count": 112,
   "metadata": {
    "collapsed": true
   },
   "outputs": [],
   "source": [
    "# simply drop whole row with NaN in \"Voltaje\" column\n",
    "data.dropna(subset=[\"Voltaje\"], axis=0, inplace=True)"
   ]
  },
  {
   "cell_type": "code",
   "execution_count": 113,
   "metadata": {
    "collapsed": true
   },
   "outputs": [],
   "source": [
    "#reset index, because we droped rows\n",
    "data.reset_index(drop=True, inplace=True)"
   ]
  },
  {
   "cell_type": "code",
   "execution_count": 114,
   "metadata": {},
   "outputs": [
    {
     "data": {
      "text/plain": [
       "0"
      ]
     },
     "execution_count": 114,
     "metadata": {},
     "output_type": "execute_result"
    }
   ],
   "source": [
    "###   CAPINTEC 25 PET MN \n",
    "len(data[(data['Fondo']<0.0) | (data['Fondo']>15.0)])+ len(data[(data['razon']<0.95) | (data['razon']>1.05)])+len(data[(np.absolute(data['Diffzero'])>0.3)])+len(data[(data['Voltaje']<Zmin) | (data['Voltaje']>Zmax)])\n",
    "###   CAPINTEC 55 tR MN\n",
    "#len(data[(data['Fondo']<0.0) | (data['Fondo']>15.0)])+ len(data[(data['razon']<0.95) | (data['razon']>1.05)])+len(data[(np.absolute(data['Diffzero'])>0.3)])+ len(data[(data['Voltaje']<147.5) | (data['Voltaje']>163.1)])"
   ]
  },
  {
   "cell_type": "markdown",
   "metadata": {},
   "source": [
    "### Datos para Phase I"
   ]
  },
  {
   "cell_type": "code",
   "execution_count": 115,
   "metadata": {},
   "outputs": [
    {
     "data": {
      "text/html": [
       "<div>\n",
       "<table border=\"1\" class=\"dataframe\">\n",
       "  <thead>\n",
       "    <tr style=\"text-align: right;\">\n",
       "      <th></th>\n",
       "      <th>AjustemV</th>\n",
       "      <th>Diffzero</th>\n",
       "      <th>Fondo</th>\n",
       "      <th>Voltaje</th>\n",
       "      <th>percent</th>\n",
       "      <th>razon</th>\n",
       "    </tr>\n",
       "  </thead>\n",
       "  <tbody>\n",
       "    <tr>\n",
       "      <th>count</th>\n",
       "      <td>357.000000</td>\n",
       "      <td>357.000000</td>\n",
       "      <td>357.000000</td>\n",
       "      <td>357.000000</td>\n",
       "      <td>357.000000</td>\n",
       "      <td>357.000000</td>\n",
       "    </tr>\n",
       "    <tr>\n",
       "      <th>mean</th>\n",
       "      <td>-0.196807</td>\n",
       "      <td>0.000448</td>\n",
       "      <td>5.346190</td>\n",
       "      <td>513.719048</td>\n",
       "      <td>3.021008</td>\n",
       "      <td>1.030210</td>\n",
       "    </tr>\n",
       "    <tr>\n",
       "      <th>std</th>\n",
       "      <td>0.033283</td>\n",
       "      <td>0.038662</td>\n",
       "      <td>2.561457</td>\n",
       "      <td>1.171250</td>\n",
       "      <td>0.770110</td>\n",
       "      <td>0.007701</td>\n",
       "    </tr>\n",
       "    <tr>\n",
       "      <th>min</th>\n",
       "      <td>-0.400000</td>\n",
       "      <td>-0.200000</td>\n",
       "      <td>0.000000</td>\n",
       "      <td>510.000000</td>\n",
       "      <td>-0.700000</td>\n",
       "      <td>0.993000</td>\n",
       "    </tr>\n",
       "    <tr>\n",
       "      <th>25%</th>\n",
       "      <td>-0.200000</td>\n",
       "      <td>-0.010000</td>\n",
       "      <td>3.950000</td>\n",
       "      <td>513.300000</td>\n",
       "      <td>2.700000</td>\n",
       "      <td>1.027000</td>\n",
       "    </tr>\n",
       "    <tr>\n",
       "      <th>50%</th>\n",
       "      <td>-0.190000</td>\n",
       "      <td>0.000000</td>\n",
       "      <td>5.300000</td>\n",
       "      <td>513.700000</td>\n",
       "      <td>3.100000</td>\n",
       "      <td>1.031000</td>\n",
       "    </tr>\n",
       "    <tr>\n",
       "      <th>75%</th>\n",
       "      <td>-0.190000</td>\n",
       "      <td>0.010000</td>\n",
       "      <td>6.670000</td>\n",
       "      <td>514.000000</td>\n",
       "      <td>3.500000</td>\n",
       "      <td>1.035000</td>\n",
       "    </tr>\n",
       "    <tr>\n",
       "      <th>max</th>\n",
       "      <td>-0.100000</td>\n",
       "      <td>0.200000</td>\n",
       "      <td>14.230000</td>\n",
       "      <td>519.500000</td>\n",
       "      <td>5.000000</td>\n",
       "      <td>1.050000</td>\n",
       "    </tr>\n",
       "  </tbody>\n",
       "</table>\n",
       "</div>"
      ],
      "text/plain": [
       "         AjustemV    Diffzero       Fondo     Voltaje     percent       razon\n",
       "count  357.000000  357.000000  357.000000  357.000000  357.000000  357.000000\n",
       "mean    -0.196807    0.000448    5.346190  513.719048    3.021008    1.030210\n",
       "std      0.033283    0.038662    2.561457    1.171250    0.770110    0.007701\n",
       "min     -0.400000   -0.200000    0.000000  510.000000   -0.700000    0.993000\n",
       "25%     -0.200000   -0.010000    3.950000  513.300000    2.700000    1.027000\n",
       "50%     -0.190000    0.000000    5.300000  513.700000    3.100000    1.031000\n",
       "75%     -0.190000    0.010000    6.670000  514.000000    3.500000    1.035000\n",
       "max     -0.100000    0.200000   14.230000  519.500000    5.000000    1.050000"
      ]
     },
     "execution_count": 115,
     "metadata": {},
     "output_type": "execute_result"
    }
   ],
   "source": [
    "data[['AjustemV','Diffzero','Fondo','Voltaje','percent','razon']].describe()"
   ]
  },
  {
   "cell_type": "code",
   "execution_count": 60,
   "metadata": {
    "collapsed": true
   },
   "outputs": [],
   "source": [
    "#plt.plot(data['AjustemV'])\n",
    "#plt.plot(data['Diffzero'])\n",
    "#plt.plot(data['Fondo'])\n",
    "#plt.plot(data['Voltaje'])\n",
    "#plt.plot(data['percent'])\n",
    "#plt.plot(data['razon'])"
   ]
  },
  {
   "cell_type": "code",
   "execution_count": 61,
   "metadata": {
    "collapsed": true
   },
   "outputs": [],
   "source": [
    "#plt.hist(data['AjustemV'])\n",
    "#plt.hist(data['Diffzero'])\n",
    "#plt.hist(data['Fondo'])\n",
    "#plt.hist(data['Voltaje'])\n",
    "#plt.hist(data['percent'])\n",
    "#plt.hist(data['razon'])"
   ]
  },
  {
   "cell_type": "code",
   "execution_count": 116,
   "metadata": {
    "collapsed": true
   },
   "outputs": [],
   "source": [
    "from scipy.stats import skew, kurtosis"
   ]
  },
  {
   "cell_type": "code",
   "execution_count": 117,
   "metadata": {
    "collapsed": true
   },
   "outputs": [],
   "source": [
    "#### Kurtosis\n",
    "#3+kurtosis(data['AjustemV'])"
   ]
  },
  {
   "cell_type": "code",
   "execution_count": 118,
   "metadata": {
    "collapsed": true
   },
   "outputs": [],
   "source": [
    "### Skew\n",
    "#skew(data['AjustemV'])"
   ]
  },
  {
   "cell_type": "code",
   "execution_count": 119,
   "metadata": {
    "collapsed": true
   },
   "outputs": [],
   "source": [
    "xb=np.sort(data['Fondo'])"
   ]
  },
  {
   "cell_type": "markdown",
   "metadata": {},
   "source": [
    "# Calculate quantiles and least-square-fit curve\n",
    "(quantiles, values), (slope, intercept, r) = stats.probplot(xb, dist='norm')\n",
    "\n",
    "#plot results\n",
    "plt.plot(values, quantiles,'+b')\n",
    "plt.plot(quantiles * slope + intercept, quantiles, 'r')\n",
    "\n",
    "#plt.xlim([1.01,1.06])\n",
    "#define ticks\n",
    "ticks_perc=[0.01, 0.05, 0.10, 0.20, 0.50, 0.80, 0.90, 0.95, 0.99]\n",
    "\n",
    "#transfrom them from precentile to cumulative density\n",
    "ticks_quan=[stats.norm.ppf(i) for i in ticks_perc]\n",
    "#assign new ticks\n",
    "plt.yticks(ticks_quan,ticks_perc)"
   ]
  },
  {
   "cell_type": "code",
   "execution_count": 123,
   "metadata": {},
   "outputs": [
    {
     "data": {
      "text/plain": [
       "Text(0.5,1,'Gráfico de probabilidad normal')"
      ]
     },
     "execution_count": 123,
     "metadata": {},
     "output_type": "execute_result"
    },
    {
     "data": {
      "image/png": "[encoded data removed]",
      "text/plain": [
       "<Figure size 432x288 with 1 Axes>"
      ]
     },
     "metadata": {},
     "output_type": "display_data"
    }
   ],
   "source": [
    "# Calculate quantiles and least-square-fit curve\n",
    "(quantiles, values), (slope, intercept, r) = stats.probplot(xb, dist='norm')\n",
    "\n",
    "#plot results\n",
    "plt.plot(values, quantiles,'+b')\n",
    "plt.plot(quantiles * slope + intercept, quantiles, 'r')\n",
    "\n",
    "#define ticks\n",
    "ticks_perc=[0.01, 0.05, 0.10, 0.20, 0.50, 0.80, 0.90, 0.95, 0.99]\n",
    "\n",
    "#transfrom them from precentile to cumulative density\n",
    "ticks_quan=[stats.norm.ppf(i) for i in ticks_perc]\n",
    "#assign new ticks\n",
    "plt.yticks(ticks_quan,ticks_perc)\n",
    "plt.xlabel('Fondo [$\\mu Ci$]')\n",
    "plt.ylabel('Probabilidad')\n",
    "plt.title('Gráfico de probabilidad normal')"
   ]
  },
  {
   "cell_type": "markdown",
   "metadata": {
    "collapsed": true
   },
   "source": [
    "## Capintec 25 PET MN: \n",
    "#### AjustemV: \n",
    "\n",
    "\\begin{equation}\n",
    "\\text{Kurtosis}=10.60\\;\\;\\; \\text{Skewness}=-1.42\n",
    "\\end{equation}\n",
    "    \n",
    "#### Diffzero: \n",
    "\n",
    "\\begin{equation}\n",
    "\\text{Kurtosis}=8.52\\;\\;\\; \\text{Skewness}=0.31\n",
    "\\end{equation}    \n",
    "\n",
    "#### Fondo: \n",
    "\n",
    "\\begin{equation}\n",
    "\\text{Kurtosis}=3.69\\;\\;\\; \\text{Skewness}=0.25\n",
    "\\end{equation} \n",
    "\n",
    "#### Voltaje: \n",
    "\n",
    "\\begin{equation}\n",
    "\\text{Kurtosis}=13.52\\;\\;\\; \\text{Skewness}=2.32\n",
    "\\end{equation} \n",
    "\n",
    "#### percent: \n",
    "\n",
    "\\begin{equation}\n",
    "\\text{Kurtosis}=10.06\\;\\;\\; \\text{Skewness}=-1.92\n",
    "\\end{equation} \n",
    "\n",
    "#### razon: \n",
    "\n",
    "\\begin{equation}\n",
    "\\text{Kurtosis}=10.06\\;\\;\\; \\text{Skewness}=-1.92\n",
    "\\end{equation} "
   ]
  },
  {
   "cell_type": "markdown",
   "metadata": {},
   "source": [
    "## Capintec 55 tR MN: \n",
    "#### AjustemV: \n",
    "\n",
    "\\begin{equation}\n",
    "\\text{Kurtosis}=39.376551\\;\\;\\; \\text{Skewness}=5.972\n",
    "\\end{equation}\n",
    "    \n",
    "#### Diffzero: \n",
    "\n",
    "\\begin{equation}\n",
    "\\text{Kurtosis}=69.9264829\\;\\;\\; \\text{Skewness}=0.14881\n",
    "\\end{equation}    \n",
    "\n",
    "#### Fondo: \n",
    "\n",
    "\\begin{equation}\n",
    "\\text{Kurtosis}=3.687477\\;\\;\\; \\text{Skewness}=1.4787154\n",
    "\\end{equation} \n",
    "\n",
    "#### Voltaje: \n",
    "\n",
    "\\begin{equation}\n",
    "\\text{Kurtosis}=85.0116\\;\\;\\; \\text{Skewness}=-9.1657857\n",
    "\\end{equation} \n",
    "\n",
    "#### percent: \n",
    "\n",
    "\\begin{equation}\n",
    "\\text{Kurtosis}=1.6218\\;\\;\\; \\text{Skewness}=0.3445\n",
    "\\end{equation} \n",
    "\n",
    "#### razon: \n",
    "\n",
    "\\begin{equation}\n",
    "\\text{Kurtosis}=1.6218\\;\\;\\; \\text{Skewness}=0.3445\n",
    "\\end{equation} "
   ]
  },
  {
   "cell_type": "markdown",
   "metadata": {},
   "source": [
    "Asumir normalidad según kurtosis y skewness solo posible para los datos de Fondo\n",
    "\n",
    "## Rejection data"
   ]
  },
  {
   "cell_type": "code",
   "execution_count": 374,
   "metadata": {
    "collapsed": true
   },
   "outputs": [],
   "source": [
    "to=(np.absolute(data['AjustemV']-data['AjustemV'].mean()))/data['AjustemV'].std()"
   ]
  },
  {
   "cell_type": "code",
   "execution_count": 375,
   "metadata": {
    "collapsed": true
   },
   "outputs": [],
   "source": [
    "prob=np.round(1-(norm.cdf(to)-norm.cdf(-to)),2)\n",
    "data['prob']= prob"
   ]
  },
  {
   "cell_type": "code",
   "execution_count": 376,
   "metadata": {
    "collapsed": true
   },
   "outputs": [],
   "source": [
    "no= data['AjustemV'].count()*prob\n",
    "#no"
   ]
  },
  {
   "cell_type": "code",
   "execution_count": 378,
   "metadata": {},
   "outputs": [
    {
     "data": {
      "text/plain": [
       "13"
      ]
     },
     "execution_count": 378,
     "metadata": {},
     "output_type": "execute_result"
    }
   ],
   "source": [
    "#len(no[no<0.5])\n",
    "len(no[no<4.5])"
   ]
  },
  {
   "cell_type": "code",
   "execution_count": 379,
   "metadata": {
    "collapsed": true
   },
   "outputs": [],
   "source": [
    "data['no']= no"
   ]
  },
  {
   "cell_type": "code",
   "execution_count": 380,
   "metadata": {
    "collapsed": true
   },
   "outputs": [],
   "source": [
    "data.loc[np.absolute(data['no'])<4.5]= np.nan\n",
    "data.dropna(subset=[\"no\"], axis=0, inplace=True)\n",
    "#reset index, because we droped rows\n",
    "data.reset_index(drop=True, inplace=True)"
   ]
  },
  {
   "cell_type": "code",
   "execution_count": 381,
   "metadata": {},
   "outputs": [
    {
     "data": {
      "text/plain": [
       "count    422.000000\n",
       "mean       0.013578\n",
       "std        0.004849\n",
       "min        0.010000\n",
       "25%        0.010000\n",
       "50%        0.010000\n",
       "75%        0.020000\n",
       "max        0.030000\n",
       "Name: AjustemV, dtype: float64"
      ]
     },
     "execution_count": 381,
     "metadata": {},
     "output_type": "execute_result"
    }
   ],
   "source": [
    "data['AjustemV'].describe()"
   ]
  },
  {
   "cell_type": "code",
   "execution_count": 263,
   "metadata": {
    "collapsed": true
   },
   "outputs": [],
   "source": [
    "#plt.hist(data['percent'])"
   ]
  },
  {
   "cell_type": "code",
   "execution_count": 264,
   "metadata": {
    "collapsed": true
   },
   "outputs": [],
   "source": [
    "#sigma3p=data['percent'].mean()+(3*data['percent'].std())\n",
    "#sigma3n=data['percent'].mean()-(3*data['percent'].std())"
   ]
  },
  {
   "cell_type": "code",
   "execution_count": 265,
   "metadata": {
    "collapsed": true
   },
   "outputs": [],
   "source": [
    "#grandmean=data['percent'].mean()grandmean"
   ]
  },
  {
   "cell_type": "code",
   "execution_count": 266,
   "metadata": {
    "collapsed": true
   },
   "outputs": [],
   "source": [
    "#plt.plot(data['Number'],data['percent'],'ob-')\n",
    "#plt.plot((0,350),(sigma3p,sigma3p))\n",
    "#plt.plot((0,350),(sigma3n,sigma3n))\n",
    "#plt.plot((0,350),(grandmean,grandmean))"
   ]
  },
  {
   "cell_type": "code",
   "execution_count": 267,
   "metadata": {
    "collapsed": true
   },
   "outputs": [],
   "source": [
    "### Agrupar datos \n",
    "#y= data['AjustemV'].values.reshape(87,4)"
   ]
  },
  {
   "cell_type": "code",
   "execution_count": 268,
   "metadata": {
    "collapsed": true
   },
   "outputs": [],
   "source": [
    "#subgroup= pd.DataFrame(data=y)"
   ]
  },
  {
   "cell_type": "code",
   "execution_count": 269,
   "metadata": {
    "collapsed": true
   },
   "outputs": [],
   "source": [
    "# create headers list\n",
    "#headers = [\"n1\",\"n2\",\"n3\",\"n4\"]\n",
    "#,\"n5\",\"n6\"]\n",
    "#subgroup.columns = headers"
   ]
  },
  {
   "cell_type": "code",
   "execution_count": 270,
   "metadata": {
    "collapsed": true
   },
   "outputs": [],
   "source": [
    "#mean=subgroup[[\"n1\",\"n2\",\"n3\",\"n4\"]].std(axis=1)\n",
    "#subgroup['std']= mean"
   ]
  },
  {
   "cell_type": "code",
   "execution_count": 271,
   "metadata": {
    "collapsed": true
   },
   "outputs": [],
   "source": [
    "#subgroup['std'].mean()"
   ]
  },
  {
   "cell_type": "markdown",
   "metadata": {},
   "source": [
    "# Grand\n",
    "\n",
    "## Capintec 25 PET MN: \n",
    "#### AjustemV: \n",
    "\n",
    "\\begin{equation}\n",
    "\\text{Grandmean}=-0.19482658959537574\\;\\;\\; \\text{Grandstd}=0.026\n",
    "\\end{equation}\n",
    "    \n",
    "#### Diffzero: \n",
    "\n",
    "\\begin{equation}\n",
    "\\text{Grandmean}=-0.001079\\;\\;\\; \\text{Grandstd}= 0.028791\n",
    "\\end{equation}   \n",
    "\n",
    "#### Fondo: \n",
    "\n",
    "\\begin{equation}\n",
    "\\text{Grandmean}=5.276723\\;\\;\\; \\text{Grandstd}=1.24\n",
    "\\end{equation}\n",
    "\n",
    "#### Voltaje: \n",
    "\n",
    "\\begin{equation}\n",
    "\\text{Grandmean}=513.576744\\;\\;\\; \\text{Grandstd}=0.703871\n",
    "\\end{equation}\n",
    "\n",
    "#### percent: \n",
    "\n",
    "\\begin{equation}\n",
    "\\text{Grandmean}=3.094253\\;\\;\\; \\text{Grandstd}=0.564738\n",
    "\\end{equation}\n",
    "\n",
    "#### razon: \n",
    "\n",
    "\\begin{equation}\n",
    "\\text{Grandmean}= 1.030943\\;\\;\\; \\text{Grandstd}=0.005647\n",
    "\\end{equation}"
   ]
  },
  {
   "cell_type": "code",
   "execution_count": 382,
   "metadata": {
    "collapsed": true
   },
   "outputs": [],
   "source": [
    "z=np.array(data['AjustemV'])"
   ]
  },
  {
   "cell_type": "code",
   "execution_count": 383,
   "metadata": {
    "collapsed": true
   },
   "outputs": [],
   "source": [
    "np.savetxt('automatlab.txt',z,delimiter=\" \",fmt='%s')"
   ]
  },
  {
   "cell_type": "code",
   "execution_count": null,
   "metadata": {
    "collapsed": true
   },
   "outputs": [],
   "source": []
  }
 ],
 "metadata": {
  "kernelspec": {
   "display_name": "Python 3",
   "language": "python",
   "name": "python3"
  },
  "language_info": {
   "codemirror_mode": {
    "name": "ipython",
    "version": 3
   },
   "file_extension": ".py",
   "mimetype": "text/x-python",
   "name": "python",
   "nbconvert_exporter": "python",
   "pygments_lexer": "ipython3",
   "version": "3.5.5"
  }
 },
 "nbformat": 4,
 "nbformat_minor": 2
}
