{
 "cells": [
  {
   "cell_type": "code",
   "execution_count": 325,
   "metadata": {
    "collapsed": true
   },
   "outputs": [],
   "source": [
    "import numpy as np\n",
    "import pandas as pd\n",
    "import matplotlib.pyplot as plt\n",
    "from scipy import stats\n",
    "from scipy.stats import norm\n",
    "#### Paquete de tiempo\n",
    "import datetime\n",
    "\n",
    "%matplotlib inline\n",
    "\n",
    "#Para cargar los datos\n",
    "\n",
    "################################\n",
    "######  MEDICINA NUCLEAR #######\n",
    "################################\n",
    "\n",
    "###Activimetro CRC 25 PET con fuente Cs-137\n",
    "#data = pd.read_csv('ActPET.txt', delim_whitespace =True)\n",
    "\n",
    "###Activimetro 55tR con fuente Co-57\n",
    "data = pd.read_csv('ActSPECT.txt', delim_whitespace =True)\n",
    "\n",
    "\n",
    "#data.head()"
   ]
  },
  {
   "cell_type": "code",
   "execution_count": 326,
   "metadata": {},
   "outputs": [
    {
     "data": {
      "text/html": [
       "<div>\n",
       "<table border=\"1\" class=\"dataframe\">\n",
       "  <thead>\n",
       "    <tr style=\"text-align: right;\">\n",
       "      <th></th>\n",
       "      <th>Number</th>\n",
       "      <th>AjustemV</th>\n",
       "      <th>Fondo</th>\n",
       "      <th>Voltaje</th>\n",
       "      <th>Actividad</th>\n",
       "      <th>Desviacion</th>\n",
       "    </tr>\n",
       "  </thead>\n",
       "  <tbody>\n",
       "    <tr>\n",
       "      <th>count</th>\n",
       "      <td>439.00000</td>\n",
       "      <td>439.000000</td>\n",
       "      <td>439.000000</td>\n",
       "      <td>439.000000</td>\n",
       "      <td>439.000000</td>\n",
       "      <td>439.000000</td>\n",
       "    </tr>\n",
       "    <tr>\n",
       "      <th>mean</th>\n",
       "      <td>220.00000</td>\n",
       "      <td>0.018314</td>\n",
       "      <td>2.355877</td>\n",
       "      <td>155.296583</td>\n",
       "      <td>352.553531</td>\n",
       "      <td>-1.885011</td>\n",
       "    </tr>\n",
       "    <tr>\n",
       "      <th>std</th>\n",
       "      <td>126.87264</td>\n",
       "      <td>0.029016</td>\n",
       "      <td>3.189927</td>\n",
       "      <td>0.031870</td>\n",
       "      <td>177.048141</td>\n",
       "      <td>0.639048</td>\n",
       "    </tr>\n",
       "    <tr>\n",
       "      <th>min</th>\n",
       "      <td>1.00000</td>\n",
       "      <td>0.010000</td>\n",
       "      <td>0.250000</td>\n",
       "      <td>155.000000</td>\n",
       "      <td>128.000000</td>\n",
       "      <td>-4.300000</td>\n",
       "    </tr>\n",
       "    <tr>\n",
       "      <th>25%</th>\n",
       "      <td>110.50000</td>\n",
       "      <td>0.010000</td>\n",
       "      <td>0.330000</td>\n",
       "      <td>155.300000</td>\n",
       "      <td>200.600000</td>\n",
       "      <td>-2.200000</td>\n",
       "    </tr>\n",
       "    <tr>\n",
       "      <th>50%</th>\n",
       "      <td>220.00000</td>\n",
       "      <td>0.010000</td>\n",
       "      <td>0.450000</td>\n",
       "      <td>155.300000</td>\n",
       "      <td>306.000000</td>\n",
       "      <td>-2.000000</td>\n",
       "    </tr>\n",
       "    <tr>\n",
       "      <th>75%</th>\n",
       "      <td>329.50000</td>\n",
       "      <td>0.020000</td>\n",
       "      <td>2.735000</td>\n",
       "      <td>155.300000</td>\n",
       "      <td>472.000000</td>\n",
       "      <td>-1.800000</td>\n",
       "    </tr>\n",
       "    <tr>\n",
       "      <th>max</th>\n",
       "      <td>439.00000</td>\n",
       "      <td>0.260000</td>\n",
       "      <td>11.860000</td>\n",
       "      <td>155.300000</td>\n",
       "      <td>748.000000</td>\n",
       "      <td>1.600000</td>\n",
       "    </tr>\n",
       "  </tbody>\n",
       "</table>\n",
       "</div>"
      ],
      "text/plain": [
       "          Number    AjustemV       Fondo     Voltaje   Actividad  Desviacion\n",
       "count  439.00000  439.000000  439.000000  439.000000  439.000000  439.000000\n",
       "mean   220.00000    0.018314    2.355877  155.296583  352.553531   -1.885011\n",
       "std    126.87264    0.029016    3.189927    0.031870  177.048141    0.639048\n",
       "min      1.00000    0.010000    0.250000  155.000000  128.000000   -4.300000\n",
       "25%    110.50000    0.010000    0.330000  155.300000  200.600000   -2.200000\n",
       "50%    220.00000    0.010000    0.450000  155.300000  306.000000   -2.000000\n",
       "75%    329.50000    0.020000    2.735000  155.300000  472.000000   -1.800000\n",
       "max    439.00000    0.260000   11.860000  155.300000  748.000000    1.600000"
      ]
     },
     "execution_count": 326,
     "metadata": {},
     "output_type": "execute_result"
    }
   ],
   "source": [
    "data.describe()"
   ]
  },
  {
   "cell_type": "code",
   "execution_count": 327,
   "metadata": {
    "collapsed": true
   },
   "outputs": [],
   "source": [
    "##### de mCi a Bq\n",
    "mcibq=3.7E7\n",
    "\n",
    "##### de uCi a Bq\n",
    "ucibq=3.7E4"
   ]
  },
  {
   "cell_type": "markdown",
   "metadata": {},
   "source": [
    "## Fuentes Chequeo MN"
   ]
  },
  {
   "cell_type": "code",
   "execution_count": 328,
   "metadata": {
    "collapsed": true
   },
   "outputs": [],
   "source": [
    "### Fuentes de Chequeo en Medicina Nuclear \n",
    "\n",
    "##############################\n",
    "########   Co 57  ###########\n",
    "\n",
    "#Fecha de referencia\n",
    "# primero de noviembre de 2015\n",
    "Co='01/11/2015'\n",
    "Co57= datetime.datetime.strptime(Co,'%d/%m/%Y')\n",
    "#Actividad en mCi\n",
    "AcCo= 5.774\n",
    "#Actividad en Bq [1/s]\n",
    "#AcCobq= AcCo*mcibq\n",
    "### half life [días]\n",
    "HLCo= 271.74\n",
    "### half life [s]\n",
    "HLCobq= 271.74*86400\n",
    "### Lambda\n",
    "Lambdaco= np.log(2)/HLCo\n",
    "### Lambda [1/s]\n",
    "Lambdacobq= np.log(2)/HLCobq\n",
    "\n",
    "#############################################\n",
    "######## Medicina Nuclear Cs 137  ###########\n",
    "\n",
    "#Fecha de referencia\n",
    "# primero de noviembre de 2015\n",
    "Cs='01/11/2015'\n",
    "Cs137= datetime.datetime.strptime(Cs,'%d/%m/%Y')\n",
    "#Actividad en uCi\n",
    "AcCs= 214.9\n",
    "#Actividad en Bq [1/s]\n",
    "#AcCsbq= AcCs*ucibq\n",
    "### half life  [días]\n",
    "HLCs= 30.08*365\n",
    "### half life [s]\n",
    "HLCsbq= HLCs*86400\n",
    "### Lambda\n",
    "Lambdacs= np.log(2)/HLCs\n",
    "### Lambda [1/s]\n",
    "Lambdacsbq= np.log(2)/HLCsbq\n",
    "\n",
    "\n",
    "\n",
    "#############################################\n",
    "######## Radiofarmacia Cs 137  ###########\n",
    "\n",
    "#Fecha de referencia\n",
    "# primero de Abril de 2007\n",
    "#Csrf='01/04/2007'\n",
    "#Cs137rf= datetime.datetime.strptime(Csrf,'%d/%m/%Y')\n",
    "#Actividad en uCi\n",
    "#AcCsrf= 190.1\n",
    "#Actividad en Bq [1/s]\n",
    "#AcCsrfbq= AcCsrf*ucibq\n",
    "\n",
    "\n",
    "### Lambda\n",
    "Lambdacsrf= np.log(2)/HLCs"
   ]
  },
  {
   "cell_type": "code",
   "execution_count": 329,
   "metadata": {
    "collapsed": true
   },
   "outputs": [],
   "source": [
    "# import the visualization package: seaborn\n",
    "#import seaborn as sns"
   ]
  },
  {
   "cell_type": "code",
   "execution_count": 330,
   "metadata": {
    "collapsed": true
   },
   "outputs": [],
   "source": [
    "#sns.set_context(\"talk\",font_scale=1.4)"
   ]
  },
  {
   "cell_type": "markdown",
   "metadata": {},
   "source": [
    "# PHASE 1 "
   ]
  },
  {
   "cell_type": "code",
   "execution_count": null,
   "metadata": {
    "collapsed": true
   },
   "outputs": [],
   "source": []
  },
  {
   "cell_type": "markdown",
   "metadata": {},
   "source": [
    "## Medición de actividad "
   ]
  },
  {
   "cell_type": "code",
   "execution_count": 331,
   "metadata": {
    "collapsed": true
   },
   "outputs": [],
   "source": [
    "##########   Co-57\n",
    "#data['Incer']=(np.sqrt((data['Actividad']*mcibq)*Lambdacobq))/mcibq\n",
    "\n",
    "##########   Cs-137\n",
    "#data['Incer']=(np.sqrt((data['Actividad']*ucibq)*Lambdacsbq))/ucibq"
   ]
  },
  {
   "cell_type": "markdown",
   "metadata": {},
   "source": [
    "### Practical Mathematics in Nuclear Medicine Technology, Patricia Wells"
   ]
  },
  {
   "cell_type": "code",
   "execution_count": 332,
   "metadata": {
    "collapsed": true
   },
   "outputs": [],
   "source": [
    "################# Elapsed time ###############\n",
    "\n",
    "#data[\"Fecha\"][0]\n",
    "\n",
    "d = pd.to_datetime(data[\"Fecha\"],format='%m/%d/%y')\n",
    "###Cobalto 57\n",
    "timeE=(d-Co57)\n",
    "\n",
    "### Cesio 137\n",
    "#timeE=(d-Cs137)\n",
    "#timeE=(d-Cs137rf)"
   ]
  },
  {
   "cell_type": "code",
   "execution_count": 333,
   "metadata": {
    "collapsed": true
   },
   "outputs": [],
   "source": [
    "data['timeE']=timeE.dt.days.values"
   ]
  },
  {
   "cell_type": "code",
   "execution_count": 334,
   "metadata": {
    "collapsed": true
   },
   "outputs": [],
   "source": [
    "############# Expected Activity ###########\n",
    "#### Act =Act_oe^{-\\lambda t}\n",
    "\n",
    "###Cobalto 57\n",
    "Actco=AcCo*np.exp(-Lambdaco*data[\"timeE\"])*1000\n",
    "\n",
    "###Cesio 137\n",
    "#Actcs=AcCs*np.exp(-Lambdacs*data[\"timeE\"])"
   ]
  },
  {
   "cell_type": "code",
   "execution_count": 335,
   "metadata": {
    "collapsed": true
   },
   "outputs": [],
   "source": [
    "#### Cobalto 57\n",
    "data['EAct']=round(Actco,1)\n",
    "#### Cesio 137\n",
    "#data['EAct']=round(Actcs,1)"
   ]
  },
  {
   "cell_type": "code",
   "execution_count": 336,
   "metadata": {
    "collapsed": true
   },
   "outputs": [],
   "source": [
    "############# Acceptable Range of dose calibrator readings ###########\n",
    "\n",
    "### 10% ó 5%\n",
    "X=data['EAct']*(0.05)\n",
    "\n",
    "\n",
    "### Rango\n",
    "Rmin=np.round(data['EAct']-X,1)\n",
    "Rmax=np.round(data['EAct']+X,1)\n",
    "\n",
    "\n",
    "### Ingresar datos en el data \n",
    "data['Rmin']=Rmin\n",
    "data['Rmax']=Rmax"
   ]
  },
  {
   "cell_type": "code",
   "execution_count": 337,
   "metadata": {
    "collapsed": true
   },
   "outputs": [],
   "source": [
    "### Plot the data\n",
    "#ax1=plt.subplot(1,1,1)\n",
    "\n",
    "#ax1.errorbar(data['Number'],data['Actividad'],yerr=data['Incer'],fmt='.r',label='Experimento',capsize=6)\n",
    "#ax1.plot(data['Number'],data['Rmin'],'b--')\n",
    "#ax1.plot(data['Number'],data['Rmax'],'b--')\n",
    "\n",
    "\n",
    "#ax1.set_title('Actividad Co-57 CRC 55tR MN',fontsize=14)\n",
    "#ax1.set_xlabel('Número de Medida diaria',fontsize=14)\n",
    "#ax1.set_ylabel('Actividad [$\\mu$Ci]',fontsize=14)\n",
    "#ax1.tick_params(axis='both',labelsize=14)\n",
    "#ax1.legend()\n",
    "#ax1.set_yscale('log')\n",
    "## Set second y-axis for MBq\n",
    "#ax2 = ax1.twinx()\n",
    "#kBqs = np.linspace(data['Actividad'].min(),data['Actividad'].max()*37,6) # Actividad en MBq\n",
    "#ax2.set_yticks(kBqs/37) # Ponga los ticks\n",
    "#ax2.set_yticklabels(kBqs.astype(int)) # Ponga los Labels\n",
    "#ax2.yaxis.set_ticks_position('right') # set the position of the second x-axis to bottom\n",
    "#ax2.yaxis.set_label_position('right') # set the position of the second x-axis to bottom\n",
    "#ax2.spines['right'].set_position(('outward', 0))\n",
    "#ax2.set_ylabel('Actividad [kBq]',fontsize=14)\n",
    "#ax2.set_ylim(ax1.get_ylim())\n",
    "#ax2.tick_params(axis='y',labelsize=14)\n",
    "\n",
    "\n",
    "#plt.savefig('mncrc55tRcs.pdf')\n",
    "\n",
    "#plt.legend()\n",
    "#plt.title('TODOS')\n",
    "#plt.ylabel('Actividad [$\\mu$Ci]')\n",
    "#plt.xlabel('Measurement number')"
   ]
  },
  {
   "cell_type": "markdown",
   "metadata": {},
   "source": [
    "#### Percent error for dose calibrator accuracy and constancy, Pag 104"
   ]
  },
  {
   "cell_type": "code",
   "execution_count": 338,
   "metadata": {
    "collapsed": true
   },
   "outputs": [],
   "source": [
    "##Diferencia\n",
    "#perce=np.absolute(((data['EAct']-data['Actividad'])*100)/data['EAct'])\n",
    "perce=(-(data['EAct']-data['Actividad'])*100)/data['EAct']\n",
    "\n",
    "\n",
    "percent=round(perce,1)\n",
    "\n",
    "### Ingresar datos en el data \n",
    "data['percent']=percent\n",
    "#percent"
   ]
  },
  {
   "cell_type": "code",
   "execution_count": 339,
   "metadata": {
    "collapsed": true
   },
   "outputs": [],
   "source": [
    "#plt.plot(data['Number'],data['percent'],'bo-')\n",
    "#plt.plot((0, 439),(5,5), 'k:', linewidth=2) \n",
    "#plt.plot((0, 439),(-5,-5), 'k:', linewidth=2) "
   ]
  },
  {
   "cell_type": "markdown",
   "metadata": {},
   "source": [
    "#### Percent Outside"
   ]
  },
  {
   "cell_type": "code",
   "execution_count": 340,
   "metadata": {},
   "outputs": [
    {
     "data": {
      "text/plain": [
       "4"
      ]
     },
     "execution_count": 340,
     "metadata": {},
     "output_type": "execute_result"
    }
   ],
   "source": [
    "len(data[(np.absolute(data['percent'])>5.0)])"
   ]
  },
  {
   "cell_type": "code",
   "execution_count": 341,
   "metadata": {},
   "outputs": [
    {
     "data": {
      "text/html": [
       "<div>\n",
       "<table border=\"1\" class=\"dataframe\">\n",
       "  <thead>\n",
       "    <tr style=\"text-align: right;\">\n",
       "      <th></th>\n",
       "      <th>Number</th>\n",
       "      <th>Fecha</th>\n",
       "      <th>AjustemV</th>\n",
       "      <th>Fondo</th>\n",
       "      <th>Voltaje</th>\n",
       "      <th>Actividad</th>\n",
       "      <th>Desviacion</th>\n",
       "      <th>timeE</th>\n",
       "      <th>EAct</th>\n",
       "      <th>Rmin</th>\n",
       "      <th>Rmax</th>\n",
       "      <th>percent</th>\n",
       "    </tr>\n",
       "  </thead>\n",
       "  <tbody>\n",
       "    <tr>\n",
       "      <th>25</th>\n",
       "      <td>26</td>\n",
       "      <td>02/07/18</td>\n",
       "      <td>0.02</td>\n",
       "      <td>0.34</td>\n",
       "      <td>155.3</td>\n",
       "      <td>646.0</td>\n",
       "      <td>-1.6</td>\n",
       "      <td>829</td>\n",
       "      <td>696.8</td>\n",
       "      <td>662.0</td>\n",
       "      <td>731.6</td>\n",
       "      <td>-7.3</td>\n",
       "    </tr>\n",
       "    <tr>\n",
       "      <th>67</th>\n",
       "      <td>68</td>\n",
       "      <td>04/16/18</td>\n",
       "      <td>0.01</td>\n",
       "      <td>0.38</td>\n",
       "      <td>155.3</td>\n",
       "      <td>674.0</td>\n",
       "      <td>-2.0</td>\n",
       "      <td>897</td>\n",
       "      <td>585.9</td>\n",
       "      <td>556.6</td>\n",
       "      <td>615.2</td>\n",
       "      <td>15.0</td>\n",
       "    </tr>\n",
       "    <tr>\n",
       "      <th>377</th>\n",
       "      <td>378</td>\n",
       "      <td>08/20/19</td>\n",
       "      <td>0.01</td>\n",
       "      <td>0.30</td>\n",
       "      <td>155.3</td>\n",
       "      <td>154.0</td>\n",
       "      <td>-2.0</td>\n",
       "      <td>1388</td>\n",
       "      <td>167.4</td>\n",
       "      <td>159.0</td>\n",
       "      <td>175.8</td>\n",
       "      <td>-8.0</td>\n",
       "    </tr>\n",
       "    <tr>\n",
       "      <th>435</th>\n",
       "      <td>436</td>\n",
       "      <td>11/20/19</td>\n",
       "      <td>0.01</td>\n",
       "      <td>2.01</td>\n",
       "      <td>155.3</td>\n",
       "      <td>182.4</td>\n",
       "      <td>-2.1</td>\n",
       "      <td>1480</td>\n",
       "      <td>132.4</td>\n",
       "      <td>125.8</td>\n",
       "      <td>139.0</td>\n",
       "      <td>37.8</td>\n",
       "    </tr>\n",
       "  </tbody>\n",
       "</table>\n",
       "</div>"
      ],
      "text/plain": [
       "     Number     Fecha  AjustemV  Fondo  Voltaje  Actividad  Desviacion  timeE  \\\n",
       "25       26  02/07/18      0.02   0.34    155.3      646.0        -1.6    829   \n",
       "67       68  04/16/18      0.01   0.38    155.3      674.0        -2.0    897   \n",
       "377     378  08/20/19      0.01   0.30    155.3      154.0        -2.0   1388   \n",
       "435     436  11/20/19      0.01   2.01    155.3      182.4        -2.1   1480   \n",
       "\n",
       "      EAct   Rmin   Rmax  percent  \n",
       "25   696.8  662.0  731.6     -7.3  \n",
       "67   585.9  556.6  615.2     15.0  \n",
       "377  167.4  159.0  175.8     -8.0  \n",
       "435  132.4  125.8  139.0     37.8  "
      ]
     },
     "execution_count": 341,
     "metadata": {},
     "output_type": "execute_result"
    }
   ],
   "source": [
    "data[(np.absolute(data['percent'])>5.0)]"
   ]
  },
  {
   "cell_type": "markdown",
   "metadata": {},
   "source": [
    "### Razones de Actividades \n",
    "\\begin{equation}\n",
    "\\frac{\\text{Actividad Medida}}{\\text{Actividad Esperada}}\n",
    "\\end{equation}"
   ]
  },
  {
   "cell_type": "code",
   "execution_count": 342,
   "metadata": {
    "collapsed": true
   },
   "outputs": [],
   "source": [
    "razon=data['Actividad']/data['EAct']\n",
    "#razoninc=data['Incer']/data['EAct']\n",
    "data['razon']=round(razon,3)\n",
    "#data['razon'].head(10)"
   ]
  },
  {
   "cell_type": "markdown",
   "metadata": {},
   "source": [
    "#### Razón Outside"
   ]
  },
  {
   "cell_type": "code",
   "execution_count": 343,
   "metadata": {},
   "outputs": [
    {
     "data": {
      "text/plain": [
       "4"
      ]
     },
     "execution_count": 343,
     "metadata": {},
     "output_type": "execute_result"
    }
   ],
   "source": [
    "## Cuantos datos por fuera del rango según servicio\n",
    "len(data[(data['razon']<0.95) | (data['razon']>1.05)])"
   ]
  },
  {
   "cell_type": "code",
   "execution_count": 344,
   "metadata": {
    "collapsed": true
   },
   "outputs": [],
   "source": [
    "#data[(data['razon']<0.95) | (data['razon']>1.05)]"
   ]
  },
  {
   "cell_type": "markdown",
   "metadata": {},
   "source": [
    "## Amplifier offset "
   ]
  },
  {
   "cell_type": "code",
   "execution_count": 345,
   "metadata": {
    "collapsed": true
   },
   "outputs": [],
   "source": [
    "#plt.plot(data['Number'],data['AjustemV'],'ob-')"
   ]
  },
  {
   "cell_type": "code",
   "execution_count": 346,
   "metadata": {
    "collapsed": true
   },
   "outputs": [],
   "source": [
    "#data['AjustemV'].value_counts()"
   ]
  },
  {
   "cell_type": "code",
   "execution_count": 347,
   "metadata": {
    "collapsed": true
   },
   "outputs": [],
   "source": [
    "###### Diferencia entre datos\n",
    "diffajuste = data.AjustemV.diff()\n",
    "diffajuste.replace(np.nan, 0.0, inplace=True)\n",
    "data['Diffzero']=diffajuste"
   ]
  },
  {
   "cell_type": "code",
   "execution_count": 348,
   "metadata": {},
   "outputs": [
    {
     "data": {
      "text/plain": [
       "count    439.000000\n",
       "mean      -0.000023\n",
       "std        0.025180\n",
       "min       -0.250000\n",
       "25%        0.000000\n",
       "50%        0.000000\n",
       "75%        0.000000\n",
       "max        0.250000\n",
       "Name: Diffzero, dtype: float64"
      ]
     },
     "execution_count": 348,
     "metadata": {},
     "output_type": "execute_result"
    }
   ],
   "source": [
    "data['Diffzero'].describe()"
   ]
  },
  {
   "cell_type": "markdown",
   "metadata": {},
   "source": [
    "#### Offset Outside"
   ]
  },
  {
   "cell_type": "code",
   "execution_count": 349,
   "metadata": {},
   "outputs": [
    {
     "data": {
      "text/plain": [
       "0"
      ]
     },
     "execution_count": 349,
     "metadata": {},
     "output_type": "execute_result"
    }
   ],
   "source": [
    "## Cuantos datos por fuera del rango según fabricante\n",
    "len(data[(np.absolute(data['Diffzero'])>0.3)])"
   ]
  },
  {
   "cell_type": "code",
   "execution_count": 350,
   "metadata": {
    "collapsed": true
   },
   "outputs": [],
   "source": [
    "#data[(np.absolute(data['Diffzero'])>0.3)]"
   ]
  },
  {
   "cell_type": "markdown",
   "metadata": {},
   "source": [
    "### Voltaje"
   ]
  },
  {
   "cell_type": "code",
   "execution_count": 351,
   "metadata": {
    "collapsed": true
   },
   "outputs": [],
   "source": [
    "#plt.plot(data['Number'],data['Voltaje'],'b-')"
   ]
  },
  {
   "cell_type": "code",
   "execution_count": 352,
   "metadata": {
    "collapsed": true
   },
   "outputs": [],
   "source": [
    "#####  EQUIPOS 15R y  25 PET\n",
    "#Z=data['Voltaje'].mean()*(0.05)\n",
    "#Zmin=data['Voltaje'].mean()-Z\n",
    "#Zmax=data['Voltaje'].mean()+Z"
   ]
  },
  {
   "cell_type": "markdown",
   "metadata": {},
   "source": [
    "#### Voltaje Outside"
   ]
  },
  {
   "cell_type": "code",
   "execution_count": 353,
   "metadata": {},
   "outputs": [
    {
     "data": {
      "text/plain": [
       "0"
      ]
     },
     "execution_count": 353,
     "metadata": {},
     "output_type": "execute_result"
    }
   ],
   "source": [
    "###fabricante 25 PET MN\n",
    "#len(data[(data['Voltaje']<Zmin) | (data['Voltaje']>Zmax)])\n",
    "## Cuantos datos por fuera del rango según fabricante 55tR MN\n",
    "len(data[(data['Voltaje']<147.5) | (data['Voltaje']>163.1)])"
   ]
  },
  {
   "cell_type": "code",
   "execution_count": 354,
   "metadata": {
    "collapsed": true
   },
   "outputs": [],
   "source": [
    "#data[(data['Voltaje']<Zmin) | (data['Voltaje']>Zmax)]"
   ]
  },
  {
   "cell_type": "markdown",
   "metadata": {},
   "source": [
    "### Fondo"
   ]
  },
  {
   "cell_type": "code",
   "execution_count": 355,
   "metadata": {
    "collapsed": true
   },
   "outputs": [],
   "source": [
    "#plt.plot(data['Number'],data['Fondo'],'ob-')"
   ]
  },
  {
   "cell_type": "code",
   "execution_count": 356,
   "metadata": {},
   "outputs": [
    {
     "data": {
      "text/plain": [
       "0"
      ]
     },
     "execution_count": 356,
     "metadata": {},
     "output_type": "execute_result"
    }
   ],
   "source": [
    "## Cuantos datos por fuera del protocolo INC \n",
    "len(data[(data['Fondo']<0.0) | (data['Fondo']>15.0)])"
   ]
  },
  {
   "cell_type": "code",
   "execution_count": 357,
   "metadata": {
    "collapsed": true
   },
   "outputs": [],
   "source": [
    "#data[(data['Fondo']<0.0) | (data['Fondo']>15.0)]"
   ]
  },
  {
   "cell_type": "markdown",
   "metadata": {},
   "source": [
    "# Limpieza Datos -Outliers\n",
    "### CAPINTEC"
   ]
  },
  {
   "cell_type": "code",
   "execution_count": 358,
   "metadata": {},
   "outputs": [
    {
     "data": {
      "text/plain": [
       "4"
      ]
     },
     "execution_count": 358,
     "metadata": {},
     "output_type": "execute_result"
    }
   ],
   "source": [
    "######  Medicina Nuclear\n",
    "###   CAPINTEC 25 PET MN \n",
    "#len(data[(data['Fondo']<0.0) | (data['Fondo']>15.0)])+ len(data[(data['razon']<0.95) | (data['razon']>1.05)])+len(data[(np.absolute(data['Diffzero'])>0.3)])+len(data[(data['Voltaje']<Zmin) | (data['Voltaje']>Zmax)])\n",
    "###   CAPINTEC 55 tR MN\n",
    "len(data[(data['Fondo']<0.0) | (data['Fondo']>15.0)])+ len(data[(data['razon']<0.95) | (data['razon']>1.05)])+len(data[(np.absolute(data['Diffzero'])>0.3)])+ len(data[(data['Voltaje']<147.5) | (data['Voltaje']>163.1)])"
   ]
  },
  {
   "cell_type": "code",
   "execution_count": 359,
   "metadata": {
    "collapsed": true
   },
   "outputs": [],
   "source": [
    "data.loc[np.absolute(data['percent'])>5.0]= np.nan\n",
    "data.dropna(subset=[\"percent\"], axis=0, inplace=True)"
   ]
  },
  {
   "cell_type": "code",
   "execution_count": 360,
   "metadata": {
    "collapsed": true
   },
   "outputs": [],
   "source": [
    "#Localización y conversión a Not a Number NaN\n",
    "data.loc[(data['razon']<0.95) | (data['razon']>1.05)]= np.nan\n",
    "# simply drop whole row with NaN in \"razon\" column\n",
    "data.dropna(subset=[\"razon\"], axis=0, inplace=True)"
   ]
  },
  {
   "cell_type": "code",
   "execution_count": 361,
   "metadata": {
    "collapsed": true
   },
   "outputs": [],
   "source": [
    "#Localización y conversión a Not a Number NaN\n",
    "data.loc[np.absolute(data['Diffzero'])>0.3]= np.nan\n",
    "# simply drop whole row with NaN in \"Fondo\" column\n",
    "data.dropna(subset=[\"Diffzero\"], axis=0, inplace=True)"
   ]
  },
  {
   "cell_type": "code",
   "execution_count": 362,
   "metadata": {
    "collapsed": true
   },
   "outputs": [],
   "source": [
    "#Localización y conversión a Not a Number NaN\n",
    "data.loc[(data['Fondo']<0.0) | (data['Fondo']>15.0)]= np.nan\n",
    "# simply drop whole row with NaN in \"Fondo\" column\n",
    "data.dropna(subset=[\"Fondo\"], axis=0, inplace=True)"
   ]
  },
  {
   "cell_type": "markdown",
   "metadata": {},
   "source": [
    "### Voltaje"
   ]
  },
  {
   "cell_type": "code",
   "execution_count": 363,
   "metadata": {
    "collapsed": true
   },
   "outputs": [],
   "source": [
    "##########################   Voltaje  ######################################\n",
    "#Localización y conversión a Not a Number NaN\n",
    "####### CAPINTEC 25 PET MN\n",
    "#data.loc[(data['Voltaje']<Zmin) | (data['Voltaje']>Zmax)]= np.nan\n",
    "####### CAPINTEC 55 tR MN\n",
    "data.loc[(data['Voltaje']<147.5) | (data['Voltaje']>163.1)]= np.nan"
   ]
  },
  {
   "cell_type": "code",
   "execution_count": 364,
   "metadata": {
    "collapsed": true
   },
   "outputs": [],
   "source": [
    "# simply drop whole row with NaN in \"Voltaje\" column\n",
    "data.dropna(subset=[\"Voltaje\"], axis=0, inplace=True)"
   ]
  },
  {
   "cell_type": "code",
   "execution_count": 365,
   "metadata": {
    "collapsed": true
   },
   "outputs": [],
   "source": [
    "#reset index, because we droped rows\n",
    "data.reset_index(drop=True, inplace=True)"
   ]
  },
  {
   "cell_type": "code",
   "execution_count": 366,
   "metadata": {},
   "outputs": [
    {
     "data": {
      "text/plain": [
       "0"
      ]
     },
     "execution_count": 366,
     "metadata": {},
     "output_type": "execute_result"
    }
   ],
   "source": [
    "###   CAPINTEC 25 PET MN \n",
    "#len(data[(data['Fondo']<0.0) | (data['Fondo']>15.0)])+ len(data[(data['razon']<0.95) | (data['razon']>1.05)])+len(data[(np.absolute(data['Diffzero'])>0.3)])+len(data[(data['Voltaje']<Zmin) | (data['Voltaje']>Zmax)])\n",
    "###   CAPINTEC 55 tR MN\n",
    "len(data[(data['Fondo']<0.0) | (data['Fondo']>15.0)])+ len(data[(data['razon']<0.95) | (data['razon']>1.05)])+len(data[(np.absolute(data['Diffzero'])>0.3)])+ len(data[(data['Voltaje']<147.5) | (data['Voltaje']>163.1)])"
   ]
  },
  {
   "cell_type": "markdown",
   "metadata": {},
   "source": [
    "### Datos para Phase I"
   ]
  },
  {
   "cell_type": "code",
   "execution_count": 367,
   "metadata": {},
   "outputs": [
    {
     "data": {
      "text/html": [
       "<div>\n",
       "<table border=\"1\" class=\"dataframe\">\n",
       "  <thead>\n",
       "    <tr style=\"text-align: right;\">\n",
       "      <th></th>\n",
       "      <th>AjustemV</th>\n",
       "      <th>Diffzero</th>\n",
       "      <th>Fondo</th>\n",
       "      <th>Voltaje</th>\n",
       "      <th>percent</th>\n",
       "      <th>razon</th>\n",
       "    </tr>\n",
       "  </thead>\n",
       "  <tbody>\n",
       "    <tr>\n",
       "      <th>count</th>\n",
       "      <td>435.000000</td>\n",
       "      <td>435.000000</td>\n",
       "      <td>435.000000</td>\n",
       "      <td>435.000000</td>\n",
       "      <td>435.000000</td>\n",
       "      <td>435.000000</td>\n",
       "    </tr>\n",
       "    <tr>\n",
       "      <th>mean</th>\n",
       "      <td>0.018368</td>\n",
       "      <td>-0.000023</td>\n",
       "      <td>2.370575</td>\n",
       "      <td>155.296552</td>\n",
       "      <td>-1.306437</td>\n",
       "      <td>0.986936</td>\n",
       "    </tr>\n",
       "    <tr>\n",
       "      <th>std</th>\n",
       "      <td>0.029141</td>\n",
       "      <td>0.025295</td>\n",
       "      <td>3.200129</td>\n",
       "      <td>0.032015</td>\n",
       "      <td>1.041669</td>\n",
       "      <td>0.010417</td>\n",
       "    </tr>\n",
       "    <tr>\n",
       "      <th>min</th>\n",
       "      <td>0.010000</td>\n",
       "      <td>-0.250000</td>\n",
       "      <td>0.250000</td>\n",
       "      <td>155.000000</td>\n",
       "      <td>-3.600000</td>\n",
       "      <td>0.964000</td>\n",
       "    </tr>\n",
       "    <tr>\n",
       "      <th>25%</th>\n",
       "      <td>0.010000</td>\n",
       "      <td>0.000000</td>\n",
       "      <td>0.330000</td>\n",
       "      <td>155.300000</td>\n",
       "      <td>-2.200000</td>\n",
       "      <td>0.978000</td>\n",
       "    </tr>\n",
       "    <tr>\n",
       "      <th>50%</th>\n",
       "      <td>0.010000</td>\n",
       "      <td>0.000000</td>\n",
       "      <td>0.460000</td>\n",
       "      <td>155.300000</td>\n",
       "      <td>-1.800000</td>\n",
       "      <td>0.982000</td>\n",
       "    </tr>\n",
       "    <tr>\n",
       "      <th>75%</th>\n",
       "      <td>0.020000</td>\n",
       "      <td>0.000000</td>\n",
       "      <td>2.760000</td>\n",
       "      <td>155.300000</td>\n",
       "      <td>-0.100000</td>\n",
       "      <td>0.999000</td>\n",
       "    </tr>\n",
       "    <tr>\n",
       "      <th>max</th>\n",
       "      <td>0.260000</td>\n",
       "      <td>0.250000</td>\n",
       "      <td>11.860000</td>\n",
       "      <td>155.300000</td>\n",
       "      <td>1.000000</td>\n",
       "      <td>1.010000</td>\n",
       "    </tr>\n",
       "  </tbody>\n",
       "</table>\n",
       "</div>"
      ],
      "text/plain": [
       "         AjustemV    Diffzero       Fondo     Voltaje     percent       razon\n",
       "count  435.000000  435.000000  435.000000  435.000000  435.000000  435.000000\n",
       "mean     0.018368   -0.000023    2.370575  155.296552   -1.306437    0.986936\n",
       "std      0.029141    0.025295    3.200129    0.032015    1.041669    0.010417\n",
       "min      0.010000   -0.250000    0.250000  155.000000   -3.600000    0.964000\n",
       "25%      0.010000    0.000000    0.330000  155.300000   -2.200000    0.978000\n",
       "50%      0.010000    0.000000    0.460000  155.300000   -1.800000    0.982000\n",
       "75%      0.020000    0.000000    2.760000  155.300000   -0.100000    0.999000\n",
       "max      0.260000    0.250000   11.860000  155.300000    1.000000    1.010000"
      ]
     },
     "execution_count": 367,
     "metadata": {},
     "output_type": "execute_result"
    }
   ],
   "source": [
    "data[['AjustemV','Diffzero','Fondo','Voltaje','percent','razon']].describe()"
   ]
  },
  {
   "cell_type": "code",
   "execution_count": 368,
   "metadata": {
    "collapsed": true
   },
   "outputs": [],
   "source": [
    "#plt.plot(data['AjustemV'])\n",
    "#plt.plot(data['Diffzero'])\n",
    "#plt.plot(data['Fondo'])\n",
    "#plt.plot(data['Voltaje'])\n",
    "#plt.plot(data['percent'])\n",
    "#plt.plot(data['razon'])"
   ]
  },
  {
   "cell_type": "code",
   "execution_count": 369,
   "metadata": {
    "collapsed": true
   },
   "outputs": [],
   "source": [
    "#plt.hist(data['AjustemV'])\n",
    "#plt.hist(data['Diffzero'])\n",
    "#plt.hist(data['Fondo'])\n",
    "#plt.hist(data['Voltaje'])\n",
    "#plt.hist(data['percent'])\n",
    "#plt.hist(data['razon'])"
   ]
  },
  {
   "cell_type": "code",
   "execution_count": 370,
   "metadata": {
    "collapsed": true
   },
   "outputs": [],
   "source": [
    "from scipy.stats import skew, kurtosis"
   ]
  },
  {
   "cell_type": "code",
   "execution_count": 371,
   "metadata": {
    "collapsed": true
   },
   "outputs": [],
   "source": [
    "#### Kurtosis\n",
    "#3+kurtosis(data['AjustemV'])"
   ]
  },
  {
   "cell_type": "code",
   "execution_count": 372,
   "metadata": {
    "collapsed": true
   },
   "outputs": [],
   "source": [
    "### Skew\n",
    "#skew(data['AjustemV'])"
   ]
  },
  {
   "cell_type": "code",
   "execution_count": 373,
   "metadata": {
    "collapsed": true
   },
   "outputs": [],
   "source": [
    "#xb=np.sort(data['AjustemV'])"
   ]
  },
  {
   "cell_type": "markdown",
   "metadata": {},
   "source": [
    "# Calculate quantiles and least-square-fit curve\n",
    "(quantiles, values), (slope, intercept, r) = stats.probplot(xb, dist='norm')\n",
    "\n",
    "#plot results\n",
    "plt.plot(values, quantiles,'+b')\n",
    "plt.plot(quantiles * slope + intercept, quantiles, 'r')\n",
    "\n",
    "#plt.xlim([1.01,1.06])\n",
    "#define ticks\n",
    "ticks_perc=[0.01, 0.05, 0.10, 0.20, 0.50, 0.80, 0.90, 0.95, 0.99]\n",
    "\n",
    "#transfrom them from precentile to cumulative density\n",
    "ticks_quan=[stats.norm.ppf(i) for i in ticks_perc]\n",
    "#assign new ticks\n",
    "plt.yticks(ticks_quan,ticks_perc)"
   ]
  },
  {
   "cell_type": "markdown",
   "metadata": {
    "collapsed": true
   },
   "source": [
    "## Capintec 25 PET MN: \n",
    "#### AjustemV: \n",
    "\n",
    "\\begin{equation}\n",
    "\\text{Kurtosis}=10.60\\;\\;\\; \\text{Skewness}=-1.42\n",
    "\\end{equation}\n",
    "    \n",
    "#### Diffzero: \n",
    "\n",
    "\\begin{equation}\n",
    "\\text{Kurtosis}=8.52\\;\\;\\; \\text{Skewness}=0.31\n",
    "\\end{equation}    \n",
    "\n",
    "#### Fondo: \n",
    "\n",
    "\\begin{equation}\n",
    "\\text{Kurtosis}=3.69\\;\\;\\; \\text{Skewness}=0.25\n",
    "\\end{equation} \n",
    "\n",
    "#### Voltaje: \n",
    "\n",
    "\\begin{equation}\n",
    "\\text{Kurtosis}=13.52\\;\\;\\; \\text{Skewness}=2.32\n",
    "\\end{equation} \n",
    "\n",
    "#### percent: \n",
    "\n",
    "\\begin{equation}\n",
    "\\text{Kurtosis}=10.06\\;\\;\\; \\text{Skewness}=-1.92\n",
    "\\end{equation} \n",
    "\n",
    "#### razon: \n",
    "\n",
    "\\begin{equation}\n",
    "\\text{Kurtosis}=10.06\\;\\;\\; \\text{Skewness}=-1.92\n",
    "\\end{equation} "
   ]
  },
  {
   "cell_type": "markdown",
   "metadata": {},
   "source": [
    "## Capintec 55 tR MN: \n",
    "#### AjustemV: \n",
    "\n",
    "\\begin{equation}\n",
    "\\text{Kurtosis}=39.376551\\;\\;\\; \\text{Skewness}=5.972\n",
    "\\end{equation}\n",
    "    \n",
    "#### Diffzero: \n",
    "\n",
    "\\begin{equation}\n",
    "\\text{Kurtosis}=69.9264829\\;\\;\\; \\text{Skewness}=0.14881\n",
    "\\end{equation}    \n",
    "\n",
    "#### Fondo: \n",
    "\n",
    "\\begin{equation}\n",
    "\\text{Kurtosis}=3.687477\\;\\;\\; \\text{Skewness}=1.4787154\n",
    "\\end{equation} \n",
    "\n",
    "#### Voltaje: \n",
    "\n",
    "\\begin{equation}\n",
    "\\text{Kurtosis}=85.0116\\;\\;\\; \\text{Skewness}=-9.1657857\n",
    "\\end{equation} \n",
    "\n",
    "#### percent: \n",
    "\n",
    "\\begin{equation}\n",
    "\\text{Kurtosis}=1.6218\\;\\;\\; \\text{Skewness}=0.3445\n",
    "\\end{equation} \n",
    "\n",
    "#### razon: \n",
    "\n",
    "\\begin{equation}\n",
    "\\text{Kurtosis}=1.6218\\;\\;\\; \\text{Skewness}=0.3445\n",
    "\\end{equation} "
   ]
  },
  {
   "cell_type": "markdown",
   "metadata": {},
   "source": [
    "Asumir normalidad según kurtosis y skewness solo posible para los datos de Fondo\n",
    "\n",
    "## Rejection data"
   ]
  },
  {
   "cell_type": "code",
   "execution_count": 374,
   "metadata": {
    "collapsed": true
   },
   "outputs": [],
   "source": [
    "to=(np.absolute(data['AjustemV']-data['AjustemV'].mean()))/data['AjustemV'].std()"
   ]
  },
  {
   "cell_type": "code",
   "execution_count": 375,
   "metadata": {
    "collapsed": true
   },
   "outputs": [],
   "source": [
    "prob=np.round(1-(norm.cdf(to)-norm.cdf(-to)),2)\n",
    "data['prob']= prob"
   ]
  },
  {
   "cell_type": "code",
   "execution_count": 376,
   "metadata": {
    "collapsed": true
   },
   "outputs": [],
   "source": [
    "no= data['AjustemV'].count()*prob\n",
    "#no"
   ]
  },
  {
   "cell_type": "code",
   "execution_count": 378,
   "metadata": {},
   "outputs": [
    {
     "data": {
      "text/plain": [
       "13"
      ]
     },
     "execution_count": 378,
     "metadata": {},
     "output_type": "execute_result"
    }
   ],
   "source": [
    "#len(no[no<0.5])\n",
    "len(no[no<4.5])"
   ]
  },
  {
   "cell_type": "code",
   "execution_count": 379,
   "metadata": {
    "collapsed": true
   },
   "outputs": [],
   "source": [
    "data['no']= no"
   ]
  },
  {
   "cell_type": "code",
   "execution_count": 380,
   "metadata": {
    "collapsed": true
   },
   "outputs": [],
   "source": [
    "data.loc[np.absolute(data['no'])<4.5]= np.nan\n",
    "data.dropna(subset=[\"no\"], axis=0, inplace=True)\n",
    "#reset index, because we droped rows\n",
    "data.reset_index(drop=True, inplace=True)"
   ]
  },
  {
   "cell_type": "code",
   "execution_count": 381,
   "metadata": {},
   "outputs": [
    {
     "data": {
      "text/plain": [
       "count    422.000000\n",
       "mean       0.013578\n",
       "std        0.004849\n",
       "min        0.010000\n",
       "25%        0.010000\n",
       "50%        0.010000\n",
       "75%        0.020000\n",
       "max        0.030000\n",
       "Name: AjustemV, dtype: float64"
      ]
     },
     "execution_count": 381,
     "metadata": {},
     "output_type": "execute_result"
    }
   ],
   "source": [
    "data['AjustemV'].describe()"
   ]
  },
  {
   "cell_type": "code",
   "execution_count": 263,
   "metadata": {
    "collapsed": true
   },
   "outputs": [],
   "source": [
    "#plt.hist(data['percent'])"
   ]
  },
  {
   "cell_type": "code",
   "execution_count": 264,
   "metadata": {
    "collapsed": true
   },
   "outputs": [],
   "source": [
    "#sigma3p=data['percent'].mean()+(3*data['percent'].std())\n",
    "#sigma3n=data['percent'].mean()-(3*data['percent'].std())"
   ]
  },
  {
   "cell_type": "code",
   "execution_count": 265,
   "metadata": {
    "collapsed": true
   },
   "outputs": [],
   "source": [
    "#grandmean=data['percent'].mean()grandmean"
   ]
  },
  {
   "cell_type": "code",
   "execution_count": 266,
   "metadata": {
    "collapsed": true
   },
   "outputs": [],
   "source": [
    "#plt.plot(data['Number'],data['percent'],'ob-')\n",
    "#plt.plot((0,350),(sigma3p,sigma3p))\n",
    "#plt.plot((0,350),(sigma3n,sigma3n))\n",
    "#plt.plot((0,350),(grandmean,grandmean))"
   ]
  },
  {
   "cell_type": "code",
   "execution_count": 267,
   "metadata": {
    "collapsed": true
   },
   "outputs": [],
   "source": [
    "### Agrupar datos \n",
    "#y= data['AjustemV'].values.reshape(87,4)"
   ]
  },
  {
   "cell_type": "code",
   "execution_count": 268,
   "metadata": {
    "collapsed": true
   },
   "outputs": [],
   "source": [
    "#subgroup= pd.DataFrame(data=y)"
   ]
  },
  {
   "cell_type": "code",
   "execution_count": 269,
   "metadata": {
    "collapsed": true
   },
   "outputs": [],
   "source": [
    "# create headers list\n",
    "#headers = [\"n1\",\"n2\",\"n3\",\"n4\"]\n",
    "#,\"n5\",\"n6\"]\n",
    "#subgroup.columns = headers"
   ]
  },
  {
   "cell_type": "code",
   "execution_count": 270,
   "metadata": {
    "collapsed": true
   },
   "outputs": [],
   "source": [
    "#mean=subgroup[[\"n1\",\"n2\",\"n3\",\"n4\"]].std(axis=1)\n",
    "#subgroup['std']= mean"
   ]
  },
  {
   "cell_type": "code",
   "execution_count": 271,
   "metadata": {
    "collapsed": true
   },
   "outputs": [],
   "source": [
    "#subgroup['std'].mean()"
   ]
  },
  {
   "cell_type": "markdown",
   "metadata": {},
   "source": [
    "# Grand\n",
    "\n",
    "## Capintec 25 PET MN: \n",
    "#### AjustemV: \n",
    "\n",
    "\\begin{equation}\n",
    "\\text{Grandmean}=-0.19482658959537574\\;\\;\\; \\text{Grandstd}=0.026\n",
    "\\end{equation}\n",
    "    \n",
    "#### Diffzero: \n",
    "\n",
    "\\begin{equation}\n",
    "\\text{Grandmean}=-0.001079\\;\\;\\; \\text{Grandstd}= 0.028791\n",
    "\\end{equation}   \n",
    "\n",
    "#### Fondo: \n",
    "\n",
    "\\begin{equation}\n",
    "\\text{Grandmean}=5.276723\\;\\;\\; \\text{Grandstd}=1.24\n",
    "\\end{equation}\n",
    "\n",
    "#### Voltaje: \n",
    "\n",
    "\\begin{equation}\n",
    "\\text{Grandmean}=513.576744\\;\\;\\; \\text{Grandstd}=0.703871\n",
    "\\end{equation}\n",
    "\n",
    "#### percent: \n",
    "\n",
    "\\begin{equation}\n",
    "\\text{Grandmean}=3.094253\\;\\;\\; \\text{Grandstd}=0.564738\n",
    "\\end{equation}\n",
    "\n",
    "#### razon: \n",
    "\n",
    "\\begin{equation}\n",
    "\\text{Grandmean}= 1.030943\\;\\;\\; \\text{Grandstd}=0.005647\n",
    "\\end{equation}"
   ]
  },
  {
   "cell_type": "code",
   "execution_count": 382,
   "metadata": {
    "collapsed": true
   },
   "outputs": [],
   "source": [
    "z=np.array(data['AjustemV'])"
   ]
  },
  {
   "cell_type": "code",
   "execution_count": 383,
   "metadata": {
    "collapsed": true
   },
   "outputs": [],
   "source": [
    "np.savetxt('automatlab.txt',z,delimiter=\" \",fmt='%s')"
   ]
  },
  {
   "cell_type": "code",
   "execution_count": null,
   "metadata": {
    "collapsed": true
   },
   "outputs": [],
   "source": []
  }
 ],
 "metadata": {
  "kernelspec": {
   "display_name": "Python 3",
   "language": "python",
   "name": "python3"
  },
  "language_info": {
   "codemirror_mode": {
    "name": "ipython",
    "version": 3
   },
   "file_extension": ".py",
   "mimetype": "text/x-python",
   "name": "python",
   "nbconvert_exporter": "python",
   "pygments_lexer": "ipython3",
   "version": "3.5.5"
  }
 },
 "nbformat": 4,
 "nbformat_minor": 2
}
