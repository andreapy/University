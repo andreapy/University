{
 "cells": [
  {
   "cell_type": "markdown",
   "metadata": {},
   "source": [
    "# Diagnostic Reference Level for Radiopharmaceuticals in NM- INC "
   ]
  },
  {
   "cell_type": "markdown",
   "metadata": {},
   "source": [
    "Elaborado por: Andrea Lizeth Lopez Rodriguez.Universidad Nacional de Colombia "
   ]
  },
  {
   "cell_type": "markdown",
   "metadata": {},
   "source": [
    "Inicialmente se importan los paquetes de Python que serán empleados en el análisis de los datos"
   ]
  },
  {
   "cell_type": "code",
   "execution_count": 65,
   "metadata": {},
   "outputs": [
    {
     "data": {
      "text/html": [
       "<div>\n",
       "<table border=\"1\" class=\"dataframe\">\n",
       "  <thead>\n",
       "    <tr style=\"text-align: right;\">\n",
       "      <th></th>\n",
       "      <th>RF</th>\n",
       "      <th>EXAM</th>\n",
       "      <th>ActAdm</th>\n",
       "      <th>Actdosi</th>\n",
       "      <th>Vol</th>\n",
       "    </tr>\n",
       "  </thead>\n",
       "  <tbody>\n",
       "    <tr>\n",
       "      <th>0</th>\n",
       "      <td>Tc</td>\n",
       "      <td>MDP</td>\n",
       "      <td>20.0</td>\n",
       "      <td>20.9</td>\n",
       "      <td>0.30</td>\n",
       "    </tr>\n",
       "    <tr>\n",
       "      <th>1</th>\n",
       "      <td>Tc</td>\n",
       "      <td>MDP</td>\n",
       "      <td>20.0</td>\n",
       "      <td>20.8</td>\n",
       "      <td>0.35</td>\n",
       "    </tr>\n",
       "    <tr>\n",
       "      <th>2</th>\n",
       "      <td>Tc</td>\n",
       "      <td>MDP</td>\n",
       "      <td>20.0</td>\n",
       "      <td>21.0</td>\n",
       "      <td>0.40</td>\n",
       "    </tr>\n",
       "    <tr>\n",
       "      <th>3</th>\n",
       "      <td>Tc</td>\n",
       "      <td>MDP</td>\n",
       "      <td>20.0</td>\n",
       "      <td>21.0</td>\n",
       "      <td>0.40</td>\n",
       "    </tr>\n",
       "    <tr>\n",
       "      <th>4</th>\n",
       "      <td>Tc</td>\n",
       "      <td>MDP</td>\n",
       "      <td>20.0</td>\n",
       "      <td>22.0</td>\n",
       "      <td>0.40</td>\n",
       "    </tr>\n",
       "  </tbody>\n",
       "</table>\n",
       "</div>"
      ],
      "text/plain": [
       "   RF EXAM  ActAdm  Actdosi   Vol\n",
       "0  Tc  MDP    20.0     20.9  0.30\n",
       "1  Tc  MDP    20.0     20.8  0.35\n",
       "2  Tc  MDP    20.0     21.0  0.40\n",
       "3  Tc  MDP    20.0     21.0  0.40\n",
       "4  Tc  MDP    20.0     22.0  0.40"
      ]
     },
     "execution_count": 65,
     "metadata": {},
     "output_type": "execute_result"
    }
   ],
   "source": [
    "import seaborn as sns\n",
    "import numpy as np\n",
    "import pandas as pd\n",
    "import matplotlib.pyplot as plt\n",
    "\n",
    "%matplotlib inline\n",
    "\n",
    "\n",
    "##Archivo plano de texto, colocar los datos y los encabezados sin espacios \n",
    "#Para cargar los datos\n",
    "data = pd.read_csv('DRLRF.txt', delim_whitespace =True)\n",
    "\n",
    "#para ver los primeros datos\n",
    "data.head()"
   ]
  },
  {
   "cell_type": "code",
   "execution_count": 66,
   "metadata": {
    "collapsed": true
   },
   "outputs": [],
   "source": [
    "from scipy import stats"
   ]
  },
  {
   "cell_type": "markdown",
   "metadata": {},
   "source": [
    "donde ActAdm -> Actividad Administrada y Actdosi -> Actividad dosificada en mCi. Vol -> Volumen en mL"
   ]
  },
  {
   "cell_type": "code",
   "execution_count": 67,
   "metadata": {},
   "outputs": [
    {
     "data": {
      "text/plain": [
       "RF          object\n",
       "EXAM        object\n",
       "ActAdm     float64\n",
       "Actdosi    float64\n",
       "Vol        float64\n",
       "dtype: object"
      ]
     },
     "execution_count": 67,
     "metadata": {},
     "output_type": "execute_result"
    }
   ],
   "source": [
    "##lista de tipos de datos por cada columna\n",
    "data.dtypes"
   ]
  },
  {
   "cell_type": "markdown",
   "metadata": {},
   "source": [
    "## Missing Values"
   ]
  },
  {
   "cell_type": "markdown",
   "metadata": {},
   "source": [
    "Eliminar los valores faltantes a lo largo de las columnas \"ActAdm\", \"Actdosi\" y \"Vol\""
   ]
  },
  {
   "cell_type": "code",
   "execution_count": 68,
   "metadata": {},
   "outputs": [
    {
     "data": {
      "text/html": [
       "<div>\n",
       "<table border=\"1\" class=\"dataframe\">\n",
       "  <thead>\n",
       "    <tr style=\"text-align: right;\">\n",
       "      <th></th>\n",
       "      <th>RF</th>\n",
       "      <th>EXAM</th>\n",
       "      <th>ActAdm</th>\n",
       "      <th>Actdosi</th>\n",
       "      <th>Vol</th>\n",
       "    </tr>\n",
       "  </thead>\n",
       "  <tbody>\n",
       "    <tr>\n",
       "      <th>0</th>\n",
       "      <td>False</td>\n",
       "      <td>False</td>\n",
       "      <td>False</td>\n",
       "      <td>False</td>\n",
       "      <td>False</td>\n",
       "    </tr>\n",
       "    <tr>\n",
       "      <th>1</th>\n",
       "      <td>False</td>\n",
       "      <td>False</td>\n",
       "      <td>False</td>\n",
       "      <td>False</td>\n",
       "      <td>False</td>\n",
       "    </tr>\n",
       "    <tr>\n",
       "      <th>2</th>\n",
       "      <td>False</td>\n",
       "      <td>False</td>\n",
       "      <td>False</td>\n",
       "      <td>False</td>\n",
       "      <td>False</td>\n",
       "    </tr>\n",
       "    <tr>\n",
       "      <th>3</th>\n",
       "      <td>False</td>\n",
       "      <td>False</td>\n",
       "      <td>False</td>\n",
       "      <td>False</td>\n",
       "      <td>False</td>\n",
       "    </tr>\n",
       "    <tr>\n",
       "      <th>4</th>\n",
       "      <td>False</td>\n",
       "      <td>False</td>\n",
       "      <td>False</td>\n",
       "      <td>False</td>\n",
       "      <td>False</td>\n",
       "    </tr>\n",
       "  </tbody>\n",
       "</table>\n",
       "</div>"
      ],
      "text/plain": [
       "      RF   EXAM ActAdm Actdosi    Vol\n",
       "0  False  False  False   False  False\n",
       "1  False  False  False   False  False\n",
       "2  False  False  False   False  False\n",
       "3  False  False  False   False  False\n",
       "4  False  False  False   False  False"
      ]
     },
     "execution_count": 68,
     "metadata": {},
     "output_type": "execute_result"
    }
   ],
   "source": [
    "missing_data = data.isnull()\n",
    "missing_data.head(5)"
   ]
  },
  {
   "cell_type": "markdown",
   "metadata": {},
   "source": [
    "### Count missing values in each column\n",
    "Using a for loop in Python, we can quickly figure out the number of missing values in each column. As mentioned above, \"True\" represents a missing value, \"False\" means the value is present in the dataset. In the body of the for loop the method \".value_counts()\" counts the number of \"True\" values."
   ]
  },
  {
   "cell_type": "code",
   "execution_count": 69,
   "metadata": {},
   "outputs": [
    {
     "name": "stdout",
     "output_type": "stream",
     "text": [
      "RF\n",
      "False    1013\n",
      "Name: RF, dtype: int64\n",
      "\n",
      "EXAM\n",
      "False    1013\n",
      "Name: EXAM, dtype: int64\n",
      "\n",
      "ActAdm\n",
      "False    1013\n",
      "Name: ActAdm, dtype: int64\n",
      "\n",
      "Actdosi\n",
      "False    1013\n",
      "Name: Actdosi, dtype: int64\n",
      "\n",
      "Vol\n",
      "False    1012\n",
      "True        1\n",
      "Name: Vol, dtype: int64\n",
      "\n"
     ]
    }
   ],
   "source": [
    "for column in missing_data.columns.values.tolist():\n",
    "    print(column)\n",
    "    print (missing_data[column].value_counts())\n",
    "    print(\"\")    "
   ]
  },
  {
   "cell_type": "markdown",
   "metadata": {},
   "source": [
    "### Deal with missing data\n",
    "Drop the whole row"
   ]
  },
  {
   "cell_type": "code",
   "execution_count": 70,
   "metadata": {
    "collapsed": true
   },
   "outputs": [],
   "source": [
    "# simply drop whole row with NaN in \"Vol\" column\n",
    "data.dropna(subset=[\"Vol\"], axis=0, inplace=True)\n",
    "\n",
    "# reset index, because we droped one row\n",
    "data.reset_index(drop=True, inplace=True)"
   ]
  },
  {
   "cell_type": "markdown",
   "metadata": {},
   "source": [
    "## Actividad especifica"
   ]
  },
  {
   "cell_type": "code",
   "execution_count": 71,
   "metadata": {
    "collapsed": true
   },
   "outputs": [],
   "source": [
    "especifica=data[\"Actdosi\"]/data[\"Vol\"]\n",
    "data['Esp']= especifica"
   ]
  },
  {
   "cell_type": "markdown",
   "metadata": {},
   "source": [
    "## Agrupar por Examen "
   ]
  },
  {
   "cell_type": "code",
   "execution_count": 72,
   "metadata": {},
   "outputs": [],
   "source": [
    "data_group_exam = data.groupby('EXAM')"
   ]
  },
  {
   "cell_type": "markdown",
   "metadata": {},
   "source": [
    "### Mediana-percentil 50 "
   ]
  },
  {
   "cell_type": "code",
   "execution_count": 73,
   "metadata": {},
   "outputs": [
    {
     "data": {
      "text/html": [
       "<div>\n",
       "<table border=\"1\" class=\"dataframe\">\n",
       "  <thead>\n",
       "    <tr style=\"text-align: right;\">\n",
       "      <th></th>\n",
       "      <th>ActAdm</th>\n",
       "      <th>Actdosi</th>\n",
       "      <th>Vol</th>\n",
       "      <th>Esp</th>\n",
       "    </tr>\n",
       "    <tr>\n",
       "      <th>EXAM</th>\n",
       "      <th></th>\n",
       "      <th></th>\n",
       "      <th></th>\n",
       "      <th></th>\n",
       "    </tr>\n",
       "  </thead>\n",
       "  <tbody>\n",
       "    <tr>\n",
       "      <th>CENTI</th>\n",
       "      <td>1.0</td>\n",
       "      <td>1.10</td>\n",
       "      <td>0.100</td>\n",
       "      <td>11.000000</td>\n",
       "    </tr>\n",
       "    <tr>\n",
       "      <th>DMSA</th>\n",
       "      <td>5.0</td>\n",
       "      <td>5.30</td>\n",
       "      <td>0.100</td>\n",
       "      <td>53.000000</td>\n",
       "    </tr>\n",
       "    <tr>\n",
       "      <th>FDG</th>\n",
       "      <td>9.5</td>\n",
       "      <td>19.30</td>\n",
       "      <td>1.800</td>\n",
       "      <td>13.100000</td>\n",
       "    </tr>\n",
       "    <tr>\n",
       "      <th>FILTRA</th>\n",
       "      <td>3.0</td>\n",
       "      <td>3.18</td>\n",
       "      <td>0.200</td>\n",
       "      <td>16.000000</td>\n",
       "    </tr>\n",
       "    <tr>\n",
       "      <th>GADOTA</th>\n",
       "      <td>4.6</td>\n",
       "      <td>5.49</td>\n",
       "      <td>7.500</td>\n",
       "      <td>0.813333</td>\n",
       "    </tr>\n",
       "    <tr>\n",
       "      <th>GAPSMA</th>\n",
       "      <td>5.3</td>\n",
       "      <td>5.50</td>\n",
       "      <td>8.000</td>\n",
       "      <td>0.716667</td>\n",
       "    </tr>\n",
       "    <tr>\n",
       "      <th>GPARA</th>\n",
       "      <td>20.0</td>\n",
       "      <td>19.94</td>\n",
       "      <td>0.375</td>\n",
       "      <td>53.421429</td>\n",
       "    </tr>\n",
       "    <tr>\n",
       "      <th>MDP</th>\n",
       "      <td>20.0</td>\n",
       "      <td>22.00</td>\n",
       "      <td>0.350</td>\n",
       "      <td>66.666667</td>\n",
       "    </tr>\n",
       "    <tr>\n",
       "      <th>RENO</th>\n",
       "      <td>3.0</td>\n",
       "      <td>3.24</td>\n",
       "      <td>0.200</td>\n",
       "      <td>16.000000</td>\n",
       "    </tr>\n",
       "    <tr>\n",
       "      <th>ROLLT</th>\n",
       "      <td>3.0</td>\n",
       "      <td>3.10</td>\n",
       "      <td>0.200</td>\n",
       "      <td>15.500000</td>\n",
       "    </tr>\n",
       "    <tr>\n",
       "      <th>VENTRI</th>\n",
       "      <td>20.0</td>\n",
       "      <td>22.00</td>\n",
       "      <td>0.200</td>\n",
       "      <td>110.000000</td>\n",
       "    </tr>\n",
       "  </tbody>\n",
       "</table>\n",
       "</div>"
      ],
      "text/plain": [
       "        ActAdm  Actdosi    Vol         Esp\n",
       "EXAM                                      \n",
       "CENTI      1.0     1.10  0.100   11.000000\n",
       "DMSA       5.0     5.30  0.100   53.000000\n",
       "FDG        9.5    19.30  1.800   13.100000\n",
       "FILTRA     3.0     3.18  0.200   16.000000\n",
       "GADOTA     4.6     5.49  7.500    0.813333\n",
       "GAPSMA     5.3     5.50  8.000    0.716667\n",
       "GPARA     20.0    19.94  0.375   53.421429\n",
       "MDP       20.0    22.00  0.350   66.666667\n",
       "RENO       3.0     3.24  0.200   16.000000\n",
       "ROLLT      3.0     3.10  0.200   15.500000\n",
       "VENTRI    20.0    22.00  0.200  110.000000"
      ]
     },
     "execution_count": 73,
     "metadata": {},
     "output_type": "execute_result"
    }
   ],
   "source": [
    "data_group_exam.median()"
   ]
  },
  {
   "cell_type": "markdown",
   "metadata": {},
   "source": [
    "### Minimo"
   ]
  },
  {
   "cell_type": "code",
   "execution_count": 74,
   "metadata": {},
   "outputs": [
    {
     "data": {
      "text/html": [
       "<div>\n",
       "<table border=\"1\" class=\"dataframe\">\n",
       "  <thead>\n",
       "    <tr style=\"text-align: right;\">\n",
       "      <th></th>\n",
       "      <th>RF</th>\n",
       "      <th>ActAdm</th>\n",
       "      <th>Actdosi</th>\n",
       "      <th>Vol</th>\n",
       "      <th>Esp</th>\n",
       "    </tr>\n",
       "    <tr>\n",
       "      <th>EXAM</th>\n",
       "      <th></th>\n",
       "      <th></th>\n",
       "      <th></th>\n",
       "      <th></th>\n",
       "      <th></th>\n",
       "    </tr>\n",
       "  </thead>\n",
       "  <tbody>\n",
       "    <tr>\n",
       "      <th>CENTI</th>\n",
       "      <td>Tc</td>\n",
       "      <td>0.25</td>\n",
       "      <td>0.21</td>\n",
       "      <td>0.10</td>\n",
       "      <td>2.100000</td>\n",
       "    </tr>\n",
       "    <tr>\n",
       "      <th>DMSA</th>\n",
       "      <td>Tc</td>\n",
       "      <td>5.00</td>\n",
       "      <td>5.30</td>\n",
       "      <td>0.10</td>\n",
       "      <td>53.000000</td>\n",
       "    </tr>\n",
       "    <tr>\n",
       "      <th>FDG</th>\n",
       "      <td>F</td>\n",
       "      <td>2.50</td>\n",
       "      <td>3.06</td>\n",
       "      <td>1.00</td>\n",
       "      <td>1.530000</td>\n",
       "    </tr>\n",
       "    <tr>\n",
       "      <th>FILTRA</th>\n",
       "      <td>Tc</td>\n",
       "      <td>3.00</td>\n",
       "      <td>3.00</td>\n",
       "      <td>0.10</td>\n",
       "      <td>3.000000</td>\n",
       "    </tr>\n",
       "    <tr>\n",
       "      <th>GADOTA</th>\n",
       "      <td>Ga</td>\n",
       "      <td>2.50</td>\n",
       "      <td>2.60</td>\n",
       "      <td>3.00</td>\n",
       "      <td>0.325000</td>\n",
       "    </tr>\n",
       "    <tr>\n",
       "      <th>GAPSMA</th>\n",
       "      <td>Ga</td>\n",
       "      <td>3.50</td>\n",
       "      <td>3.30</td>\n",
       "      <td>4.00</td>\n",
       "      <td>0.412500</td>\n",
       "    </tr>\n",
       "    <tr>\n",
       "      <th>GPARA</th>\n",
       "      <td>Tc</td>\n",
       "      <td>20.00</td>\n",
       "      <td>19.88</td>\n",
       "      <td>0.35</td>\n",
       "      <td>49.700000</td>\n",
       "    </tr>\n",
       "    <tr>\n",
       "      <th>MDP</th>\n",
       "      <td>Tc</td>\n",
       "      <td>15.00</td>\n",
       "      <td>15.00</td>\n",
       "      <td>0.15</td>\n",
       "      <td>23.090909</td>\n",
       "    </tr>\n",
       "    <tr>\n",
       "      <th>RENO</th>\n",
       "      <td>Tc</td>\n",
       "      <td>3.00</td>\n",
       "      <td>3.00</td>\n",
       "      <td>0.10</td>\n",
       "      <td>11.600000</td>\n",
       "    </tr>\n",
       "    <tr>\n",
       "      <th>ROLLT</th>\n",
       "      <td>Tc</td>\n",
       "      <td>3.00</td>\n",
       "      <td>3.07</td>\n",
       "      <td>0.16</td>\n",
       "      <td>12.600000</td>\n",
       "    </tr>\n",
       "    <tr>\n",
       "      <th>VENTRI</th>\n",
       "      <td>Tc</td>\n",
       "      <td>20.00</td>\n",
       "      <td>20.00</td>\n",
       "      <td>0.10</td>\n",
       "      <td>13.400000</td>\n",
       "    </tr>\n",
       "  </tbody>\n",
       "</table>\n",
       "</div>"
      ],
      "text/plain": [
       "        RF  ActAdm  Actdosi   Vol        Esp\n",
       "EXAM                                        \n",
       "CENTI   Tc    0.25     0.21  0.10   2.100000\n",
       "DMSA    Tc    5.00     5.30  0.10  53.000000\n",
       "FDG      F    2.50     3.06  1.00   1.530000\n",
       "FILTRA  Tc    3.00     3.00  0.10   3.000000\n",
       "GADOTA  Ga    2.50     2.60  3.00   0.325000\n",
       "GAPSMA  Ga    3.50     3.30  4.00   0.412500\n",
       "GPARA   Tc   20.00    19.88  0.35  49.700000\n",
       "MDP     Tc   15.00    15.00  0.15  23.090909\n",
       "RENO    Tc    3.00     3.00  0.10  11.600000\n",
       "ROLLT   Tc    3.00     3.07  0.16  12.600000\n",
       "VENTRI  Tc   20.00    20.00  0.10  13.400000"
      ]
     },
     "execution_count": 74,
     "metadata": {},
     "output_type": "execute_result"
    }
   ],
   "source": [
    "data_group_exam.min()"
   ]
  },
  {
   "cell_type": "markdown",
   "metadata": {},
   "source": [
    "### Máximo"
   ]
  },
  {
   "cell_type": "code",
   "execution_count": 75,
   "metadata": {},
   "outputs": [
    {
     "data": {
      "text/html": [
       "<div>\n",
       "<table border=\"1\" class=\"dataframe\">\n",
       "  <thead>\n",
       "    <tr style=\"text-align: right;\">\n",
       "      <th></th>\n",
       "      <th>RF</th>\n",
       "      <th>ActAdm</th>\n",
       "      <th>Actdosi</th>\n",
       "      <th>Vol</th>\n",
       "      <th>Esp</th>\n",
       "    </tr>\n",
       "    <tr>\n",
       "      <th>EXAM</th>\n",
       "      <th></th>\n",
       "      <th></th>\n",
       "      <th></th>\n",
       "      <th></th>\n",
       "      <th></th>\n",
       "    </tr>\n",
       "  </thead>\n",
       "  <tbody>\n",
       "    <tr>\n",
       "      <th>CENTI</th>\n",
       "      <td>Tc</td>\n",
       "      <td>3.0</td>\n",
       "      <td>4.32</td>\n",
       "      <td>0.3</td>\n",
       "      <td>28.333333</td>\n",
       "    </tr>\n",
       "    <tr>\n",
       "      <th>DMSA</th>\n",
       "      <td>Tc</td>\n",
       "      <td>5.0</td>\n",
       "      <td>5.30</td>\n",
       "      <td>0.1</td>\n",
       "      <td>53.000000</td>\n",
       "    </tr>\n",
       "    <tr>\n",
       "      <th>FDG</th>\n",
       "      <td>F</td>\n",
       "      <td>15.0</td>\n",
       "      <td>89.00</td>\n",
       "      <td>4.0</td>\n",
       "      <td>64.600000</td>\n",
       "    </tr>\n",
       "    <tr>\n",
       "      <th>FILTRA</th>\n",
       "      <td>Tc</td>\n",
       "      <td>20.0</td>\n",
       "      <td>20.00</td>\n",
       "      <td>1.0</td>\n",
       "      <td>30.000000</td>\n",
       "    </tr>\n",
       "    <tr>\n",
       "      <th>GADOTA</th>\n",
       "      <td>Ga</td>\n",
       "      <td>5.5</td>\n",
       "      <td>12.20</td>\n",
       "      <td>10.0</td>\n",
       "      <td>1.933333</td>\n",
       "    </tr>\n",
       "    <tr>\n",
       "      <th>GAPSMA</th>\n",
       "      <td>Ga</td>\n",
       "      <td>5.5</td>\n",
       "      <td>14.00</td>\n",
       "      <td>10.0</td>\n",
       "      <td>2.333333</td>\n",
       "    </tr>\n",
       "    <tr>\n",
       "      <th>GPARA</th>\n",
       "      <td>Tc</td>\n",
       "      <td>20.0</td>\n",
       "      <td>20.00</td>\n",
       "      <td>0.4</td>\n",
       "      <td>57.142857</td>\n",
       "    </tr>\n",
       "    <tr>\n",
       "      <th>MDP</th>\n",
       "      <td>Tc</td>\n",
       "      <td>25.0</td>\n",
       "      <td>32.60</td>\n",
       "      <td>1.1</td>\n",
       "      <td>134.000000</td>\n",
       "    </tr>\n",
       "    <tr>\n",
       "      <th>RENO</th>\n",
       "      <td>Tc</td>\n",
       "      <td>3.0</td>\n",
       "      <td>3.80</td>\n",
       "      <td>0.3</td>\n",
       "      <td>33.000000</td>\n",
       "    </tr>\n",
       "    <tr>\n",
       "      <th>ROLLT</th>\n",
       "      <td>Tc</td>\n",
       "      <td>3.0</td>\n",
       "      <td>3.78</td>\n",
       "      <td>0.3</td>\n",
       "      <td>19.187500</td>\n",
       "    </tr>\n",
       "    <tr>\n",
       "      <th>VENTRI</th>\n",
       "      <td>Tc</td>\n",
       "      <td>20.0</td>\n",
       "      <td>26.00</td>\n",
       "      <td>1.5</td>\n",
       "      <td>238.000000</td>\n",
       "    </tr>\n",
       "  </tbody>\n",
       "</table>\n",
       "</div>"
      ],
      "text/plain": [
       "        RF  ActAdm  Actdosi   Vol         Esp\n",
       "EXAM                                         \n",
       "CENTI   Tc     3.0     4.32   0.3   28.333333\n",
       "DMSA    Tc     5.0     5.30   0.1   53.000000\n",
       "FDG      F    15.0    89.00   4.0   64.600000\n",
       "FILTRA  Tc    20.0    20.00   1.0   30.000000\n",
       "GADOTA  Ga     5.5    12.20  10.0    1.933333\n",
       "GAPSMA  Ga     5.5    14.00  10.0    2.333333\n",
       "GPARA   Tc    20.0    20.00   0.4   57.142857\n",
       "MDP     Tc    25.0    32.60   1.1  134.000000\n",
       "RENO    Tc     3.0     3.80   0.3   33.000000\n",
       "ROLLT   Tc     3.0     3.78   0.3   19.187500\n",
       "VENTRI  Tc    20.0    26.00   1.5  238.000000"
      ]
     },
     "execution_count": 75,
     "metadata": {},
     "output_type": "execute_result"
    }
   ],
   "source": [
    "data_group_exam.max()"
   ]
  },
  {
   "cell_type": "markdown",
   "metadata": {},
   "source": [
    "### Desviación Estandar"
   ]
  },
  {
   "cell_type": "code",
   "execution_count": 76,
   "metadata": {},
   "outputs": [
    {
     "data": {
      "text/html": [
       "<div>\n",
       "<table border=\"1\" class=\"dataframe\">\n",
       "  <thead>\n",
       "    <tr style=\"text-align: right;\">\n",
       "      <th></th>\n",
       "      <th>ActAdm</th>\n",
       "      <th>Actdosi</th>\n",
       "      <th>Vol</th>\n",
       "      <th>Esp</th>\n",
       "    </tr>\n",
       "    <tr>\n",
       "      <th>EXAM</th>\n",
       "      <th></th>\n",
       "      <th></th>\n",
       "      <th></th>\n",
       "      <th></th>\n",
       "    </tr>\n",
       "  </thead>\n",
       "  <tbody>\n",
       "    <tr>\n",
       "      <th>CENTI</th>\n",
       "      <td>1.259058</td>\n",
       "      <td>1.715968</td>\n",
       "      <td>0.066387</td>\n",
       "      <td>8.534958</td>\n",
       "    </tr>\n",
       "    <tr>\n",
       "      <th>DMSA</th>\n",
       "      <td>NaN</td>\n",
       "      <td>NaN</td>\n",
       "      <td>NaN</td>\n",
       "      <td>NaN</td>\n",
       "    </tr>\n",
       "    <tr>\n",
       "      <th>FDG</th>\n",
       "      <td>2.222082</td>\n",
       "      <td>13.625090</td>\n",
       "      <td>0.523075</td>\n",
       "      <td>9.334624</td>\n",
       "    </tr>\n",
       "    <tr>\n",
       "      <th>FILTRA</th>\n",
       "      <td>2.833333</td>\n",
       "      <td>2.811982</td>\n",
       "      <td>0.190315</td>\n",
       "      <td>4.269933</td>\n",
       "    </tr>\n",
       "    <tr>\n",
       "      <th>GADOTA</th>\n",
       "      <td>0.736526</td>\n",
       "      <td>2.170093</td>\n",
       "      <td>1.366018</td>\n",
       "      <td>0.380747</td>\n",
       "    </tr>\n",
       "    <tr>\n",
       "      <th>GAPSMA</th>\n",
       "      <td>0.470648</td>\n",
       "      <td>1.819047</td>\n",
       "      <td>1.153973</td>\n",
       "      <td>0.301098</td>\n",
       "    </tr>\n",
       "    <tr>\n",
       "      <th>GPARA</th>\n",
       "      <td>0.000000</td>\n",
       "      <td>0.084853</td>\n",
       "      <td>0.035355</td>\n",
       "      <td>5.262895</td>\n",
       "    </tr>\n",
       "    <tr>\n",
       "      <th>MDP</th>\n",
       "      <td>1.132277</td>\n",
       "      <td>2.436212</td>\n",
       "      <td>0.104408</td>\n",
       "      <td>16.646655</td>\n",
       "    </tr>\n",
       "    <tr>\n",
       "      <th>RENO</th>\n",
       "      <td>0.000000</td>\n",
       "      <td>0.207243</td>\n",
       "      <td>0.052022</td>\n",
       "      <td>5.045139</td>\n",
       "    </tr>\n",
       "    <tr>\n",
       "      <th>ROLLT</th>\n",
       "      <td>0.000000</td>\n",
       "      <td>0.345290</td>\n",
       "      <td>0.059722</td>\n",
       "      <td>2.698927</td>\n",
       "    </tr>\n",
       "    <tr>\n",
       "      <th>VENTRI</th>\n",
       "      <td>0.000000</td>\n",
       "      <td>1.549877</td>\n",
       "      <td>0.258241</td>\n",
       "      <td>55.871759</td>\n",
       "    </tr>\n",
       "  </tbody>\n",
       "</table>\n",
       "</div>"
      ],
      "text/plain": [
       "          ActAdm    Actdosi       Vol        Esp\n",
       "EXAM                                            \n",
       "CENTI   1.259058   1.715968  0.066387   8.534958\n",
       "DMSA         NaN        NaN       NaN        NaN\n",
       "FDG     2.222082  13.625090  0.523075   9.334624\n",
       "FILTRA  2.833333   2.811982  0.190315   4.269933\n",
       "GADOTA  0.736526   2.170093  1.366018   0.380747\n",
       "GAPSMA  0.470648   1.819047  1.153973   0.301098\n",
       "GPARA   0.000000   0.084853  0.035355   5.262895\n",
       "MDP     1.132277   2.436212  0.104408  16.646655\n",
       "RENO    0.000000   0.207243  0.052022   5.045139\n",
       "ROLLT   0.000000   0.345290  0.059722   2.698927\n",
       "VENTRI  0.000000   1.549877  0.258241  55.871759"
      ]
     },
     "execution_count": 76,
     "metadata": {},
     "output_type": "execute_result"
    }
   ],
   "source": [
    "data_group_exam.std()"
   ]
  },
  {
   "cell_type": "markdown",
   "metadata": {},
   "source": [
    "## Variables Categóricas"
   ]
  },
  {
   "cell_type": "markdown",
   "metadata": {},
   "source": [
    "Datos de tecneciados corresponden al mes de Enero de 2019. Datos de FDG corresponden a Enero-27 Junio de 2019. Datos Ga DOTA de Enero-Octubre de 2019. Datos de Ga PSMA de Enero-Octubre de 2019"
   ]
  },
  {
   "cell_type": "code",
   "execution_count": 77,
   "metadata": {},
   "outputs": [
    {
     "data": {
      "text/plain": [
       "F     553\n",
       "Tc    277\n",
       "Ga    182\n",
       "Name: RF, dtype: int64"
      ]
     },
     "execution_count": 77,
     "metadata": {},
     "output_type": "execute_result"
    }
   ],
   "source": [
    "######Conteo de variables categoricas\n",
    "data[\"RF\"].value_counts()"
   ]
  },
  {
   "cell_type": "code",
   "execution_count": 78,
   "metadata": {},
   "outputs": [
    {
     "data": {
      "text/plain": [
       "<matplotlib.axes._subplots.AxesSubplot at 0x1a1cbd8b70>"
      ]
     },
     "execution_count": 78,
     "metadata": {},
     "output_type": "execute_result"
    },
    {
     "data": {
      "image/png": "[encoded data removed]",
      "text/plain": [
       "<Figure size 432x288 with 1 Axes>"
      ]
     },
     "metadata": {},
     "output_type": "display_data"
    }
   ],
   "source": [
    "sns.countplot(y=\"RF\", data=data,orient=\"h\",color=\"c\")"
   ]
  },
  {
   "cell_type": "code",
   "execution_count": 79,
   "metadata": {},
   "outputs": [
    {
     "data": {
      "text/plain": [
       "FDG       553\n",
       "MDP       118\n",
       "GADOTA     93\n",
       "VENTRI     89\n",
       "GAPSMA     89\n",
       "FILTRA     36\n",
       "RENO       16\n",
       "CENTI      11\n",
       "ROLLT       4\n",
       "GPARA       2\n",
       "DMSA        1\n",
       "Name: EXAM, dtype: int64"
      ]
     },
     "execution_count": 79,
     "metadata": {},
     "output_type": "execute_result"
    }
   ],
   "source": [
    "######Conteo de variables categoricas\n",
    "data[\"EXAM\"].value_counts()"
   ]
  },
  {
   "cell_type": "code",
   "execution_count": 80,
   "metadata": {},
   "outputs": [
    {
     "data": {
      "text/plain": [
       "<matplotlib.axes._subplots.AxesSubplot at 0x1a1cbf72e8>"
      ]
     },
     "execution_count": 80,
     "metadata": {},
     "output_type": "execute_result"
    },
    {
     "data": {
      "image/png": "[encoded data removed]",
      "text/plain": [
       "<Figure size 432x288 with 1 Axes>"
      ]
     },
     "metadata": {},
     "output_type": "display_data"
    }
   ],
   "source": [
    "sns.countplot(y=\"EXAM\", data=data,orient=\"h\",color=\"c\")"
   ]
  },
  {
   "cell_type": "code",
   "execution_count": 81,
   "metadata": {},
   "outputs": [
    {
     "data": {
      "text/html": [
       "<div>\n",
       "<table border=\"1\" class=\"dataframe\">\n",
       "  <thead>\n",
       "    <tr style=\"text-align: right;\">\n",
       "      <th></th>\n",
       "      <th>RF</th>\n",
       "      <th>EXAM</th>\n",
       "    </tr>\n",
       "  </thead>\n",
       "  <tbody>\n",
       "    <tr>\n",
       "      <th>count</th>\n",
       "      <td>1012</td>\n",
       "      <td>1012</td>\n",
       "    </tr>\n",
       "    <tr>\n",
       "      <th>unique</th>\n",
       "      <td>3</td>\n",
       "      <td>11</td>\n",
       "    </tr>\n",
       "    <tr>\n",
       "      <th>top</th>\n",
       "      <td>F</td>\n",
       "      <td>FDG</td>\n",
       "    </tr>\n",
       "    <tr>\n",
       "      <th>freq</th>\n",
       "      <td>553</td>\n",
       "      <td>553</td>\n",
       "    </tr>\n",
       "  </tbody>\n",
       "</table>\n",
       "</div>"
      ],
      "text/plain": [
       "          RF  EXAM\n",
       "count   1012  1012\n",
       "unique     3    11\n",
       "top        F   FDG\n",
       "freq     553   553"
      ]
     },
     "execution_count": 81,
     "metadata": {},
     "output_type": "execute_result"
    }
   ],
   "source": [
    "data_test.describe()"
   ]
  },
  {
   "cell_type": "code",
   "execution_count": null,
   "metadata": {
    "collapsed": true
   },
   "outputs": [],
   "source": []
  },
  {
   "cell_type": "code",
   "execution_count": 82,
   "metadata": {
    "collapsed": true
   },
   "outputs": [],
   "source": [
    "####GROUP BY in Python \n",
    "data_test =data[['RF','EXAM']]"
   ]
  },
  {
   "cell_type": "code",
   "execution_count": null,
   "metadata": {},
   "outputs": [],
   "source": [
    "\n"
   ]
  },
  {
   "cell_type": "code",
   "execution_count": 83,
   "metadata": {},
   "outputs": [
    {
     "data": {
      "text/plain": [
       "<matplotlib.axes._subplots.AxesSubplot at 0x1a1ccae438>"
      ]
     },
     "execution_count": 83,
     "metadata": {},
     "output_type": "execute_result"
    },
    {
     "data": {
      "image/png": "[encoded data removed]",
      "text/plain": [
       "<Figure size 432x288 with 1 Axes>"
      ]
     },
     "metadata": {},
     "output_type": "display_data"
    }
   ],
   "source": [
    "sns.countplot(y=\"RF\", data=data_test,orient=\"h\",color=\"c\")"
   ]
  },
  {
   "cell_type": "code",
   "execution_count": null,
   "metadata": {
    "collapsed": true
   },
   "outputs": [],
   "source": []
  },
  {
   "cell_type": "code",
   "execution_count": 84,
   "metadata": {},
   "outputs": [],
   "source": [
    "#sns.distplot(data['RF'],kde=False,color='b')"
   ]
  },
  {
   "cell_type": "markdown",
   "metadata": {},
   "source": []
  },
  {
   "cell_type": "markdown",
   "metadata": {},
   "source": [
    "Filtrando datos por Radiofarmaco : Tc-99m(Tc), F-18(F), Ga-68 PSMA(GaPSMA) y Ga-68 DOTA(GaDOTA). Falta los estudios de Yodo "
   ]
  },
  {
   "cell_type": "markdown",
   "metadata": {},
   "source": [
    "## Variables Númericas "
   ]
  },
  {
   "cell_type": "code",
   "execution_count": 85,
   "metadata": {
    "collapsed": true
   },
   "outputs": [],
   "source": [
    "######################################### Tc-99m ##############################################\n",
    "Tecnecio = ['Tc']\n",
    "data_Tc =data[data.RF.isin(Tecnecio)]\n",
    "#data_Tc.shape"
   ]
  },
  {
   "cell_type": "code",
   "execution_count": 86,
   "metadata": {},
   "outputs": [
    {
     "data": {
      "text/plain": [
       "<matplotlib.axes._subplots.AxesSubplot at 0x1a1ccaa128>"
      ]
     },
     "execution_count": 86,
     "metadata": {},
     "output_type": "execute_result"
    },
    {
     "data": {
      "image/png": "[encoded data removed]",
      "text/plain": [
       "<Figure size 432x288 with 1 Axes>"
      ]
     },
     "metadata": {},
     "output_type": "display_data"
    }
   ],
   "source": [
    "sns.boxplot(x=\"EXAM\", y=\"Actdosi\", data=data_Tc)"
   ]
  },
  {
   "cell_type": "code",
   "execution_count": 87,
   "metadata": {},
   "outputs": [
    {
     "data": {
      "text/plain": [
       "<matplotlib.axes._subplots.AxesSubplot at 0x1a1ce3ac88>"
      ]
     },
     "execution_count": 87,
     "metadata": {},
     "output_type": "execute_result"
    },
    {
     "data": {
      "image/png": "[encoded data removed]",
      "text/plain": [
       "<Figure size 432x288 with 1 Axes>"
      ]
     },
     "metadata": {},
     "output_type": "display_data"
    }
   ],
   "source": [
    "sns.boxplot(x=\"EXAM\", y=\"ActAdm\", data=data_Tc)"
   ]
  },
  {
   "cell_type": "code",
   "execution_count": 88,
   "metadata": {},
   "outputs": [
    {
     "data": {
      "text/plain": [
       "<matplotlib.axes._subplots.AxesSubplot at 0x1a1cf2bf60>"
      ]
     },
     "execution_count": 88,
     "metadata": {},
     "output_type": "execute_result"
    },
    {
     "data": {
      "image/png": "[encoded data removed]",
      "text/plain": [
       "<Figure size 432x288 with 1 Axes>"
      ]
     },
     "metadata": {},
     "output_type": "display_data"
    }
   ],
   "source": [
    "sns.boxplot(x=\"EXAM\", y=\"Vol\", data=data_Tc)"
   ]
  },
  {
   "cell_type": "code",
   "execution_count": 89,
   "metadata": {},
   "outputs": [
    {
     "data": {
      "text/plain": [
       "<matplotlib.axes._subplots.AxesSubplot at 0x1a1d01dba8>"
      ]
     },
     "execution_count": 89,
     "metadata": {},
     "output_type": "execute_result"
    },
    {
     "data": {
      "image/png": "[encoded data removed]",
      "text/plain": [
       "<Figure size 432x288 with 1 Axes>"
      ]
     },
     "metadata": {},
     "output_type": "display_data"
    }
   ],
   "source": [
    "sns.boxplot(x=\"EXAM\", y=\"Esp\", data=data_Tc)"
   ]
  },
  {
   "cell_type": "code",
   "execution_count": 90,
   "metadata": {},
   "outputs": [],
   "source": [
    "#sns.countplot(y=\"EXAM\", data=data_Tc,orient=\"h\",color=\"c\")"
   ]
  },
  {
   "cell_type": "code",
   "execution_count": 91,
   "metadata": {
    "collapsed": true
   },
   "outputs": [],
   "source": [
    "######################################### F-18 ##############################################\n",
    "Fluor = ['F']\n",
    "data_F =data[data.RF.isin(Fluor)]\n",
    "#data_F.shape"
   ]
  },
  {
   "cell_type": "code",
   "execution_count": 95,
   "metadata": {},
   "outputs": [
    {
     "name": "stderr",
     "output_type": "stream",
     "text": [
      "/Users/Mila/anaconda/lib/python3.5/site-packages/matplotlib/axes/_axes.py:6462: UserWarning: The 'normed' kwarg is deprecated, and has been replaced by the 'density' kwarg.\n",
      "  warnings.warn(\"The 'normed' kwarg is deprecated, and has been \"\n"
     ]
    },
    {
     "data": {
      "text/plain": [
       "Text(0,0.5,'Número de Pacientes')"
      ]
     },
     "execution_count": 95,
     "metadata": {},
     "output_type": "execute_result"
    },
    {
     "data": {
      "image/png": "[encoded data removed]",
      "text/plain": [
       "<Figure size 432x288 with 1 Axes>"
      ]
     },
     "metadata": {},
     "output_type": "display_data"
    }
   ],
   "source": [
    "sns.distplot(data_F['Actdosi'],kde=False,color='b')\n",
    "plt.title('F-18 FDG')\n",
    "plt.xlabel('Actividad Dosificada [mCi]')\n",
    "plt.ylabel('Número de Pacientes')"
   ]
  },
  {
   "cell_type": "code",
   "execution_count": 97,
   "metadata": {},
   "outputs": [
    {
     "name": "stderr",
     "output_type": "stream",
     "text": [
      "/Users/Mila/anaconda/lib/python3.5/site-packages/matplotlib/axes/_axes.py:6462: UserWarning: The 'normed' kwarg is deprecated, and has been replaced by the 'density' kwarg.\n",
      "  warnings.warn(\"The 'normed' kwarg is deprecated, and has been \"\n"
     ]
    },
    {
     "data": {
      "text/plain": [
       "Text(0,0.5,'Número de Pacientes')"
      ]
     },
     "execution_count": 97,
     "metadata": {},
     "output_type": "execute_result"
    },
    {
     "data": {
      "image/png": "[encoded data removed]",
      "text/plain": [
       "<Figure size 432x288 with 1 Axes>"
      ]
     },
     "metadata": {},
     "output_type": "display_data"
    }
   ],
   "source": [
    "sns.distplot(data_F['Esp'],kde=False,color='b')\n",
    "plt.title('F-18 FDG')\n",
    "plt.xlabel('Actividad Especifica [mCi/mL]')\n",
    "plt.ylabel('Número de Pacientes')"
   ]
  },
  {
   "cell_type": "code",
   "execution_count": 98,
   "metadata": {},
   "outputs": [
    {
     "name": "stderr",
     "output_type": "stream",
     "text": [
      "/Users/Mila/anaconda/lib/python3.5/site-packages/matplotlib/axes/_axes.py:6462: UserWarning: The 'normed' kwarg is deprecated, and has been replaced by the 'density' kwarg.\n",
      "  warnings.warn(\"The 'normed' kwarg is deprecated, and has been \"\n"
     ]
    },
    {
     "data": {
      "text/plain": [
       "Text(0,0.5,'Número de Pacientes')"
      ]
     },
     "execution_count": 98,
     "metadata": {},
     "output_type": "execute_result"
    },
    {
     "data": {
      "image/png": "[encoded data removed]",
      "text/plain": [
       "<Figure size 432x288 with 1 Axes>"
      ]
     },
     "metadata": {},
     "output_type": "display_data"
    }
   ],
   "source": [
    "sns.distplot(data_F['ActAdm'],kde=False,color='b')\n",
    "plt.title('F-18 FDG')\n",
    "plt.xlabel('Actividad Administrada [mCi]')\n",
    "plt.ylabel('Número de Pacientes')"
   ]
  },
  {
   "cell_type": "code",
   "execution_count": null,
   "metadata": {
    "collapsed": true
   },
   "outputs": [],
   "source": [
    "######################################### Ga-68 PSMA ##############################################\n",
    "GalioP = ['GaPSMA']\n",
    "data_GP =data[data.RF.isin(GalioP)]\n",
    "#data_GP.shape"
   ]
  },
  {
   "cell_type": "code",
   "execution_count": null,
   "metadata": {
    "collapsed": true
   },
   "outputs": [],
   "source": [
    "######################################### Ga-68 DOTA ##############################################\n",
    "GalioD = ['GaDOTA']\n",
    "data_GD =data[data.RF.isin(GalioD)]\n",
    "#data_GD.shape"
   ]
  },
  {
   "cell_type": "code",
   "execution_count": null,
   "metadata": {
    "collapsed": true
   },
   "outputs": [],
   "source": []
  },
  {
   "cell_type": "code",
   "execution_count": null,
   "metadata": {
    "collapsed": true
   },
   "outputs": [],
   "source": []
  },
  {
   "cell_type": "code",
   "execution_count": null,
   "metadata": {
    "collapsed": true
   },
   "outputs": [],
   "source": []
  }
 ],
 "metadata": {
  "kernelspec": {
   "display_name": "Python 3",
   "language": "python",
   "name": "python3"
  },
  "language_info": {
   "codemirror_mode": {
    "name": "ipython",
    "version": 3
   },
   "file_extension": ".py",
   "mimetype": "text/x-python",
   "name": "python",
   "nbconvert_exporter": "python",
   "pygments_lexer": "ipython3",
   "version": "3.5.5"
  }
 },
 "nbformat": 4,
 "nbformat_minor": 2
}
