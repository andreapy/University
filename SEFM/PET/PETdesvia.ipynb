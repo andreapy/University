{
 "cells": [
  {
   "cell_type": "markdown",
   "metadata": {},
   "source": [
    "# Práctica clínica en Medicina Nuclear y Radiofarmacia para Radiofarmacos PET "
   ]
  },
  {
   "cell_type": "code",
   "execution_count": 342,
   "metadata": {
    "collapsed": true
   },
   "outputs": [],
   "source": [
    "import numpy as np\n",
    "import pandas as pd\n",
    "import matplotlib.pyplot as plt\n",
    "\n",
    "%matplotlib inline\n",
    "\n",
    "#### Paquete de tiempo\n",
    "import datetime\n",
    "\n",
    "from datetime import time\n",
    "from datetime import timedelta\n",
    "\n",
    "\n",
    "\n",
    "\n",
    "### Cargar Datos #### \n",
    "\n",
    "### Datos Radiofarmacos PET 2019\n",
    "#data= pd.read_csv('PET.txt', delim_whitespace =True)\n",
    "#data = pd.read_csv('fdgdrl.txt', delim_whitespace =True, header=None)\n",
    "data = pd.read_csv('gapsmadrl.txt', delim_whitespace =True, header=None)\n",
    "#data = pd.read_csv('gadotadrl.txt', delim_whitespace =True, header=None)\n",
    "#data = pd.read_csv('galiospetmn.txt', delim_whitespace =True, header=None)\n",
    "\n",
    "#Datos Fechas Galios 2019-2020\n",
    "#gadotafecha=pd.read_csv('gadotafecha.txt', delim_whitespace =True)\n",
    "\n",
    "\n",
    "\n",
    "# create headers list\n",
    "#### FDG\n",
    "#headers = [\"Genero\",\"Peso\",\"Horarec\",\"Actipres\",\"Horadm\",\"Actidosi\",\"Horadosi\",\"Voldosi\",\"Actiny\",\"Horainy\", \"Operador\"]\n",
    "#### GAPSMA\n",
    "headers = [\"Genero\",\"Actipres\",\"Horadm\",\"Peso\",\"Actidosi\",\"Horadosi\",\"Actiny\",\"Horainy\",\"Voldosi\"]\n",
    "#### GADOTANOC\n",
    "#headers = [\"Genero\",\"Peso\",\"Actipres\",\"Horadm\",\"Actidosi\",\"Horadosi\",\"Voldosi\",\"Actiny\",\"Horainy\"]\n",
    "\n",
    "data.columns = headers"
   ]
  },
  {
   "cell_type": "code",
   "execution_count": 343,
   "metadata": {},
   "outputs": [
    {
     "data": {
      "text/html": [
       "<div>\n",
       "<table border=\"1\" class=\"dataframe\">\n",
       "  <thead>\n",
       "    <tr style=\"text-align: right;\">\n",
       "      <th></th>\n",
       "      <th>Genero</th>\n",
       "      <th>Actipres</th>\n",
       "      <th>Horadm</th>\n",
       "      <th>Peso</th>\n",
       "      <th>Actidosi</th>\n",
       "      <th>Horadosi</th>\n",
       "      <th>Actiny</th>\n",
       "      <th>Horainy</th>\n",
       "      <th>Voldosi</th>\n",
       "    </tr>\n",
       "  </thead>\n",
       "  <tbody>\n",
       "    <tr>\n",
       "      <th>0</th>\n",
       "      <td>M</td>\n",
       "      <td>3.0</td>\n",
       "      <td>8:10</td>\n",
       "      <td>71</td>\n",
       "      <td>3.1</td>\n",
       "      <td>8:08</td>\n",
       "      <td>3.15</td>\n",
       "      <td>8:36</td>\n",
       "      <td>6</td>\n",
       "    </tr>\n",
       "    <tr>\n",
       "      <th>1</th>\n",
       "      <td>M</td>\n",
       "      <td>3.0</td>\n",
       "      <td>8:55</td>\n",
       "      <td>75</td>\n",
       "      <td>5.9</td>\n",
       "      <td>8:29</td>\n",
       "      <td>3.31</td>\n",
       "      <td>9:18</td>\n",
       "      <td>5</td>\n",
       "    </tr>\n",
       "    <tr>\n",
       "      <th>2</th>\n",
       "      <td>NP</td>\n",
       "      <td>3.0</td>\n",
       "      <td>9:40</td>\n",
       "      <td>71</td>\n",
       "      <td>7.6</td>\n",
       "      <td>8:36</td>\n",
       "      <td>2.86</td>\n",
       "      <td>10:08</td>\n",
       "      <td>6.4</td>\n",
       "    </tr>\n",
       "    <tr>\n",
       "      <th>3</th>\n",
       "      <td>M</td>\n",
       "      <td>4.0</td>\n",
       "      <td>12:00</td>\n",
       "      <td>88</td>\n",
       "      <td>4.8</td>\n",
       "      <td>11:55</td>\n",
       "      <td>4.43</td>\n",
       "      <td>12:10</td>\n",
       "      <td>6</td>\n",
       "    </tr>\n",
       "    <tr>\n",
       "      <th>4</th>\n",
       "      <td>M</td>\n",
       "      <td>4.0</td>\n",
       "      <td>12:50</td>\n",
       "      <td>77</td>\n",
       "      <td>8.5</td>\n",
       "      <td>12:00</td>\n",
       "      <td>5.26</td>\n",
       "      <td>12:50</td>\n",
       "      <td>7.2</td>\n",
       "    </tr>\n",
       "  </tbody>\n",
       "</table>\n",
       "</div>"
      ],
      "text/plain": [
       "  Genero  Actipres Horadm  Peso Actidosi Horadosi Actiny Horainy Voldosi\n",
       "0      M       3.0   8:10    71      3.1     8:08   3.15    8:36       6\n",
       "1      M       3.0   8:55    75      5.9     8:29   3.31    9:18       5\n",
       "2     NP       3.0   9:40    71      7.6     8:36   2.86   10:08     6.4\n",
       "3      M       4.0  12:00    88      4.8    11:55   4.43   12:10       6\n",
       "4      M       4.0  12:50    77      8.5    12:00   5.26   12:50     7.2"
      ]
     },
     "execution_count": 343,
     "metadata": {},
     "output_type": "execute_result"
    }
   ],
   "source": [
    "#para ver los primeros datos\n",
    "data.head()\n",
    "#gadotafecha.head()"
   ]
  },
  {
   "cell_type": "code",
   "execution_count": 344,
   "metadata": {},
   "outputs": [
    {
     "data": {
      "text/html": [
       "<div>\n",
       "<table border=\"1\" class=\"dataframe\">\n",
       "  <thead>\n",
       "    <tr style=\"text-align: right;\">\n",
       "      <th></th>\n",
       "      <th>Actipres</th>\n",
       "      <th>Peso</th>\n",
       "    </tr>\n",
       "  </thead>\n",
       "  <tbody>\n",
       "    <tr>\n",
       "      <th>count</th>\n",
       "      <td>83.000000</td>\n",
       "      <td>83.000000</td>\n",
       "    </tr>\n",
       "    <tr>\n",
       "      <th>mean</th>\n",
       "      <td>5.307831</td>\n",
       "      <td>75.638554</td>\n",
       "    </tr>\n",
       "    <tr>\n",
       "      <th>std</th>\n",
       "      <td>2.556036</td>\n",
       "      <td>13.681551</td>\n",
       "    </tr>\n",
       "    <tr>\n",
       "      <th>min</th>\n",
       "      <td>3.000000</td>\n",
       "      <td>45.000000</td>\n",
       "    </tr>\n",
       "    <tr>\n",
       "      <th>25%</th>\n",
       "      <td>4.000000</td>\n",
       "      <td>68.000000</td>\n",
       "    </tr>\n",
       "    <tr>\n",
       "      <th>50%</th>\n",
       "      <td>4.000000</td>\n",
       "      <td>75.000000</td>\n",
       "    </tr>\n",
       "    <tr>\n",
       "      <th>75%</th>\n",
       "      <td>4.000000</td>\n",
       "      <td>83.000000</td>\n",
       "    </tr>\n",
       "    <tr>\n",
       "      <th>max</th>\n",
       "      <td>13.200000</td>\n",
       "      <td>117.000000</td>\n",
       "    </tr>\n",
       "  </tbody>\n",
       "</table>\n",
       "</div>"
      ],
      "text/plain": [
       "        Actipres        Peso\n",
       "count  83.000000   83.000000\n",
       "mean    5.307831   75.638554\n",
       "std     2.556036   13.681551\n",
       "min     3.000000   45.000000\n",
       "25%     4.000000   68.000000\n",
       "50%     4.000000   75.000000\n",
       "75%     4.000000   83.000000\n",
       "max    13.200000  117.000000"
      ]
     },
     "execution_count": 344,
     "metadata": {},
     "output_type": "execute_result"
    }
   ],
   "source": [
    "data.describe()"
   ]
  },
  {
   "cell_type": "code",
   "execution_count": 345,
   "metadata": {
    "collapsed": true
   },
   "outputs": [],
   "source": [
    "#######   INSERTAR FECHAS DE GALIOS\n",
    "\n",
    "#data['Fecha']=gadotafecha['Fecha']"
   ]
  },
  {
   "cell_type": "code",
   "execution_count": 346,
   "metadata": {
    "collapsed": true
   },
   "outputs": [],
   "source": [
    "### Half life PET radionuclides\n",
    "\n",
    "##############################\n",
    "########   F- 18  ###########\n",
    "### half life [min]\n",
    "HLF= 110\n",
    "### Lambda\n",
    "LambdaF= np.log(2)/HLF\n",
    "\n",
    "##############################\n",
    "########   Ga- 68  ###########\n",
    "### half life [min]\n",
    "HLGa= 67.83\n",
    "### Lambda\n",
    "LambdaGa= np.log(2)/HLGa"
   ]
  },
  {
   "cell_type": "code",
   "execution_count": 347,
   "metadata": {},
   "outputs": [
    {
     "data": {
      "text/plain": [
       "Genero       object\n",
       "Actipres    float64\n",
       "Horadm       object\n",
       "Peso          int64\n",
       "Actidosi     object\n",
       "Horadosi     object\n",
       "Actiny       object\n",
       "Horainy      object\n",
       "Voldosi      object\n",
       "dtype: object"
      ]
     },
     "execution_count": 347,
     "metadata": {},
     "output_type": "execute_result"
    }
   ],
   "source": [
    "data.dtypes\n",
    "#### Cuantos datos por radiofarmaco\n",
    "#data[\"Radiofarmaco\"].value_counts()"
   ]
  },
  {
   "cell_type": "code",
   "execution_count": 348,
   "metadata": {},
   "outputs": [
    {
     "data": {
      "text/plain": [
       "83"
      ]
     },
     "execution_count": 348,
     "metadata": {},
     "output_type": "execute_result"
    }
   ],
   "source": [
    "len(data['Genero'])"
   ]
  },
  {
   "cell_type": "code",
   "execution_count": 349,
   "metadata": {
    "collapsed": true
   },
   "outputs": [],
   "source": [
    "#replace NP to NaN\n",
    "data.replace(\"NP\", np.nan, inplace = True)"
   ]
  },
  {
   "cell_type": "code",
   "execution_count": 350,
   "metadata": {
    "collapsed": true
   },
   "outputs": [],
   "source": [
    "data[[\"Actidosi\"]] = data[[\"Actidosi\"]].astype(\"float\")\n",
    "data[[\"Actiny\"]] = data[[\"Actiny\"]].astype(\"float\")\n",
    "data[[\"Actipres\"]] = data[[\"Actipres\"]].astype(\"float\")"
   ]
  },
  {
   "cell_type": "code",
   "execution_count": 351,
   "metadata": {},
   "outputs": [
    {
     "data": {
      "text/html": [
       "<div>\n",
       "<table border=\"1\" class=\"dataframe\">\n",
       "  <thead>\n",
       "    <tr style=\"text-align: right;\">\n",
       "      <th></th>\n",
       "      <th>Actipres</th>\n",
       "      <th>Peso</th>\n",
       "      <th>Actidosi</th>\n",
       "      <th>Actiny</th>\n",
       "    </tr>\n",
       "  </thead>\n",
       "  <tbody>\n",
       "    <tr>\n",
       "      <th>count</th>\n",
       "      <td>83.000000</td>\n",
       "      <td>83.000000</td>\n",
       "      <td>81.000000</td>\n",
       "      <td>82.000000</td>\n",
       "    </tr>\n",
       "    <tr>\n",
       "      <th>mean</th>\n",
       "      <td>5.307831</td>\n",
       "      <td>75.638554</td>\n",
       "      <td>13.180370</td>\n",
       "      <td>5.377805</td>\n",
       "    </tr>\n",
       "    <tr>\n",
       "      <th>std</th>\n",
       "      <td>2.556036</td>\n",
       "      <td>13.681551</td>\n",
       "      <td>17.467602</td>\n",
       "      <td>2.576180</td>\n",
       "    </tr>\n",
       "    <tr>\n",
       "      <th>min</th>\n",
       "      <td>3.000000</td>\n",
       "      <td>45.000000</td>\n",
       "      <td>2.800000</td>\n",
       "      <td>2.300000</td>\n",
       "    </tr>\n",
       "    <tr>\n",
       "      <th>25%</th>\n",
       "      <td>4.000000</td>\n",
       "      <td>68.000000</td>\n",
       "      <td>4.500000</td>\n",
       "      <td>3.580000</td>\n",
       "    </tr>\n",
       "    <tr>\n",
       "      <th>50%</th>\n",
       "      <td>4.000000</td>\n",
       "      <td>75.000000</td>\n",
       "      <td>6.800000</td>\n",
       "      <td>4.460000</td>\n",
       "    </tr>\n",
       "    <tr>\n",
       "      <th>75%</th>\n",
       "      <td>4.000000</td>\n",
       "      <td>83.000000</td>\n",
       "      <td>9.800000</td>\n",
       "      <td>6.885000</td>\n",
       "    </tr>\n",
       "    <tr>\n",
       "      <th>max</th>\n",
       "      <td>13.200000</td>\n",
       "      <td>117.000000</td>\n",
       "      <td>84.600000</td>\n",
       "      <td>13.510000</td>\n",
       "    </tr>\n",
       "  </tbody>\n",
       "</table>\n",
       "</div>"
      ],
      "text/plain": [
       "        Actipres        Peso   Actidosi     Actiny\n",
       "count  83.000000   83.000000  81.000000  82.000000\n",
       "mean    5.307831   75.638554  13.180370   5.377805\n",
       "std     2.556036   13.681551  17.467602   2.576180\n",
       "min     3.000000   45.000000   2.800000   2.300000\n",
       "25%     4.000000   68.000000   4.500000   3.580000\n",
       "50%     4.000000   75.000000   6.800000   4.460000\n",
       "75%     4.000000   83.000000   9.800000   6.885000\n",
       "max    13.200000  117.000000  84.600000  13.510000"
      ]
     },
     "execution_count": 351,
     "metadata": {},
     "output_type": "execute_result"
    }
   ],
   "source": [
    "data.describe()"
   ]
  },
  {
   "cell_type": "code",
   "execution_count": 352,
   "metadata": {
    "collapsed": true
   },
   "outputs": [],
   "source": [
    "import seaborn as sns"
   ]
  },
  {
   "cell_type": "markdown",
   "metadata": {},
   "source": [
    "# Tiempos en la práctica PET "
   ]
  },
  {
   "cell_type": "markdown",
   "metadata": {},
   "source": [
    "## ELAPSED TIME "
   ]
  },
  {
   "cell_type": "code",
   "execution_count": 353,
   "metadata": {
    "scrolled": true
   },
   "outputs": [
    {
     "data": {
      "text/html": [
       "<div>\n",
       "<table border=\"1\" class=\"dataframe\">\n",
       "  <thead>\n",
       "    <tr style=\"text-align: right;\">\n",
       "      <th></th>\n",
       "      <th>Horadm</th>\n",
       "      <th>Horadosi</th>\n",
       "      <th>Horainy</th>\n",
       "    </tr>\n",
       "  </thead>\n",
       "  <tbody>\n",
       "    <tr>\n",
       "      <th>count</th>\n",
       "      <td>83</td>\n",
       "      <td>81</td>\n",
       "      <td>82</td>\n",
       "    </tr>\n",
       "    <tr>\n",
       "      <th>unique</th>\n",
       "      <td>40</td>\n",
       "      <td>70</td>\n",
       "      <td>62</td>\n",
       "    </tr>\n",
       "    <tr>\n",
       "      <th>top</th>\n",
       "      <td>8:20</td>\n",
       "      <td>12:25</td>\n",
       "      <td>12:30</td>\n",
       "    </tr>\n",
       "    <tr>\n",
       "      <th>freq</th>\n",
       "      <td>9</td>\n",
       "      <td>3</td>\n",
       "      <td>3</td>\n",
       "    </tr>\n",
       "  </tbody>\n",
       "</table>\n",
       "</div>"
      ],
      "text/plain": [
       "       Horadm Horadosi Horainy\n",
       "count      83       81      82\n",
       "unique     40       70      62\n",
       "top      8:20    12:25   12:30\n",
       "freq        9        3       3"
      ]
     },
     "execution_count": 353,
     "metadata": {},
     "output_type": "execute_result"
    }
   ],
   "source": [
    "#data[['Horadm','Horarec','Horadosi','Horainy']].describe()\n",
    "data[['Horadm','Horadosi','Horainy']].describe()"
   ]
  },
  {
   "cell_type": "markdown",
   "metadata": {},
   "source": [
    "Solo 894 datos de hora de recepción de las unidosis de FDG. ¿Cuantas unidosis son recibidas antes de la hora prescrita?"
   ]
  },
  {
   "cell_type": "code",
   "execution_count": 146,
   "metadata": {
    "collapsed": true
   },
   "outputs": [],
   "source": [
    "timePR = data.filter(items=['Horadm', 'Horarec','Horainy'])\n",
    "timePR.dropna(subset=[\"Horadm\",\"Horarec\",\"Horainy\"],axis=0,inplace=True)\n",
    "timePR.reset_index(drop=True, inplace=True)\n",
    "#timePR.describe()"
   ]
  },
  {
   "cell_type": "code",
   "execution_count": 147,
   "metadata": {
    "collapsed": true
   },
   "outputs": [],
   "source": [
    "prest = pd.to_datetime(timePR[\"Horadm\"],format='%H:%M')\n",
    "recept = pd.to_datetime(timePR[\"Horarec\"],format='%H:%M')\n",
    "inyet=pd.to_datetime(timePR[\"Horainy\"],format='%H:%M')"
   ]
  },
  {
   "cell_type": "code",
   "execution_count": 148,
   "metadata": {
    "collapsed": true
   },
   "outputs": [],
   "source": [
    "#### Elapsed time\n",
    "## Si el tiempo es negativo -> La recepción de la unidosis ocurrió antes\n",
    "#de la hora prescrita\n",
    "\n",
    "#### Tiempo transcurrido entre la hora de prescripción y la hora de recepción \n",
    "PR=recept-prest"
   ]
  },
  {
   "cell_type": "code",
   "execution_count": 149,
   "metadata": {
    "collapsed": true
   },
   "outputs": [],
   "source": [
    "#####  FDG\n",
    "\n",
    "####### Tiempo prescripción y recepción \n",
    "listaPR=PR.dt.days<0        \n",
    "tiempoprecc=PR.dt.seconds\n",
    "for i in range(len(listaPR)):   \n",
    "    if listaPR[i]:\n",
    "        PR[i]=abs(prest[i]-recept[i])\n",
    "        \n",
    "tiempoprecc=PR.dt.seconds/60     \n",
    "        \n",
    "for i in range(len(listaPR)):   \n",
    "    if listaPR[i]:\n",
    "        tiempoprecc[i]= tiempoprecc[i]*(-1) "
   ]
  },
  {
   "cell_type": "code",
   "execution_count": 150,
   "metadata": {},
   "outputs": [
    {
     "data": {
      "text/plain": [
       "count    894.000000\n",
       "mean     -69.014541\n",
       "std       78.398077\n",
       "min     -420.000000\n",
       "25%     -120.000000\n",
       "50%      -60.000000\n",
       "75%       -5.250000\n",
       "max      158.000000\n",
       "dtype: float64"
      ]
     },
     "execution_count": 150,
     "metadata": {},
     "output_type": "execute_result"
    }
   ],
   "source": [
    "timePR['tiempoprecc']=tiempoprecc\n",
    "tiempoprecc.describe()"
   ]
  },
  {
   "cell_type": "code",
   "execution_count": 151,
   "metadata": {},
   "outputs": [
    {
     "data": {
      "image/png": "[encoded data removed]",
      "text/plain": [
       "<Figure size 1080x648 with 1 Axes>"
      ]
     },
     "metadata": {},
     "output_type": "display_data"
    }
   ],
   "source": [
    "sns.set_context('poster')\n",
    "plt.figure(figsize=(15,9))\n",
    "sns.distplot(tiempoprecc,bins=16,kde=False,label='Actividad Inyectada',hist_kws={\"histtype\": \"step\", \"linewidth\": 3,\n",
    "\"alpha\": 0.75, \"color\": \"purple\"})\n",
    "plt.ylabel('Number of Patients')\n",
    "#plt.ylabel('Proporción de pacientes',fontsize=14)\n",
    "plt.xlabel('Provision Time-Prescribed Time [min]')\n",
    "#plt.title('FDG')\n",
    "#plt.title('GA-DOTA')\n",
    "#plt.title('GA-PSMA')\n",
    "#plt.savefig('fdgpresrec.pdf',bbox_inches = \"tight\")"
   ]
  },
  {
   "cell_type": "code",
   "execution_count": 152,
   "metadata": {},
   "outputs": [
    {
     "data": {
      "text/plain": [
       "113"
      ]
     },
     "execution_count": 152,
     "metadata": {},
     "output_type": "execute_result"
    }
   ],
   "source": [
    "len(timePR[(timePR['tiempoprecc'])>0])"
   ]
  },
  {
   "cell_type": "code",
   "execution_count": 153,
   "metadata": {},
   "outputs": [
    {
     "data": {
      "text/plain": [
       "13.0"
      ]
     },
     "execution_count": 153,
     "metadata": {},
     "output_type": "execute_result"
    }
   ],
   "source": [
    "np.round((len(timePR[(timePR['tiempoprecc'])>0])*100)/len(timePR['tiempoprecc']),0)"
   ]
  },
  {
   "cell_type": "markdown",
   "metadata": {},
   "source": [
    "Remover las unidosis que llegaron despues de la hora prescrita"
   ]
  },
  {
   "cell_type": "code",
   "execution_count": 154,
   "metadata": {},
   "outputs": [
    {
     "data": {
      "text/plain": [
       "113"
      ]
     },
     "execution_count": 154,
     "metadata": {},
     "output_type": "execute_result"
    }
   ],
   "source": [
    "c=timePR[timePR['tiempoprecc']>0].index.tolist()\n",
    "len(c)"
   ]
  },
  {
   "cell_type": "code",
   "execution_count": 155,
   "metadata": {
    "collapsed": true
   },
   "outputs": [],
   "source": [
    "rows = prest.index[[c]]\n",
    "prest.drop(rows,inplace=True)\n",
    "inyet.drop(rows,inplace=True)"
   ]
  },
  {
   "cell_type": "code",
   "execution_count": 156,
   "metadata": {
    "collapsed": true
   },
   "outputs": [],
   "source": [
    "#Localización y conversión a Not a Number NaN\n",
    "timePR.loc[(timePR['tiempoprecc'])>0]= np.nan\n",
    "\n",
    "# simply drop whole row with NaN in \"timeID\" column\n",
    "timePR.dropna(subset=[\"tiempoprecc\"], axis=0, inplace=True)\n",
    "\n",
    "prest.reset_index(drop=True, inplace=True)\n",
    "inyet.reset_index(drop=True, inplace=True)\n",
    "timePR.reset_index(drop=True, inplace=True)"
   ]
  },
  {
   "cell_type": "code",
   "execution_count": 157,
   "metadata": {},
   "outputs": [
    {
     "data": {
      "text/html": [
       "<div>\n",
       "<table border=\"1\" class=\"dataframe\">\n",
       "  <thead>\n",
       "    <tr style=\"text-align: right;\">\n",
       "      <th></th>\n",
       "      <th>tiempoprecc</th>\n",
       "    </tr>\n",
       "  </thead>\n",
       "  <tbody>\n",
       "    <tr>\n",
       "      <th>count</th>\n",
       "      <td>781.000000</td>\n",
       "    </tr>\n",
       "    <tr>\n",
       "      <th>mean</th>\n",
       "      <td>-83.025608</td>\n",
       "    </tr>\n",
       "    <tr>\n",
       "      <th>std</th>\n",
       "      <td>73.168715</td>\n",
       "    </tr>\n",
       "    <tr>\n",
       "      <th>min</th>\n",
       "      <td>-420.000000</td>\n",
       "    </tr>\n",
       "    <tr>\n",
       "      <th>25%</th>\n",
       "      <td>-120.000000</td>\n",
       "    </tr>\n",
       "    <tr>\n",
       "      <th>50%</th>\n",
       "      <td>-65.000000</td>\n",
       "    </tr>\n",
       "    <tr>\n",
       "      <th>75%</th>\n",
       "      <td>-30.000000</td>\n",
       "    </tr>\n",
       "    <tr>\n",
       "      <th>max</th>\n",
       "      <td>0.000000</td>\n",
       "    </tr>\n",
       "  </tbody>\n",
       "</table>\n",
       "</div>"
      ],
      "text/plain": [
       "       tiempoprecc\n",
       "count   781.000000\n",
       "mean    -83.025608\n",
       "std      73.168715\n",
       "min    -420.000000\n",
       "25%    -120.000000\n",
       "50%     -65.000000\n",
       "75%     -30.000000\n",
       "max       0.000000"
      ]
     },
     "execution_count": 157,
     "metadata": {},
     "output_type": "execute_result"
    }
   ],
   "source": [
    "timePR.describe()"
   ]
  },
  {
   "cell_type": "markdown",
   "metadata": {},
   "source": [
    "De las 894 unidosis de FDG, 781 fueron recibidas antes de la hora prescrita. Con estas últimas se evalua la diferencia en tiempo entre la hora de inyección y de prescripción"
   ]
  },
  {
   "cell_type": "code",
   "execution_count": 158,
   "metadata": {
    "collapsed": true
   },
   "outputs": [],
   "source": [
    "#### Elapsed time\n",
    "## Si el tiempo es negativo -> La inyección de la unidosis ocurrió antes\n",
    "#de la hora prescrita\n",
    "\n",
    "#### Tiempo transcurrido entre la hora de inyección y la hora de prescripción\n",
    "PIfdg=inyet-prest"
   ]
  },
  {
   "cell_type": "code",
   "execution_count": 159,
   "metadata": {
    "collapsed": true
   },
   "outputs": [],
   "source": [
    "#####  FDG\n",
    "\n",
    "####### Tiempo prescripción y recepción \n",
    "listaPIfdg=PIfdg.dt.days<0        \n",
    "tiempopinyfdg=PIfdg.dt.seconds\n",
    "for i in range(len(listaPIfdg)):   \n",
    "    if listaPIfdg[i]:\n",
    "        PIfdg[i]=abs(inyet[i]-prest[i])\n",
    "        \n",
    "tiempopinyfdg=PIfdg.dt.seconds/60     \n",
    "        \n",
    "for i in range(len(listaPIfdg)):   \n",
    "    if listaPIfdg[i]:\n",
    "        tiempopinyfdg[i]= tiempopinyfdg[i]*(-1) "
   ]
  },
  {
   "cell_type": "code",
   "execution_count": 160,
   "metadata": {},
   "outputs": [
    {
     "data": {
      "text/plain": [
       "count    781.000000\n",
       "mean      12.299616\n",
       "std       20.167309\n",
       "min      -50.000000\n",
       "25%        0.000000\n",
       "50%        9.000000\n",
       "75%       20.000000\n",
       "max      152.000000\n",
       "dtype: float64"
      ]
     },
     "execution_count": 160,
     "metadata": {},
     "output_type": "execute_result"
    }
   ],
   "source": [
    "timePR['tiempopinyfdg']=tiempopinyfdg\n",
    "tiempopinyfdg.describe()"
   ]
  },
  {
   "cell_type": "code",
   "execution_count": 161,
   "metadata": {},
   "outputs": [
    {
     "data": {
      "image/png": "[encoded data removed]",
      "text/plain": [
       "<Figure size 1080x648 with 1 Axes>"
      ]
     },
     "metadata": {},
     "output_type": "display_data"
    }
   ],
   "source": [
    "sns.set_context('poster')\n",
    "plt.figure(figsize=(15,9))\n",
    "sns.distplot(tiempopinyfdg,bins=18,kde=False,label='Actividad Inyectada',hist_kws={\"histtype\": \"step\", \"linewidth\": 3,\"alpha\": 0.75, \"color\": \"orange\"})\n",
    "plt.ylabel('Number of Patients')\n",
    "#plt.ylabel('Proporción de pacientes',fontsize=14)\n",
    "plt.xlabel('Injected Time-Prescribed Time [min]')\n",
    "#plt.title('FDG')\n",
    "#plt.savefig('fdginypresresto.pdf',bbox_inches = \"tight\")"
   ]
  },
  {
   "cell_type": "code",
   "execution_count": 162,
   "metadata": {},
   "outputs": [
    {
     "data": {
      "text/plain": [
       "90"
      ]
     },
     "execution_count": 162,
     "metadata": {},
     "output_type": "execute_result"
    }
   ],
   "source": [
    "len(timePR[(timePR['tiempopinyfdg'])<0])"
   ]
  },
  {
   "cell_type": "code",
   "execution_count": 163,
   "metadata": {},
   "outputs": [
    {
     "data": {
      "text/plain": [
       "12.0"
      ]
     },
     "execution_count": 163,
     "metadata": {},
     "output_type": "execute_result"
    }
   ],
   "source": [
    "np.round((len(timePR[(timePR['tiempopinyfdg'])<0])*100)/len(timePR['tiempopinyfdg']),0)"
   ]
  },
  {
   "cell_type": "markdown",
   "metadata": {},
   "source": [
    "$$FD=e^{-\\frac{ln 2}{T_{1/2}}t} $$"
   ]
  },
  {
   "cell_type": "code",
   "execution_count": 354,
   "metadata": {},
   "outputs": [
    {
     "data": {
      "text/plain": [
       "1.0166852672697235"
      ]
     },
     "execution_count": 354,
     "metadata": {},
     "output_type": "execute_result"
    }
   ],
   "source": [
    "###### F-18\n",
    "## porcentaje de decaimiento por minuto\n",
    "#(1-np.exp(-LambdaF*1))*100\n",
    "###### Ga-68\n",
    "## porcentaje de decaimiento por minuto\n",
    "(1-np.exp(-LambdaGa*1))*100"
   ]
  },
  {
   "cell_type": "code",
   "execution_count": 165,
   "metadata": {
    "collapsed": true
   },
   "outputs": [],
   "source": [
    "### FDG 0.6 %/min\n",
    "timePR['Error']=(0.6 *(-1)*(tiempopinyfdg))"
   ]
  },
  {
   "cell_type": "code",
   "execution_count": 166,
   "metadata": {},
   "outputs": [
    {
     "data": {
      "text/plain": [
       "count    781.000000\n",
       "mean      -7.379770\n",
       "std       12.100386\n",
       "min      -91.200000\n",
       "25%      -12.000000\n",
       "50%       -5.400000\n",
       "75%       -0.000000\n",
       "max       30.000000\n",
       "Name: Error, dtype: float64"
      ]
     },
     "execution_count": 166,
     "metadata": {},
     "output_type": "execute_result"
    }
   ],
   "source": [
    "timePR['Error'].describe()"
   ]
  },
  {
   "cell_type": "code",
   "execution_count": 167,
   "metadata": {},
   "outputs": [
    {
     "data": {
      "text/plain": [
       "68.0"
      ]
     },
     "execution_count": 167,
     "metadata": {},
     "output_type": "execute_result"
    }
   ],
   "source": [
    "np.round((len(timePR[(np.absolute(timePR['Error'])<=10.0)])*100)/len(timePR['Error']),0)"
   ]
  },
  {
   "cell_type": "code",
   "execution_count": 168,
   "metadata": {},
   "outputs": [
    {
     "data": {
      "image/png": "[encoded data removed]",
      "text/plain": [
       "<Figure size 1080x648 with 1 Axes>"
      ]
     },
     "metadata": {},
     "output_type": "display_data"
    }
   ],
   "source": [
    "sns.set_context('poster')\n",
    "plt.figure(figsize=(15,9))\n",
    "sns.distplot(timePR['Error'],bins=20,norm_hist=False,kde=False,color='salmon',label='Actividad Inyectada')\n",
    "plt.plot((10, 10),(0,100), '--r', linewidth=1.2) \n",
    "plt.plot((-10, -10),(0,100), '--r', linewidth=1.2)\n",
    "plt.text(-7, 50, '68 %',color='red')\n",
    "plt.plot((20, 20),(0,125), '--k', linewidth=1) \n",
    "plt.plot((-20, -20),(0,125), '--k', linewidth=1) \n",
    "plt.text(-7, 110, '88 %')\n",
    "plt.xlabel('Relative error $\\%$',fontsize='large')\n",
    "plt.ylabel('Number of patients',fontsize='large')\n",
    "#plt.savefig('errorfdgIPresto.pdf',bbox_inches = \"tight\")"
   ]
  },
  {
   "cell_type": "code",
   "execution_count": 169,
   "metadata": {},
   "outputs": [
    {
     "data": {
      "text/plain": [
       "86"
      ]
     },
     "execution_count": 169,
     "metadata": {},
     "output_type": "execute_result"
    }
   ],
   "source": [
    "len(timePR[(timePR['Error'])<=-20.0])"
   ]
  },
  {
   "cell_type": "code",
   "execution_count": 170,
   "metadata": {},
   "outputs": [
    {
     "data": {
      "text/plain": [
       "11.0"
      ]
     },
     "execution_count": 170,
     "metadata": {},
     "output_type": "execute_result"
    }
   ],
   "source": [
    "np.round((len(timePR[(timePR['Error'])<=-20.0])*100)/len(timePR['Error']),0)"
   ]
  },
  {
   "cell_type": "markdown",
   "metadata": {
    "collapsed": true
   },
   "source": [
    "### Test de consistencia\n",
    "\n",
    "Revisión de la consistencia temporal de eventos en la práctica clínica de administración de radiofarmacos para toma de imagenes de apoyo diagnóstico PET/CT"
   ]
  },
  {
   "cell_type": "code",
   "execution_count": 355,
   "metadata": {
    "collapsed": true
   },
   "outputs": [],
   "source": [
    "### Test Consistencia\n",
    "## No es posible que la hora de inyección ocurra antes de la hora de recepción del bulto\n",
    "### Hora de recepción y Hora de inyección\n",
    "### FDG\n",
    "#timeIR = data.filter(items=['Horainy', 'Horarec'])\n",
    "#timeIR.dropna(subset=[\"Horainy\",\"Horarec\"],axis=0,inplace=True)\n",
    "#timeIR.reset_index(drop=True,inplace=True)\n",
    "\n",
    "## No es posible que la hora de inyección ocurra antes de la hora de dosificación\n",
    "### Hora de dosificación y Hora de inyección\n",
    "\n",
    "####### Limpieza de datos con NaN en casilla para test de consistencia\n",
    "data.dropna(subset=[\"Horainy\",\"Horadosi\"], axis=0, inplace=True)\n",
    "# reset index, because we droped rows\n",
    "data.reset_index(drop=True,inplace=True)\n",
    "\n",
    "#data.describe()"
   ]
  },
  {
   "cell_type": "code",
   "execution_count": 356,
   "metadata": {
    "collapsed": true
   },
   "outputs": [],
   "source": [
    "inytt = pd.to_datetime(data[\"Horainy\"],format='%H:%M')\n",
    "dosit = pd.to_datetime(data[\"Horadosi\"],format='%H:%M')"
   ]
  },
  {
   "cell_type": "code",
   "execution_count": 357,
   "metadata": {
    "collapsed": true
   },
   "outputs": [],
   "source": [
    "#### Elapsed time\n",
    "## Si el tiempo es negativo -> Hora de inyección de la unidosis ocurre antes\n",
    "#de la hora de dosificación\n",
    "\n",
    "#### Tiempo transcurrido entre la hora de dosificación y la hora de inyección\n",
    "ID=inytt-dosit"
   ]
  },
  {
   "cell_type": "code",
   "execution_count": 358,
   "metadata": {
    "collapsed": true
   },
   "outputs": [],
   "source": [
    "####### Tiempo prescripción y recepción \n",
    "listaID=ID.dt.days<0        \n",
    "tiempoidosi=ID.dt.seconds\n",
    "for i in range(len(listaID)):   \n",
    "    if listaID[i]:\n",
    "        ID[i]=abs(inytt[i]-dosit[i])\n",
    "        \n",
    "tiempoidosi=ID.dt.seconds/60     \n",
    "        \n",
    "for i in range(len(listaID)):   \n",
    "    if listaID[i]:\n",
    "        tiempoidosi[i]= tiempoidosi[i]*(-1) "
   ]
  },
  {
   "cell_type": "code",
   "execution_count": 359,
   "metadata": {},
   "outputs": [
    {
     "data": {
      "text/plain": [
       "count     80.000000\n",
       "mean      69.262500\n",
       "std       96.082605\n",
       "min     -250.000000\n",
       "25%       23.000000\n",
       "50%       45.500000\n",
       "75%       63.250000\n",
       "max      381.000000\n",
       "dtype: float64"
      ]
     },
     "execution_count": 359,
     "metadata": {},
     "output_type": "execute_result"
    }
   ],
   "source": [
    "data['tiempoidosi']=tiempoidosi\n",
    "tiempoidosi.describe()"
   ]
  },
  {
   "cell_type": "code",
   "execution_count": 360,
   "metadata": {},
   "outputs": [
    {
     "data": {
      "image/png": "[encoded data removed]",
      "text/plain": [
       "<Figure size 1080x648 with 1 Axes>"
      ]
     },
     "metadata": {},
     "output_type": "display_data"
    }
   ],
   "source": [
    "sns.set_context('poster')\n",
    "plt.figure(figsize=(15,9))\n",
    "sns.distplot(tiempoidosi,bins=18,kde=False,label='Actividad Inyectada',hist_kws={\"histtype\": \"step\", \"linewidth\": 3,\n",
    "\"alpha\": 0.75, \"color\": \"purple\"})\n",
    "#sns.distplot(tiempointer,norm_hist=True,kde=False,label='Actividad Inyectada',hist_kws={\"histtype\": \"step\", \"linewidth\": 3,\n",
    "#\"alpha\": 1, \"color\": \"b\"})\n",
    "plt.ylabel('Number of Patients')\n",
    "#plt.ylabel('Proporción de pacientes',fontsize=14)\n",
    "plt.xlabel('Injected Time-Dosing Time [min]')\n",
    "#plt.title('FDG')\n",
    "#plt.title('GA-DOTA')\n",
    "#plt.title('GA-PSMA')\n",
    "plt.savefig('gapsmaconsistencia.pdf',bbox_inches = \"tight\")"
   ]
  },
  {
   "cell_type": "code",
   "execution_count": 361,
   "metadata": {},
   "outputs": [
    {
     "data": {
      "text/plain": [
       "2"
      ]
     },
     "execution_count": 361,
     "metadata": {},
     "output_type": "execute_result"
    }
   ],
   "source": [
    "len(data[(data['tiempoidosi'])<0])"
   ]
  },
  {
   "cell_type": "code",
   "execution_count": 362,
   "metadata": {},
   "outputs": [
    {
     "data": {
      "text/plain": [
       "2.0"
      ]
     },
     "execution_count": 362,
     "metadata": {},
     "output_type": "execute_result"
    }
   ],
   "source": [
    "np.round((len(data[(data['tiempoidosi'])<0])*100)/len(data['tiempoidosi']),0)"
   ]
  },
  {
   "cell_type": "markdown",
   "metadata": {},
   "source": [
    "Remover las unidosis inyectadas antes de la dosificación"
   ]
  },
  {
   "cell_type": "code",
   "execution_count": 363,
   "metadata": {
    "collapsed": true
   },
   "outputs": [],
   "source": [
    "#i=data[data['tiempoidosi']<0].index.tolist()\n",
    "#len(i)"
   ]
  },
  {
   "cell_type": "code",
   "execution_count": 364,
   "metadata": {
    "collapsed": true
   },
   "outputs": [],
   "source": [
    "#1151-23"
   ]
  },
  {
   "cell_type": "code",
   "execution_count": 365,
   "metadata": {
    "collapsed": true
   },
   "outputs": [],
   "source": [
    "#Localización y conversión a Not a Number NaN\n",
    "data.loc[(data['tiempoidosi'])<0]= np.nan\n",
    "\n",
    "# simply drop whole row with NaN in \"timeID\" column\n",
    "data.dropna(subset=[\"tiempoidosi\"], axis=0, inplace=True)\n",
    "\n",
    "\n",
    "data.reset_index(drop=True, inplace=True)"
   ]
  },
  {
   "cell_type": "code",
   "execution_count": 366,
   "metadata": {},
   "outputs": [
    {
     "data": {
      "text/html": [
       "<div>\n",
       "<table border=\"1\" class=\"dataframe\">\n",
       "  <thead>\n",
       "    <tr style=\"text-align: right;\">\n",
       "      <th></th>\n",
       "      <th>Actipres</th>\n",
       "      <th>Peso</th>\n",
       "      <th>Actidosi</th>\n",
       "      <th>Actiny</th>\n",
       "      <th>tiempoidosi</th>\n",
       "    </tr>\n",
       "  </thead>\n",
       "  <tbody>\n",
       "    <tr>\n",
       "      <th>count</th>\n",
       "      <td>78.000000</td>\n",
       "      <td>78.000000</td>\n",
       "      <td>78.000000</td>\n",
       "      <td>78.000000</td>\n",
       "      <td>78.000000</td>\n",
       "    </tr>\n",
       "    <tr>\n",
       "      <th>mean</th>\n",
       "      <td>5.356410</td>\n",
       "      <td>75.756410</td>\n",
       "      <td>13.091154</td>\n",
       "      <td>5.401410</td>\n",
       "      <td>74.782051</td>\n",
       "    </tr>\n",
       "    <tr>\n",
       "      <th>std</th>\n",
       "      <td>2.615207</td>\n",
       "      <td>13.132873</td>\n",
       "      <td>17.661590</td>\n",
       "      <td>2.602099</td>\n",
       "      <td>89.197963</td>\n",
       "    </tr>\n",
       "    <tr>\n",
       "      <th>min</th>\n",
       "      <td>3.000000</td>\n",
       "      <td>47.000000</td>\n",
       "      <td>2.800000</td>\n",
       "      <td>2.500000</td>\n",
       "      <td>5.000000</td>\n",
       "    </tr>\n",
       "    <tr>\n",
       "      <th>25%</th>\n",
       "      <td>4.000000</td>\n",
       "      <td>69.000000</td>\n",
       "      <td>4.500000</td>\n",
       "      <td>3.580000</td>\n",
       "      <td>24.000000</td>\n",
       "    </tr>\n",
       "    <tr>\n",
       "      <th>50%</th>\n",
       "      <td>4.000000</td>\n",
       "      <td>75.000000</td>\n",
       "      <td>6.400000</td>\n",
       "      <td>4.460000</td>\n",
       "      <td>47.000000</td>\n",
       "    </tr>\n",
       "    <tr>\n",
       "      <th>75%</th>\n",
       "      <td>4.000000</td>\n",
       "      <td>82.000000</td>\n",
       "      <td>8.950000</td>\n",
       "      <td>6.717500</td>\n",
       "      <td>63.750000</td>\n",
       "    </tr>\n",
       "    <tr>\n",
       "      <th>max</th>\n",
       "      <td>13.200000</td>\n",
       "      <td>117.000000</td>\n",
       "      <td>84.600000</td>\n",
       "      <td>13.510000</td>\n",
       "      <td>381.000000</td>\n",
       "    </tr>\n",
       "  </tbody>\n",
       "</table>\n",
       "</div>"
      ],
      "text/plain": [
       "        Actipres        Peso   Actidosi     Actiny  tiempoidosi\n",
       "count  78.000000   78.000000  78.000000  78.000000    78.000000\n",
       "mean    5.356410   75.756410  13.091154   5.401410    74.782051\n",
       "std     2.615207   13.132873  17.661590   2.602099    89.197963\n",
       "min     3.000000   47.000000   2.800000   2.500000     5.000000\n",
       "25%     4.000000   69.000000   4.500000   3.580000    24.000000\n",
       "50%     4.000000   75.000000   6.400000   4.460000    47.000000\n",
       "75%     4.000000   82.000000   8.950000   6.717500    63.750000\n",
       "max    13.200000  117.000000  84.600000  13.510000   381.000000"
      ]
     },
     "execution_count": 366,
     "metadata": {},
     "output_type": "execute_result"
    }
   ],
   "source": [
    "data.describe()"
   ]
  },
  {
   "cell_type": "markdown",
   "metadata": {},
   "source": [
    "## Primer metodo: Tiempo de prescripcion respecto a tiempo de inyeccion"
   ]
  },
  {
   "cell_type": "code",
   "execution_count": 367,
   "metadata": {
    "collapsed": true
   },
   "outputs": [],
   "source": [
    "inypm = pd.to_datetime(data[\"Horainy\"],format='%H:%M')\n",
    "prespm = pd.to_datetime(data[\"Horadm\"],format='%H:%M')"
   ]
  },
  {
   "cell_type": "code",
   "execution_count": 368,
   "metadata": {
    "collapsed": true
   },
   "outputs": [],
   "source": [
    "#### Elapsed time\n",
    "## Si el tiempo es negativo -> La inyección de la unidosis ocurrió antes\n",
    "#de la hora prescrita\n",
    "\n",
    "#### Tiempo transcurrido entre la hora de prescripción y la hora de inyección \n",
    "PIpm=inypm-prespm"
   ]
  },
  {
   "cell_type": "code",
   "execution_count": 369,
   "metadata": {
    "collapsed": true
   },
   "outputs": [],
   "source": [
    "####### Tiempo prescripción e inyección \n",
    "listaPIpm=PIpm.dt.days<0        \n",
    "tiempopinypm=PIpm.dt.seconds\n",
    "for i in range(len(listaPIpm)):   \n",
    "    if listaPIpm[i]:\n",
    "        PIpm[i]=abs(inypm[i]-prespm[i])\n",
    "        \n",
    "tiempopinypm=PIpm.dt.seconds/60     \n",
    "        \n",
    "for i in range(len(listaPIpm)):   \n",
    "    if listaPIpm[i]:\n",
    "        tiempopinypm[i]= tiempopinypm[i]*(-1) "
   ]
  },
  {
   "cell_type": "code",
   "execution_count": 370,
   "metadata": {},
   "outputs": [
    {
     "data": {
      "text/plain": [
       "count     78.000000\n",
       "mean      18.358974\n",
       "std       34.522334\n",
       "min      -20.000000\n",
       "25%        4.250000\n",
       "50%       13.500000\n",
       "75%       25.000000\n",
       "max      285.000000\n",
       "dtype: float64"
      ]
     },
     "execution_count": 370,
     "metadata": {},
     "output_type": "execute_result"
    }
   ],
   "source": [
    "data['tiempopinypm']=tiempopinypm\n",
    "tiempopinypm.describe()"
   ]
  },
  {
   "cell_type": "code",
   "execution_count": 372,
   "metadata": {},
   "outputs": [
    {
     "data": {
      "image/png": "[encoded data removed]",
      "text/plain": [
       "<Figure size 1080x648 with 1 Axes>"
      ]
     },
     "metadata": {},
     "output_type": "display_data"
    }
   ],
   "source": [
    "sns.set_context('poster')\n",
    "plt.figure(figsize=(15,9))\n",
    "sns.distplot(tiempopinypm,bins=15,kde=False,label='Actividad Inyectada',hist_kws={\"histtype\": \"step\", \"linewidth\": 3,\"alpha\": 0.75, \"color\": \"b\"})\n",
    "plt.ylabel('Number of Patients')\n",
    "#plt.ylabel('Proporción de pacientes',fontsize=14)\n",
    "plt.xlabel('Injected Time-Prescribed Time [min]')\n",
    "#plt.title('FDG')\n",
    "plt.savefig('gapsmainyprespm.pdf',bbox_inches = \"tight\")"
   ]
  },
  {
   "cell_type": "code",
   "execution_count": 389,
   "metadata": {},
   "outputs": [
    {
     "data": {
      "text/plain": [
       "60"
      ]
     },
     "execution_count": 389,
     "metadata": {},
     "output_type": "execute_result"
    }
   ],
   "source": [
    "len(data[(data['tiempopinypm'])>0])"
   ]
  },
  {
   "cell_type": "code",
   "execution_count": 390,
   "metadata": {},
   "outputs": [
    {
     "data": {
      "text/plain": [
       "77.0"
      ]
     },
     "execution_count": 390,
     "metadata": {},
     "output_type": "execute_result"
    }
   ],
   "source": [
    "np.round((len(data[(data['tiempopinypm'])>0])*100)/len(data['tiempopinypm']),0)"
   ]
  },
  {
   "cell_type": "code",
   "execution_count": 375,
   "metadata": {
    "collapsed": true
   },
   "outputs": [],
   "source": [
    "### FDG 0.6 %/min\n",
    "#data['Error']=(0.6 *(-1)*(tiempopinypm))\n",
    "### GALIO 1.0 %/min\n",
    "data['Error']=(1.0 *(-1)*(tiempopinypm))"
   ]
  },
  {
   "cell_type": "code",
   "execution_count": 376,
   "metadata": {},
   "outputs": [
    {
     "data": {
      "text/plain": [
       "count     78.000000\n",
       "mean     -18.358974\n",
       "std       34.522334\n",
       "min     -285.000000\n",
       "25%      -25.000000\n",
       "50%      -13.500000\n",
       "75%       -4.250000\n",
       "max       20.000000\n",
       "Name: Error, dtype: float64"
      ]
     },
     "execution_count": 376,
     "metadata": {},
     "output_type": "execute_result"
    }
   ],
   "source": [
    "data['Error'].describe()"
   ]
  },
  {
   "cell_type": "code",
   "execution_count": 378,
   "metadata": {},
   "outputs": [
    {
     "data": {
      "text/plain": [
       "42.0"
      ]
     },
     "execution_count": 378,
     "metadata": {},
     "output_type": "execute_result"
    }
   ],
   "source": [
    "np.round((len(data[(np.absolute(data['Error'])<=10.0)])*100)/len(data['Error']),0)"
   ]
  },
  {
   "cell_type": "code",
   "execution_count": 379,
   "metadata": {},
   "outputs": [
    {
     "data": {
      "image/png": "[encoded data removed]",
      "text/plain": [
       "<Figure size 1080x648 with 1 Axes>"
      ]
     },
     "metadata": {},
     "output_type": "display_data"
    }
   ],
   "source": [
    "sns.set_context('poster')\n",
    "plt.figure(figsize=(15,9))\n",
    "sns.distplot(data['Error'],bins=16,norm_hist=False,kde=False,color='c',label='Actividad Inyectada')\n",
    "plt.plot((10, 10),(0,15), '--r', linewidth=1.2) \n",
    "plt.plot((-10, -10),(0,15), '--r', linewidth=1.2)\n",
    "plt.text(-5, 5, '42 %',color='red')\n",
    "plt.plot((20, 20),(0,20), '--k', linewidth=1) \n",
    "plt.plot((-20, -20),(0,20), '--k', linewidth=1) \n",
    "plt.text(-5, 18, '68 %')\n",
    "plt.xlabel('Relative error $\\%$')\n",
    "plt.ylabel('Number of patients')\n",
    "plt.savefig('errorgapsmaIPrespm.pdf',bbox_inches = \"tight\")"
   ]
  },
  {
   "cell_type": "code",
   "execution_count": 380,
   "metadata": {},
   "outputs": [
    {
     "data": {
      "text/plain": [
       "32"
      ]
     },
     "execution_count": 380,
     "metadata": {},
     "output_type": "execute_result"
    }
   ],
   "source": [
    "len(data[(data['Error'])<=-20.0])"
   ]
  },
  {
   "cell_type": "code",
   "execution_count": 381,
   "metadata": {},
   "outputs": [
    {
     "data": {
      "text/plain": [
       "41.0"
      ]
     },
     "execution_count": 381,
     "metadata": {},
     "output_type": "execute_result"
    }
   ],
   "source": [
    "np.round((len(data[(data['Error'])<=-20.0])*100)/len(data['Error']),1)"
   ]
  },
  {
   "cell_type": "markdown",
   "metadata": {},
   "source": [
    "### Diferencia entre actividad prescrita (corregida por decaimiento) y prescrita"
   ]
  },
  {
   "cell_type": "markdown",
   "metadata": {},
   "source": [
    "\\begin{equation}\n",
    "\\%=\\frac{(\\text{Actividad prescrita}\\times \\text{DF}-\\text{Actividad Prescrita})\\times 100}{\\text{Actividad Prescrita}}\n",
    "\\end{equation}"
   ]
  },
  {
   "cell_type": "code",
   "execution_count": 382,
   "metadata": {
    "collapsed": true
   },
   "outputs": [],
   "source": [
    "## Decay Factor Correction\n",
    "### FDG\n",
    "#DF=np.exp(-LambdaF*data['tiempopinypm'])\n",
    "### GALIOS\n",
    "DF=np.exp(-LambdaGa*data['tiempopinypm'])"
   ]
  },
  {
   "cell_type": "code",
   "execution_count": 383,
   "metadata": {
    "collapsed": true
   },
   "outputs": [],
   "source": [
    "#### Correcion actividad prescrita a hora de inyeccion \n",
    "data['CActpresiny']=data['Actipres']*DF"
   ]
  },
  {
   "cell_type": "code",
   "execution_count": 384,
   "metadata": {},
   "outputs": [
    {
     "data": {
      "text/plain": [
       "count    78.000000\n",
       "mean    -14.037175\n",
       "std      16.617244\n",
       "min     -94.565394\n",
       "25%     -22.544933\n",
       "50%     -12.885073\n",
       "75%      -4.249133\n",
       "max      22.676149\n",
       "Name: desviaipres, dtype: float64"
      ]
     },
     "execution_count": 384,
     "metadata": {},
     "output_type": "execute_result"
    }
   ],
   "source": [
    "data[\"desviaipres\"]=((data[\"CActpresiny\"]-data[\"Actipres\"])*100)/data[\"Actipres\"]\n",
    "data[\"desviaipres\"].describe()"
   ]
  },
  {
   "cell_type": "code",
   "execution_count": 393,
   "metadata": {},
   "outputs": [
    {
     "data": {
      "text/plain": [
       "40.0"
      ]
     },
     "execution_count": 393,
     "metadata": {},
     "output_type": "execute_result"
    }
   ],
   "source": [
    "np.round((len(data[(np.absolute(data['desviaipres'])<=10.0)])*100)/len(data['desviaipres']),0)"
   ]
  },
  {
   "cell_type": "code",
   "execution_count": 394,
   "metadata": {},
   "outputs": [
    {
     "data": {
      "image/png": "[encoded data removed]",
      "text/plain": [
       "<Figure size 1080x648 with 1 Axes>"
      ]
     },
     "metadata": {},
     "output_type": "display_data"
    }
   ],
   "source": [
    "sns.set_context('poster')\n",
    "plt.figure(figsize=(15,9))\n",
    "sns.distplot(data['desviaipres'],bins=16,norm_hist=False,kde=False,color='springgreen',label='Actividad Inyectada')\n",
    "plt.plot((10, 10),(0,10), '--r', linewidth=1.2) \n",
    "plt.plot((-10, -10),(0,10), '--r', linewidth=1.2)\n",
    "plt.text(-5, 5, '40 %',color='red')\n",
    "plt.plot((20, 20),(0,20), '--k', linewidth=1) \n",
    "plt.plot((-20, -20),(0,20), '--k', linewidth=1) \n",
    "plt.text(-5, 15, '67 %') \n",
    "plt.xlabel('Relative Error $\\%$')\n",
    "plt.ylabel('Number of patients')\n",
    "plt.savefig('errelgapsmainypcor.pdf',bbox_inches = \"tight\")"
   ]
  },
  {
   "cell_type": "code",
   "execution_count": 395,
   "metadata": {},
   "outputs": [
    {
     "data": {
      "text/plain": [
       "25"
      ]
     },
     "execution_count": 395,
     "metadata": {},
     "output_type": "execute_result"
    }
   ],
   "source": [
    "len(data[(data['desviaipres'])<=-20.0])"
   ]
  },
  {
   "cell_type": "code",
   "execution_count": 396,
   "metadata": {},
   "outputs": [
    {
     "data": {
      "text/plain": [
       "32.100000000000001"
      ]
     },
     "execution_count": 396,
     "metadata": {},
     "output_type": "execute_result"
    }
   ],
   "source": [
    "np.round((len(data[(data['desviaipres'])<=-20.0])*100)/len(data['desviaipres']),1)"
   ]
  },
  {
   "cell_type": "markdown",
   "metadata": {},
   "source": [
    "### Diferencia entre actividad dosificada (corregida por decaimiento) y prescrita"
   ]
  },
  {
   "cell_type": "markdown",
   "metadata": {},
   "source": [
    "\\begin{equation}\n",
    "\\%=\\frac{(\\text{Actividad dosificada}\\times \\text{FD}-\\text{Actividad Prescrita})\\times 100}{\\text{Actividad Prescrita}}\n",
    "\\end{equation}"
   ]
  },
  {
   "cell_type": "code",
   "execution_count": 397,
   "metadata": {
    "collapsed": true
   },
   "outputs": [],
   "source": [
    "## Decay Factor Correction\n",
    "### FDG\n",
    "#FD=np.exp(-LambdaF*data['tiempoidosi'])\n",
    "### GALIOS\n",
    "FD=np.exp(-LambdaGa*data['tiempoidosi'])"
   ]
  },
  {
   "cell_type": "code",
   "execution_count": 398,
   "metadata": {
    "collapsed": true
   },
   "outputs": [],
   "source": [
    "#### Correcion actividad dosificada a hora de inyeccion \n",
    "data['CActdosiny']=data['Actidosi']*FD"
   ]
  },
  {
   "cell_type": "code",
   "execution_count": 399,
   "metadata": {},
   "outputs": [
    {
     "data": {
      "text/plain": [
       "count    78.000000\n",
       "mean    -15.170359\n",
       "std      30.875558\n",
       "min     -95.299974\n",
       "25%     -33.569520\n",
       "50%     -14.083041\n",
       "75%       6.729500\n",
       "max      36.591308\n",
       "Name: desviaidosi, dtype: float64"
      ]
     },
     "execution_count": 399,
     "metadata": {},
     "output_type": "execute_result"
    }
   ],
   "source": [
    "data[\"desviaidosi\"]=((data[\"CActdosiny\"]-data[\"Actipres\"])*100)/data[\"Actipres\"]\n",
    "data[\"desviaidosi\"].describe()"
   ]
  },
  {
   "cell_type": "code",
   "execution_count": 400,
   "metadata": {},
   "outputs": [
    {
     "data": {
      "text/plain": [
       "47.0"
      ]
     },
     "execution_count": 400,
     "metadata": {},
     "output_type": "execute_result"
    }
   ],
   "source": [
    "np.round((len(data[(np.absolute(data['desviaidosi'])<=20.0)])*100)/len(data['desviaidosi']),0)"
   ]
  },
  {
   "cell_type": "code",
   "execution_count": 401,
   "metadata": {},
   "outputs": [
    {
     "data": {
      "image/png": "[encoded data removed]",
      "text/plain": [
       "<Figure size 1080x648 with 1 Axes>"
      ]
     },
     "metadata": {},
     "output_type": "display_data"
    }
   ],
   "source": [
    "sns.set_context('poster')\n",
    "plt.figure(figsize=(15,9))\n",
    "sns.distplot(data['desviaidosi'],bins=16,norm_hist=False,kde=False,color='green',label='Actividad Inyectada')\n",
    "plt.plot((10, 10),(0,10), '--r', linewidth=1.2) \n",
    "plt.plot((-10, -10),(0,10), '--r', linewidth=1.2)\n",
    "plt.text(-7, 5, '22 %',color='red')\n",
    "plt.plot((20, 20),(0,15), '--k', linewidth=1) \n",
    "plt.plot((-20, -20),(0,15), '--k', linewidth=1) \n",
    "plt.text(-7, 11, '46 %')\n",
    "plt.xlabel('Relative Error $\\%$')\n",
    "plt.ylabel('Number of patients')\n",
    "plt.savefig('errelgapsmainydosicor.pdf',bbox_inches = \"tight\")"
   ]
  },
  {
   "cell_type": "code",
   "execution_count": 402,
   "metadata": {},
   "outputs": [
    {
     "data": {
      "text/plain": [
       "31"
      ]
     },
     "execution_count": 402,
     "metadata": {},
     "output_type": "execute_result"
    }
   ],
   "source": [
    "len(data[(data['desviaidosi'])<=-20.0])"
   ]
  },
  {
   "cell_type": "code",
   "execution_count": 403,
   "metadata": {},
   "outputs": [
    {
     "data": {
      "text/plain": [
       "40.0"
      ]
     },
     "execution_count": 403,
     "metadata": {},
     "output_type": "execute_result"
    }
   ],
   "source": [
    "np.round((len(data[(data['desviaidosi'])<=-20.0])*100)/len(data['desviaidosi']),0)"
   ]
  },
  {
   "cell_type": "markdown",
   "metadata": {},
   "source": [
    "### DRL "
   ]
  },
  {
   "cell_type": "code",
   "execution_count": 406,
   "metadata": {},
   "outputs": [
    {
     "data": {
      "text/plain": [
       "count    78.000000\n",
       "mean      5.401410\n",
       "std       2.602099\n",
       "min       2.500000\n",
       "25%       3.580000\n",
       "50%       4.460000\n",
       "75%       6.717500\n",
       "max      13.510000\n",
       "Name: Actiny, dtype: float64"
      ]
     },
     "execution_count": 406,
     "metadata": {},
     "output_type": "execute_result"
    }
   ],
   "source": [
    "data.dropna(subset=[\"Actiny\"], axis=0, inplace=True)\n",
    "data.dropna(subset=[\"Actipres\"], axis=0, inplace=True)\n",
    "#data.dropna(subset=[\"Fecha\"], axis=0, inplace=True)\n",
    "# reset index, because we droped rows\n",
    "data.reset_index(drop=True, inplace=True)\n",
    "data['Actiny'].describe()"
   ]
  },
  {
   "cell_type": "code",
   "execution_count": 405,
   "metadata": {},
   "outputs": [
    {
     "data": {
      "image/png": "[encoded data removed]",
      "text/plain": [
       "<Figure size 720x504 with 2 Axes>"
      ]
     },
     "metadata": {},
     "output_type": "display_data"
    }
   ],
   "source": [
    "### Plot the data\n",
    "plt.figure(figsize=(10,7))\n",
    "ax1=plt.subplot(1,1,1)\n",
    "sns.distplot(data['Actiny'],norm_hist=False,kde=False,ax=ax1,label='Injected Activity',hist_kws={\"histtype\": \"step\", \"linewidth\": 3,\n",
    "\"alpha\": 1, \"color\": \"b\"})\n",
    "sns.distplot(data['Actipres'],norm_hist=False,kde=False,ax=ax1, label='Prescribed Activity',hist_kws={\"histtype\": \"step\", \"linewidth\": 3,\n",
    "\"alpha\": 1, \"color\": \"g\"})\n",
    "\n",
    "################################ \n",
    "#########  FDG  ################\n",
    "#plt.plot((20, 20),(0,140), '--k', linewidth=1) \n",
    "#plt.plot((4, 4),(0,140), '--k', linewidth=1) \n",
    "#plt.plot((9.0, 9.0),(0,140), '--r', linewidth=2,label='DRL-Injected')\n",
    "\n",
    "\n",
    "################################ \n",
    "#########  GAPSMA  ################\n",
    "#plt.plot((20, 20),(0,0.25), '--k', linewidth=1) \n",
    "#plt.plot((4, 4),(0,0.25), '--k', linewidth=1) \n",
    "#plt.plot((4.46, 4.46),(0,60), '--r', linewidth=2,label='DRL-Injected')\n",
    "\n",
    "################################ \n",
    "#########  GADOTANOC  ################\n",
    "#plt.plot((20, 20),(0,0.25), '--k', linewidth=1) \n",
    "#plt.plot((4, 4),(0,0.25), '--k', linewidth=1) \n",
    "plt.plot((3.88, 3.88),(0,45), '--r', linewidth=2,label='DRL-Injected')\n",
    "\n",
    "\n",
    "#ax1.set_title('$^{18}$F-FDG',fontsize=14)\n",
    "#ax1.set_title('$^{68}$Ga-PSMA',fontsize=14)\n",
    "#ax1.set_title('$^{68}$Ga-DOTA',fontsize=14)\n",
    "ax1.set_ylabel('Number of patients')\n",
    "ax1.set_xlabel('Activity [mCi]',fontsize=18)\n",
    "ax1.tick_params(axis='both',labelsize=20)\n",
    "ax1.legend(loc='upper right')\n",
    "sns.set_style('ticks')\n",
    "\n",
    "## Set second x-axis for MBq\n",
    "ax2 = ax1.twiny()\n",
    "MBqs = np.linspace(data['Actiny'].min(),data['Actiny'].max()*37,7) # Actividad en MBq\n",
    "ax2.set_xticks(MBqs/37) # Ponga los ticks\n",
    "ax2.set_xticklabels(MBqs.astype(int)) # Ponga los Labels\n",
    "ax2.xaxis.set_ticks_position('bottom') # set the position of the second x-axis to bottom\n",
    "ax2.xaxis.set_label_position('bottom') # set the position of the second x-axis to bottom\n",
    "ax2.spines['bottom'].set_position(('outward', 56))\n",
    "ax2.set_xlabel('Activity [MBq]',fontsize=18)\n",
    "ax2.set_xlim(ax1.get_xlim())\n",
    "ax2.tick_params(labelsize=18)\n",
    "\n",
    "\n",
    "plt.savefig('gapsmadrl.pdf',bbox_inches = \"tight\")"
   ]
  },
  {
   "cell_type": "markdown",
   "metadata": {},
   "source": [
    "## Calculos "
   ]
  },
  {
   "cell_type": "markdown",
   "metadata": {},
   "source": [
    "### Diferencia entre actividad prescrita e inyectada "
   ]
  },
  {
   "cell_type": "markdown",
   "metadata": {},
   "source": [
    "\\begin{equation}\n",
    "\\%=\\frac{(\\text{Actividad Inyectada}-\\text{Actividad Prescrita})\\times 100}{\\text{Actividad Prescrita}}\n",
    "\\end{equation}"
   ]
  },
  {
   "cell_type": "code",
   "execution_count": 407,
   "metadata": {},
   "outputs": [
    {
     "data": {
      "text/plain": [
       "count     78.000000\n",
       "mean       2.488728\n",
       "std       24.657034\n",
       "min      -37.500000\n",
       "25%      -11.882883\n",
       "50%        0.378788\n",
       "75%       12.562500\n",
       "max      142.500000\n",
       "Name: desviasigno, dtype: float64"
      ]
     },
     "execution_count": 407,
     "metadata": {},
     "output_type": "execute_result"
    }
   ],
   "source": [
    "##### Error relativo porcentual entre actividad inyectada y prescrita\n",
    "data[\"desviasigno\"]=((data[\"Actiny\"]-data[\"Actipres\"])*100)/data[\"Actipres\"]\n",
    "data[\"desviasigno\"].describe()"
   ]
  },
  {
   "cell_type": "code",
   "execution_count": 408,
   "metadata": {},
   "outputs": [
    {
     "data": {
      "text/plain": [
       "37.0"
      ]
     },
     "execution_count": 408,
     "metadata": {},
     "output_type": "execute_result"
    }
   ],
   "source": [
    "np.round((len(data[(np.absolute(data['desviasigno'])<=10.0)])*100)/len(data['desviasigno']),0)"
   ]
  },
  {
   "cell_type": "code",
   "execution_count": 412,
   "metadata": {},
   "outputs": [
    {
     "data": {
      "image/png": "[encoded data removed]",
      "text/plain": [
       "<Figure size 1080x648 with 1 Axes>"
      ]
     },
     "metadata": {},
     "output_type": "display_data"
    }
   ],
   "source": [
    "sns.set_context('poster')\n",
    "plt.figure(figsize=(15,9))\n",
    "sns.distplot(data['desviasigno'],bins=12,norm_hist=False,kde=False,color='hotpink',label='Actividad Inyectada')\n",
    "plt.plot((10, 10),(0,10), '--r', linewidth=1.2) \n",
    "plt.plot((-10, -10),(0,10), '--r', linewidth=1.2)\n",
    "plt.text(-7, 5, '37 %',color='red')\n",
    "plt.plot((20, 20),(0,18), '--k', linewidth=1) \n",
    "plt.plot((-20, -20),(0,18), '--k', linewidth=1) \n",
    "plt.text(-7, 13, '65 %')\n",
    "plt.xlabel('Relative Error $\\%$')\n",
    "plt.ylabel('Number of patients')\n",
    "plt.savefig('errelgapsmadesviasigno.pdf',bbox_inches = \"tight\")"
   ]
  },
  {
   "cell_type": "code",
   "execution_count": 413,
   "metadata": {},
   "outputs": [
    {
     "data": {
      "text/plain": [
       "13"
      ]
     },
     "execution_count": 413,
     "metadata": {},
     "output_type": "execute_result"
    }
   ],
   "source": [
    "len(data[(data['desviasigno'])<-20.0])"
   ]
  },
  {
   "cell_type": "code",
   "execution_count": 414,
   "metadata": {},
   "outputs": [
    {
     "data": {
      "text/plain": [
       "17.0"
      ]
     },
     "execution_count": 414,
     "metadata": {},
     "output_type": "execute_result"
    }
   ],
   "source": [
    "np.round((len(data[(data['desviasigno'])<-20.0])*100)/len(data['desviasigno']),0)"
   ]
  },
  {
   "cell_type": "markdown",
   "metadata": {
    "collapsed": true
   },
   "source": [
    "# Segundo Método: Actividad residual en jeringa post inyección"
   ]
  },
  {
   "cell_type": "code",
   "execution_count": 415,
   "metadata": {},
   "outputs": [
    {
     "data": {
      "text/html": [
       "<div>\n",
       "<table border=\"1\" class=\"dataframe\">\n",
       "  <thead>\n",
       "    <tr style=\"text-align: right;\">\n",
       "      <th></th>\n",
       "      <th>RN</th>\n",
       "      <th>Actpre</th>\n",
       "      <th>Actpost</th>\n",
       "    </tr>\n",
       "  </thead>\n",
       "  <tbody>\n",
       "    <tr>\n",
       "      <th>0</th>\n",
       "      <td>FDG</td>\n",
       "      <td>6.98</td>\n",
       "      <td>0.15</td>\n",
       "    </tr>\n",
       "    <tr>\n",
       "      <th>1</th>\n",
       "      <td>FDG</td>\n",
       "      <td>9.37</td>\n",
       "      <td>0.36</td>\n",
       "    </tr>\n",
       "    <tr>\n",
       "      <th>2</th>\n",
       "      <td>FDG</td>\n",
       "      <td>13.78</td>\n",
       "      <td>0.39</td>\n",
       "    </tr>\n",
       "    <tr>\n",
       "      <th>3</th>\n",
       "      <td>FDG</td>\n",
       "      <td>9.71</td>\n",
       "      <td>0.44</td>\n",
       "    </tr>\n",
       "    <tr>\n",
       "      <th>4</th>\n",
       "      <td>FDG</td>\n",
       "      <td>11.42</td>\n",
       "      <td>0.30</td>\n",
       "    </tr>\n",
       "  </tbody>\n",
       "</table>\n",
       "</div>"
      ],
      "text/plain": [
       "    RN  Actpre  Actpost\n",
       "0  FDG    6.98     0.15\n",
       "1  FDG    9.37     0.36\n",
       "2  FDG   13.78     0.39\n",
       "3  FDG    9.71     0.44\n",
       "4  FDG   11.42     0.30"
      ]
     },
     "execution_count": 415,
     "metadata": {},
     "output_type": "execute_result"
    }
   ],
   "source": [
    "residual = pd.read_csv('remanente.txt', delim_whitespace =True)\n",
    "\n",
    "residual.head()"
   ]
  },
  {
   "cell_type": "code",
   "execution_count": 416,
   "metadata": {},
   "outputs": [],
   "source": [
    "residual['Actiny']=residual['Actpre']-residual['Actpost']"
   ]
  },
  {
   "cell_type": "code",
   "execution_count": 417,
   "metadata": {},
   "outputs": [],
   "source": [
    "residual['Porcentaje']=(residual['Actpost']*100)/residual['Actpre']"
   ]
  },
  {
   "cell_type": "code",
   "execution_count": 418,
   "metadata": {},
   "outputs": [
    {
     "data": {
      "image/png": "[encoded data removed]",
      "text/plain": [
       "<Figure size 1080x648 with 1 Axes>"
      ]
     },
     "metadata": {},
     "output_type": "display_data"
    }
   ],
   "source": [
    "sns.set_context('poster')\n",
    "plt.figure(figsize=(15,9))\n",
    "sns.boxplot(x=\"RN\", y=\"Porcentaje\", data=residual,\n",
    "              linewidth = 0.5,\n",
    "              palette='Accent',\n",
    "              fliersize=2)\n",
    "#plt.setp(h.artists, edgecolor = 'darkgray')\n",
    "#plt.setp(h.lines, color='darkgray')\n",
    "plt.ylabel('Residual Activy %')\n",
    "#plt.xlabel(\"Radionuc\")\n",
    "#plt.xticks(rotation=90)\n",
    "plt.savefig('residual.pdf',bbox_inches = \"tight\")"
   ]
  },
  {
   "cell_type": "code",
   "execution_count": 419,
   "metadata": {},
   "outputs": [
    {
     "data": {
      "text/html": [
       "<div>\n",
       "<table border=\"1\" class=\"dataframe\">\n",
       "  <thead>\n",
       "    <tr style=\"text-align: right;\">\n",
       "      <th></th>\n",
       "      <th>Actpre</th>\n",
       "      <th>Actpost</th>\n",
       "      <th>Actiny</th>\n",
       "      <th>Porcentaje</th>\n",
       "    </tr>\n",
       "  </thead>\n",
       "  <tbody>\n",
       "    <tr>\n",
       "      <th>count</th>\n",
       "      <td>14.000000</td>\n",
       "      <td>14.000000</td>\n",
       "      <td>14.000000</td>\n",
       "      <td>14.000000</td>\n",
       "    </tr>\n",
       "    <tr>\n",
       "      <th>mean</th>\n",
       "      <td>10.537857</td>\n",
       "      <td>0.256143</td>\n",
       "      <td>10.281714</td>\n",
       "      <td>2.495151</td>\n",
       "    </tr>\n",
       "    <tr>\n",
       "      <th>std</th>\n",
       "      <td>2.273091</td>\n",
       "      <td>0.125702</td>\n",
       "      <td>2.245969</td>\n",
       "      <td>1.249779</td>\n",
       "    </tr>\n",
       "    <tr>\n",
       "      <th>min</th>\n",
       "      <td>6.890000</td>\n",
       "      <td>0.064000</td>\n",
       "      <td>6.570000</td>\n",
       "      <td>0.673684</td>\n",
       "    </tr>\n",
       "    <tr>\n",
       "      <th>25%</th>\n",
       "      <td>9.402500</td>\n",
       "      <td>0.180500</td>\n",
       "      <td>9.075000</td>\n",
       "      <td>1.842214</td>\n",
       "    </tr>\n",
       "    <tr>\n",
       "      <th>50%</th>\n",
       "      <td>10.860000</td>\n",
       "      <td>0.215000</td>\n",
       "      <td>10.645000</td>\n",
       "      <td>2.215275</td>\n",
       "    </tr>\n",
       "    <tr>\n",
       "      <th>75%</th>\n",
       "      <td>11.480000</td>\n",
       "      <td>0.350000</td>\n",
       "      <td>11.333000</td>\n",
       "      <td>3.293754</td>\n",
       "    </tr>\n",
       "    <tr>\n",
       "      <th>max</th>\n",
       "      <td>13.790000</td>\n",
       "      <td>0.470000</td>\n",
       "      <td>13.612000</td>\n",
       "      <td>4.644412</td>\n",
       "    </tr>\n",
       "  </tbody>\n",
       "</table>\n",
       "</div>"
      ],
      "text/plain": [
       "          Actpre    Actpost     Actiny  Porcentaje\n",
       "count  14.000000  14.000000  14.000000   14.000000\n",
       "mean   10.537857   0.256143  10.281714    2.495151\n",
       "std     2.273091   0.125702   2.245969    1.249779\n",
       "min     6.890000   0.064000   6.570000    0.673684\n",
       "25%     9.402500   0.180500   9.075000    1.842214\n",
       "50%    10.860000   0.215000  10.645000    2.215275\n",
       "75%    11.480000   0.350000  11.333000    3.293754\n",
       "max    13.790000   0.470000  13.612000    4.644412"
      ]
     },
     "execution_count": 419,
     "metadata": {},
     "output_type": "execute_result"
    }
   ],
   "source": [
    "residual[residual['RN']=='FDG'].describe()"
   ]
  },
  {
   "cell_type": "code",
   "execution_count": 420,
   "metadata": {},
   "outputs": [
    {
     "data": {
      "text/html": [
       "<div>\n",
       "<table border=\"1\" class=\"dataframe\">\n",
       "  <thead>\n",
       "    <tr style=\"text-align: right;\">\n",
       "      <th></th>\n",
       "      <th>Actpre</th>\n",
       "      <th>Actpost</th>\n",
       "      <th>Actiny</th>\n",
       "      <th>Porcentaje</th>\n",
       "    </tr>\n",
       "  </thead>\n",
       "  <tbody>\n",
       "    <tr>\n",
       "      <th>count</th>\n",
       "      <td>7.000000</td>\n",
       "      <td>7.000000</td>\n",
       "      <td>7.000000</td>\n",
       "      <td>7.000000</td>\n",
       "    </tr>\n",
       "    <tr>\n",
       "      <th>mean</th>\n",
       "      <td>3.862857</td>\n",
       "      <td>0.318571</td>\n",
       "      <td>3.544286</td>\n",
       "      <td>8.227057</td>\n",
       "    </tr>\n",
       "    <tr>\n",
       "      <th>std</th>\n",
       "      <td>0.393138</td>\n",
       "      <td>0.297514</td>\n",
       "      <td>0.475425</td>\n",
       "      <td>7.544378</td>\n",
       "    </tr>\n",
       "    <tr>\n",
       "      <th>min</th>\n",
       "      <td>3.130000</td>\n",
       "      <td>0.050000</td>\n",
       "      <td>3.020000</td>\n",
       "      <td>1.146789</td>\n",
       "    </tr>\n",
       "    <tr>\n",
       "      <th>25%</th>\n",
       "      <td>3.725000</td>\n",
       "      <td>0.080000</td>\n",
       "      <td>3.250000</td>\n",
       "      <td>2.253592</td>\n",
       "    </tr>\n",
       "    <tr>\n",
       "      <th>50%</th>\n",
       "      <td>4.000000</td>\n",
       "      <td>0.120000</td>\n",
       "      <td>3.400000</td>\n",
       "      <td>3.514377</td>\n",
       "    </tr>\n",
       "    <tr>\n",
       "      <th>75%</th>\n",
       "      <td>4.050000</td>\n",
       "      <td>0.600000</td>\n",
       "      <td>3.790000</td>\n",
       "      <td>15.000000</td>\n",
       "    </tr>\n",
       "    <tr>\n",
       "      <th>max</th>\n",
       "      <td>4.360000</td>\n",
       "      <td>0.700000</td>\n",
       "      <td>4.310000</td>\n",
       "      <td>18.421053</td>\n",
       "    </tr>\n",
       "  </tbody>\n",
       "</table>\n",
       "</div>"
      ],
      "text/plain": [
       "         Actpre   Actpost    Actiny  Porcentaje\n",
       "count  7.000000  7.000000  7.000000    7.000000\n",
       "mean   3.862857  0.318571  3.544286    8.227057\n",
       "std    0.393138  0.297514  0.475425    7.544378\n",
       "min    3.130000  0.050000  3.020000    1.146789\n",
       "25%    3.725000  0.080000  3.250000    2.253592\n",
       "50%    4.000000  0.120000  3.400000    3.514377\n",
       "75%    4.050000  0.600000  3.790000   15.000000\n",
       "max    4.360000  0.700000  4.310000   18.421053"
      ]
     },
     "execution_count": 420,
     "metadata": {},
     "output_type": "execute_result"
    }
   ],
   "source": [
    "residual[residual['RN']=='GALLIUM'].describe()"
   ]
  },
  {
   "cell_type": "code",
   "execution_count": null,
   "metadata": {},
   "outputs": [],
   "source": []
  },
  {
   "cell_type": "code",
   "execution_count": null,
   "metadata": {
    "collapsed": true
   },
   "outputs": [],
   "source": []
  },
  {
   "cell_type": "code",
   "execution_count": 15,
   "metadata": {},
   "outputs": [
    {
     "data": {
      "text/html": [
       "<div>\n",
       "<table border=\"1\" class=\"dataframe\">\n",
       "  <thead>\n",
       "    <tr style=\"text-align: right;\">\n",
       "      <th></th>\n",
       "      <th>Horainy</th>\n",
       "      <th>Horarec</th>\n",
       "    </tr>\n",
       "  </thead>\n",
       "  <tbody>\n",
       "    <tr>\n",
       "      <th>count</th>\n",
       "      <td>895</td>\n",
       "      <td>895</td>\n",
       "    </tr>\n",
       "    <tr>\n",
       "      <th>unique</th>\n",
       "      <td>326</td>\n",
       "      <td>96</td>\n",
       "    </tr>\n",
       "    <tr>\n",
       "      <th>top</th>\n",
       "      <td>12:30</td>\n",
       "      <td>7:30</td>\n",
       "    </tr>\n",
       "    <tr>\n",
       "      <th>freq</th>\n",
       "      <td>18</td>\n",
       "      <td>78</td>\n",
       "    </tr>\n",
       "  </tbody>\n",
       "</table>\n",
       "</div>"
      ],
      "text/plain": [
       "       Horainy Horarec\n",
       "count      895     895\n",
       "unique     326      96\n",
       "top      12:30    7:30\n",
       "freq        18      78"
      ]
     },
     "execution_count": 15,
     "metadata": {},
     "output_type": "execute_result"
    }
   ],
   "source": [
    "#timeIR.describe()\n",
    "#timeID.describe()"
   ]
  },
  {
   "cell_type": "code",
   "execution_count": 28,
   "metadata": {
    "collapsed": true
   },
   "outputs": [],
   "source": [
    "##### HORAS EN FORMATO DE 24 H \n",
    "##### MINUTOS EN FORMATO DE 60 \n",
    "\n",
    "###  FDG\n",
    "###### Hora de recepción consistencia\n",
    "#recc = pd.to_datetime(timeIR[\"Horarec\"],format='%H:%M')\n",
    "###### Hora de inyección cosistencia \n",
    "#inyc = pd.to_datetime(timeIR[\"Horainy\"],format='%H:%M')\n",
    "\n",
    "### GALIOS\n",
    "##### Hora de inyección-test ########\n",
    "#inyt = pd.to_datetime(timeID[\"Horainy\"],format='%H:%M')\n",
    "\n",
    "##### Hora de dosificación-test ########\n",
    "#dosit = pd.to_datetime(timeID[\"Horadosi\"],format='%H:%M')"
   ]
  },
  {
   "cell_type": "code",
   "execution_count": null,
   "metadata": {
    "collapsed": true
   },
   "outputs": [],
   "source": [
    "##### Hora de inyección-test ########\n",
    "inyt = pd.to_datetime(timeID[\"Horainy\"],format='%H:%M')\n",
    "\n",
    "##### Hora de dosificación-test ########\n",
    "dosit = pd.to_datetime(timeID[\"Horadosi\"],format='%H:%M')"
   ]
  },
  {
   "cell_type": "code",
   "execution_count": 21,
   "metadata": {
    "collapsed": true
   },
   "outputs": [],
   "source": [
    "#### Elapsed time\n",
    "## Si el tiempo es negativo -> Se realizo la recepción y dosificación despues de inyectar\n",
    "## Lo cual no tiene sentido\n",
    "\n",
    "#### Tiempo transcurrido entre la hora de inyección y la hora de recepción \n",
    "IR=inyc-recc\n",
    "\n",
    "#### Tiempo transcurrido entre la hora de inyección y la hora de dosificación\n",
    "ID=inyt-dosit"
   ]
  },
  {
   "cell_type": "code",
   "execution_count": 22,
   "metadata": {
    "collapsed": true
   },
   "outputs": [],
   "source": [
    "#####  FDG\n",
    "\n",
    "####### Tiempo inyección y recepción \n",
    "listaIR=IR.dt.days<0        \n",
    "tiempoirecc=IR.dt.seconds\n",
    "for i in range(len(listaIR)):   \n",
    "    if listaIR[i]:\n",
    "        IR[i]=abs(inyc[i]-recc[i])\n",
    "        \n",
    "tiempoirecc=IR.dt.seconds/60     \n",
    "        \n",
    "for i in range(len(listaIR)):   \n",
    "    if listaIR[i]:\n",
    "        tiempoirecc[i]= tiempoirecc[i]*(-1) "
   ]
  },
  {
   "cell_type": "code",
   "execution_count": 23,
   "metadata": {
    "collapsed": true
   },
   "outputs": [],
   "source": [
    "#### GALIOS\n",
    "\n",
    "####### Tiempo inyección y dosificación  \n",
    "listaID=ID.dt.days<0        \n",
    "tiempoidosi=ID.dt.seconds\n",
    "for i in range(len(listaID)):   \n",
    "    if listaID[i]:\n",
    "        ID[i]=abs(inyt[i]-dosit[i])\n",
    "        \n",
    "tiempoidosi=ID.dt.seconds/60     \n",
    "        \n",
    "for i in range(len(listaID)):   \n",
    "    if listaID[i]:\n",
    "        tiempoidosi[i]= tiempoidosi[i]*(-1) "
   ]
  },
  {
   "cell_type": "code",
   "execution_count": 24,
   "metadata": {},
   "outputs": [
    {
     "data": {
      "text/plain": [
       "count    1151.000000\n",
       "mean      128.124240\n",
       "std        89.475035\n",
       "min      -288.000000\n",
       "25%        68.000000\n",
       "50%       123.000000\n",
       "75%       186.500000\n",
       "max       444.000000\n",
       "dtype: float64"
      ]
     },
     "execution_count": 24,
     "metadata": {},
     "output_type": "execute_result"
    }
   ],
   "source": [
    "#tiempoirecc.describe()\n",
    "tiempoidosi.describe()"
   ]
  },
  {
   "cell_type": "code",
   "execution_count": 25,
   "metadata": {},
   "outputs": [
    {
     "data": {
      "text/plain": [
       "Text(0.5,1,'FDG')"
      ]
     },
     "execution_count": 25,
     "metadata": {},
     "output_type": "execute_result"
    },
    {
     "data": {
      "image/png": "[encoded data removed]",
      "text/plain": [
       "<Figure size 432x288 with 1 Axes>"
      ]
     },
     "metadata": {},
     "output_type": "display_data"
    }
   ],
   "source": [
    "sns.distplot(tiempoidosi,bins=10,kde=False,label='Actividad Inyectada',hist_kws={\"histtype\": \"step\", \"linewidth\": 3,\n",
    "\"alpha\": 0.75, \"color\": \"b\"})\n",
    "#sns.distplot(tiempointer,norm_hist=True,kde=False,label='Actividad Inyectada',hist_kws={\"histtype\": \"step\", \"linewidth\": 3,\n",
    "#\"alpha\": 1, \"color\": \"b\"})\n",
    "plt.ylabel('Number of Patients',fontsize=14)\n",
    "#plt.ylabel('Proporción de pacientes',fontsize=14)\n",
    "plt.xlabel('Injected Time-Dosing Time [min]',fontsize=14)\n",
    "#plt.xlabel('Injected Time-Provision Time [min]',fontsize=14)\n",
    "plt.title('FDG')\n",
    "#plt.title('GA-DOTA')\n",
    "#plt.title('GA-PSMA')\n",
    "#plt.savefig('fdginyrec.pdf',bbox_inches = \"tight\")"
   ]
  },
  {
   "cell_type": "code",
   "execution_count": 354,
   "metadata": {
    "collapsed": true
   },
   "outputs": [],
   "source": [
    "#timeIR['tiempoirecc']=tiempoirecc\n",
    "timeID['tiempoidosi']=tiempoidosi"
   ]
  },
  {
   "cell_type": "code",
   "execution_count": 355,
   "metadata": {},
   "outputs": [
    {
     "data": {
      "text/plain": [
       "125"
      ]
     },
     "execution_count": 355,
     "metadata": {},
     "output_type": "execute_result"
    }
   ],
   "source": [
    "#len(timeIR[(timeIR['tiempoirecc'])<0])\n",
    "len(timeID[(timeID['tiempoidosi'])>0])"
   ]
  },
  {
   "cell_type": "code",
   "execution_count": 356,
   "metadata": {
    "collapsed": true
   },
   "outputs": [],
   "source": [
    "#### Para ver datos sospechosos\n",
    "#timeID[(timeID['tiempoidosi'])<0]"
   ]
  },
  {
   "cell_type": "code",
   "execution_count": 357,
   "metadata": {
    "collapsed": true
   },
   "outputs": [],
   "source": [
    "#Localización y conversión a Not a Number NaN\n",
    "timeID.loc[(timeID['tiempoidosi'])<0]= np.nan\n",
    "\n",
    "# simply drop whole row with NaN in \"timeID\" column\n",
    "timeID.dropna(subset=[\"tiempoidosi\"], axis=0, inplace=True)"
   ]
  },
  {
   "cell_type": "code",
   "execution_count": 358,
   "metadata": {
    "collapsed": true
   },
   "outputs": [],
   "source": [
    "## Decay Factor Correction\n",
    "### FDG\n",
    "#DF=np.exp(-LambdaF*timeID['tiempoidosi'])\n",
    "### GALIOS\n",
    "DF=np.exp(-LambdaGa*timeID['tiempoidosi'])"
   ]
  },
  {
   "cell_type": "code",
   "execution_count": 359,
   "metadata": {
    "collapsed": true
   },
   "outputs": [],
   "source": [
    "#### Correcion actividad dosificada a hora de inyeccion \n",
    "timeID['CActdosiny']=timeID['Actidosi']*DF"
   ]
  },
  {
   "cell_type": "code",
   "execution_count": 360,
   "metadata": {},
   "outputs": [
    {
     "data": {
      "text/plain": [
       "Horainy         object\n",
       "Horadosi        object\n",
       "Actidosi       float64\n",
       "Actipres       float64\n",
       "tiempoidosi    float64\n",
       "CActdosiny     float64\n",
       "dtype: object"
      ]
     },
     "execution_count": 360,
     "metadata": {},
     "output_type": "execute_result"
    }
   ],
   "source": [
    "timeID.dtypes"
   ]
  },
  {
   "cell_type": "code",
   "execution_count": 361,
   "metadata": {
    "collapsed": true
   },
   "outputs": [],
   "source": [
    "timeID[\"desviasigno\"]=((timeID[\"CActdosiny\"]-timeID[\"Actipres\"])*100)/timeID[\"Actipres\"]"
   ]
  },
  {
   "cell_type": "code",
   "execution_count": 362,
   "metadata": {},
   "outputs": [
    {
     "data": {
      "text/plain": [
       "count    125.000000\n",
       "mean     -10.833770\n",
       "std       29.855620\n",
       "min      -66.125792\n",
       "25%      -31.009874\n",
       "50%      -14.668736\n",
       "75%        2.765168\n",
       "max       93.493018\n",
       "Name: desviasigno, dtype: float64"
      ]
     },
     "execution_count": 362,
     "metadata": {},
     "output_type": "execute_result"
    }
   ],
   "source": [
    "timeID[\"desviasigno\"].describe()"
   ]
  },
  {
   "cell_type": "code",
   "execution_count": 363,
   "metadata": {},
   "outputs": [
    {
     "data": {
      "text/plain": [
       "Text(0,0.5,'Proportion of patients')"
      ]
     },
     "execution_count": 363,
     "metadata": {},
     "output_type": "execute_result"
    },
    {
     "data": {
      "image/png": "[encoded data removed]",
      "text/plain": [
       "<Figure size 432x288 with 1 Axes>"
      ]
     },
     "metadata": {},
     "output_type": "display_data"
    }
   ],
   "source": [
    "sns.distplot(timeID['desviasigno'],norm_hist=True,kde=False,color='g',label='Actividad Inyectada')\n",
    "plt.plot((10, 10),(0,0.035), '--r', linewidth=1) \n",
    "plt.plot((-10, -10),(0,0.035), '--r', linewidth=1) \n",
    "plt.xlabel('Relative error $\\%$')\n",
    "plt.ylabel('Proportion of patients')\n",
    "#plt.savefig('errorrelfdgID.pdf',bbox_inches = \"tight\")"
   ]
  },
  {
   "cell_type": "markdown",
   "metadata": {},
   "source": [
    "## Primer metodo: Tiempo de prescripcion respecto a tiempo de inyeccion"
   ]
  },
  {
   "cell_type": "code",
   "execution_count": 364,
   "metadata": {
    "collapsed": true
   },
   "outputs": [],
   "source": [
    "### Hora de Prescripción y Hora de recepción\n",
    "#timePR = data.filter(items=['Horadm', 'Horarec'])\n",
    "### Hora de Prescripción y Hora de inyección\n",
    "timePI=data.filter(items=['Horadm', 'Horainy','Actipres'])\n",
    "### Hora de Prescripción y Hora de dosificación\n",
    "timePD=data.filter(items=['Horadm', 'Horadosi'])"
   ]
  },
  {
   "cell_type": "code",
   "execution_count": 365,
   "metadata": {
    "collapsed": true
   },
   "outputs": [],
   "source": [
    "### Prescripción y Recepción\n",
    "#timePR.dropna(subset=[\"Horadm\",\"Horarec\"], axis=0, inplace=True)\n",
    "### Prescripción e Inyección\n",
    "timePI.dropna(subset=[\"Horadm\",\"Horainy\",\"Actipres\"], axis=0, inplace=True)\n",
    "### Prescripción y Dosificación\n",
    "timePD.dropna(subset=[\"Horadm\",\"Horadosi\"], axis=0, inplace=True)\n",
    "\n",
    "# reset index, because we droped rows\n",
    "#timePR.reset_index(drop=True, inplace=True)\n",
    "timePI.reset_index(drop=True, inplace=True)\n",
    "timePD.reset_index(drop=True, inplace=True)"
   ]
  },
  {
   "cell_type": "code",
   "execution_count": 366,
   "metadata": {
    "collapsed": true
   },
   "outputs": [],
   "source": [
    "#timePR.describe()\n",
    "#timePI.describe()\n",
    "#timePD.describe()\n",
    "#timeID\n"
   ]
  },
  {
   "cell_type": "code",
   "execution_count": 367,
   "metadata": {
    "collapsed": true
   },
   "outputs": [],
   "source": [
    "##### HORAS EN FORMATO DE 24 H \n",
    "##### MINUTOS EN FORMATO DE 60 \n",
    "\n",
    "#############################################################\n",
    "##### Hora para la que esta \"calibrada la actividad\" ########\n",
    "#presPR = pd.to_datetime(timePR[\"Horadm\"],format='%H:%M')\n",
    "presI = pd.to_datetime(timePI[\"Horadm\"],format='%H:%M')\n",
    "presD = pd.to_datetime(timePD[\"Horadm\"],format='%H:%M')\n",
    "\n",
    "############################################################\n",
    "##### Hora de recepción del bulto en MN ########\n",
    "#rec = pd.to_datetime(timePR[\"Horarec\"],format='%H:%M')\n",
    "\n",
    "\n",
    "############################################################\n",
    "##### Hora de inyección ########\n",
    "iny = pd.to_datetime(timePI[\"Horainy\"],format='%H:%M')\n",
    "\n",
    "############################################################\n",
    "##### Hora de dosificación ########\n",
    "dosi = pd.to_datetime(timePD[\"Horadosi\"],format='%H:%M')"
   ]
  },
  {
   "cell_type": "code",
   "execution_count": 368,
   "metadata": {
    "collapsed": true
   },
   "outputs": [],
   "source": [
    "#### Elapsed time\n",
    "\n",
    "#### Tiempo transcurrido entre la hora prescrita y la hora de recepción \n",
    "#PR=presPR-rec\n",
    "\n",
    "#### Tiempo transcurrido entre la hora prescrita y la hora de inyección \n",
    "PI=presI-iny\n",
    "\n",
    "#### Tiempo transcurrido entre la hora prescrita y la hora de dosificación\n",
    "PD=presD-dosi\n",
    "\n",
    "#subgroup=pd.DataFrame(data=timePR)\n",
    "#headers = [\"timePR\"]\n",
    "#subgroup.columns = headers\n",
    "#subgroup\n",
    "\n"
   ]
  },
  {
   "cell_type": "code",
   "execution_count": 214,
   "metadata": {
    "collapsed": true
   },
   "outputs": [],
   "source": [
    "#PI\n",
    "#PR\n",
    "#PD"
   ]
  },
  {
   "cell_type": "code",
   "execution_count": 276,
   "metadata": {
    "collapsed": true
   },
   "outputs": [],
   "source": [
    "### FDG\n",
    "####### Tiempo prescripción y recepción\n",
    "listaPR=PR.dt.days<0\n",
    "tiempointer=PR.dt.seconds\n",
    "\n",
    "for i in range(len(listaPR)):   \n",
    "    if listaPR[i]:\n",
    "        PR[i]=abs(presPR[i]-rec[i])\n",
    "\n",
    "tiempointer=PR.dt.seconds/60     \n",
    "        \n",
    "for i in range(len(listaPR)):   \n",
    "    if listaPR[i]:\n",
    "        tiempointer[i]= tiempointer[i]*(-1) \n",
    "        "
   ]
  },
  {
   "cell_type": "code",
   "execution_count": 369,
   "metadata": {
    "collapsed": true
   },
   "outputs": [],
   "source": [
    "\n",
    "####### Tiempo prescripción e inyección       \n",
    "listaPI=PI.dt.days<0        \n",
    "tiempopiny=PI.dt.seconds\n",
    "for i in range(len(listaPI)):   \n",
    "    if listaPI[i]:\n",
    "        PI[i]=abs(presI[i]-iny[i])\n",
    "        \n",
    "tiempopiny=PI.dt.seconds/60     \n",
    "        \n",
    "for i in range(len(listaPI)):   \n",
    "    if listaPI[i]:\n",
    "        tiempopiny[i]= tiempopiny[i]*(-1) \n",
    "        \n",
    "####### Tiempo prescripción y dosificación       \n",
    "listaPD=PD.dt.days<0        \n",
    "tiempopdosi=PD.dt.seconds\n",
    "for i in range(len(listaPD)):   \n",
    "    if listaPD[i]:\n",
    "        PD[i]=abs(presD[i]-dosi[i])\n",
    "        \n",
    "tiempopdosi=PD.dt.seconds/60     \n",
    "        \n",
    "for i in range(len(listaPD)):   \n",
    "    if listaPD[i]:\n",
    "        tiempopdosi[i]= tiempopdosi[i]*(-1)        "
   ]
  },
  {
   "cell_type": "code",
   "execution_count": 333,
   "metadata": {
    "collapsed": true
   },
   "outputs": [],
   "source": [
    "#tiempopdosi\n",
    "#tiempointer\n",
    "#tiempopiny"
   ]
  },
  {
   "cell_type": "code",
   "execution_count": null,
   "metadata": {
    "collapsed": true
   },
   "outputs": [],
   "source": []
  },
  {
   "cell_type": "code",
   "execution_count": 371,
   "metadata": {},
   "outputs": [
    {
     "data": {
      "image/png": "[encoded data removed]",
      "text/plain": [
       "<Figure size 432x288 with 1 Axes>"
      ]
     },
     "metadata": {},
     "output_type": "display_data"
    }
   ],
   "source": [
    "sns.distplot(tiempopiny,norm_hist=False,kde=False,label='Actividad Inyectada',hist_kws={\"histtype\": \"step\", \"linewidth\": 3,\n",
    "\"alpha\": 1, \"color\": \"r\"})\n",
    "#sns.distplot(tiempointer,norm_hist=True,kde=False,label='Actividad Inyectada',hist_kws={\"histtype\": \"step\", \"linewidth\": 3,\n",
    "#\"alpha\": 1, \"color\": \"b\"})\n",
    "plt.ylabel('Number of patients',fontsize=14)\n",
    "plt.xlabel('Prescribed Time-Injected Time [min]',fontsize=14)\n",
    "\n",
    "#plt.title('FDG')\n",
    "plt.title('GA-DOTA')\n",
    "#plt.title('GA-PSMA')\n",
    "plt.savefig('gadotaTpresiny.pdf',bbox_inches = \"tight\")"
   ]
  },
  {
   "cell_type": "code",
   "execution_count": 217,
   "metadata": {},
   "outputs": [
    {
     "data": {
      "text/plain": [
       "count    148.000000\n",
       "mean     -21.155405\n",
       "std       33.561744\n",
       "min     -278.000000\n",
       "25%      -32.500000\n",
       "50%      -20.000000\n",
       "75%       -5.750000\n",
       "max       69.000000\n",
       "dtype: float64"
      ]
     },
     "execution_count": 217,
     "metadata": {},
     "output_type": "execute_result"
    }
   ],
   "source": [
    "#tiempointer.describe()\n",
    "tiempopiny.describe()\n",
    "#tiempopdosi.describe()"
   ]
  },
  {
   "cell_type": "code",
   "execution_count": 281,
   "metadata": {
    "collapsed": true
   },
   "outputs": [],
   "source": [
    "timePI['tiempopiny']=tiempopiny"
   ]
  },
  {
   "cell_type": "code",
   "execution_count": 282,
   "metadata": {
    "collapsed": true
   },
   "outputs": [],
   "source": [
    "## Decay Factor Correction\n",
    "### FDG\n",
    "DFPI=np.exp(-LambdaF*timePI['tiempopiny'])\n",
    "### GALIOS\n",
    "#DFPI=np.exp(-LambdaGa*timePI['tiempopiny'])"
   ]
  },
  {
   "cell_type": "code",
   "execution_count": 283,
   "metadata": {
    "collapsed": true
   },
   "outputs": [],
   "source": [
    "#### Correcion actividad dosificada a hora de inyeccion \n",
    "timePI['CActpres']=timePI['Actipres']*DFPI"
   ]
  },
  {
   "cell_type": "code",
   "execution_count": 284,
   "metadata": {},
   "outputs": [
    {
     "data": {
      "text/plain": [
       "Horadm         object\n",
       "Horainy        object\n",
       "Actipres      float64\n",
       "tiempopiny    float64\n",
       "CActpres      float64\n",
       "dtype: object"
      ]
     },
     "execution_count": 284,
     "metadata": {},
     "output_type": "execute_result"
    }
   ],
   "source": [
    "timePI.dtypes"
   ]
  },
  {
   "cell_type": "code",
   "execution_count": 285,
   "metadata": {
    "collapsed": true
   },
   "outputs": [],
   "source": [
    "timePI[\"desviasigno\"]=((timePI[\"CActpres\"]-timePI[\"Actipres\"])*100)/timePI[\"Actipres\"]"
   ]
  },
  {
   "cell_type": "code",
   "execution_count": 286,
   "metadata": {},
   "outputs": [
    {
     "data": {
      "text/plain": [
       "count    1162.000000\n",
       "mean       11.052704\n",
       "std        31.259451\n",
       "min       -27.939892\n",
       "25%         0.000000\n",
       "50%         5.835101\n",
       "75%        13.431252\n",
       "max       824.767636\n",
       "Name: desviasigno, dtype: float64"
      ]
     },
     "execution_count": 286,
     "metadata": {},
     "output_type": "execute_result"
    }
   ],
   "source": [
    "timePI[\"desviasigno\"].describe()"
   ]
  },
  {
   "cell_type": "code",
   "execution_count": 287,
   "metadata": {},
   "outputs": [
    {
     "data": {
      "image/png": "[encoded data removed]",
      "text/plain": [
       "<Figure size 432x288 with 1 Axes>"
      ]
     },
     "metadata": {},
     "output_type": "display_data"
    }
   ],
   "source": [
    "sns.distplot(timePI['desviasigno'],norm_hist=True,kde=False,color='m',label='Actividad Inyectada')\n",
    "plt.plot((10, 10),(0,0.025), '--k', linewidth=1) \n",
    "plt.plot((-10, -10),(0,0.025), '--k', linewidth=1) \n",
    "plt.xlabel('Relative Error $\\%$')\n",
    "plt.ylabel('Proportion of patients')\n",
    "plt.savefig('errorrelfdgPI.pdf',bbox_inches = \"tight\")"
   ]
  },
  {
   "cell_type": "markdown",
   "metadata": {},
   "source": [
    "### Desviación de Actividad Inyectada"
   ]
  },
  {
   "cell_type": "code",
   "execution_count": 288,
   "metadata": {},
   "outputs": [
    {
     "data": {
      "text/plain": [
       "Genero       object\n",
       "Peso         object\n",
       "Horarec      object\n",
       "Actipres    float64\n",
       "Horadm       object\n",
       "Actidosi    float64\n",
       "Horadosi     object\n",
       "Voldosi      object\n",
       "Actiny      float64\n",
       "Horainy      object\n",
       "Operador     object\n",
       "dtype: object"
      ]
     },
     "execution_count": 288,
     "metadata": {},
     "output_type": "execute_result"
    }
   ],
   "source": [
    "data[[\"Actiny\"]] = data[[\"Actiny\"]].astype(\"float\")\n",
    "data[[\"Actipres\"]] = data[[\"Actipres\"]].astype(\"float\")\n",
    "data[[\"Actidosi\"]] = data[[\"Actidosi\"]].astype(\"float\")\n",
    "#data[[\"Voldosi\"]] = data[[\"Voldosi\"]].astype(\"float\")\n",
    "data.dtypes"
   ]
  },
  {
   "cell_type": "code",
   "execution_count": 289,
   "metadata": {
    "collapsed": true
   },
   "outputs": [],
   "source": [
    "data[\"desviasigno\"]=((data[\"Actiny\"]-data[\"Actipres\"])*100)/data[\"Actipres\"]"
   ]
  },
  {
   "cell_type": "code",
   "execution_count": 290,
   "metadata": {
    "collapsed": true
   },
   "outputs": [],
   "source": [
    "### Error relativo porcentual entre Actividad prescrita y actividad inyectada \n",
    "data[\"desvia\"]=np.absolute(((data[\"Actiny\"]-data[\"Actipres\"])*100)/data[\"Actipres\"])"
   ]
  },
  {
   "cell_type": "code",
   "execution_count": 291,
   "metadata": {},
   "outputs": [
    {
     "data": {
      "text/plain": [
       "count    1180.000000\n",
       "mean       -6.287146\n",
       "std        11.893597\n",
       "min       -51.041667\n",
       "25%       -12.796349\n",
       "50%        -6.045009\n",
       "75%         0.000000\n",
       "max        76.666667\n",
       "Name: desviasigno, dtype: float64"
      ]
     },
     "execution_count": 291,
     "metadata": {},
     "output_type": "execute_result"
    }
   ],
   "source": [
    "data[\"desviasigno\"].describe()"
   ]
  },
  {
   "cell_type": "code",
   "execution_count": 292,
   "metadata": {},
   "outputs": [
    {
     "data": {
      "text/plain": [
       "406"
      ]
     },
     "execution_count": 292,
     "metadata": {},
     "output_type": "execute_result"
    }
   ],
   "source": [
    "c"
   ]
  },
  {
   "cell_type": "code",
   "execution_count": 293,
   "metadata": {},
   "outputs": [
    {
     "data": {
      "text/plain": [
       "1029"
      ]
     },
     "execution_count": 293,
     "metadata": {},
     "output_type": "execute_result"
    }
   ],
   "source": [
    "len(data[(np.absolute(data['desviasigno'])<=20.0)])"
   ]
  },
  {
   "cell_type": "code",
   "execution_count": 294,
   "metadata": {},
   "outputs": [
    {
     "data": {
      "text/plain": [
       "11.89359727659694"
      ]
     },
     "execution_count": 294,
     "metadata": {},
     "output_type": "execute_result"
    }
   ],
   "source": [
    "data['desviasigno'].std()"
   ]
  },
  {
   "cell_type": "code",
   "execution_count": 295,
   "metadata": {
    "collapsed": true
   },
   "outputs": [],
   "source": [
    "data.dropna(subset=[\"Actiny\"], axis=0, inplace=True)\n",
    "data.dropna(subset=[\"Actipres\"], axis=0, inplace=True)\n",
    "#data.dropna(subset=[\"Fecha\"], axis=0, inplace=True)\n",
    "# reset index, because we droped rows\n",
    "data.reset_index(drop=True, inplace=True)"
   ]
  },
  {
   "cell_type": "code",
   "execution_count": 296,
   "metadata": {},
   "outputs": [
    {
     "data": {
      "text/html": [
       "<div>\n",
       "<table border=\"1\" class=\"dataframe\">\n",
       "  <thead>\n",
       "    <tr style=\"text-align: right;\">\n",
       "      <th></th>\n",
       "      <th>Actipres</th>\n",
       "      <th>Actidosi</th>\n",
       "      <th>Actiny</th>\n",
       "      <th>desviasigno</th>\n",
       "      <th>desvia</th>\n",
       "    </tr>\n",
       "  </thead>\n",
       "  <tbody>\n",
       "    <tr>\n",
       "      <th>count</th>\n",
       "      <td>1180.000000</td>\n",
       "      <td>1174.000000</td>\n",
       "      <td>1180.000000</td>\n",
       "      <td>1180.000000</td>\n",
       "      <td>1180.000000</td>\n",
       "    </tr>\n",
       "    <tr>\n",
       "      <th>mean</th>\n",
       "      <td>9.619042</td>\n",
       "      <td>23.954046</td>\n",
       "      <td>8.965212</td>\n",
       "      <td>-6.287146</td>\n",
       "      <td>10.007287</td>\n",
       "    </tr>\n",
       "    <tr>\n",
       "      <th>std</th>\n",
       "      <td>2.237227</td>\n",
       "      <td>13.954673</td>\n",
       "      <td>2.195841</td>\n",
       "      <td>11.893597</td>\n",
       "      <td>8.988251</td>\n",
       "    </tr>\n",
       "    <tr>\n",
       "      <th>min</th>\n",
       "      <td>2.400000</td>\n",
       "      <td>1.400000</td>\n",
       "      <td>2.020000</td>\n",
       "      <td>-51.041667</td>\n",
       "      <td>0.000000</td>\n",
       "    </tr>\n",
       "    <tr>\n",
       "      <th>25%</th>\n",
       "      <td>8.300000</td>\n",
       "      <td>14.225000</td>\n",
       "      <td>7.500000</td>\n",
       "      <td>-12.796349</td>\n",
       "      <td>3.358086</td>\n",
       "    </tr>\n",
       "    <tr>\n",
       "      <th>50%</th>\n",
       "      <td>9.600000</td>\n",
       "      <td>20.200000</td>\n",
       "      <td>9.000000</td>\n",
       "      <td>-6.045009</td>\n",
       "      <td>8.007937</td>\n",
       "    </tr>\n",
       "    <tr>\n",
       "      <th>75%</th>\n",
       "      <td>11.100000</td>\n",
       "      <td>30.275000</td>\n",
       "      <td>10.442500</td>\n",
       "      <td>0.000000</td>\n",
       "      <td>14.285714</td>\n",
       "    </tr>\n",
       "    <tr>\n",
       "      <th>max</th>\n",
       "      <td>15.000000</td>\n",
       "      <td>99.100000</td>\n",
       "      <td>19.300000</td>\n",
       "      <td>76.666667</td>\n",
       "      <td>76.666667</td>\n",
       "    </tr>\n",
       "  </tbody>\n",
       "</table>\n",
       "</div>"
      ],
      "text/plain": [
       "          Actipres     Actidosi       Actiny  desviasigno       desvia\n",
       "count  1180.000000  1174.000000  1180.000000  1180.000000  1180.000000\n",
       "mean      9.619042    23.954046     8.965212    -6.287146    10.007287\n",
       "std       2.237227    13.954673     2.195841    11.893597     8.988251\n",
       "min       2.400000     1.400000     2.020000   -51.041667     0.000000\n",
       "25%       8.300000    14.225000     7.500000   -12.796349     3.358086\n",
       "50%       9.600000    20.200000     9.000000    -6.045009     8.007937\n",
       "75%      11.100000    30.275000    10.442500     0.000000    14.285714\n",
       "max      15.000000    99.100000    19.300000    76.666667    76.666667"
      ]
     },
     "execution_count": 296,
     "metadata": {},
     "output_type": "execute_result"
    }
   ],
   "source": [
    "data.describe()"
   ]
  },
  {
   "cell_type": "code",
   "execution_count": 297,
   "metadata": {},
   "outputs": [
    {
     "data": {
      "image/png": "[encoded data removed]",
      "text/plain": [
       "<Figure size 720x504 with 2 Axes>"
      ]
     },
     "metadata": {},
     "output_type": "display_data"
    }
   ],
   "source": [
    "### Plot the data\n",
    "plt.figure(figsize=(10,7))\n",
    "ax1=plt.subplot(1,1,1)\n",
    "sns.distplot(data['Actiny'],norm_hist=False,kde=False,ax=ax1,label='Injected Activity',hist_kws={\"histtype\": \"step\", \"linewidth\": 3,\n",
    "\"alpha\": 1, \"color\": \"b\"})\n",
    "sns.distplot(data['Actipres'],norm_hist=False,kde=False,ax=ax1, label='Prescribed Activity',hist_kws={\"histtype\": \"step\", \"linewidth\": 3,\n",
    "\"alpha\": 1, \"color\": \"g\"})\n",
    "\n",
    "################################ \n",
    "#########  FDG  ################\n",
    "plt.plot((20, 20),(0,140), '--k', linewidth=1) \n",
    "plt.plot((4, 4),(0,140), '--k', linewidth=1) \n",
    "plt.plot((9.0, 9.0),(0,140), '--r', linewidth=2,label='DRL-Injected')\n",
    "\n",
    "\n",
    "################################ \n",
    "#########  GAPSMA  ################\n",
    "#plt.plot((20, 20),(0,0.25), '--k', linewidth=1) \n",
    "#plt.plot((4, 4),(0,0.25), '--k', linewidth=1) \n",
    "#plt.plot((4.46, 4.46),(0,60), '--r', linewidth=2,label='DRL-Injected')\n",
    "\n",
    "################################ \n",
    "#########  GADOTANOC  ################\n",
    "#plt.plot((20, 20),(0,0.25), '--k', linewidth=1) \n",
    "#plt.plot((4, 4),(0,0.25), '--k', linewidth=1) \n",
    "#plt.plot((3.88, 3.88),(0,45), '--r', linewidth=2,label='DRL-Injected')\n",
    "\n",
    "\n",
    "ax1.set_title('$^{18}$F-FDG',fontsize=14)\n",
    "#ax1.set_title('$^{68}$Ga-PSMA',fontsize=14)\n",
    "#ax1.set_title('$^{68}$Ga-DOTA',fontsize=14)\n",
    "ax1.set_ylabel('Number of patients',fontsize=14)\n",
    "ax1.set_xlabel('Activity [mCi]',fontsize=14)\n",
    "ax1.tick_params(axis='both',labelsize=14)\n",
    "ax1.legend(loc='upper right')\n",
    "sns.set_style('ticks')\n",
    "\n",
    "## Set second x-axis for MBq\n",
    "ax2 = ax1.twiny()\n",
    "MBqs = np.linspace(data['Actiny'].min(),data['Actiny'].max()*37,7) # Actividad en MBq\n",
    "ax2.set_xticks(MBqs/37) # Ponga los ticks\n",
    "ax2.set_xticklabels(MBqs.astype(int)) # Ponga los Labels\n",
    "ax2.xaxis.set_ticks_position('bottom') # set the position of the second x-axis to bottom\n",
    "ax2.xaxis.set_label_position('bottom') # set the position of the second x-axis to bottom\n",
    "ax2.spines['bottom'].set_position(('outward', 56))\n",
    "ax2.set_xlabel('Activity [MBq]',fontsize=14)\n",
    "ax2.set_xlim(ax1.get_xlim())\n",
    "ax2.tick_params(labelsize=14)\n",
    "\n",
    "\n",
    "plt.savefig('fdgdrl.pdf',bbox_inches = \"tight\")"
   ]
  },
  {
   "cell_type": "code",
   "execution_count": 299,
   "metadata": {},
   "outputs": [
    {
     "data": {
      "image/png": "[encoded data removed]",
      "text/plain": [
       "<Figure size 432x288 with 1 Axes>"
      ]
     },
     "metadata": {},
     "output_type": "display_data"
    }
   ],
   "source": [
    "sns.distplot(data['desviasigno'],norm_hist=False,kde=False,color='c',label='Actividad Inyectada')\n",
    "plt.plot((10, 10),(0,150), '--r', linewidth=1) \n",
    "plt.plot((-10, -10),(0,150), '--r', linewidth=1) \n",
    "plt.xlabel('Relative Error $\\%$')\n",
    "plt.ylabel('Number of patients')\n",
    "plt.savefig('errorrelfdgAPI.pdf',bbox_inches = \"tight\")"
   ]
  },
  {
   "cell_type": "markdown",
   "metadata": {},
   "source": [
    "HASTA AQUIIIIIII"
   ]
  },
  {
   "cell_type": "code",
   "execution_count": 75,
   "metadata": {},
   "outputs": [
    {
     "ename": "NameError",
     "evalue": "name 'h' is not defined",
     "output_type": "error",
     "traceback": [
      "\u001b[0;31m---------------------------------------------------------------------------\u001b[0m",
      "\u001b[0;31mNameError\u001b[0m                                 Traceback (most recent call last)",
      "\u001b[0;32m<ipython-input-75-08ecba6ccc8d>\u001b[0m in \u001b[0;36m<module>\u001b[0;34m()\u001b[0m\n\u001b[1;32m      1\u001b[0m \u001b[0;31m#h=pd.to_datetime(data[\"Fecha\"],format=\"%d/%m/%Y\")\u001b[0m\u001b[0;34m\u001b[0m\u001b[0;34m\u001b[0m\u001b[0m\n\u001b[0;32m----> 2\u001b[0;31m \u001b[0mplt\u001b[0m\u001b[0;34m.\u001b[0m\u001b[0mplot\u001b[0m\u001b[0;34m(\u001b[0m\u001b[0mh\u001b[0m\u001b[0;34m,\u001b[0m\u001b[0mdata\u001b[0m\u001b[0;34m[\u001b[0m\u001b[0;34m'desviasigno'\u001b[0m\u001b[0;34m]\u001b[0m\u001b[0;34m,\u001b[0m\u001b[0;34m'bo-'\u001b[0m\u001b[0;34m)\u001b[0m\u001b[0;34m\u001b[0m\u001b[0m\n\u001b[0m",
      "\u001b[0;31mNameError\u001b[0m: name 'h' is not defined"
     ]
    }
   ],
   "source": [
    "#h=pd.to_datetime(data[\"Fecha\"],format=\"%d/%m/%Y\")\n",
    "plt.plot(h,data['desviasigno'],'bo-')"
   ]
  },
  {
   "cell_type": "code",
   "execution_count": null,
   "metadata": {
    "collapsed": true
   },
   "outputs": [],
   "source": []
  },
  {
   "cell_type": "code",
   "execution_count": 54,
   "metadata": {
    "collapsed": true
   },
   "outputs": [],
   "source": [
    "# simply drop whole row with NaN in \"Vol\" column\n",
    "data.dropna(subset=[\"Voldosi\"], axis=0, inplace=True)\n",
    "\n",
    "# reset index, because we droped one row\n",
    "data.reset_index(drop=True, inplace=True)"
   ]
  },
  {
   "cell_type": "code",
   "execution_count": 55,
   "metadata": {
    "collapsed": true
   },
   "outputs": [],
   "source": []
  },
  {
   "cell_type": "code",
   "execution_count": 56,
   "metadata": {
    "collapsed": true
   },
   "outputs": [],
   "source": [
    "data[[\"Voldosi\"]] = data[[\"Voldosi\"]].astype(\"float\")"
   ]
  },
  {
   "cell_type": "code",
   "execution_count": 57,
   "metadata": {
    "collapsed": true
   },
   "outputs": [],
   "source": [
    "especifica=data[\"Actiny\"]/data[\"Voldosi\"]\n",
    "data['Espiny']= especifica"
   ]
  },
  {
   "cell_type": "code",
   "execution_count": 58,
   "metadata": {},
   "outputs": [
    {
     "data": {
      "text/html": [
       "<div>\n",
       "<table border=\"1\" class=\"dataframe\">\n",
       "  <thead>\n",
       "    <tr style=\"text-align: right;\">\n",
       "      <th></th>\n",
       "      <th>Actipres</th>\n",
       "      <th>Actidosi</th>\n",
       "      <th>Voldosi</th>\n",
       "      <th>Actiny</th>\n",
       "      <th>desviasigno</th>\n",
       "      <th>desvia</th>\n",
       "      <th>Espiny</th>\n",
       "    </tr>\n",
       "  </thead>\n",
       "  <tbody>\n",
       "    <tr>\n",
       "      <th>count</th>\n",
       "      <td>1172.000000</td>\n",
       "      <td>1172.000000</td>\n",
       "      <td>1172.000000</td>\n",
       "      <td>1172.000000</td>\n",
       "      <td>1172.000000</td>\n",
       "      <td>1172.000000</td>\n",
       "      <td>1172.000000</td>\n",
       "    </tr>\n",
       "    <tr>\n",
       "      <th>mean</th>\n",
       "      <td>9.612517</td>\n",
       "      <td>23.943217</td>\n",
       "      <td>1.805546</td>\n",
       "      <td>8.963976</td>\n",
       "      <td>-6.244628</td>\n",
       "      <td>9.972400</td>\n",
       "      <td>5.410944</td>\n",
       "    </tr>\n",
       "    <tr>\n",
       "      <th>std</th>\n",
       "      <td>2.239064</td>\n",
       "      <td>13.960397</td>\n",
       "      <td>0.584042</td>\n",
       "      <td>2.197402</td>\n",
       "      <td>11.842782</td>\n",
       "      <td>8.930089</td>\n",
       "      <td>2.172504</td>\n",
       "    </tr>\n",
       "    <tr>\n",
       "      <th>min</th>\n",
       "      <td>2.400000</td>\n",
       "      <td>1.400000</td>\n",
       "      <td>0.500000</td>\n",
       "      <td>2.020000</td>\n",
       "      <td>-51.041667</td>\n",
       "      <td>0.000000</td>\n",
       "      <td>0.545455</td>\n",
       "    </tr>\n",
       "    <tr>\n",
       "      <th>25%</th>\n",
       "      <td>8.300000</td>\n",
       "      <td>14.200000</td>\n",
       "      <td>1.500000</td>\n",
       "      <td>7.500000</td>\n",
       "      <td>-12.776511</td>\n",
       "      <td>3.333333</td>\n",
       "      <td>4.000000</td>\n",
       "    </tr>\n",
       "    <tr>\n",
       "      <th>50%</th>\n",
       "      <td>9.600000</td>\n",
       "      <td>20.150000</td>\n",
       "      <td>2.000000</td>\n",
       "      <td>8.975000</td>\n",
       "      <td>-6.006159</td>\n",
       "      <td>7.974359</td>\n",
       "      <td>5.000000</td>\n",
       "    </tr>\n",
       "    <tr>\n",
       "      <th>75%</th>\n",
       "      <td>11.100000</td>\n",
       "      <td>30.225000</td>\n",
       "      <td>2.000000</td>\n",
       "      <td>10.442500</td>\n",
       "      <td>0.000000</td>\n",
       "      <td>14.271429</td>\n",
       "      <td>6.400000</td>\n",
       "    </tr>\n",
       "    <tr>\n",
       "      <th>max</th>\n",
       "      <td>15.000000</td>\n",
       "      <td>99.100000</td>\n",
       "      <td>11.000000</td>\n",
       "      <td>19.300000</td>\n",
       "      <td>76.666667</td>\n",
       "      <td>76.666667</td>\n",
       "      <td>22.300000</td>\n",
       "    </tr>\n",
       "  </tbody>\n",
       "</table>\n",
       "</div>"
      ],
      "text/plain": [
       "          Actipres     Actidosi      Voldosi       Actiny  desviasigno  \\\n",
       "count  1172.000000  1172.000000  1172.000000  1172.000000  1172.000000   \n",
       "mean      9.612517    23.943217     1.805546     8.963976    -6.244628   \n",
       "std       2.239064    13.960397     0.584042     2.197402    11.842782   \n",
       "min       2.400000     1.400000     0.500000     2.020000   -51.041667   \n",
       "25%       8.300000    14.200000     1.500000     7.500000   -12.776511   \n",
       "50%       9.600000    20.150000     2.000000     8.975000    -6.006159   \n",
       "75%      11.100000    30.225000     2.000000    10.442500     0.000000   \n",
       "max      15.000000    99.100000    11.000000    19.300000    76.666667   \n",
       "\n",
       "            desvia       Espiny  \n",
       "count  1172.000000  1172.000000  \n",
       "mean      9.972400     5.410944  \n",
       "std       8.930089     2.172504  \n",
       "min       0.000000     0.545455  \n",
       "25%       3.333333     4.000000  \n",
       "50%       7.974359     5.000000  \n",
       "75%      14.271429     6.400000  \n",
       "max      76.666667    22.300000  "
      ]
     },
     "execution_count": 58,
     "metadata": {},
     "output_type": "execute_result"
    }
   ],
   "source": [
    "data.describe()"
   ]
  },
  {
   "cell_type": "code",
   "execution_count": null,
   "metadata": {
    "collapsed": true
   },
   "outputs": [],
   "source": []
  },
  {
   "cell_type": "code",
   "execution_count": 59,
   "metadata": {},
   "outputs": [
    {
     "name": "stderr",
     "output_type": "stream",
     "text": [
      "/Users/Mila/anaconda/lib/python3.5/site-packages/matplotlib/axes/_axes.py:6462: UserWarning: The 'normed' kwarg is deprecated, and has been replaced by the 'density' kwarg.\n",
      "  warnings.warn(\"The 'normed' kwarg is deprecated, and has been \"\n"
     ]
    },
    {
     "ename": "KeyError",
     "evalue": "'Esp'",
     "output_type": "error",
     "traceback": [
      "\u001b[0;31m---------------------------------------------------------------------------\u001b[0m",
      "\u001b[0;31mKeyError\u001b[0m                                  Traceback (most recent call last)",
      "\u001b[0;32m/Users/Mila/anaconda/lib/python3.5/site-packages/pandas/indexes/base.py\u001b[0m in \u001b[0;36mget_loc\u001b[0;34m(self, key, method, tolerance)\u001b[0m\n\u001b[1;32m   2133\u001b[0m             \u001b[0;32mtry\u001b[0m\u001b[0;34m:\u001b[0m\u001b[0;34m\u001b[0m\u001b[0m\n\u001b[0;32m-> 2134\u001b[0;31m                 \u001b[0;32mreturn\u001b[0m \u001b[0mself\u001b[0m\u001b[0;34m.\u001b[0m\u001b[0m_engine\u001b[0m\u001b[0;34m.\u001b[0m\u001b[0mget_loc\u001b[0m\u001b[0;34m(\u001b[0m\u001b[0mkey\u001b[0m\u001b[0;34m)\u001b[0m\u001b[0;34m\u001b[0m\u001b[0m\n\u001b[0m\u001b[1;32m   2135\u001b[0m             \u001b[0;32mexcept\u001b[0m \u001b[0mKeyError\u001b[0m\u001b[0;34m:\u001b[0m\u001b[0;34m\u001b[0m\u001b[0m\n",
      "\u001b[0;32mpandas/index.pyx\u001b[0m in \u001b[0;36mpandas.index.IndexEngine.get_loc (pandas/index.c:4433)\u001b[0;34m()\u001b[0m\n",
      "\u001b[0;32mpandas/index.pyx\u001b[0m in \u001b[0;36mpandas.index.IndexEngine.get_loc (pandas/index.c:4279)\u001b[0;34m()\u001b[0m\n",
      "\u001b[0;32mpandas/src/hashtable_class_helper.pxi\u001b[0m in \u001b[0;36mpandas.hashtable.PyObjectHashTable.get_item (pandas/hashtable.c:13742)\u001b[0;34m()\u001b[0m\n",
      "\u001b[0;32mpandas/src/hashtable_class_helper.pxi\u001b[0m in \u001b[0;36mpandas.hashtable.PyObjectHashTable.get_item (pandas/hashtable.c:13696)\u001b[0;34m()\u001b[0m\n",
      "\u001b[0;31mKeyError\u001b[0m: 'Esp'",
      "\nDuring handling of the above exception, another exception occurred:\n",
      "\u001b[0;31mKeyError\u001b[0m                                  Traceback (most recent call last)",
      "\u001b[0;32m<ipython-input-59-2e760b06959c>\u001b[0m in \u001b[0;36m<module>\u001b[0;34m()\u001b[0m\n\u001b[1;32m     17\u001b[0m \u001b[0;31m## Set second x-axis for MBq\u001b[0m\u001b[0;34m\u001b[0m\u001b[0;34m\u001b[0m\u001b[0m\n\u001b[1;32m     18\u001b[0m \u001b[0max2\u001b[0m \u001b[0;34m=\u001b[0m \u001b[0max1\u001b[0m\u001b[0;34m.\u001b[0m\u001b[0mtwiny\u001b[0m\u001b[0;34m(\u001b[0m\u001b[0;34m)\u001b[0m\u001b[0;34m\u001b[0m\u001b[0m\n\u001b[0;32m---> 19\u001b[0;31m \u001b[0mMBqs\u001b[0m \u001b[0;34m=\u001b[0m \u001b[0mnp\u001b[0m\u001b[0;34m.\u001b[0m\u001b[0mlinspace\u001b[0m\u001b[0;34m(\u001b[0m\u001b[0mdata\u001b[0m\u001b[0;34m[\u001b[0m\u001b[0;34m'Esp'\u001b[0m\u001b[0;34m]\u001b[0m\u001b[0;34m.\u001b[0m\u001b[0mmin\u001b[0m\u001b[0;34m(\u001b[0m\u001b[0;34m)\u001b[0m\u001b[0;34m,\u001b[0m\u001b[0mdata\u001b[0m\u001b[0;34m[\u001b[0m\u001b[0;34m'Esp'\u001b[0m\u001b[0;34m]\u001b[0m\u001b[0;34m.\u001b[0m\u001b[0mmax\u001b[0m\u001b[0;34m(\u001b[0m\u001b[0;34m)\u001b[0m\u001b[0;34m*\u001b[0m\u001b[0;36m37\u001b[0m\u001b[0;34m,\u001b[0m\u001b[0;36m7\u001b[0m\u001b[0;34m)\u001b[0m \u001b[0;31m# Actividad en MBq\u001b[0m\u001b[0;34m\u001b[0m\u001b[0m\n\u001b[0m\u001b[1;32m     20\u001b[0m \u001b[0max2\u001b[0m\u001b[0;34m.\u001b[0m\u001b[0mset_xticks\u001b[0m\u001b[0;34m(\u001b[0m\u001b[0mMBqs\u001b[0m\u001b[0;34m/\u001b[0m\u001b[0;36m37\u001b[0m\u001b[0;34m)\u001b[0m \u001b[0;31m# Ponga los ticks\u001b[0m\u001b[0;34m\u001b[0m\u001b[0m\n\u001b[1;32m     21\u001b[0m \u001b[0max2\u001b[0m\u001b[0;34m.\u001b[0m\u001b[0mset_xticklabels\u001b[0m\u001b[0;34m(\u001b[0m\u001b[0mMBqs\u001b[0m\u001b[0;34m.\u001b[0m\u001b[0mastype\u001b[0m\u001b[0;34m(\u001b[0m\u001b[0mint\u001b[0m\u001b[0;34m)\u001b[0m\u001b[0;34m)\u001b[0m \u001b[0;31m# Ponga los Labels\u001b[0m\u001b[0;34m\u001b[0m\u001b[0m\n",
      "\u001b[0;32m/Users/Mila/anaconda/lib/python3.5/site-packages/pandas/core/frame.py\u001b[0m in \u001b[0;36m__getitem__\u001b[0;34m(self, key)\u001b[0m\n\u001b[1;32m   2057\u001b[0m             \u001b[0;32mreturn\u001b[0m \u001b[0mself\u001b[0m\u001b[0;34m.\u001b[0m\u001b[0m_getitem_multilevel\u001b[0m\u001b[0;34m(\u001b[0m\u001b[0mkey\u001b[0m\u001b[0;34m)\u001b[0m\u001b[0;34m\u001b[0m\u001b[0m\n\u001b[1;32m   2058\u001b[0m         \u001b[0;32melse\u001b[0m\u001b[0;34m:\u001b[0m\u001b[0;34m\u001b[0m\u001b[0m\n\u001b[0;32m-> 2059\u001b[0;31m             \u001b[0;32mreturn\u001b[0m \u001b[0mself\u001b[0m\u001b[0;34m.\u001b[0m\u001b[0m_getitem_column\u001b[0m\u001b[0;34m(\u001b[0m\u001b[0mkey\u001b[0m\u001b[0;34m)\u001b[0m\u001b[0;34m\u001b[0m\u001b[0m\n\u001b[0m\u001b[1;32m   2060\u001b[0m \u001b[0;34m\u001b[0m\u001b[0m\n\u001b[1;32m   2061\u001b[0m     \u001b[0;32mdef\u001b[0m \u001b[0m_getitem_column\u001b[0m\u001b[0;34m(\u001b[0m\u001b[0mself\u001b[0m\u001b[0;34m,\u001b[0m \u001b[0mkey\u001b[0m\u001b[0;34m)\u001b[0m\u001b[0;34m:\u001b[0m\u001b[0;34m\u001b[0m\u001b[0m\n",
      "\u001b[0;32m/Users/Mila/anaconda/lib/python3.5/site-packages/pandas/core/frame.py\u001b[0m in \u001b[0;36m_getitem_column\u001b[0;34m(self, key)\u001b[0m\n\u001b[1;32m   2064\u001b[0m         \u001b[0;31m# get column\u001b[0m\u001b[0;34m\u001b[0m\u001b[0;34m\u001b[0m\u001b[0m\n\u001b[1;32m   2065\u001b[0m         \u001b[0;32mif\u001b[0m \u001b[0mself\u001b[0m\u001b[0;34m.\u001b[0m\u001b[0mcolumns\u001b[0m\u001b[0;34m.\u001b[0m\u001b[0mis_unique\u001b[0m\u001b[0;34m:\u001b[0m\u001b[0;34m\u001b[0m\u001b[0m\n\u001b[0;32m-> 2066\u001b[0;31m             \u001b[0;32mreturn\u001b[0m \u001b[0mself\u001b[0m\u001b[0;34m.\u001b[0m\u001b[0m_get_item_cache\u001b[0m\u001b[0;34m(\u001b[0m\u001b[0mkey\u001b[0m\u001b[0;34m)\u001b[0m\u001b[0;34m\u001b[0m\u001b[0m\n\u001b[0m\u001b[1;32m   2067\u001b[0m \u001b[0;34m\u001b[0m\u001b[0m\n\u001b[1;32m   2068\u001b[0m         \u001b[0;31m# duplicate columns & possible reduce dimensionality\u001b[0m\u001b[0;34m\u001b[0m\u001b[0;34m\u001b[0m\u001b[0m\n",
      "\u001b[0;32m/Users/Mila/anaconda/lib/python3.5/site-packages/pandas/core/generic.py\u001b[0m in \u001b[0;36m_get_item_cache\u001b[0;34m(self, item)\u001b[0m\n\u001b[1;32m   1384\u001b[0m         \u001b[0mres\u001b[0m \u001b[0;34m=\u001b[0m \u001b[0mcache\u001b[0m\u001b[0;34m.\u001b[0m\u001b[0mget\u001b[0m\u001b[0;34m(\u001b[0m\u001b[0mitem\u001b[0m\u001b[0;34m)\u001b[0m\u001b[0;34m\u001b[0m\u001b[0m\n\u001b[1;32m   1385\u001b[0m         \u001b[0;32mif\u001b[0m \u001b[0mres\u001b[0m \u001b[0;32mis\u001b[0m \u001b[0;32mNone\u001b[0m\u001b[0;34m:\u001b[0m\u001b[0;34m\u001b[0m\u001b[0m\n\u001b[0;32m-> 1386\u001b[0;31m             \u001b[0mvalues\u001b[0m \u001b[0;34m=\u001b[0m \u001b[0mself\u001b[0m\u001b[0;34m.\u001b[0m\u001b[0m_data\u001b[0m\u001b[0;34m.\u001b[0m\u001b[0mget\u001b[0m\u001b[0;34m(\u001b[0m\u001b[0mitem\u001b[0m\u001b[0;34m)\u001b[0m\u001b[0;34m\u001b[0m\u001b[0m\n\u001b[0m\u001b[1;32m   1387\u001b[0m             \u001b[0mres\u001b[0m \u001b[0;34m=\u001b[0m \u001b[0mself\u001b[0m\u001b[0;34m.\u001b[0m\u001b[0m_box_item_values\u001b[0m\u001b[0;34m(\u001b[0m\u001b[0mitem\u001b[0m\u001b[0;34m,\u001b[0m \u001b[0mvalues\u001b[0m\u001b[0;34m)\u001b[0m\u001b[0;34m\u001b[0m\u001b[0m\n\u001b[1;32m   1388\u001b[0m             \u001b[0mcache\u001b[0m\u001b[0;34m[\u001b[0m\u001b[0mitem\u001b[0m\u001b[0;34m]\u001b[0m \u001b[0;34m=\u001b[0m \u001b[0mres\u001b[0m\u001b[0;34m\u001b[0m\u001b[0m\n",
      "\u001b[0;32m/Users/Mila/anaconda/lib/python3.5/site-packages/pandas/core/internals.py\u001b[0m in \u001b[0;36mget\u001b[0;34m(self, item, fastpath)\u001b[0m\n\u001b[1;32m   3541\u001b[0m \u001b[0;34m\u001b[0m\u001b[0m\n\u001b[1;32m   3542\u001b[0m             \u001b[0;32mif\u001b[0m \u001b[0;32mnot\u001b[0m \u001b[0misnull\u001b[0m\u001b[0;34m(\u001b[0m\u001b[0mitem\u001b[0m\u001b[0;34m)\u001b[0m\u001b[0;34m:\u001b[0m\u001b[0;34m\u001b[0m\u001b[0m\n\u001b[0;32m-> 3543\u001b[0;31m                 \u001b[0mloc\u001b[0m \u001b[0;34m=\u001b[0m \u001b[0mself\u001b[0m\u001b[0;34m.\u001b[0m\u001b[0mitems\u001b[0m\u001b[0;34m.\u001b[0m\u001b[0mget_loc\u001b[0m\u001b[0;34m(\u001b[0m\u001b[0mitem\u001b[0m\u001b[0;34m)\u001b[0m\u001b[0;34m\u001b[0m\u001b[0m\n\u001b[0m\u001b[1;32m   3544\u001b[0m             \u001b[0;32melse\u001b[0m\u001b[0;34m:\u001b[0m\u001b[0;34m\u001b[0m\u001b[0m\n\u001b[1;32m   3545\u001b[0m                 \u001b[0mindexer\u001b[0m \u001b[0;34m=\u001b[0m \u001b[0mnp\u001b[0m\u001b[0;34m.\u001b[0m\u001b[0marange\u001b[0m\u001b[0;34m(\u001b[0m\u001b[0mlen\u001b[0m\u001b[0;34m(\u001b[0m\u001b[0mself\u001b[0m\u001b[0;34m.\u001b[0m\u001b[0mitems\u001b[0m\u001b[0;34m)\u001b[0m\u001b[0;34m)\u001b[0m\u001b[0;34m[\u001b[0m\u001b[0misnull\u001b[0m\u001b[0;34m(\u001b[0m\u001b[0mself\u001b[0m\u001b[0;34m.\u001b[0m\u001b[0mitems\u001b[0m\u001b[0;34m)\u001b[0m\u001b[0;34m]\u001b[0m\u001b[0;34m\u001b[0m\u001b[0m\n",
      "\u001b[0;32m/Users/Mila/anaconda/lib/python3.5/site-packages/pandas/indexes/base.py\u001b[0m in \u001b[0;36mget_loc\u001b[0;34m(self, key, method, tolerance)\u001b[0m\n\u001b[1;32m   2134\u001b[0m                 \u001b[0;32mreturn\u001b[0m \u001b[0mself\u001b[0m\u001b[0;34m.\u001b[0m\u001b[0m_engine\u001b[0m\u001b[0;34m.\u001b[0m\u001b[0mget_loc\u001b[0m\u001b[0;34m(\u001b[0m\u001b[0mkey\u001b[0m\u001b[0;34m)\u001b[0m\u001b[0;34m\u001b[0m\u001b[0m\n\u001b[1;32m   2135\u001b[0m             \u001b[0;32mexcept\u001b[0m \u001b[0mKeyError\u001b[0m\u001b[0;34m:\u001b[0m\u001b[0;34m\u001b[0m\u001b[0m\n\u001b[0;32m-> 2136\u001b[0;31m                 \u001b[0;32mreturn\u001b[0m \u001b[0mself\u001b[0m\u001b[0;34m.\u001b[0m\u001b[0m_engine\u001b[0m\u001b[0;34m.\u001b[0m\u001b[0mget_loc\u001b[0m\u001b[0;34m(\u001b[0m\u001b[0mself\u001b[0m\u001b[0;34m.\u001b[0m\u001b[0m_maybe_cast_indexer\u001b[0m\u001b[0;34m(\u001b[0m\u001b[0mkey\u001b[0m\u001b[0;34m)\u001b[0m\u001b[0;34m)\u001b[0m\u001b[0;34m\u001b[0m\u001b[0m\n\u001b[0m\u001b[1;32m   2137\u001b[0m \u001b[0;34m\u001b[0m\u001b[0m\n\u001b[1;32m   2138\u001b[0m         \u001b[0mindexer\u001b[0m \u001b[0;34m=\u001b[0m \u001b[0mself\u001b[0m\u001b[0;34m.\u001b[0m\u001b[0mget_indexer\u001b[0m\u001b[0;34m(\u001b[0m\u001b[0;34m[\u001b[0m\u001b[0mkey\u001b[0m\u001b[0;34m]\u001b[0m\u001b[0;34m,\u001b[0m \u001b[0mmethod\u001b[0m\u001b[0;34m=\u001b[0m\u001b[0mmethod\u001b[0m\u001b[0;34m,\u001b[0m \u001b[0mtolerance\u001b[0m\u001b[0;34m=\u001b[0m\u001b[0mtolerance\u001b[0m\u001b[0;34m)\u001b[0m\u001b[0;34m\u001b[0m\u001b[0m\n",
      "\u001b[0;32mpandas/index.pyx\u001b[0m in \u001b[0;36mpandas.index.IndexEngine.get_loc (pandas/index.c:4433)\u001b[0;34m()\u001b[0m\n",
      "\u001b[0;32mpandas/index.pyx\u001b[0m in \u001b[0;36mpandas.index.IndexEngine.get_loc (pandas/index.c:4279)\u001b[0;34m()\u001b[0m\n",
      "\u001b[0;32mpandas/src/hashtable_class_helper.pxi\u001b[0m in \u001b[0;36mpandas.hashtable.PyObjectHashTable.get_item (pandas/hashtable.c:13742)\u001b[0;34m()\u001b[0m\n",
      "\u001b[0;32mpandas/src/hashtable_class_helper.pxi\u001b[0m in \u001b[0;36mpandas.hashtable.PyObjectHashTable.get_item (pandas/hashtable.c:13696)\u001b[0;34m()\u001b[0m\n",
      "\u001b[0;31mKeyError\u001b[0m: 'Esp'"
     ]
    },
    {
     "data": {
      "image/png": "[encoded data removed]",
      "text/plain": [
       "<Figure size 720x504 with 2 Axes>"
      ]
     },
     "metadata": {},
     "output_type": "display_data"
    }
   ],
   "source": [
    "#sns.distplot(data_Gapsma['Esp'],kde=False,color='b')\n",
    "### Plot the data\n",
    "plt.figure(figsize=(10,7))\n",
    "ax1=plt.subplot(1,1,1)\n",
    "#sns.distplot(data['Esp'],norm_hist=True,kde=False,color='g',ax=ax1)\n",
    "#sns.distplot(data['Esppres'],norm_hist=True,kde=False,color='b',ax=ax1)\n",
    "sns.distplot(data['Espiny'],norm_hist=True,kde=False,color='b',ax=ax1)\n",
    "#plt.plot((15, 15),(0,125), '--k', linewidth=1) \n",
    "#plt.plot((4.2, 4.2),(0,125), '--k', linewidth=1) \n",
    "\n",
    "ax1.set_title('Fluor 18',fontsize=14)\n",
    "ax1.set_ylabel('Proporción de Pacientes',fontsize=14)\n",
    "ax1.set_xlabel('Concentración de Actividad [mCi ml$^{-1}$]',fontsize=14)\n",
    "ax1.tick_params(axis='both',labelsize=14)\n",
    "sns.set_style('ticks')\n",
    "\n",
    "## Set second x-axis for MBq\n",
    "ax2 = ax1.twiny()\n",
    "MBqs = np.linspace(data['Esp'].min(),data['Esp'].max()*37,7) # Actividad en MBq\n",
    "ax2.set_xticks(MBqs/37) # Ponga los ticks\n",
    "ax2.set_xticklabels(MBqs.astype(int)) # Ponga los Labels\n",
    "ax2.xaxis.set_ticks_position('bottom') # set the position of the second x-axis to bottom\n",
    "ax2.xaxis.set_label_position('bottom') # set the position of the second x-axis to bottom\n",
    "ax2.spines['bottom'].set_position(('outward', 56))\n",
    "ax2.set_xlabel('Concentración de Actividad  [MBq ml$^{-1}$]',fontsize=14)\n",
    "ax2.set_xlim(ax1.get_xlim())\n",
    "ax2.tick_params(labelsize=14)\n",
    "plt.savefig('FDGcon.pdf',bbox_inches = \"tight\")"
   ]
  },
  {
   "cell_type": "markdown",
   "metadata": {},
   "source": [
    "### Diagnostic Reference Level "
   ]
  },
  {
   "cell_type": "markdown",
   "metadata": {},
   "source": [
    "Comparar con guías internacionales: Europea (SNMMI) y no se que otra. Los valores de actividad a administrar por RF de diagnostico en PET."
   ]
  },
  {
   "cell_type": "code",
   "execution_count": 60,
   "metadata": {
    "collapsed": true
   },
   "outputs": [],
   "source": [
    "##########  Agrupando por examen #########\n",
    "#data_group_exam = data.groupby(['Radiofarmaco'],as_index=False)\n",
    "\n",
    "######### FDG ##########\n",
    "#FDG= data_group_exam.get_group('FDG')\n",
    "\n",
    "######### GADOTA  ##########\n",
    "#GADOTA= data_group_exam.get_group('GADOTA')\n",
    "\n",
    "######### GAPSMA  ##########\n",
    "#GAPSMA= data_group_exam.get_group('GADOTA')"
   ]
  },
  {
   "cell_type": "code",
   "execution_count": 61,
   "metadata": {
    "collapsed": true
   },
   "outputs": [],
   "source": [
    "data.dropna(subset=[\"Actiny\"], axis=0, inplace=True)\n",
    "data.dropna(subset=[\"Actiny\"], axis=0, inplace=True)\n",
    "# reset index, because we droped rows\n",
    "data.reset_index(drop=True, inplace=True)"
   ]
  },
  {
   "cell_type": "code",
   "execution_count": 62,
   "metadata": {},
   "outputs": [
    {
     "data": {
      "text/plain": [
       "count    1172.000000\n",
       "mean        8.963976\n",
       "std         2.197402\n",
       "min         2.020000\n",
       "25%         7.500000\n",
       "50%         8.975000\n",
       "75%        10.442500\n",
       "max        19.300000\n",
       "Name: Actiny, dtype: float64"
      ]
     },
     "execution_count": 62,
     "metadata": {},
     "output_type": "execute_result"
    }
   ],
   "source": [
    "data['Actiny'].describe()"
   ]
  },
  {
   "cell_type": "code",
   "execution_count": 63,
   "metadata": {
    "collapsed": true
   },
   "outputs": [],
   "source": [
    "import seaborn as sns"
   ]
  },
  {
   "cell_type": "code",
   "execution_count": null,
   "metadata": {
    "collapsed": true
   },
   "outputs": [],
   "source": []
  },
  {
   "cell_type": "code",
   "execution_count": 65,
   "metadata": {},
   "outputs": [
    {
     "data": {
      "text/html": [
       "<div>\n",
       "<table border=\"1\" class=\"dataframe\">\n",
       "  <thead>\n",
       "    <tr style=\"text-align: right;\">\n",
       "      <th></th>\n",
       "      <th>Actiny</th>\n",
       "      <th>Actipres</th>\n",
       "    </tr>\n",
       "  </thead>\n",
       "  <tbody>\n",
       "    <tr>\n",
       "      <th>count</th>\n",
       "      <td>1172.000000</td>\n",
       "      <td>1172.000000</td>\n",
       "    </tr>\n",
       "    <tr>\n",
       "      <th>mean</th>\n",
       "      <td>8.963976</td>\n",
       "      <td>9.612517</td>\n",
       "    </tr>\n",
       "    <tr>\n",
       "      <th>std</th>\n",
       "      <td>2.197402</td>\n",
       "      <td>2.239064</td>\n",
       "    </tr>\n",
       "    <tr>\n",
       "      <th>min</th>\n",
       "      <td>2.020000</td>\n",
       "      <td>2.400000</td>\n",
       "    </tr>\n",
       "    <tr>\n",
       "      <th>25%</th>\n",
       "      <td>7.500000</td>\n",
       "      <td>8.300000</td>\n",
       "    </tr>\n",
       "    <tr>\n",
       "      <th>50%</th>\n",
       "      <td>8.975000</td>\n",
       "      <td>9.600000</td>\n",
       "    </tr>\n",
       "    <tr>\n",
       "      <th>75%</th>\n",
       "      <td>10.442500</td>\n",
       "      <td>11.100000</td>\n",
       "    </tr>\n",
       "    <tr>\n",
       "      <th>max</th>\n",
       "      <td>19.300000</td>\n",
       "      <td>15.000000</td>\n",
       "    </tr>\n",
       "  </tbody>\n",
       "</table>\n",
       "</div>"
      ],
      "text/plain": [
       "            Actiny     Actipres\n",
       "count  1172.000000  1172.000000\n",
       "mean      8.963976     9.612517\n",
       "std       2.197402     2.239064\n",
       "min       2.020000     2.400000\n",
       "25%       7.500000     8.300000\n",
       "50%       8.975000     9.600000\n",
       "75%      10.442500    11.100000\n",
       "max      19.300000    15.000000"
      ]
     },
     "execution_count": 65,
     "metadata": {},
     "output_type": "execute_result"
    }
   ],
   "source": [
    "######## Estadisticos FDG F-18\n",
    "#FDG['ActivIny'].describe()\n",
    "data[['Actiny','Actipres']].describe()"
   ]
  },
  {
   "cell_type": "code",
   "execution_count": null,
   "metadata": {
    "collapsed": true
   },
   "outputs": [],
   "source": []
  },
  {
   "cell_type": "code",
   "execution_count": 102,
   "metadata": {},
   "outputs": [
    {
     "data": {
      "text/plain": [
       "count    148.000000\n",
       "mean      -3.176383\n",
       "std       27.017272\n",
       "min      -56.410256\n",
       "25%      -19.852941\n",
       "50%       -2.086957\n",
       "75%       13.095109\n",
       "max       89.000000\n",
       "Name: desviasigno, dtype: float64"
      ]
     },
     "execution_count": 102,
     "metadata": {},
     "output_type": "execute_result"
    }
   ],
   "source": [
    "data['desviasigno'].describe()"
   ]
  },
  {
   "cell_type": "code",
   "execution_count": 86,
   "metadata": {
    "collapsed": true
   },
   "outputs": [],
   "source": [
    "######## Estadisticos GADOTA Ga-68\n",
    "#GADOTA['ActivIny'].describe()"
   ]
  },
  {
   "cell_type": "code",
   "execution_count": 87,
   "metadata": {
    "collapsed": true
   },
   "outputs": [],
   "source": [
    "######## Estadisticos GAPSMA Ga-68\n",
    "#GAPSMA['ActivIny'].describe()"
   ]
  },
  {
   "cell_type": "code",
   "execution_count": 88,
   "metadata": {
    "collapsed": true
   },
   "outputs": [],
   "source": [
    "#data.dtypes"
   ]
  },
  {
   "cell_type": "code",
   "execution_count": 89,
   "metadata": {
    "collapsed": true
   },
   "outputs": [],
   "source": [
    "#replace NV to NaN\n",
    "#data.replace(\"NV\", np.nan, inplace = True)"
   ]
  },
  {
   "cell_type": "code",
   "execution_count": 90,
   "metadata": {
    "collapsed": true
   },
   "outputs": [],
   "source": [
    "#data.dtypes"
   ]
  },
  {
   "cell_type": "code",
   "execution_count": 91,
   "metadata": {
    "collapsed": true
   },
   "outputs": [],
   "source": [
    "#data[[\"ActivAdm\"]] = data[[\"ActivAdm\"]].astype(\"float\")"
   ]
  },
  {
   "cell_type": "code",
   "execution_count": 92,
   "metadata": {
    "collapsed": true
   },
   "outputs": [],
   "source": [
    "#data.dropna(subset=[\"ActivAdm\"], axis=0, inplace=True)"
   ]
  },
  {
   "cell_type": "code",
   "execution_count": 93,
   "metadata": {
    "collapsed": true
   },
   "outputs": [],
   "source": [
    "#data.reset_index(drop=True, inplace=True)"
   ]
  },
  {
   "cell_type": "markdown",
   "metadata": {},
   "source": []
  },
  {
   "cell_type": "markdown",
   "metadata": {},
   "source": [
    "\\begin{equation}\n",
    "\\%=\\frac{(\\text{Actividad Prescrita}-\\text{Actividad Inyectada})\\times 100}{\\text{Actividad Prescrita}}\n",
    "\\end{equation}"
   ]
  },
  {
   "cell_type": "markdown",
   "metadata": {},
   "source": [
    "Aquí Actividad Inyectada = Actividad Pre-jeringa -Actividad Post Jeringa"
   ]
  },
  {
   "cell_type": "code",
   "execution_count": 94,
   "metadata": {
    "collapsed": true
   },
   "outputs": [],
   "source": [
    "##Diferencia\n",
    "#perce=np.absolute(((data['ActivAdm']-data['ActivIny'])*100)/data['ActivAdm'])"
   ]
  },
  {
   "cell_type": "code",
   "execution_count": 95,
   "metadata": {
    "collapsed": true
   },
   "outputs": [],
   "source": [
    "#percent=round(perce,1)"
   ]
  },
  {
   "cell_type": "code",
   "execution_count": 96,
   "metadata": {
    "collapsed": true
   },
   "outputs": [],
   "source": [
    "### Ingresar datos en el data \n",
    "#data['percent']= percent"
   ]
  },
  {
   "cell_type": "code",
   "execution_count": 97,
   "metadata": {},
   "outputs": [
    {
     "data": {
      "text/html": [
       "<div>\n",
       "<table border=\"1\" class=\"dataframe\">\n",
       "  <thead>\n",
       "    <tr style=\"text-align: right;\">\n",
       "      <th></th>\n",
       "      <th>Genero</th>\n",
       "      <th>Peso</th>\n",
       "      <th>Horarec</th>\n",
       "      <th>Actipres</th>\n",
       "      <th>Horadm</th>\n",
       "      <th>Actidosi</th>\n",
       "      <th>Horadosi</th>\n",
       "      <th>Voldosi</th>\n",
       "      <th>Actiny</th>\n",
       "      <th>Horainy</th>\n",
       "      <th>Operador</th>\n",
       "      <th>desviasigno</th>\n",
       "      <th>desvia</th>\n",
       "    </tr>\n",
       "  </thead>\n",
       "  <tbody>\n",
       "    <tr>\n",
       "      <th>0</th>\n",
       "      <td>F</td>\n",
       "      <td>90</td>\n",
       "      <td>7:38</td>\n",
       "      <td>13.5</td>\n",
       "      <td>8:00</td>\n",
       "      <td>16.7</td>\n",
       "      <td>7:21</td>\n",
       "      <td>1.5</td>\n",
       "      <td>10.87</td>\n",
       "      <td>8:20</td>\n",
       "      <td>Andrea</td>\n",
       "      <td>-19.481481</td>\n",
       "      <td>19.481481</td>\n",
       "    </tr>\n",
       "    <tr>\n",
       "      <th>1</th>\n",
       "      <td>M</td>\n",
       "      <td>74</td>\n",
       "      <td>7:38</td>\n",
       "      <td>11.1</td>\n",
       "      <td>8:30</td>\n",
       "      <td>17.5</td>\n",
       "      <td>7:30</td>\n",
       "      <td>2.6</td>\n",
       "      <td>10.11</td>\n",
       "      <td>8:50</td>\n",
       "      <td>Andrea</td>\n",
       "      <td>-8.918919</td>\n",
       "      <td>8.918919</td>\n",
       "    </tr>\n",
       "    <tr>\n",
       "      <th>2</th>\n",
       "      <td>M</td>\n",
       "      <td>55</td>\n",
       "      <td>9:00</td>\n",
       "      <td>8.3</td>\n",
       "      <td>9:00</td>\n",
       "      <td>13.8</td>\n",
       "      <td>7:38</td>\n",
       "      <td>2</td>\n",
       "      <td>7.24</td>\n",
       "      <td>11:08</td>\n",
       "      <td>Andrea</td>\n",
       "      <td>-12.771084</td>\n",
       "      <td>12.771084</td>\n",
       "    </tr>\n",
       "    <tr>\n",
       "      <th>3</th>\n",
       "      <td>F</td>\n",
       "      <td>62</td>\n",
       "      <td>10:00</td>\n",
       "      <td>9.3</td>\n",
       "      <td>9:30</td>\n",
       "      <td>15.8</td>\n",
       "      <td>8:15</td>\n",
       "      <td>2</td>\n",
       "      <td>7.97</td>\n",
       "      <td>9:51</td>\n",
       "      <td>Andrea</td>\n",
       "      <td>-14.301075</td>\n",
       "      <td>14.301075</td>\n",
       "    </tr>\n",
       "    <tr>\n",
       "      <th>4</th>\n",
       "      <td>F</td>\n",
       "      <td>60</td>\n",
       "      <td>10:00</td>\n",
       "      <td>9.0</td>\n",
       "      <td>10:30</td>\n",
       "      <td>21.0</td>\n",
       "      <td>8:26</td>\n",
       "      <td>2</td>\n",
       "      <td>6.54</td>\n",
       "      <td>10:39</td>\n",
       "      <td>Andrea</td>\n",
       "      <td>-27.333333</td>\n",
       "      <td>27.333333</td>\n",
       "    </tr>\n",
       "  </tbody>\n",
       "</table>\n",
       "</div>"
      ],
      "text/plain": [
       "  Genero Peso Horarec  Actipres Horadm  Actidosi Horadosi Voldosi  Actiny  \\\n",
       "0      F   90    7:38      13.5   8:00      16.7     7:21     1.5   10.87   \n",
       "1      M   74    7:38      11.1   8:30      17.5     7:30     2.6   10.11   \n",
       "2      M   55    9:00       8.3   9:00      13.8     7:38       2    7.24   \n",
       "3      F   62   10:00       9.3   9:30      15.8     8:15       2    7.97   \n",
       "4      F   60   10:00       9.0  10:30      21.0     8:26       2    6.54   \n",
       "\n",
       "  Horainy Operador  desviasigno     desvia  \n",
       "0    8:20   Andrea   -19.481481  19.481481  \n",
       "1    8:50   Andrea    -8.918919   8.918919  \n",
       "2   11:08   Andrea   -12.771084  12.771084  \n",
       "3    9:51   Andrea   -14.301075  14.301075  \n",
       "4   10:39   Andrea   -27.333333  27.333333  "
      ]
     },
     "execution_count": 97,
     "metadata": {},
     "output_type": "execute_result"
    }
   ],
   "source": [
    "data.head()"
   ]
  },
  {
   "cell_type": "markdown",
   "metadata": {},
   "source": [
    "Altos porcentajes de diferencia entre actividad prescrita y actividad inyectada, pueden tener las siguientes causas asignables:\n",
    "\n",
    "1. Retraso en la recepción de la actividad porque: radiofarmaco esta en pruebas de control de calidad ó falla  comunicación entre RF-MN  [TIEMPO]\n",
    "2. El farmaco marcado con Ga-68 es enviado en una lonchera y con un tapón. En el cambio del tapón por la jeringa, es probable que se pierda una cierta cantidad de material (y tiempo)\n",
    "3. Dificultades tecnicas con el PET, que retrasa el proceso para realizar el estudio [TIEMPO]\n",
    "4. ¿Actividad residual en jeringa es considerable?\n",
    "5. Daño en el ascensor"
   ]
  },
  {
   "cell_type": "markdown",
   "metadata": {},
   "source": [
    "#### Añadir grafico % Dif "
   ]
  },
  {
   "cell_type": "code",
   "execution_count": 98,
   "metadata": {
    "collapsed": true
   },
   "outputs": [],
   "source": [
    "##########  Agrupando por examen #########\n",
    "#data_group_exam = data.groupby(['Radiofarmaco'],as_index=False)\n",
    "\n",
    "######### FDG ##########\n",
    "#FDG= data_group_exam.get_group('FDG')\n",
    "\n",
    "######### GADOTA  ##########\n",
    "#GADOTA= data_group_exam.get_group('GADOTA')"
   ]
  },
  {
   "cell_type": "code",
   "execution_count": 99,
   "metadata": {
    "collapsed": true
   },
   "outputs": [],
   "source": [
    "#FDG['percent'].describe()"
   ]
  },
  {
   "cell_type": "code",
   "execution_count": 171,
   "metadata": {
    "collapsed": true
   },
   "outputs": [],
   "source": [
    "#subgroup"
   ]
  },
  {
   "cell_type": "code",
   "execution_count": 173,
   "metadata": {
    "collapsed": true
   },
   "outputs": [],
   "source": [
    "#subgroup.loc[subgroup['timePR'].dt.days<0]= np.nan"
   ]
  },
  {
   "cell_type": "code",
   "execution_count": 174,
   "metadata": {
    "collapsed": true
   },
   "outputs": [],
   "source": [
    "\n",
    "#subgroup\n",
    "\n",
    "#subgroup[\"suma\"].dt.seconds"
   ]
  },
  {
   "cell_type": "code",
   "execution_count": 615,
   "metadata": {
    "collapsed": true
   },
   "outputs": [],
   "source": [
    "#subgroup"
   ]
  },
  {
   "cell_type": "code",
   "execution_count": 616,
   "metadata": {
    "collapsed": true
   },
   "outputs": [],
   "source": [
    "#tiempointer=subgroup['timePR'].dt.seconds\n",
    "#microseconds.values\n",
    "#tiempointer[3]*(-1)"
   ]
  },
  {
   "cell_type": "code",
   "execution_count": 613,
   "metadata": {
    "collapsed": true
   },
   "outputs": [],
   "source": [
    "#tiempointer/60"
   ]
  },
  {
   "cell_type": "code",
   "execution_count": 25,
   "metadata": {
    "collapsed": true
   },
   "outputs": [],
   "source": [
    "#### Tiempo transcurrido entre la hora de inyección y la hora prescrita \n",
    "timePI = Inye -pres"
   ]
  },
  {
   "cell_type": "code",
   "execution_count": 614,
   "metadata": {
    "collapsed": true
   },
   "outputs": [],
   "source": [
    "#timePI"
   ]
  },
  {
   "cell_type": "code",
   "execution_count": 29,
   "metadata": {
    "collapsed": true
   },
   "outputs": [],
   "source": [
    "#### Tiempo transcurrido entre la hora de dosificación y la hora de inyección\n",
    "timeID = Inye -dosi"
   ]
  }
 ],
 "metadata": {
  "kernelspec": {
   "display_name": "Python 3",
   "language": "python",
   "name": "python3"
  },
  "language_info": {
   "codemirror_mode": {
    "name": "ipython",
    "version": 3
   },
   "file_extension": ".py",
   "mimetype": "text/x-python",
   "name": "python",
   "nbconvert_exporter": "python",
   "pygments_lexer": "ipython3",
   "version": "3.5.5"
  }
 },
 "nbformat": 4,
 "nbformat_minor": 2
}
