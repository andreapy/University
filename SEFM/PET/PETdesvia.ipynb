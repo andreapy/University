{
 "cells": [
  {
   "cell_type": "markdown",
   "metadata": {},
   "source": [
    "# Práctica clínica en Medicina Nuclear y Radiofarmacia para Radiofarmacos PET "
   ]
  },
  {
   "cell_type": "code",
   "execution_count": 79,
   "metadata": {
    "collapsed": true
   },
   "outputs": [],
   "source": [
    "import numpy as np\n",
    "import pandas as pd\n",
    "import matplotlib.pyplot as plt\n",
    "\n",
    "%matplotlib inline\n",
    "\n",
    "#### Paquete de tiempo\n",
    "import datetime\n",
    "\n",
    "from datetime import time\n",
    "from datetime import timedelta\n",
    "\n",
    "\n",
    "\n",
    "\n",
    "### Cargar Datos #### \n",
    "\n",
    "### Datos Radiofarmacos PET 2019\n",
    "#data= pd.read_csv('PET.txt', delim_whitespace =True)\n",
    "data = pd.read_csv('fdgdrl.txt', delim_whitespace =True, header=None)\n",
    "#data = pd.read_csv('gapsmadrl.txt', delim_whitespace =True, header=None)\n",
    "#data = pd.read_csv('gadotadrl.txt', delim_whitespace =True, header=None)\n",
    "#data = pd.read_csv('galiospetmn.txt', delim_whitespace =True, header=None)\n",
    "\n",
    "#Datos Fechas Galios 2019-2020\n",
    "#gadotafecha=pd.read_csv('gadotafecha.txt', delim_whitespace =True)\n",
    "\n",
    "\n",
    "\n",
    "# create headers list\n",
    "#### FDG\n",
    "headers = [\"Genero\",\"Peso\",\"Horarec\",\"Actipres\",\"Horadm\",\"Actidosi\",\"Horadosi\",\"Voldosi\",\"Actiny\",\"Horainy\", \"Operador\"]\n",
    "#### GAPSMA\n",
    "#headers = [\"Genero\",\"Actipres\",\"Horadm\",\"Peso\",\"Actidosi\",\"Horadosi\",\"Actiny\",\"Horainy\",\"Voldosi\"]\n",
    "#### GADOTANOC\n",
    "#headers = [\"Genero\",\"Peso\",\"Actipres\",\"Horadm\",\"Actidosi\",\"Horadosi\",\"Voldosi\",\"Actiny\",\"Horainy\"]\n",
    "\n",
    "data.columns = headers"
   ]
  },
  {
   "cell_type": "code",
   "execution_count": 80,
   "metadata": {},
   "outputs": [
    {
     "data": {
      "text/html": [
       "<div>\n",
       "<table border=\"1\" class=\"dataframe\">\n",
       "  <thead>\n",
       "    <tr style=\"text-align: right;\">\n",
       "      <th></th>\n",
       "      <th>Genero</th>\n",
       "      <th>Peso</th>\n",
       "      <th>Horarec</th>\n",
       "      <th>Actipres</th>\n",
       "      <th>Horadm</th>\n",
       "      <th>Actidosi</th>\n",
       "      <th>Horadosi</th>\n",
       "      <th>Voldosi</th>\n",
       "      <th>Actiny</th>\n",
       "      <th>Horainy</th>\n",
       "      <th>Operador</th>\n",
       "    </tr>\n",
       "  </thead>\n",
       "  <tbody>\n",
       "    <tr>\n",
       "      <th>0</th>\n",
       "      <td>F</td>\n",
       "      <td>90</td>\n",
       "      <td>7:38</td>\n",
       "      <td>13.5</td>\n",
       "      <td>8:00</td>\n",
       "      <td>16.7</td>\n",
       "      <td>7:21</td>\n",
       "      <td>1.5</td>\n",
       "      <td>10.87</td>\n",
       "      <td>8:20</td>\n",
       "      <td>Andrea</td>\n",
       "    </tr>\n",
       "    <tr>\n",
       "      <th>1</th>\n",
       "      <td>M</td>\n",
       "      <td>74</td>\n",
       "      <td>7:38</td>\n",
       "      <td>11.1</td>\n",
       "      <td>8:30</td>\n",
       "      <td>17.5</td>\n",
       "      <td>7:30</td>\n",
       "      <td>2.6</td>\n",
       "      <td>10.11</td>\n",
       "      <td>8:50</td>\n",
       "      <td>Andrea</td>\n",
       "    </tr>\n",
       "    <tr>\n",
       "      <th>2</th>\n",
       "      <td>M</td>\n",
       "      <td>55</td>\n",
       "      <td>9:00</td>\n",
       "      <td>8.3</td>\n",
       "      <td>9:00</td>\n",
       "      <td>13.8</td>\n",
       "      <td>7:38</td>\n",
       "      <td>2</td>\n",
       "      <td>7.24</td>\n",
       "      <td>11:08</td>\n",
       "      <td>Andrea</td>\n",
       "    </tr>\n",
       "    <tr>\n",
       "      <th>3</th>\n",
       "      <td>F</td>\n",
       "      <td>62</td>\n",
       "      <td>10:00</td>\n",
       "      <td>9.3</td>\n",
       "      <td>9:30</td>\n",
       "      <td>15.8</td>\n",
       "      <td>8:15</td>\n",
       "      <td>2</td>\n",
       "      <td>7.97</td>\n",
       "      <td>9:51</td>\n",
       "      <td>Andrea</td>\n",
       "    </tr>\n",
       "    <tr>\n",
       "      <th>4</th>\n",
       "      <td>F</td>\n",
       "      <td>60</td>\n",
       "      <td>10:00</td>\n",
       "      <td>9.0</td>\n",
       "      <td>10:30</td>\n",
       "      <td>21</td>\n",
       "      <td>8:26</td>\n",
       "      <td>2</td>\n",
       "      <td>6.54</td>\n",
       "      <td>10:39</td>\n",
       "      <td>Andrea</td>\n",
       "    </tr>\n",
       "  </tbody>\n",
       "</table>\n",
       "</div>"
      ],
      "text/plain": [
       "  Genero Peso Horarec  Actipres Horadm Actidosi Horadosi Voldosi Actiny  \\\n",
       "0      F   90    7:38      13.5   8:00     16.7     7:21     1.5  10.87   \n",
       "1      M   74    7:38      11.1   8:30     17.5     7:30     2.6  10.11   \n",
       "2      M   55    9:00       8.3   9:00     13.8     7:38       2   7.24   \n",
       "3      F   62   10:00       9.3   9:30     15.8     8:15       2   7.97   \n",
       "4      F   60   10:00       9.0  10:30       21     8:26       2   6.54   \n",
       "\n",
       "  Horainy Operador  \n",
       "0    8:20   Andrea  \n",
       "1    8:50   Andrea  \n",
       "2   11:08   Andrea  \n",
       "3    9:51   Andrea  \n",
       "4   10:39   Andrea  "
      ]
     },
     "execution_count": 80,
     "metadata": {},
     "output_type": "execute_result"
    }
   ],
   "source": [
    "#para ver los primeros datos\n",
    "data.head()\n",
    "#gadotafecha.head()"
   ]
  },
  {
   "cell_type": "code",
   "execution_count": 81,
   "metadata": {},
   "outputs": [
    {
     "data": {
      "text/html": [
       "<div>\n",
       "<table border=\"1\" class=\"dataframe\">\n",
       "  <thead>\n",
       "    <tr style=\"text-align: right;\">\n",
       "      <th></th>\n",
       "      <th>Actipres</th>\n",
       "    </tr>\n",
       "  </thead>\n",
       "  <tbody>\n",
       "    <tr>\n",
       "      <th>count</th>\n",
       "      <td>1190.000000</td>\n",
       "    </tr>\n",
       "    <tr>\n",
       "      <th>mean</th>\n",
       "      <td>9.627034</td>\n",
       "    </tr>\n",
       "    <tr>\n",
       "      <th>std</th>\n",
       "      <td>2.234443</td>\n",
       "    </tr>\n",
       "    <tr>\n",
       "      <th>min</th>\n",
       "      <td>2.400000</td>\n",
       "    </tr>\n",
       "    <tr>\n",
       "      <th>25%</th>\n",
       "      <td>8.300000</td>\n",
       "    </tr>\n",
       "    <tr>\n",
       "      <th>50%</th>\n",
       "      <td>9.600000</td>\n",
       "    </tr>\n",
       "    <tr>\n",
       "      <th>75%</th>\n",
       "      <td>11.100000</td>\n",
       "    </tr>\n",
       "    <tr>\n",
       "      <th>max</th>\n",
       "      <td>15.000000</td>\n",
       "    </tr>\n",
       "  </tbody>\n",
       "</table>\n",
       "</div>"
      ],
      "text/plain": [
       "          Actipres\n",
       "count  1190.000000\n",
       "mean      9.627034\n",
       "std       2.234443\n",
       "min       2.400000\n",
       "25%       8.300000\n",
       "50%       9.600000\n",
       "75%      11.100000\n",
       "max      15.000000"
      ]
     },
     "execution_count": 81,
     "metadata": {},
     "output_type": "execute_result"
    }
   ],
   "source": [
    "data.describe()"
   ]
  },
  {
   "cell_type": "code",
   "execution_count": 82,
   "metadata": {
    "collapsed": true
   },
   "outputs": [],
   "source": [
    "#######   INSERTAR FECHAS DE GALIOS\n",
    "\n",
    "#data['Fecha']=gadotafecha['Fecha']"
   ]
  },
  {
   "cell_type": "code",
   "execution_count": 83,
   "metadata": {
    "collapsed": true
   },
   "outputs": [],
   "source": [
    "### Half life PET radionuclides\n",
    "\n",
    "##############################\n",
    "########   F- 18  ###########\n",
    "### half life [min]\n",
    "HLF= 110\n",
    "### Lambda\n",
    "LambdaF= np.log(2)/HLF\n",
    "\n",
    "##############################\n",
    "########   Ga- 68  ###########\n",
    "### half life [min]\n",
    "HLGa= 67.83\n",
    "### Lambda\n",
    "LambdaGa= np.log(2)/HLGa"
   ]
  },
  {
   "cell_type": "code",
   "execution_count": 84,
   "metadata": {},
   "outputs": [
    {
     "data": {
      "text/plain": [
       "Genero       object\n",
       "Peso         object\n",
       "Horarec      object\n",
       "Actipres    float64\n",
       "Horadm       object\n",
       "Actidosi     object\n",
       "Horadosi     object\n",
       "Voldosi      object\n",
       "Actiny       object\n",
       "Horainy      object\n",
       "Operador     object\n",
       "dtype: object"
      ]
     },
     "execution_count": 84,
     "metadata": {},
     "output_type": "execute_result"
    }
   ],
   "source": [
    "data.dtypes\n",
    "#### Cuantos datos por radiofarmaco\n",
    "#data[\"Radiofarmaco\"].value_counts()"
   ]
  },
  {
   "cell_type": "code",
   "execution_count": 85,
   "metadata": {},
   "outputs": [
    {
     "data": {
      "text/plain": [
       "1190"
      ]
     },
     "execution_count": 85,
     "metadata": {},
     "output_type": "execute_result"
    }
   ],
   "source": [
    "len(data['Genero'])"
   ]
  },
  {
   "cell_type": "code",
   "execution_count": 86,
   "metadata": {
    "collapsed": true
   },
   "outputs": [],
   "source": [
    "#replace NP to NaN\n",
    "data.replace(\"NP\", np.nan, inplace = True)"
   ]
  },
  {
   "cell_type": "code",
   "execution_count": 87,
   "metadata": {
    "collapsed": true
   },
   "outputs": [],
   "source": [
    "data[[\"Actidosi\"]] = data[[\"Actidosi\"]].astype(\"float\")\n",
    "data[[\"Actiny\"]] = data[[\"Actiny\"]].astype(\"float\")"
   ]
  },
  {
   "cell_type": "code",
   "execution_count": 88,
   "metadata": {
    "collapsed": true
   },
   "outputs": [],
   "source": [
    "import seaborn as sns"
   ]
  },
  {
   "cell_type": "markdown",
   "metadata": {},
   "source": [
    "# Tiempos en la práctica PET "
   ]
  },
  {
   "cell_type": "markdown",
   "metadata": {},
   "source": [
    "## ELAPSED TIME "
   ]
  },
  {
   "cell_type": "code",
   "execution_count": 89,
   "metadata": {
    "scrolled": true
   },
   "outputs": [
    {
     "data": {
      "text/html": [
       "<div>\n",
       "<table border=\"1\" class=\"dataframe\">\n",
       "  <thead>\n",
       "    <tr style=\"text-align: right;\">\n",
       "      <th></th>\n",
       "      <th>Horadm</th>\n",
       "      <th>Horadosi</th>\n",
       "      <th>Horainy</th>\n",
       "    </tr>\n",
       "  </thead>\n",
       "  <tbody>\n",
       "    <tr>\n",
       "      <th>count</th>\n",
       "      <td>1189</td>\n",
       "      <td>1178</td>\n",
       "      <td>1163</td>\n",
       "    </tr>\n",
       "    <tr>\n",
       "      <th>unique</th>\n",
       "      <td>90</td>\n",
       "      <td>385</td>\n",
       "      <td>366</td>\n",
       "    </tr>\n",
       "    <tr>\n",
       "      <th>top</th>\n",
       "      <td>7:30</td>\n",
       "      <td>7:05</td>\n",
       "      <td>11:00</td>\n",
       "    </tr>\n",
       "    <tr>\n",
       "      <th>freq</th>\n",
       "      <td>75</td>\n",
       "      <td>14</td>\n",
       "      <td>28</td>\n",
       "    </tr>\n",
       "  </tbody>\n",
       "</table>\n",
       "</div>"
      ],
      "text/plain": [
       "       Horadm Horadosi Horainy\n",
       "count    1189     1178    1163\n",
       "unique     90      385     366\n",
       "top      7:30     7:05   11:00\n",
       "freq       75       14      28"
      ]
     },
     "execution_count": 89,
     "metadata": {},
     "output_type": "execute_result"
    }
   ],
   "source": [
    "#data[['Horadm','Horarec','Horadosi','Horainy']].describe()\n",
    "data[['Horadm','Horadosi','Horainy']].describe()"
   ]
  },
  {
   "cell_type": "markdown",
   "metadata": {
    "collapsed": true
   },
   "source": [
    "### Test de consistencia\n",
    "\n",
    "Revisión de la consistencia temporal de eventos en la práctica clínica de administración de radiofarmacos para toma de imagenes de apoyo diagnóstico PET/CT"
   ]
  },
  {
   "cell_type": "code",
   "execution_count": 90,
   "metadata": {
    "collapsed": true
   },
   "outputs": [],
   "source": [
    "### Test Consistencia\n",
    "## No es posible que la hora de inyección ocurra antes de la hora de recepción del bulto\n",
    "\n",
    "### Hora de recepción y Hora de inyección\n",
    "### FDG\n",
    "timeIR = data.filter(items=['Horainy', 'Horarec'])\n",
    "\n",
    "########################################\n",
    "##### METODO 1 Task Group 181  ########\n",
    "#######################################\n",
    "\n",
    "## No es posible que la hora de inyección ocurra antes de la hora de dosificación\n",
    "### Hora de dosificación y Hora de inyección \n",
    "timeID=data.filter(items=['Horainy', 'Horadosi','Actidosi','Actipres'])"
   ]
  },
  {
   "cell_type": "code",
   "execution_count": 91,
   "metadata": {
    "collapsed": true
   },
   "outputs": [],
   "source": [
    "#Limpieza de datos con NaN en casilla para test de consistencia\n",
    "\n",
    "###### Inyección recepción\n",
    "timeIR.dropna(subset=[\"Horainy\",\"Horarec\"],axis=0,inplace=True)\n",
    "\n",
    "###### Inyección-Dosificación\n",
    "timeID.dropna(subset=[\"Horainy\",\"Horadosi\",\"Actidosi\",\"Actipres\"], axis=0, inplace=True)\n",
    "\n",
    "# reset index, because we droped rows\n",
    "timeIR.reset_index(drop=True,inplace=True)\n",
    "timeID.reset_index(drop=True, inplace=True)"
   ]
  },
  {
   "cell_type": "code",
   "execution_count": 92,
   "metadata": {},
   "outputs": [
    {
     "data": {
      "text/html": [
       "<div>\n",
       "<table border=\"1\" class=\"dataframe\">\n",
       "  <thead>\n",
       "    <tr style=\"text-align: right;\">\n",
       "      <th></th>\n",
       "      <th>Actidosi</th>\n",
       "      <th>Actipres</th>\n",
       "    </tr>\n",
       "  </thead>\n",
       "  <tbody>\n",
       "    <tr>\n",
       "      <th>count</th>\n",
       "      <td>1151.000000</td>\n",
       "      <td>1151.000000</td>\n",
       "    </tr>\n",
       "    <tr>\n",
       "      <th>mean</th>\n",
       "      <td>24.015456</td>\n",
       "      <td>9.604796</td>\n",
       "    </tr>\n",
       "    <tr>\n",
       "      <th>std</th>\n",
       "      <td>13.964406</td>\n",
       "      <td>2.239820</td>\n",
       "    </tr>\n",
       "    <tr>\n",
       "      <th>min</th>\n",
       "      <td>1.400000</td>\n",
       "      <td>2.400000</td>\n",
       "    </tr>\n",
       "    <tr>\n",
       "      <th>25%</th>\n",
       "      <td>14.250000</td>\n",
       "      <td>8.300000</td>\n",
       "    </tr>\n",
       "    <tr>\n",
       "      <th>50%</th>\n",
       "      <td>20.200000</td>\n",
       "      <td>9.600000</td>\n",
       "    </tr>\n",
       "    <tr>\n",
       "      <th>75%</th>\n",
       "      <td>30.800000</td>\n",
       "      <td>11.100000</td>\n",
       "    </tr>\n",
       "    <tr>\n",
       "      <th>max</th>\n",
       "      <td>99.100000</td>\n",
       "      <td>15.000000</td>\n",
       "    </tr>\n",
       "  </tbody>\n",
       "</table>\n",
       "</div>"
      ],
      "text/plain": [
       "          Actidosi     Actipres\n",
       "count  1151.000000  1151.000000\n",
       "mean     24.015456     9.604796\n",
       "std      13.964406     2.239820\n",
       "min       1.400000     2.400000\n",
       "25%      14.250000     8.300000\n",
       "50%      20.200000     9.600000\n",
       "75%      30.800000    11.100000\n",
       "max      99.100000    15.000000"
      ]
     },
     "execution_count": 92,
     "metadata": {},
     "output_type": "execute_result"
    }
   ],
   "source": [
    "#timeIR.describe()\n",
    "timeID.describe()"
   ]
  },
  {
   "cell_type": "code",
   "execution_count": 93,
   "metadata": {
    "collapsed": true
   },
   "outputs": [],
   "source": [
    "##### HORAS EN FORMATO DE 24 H \n",
    "##### MINUTOS EN FORMATO DE 60 \n",
    "\n",
    "###### Hora de recepción consistencia\n",
    "recc = pd.to_datetime(timeIR[\"Horarec\"],format='%H:%M')\n",
    "###### Hora de inyección cosistencia \n",
    "inyc = pd.to_datetime(timeIR[\"Horainy\"],format='%H:%M')\n",
    "\n",
    "##### Hora de inyección-test ########\n",
    "inyt = pd.to_datetime(timeID[\"Horainy\"],format='%H:%M')\n",
    "\n",
    "##### Hora de dosificación-test ########\n",
    "dosit = pd.to_datetime(timeID[\"Horadosi\"],format='%H:%M')"
   ]
  },
  {
   "cell_type": "code",
   "execution_count": 94,
   "metadata": {
    "collapsed": true
   },
   "outputs": [],
   "source": [
    "#### Elapsed time\n",
    "## Si el tiempo es negativo -> Se realizo la recepción y dosificación despues de inyectar\n",
    "## Lo cual no tiene sentido\n",
    "\n",
    "#### Tiempo transcurrido entre la hora de inyección y la hora de recepción \n",
    "IR=inyc-recc\n",
    "\n",
    "#### Tiempo transcurrido entre la hora de inyección y la hora de dosificación\n",
    "ID=inyt-dosit"
   ]
  },
  {
   "cell_type": "code",
   "execution_count": 95,
   "metadata": {
    "collapsed": true
   },
   "outputs": [],
   "source": [
    "####### Tiempo inyección y recepción \n",
    "listaIR=IR.dt.days<0        \n",
    "tiempoirecc=IR.dt.seconds\n",
    "for i in range(len(listaIR)):   \n",
    "    if listaIR[i]:\n",
    "        IR[i]=abs(inyc[i]-recc[i])\n",
    "        \n",
    "tiempoirecc=IR.dt.seconds/60     \n",
    "        \n",
    "for i in range(len(listaIR)):   \n",
    "    if listaIR[i]:\n",
    "        tiempoirecc[i]= tiempoirecc[i]*(-1) \n",
    "\n",
    "\n",
    "####### Tiempo inyección y dosificación  \n",
    "listaID=ID.dt.days<0        \n",
    "tiempoidosi=ID.dt.seconds\n",
    "for i in range(len(listaID)):   \n",
    "    if listaID[i]:\n",
    "        ID[i]=abs(inyt[i]-dosit[i])\n",
    "        \n",
    "tiempoidosi=ID.dt.seconds/60     \n",
    "        \n",
    "for i in range(len(listaID)):   \n",
    "    if listaID[i]:\n",
    "        tiempoidosi[i]= tiempoidosi[i]*(-1) "
   ]
  },
  {
   "cell_type": "code",
   "execution_count": 96,
   "metadata": {},
   "outputs": [
    {
     "data": {
      "text/plain": [
       "count    1151.000000\n",
       "mean      128.124240\n",
       "std        89.475035\n",
       "min      -288.000000\n",
       "25%        68.000000\n",
       "50%       123.000000\n",
       "75%       186.500000\n",
       "max       444.000000\n",
       "dtype: float64"
      ]
     },
     "execution_count": 96,
     "metadata": {},
     "output_type": "execute_result"
    }
   ],
   "source": [
    "#tiempoirecc.describe()\n",
    "tiempoidosi.describe()"
   ]
  },
  {
   "cell_type": "code",
   "execution_count": 97,
   "metadata": {},
   "outputs": [
    {
     "name": "stderr",
     "output_type": "stream",
     "text": [
      "/Users/Mila/anaconda/lib/python3.5/site-packages/matplotlib/axes/_axes.py:6462: UserWarning: The 'normed' kwarg is deprecated, and has been replaced by the 'density' kwarg.\n",
      "  warnings.warn(\"The 'normed' kwarg is deprecated, and has been \"\n"
     ]
    },
    {
     "data": {
      "text/plain": [
       "Text(0.5,1,'FDG')"
      ]
     },
     "execution_count": 97,
     "metadata": {},
     "output_type": "execute_result"
    },
    {
     "data": {
      "image/png": "[encoded data removed]",
      "text/plain": [
       "<Figure size 432x288 with 1 Axes>"
      ]
     },
     "metadata": {},
     "output_type": "display_data"
    }
   ],
   "source": [
    "sns.distplot(tiempoidosi,bins=10,kde=False,label='Actividad Inyectada',hist_kws={\"histtype\": \"step\", \"linewidth\": 3,\n",
    "\"alpha\": 0.75, \"color\": \"b\"})\n",
    "#sns.distplot(tiempointer,norm_hist=True,kde=False,label='Actividad Inyectada',hist_kws={\"histtype\": \"step\", \"linewidth\": 3,\n",
    "#\"alpha\": 1, \"color\": \"b\"})\n",
    "plt.ylabel('Número de pacientes',fontsize=14)\n",
    "#plt.ylabel('Proporción de pacientes',fontsize=14)\n",
    "plt.xlabel('Tiempo inyección-Tiempo dosificación [min]',fontsize=14)\n",
    "plt.title('FDG')\n",
    "#plt.savefig('fdgpresdosi.pdf',bbox_inches = \"tight\")"
   ]
  },
  {
   "cell_type": "code",
   "execution_count": 98,
   "metadata": {
    "collapsed": true
   },
   "outputs": [],
   "source": [
    "timeIR['tiempoirecc']=tiempoirecc\n",
    "timeID['tiempoidosi']=tiempoidosi"
   ]
  },
  {
   "cell_type": "code",
   "execution_count": 99,
   "metadata": {},
   "outputs": [
    {
     "data": {
      "text/plain": [
       "1128"
      ]
     },
     "execution_count": 99,
     "metadata": {},
     "output_type": "execute_result"
    }
   ],
   "source": [
    "#len(timeIR[(timeIR['tiempoirecc'])<0])\n",
    "len(timeID[(timeID['tiempoidosi'])>0])"
   ]
  },
  {
   "cell_type": "code",
   "execution_count": 100,
   "metadata": {
    "collapsed": true
   },
   "outputs": [],
   "source": [
    "#### Para ver datos sospechosos\n",
    "#timeID[(timeID['tiempoidosi'])<0]"
   ]
  },
  {
   "cell_type": "code",
   "execution_count": 101,
   "metadata": {
    "collapsed": true
   },
   "outputs": [],
   "source": [
    "#Localización y conversión a Not a Number NaN\n",
    "timeID.loc[(timeID['tiempoidosi'])<0]= np.nan\n",
    "\n",
    "# simply drop whole row with NaN in \"timeID\" column\n",
    "timeID.dropna(subset=[\"tiempoidosi\"], axis=0, inplace=True)"
   ]
  },
  {
   "cell_type": "code",
   "execution_count": 102,
   "metadata": {
    "collapsed": true
   },
   "outputs": [],
   "source": [
    "## Decay Factor Correction\n",
    "DF=np.exp(-LambdaF*timeID['tiempoidosi'])"
   ]
  },
  {
   "cell_type": "code",
   "execution_count": 103,
   "metadata": {
    "collapsed": true
   },
   "outputs": [],
   "source": [
    "#### Correcion actividad dosificada a hora de inyeccion \n",
    "timeID['CActdosiny']=timeID['Actidosi']*DF"
   ]
  },
  {
   "cell_type": "code",
   "execution_count": 104,
   "metadata": {},
   "outputs": [
    {
     "data": {
      "text/plain": [
       "Horainy         object\n",
       "Horadosi        object\n",
       "Actidosi       float64\n",
       "Actipres       float64\n",
       "tiempoidosi    float64\n",
       "CActdosiny     float64\n",
       "dtype: object"
      ]
     },
     "execution_count": 104,
     "metadata": {},
     "output_type": "execute_result"
    }
   ],
   "source": [
    "timeID.dtypes"
   ]
  },
  {
   "cell_type": "code",
   "execution_count": 105,
   "metadata": {
    "collapsed": true
   },
   "outputs": [],
   "source": [
    "timeID[\"desviasigno\"]=((timeID[\"CActdosiny\"]-timeID[\"Actipres\"])*100)/timeID[\"Actipres\"]"
   ]
  },
  {
   "cell_type": "code",
   "execution_count": 106,
   "metadata": {},
   "outputs": [
    {
     "data": {
      "text/plain": [
       "count    1128.000000\n",
       "mean       -2.708751\n",
       "std        16.543726\n",
       "min       -95.171097\n",
       "25%        -9.157051\n",
       "50%        -0.793556\n",
       "75%         6.017100\n",
       "max        60.563013\n",
       "Name: desviasigno, dtype: float64"
      ]
     },
     "execution_count": 106,
     "metadata": {},
     "output_type": "execute_result"
    }
   ],
   "source": [
    "timeID[\"desviasigno\"].describe()"
   ]
  },
  {
   "cell_type": "code",
   "execution_count": 107,
   "metadata": {},
   "outputs": [
    {
     "name": "stderr",
     "output_type": "stream",
     "text": [
      "/Users/Mila/anaconda/lib/python3.5/site-packages/matplotlib/axes/_axes.py:6462: UserWarning: The 'normed' kwarg is deprecated, and has been replaced by the 'density' kwarg.\n",
      "  warnings.warn(\"The 'normed' kwarg is deprecated, and has been \"\n"
     ]
    },
    {
     "data": {
      "text/plain": [
       "Text(0,0.5,'Proporción de Pacientes')"
      ]
     },
     "execution_count": 107,
     "metadata": {},
     "output_type": "execute_result"
    },
    {
     "data": {
      "image/png": "[encoded data removed]",
      "text/plain": [
       "<Figure size 432x288 with 1 Axes>"
      ]
     },
     "metadata": {},
     "output_type": "display_data"
    }
   ],
   "source": [
    "sns.distplot(timeID['desviasigno'],norm_hist=True,kde=False,color='g',label='Actividad Inyectada')\n",
    "plt.plot((10, 10),(0,0.025), '--r', linewidth=1) \n",
    "plt.plot((-10, -10),(0,0.025), '--r', linewidth=1) \n",
    "plt.xlabel('Error relativo $\\%$')\n",
    "plt.ylabel('Proporción de Pacientes')\n",
    "#plt.savefig('errorrelgadota.pdf',bbox_inches = \"tight\")"
   ]
  },
  {
   "cell_type": "markdown",
   "metadata": {},
   "source": [
    "## Primer metodo: Tiempo de prescripcion respecto a tiempo de inyeccion"
   ]
  },
  {
   "cell_type": "code",
   "execution_count": 108,
   "metadata": {
    "collapsed": true
   },
   "outputs": [],
   "source": [
    "### Hora de Prescripción y Hora de recepción\n",
    "timePR = data.filter(items=['Horadm', 'Horarec'])\n",
    "### Hora de Prescripción y Hora de inyección\n",
    "timePI=data.filter(items=['Horadm', 'Horainy','Actipres'])\n",
    "### Hora de Prescripción y Hora de dosificación\n",
    "timePD=data.filter(items=['Horadm', 'Horadosi'])"
   ]
  },
  {
   "cell_type": "code",
   "execution_count": 109,
   "metadata": {
    "collapsed": true
   },
   "outputs": [],
   "source": [
    "### Prescripción y Recepción\n",
    "timePR.dropna(subset=[\"Horadm\",\"Horarec\"], axis=0, inplace=True)\n",
    "### Prescripción e Inyección\n",
    "timePI.dropna(subset=[\"Horadm\",\"Horainy\",\"Actipres\"], axis=0, inplace=True)\n",
    "### Prescripción y Dosificación\n",
    "timePD.dropna(subset=[\"Horadm\",\"Horadosi\"], axis=0, inplace=True)\n",
    "\n",
    "# reset index, because we droped rows\n",
    "timePR.reset_index(drop=True, inplace=True)\n",
    "timePI.reset_index(drop=True, inplace=True)\n",
    "timePD.reset_index(drop=True, inplace=True)"
   ]
  },
  {
   "cell_type": "code",
   "execution_count": 110,
   "metadata": {
    "collapsed": true
   },
   "outputs": [],
   "source": [
    "#timePR.describe()\n",
    "#timePI.describe()\n",
    "#timePD.describe()\n",
    "#timeID\n"
   ]
  },
  {
   "cell_type": "code",
   "execution_count": 111,
   "metadata": {
    "collapsed": true
   },
   "outputs": [],
   "source": [
    "##### HORAS EN FORMATO DE 24 H \n",
    "##### MINUTOS EN FORMATO DE 60 \n",
    "\n",
    "#############################################################\n",
    "##### Hora para la que esta \"calibrada la actividad\" ########\n",
    "presPR = pd.to_datetime(timePR[\"Horadm\"],format='%H:%M')\n",
    "presI = pd.to_datetime(timePI[\"Horadm\"],format='%H:%M')\n",
    "presD = pd.to_datetime(timePD[\"Horadm\"],format='%H:%M')\n",
    "\n",
    "############################################################\n",
    "##### Hora de recepción del bulto en MN ########\n",
    "rec = pd.to_datetime(timePR[\"Horarec\"],format='%H:%M')\n",
    "\n",
    "\n",
    "############################################################\n",
    "##### Hora de inyección ########\n",
    "iny = pd.to_datetime(timePI[\"Horainy\"],format='%H:%M')\n",
    "\n",
    "############################################################\n",
    "##### Hora de dosificación ########\n",
    "dosi = pd.to_datetime(timePD[\"Horadosi\"],format='%H:%M')"
   ]
  },
  {
   "cell_type": "code",
   "execution_count": 112,
   "metadata": {
    "collapsed": true
   },
   "outputs": [],
   "source": [
    "#### Elapsed time\n",
    "\n",
    "#### Tiempo transcurrido entre la hora prescrita y la hora de recepción \n",
    "PR=presPR-rec\n",
    "\n",
    "#### Tiempo transcurrido entre la hora prescrita y la hora de inyección \n",
    "PI=presI-iny\n",
    "\n",
    "#### Tiempo transcurrido entre la hora prescrita y la hora de dosificación\n",
    "PD=presD-dosi\n",
    "\n",
    "#subgroup=pd.DataFrame(data=timePR)\n",
    "#headers = [\"timePR\"]\n",
    "#subgroup.columns = headers\n",
    "#subgroup\n",
    "\n",
    "## Si el tiempo es negativo -> Recepción tarde! -> Asignar variable Categorica"
   ]
  },
  {
   "cell_type": "code",
   "execution_count": 113,
   "metadata": {
    "collapsed": true
   },
   "outputs": [],
   "source": [
    "#PI\n",
    "#PR\n",
    "#PD"
   ]
  },
  {
   "cell_type": "code",
   "execution_count": 114,
   "metadata": {
    "collapsed": true
   },
   "outputs": [],
   "source": [
    "####### Tiempo prescripción y recepción\n",
    "listaPR=PR.dt.days<0\n",
    "tiempointer=PR.dt.seconds\n",
    "\n",
    "for i in range(len(listaPR)):   \n",
    "    if listaPR[i]:\n",
    "        PR[i]=abs(presPR[i]-rec[i])\n",
    "\n",
    "tiempointer=PR.dt.seconds/60     \n",
    "        \n",
    "for i in range(len(listaPR)):   \n",
    "    if listaPR[i]:\n",
    "        tiempointer[i]= tiempointer[i]*(-1) \n",
    "        \n",
    "####### Tiempo prescripción e inyección       \n",
    "listaPI=PI.dt.days<0        \n",
    "tiempopiny=PI.dt.seconds\n",
    "for i in range(len(listaPI)):   \n",
    "    if listaPI[i]:\n",
    "        PI[i]=abs(presI[i]-iny[i])\n",
    "        \n",
    "tiempopiny=PI.dt.seconds/60     \n",
    "        \n",
    "for i in range(len(listaPI)):   \n",
    "    if listaPI[i]:\n",
    "        tiempopiny[i]= tiempopiny[i]*(-1) \n",
    "        \n",
    "####### Tiempo prescripción y dosificación       \n",
    "listaPD=PD.dt.days<0        \n",
    "tiempopdosi=PD.dt.seconds\n",
    "for i in range(len(listaPD)):   \n",
    "    if listaPD[i]:\n",
    "        PD[i]=abs(presD[i]-dosi[i])\n",
    "        \n",
    "tiempopdosi=PD.dt.seconds/60     \n",
    "        \n",
    "for i in range(len(listaPD)):   \n",
    "    if listaPD[i]:\n",
    "        tiempopdosi[i]= tiempopdosi[i]*(-1)        "
   ]
  },
  {
   "cell_type": "code",
   "execution_count": 115,
   "metadata": {
    "collapsed": true
   },
   "outputs": [],
   "source": [
    "#tiempopdosi\n",
    "#tiempointer\n",
    "#tiempopiny"
   ]
  },
  {
   "cell_type": "code",
   "execution_count": 116,
   "metadata": {},
   "outputs": [
    {
     "data": {
      "text/plain": [
       "count    1162.000000\n",
       "mean      -13.951807\n",
       "std        25.501369\n",
       "min      -353.000000\n",
       "25%       -20.000000\n",
       "50%        -9.000000\n",
       "75%         0.000000\n",
       "max        52.000000\n",
       "dtype: float64"
      ]
     },
     "execution_count": 116,
     "metadata": {},
     "output_type": "execute_result"
    }
   ],
   "source": []
  },
  {
   "cell_type": "code",
   "execution_count": 117,
   "metadata": {},
   "outputs": [
    {
     "name": "stderr",
     "output_type": "stream",
     "text": [
      "/Users/Mila/anaconda/lib/python3.5/site-packages/matplotlib/axes/_axes.py:6462: UserWarning: The 'normed' kwarg is deprecated, and has been replaced by the 'density' kwarg.\n",
      "  warnings.warn(\"The 'normed' kwarg is deprecated, and has been \"\n"
     ]
    },
    {
     "data": {
      "text/plain": [
       "Text(0.5,1,'FDG')"
      ]
     },
     "execution_count": 117,
     "metadata": {},
     "output_type": "execute_result"
    },
    {
     "data": {
      "image/png": "[encoded data removed]",
      "text/plain": [
       "<Figure size 432x288 with 1 Axes>"
      ]
     },
     "metadata": {},
     "output_type": "display_data"
    }
   ],
   "source": [
    "sns.distplot(tiempopiny,norm_hist=True,kde=False,label='Actividad Inyectada',hist_kws={\"histtype\": \"step\", \"linewidth\": 3,\n",
    "\"alpha\": 1, \"color\": \"r\"})\n",
    "#sns.distplot(tiempointer,norm_hist=True,kde=False,label='Actividad Inyectada',hist_kws={\"histtype\": \"step\", \"linewidth\": 3,\n",
    "#\"alpha\": 1, \"color\": \"b\"})\n",
    "plt.ylabel('Proporción de pacientes',fontsize=14)\n",
    "plt.xlabel('Tiempo prescripción-Tiempo inyección [min]',fontsize=14)\n",
    "plt.title('FDG')\n",
    "#plt.savefig('fdgpresdosi.pdf',bbox_inches = \"tight\")"
   ]
  },
  {
   "cell_type": "code",
   "execution_count": 118,
   "metadata": {},
   "outputs": [
    {
     "data": {
      "text/plain": [
       "count    1162.000000\n",
       "mean      -13.951807\n",
       "std        25.501369\n",
       "min      -353.000000\n",
       "25%       -20.000000\n",
       "50%        -9.000000\n",
       "75%         0.000000\n",
       "max        52.000000\n",
       "dtype: float64"
      ]
     },
     "execution_count": 118,
     "metadata": {},
     "output_type": "execute_result"
    }
   ],
   "source": [
    "#tiempointer.describe()\n",
    "tiempopiny.describe()\n",
    "#tiempopdosi.describe()"
   ]
  },
  {
   "cell_type": "code",
   "execution_count": 119,
   "metadata": {
    "collapsed": true
   },
   "outputs": [],
   "source": [
    "timePI['tiempopiny']=tiempopiny"
   ]
  },
  {
   "cell_type": "code",
   "execution_count": 120,
   "metadata": {
    "collapsed": true
   },
   "outputs": [],
   "source": [
    "## Decay Factor Correction\n",
    "DFPI=np.exp(-LambdaF*timePI['tiempopiny'])"
   ]
  },
  {
   "cell_type": "code",
   "execution_count": 121,
   "metadata": {
    "collapsed": true
   },
   "outputs": [],
   "source": [
    "#### Correcion actividad dosificada a hora de inyeccion \n",
    "timePI['CActpres']=timePI['Actipres']*DFPI"
   ]
  },
  {
   "cell_type": "code",
   "execution_count": 122,
   "metadata": {},
   "outputs": [
    {
     "data": {
      "text/plain": [
       "Horadm         object\n",
       "Horainy        object\n",
       "Actipres      float64\n",
       "tiempopiny    float64\n",
       "CActpres      float64\n",
       "dtype: object"
      ]
     },
     "execution_count": 122,
     "metadata": {},
     "output_type": "execute_result"
    }
   ],
   "source": [
    "timePI.dtypes"
   ]
  },
  {
   "cell_type": "code",
   "execution_count": 123,
   "metadata": {
    "collapsed": true
   },
   "outputs": [],
   "source": [
    "timePI[\"desviasigno\"]=((timePI[\"CActpres\"]-timePI[\"Actipres\"])*100)/timePI[\"Actipres\"]"
   ]
  },
  {
   "cell_type": "code",
   "execution_count": 124,
   "metadata": {},
   "outputs": [
    {
     "data": {
      "text/plain": [
       "count    1162.000000\n",
       "mean       11.052704\n",
       "std        31.259451\n",
       "min       -27.939892\n",
       "25%         0.000000\n",
       "50%         5.835101\n",
       "75%        13.431252\n",
       "max       824.767636\n",
       "Name: desviasigno, dtype: float64"
      ]
     },
     "execution_count": 124,
     "metadata": {},
     "output_type": "execute_result"
    }
   ],
   "source": [
    "timePI[\"desviasigno\"].describe()"
   ]
  },
  {
   "cell_type": "code",
   "execution_count": 126,
   "metadata": {},
   "outputs": [
    {
     "name": "stderr",
     "output_type": "stream",
     "text": [
      "/Users/Mila/anaconda/lib/python3.5/site-packages/matplotlib/axes/_axes.py:6462: UserWarning: The 'normed' kwarg is deprecated, and has been replaced by the 'density' kwarg.\n",
      "  warnings.warn(\"The 'normed' kwarg is deprecated, and has been \"\n"
     ]
    },
    {
     "data": {
      "text/plain": [
       "Text(0,0.5,'Proporción de Pacientes')"
      ]
     },
     "execution_count": 126,
     "metadata": {},
     "output_type": "execute_result"
    },
    {
     "data": {
      "image/png": "[encoded data removed]",
      "text/plain": [
       "<Figure size 432x288 with 1 Axes>"
      ]
     },
     "metadata": {},
     "output_type": "display_data"
    }
   ],
   "source": [
    "sns.distplot(timePI['desviasigno'],norm_hist=True,kde=False,color='m',label='Actividad Inyectada')\n",
    "plt.plot((10, 10),(0,0.025), '--k', linewidth=1) \n",
    "plt.plot((-10, -10),(0,0.025), '--k', linewidth=1) \n",
    "plt.xlabel('Error relativo $\\%$')\n",
    "plt.ylabel('Proporción de Pacientes')\n",
    "#plt.savefig('errorrelgadota.pdf',bbox_inches = \"tight\")"
   ]
  },
  {
   "cell_type": "markdown",
   "metadata": {},
   "source": [
    "### Desviación de Actividad Inyectada"
   ]
  },
  {
   "cell_type": "code",
   "execution_count": 27,
   "metadata": {},
   "outputs": [
    {
     "data": {
      "text/plain": [
       "Genero       object\n",
       "Peso         object\n",
       "Actipres    float64\n",
       "Horadm       object\n",
       "Actidosi    float64\n",
       "Horadosi     object\n",
       "Voldosi      object\n",
       "Actiny      float64\n",
       "Horainy      object\n",
       "Fecha        object\n",
       "dtype: object"
      ]
     },
     "execution_count": 27,
     "metadata": {},
     "output_type": "execute_result"
    }
   ],
   "source": [
    "data[[\"Actiny\"]] = data[[\"Actiny\"]].astype(\"float\")\n",
    "data[[\"Actipres\"]] = data[[\"Actipres\"]].astype(\"float\")\n",
    "data[[\"Actidosi\"]] = data[[\"Actidosi\"]].astype(\"float\")\n",
    "#data[[\"Voldosi\"]] = data[[\"Voldosi\"]].astype(\"float\")\n",
    "data.dtypes"
   ]
  },
  {
   "cell_type": "code",
   "execution_count": 28,
   "metadata": {
    "collapsed": true
   },
   "outputs": [],
   "source": [
    "data[\"desviasigno\"]=((data[\"Actiny\"]-data[\"Actipres\"])*100)/data[\"Actipres\"]"
   ]
  },
  {
   "cell_type": "code",
   "execution_count": 29,
   "metadata": {
    "collapsed": true
   },
   "outputs": [],
   "source": [
    "### Error relativo porcentual entre Actividad prescrita y actividad inyectada \n",
    "data[\"desvia\"]=np.absolute(((data[\"Actiny\"]-data[\"Actipres\"])*100)/data[\"Actipres\"])"
   ]
  },
  {
   "cell_type": "code",
   "execution_count": 30,
   "metadata": {},
   "outputs": [
    {
     "data": {
      "text/plain": [
       "count    148.000000\n",
       "mean      -3.176383\n",
       "std       27.017272\n",
       "min      -56.410256\n",
       "25%      -19.852941\n",
       "50%       -2.086957\n",
       "75%       13.095109\n",
       "max       89.000000\n",
       "Name: desviasigno, dtype: float64"
      ]
     },
     "execution_count": 30,
     "metadata": {},
     "output_type": "execute_result"
    }
   ],
   "source": [
    "data[\"desviasigno\"].describe()"
   ]
  },
  {
   "cell_type": "code",
   "execution_count": 31,
   "metadata": {},
   "outputs": [
    {
     "data": {
      "text/plain": [
       "55"
      ]
     },
     "execution_count": 31,
     "metadata": {},
     "output_type": "execute_result"
    }
   ],
   "source": [
    "len(data[(data['desviasigno'])<=-10.0])"
   ]
  },
  {
   "cell_type": "code",
   "execution_count": 32,
   "metadata": {},
   "outputs": [
    {
     "data": {
      "text/plain": [
       "93"
      ]
     },
     "execution_count": 32,
     "metadata": {},
     "output_type": "execute_result"
    }
   ],
   "source": [
    "len(data[(np.absolute(data['desviasigno'])<=20.0)])"
   ]
  },
  {
   "cell_type": "code",
   "execution_count": 33,
   "metadata": {},
   "outputs": [
    {
     "data": {
      "text/plain": [
       "27.017271921770966"
      ]
     },
     "execution_count": 33,
     "metadata": {},
     "output_type": "execute_result"
    }
   ],
   "source": [
    "data['desviasigno'].std()"
   ]
  },
  {
   "cell_type": "code",
   "execution_count": 36,
   "metadata": {
    "collapsed": true
   },
   "outputs": [],
   "source": [
    "data.dropna(subset=[\"Actiny\"], axis=0, inplace=True)\n",
    "data.dropna(subset=[\"Actipres\"], axis=0, inplace=True)\n",
    "data.dropna(subset=[\"Fecha\"], axis=0, inplace=True)\n",
    "# reset index, because we droped rows\n",
    "data.reset_index(drop=True, inplace=True)"
   ]
  },
  {
   "cell_type": "code",
   "execution_count": 37,
   "metadata": {},
   "outputs": [
    {
     "data": {
      "text/html": [
       "<div>\n",
       "<table border=\"1\" class=\"dataframe\">\n",
       "  <thead>\n",
       "    <tr style=\"text-align: right;\">\n",
       "      <th></th>\n",
       "      <th>Actipres</th>\n",
       "      <th>Actidosi</th>\n",
       "      <th>Actiny</th>\n",
       "      <th>desviasigno</th>\n",
       "      <th>desvia</th>\n",
       "    </tr>\n",
       "  </thead>\n",
       "  <tbody>\n",
       "    <tr>\n",
       "      <th>count</th>\n",
       "      <td>148.000000</td>\n",
       "      <td>141.000000</td>\n",
       "      <td>148.000000</td>\n",
       "      <td>148.000000</td>\n",
       "      <td>148.000000</td>\n",
       "    </tr>\n",
       "    <tr>\n",
       "      <th>mean</th>\n",
       "      <td>4.225000</td>\n",
       "      <td>5.588014</td>\n",
       "      <td>3.980878</td>\n",
       "      <td>-3.176383</td>\n",
       "      <td>20.333089</td>\n",
       "    </tr>\n",
       "    <tr>\n",
       "      <th>std</th>\n",
       "      <td>0.922793</td>\n",
       "      <td>2.008737</td>\n",
       "      <td>1.070405</td>\n",
       "      <td>27.017272</td>\n",
       "      <td>17.995668</td>\n",
       "    </tr>\n",
       "    <tr>\n",
       "      <th>min</th>\n",
       "      <td>2.500000</td>\n",
       "      <td>2.600000</td>\n",
       "      <td>1.700000</td>\n",
       "      <td>-56.410256</td>\n",
       "      <td>0.000000</td>\n",
       "    </tr>\n",
       "    <tr>\n",
       "      <th>25%</th>\n",
       "      <td>3.300000</td>\n",
       "      <td>4.200000</td>\n",
       "      <td>3.145000</td>\n",
       "      <td>-19.852941</td>\n",
       "      <td>7.175532</td>\n",
       "    </tr>\n",
       "    <tr>\n",
       "      <th>50%</th>\n",
       "      <td>4.400000</td>\n",
       "      <td>5.300000</td>\n",
       "      <td>3.875000</td>\n",
       "      <td>-2.086957</td>\n",
       "      <td>15.270833</td>\n",
       "    </tr>\n",
       "    <tr>\n",
       "      <th>75%</th>\n",
       "      <td>4.900000</td>\n",
       "      <td>6.300000</td>\n",
       "      <td>4.740000</td>\n",
       "      <td>13.095109</td>\n",
       "      <td>28.701299</td>\n",
       "    </tr>\n",
       "    <tr>\n",
       "      <th>max</th>\n",
       "      <td>5.500000</td>\n",
       "      <td>12.200000</td>\n",
       "      <td>6.700000</td>\n",
       "      <td>89.000000</td>\n",
       "      <td>89.000000</td>\n",
       "    </tr>\n",
       "  </tbody>\n",
       "</table>\n",
       "</div>"
      ],
      "text/plain": [
       "         Actipres    Actidosi      Actiny  desviasigno      desvia\n",
       "count  148.000000  141.000000  148.000000   148.000000  148.000000\n",
       "mean     4.225000    5.588014    3.980878    -3.176383   20.333089\n",
       "std      0.922793    2.008737    1.070405    27.017272   17.995668\n",
       "min      2.500000    2.600000    1.700000   -56.410256    0.000000\n",
       "25%      3.300000    4.200000    3.145000   -19.852941    7.175532\n",
       "50%      4.400000    5.300000    3.875000    -2.086957   15.270833\n",
       "75%      4.900000    6.300000    4.740000    13.095109   28.701299\n",
       "max      5.500000   12.200000    6.700000    89.000000   89.000000"
      ]
     },
     "execution_count": 37,
     "metadata": {},
     "output_type": "execute_result"
    }
   ],
   "source": [
    "data.describe()"
   ]
  },
  {
   "cell_type": "code",
   "execution_count": 39,
   "metadata": {},
   "outputs": [
    {
     "name": "stderr",
     "output_type": "stream",
     "text": [
      "/Users/Mila/anaconda/lib/python3.5/site-packages/matplotlib/axes/_axes.py:6462: UserWarning: The 'normed' kwarg is deprecated, and has been replaced by the 'density' kwarg.\n",
      "  warnings.warn(\"The 'normed' kwarg is deprecated, and has been \"\n"
     ]
    },
    {
     "data": {
      "image/png": "[encoded data removed]",
      "text/plain": [
       "<Figure size 720x504 with 2 Axes>"
      ]
     },
     "metadata": {},
     "output_type": "display_data"
    }
   ],
   "source": [
    "### Plot the data\n",
    "plt.figure(figsize=(10,7))\n",
    "ax1=plt.subplot(1,1,1)\n",
    "sns.distplot(data['Actiny'],norm_hist=True,kde=False,ax=ax1,label='Actividad Inyectada',hist_kws={\"histtype\": \"step\", \"linewidth\": 3,\n",
    "\"alpha\": 1, \"color\": \"b\"})\n",
    "sns.distplot(data['Actipres'],norm_hist=True,kde=False,ax=ax1, label='Actividad Prescrita',hist_kws={\"histtype\": \"step\", \"linewidth\": 3,\n",
    "\"alpha\": 1, \"color\": \"g\"})\n",
    "\n",
    "################################ \n",
    "#########  FDG  ################\n",
    "#plt.plot((20, 20),(0,0.25), '--k', linewidth=1) \n",
    "#plt.plot((4, 4),(0,0.25), '--k', linewidth=1) \n",
    "#plt.plot((9.0, 9.0),(0,0.25), '--r', linewidth=2,label='DRL-Inyectada')\n",
    "\n",
    "\n",
    "################################ \n",
    "#########  GAPSMA  ################\n",
    "#plt.plot((20, 20),(0,0.25), '--k', linewidth=1) \n",
    "#plt.plot((4, 4),(0,0.25), '--k', linewidth=1) \n",
    "#plt.plot((4.46, 4.46),(0,0.6), '--r', linewidth=2,label='DRL-Inyectada')\n",
    "\n",
    "################################ \n",
    "#########  GADOTANOC  ################\n",
    "#plt.plot((20, 20),(0,0.25), '--k', linewidth=1) \n",
    "#plt.plot((4, 4),(0,0.25), '--k', linewidth=1) \n",
    "#plt.plot((3.88, 3.88),(0,0.4), '--r', linewidth=2,label='DRL-Inyectada')\n",
    "\n",
    "\n",
    "#ax1.set_title('$^{18}$F-FDG',fontsize=14)\n",
    "#ax1.set_title('$^{68}$Ga-PSMA',fontsize=14)\n",
    "#ax1.set_title('$^{68}$Ga-DOTA',fontsize=14)\n",
    "ax1.set_ylabel('Proporción de pacientes',fontsize=14)\n",
    "ax1.set_xlabel('Actividad [mCi]',fontsize=14)\n",
    "ax1.tick_params(axis='both',labelsize=14)\n",
    "ax1.legend(loc='upper right')\n",
    "sns.set_style('ticks')\n",
    "\n",
    "## Set second x-axis for MBq\n",
    "ax2 = ax1.twiny()\n",
    "MBqs = np.linspace(data['Actiny'].min(),data['Actiny'].max()*37,7) # Actividad en MBq\n",
    "ax2.set_xticks(MBqs/37) # Ponga los ticks\n",
    "ax2.set_xticklabels(MBqs.astype(int)) # Ponga los Labels\n",
    "ax2.xaxis.set_ticks_position('bottom') # set the position of the second x-axis to bottom\n",
    "ax2.xaxis.set_label_position('bottom') # set the position of the second x-axis to bottom\n",
    "ax2.spines['bottom'].set_position(('outward', 56))\n",
    "ax2.set_xlabel('Actividad [MBq]',fontsize=14)\n",
    "ax2.set_xlim(ax1.get_xlim())\n",
    "ax2.tick_params(labelsize=14)\n",
    "\n",
    "\n",
    "#plt.savefig('gadotadrl.pdf',bbox_inches = \"tight\")"
   ]
  },
  {
   "cell_type": "code",
   "execution_count": 40,
   "metadata": {},
   "outputs": [
    {
     "name": "stderr",
     "output_type": "stream",
     "text": [
      "/Users/Mila/anaconda/lib/python3.5/site-packages/matplotlib/axes/_axes.py:6462: UserWarning: The 'normed' kwarg is deprecated, and has been replaced by the 'density' kwarg.\n",
      "  warnings.warn(\"The 'normed' kwarg is deprecated, and has been \"\n"
     ]
    },
    {
     "data": {
      "text/plain": [
       "Text(0,0.5,'Proporción de Pacientes')"
      ]
     },
     "execution_count": 40,
     "metadata": {},
     "output_type": "execute_result"
    },
    {
     "data": {
      "image/png": "[encoded data removed]",
      "text/plain": [
       "<Figure size 432x288 with 1 Axes>"
      ]
     },
     "metadata": {},
     "output_type": "display_data"
    }
   ],
   "source": [
    "sns.distplot(data['desviasigno'],norm_hist=True,kde=False,color='c',label='Actividad Inyectada')\n",
    "plt.plot((10, 10),(0,0.025), '--r', linewidth=1) \n",
    "plt.plot((-10, -10),(0,0.025), '--r', linewidth=1) \n",
    "plt.xlabel('Error relativo $\\%$')\n",
    "plt.ylabel('Proporción de Pacientes')\n",
    "#plt.savefig('errorrelgadota.pdf',bbox_inches = \"tight\")"
   ]
  },
  {
   "cell_type": "code",
   "execution_count": 50,
   "metadata": {},
   "outputs": [
    {
     "ename": "ImportError",
     "evalue": "No module named 'plotly'",
     "output_type": "error",
     "traceback": [
      "\u001b[0;31m---------------------------------------------------------------------------\u001b[0m",
      "\u001b[0;31mImportError\u001b[0m                               Traceback (most recent call last)",
      "\u001b[0;32m<ipython-input-50-0b951e3e9b71>\u001b[0m in \u001b[0;36m<module>\u001b[0;34m()\u001b[0m\n\u001b[0;32m----> 1\u001b[0;31m \u001b[0;32mimport\u001b[0m \u001b[0mplotly\u001b[0m\u001b[0;34m.\u001b[0m\u001b[0mgraph_objects\u001b[0m \u001b[0;32mas\u001b[0m \u001b[0mgo\u001b[0m\u001b[0;34m\u001b[0m\u001b[0m\n\u001b[0m",
      "\u001b[0;31mImportError\u001b[0m: No module named 'plotly'"
     ]
    }
   ],
   "source": []
  },
  {
   "cell_type": "code",
   "execution_count": 51,
   "metadata": {},
   "outputs": [
    {
     "data": {
      "text/plain": [
       "[<matplotlib.lines.Line2D at 0x1a23f72a58>]"
      ]
     },
     "execution_count": 51,
     "metadata": {},
     "output_type": "execute_result"
    },
    {
     "data": {
      "image/png": "[encoded data removed]",
      "text/plain": [
       "<Figure size 432x288 with 1 Axes>"
      ]
     },
     "metadata": {},
     "output_type": "display_data"
    }
   ],
   "source": [
    "#h=pd.to_datetime(data[\"Fecha\"],format=\"%d/%m/%Y\")\n",
    "plt.plot(h,data['desviasigno'],'bo-')"
   ]
  },
  {
   "cell_type": "code",
   "execution_count": 44,
   "metadata": {},
   "outputs": [
    {
     "data": {
      "text/plain": [
       "0     2019-01-01\n",
       "1     2019-01-01\n",
       "2     2019-01-14\n",
       "3     2019-01-02\n",
       "4     2019-01-02\n",
       "5     2019-01-14\n",
       "6     2019-01-14\n",
       "7     2019-01-15\n",
       "8     2019-01-16\n",
       "9     2019-01-16\n",
       "10    2019-01-21\n",
       "11    2019-01-21\n",
       "12    2019-01-25\n",
       "13    2019-01-25\n",
       "14    2019-01-30\n",
       "15    2019-01-30\n",
       "16    2019-02-04\n",
       "17    2019-02-13\n",
       "18    2019-02-18\n",
       "19    2019-02-22\n",
       "20    2019-02-22\n",
       "21    2019-02-25\n",
       "22    2019-02-27\n",
       "23    2019-03-06\n",
       "24    2019-03-06\n",
       "25    2019-03-11\n",
       "26    2019-03-12\n",
       "27    2019-03-14\n",
       "28    2019-03-19\n",
       "29    2019-03-20\n",
       "         ...    \n",
       "118   2019-11-14\n",
       "119   2019-11-14\n",
       "120   2019-11-26\n",
       "121   2019-11-26\n",
       "122   2019-11-26\n",
       "123   2019-11-27\n",
       "124   2019-11-27\n",
       "125   2019-11-29\n",
       "126   2019-11-29\n",
       "127   2019-11-29\n",
       "128   2019-12-02\n",
       "129   2019-12-02\n",
       "130   2019-12-02\n",
       "131   2019-12-03\n",
       "132   2019-12-03\n",
       "133   2019-12-09\n",
       "134   2019-12-09\n",
       "135   2019-12-09\n",
       "136   2019-12-13\n",
       "137   2019-12-13\n",
       "138   2019-12-13\n",
       "139   2019-12-16\n",
       "140   2019-12-16\n",
       "141   2019-12-16\n",
       "142   2019-12-20\n",
       "143   2019-12-20\n",
       "144   2019-12-20\n",
       "145   2019-12-20\n",
       "146   2019-12-26\n",
       "147   2019-12-26\n",
       "Name: Fecha, dtype: datetime64[ns]"
      ]
     },
     "execution_count": 44,
     "metadata": {},
     "output_type": "execute_result"
    }
   ],
   "source": []
  },
  {
   "cell_type": "code",
   "execution_count": 54,
   "metadata": {
    "collapsed": true
   },
   "outputs": [],
   "source": [
    "# simply drop whole row with NaN in \"Vol\" column\n",
    "data.dropna(subset=[\"Voldosi\"], axis=0, inplace=True)\n",
    "\n",
    "# reset index, because we droped one row\n",
    "data.reset_index(drop=True, inplace=True)"
   ]
  },
  {
   "cell_type": "code",
   "execution_count": 55,
   "metadata": {
    "collapsed": true
   },
   "outputs": [],
   "source": []
  },
  {
   "cell_type": "code",
   "execution_count": 56,
   "metadata": {
    "collapsed": true
   },
   "outputs": [],
   "source": [
    "data[[\"Voldosi\"]] = data[[\"Voldosi\"]].astype(\"float\")"
   ]
  },
  {
   "cell_type": "code",
   "execution_count": 57,
   "metadata": {
    "collapsed": true
   },
   "outputs": [],
   "source": [
    "especifica=data[\"Actiny\"]/data[\"Voldosi\"]\n",
    "data['Espiny']= especifica"
   ]
  },
  {
   "cell_type": "code",
   "execution_count": 58,
   "metadata": {},
   "outputs": [
    {
     "data": {
      "text/html": [
       "<div>\n",
       "<table border=\"1\" class=\"dataframe\">\n",
       "  <thead>\n",
       "    <tr style=\"text-align: right;\">\n",
       "      <th></th>\n",
       "      <th>Actipres</th>\n",
       "      <th>Actidosi</th>\n",
       "      <th>Voldosi</th>\n",
       "      <th>Actiny</th>\n",
       "      <th>desviasigno</th>\n",
       "      <th>desvia</th>\n",
       "      <th>Espiny</th>\n",
       "    </tr>\n",
       "  </thead>\n",
       "  <tbody>\n",
       "    <tr>\n",
       "      <th>count</th>\n",
       "      <td>1172.000000</td>\n",
       "      <td>1172.000000</td>\n",
       "      <td>1172.000000</td>\n",
       "      <td>1172.000000</td>\n",
       "      <td>1172.000000</td>\n",
       "      <td>1172.000000</td>\n",
       "      <td>1172.000000</td>\n",
       "    </tr>\n",
       "    <tr>\n",
       "      <th>mean</th>\n",
       "      <td>9.612517</td>\n",
       "      <td>23.943217</td>\n",
       "      <td>1.805546</td>\n",
       "      <td>8.963976</td>\n",
       "      <td>-6.244628</td>\n",
       "      <td>9.972400</td>\n",
       "      <td>5.410944</td>\n",
       "    </tr>\n",
       "    <tr>\n",
       "      <th>std</th>\n",
       "      <td>2.239064</td>\n",
       "      <td>13.960397</td>\n",
       "      <td>0.584042</td>\n",
       "      <td>2.197402</td>\n",
       "      <td>11.842782</td>\n",
       "      <td>8.930089</td>\n",
       "      <td>2.172504</td>\n",
       "    </tr>\n",
       "    <tr>\n",
       "      <th>min</th>\n",
       "      <td>2.400000</td>\n",
       "      <td>1.400000</td>\n",
       "      <td>0.500000</td>\n",
       "      <td>2.020000</td>\n",
       "      <td>-51.041667</td>\n",
       "      <td>0.000000</td>\n",
       "      <td>0.545455</td>\n",
       "    </tr>\n",
       "    <tr>\n",
       "      <th>25%</th>\n",
       "      <td>8.300000</td>\n",
       "      <td>14.200000</td>\n",
       "      <td>1.500000</td>\n",
       "      <td>7.500000</td>\n",
       "      <td>-12.776511</td>\n",
       "      <td>3.333333</td>\n",
       "      <td>4.000000</td>\n",
       "    </tr>\n",
       "    <tr>\n",
       "      <th>50%</th>\n",
       "      <td>9.600000</td>\n",
       "      <td>20.150000</td>\n",
       "      <td>2.000000</td>\n",
       "      <td>8.975000</td>\n",
       "      <td>-6.006159</td>\n",
       "      <td>7.974359</td>\n",
       "      <td>5.000000</td>\n",
       "    </tr>\n",
       "    <tr>\n",
       "      <th>75%</th>\n",
       "      <td>11.100000</td>\n",
       "      <td>30.225000</td>\n",
       "      <td>2.000000</td>\n",
       "      <td>10.442500</td>\n",
       "      <td>0.000000</td>\n",
       "      <td>14.271429</td>\n",
       "      <td>6.400000</td>\n",
       "    </tr>\n",
       "    <tr>\n",
       "      <th>max</th>\n",
       "      <td>15.000000</td>\n",
       "      <td>99.100000</td>\n",
       "      <td>11.000000</td>\n",
       "      <td>19.300000</td>\n",
       "      <td>76.666667</td>\n",
       "      <td>76.666667</td>\n",
       "      <td>22.300000</td>\n",
       "    </tr>\n",
       "  </tbody>\n",
       "</table>\n",
       "</div>"
      ],
      "text/plain": [
       "          Actipres     Actidosi      Voldosi       Actiny  desviasigno  \\\n",
       "count  1172.000000  1172.000000  1172.000000  1172.000000  1172.000000   \n",
       "mean      9.612517    23.943217     1.805546     8.963976    -6.244628   \n",
       "std       2.239064    13.960397     0.584042     2.197402    11.842782   \n",
       "min       2.400000     1.400000     0.500000     2.020000   -51.041667   \n",
       "25%       8.300000    14.200000     1.500000     7.500000   -12.776511   \n",
       "50%       9.600000    20.150000     2.000000     8.975000    -6.006159   \n",
       "75%      11.100000    30.225000     2.000000    10.442500     0.000000   \n",
       "max      15.000000    99.100000    11.000000    19.300000    76.666667   \n",
       "\n",
       "            desvia       Espiny  \n",
       "count  1172.000000  1172.000000  \n",
       "mean      9.972400     5.410944  \n",
       "std       8.930089     2.172504  \n",
       "min       0.000000     0.545455  \n",
       "25%       3.333333     4.000000  \n",
       "50%       7.974359     5.000000  \n",
       "75%      14.271429     6.400000  \n",
       "max      76.666667    22.300000  "
      ]
     },
     "execution_count": 58,
     "metadata": {},
     "output_type": "execute_result"
    }
   ],
   "source": [
    "data.describe()"
   ]
  },
  {
   "cell_type": "code",
   "execution_count": null,
   "metadata": {
    "collapsed": true
   },
   "outputs": [],
   "source": []
  },
  {
   "cell_type": "code",
   "execution_count": 59,
   "metadata": {},
   "outputs": [
    {
     "name": "stderr",
     "output_type": "stream",
     "text": [
      "/Users/Mila/anaconda/lib/python3.5/site-packages/matplotlib/axes/_axes.py:6462: UserWarning: The 'normed' kwarg is deprecated, and has been replaced by the 'density' kwarg.\n",
      "  warnings.warn(\"The 'normed' kwarg is deprecated, and has been \"\n"
     ]
    },
    {
     "ename": "KeyError",
     "evalue": "'Esp'",
     "output_type": "error",
     "traceback": [
      "\u001b[0;31m---------------------------------------------------------------------------\u001b[0m",
      "\u001b[0;31mKeyError\u001b[0m                                  Traceback (most recent call last)",
      "\u001b[0;32m/Users/Mila/anaconda/lib/python3.5/site-packages/pandas/indexes/base.py\u001b[0m in \u001b[0;36mget_loc\u001b[0;34m(self, key, method, tolerance)\u001b[0m\n\u001b[1;32m   2133\u001b[0m             \u001b[0;32mtry\u001b[0m\u001b[0;34m:\u001b[0m\u001b[0;34m\u001b[0m\u001b[0m\n\u001b[0;32m-> 2134\u001b[0;31m                 \u001b[0;32mreturn\u001b[0m \u001b[0mself\u001b[0m\u001b[0;34m.\u001b[0m\u001b[0m_engine\u001b[0m\u001b[0;34m.\u001b[0m\u001b[0mget_loc\u001b[0m\u001b[0;34m(\u001b[0m\u001b[0mkey\u001b[0m\u001b[0;34m)\u001b[0m\u001b[0;34m\u001b[0m\u001b[0m\n\u001b[0m\u001b[1;32m   2135\u001b[0m             \u001b[0;32mexcept\u001b[0m \u001b[0mKeyError\u001b[0m\u001b[0;34m:\u001b[0m\u001b[0;34m\u001b[0m\u001b[0m\n",
      "\u001b[0;32mpandas/index.pyx\u001b[0m in \u001b[0;36mpandas.index.IndexEngine.get_loc (pandas/index.c:4433)\u001b[0;34m()\u001b[0m\n",
      "\u001b[0;32mpandas/index.pyx\u001b[0m in \u001b[0;36mpandas.index.IndexEngine.get_loc (pandas/index.c:4279)\u001b[0;34m()\u001b[0m\n",
      "\u001b[0;32mpandas/src/hashtable_class_helper.pxi\u001b[0m in \u001b[0;36mpandas.hashtable.PyObjectHashTable.get_item (pandas/hashtable.c:13742)\u001b[0;34m()\u001b[0m\n",
      "\u001b[0;32mpandas/src/hashtable_class_helper.pxi\u001b[0m in \u001b[0;36mpandas.hashtable.PyObjectHashTable.get_item (pandas/hashtable.c:13696)\u001b[0;34m()\u001b[0m\n",
      "\u001b[0;31mKeyError\u001b[0m: 'Esp'",
      "\nDuring handling of the above exception, another exception occurred:\n",
      "\u001b[0;31mKeyError\u001b[0m                                  Traceback (most recent call last)",
      "\u001b[0;32m<ipython-input-59-2e760b06959c>\u001b[0m in \u001b[0;36m<module>\u001b[0;34m()\u001b[0m\n\u001b[1;32m     17\u001b[0m \u001b[0;31m## Set second x-axis for MBq\u001b[0m\u001b[0;34m\u001b[0m\u001b[0;34m\u001b[0m\u001b[0m\n\u001b[1;32m     18\u001b[0m \u001b[0max2\u001b[0m \u001b[0;34m=\u001b[0m \u001b[0max1\u001b[0m\u001b[0;34m.\u001b[0m\u001b[0mtwiny\u001b[0m\u001b[0;34m(\u001b[0m\u001b[0;34m)\u001b[0m\u001b[0;34m\u001b[0m\u001b[0m\n\u001b[0;32m---> 19\u001b[0;31m \u001b[0mMBqs\u001b[0m \u001b[0;34m=\u001b[0m \u001b[0mnp\u001b[0m\u001b[0;34m.\u001b[0m\u001b[0mlinspace\u001b[0m\u001b[0;34m(\u001b[0m\u001b[0mdata\u001b[0m\u001b[0;34m[\u001b[0m\u001b[0;34m'Esp'\u001b[0m\u001b[0;34m]\u001b[0m\u001b[0;34m.\u001b[0m\u001b[0mmin\u001b[0m\u001b[0;34m(\u001b[0m\u001b[0;34m)\u001b[0m\u001b[0;34m,\u001b[0m\u001b[0mdata\u001b[0m\u001b[0;34m[\u001b[0m\u001b[0;34m'Esp'\u001b[0m\u001b[0;34m]\u001b[0m\u001b[0;34m.\u001b[0m\u001b[0mmax\u001b[0m\u001b[0;34m(\u001b[0m\u001b[0;34m)\u001b[0m\u001b[0;34m*\u001b[0m\u001b[0;36m37\u001b[0m\u001b[0;34m,\u001b[0m\u001b[0;36m7\u001b[0m\u001b[0;34m)\u001b[0m \u001b[0;31m# Actividad en MBq\u001b[0m\u001b[0;34m\u001b[0m\u001b[0m\n\u001b[0m\u001b[1;32m     20\u001b[0m \u001b[0max2\u001b[0m\u001b[0;34m.\u001b[0m\u001b[0mset_xticks\u001b[0m\u001b[0;34m(\u001b[0m\u001b[0mMBqs\u001b[0m\u001b[0;34m/\u001b[0m\u001b[0;36m37\u001b[0m\u001b[0;34m)\u001b[0m \u001b[0;31m# Ponga los ticks\u001b[0m\u001b[0;34m\u001b[0m\u001b[0m\n\u001b[1;32m     21\u001b[0m \u001b[0max2\u001b[0m\u001b[0;34m.\u001b[0m\u001b[0mset_xticklabels\u001b[0m\u001b[0;34m(\u001b[0m\u001b[0mMBqs\u001b[0m\u001b[0;34m.\u001b[0m\u001b[0mastype\u001b[0m\u001b[0;34m(\u001b[0m\u001b[0mint\u001b[0m\u001b[0;34m)\u001b[0m\u001b[0;34m)\u001b[0m \u001b[0;31m# Ponga los Labels\u001b[0m\u001b[0;34m\u001b[0m\u001b[0m\n",
      "\u001b[0;32m/Users/Mila/anaconda/lib/python3.5/site-packages/pandas/core/frame.py\u001b[0m in \u001b[0;36m__getitem__\u001b[0;34m(self, key)\u001b[0m\n\u001b[1;32m   2057\u001b[0m             \u001b[0;32mreturn\u001b[0m \u001b[0mself\u001b[0m\u001b[0;34m.\u001b[0m\u001b[0m_getitem_multilevel\u001b[0m\u001b[0;34m(\u001b[0m\u001b[0mkey\u001b[0m\u001b[0;34m)\u001b[0m\u001b[0;34m\u001b[0m\u001b[0m\n\u001b[1;32m   2058\u001b[0m         \u001b[0;32melse\u001b[0m\u001b[0;34m:\u001b[0m\u001b[0;34m\u001b[0m\u001b[0m\n\u001b[0;32m-> 2059\u001b[0;31m             \u001b[0;32mreturn\u001b[0m \u001b[0mself\u001b[0m\u001b[0;34m.\u001b[0m\u001b[0m_getitem_column\u001b[0m\u001b[0;34m(\u001b[0m\u001b[0mkey\u001b[0m\u001b[0;34m)\u001b[0m\u001b[0;34m\u001b[0m\u001b[0m\n\u001b[0m\u001b[1;32m   2060\u001b[0m \u001b[0;34m\u001b[0m\u001b[0m\n\u001b[1;32m   2061\u001b[0m     \u001b[0;32mdef\u001b[0m \u001b[0m_getitem_column\u001b[0m\u001b[0;34m(\u001b[0m\u001b[0mself\u001b[0m\u001b[0;34m,\u001b[0m \u001b[0mkey\u001b[0m\u001b[0;34m)\u001b[0m\u001b[0;34m:\u001b[0m\u001b[0;34m\u001b[0m\u001b[0m\n",
      "\u001b[0;32m/Users/Mila/anaconda/lib/python3.5/site-packages/pandas/core/frame.py\u001b[0m in \u001b[0;36m_getitem_column\u001b[0;34m(self, key)\u001b[0m\n\u001b[1;32m   2064\u001b[0m         \u001b[0;31m# get column\u001b[0m\u001b[0;34m\u001b[0m\u001b[0;34m\u001b[0m\u001b[0m\n\u001b[1;32m   2065\u001b[0m         \u001b[0;32mif\u001b[0m \u001b[0mself\u001b[0m\u001b[0;34m.\u001b[0m\u001b[0mcolumns\u001b[0m\u001b[0;34m.\u001b[0m\u001b[0mis_unique\u001b[0m\u001b[0;34m:\u001b[0m\u001b[0;34m\u001b[0m\u001b[0m\n\u001b[0;32m-> 2066\u001b[0;31m             \u001b[0;32mreturn\u001b[0m \u001b[0mself\u001b[0m\u001b[0;34m.\u001b[0m\u001b[0m_get_item_cache\u001b[0m\u001b[0;34m(\u001b[0m\u001b[0mkey\u001b[0m\u001b[0;34m)\u001b[0m\u001b[0;34m\u001b[0m\u001b[0m\n\u001b[0m\u001b[1;32m   2067\u001b[0m \u001b[0;34m\u001b[0m\u001b[0m\n\u001b[1;32m   2068\u001b[0m         \u001b[0;31m# duplicate columns & possible reduce dimensionality\u001b[0m\u001b[0;34m\u001b[0m\u001b[0;34m\u001b[0m\u001b[0m\n",
      "\u001b[0;32m/Users/Mila/anaconda/lib/python3.5/site-packages/pandas/core/generic.py\u001b[0m in \u001b[0;36m_get_item_cache\u001b[0;34m(self, item)\u001b[0m\n\u001b[1;32m   1384\u001b[0m         \u001b[0mres\u001b[0m \u001b[0;34m=\u001b[0m \u001b[0mcache\u001b[0m\u001b[0;34m.\u001b[0m\u001b[0mget\u001b[0m\u001b[0;34m(\u001b[0m\u001b[0mitem\u001b[0m\u001b[0;34m)\u001b[0m\u001b[0;34m\u001b[0m\u001b[0m\n\u001b[1;32m   1385\u001b[0m         \u001b[0;32mif\u001b[0m \u001b[0mres\u001b[0m \u001b[0;32mis\u001b[0m \u001b[0;32mNone\u001b[0m\u001b[0;34m:\u001b[0m\u001b[0;34m\u001b[0m\u001b[0m\n\u001b[0;32m-> 1386\u001b[0;31m             \u001b[0mvalues\u001b[0m \u001b[0;34m=\u001b[0m \u001b[0mself\u001b[0m\u001b[0;34m.\u001b[0m\u001b[0m_data\u001b[0m\u001b[0;34m.\u001b[0m\u001b[0mget\u001b[0m\u001b[0;34m(\u001b[0m\u001b[0mitem\u001b[0m\u001b[0;34m)\u001b[0m\u001b[0;34m\u001b[0m\u001b[0m\n\u001b[0m\u001b[1;32m   1387\u001b[0m             \u001b[0mres\u001b[0m \u001b[0;34m=\u001b[0m \u001b[0mself\u001b[0m\u001b[0;34m.\u001b[0m\u001b[0m_box_item_values\u001b[0m\u001b[0;34m(\u001b[0m\u001b[0mitem\u001b[0m\u001b[0;34m,\u001b[0m \u001b[0mvalues\u001b[0m\u001b[0;34m)\u001b[0m\u001b[0;34m\u001b[0m\u001b[0m\n\u001b[1;32m   1388\u001b[0m             \u001b[0mcache\u001b[0m\u001b[0;34m[\u001b[0m\u001b[0mitem\u001b[0m\u001b[0;34m]\u001b[0m \u001b[0;34m=\u001b[0m \u001b[0mres\u001b[0m\u001b[0;34m\u001b[0m\u001b[0m\n",
      "\u001b[0;32m/Users/Mila/anaconda/lib/python3.5/site-packages/pandas/core/internals.py\u001b[0m in \u001b[0;36mget\u001b[0;34m(self, item, fastpath)\u001b[0m\n\u001b[1;32m   3541\u001b[0m \u001b[0;34m\u001b[0m\u001b[0m\n\u001b[1;32m   3542\u001b[0m             \u001b[0;32mif\u001b[0m \u001b[0;32mnot\u001b[0m \u001b[0misnull\u001b[0m\u001b[0;34m(\u001b[0m\u001b[0mitem\u001b[0m\u001b[0;34m)\u001b[0m\u001b[0;34m:\u001b[0m\u001b[0;34m\u001b[0m\u001b[0m\n\u001b[0;32m-> 3543\u001b[0;31m                 \u001b[0mloc\u001b[0m \u001b[0;34m=\u001b[0m \u001b[0mself\u001b[0m\u001b[0;34m.\u001b[0m\u001b[0mitems\u001b[0m\u001b[0;34m.\u001b[0m\u001b[0mget_loc\u001b[0m\u001b[0;34m(\u001b[0m\u001b[0mitem\u001b[0m\u001b[0;34m)\u001b[0m\u001b[0;34m\u001b[0m\u001b[0m\n\u001b[0m\u001b[1;32m   3544\u001b[0m             \u001b[0;32melse\u001b[0m\u001b[0;34m:\u001b[0m\u001b[0;34m\u001b[0m\u001b[0m\n\u001b[1;32m   3545\u001b[0m                 \u001b[0mindexer\u001b[0m \u001b[0;34m=\u001b[0m \u001b[0mnp\u001b[0m\u001b[0;34m.\u001b[0m\u001b[0marange\u001b[0m\u001b[0;34m(\u001b[0m\u001b[0mlen\u001b[0m\u001b[0;34m(\u001b[0m\u001b[0mself\u001b[0m\u001b[0;34m.\u001b[0m\u001b[0mitems\u001b[0m\u001b[0;34m)\u001b[0m\u001b[0;34m)\u001b[0m\u001b[0;34m[\u001b[0m\u001b[0misnull\u001b[0m\u001b[0;34m(\u001b[0m\u001b[0mself\u001b[0m\u001b[0;34m.\u001b[0m\u001b[0mitems\u001b[0m\u001b[0;34m)\u001b[0m\u001b[0;34m]\u001b[0m\u001b[0;34m\u001b[0m\u001b[0m\n",
      "\u001b[0;32m/Users/Mila/anaconda/lib/python3.5/site-packages/pandas/indexes/base.py\u001b[0m in \u001b[0;36mget_loc\u001b[0;34m(self, key, method, tolerance)\u001b[0m\n\u001b[1;32m   2134\u001b[0m                 \u001b[0;32mreturn\u001b[0m \u001b[0mself\u001b[0m\u001b[0;34m.\u001b[0m\u001b[0m_engine\u001b[0m\u001b[0;34m.\u001b[0m\u001b[0mget_loc\u001b[0m\u001b[0;34m(\u001b[0m\u001b[0mkey\u001b[0m\u001b[0;34m)\u001b[0m\u001b[0;34m\u001b[0m\u001b[0m\n\u001b[1;32m   2135\u001b[0m             \u001b[0;32mexcept\u001b[0m \u001b[0mKeyError\u001b[0m\u001b[0;34m:\u001b[0m\u001b[0;34m\u001b[0m\u001b[0m\n\u001b[0;32m-> 2136\u001b[0;31m                 \u001b[0;32mreturn\u001b[0m \u001b[0mself\u001b[0m\u001b[0;34m.\u001b[0m\u001b[0m_engine\u001b[0m\u001b[0;34m.\u001b[0m\u001b[0mget_loc\u001b[0m\u001b[0;34m(\u001b[0m\u001b[0mself\u001b[0m\u001b[0;34m.\u001b[0m\u001b[0m_maybe_cast_indexer\u001b[0m\u001b[0;34m(\u001b[0m\u001b[0mkey\u001b[0m\u001b[0;34m)\u001b[0m\u001b[0;34m)\u001b[0m\u001b[0;34m\u001b[0m\u001b[0m\n\u001b[0m\u001b[1;32m   2137\u001b[0m \u001b[0;34m\u001b[0m\u001b[0m\n\u001b[1;32m   2138\u001b[0m         \u001b[0mindexer\u001b[0m \u001b[0;34m=\u001b[0m \u001b[0mself\u001b[0m\u001b[0;34m.\u001b[0m\u001b[0mget_indexer\u001b[0m\u001b[0;34m(\u001b[0m\u001b[0;34m[\u001b[0m\u001b[0mkey\u001b[0m\u001b[0;34m]\u001b[0m\u001b[0;34m,\u001b[0m \u001b[0mmethod\u001b[0m\u001b[0;34m=\u001b[0m\u001b[0mmethod\u001b[0m\u001b[0;34m,\u001b[0m \u001b[0mtolerance\u001b[0m\u001b[0;34m=\u001b[0m\u001b[0mtolerance\u001b[0m\u001b[0;34m)\u001b[0m\u001b[0;34m\u001b[0m\u001b[0m\n",
      "\u001b[0;32mpandas/index.pyx\u001b[0m in \u001b[0;36mpandas.index.IndexEngine.get_loc (pandas/index.c:4433)\u001b[0;34m()\u001b[0m\n",
      "\u001b[0;32mpandas/index.pyx\u001b[0m in \u001b[0;36mpandas.index.IndexEngine.get_loc (pandas/index.c:4279)\u001b[0;34m()\u001b[0m\n",
      "\u001b[0;32mpandas/src/hashtable_class_helper.pxi\u001b[0m in \u001b[0;36mpandas.hashtable.PyObjectHashTable.get_item (pandas/hashtable.c:13742)\u001b[0;34m()\u001b[0m\n",
      "\u001b[0;32mpandas/src/hashtable_class_helper.pxi\u001b[0m in \u001b[0;36mpandas.hashtable.PyObjectHashTable.get_item (pandas/hashtable.c:13696)\u001b[0;34m()\u001b[0m\n",
      "\u001b[0;31mKeyError\u001b[0m: 'Esp'"
     ]
    },
    {
     "data": {
      "image/png": "[encoded data removed]",
      "text/plain": [
       "<Figure size 720x504 with 2 Axes>"
      ]
     },
     "metadata": {},
     "output_type": "display_data"
    }
   ],
   "source": [
    "#sns.distplot(data_Gapsma['Esp'],kde=False,color='b')\n",
    "### Plot the data\n",
    "plt.figure(figsize=(10,7))\n",
    "ax1=plt.subplot(1,1,1)\n",
    "#sns.distplot(data['Esp'],norm_hist=True,kde=False,color='g',ax=ax1)\n",
    "#sns.distplot(data['Esppres'],norm_hist=True,kde=False,color='b',ax=ax1)\n",
    "sns.distplot(data['Espiny'],norm_hist=True,kde=False,color='b',ax=ax1)\n",
    "#plt.plot((15, 15),(0,125), '--k', linewidth=1) \n",
    "#plt.plot((4.2, 4.2),(0,125), '--k', linewidth=1) \n",
    "\n",
    "ax1.set_title('Fluor 18',fontsize=14)\n",
    "ax1.set_ylabel('Proporción de Pacientes',fontsize=14)\n",
    "ax1.set_xlabel('Concentración de Actividad [mCi ml$^{-1}$]',fontsize=14)\n",
    "ax1.tick_params(axis='both',labelsize=14)\n",
    "sns.set_style('ticks')\n",
    "\n",
    "## Set second x-axis for MBq\n",
    "ax2 = ax1.twiny()\n",
    "MBqs = np.linspace(data['Esp'].min(),data['Esp'].max()*37,7) # Actividad en MBq\n",
    "ax2.set_xticks(MBqs/37) # Ponga los ticks\n",
    "ax2.set_xticklabels(MBqs.astype(int)) # Ponga los Labels\n",
    "ax2.xaxis.set_ticks_position('bottom') # set the position of the second x-axis to bottom\n",
    "ax2.xaxis.set_label_position('bottom') # set the position of the second x-axis to bottom\n",
    "ax2.spines['bottom'].set_position(('outward', 56))\n",
    "ax2.set_xlabel('Concentración de Actividad  [MBq ml$^{-1}$]',fontsize=14)\n",
    "ax2.set_xlim(ax1.get_xlim())\n",
    "ax2.tick_params(labelsize=14)\n",
    "plt.savefig('FDGcon.pdf',bbox_inches = \"tight\")"
   ]
  },
  {
   "cell_type": "markdown",
   "metadata": {},
   "source": [
    "### Diagnostic Reference Level "
   ]
  },
  {
   "cell_type": "markdown",
   "metadata": {},
   "source": [
    "Comparar con guías internacionales: Europea (SNMMI) y no se que otra. Los valores de actividad a administrar por RF de diagnostico en PET."
   ]
  },
  {
   "cell_type": "code",
   "execution_count": 60,
   "metadata": {
    "collapsed": true
   },
   "outputs": [],
   "source": [
    "##########  Agrupando por examen #########\n",
    "#data_group_exam = data.groupby(['Radiofarmaco'],as_index=False)\n",
    "\n",
    "######### FDG ##########\n",
    "#FDG= data_group_exam.get_group('FDG')\n",
    "\n",
    "######### GADOTA  ##########\n",
    "#GADOTA= data_group_exam.get_group('GADOTA')\n",
    "\n",
    "######### GAPSMA  ##########\n",
    "#GAPSMA= data_group_exam.get_group('GADOTA')"
   ]
  },
  {
   "cell_type": "code",
   "execution_count": 61,
   "metadata": {
    "collapsed": true
   },
   "outputs": [],
   "source": [
    "data.dropna(subset=[\"Actiny\"], axis=0, inplace=True)\n",
    "data.dropna(subset=[\"Actiny\"], axis=0, inplace=True)\n",
    "# reset index, because we droped rows\n",
    "data.reset_index(drop=True, inplace=True)"
   ]
  },
  {
   "cell_type": "code",
   "execution_count": 62,
   "metadata": {},
   "outputs": [
    {
     "data": {
      "text/plain": [
       "count    1172.000000\n",
       "mean        8.963976\n",
       "std         2.197402\n",
       "min         2.020000\n",
       "25%         7.500000\n",
       "50%         8.975000\n",
       "75%        10.442500\n",
       "max        19.300000\n",
       "Name: Actiny, dtype: float64"
      ]
     },
     "execution_count": 62,
     "metadata": {},
     "output_type": "execute_result"
    }
   ],
   "source": [
    "data['Actiny'].describe()"
   ]
  },
  {
   "cell_type": "code",
   "execution_count": 63,
   "metadata": {
    "collapsed": true
   },
   "outputs": [],
   "source": [
    "import seaborn as sns"
   ]
  },
  {
   "cell_type": "code",
   "execution_count": null,
   "metadata": {
    "collapsed": true
   },
   "outputs": [],
   "source": []
  },
  {
   "cell_type": "code",
   "execution_count": 65,
   "metadata": {},
   "outputs": [
    {
     "data": {
      "text/html": [
       "<div>\n",
       "<table border=\"1\" class=\"dataframe\">\n",
       "  <thead>\n",
       "    <tr style=\"text-align: right;\">\n",
       "      <th></th>\n",
       "      <th>Actiny</th>\n",
       "      <th>Actipres</th>\n",
       "    </tr>\n",
       "  </thead>\n",
       "  <tbody>\n",
       "    <tr>\n",
       "      <th>count</th>\n",
       "      <td>1172.000000</td>\n",
       "      <td>1172.000000</td>\n",
       "    </tr>\n",
       "    <tr>\n",
       "      <th>mean</th>\n",
       "      <td>8.963976</td>\n",
       "      <td>9.612517</td>\n",
       "    </tr>\n",
       "    <tr>\n",
       "      <th>std</th>\n",
       "      <td>2.197402</td>\n",
       "      <td>2.239064</td>\n",
       "    </tr>\n",
       "    <tr>\n",
       "      <th>min</th>\n",
       "      <td>2.020000</td>\n",
       "      <td>2.400000</td>\n",
       "    </tr>\n",
       "    <tr>\n",
       "      <th>25%</th>\n",
       "      <td>7.500000</td>\n",
       "      <td>8.300000</td>\n",
       "    </tr>\n",
       "    <tr>\n",
       "      <th>50%</th>\n",
       "      <td>8.975000</td>\n",
       "      <td>9.600000</td>\n",
       "    </tr>\n",
       "    <tr>\n",
       "      <th>75%</th>\n",
       "      <td>10.442500</td>\n",
       "      <td>11.100000</td>\n",
       "    </tr>\n",
       "    <tr>\n",
       "      <th>max</th>\n",
       "      <td>19.300000</td>\n",
       "      <td>15.000000</td>\n",
       "    </tr>\n",
       "  </tbody>\n",
       "</table>\n",
       "</div>"
      ],
      "text/plain": [
       "            Actiny     Actipres\n",
       "count  1172.000000  1172.000000\n",
       "mean      8.963976     9.612517\n",
       "std       2.197402     2.239064\n",
       "min       2.020000     2.400000\n",
       "25%       7.500000     8.300000\n",
       "50%       8.975000     9.600000\n",
       "75%      10.442500    11.100000\n",
       "max      19.300000    15.000000"
      ]
     },
     "execution_count": 65,
     "metadata": {},
     "output_type": "execute_result"
    }
   ],
   "source": [
    "######## Estadisticos FDG F-18\n",
    "#FDG['ActivIny'].describe()\n",
    "data[['Actiny','Actipres']].describe()"
   ]
  },
  {
   "cell_type": "code",
   "execution_count": null,
   "metadata": {
    "collapsed": true
   },
   "outputs": [],
   "source": []
  },
  {
   "cell_type": "code",
   "execution_count": 102,
   "metadata": {},
   "outputs": [
    {
     "data": {
      "text/plain": [
       "count    148.000000\n",
       "mean      -3.176383\n",
       "std       27.017272\n",
       "min      -56.410256\n",
       "25%      -19.852941\n",
       "50%       -2.086957\n",
       "75%       13.095109\n",
       "max       89.000000\n",
       "Name: desviasigno, dtype: float64"
      ]
     },
     "execution_count": 102,
     "metadata": {},
     "output_type": "execute_result"
    }
   ],
   "source": [
    "data['desviasigno'].describe()"
   ]
  },
  {
   "cell_type": "code",
   "execution_count": 86,
   "metadata": {
    "collapsed": true
   },
   "outputs": [],
   "source": [
    "######## Estadisticos GADOTA Ga-68\n",
    "#GADOTA['ActivIny'].describe()"
   ]
  },
  {
   "cell_type": "code",
   "execution_count": 87,
   "metadata": {
    "collapsed": true
   },
   "outputs": [],
   "source": [
    "######## Estadisticos GAPSMA Ga-68\n",
    "#GAPSMA['ActivIny'].describe()"
   ]
  },
  {
   "cell_type": "code",
   "execution_count": 88,
   "metadata": {
    "collapsed": true
   },
   "outputs": [],
   "source": [
    "#data.dtypes"
   ]
  },
  {
   "cell_type": "code",
   "execution_count": 89,
   "metadata": {
    "collapsed": true
   },
   "outputs": [],
   "source": [
    "#replace NV to NaN\n",
    "#data.replace(\"NV\", np.nan, inplace = True)"
   ]
  },
  {
   "cell_type": "code",
   "execution_count": 90,
   "metadata": {
    "collapsed": true
   },
   "outputs": [],
   "source": [
    "#data.dtypes"
   ]
  },
  {
   "cell_type": "code",
   "execution_count": 91,
   "metadata": {
    "collapsed": true
   },
   "outputs": [],
   "source": [
    "#data[[\"ActivAdm\"]] = data[[\"ActivAdm\"]].astype(\"float\")"
   ]
  },
  {
   "cell_type": "code",
   "execution_count": 92,
   "metadata": {
    "collapsed": true
   },
   "outputs": [],
   "source": [
    "#data.dropna(subset=[\"ActivAdm\"], axis=0, inplace=True)"
   ]
  },
  {
   "cell_type": "code",
   "execution_count": 93,
   "metadata": {
    "collapsed": true
   },
   "outputs": [],
   "source": [
    "#data.reset_index(drop=True, inplace=True)"
   ]
  },
  {
   "cell_type": "markdown",
   "metadata": {},
   "source": [
    "### Diferencia entre actividad prescrita e inyectada "
   ]
  },
  {
   "cell_type": "markdown",
   "metadata": {},
   "source": [
    "\\begin{equation}\n",
    "\\%=\\frac{(\\text{Actividad Prescrita}-\\text{Actividad Inyectada})\\times 100}{\\text{Actividad Prescrita}}\n",
    "\\end{equation}"
   ]
  },
  {
   "cell_type": "markdown",
   "metadata": {},
   "source": [
    "Aquí Actividad Inyectada = Actividad Pre-jeringa -Actividad Post Jeringa"
   ]
  },
  {
   "cell_type": "code",
   "execution_count": 94,
   "metadata": {
    "collapsed": true
   },
   "outputs": [],
   "source": [
    "##Diferencia\n",
    "#perce=np.absolute(((data['ActivAdm']-data['ActivIny'])*100)/data['ActivAdm'])"
   ]
  },
  {
   "cell_type": "code",
   "execution_count": 95,
   "metadata": {
    "collapsed": true
   },
   "outputs": [],
   "source": [
    "#percent=round(perce,1)"
   ]
  },
  {
   "cell_type": "code",
   "execution_count": 96,
   "metadata": {
    "collapsed": true
   },
   "outputs": [],
   "source": [
    "### Ingresar datos en el data \n",
    "#data['percent']= percent"
   ]
  },
  {
   "cell_type": "code",
   "execution_count": 97,
   "metadata": {},
   "outputs": [
    {
     "data": {
      "text/html": [
       "<div>\n",
       "<table border=\"1\" class=\"dataframe\">\n",
       "  <thead>\n",
       "    <tr style=\"text-align: right;\">\n",
       "      <th></th>\n",
       "      <th>Genero</th>\n",
       "      <th>Peso</th>\n",
       "      <th>Horarec</th>\n",
       "      <th>Actipres</th>\n",
       "      <th>Horadm</th>\n",
       "      <th>Actidosi</th>\n",
       "      <th>Horadosi</th>\n",
       "      <th>Voldosi</th>\n",
       "      <th>Actiny</th>\n",
       "      <th>Horainy</th>\n",
       "      <th>Operador</th>\n",
       "      <th>desviasigno</th>\n",
       "      <th>desvia</th>\n",
       "    </tr>\n",
       "  </thead>\n",
       "  <tbody>\n",
       "    <tr>\n",
       "      <th>0</th>\n",
       "      <td>F</td>\n",
       "      <td>90</td>\n",
       "      <td>7:38</td>\n",
       "      <td>13.5</td>\n",
       "      <td>8:00</td>\n",
       "      <td>16.7</td>\n",
       "      <td>7:21</td>\n",
       "      <td>1.5</td>\n",
       "      <td>10.87</td>\n",
       "      <td>8:20</td>\n",
       "      <td>Andrea</td>\n",
       "      <td>-19.481481</td>\n",
       "      <td>19.481481</td>\n",
       "    </tr>\n",
       "    <tr>\n",
       "      <th>1</th>\n",
       "      <td>M</td>\n",
       "      <td>74</td>\n",
       "      <td>7:38</td>\n",
       "      <td>11.1</td>\n",
       "      <td>8:30</td>\n",
       "      <td>17.5</td>\n",
       "      <td>7:30</td>\n",
       "      <td>2.6</td>\n",
       "      <td>10.11</td>\n",
       "      <td>8:50</td>\n",
       "      <td>Andrea</td>\n",
       "      <td>-8.918919</td>\n",
       "      <td>8.918919</td>\n",
       "    </tr>\n",
       "    <tr>\n",
       "      <th>2</th>\n",
       "      <td>M</td>\n",
       "      <td>55</td>\n",
       "      <td>9:00</td>\n",
       "      <td>8.3</td>\n",
       "      <td>9:00</td>\n",
       "      <td>13.8</td>\n",
       "      <td>7:38</td>\n",
       "      <td>2</td>\n",
       "      <td>7.24</td>\n",
       "      <td>11:08</td>\n",
       "      <td>Andrea</td>\n",
       "      <td>-12.771084</td>\n",
       "      <td>12.771084</td>\n",
       "    </tr>\n",
       "    <tr>\n",
       "      <th>3</th>\n",
       "      <td>F</td>\n",
       "      <td>62</td>\n",
       "      <td>10:00</td>\n",
       "      <td>9.3</td>\n",
       "      <td>9:30</td>\n",
       "      <td>15.8</td>\n",
       "      <td>8:15</td>\n",
       "      <td>2</td>\n",
       "      <td>7.97</td>\n",
       "      <td>9:51</td>\n",
       "      <td>Andrea</td>\n",
       "      <td>-14.301075</td>\n",
       "      <td>14.301075</td>\n",
       "    </tr>\n",
       "    <tr>\n",
       "      <th>4</th>\n",
       "      <td>F</td>\n",
       "      <td>60</td>\n",
       "      <td>10:00</td>\n",
       "      <td>9.0</td>\n",
       "      <td>10:30</td>\n",
       "      <td>21.0</td>\n",
       "      <td>8:26</td>\n",
       "      <td>2</td>\n",
       "      <td>6.54</td>\n",
       "      <td>10:39</td>\n",
       "      <td>Andrea</td>\n",
       "      <td>-27.333333</td>\n",
       "      <td>27.333333</td>\n",
       "    </tr>\n",
       "  </tbody>\n",
       "</table>\n",
       "</div>"
      ],
      "text/plain": [
       "  Genero Peso Horarec  Actipres Horadm  Actidosi Horadosi Voldosi  Actiny  \\\n",
       "0      F   90    7:38      13.5   8:00      16.7     7:21     1.5   10.87   \n",
       "1      M   74    7:38      11.1   8:30      17.5     7:30     2.6   10.11   \n",
       "2      M   55    9:00       8.3   9:00      13.8     7:38       2    7.24   \n",
       "3      F   62   10:00       9.3   9:30      15.8     8:15       2    7.97   \n",
       "4      F   60   10:00       9.0  10:30      21.0     8:26       2    6.54   \n",
       "\n",
       "  Horainy Operador  desviasigno     desvia  \n",
       "0    8:20   Andrea   -19.481481  19.481481  \n",
       "1    8:50   Andrea    -8.918919   8.918919  \n",
       "2   11:08   Andrea   -12.771084  12.771084  \n",
       "3    9:51   Andrea   -14.301075  14.301075  \n",
       "4   10:39   Andrea   -27.333333  27.333333  "
      ]
     },
     "execution_count": 97,
     "metadata": {},
     "output_type": "execute_result"
    }
   ],
   "source": [
    "data.head()"
   ]
  },
  {
   "cell_type": "markdown",
   "metadata": {},
   "source": [
    "Altos porcentajes de diferencia entre actividad prescrita y actividad inyectada, pueden tener las siguientes causas asignables:\n",
    "\n",
    "1. Retraso en la recepción de la actividad porque: radiofarmaco esta en pruebas de control de calidad ó falla  comunicación entre RF-MN  [TIEMPO]\n",
    "2. El farmaco marcado con Ga-68 es enviado en una lonchera y con un tapón. En el cambio del tapón por la jeringa, es probable que se pierda una cierta cantidad de material (y tiempo)\n",
    "3. Dificultades tecnicas con el PET, que retrasa el proceso para realizar el estudio [TIEMPO]\n",
    "4. ¿Actividad residual en jeringa es considerable?\n",
    "5. Daño en el ascensor"
   ]
  },
  {
   "cell_type": "markdown",
   "metadata": {},
   "source": [
    "#### Añadir grafico % Dif "
   ]
  },
  {
   "cell_type": "code",
   "execution_count": 98,
   "metadata": {
    "collapsed": true
   },
   "outputs": [],
   "source": [
    "##########  Agrupando por examen #########\n",
    "#data_group_exam = data.groupby(['Radiofarmaco'],as_index=False)\n",
    "\n",
    "######### FDG ##########\n",
    "#FDG= data_group_exam.get_group('FDG')\n",
    "\n",
    "######### GADOTA  ##########\n",
    "#GADOTA= data_group_exam.get_group('GADOTA')"
   ]
  },
  {
   "cell_type": "code",
   "execution_count": 99,
   "metadata": {
    "collapsed": true
   },
   "outputs": [],
   "source": [
    "#FDG['percent'].describe()"
   ]
  },
  {
   "cell_type": "markdown",
   "metadata": {},
   "source": []
  },
  {
   "cell_type": "code",
   "execution_count": 115,
   "metadata": {
    "collapsed": true
   },
   "outputs": [],
   "source": [
    "data.dropna(subset=[\"Horadm\"], axis=0, inplace=True)\n",
    "data.dropna(subset=[\"Horarec\"], axis=0, inplace=True)\n",
    "data.dropna(subset=[\"Horadosi\"], axis=0, inplace=True)\n",
    "data.dropna(subset=[\"Horainy\"], axis=0, inplace=True)\n",
    "# reset index, because we droped rows\n",
    "data.reset_index(drop=True, inplace=True)"
   ]
  },
  {
   "cell_type": "markdown",
   "metadata": {},
   "source": []
  },
  {
   "cell_type": "code",
   "execution_count": 169,
   "metadata": {
    "collapsed": true
   },
   "outputs": [],
   "source": [
    "\n"
   ]
  },
  {
   "cell_type": "code",
   "execution_count": 170,
   "metadata": {
    "collapsed": true
   },
   "outputs": [],
   "source": []
  },
  {
   "cell_type": "code",
   "execution_count": 171,
   "metadata": {
    "collapsed": true
   },
   "outputs": [],
   "source": [
    "#subgroup"
   ]
  },
  {
   "cell_type": "code",
   "execution_count": 172,
   "metadata": {
    "collapsed": true
   },
   "outputs": [],
   "source": []
  },
  {
   "cell_type": "code",
   "execution_count": 173,
   "metadata": {
    "collapsed": true
   },
   "outputs": [],
   "source": [
    "#subgroup.loc[subgroup['timePR'].dt.days<0]= np.nan"
   ]
  },
  {
   "cell_type": "code",
   "execution_count": 174,
   "metadata": {
    "collapsed": true
   },
   "outputs": [],
   "source": [
    "\n",
    "#subgroup\n",
    "\n",
    "#subgroup[\"suma\"].dt.seconds"
   ]
  },
  {
   "cell_type": "code",
   "execution_count": 175,
   "metadata": {},
   "outputs": [
    {
     "data": {
      "text/html": [
       "<div>\n",
       "<table border=\"1\" class=\"dataframe\">\n",
       "  <thead>\n",
       "    <tr style=\"text-align: right;\">\n",
       "      <th></th>\n",
       "      <th>timePR</th>\n",
       "    </tr>\n",
       "  </thead>\n",
       "  <tbody>\n",
       "    <tr>\n",
       "      <th>0</th>\n",
       "      <td>00:22:00</td>\n",
       "    </tr>\n",
       "    <tr>\n",
       "      <th>1</th>\n",
       "      <td>00:52:00</td>\n",
       "    </tr>\n",
       "    <tr>\n",
       "      <th>2</th>\n",
       "      <td>00:00:00</td>\n",
       "    </tr>\n",
       "    <tr>\n",
       "      <th>3</th>\n",
       "      <td>00:30:00</td>\n",
       "    </tr>\n",
       "    <tr>\n",
       "      <th>4</th>\n",
       "      <td>00:30:00</td>\n",
       "    </tr>\n",
       "    <tr>\n",
       "      <th>5</th>\n",
       "      <td>00:10:00</td>\n",
       "    </tr>\n",
       "    <tr>\n",
       "      <th>6</th>\n",
       "      <td>01:10:00</td>\n",
       "    </tr>\n",
       "    <tr>\n",
       "      <th>7</th>\n",
       "      <td>01:40:00</td>\n",
       "    </tr>\n",
       "    <tr>\n",
       "      <th>8</th>\n",
       "      <td>00:05:00</td>\n",
       "    </tr>\n",
       "    <tr>\n",
       "      <th>9</th>\n",
       "      <td>00:10:00</td>\n",
       "    </tr>\n",
       "    <tr>\n",
       "      <th>10</th>\n",
       "      <td>00:50:00</td>\n",
       "    </tr>\n",
       "    <tr>\n",
       "      <th>11</th>\n",
       "      <td>00:20:00</td>\n",
       "    </tr>\n",
       "    <tr>\n",
       "      <th>12</th>\n",
       "      <td>00:00:00</td>\n",
       "    </tr>\n",
       "    <tr>\n",
       "      <th>13</th>\n",
       "      <td>00:40:00</td>\n",
       "    </tr>\n",
       "    <tr>\n",
       "      <th>14</th>\n",
       "      <td>01:40:00</td>\n",
       "    </tr>\n",
       "    <tr>\n",
       "      <th>15</th>\n",
       "      <td>00:10:00</td>\n",
       "    </tr>\n",
       "    <tr>\n",
       "      <th>16</th>\n",
       "      <td>00:40:00</td>\n",
       "    </tr>\n",
       "    <tr>\n",
       "      <th>17</th>\n",
       "      <td>00:20:00</td>\n",
       "    </tr>\n",
       "    <tr>\n",
       "      <th>18</th>\n",
       "      <td>01:00:00</td>\n",
       "    </tr>\n",
       "    <tr>\n",
       "      <th>19</th>\n",
       "      <td>00:30:00</td>\n",
       "    </tr>\n",
       "    <tr>\n",
       "      <th>20</th>\n",
       "      <td>00:08:00</td>\n",
       "    </tr>\n",
       "    <tr>\n",
       "      <th>21</th>\n",
       "      <td>00:30:00</td>\n",
       "    </tr>\n",
       "    <tr>\n",
       "      <th>22</th>\n",
       "      <td>01:10:00</td>\n",
       "    </tr>\n",
       "    <tr>\n",
       "      <th>23</th>\n",
       "      <td>00:00:00</td>\n",
       "    </tr>\n",
       "    <tr>\n",
       "      <th>24</th>\n",
       "      <td>00:10:00</td>\n",
       "    </tr>\n",
       "    <tr>\n",
       "      <th>25</th>\n",
       "      <td>00:15:00</td>\n",
       "    </tr>\n",
       "    <tr>\n",
       "      <th>26</th>\n",
       "      <td>00:15:00</td>\n",
       "    </tr>\n",
       "    <tr>\n",
       "      <th>27</th>\n",
       "      <td>00:05:00</td>\n",
       "    </tr>\n",
       "    <tr>\n",
       "      <th>28</th>\n",
       "      <td>00:55:00</td>\n",
       "    </tr>\n",
       "    <tr>\n",
       "      <th>29</th>\n",
       "      <td>01:55:00</td>\n",
       "    </tr>\n",
       "    <tr>\n",
       "      <th>...</th>\n",
       "      <td>...</td>\n",
       "    </tr>\n",
       "    <tr>\n",
       "      <th>852</th>\n",
       "      <td>00:06:00</td>\n",
       "    </tr>\n",
       "    <tr>\n",
       "      <th>853</th>\n",
       "      <td>00:51:00</td>\n",
       "    </tr>\n",
       "    <tr>\n",
       "      <th>854</th>\n",
       "      <td>01:36:00</td>\n",
       "    </tr>\n",
       "    <tr>\n",
       "      <th>855</th>\n",
       "      <td>02:10:00</td>\n",
       "    </tr>\n",
       "    <tr>\n",
       "      <th>856</th>\n",
       "      <td>03:10:00</td>\n",
       "    </tr>\n",
       "    <tr>\n",
       "      <th>857</th>\n",
       "      <td>00:04:00</td>\n",
       "    </tr>\n",
       "    <tr>\n",
       "      <th>858</th>\n",
       "      <td>00:34:00</td>\n",
       "    </tr>\n",
       "    <tr>\n",
       "      <th>859</th>\n",
       "      <td>01:04:00</td>\n",
       "    </tr>\n",
       "    <tr>\n",
       "      <th>860</th>\n",
       "      <td>01:49:00</td>\n",
       "    </tr>\n",
       "    <tr>\n",
       "      <th>861</th>\n",
       "      <td>02:19:00</td>\n",
       "    </tr>\n",
       "    <tr>\n",
       "      <th>862</th>\n",
       "      <td>03:04:00</td>\n",
       "    </tr>\n",
       "    <tr>\n",
       "      <th>863</th>\n",
       "      <td>00:30:00</td>\n",
       "    </tr>\n",
       "    <tr>\n",
       "      <th>864</th>\n",
       "      <td>01:00:00</td>\n",
       "    </tr>\n",
       "    <tr>\n",
       "      <th>865</th>\n",
       "      <td>01:30:00</td>\n",
       "    </tr>\n",
       "    <tr>\n",
       "      <th>866</th>\n",
       "      <td>00:10:00</td>\n",
       "    </tr>\n",
       "    <tr>\n",
       "      <th>867</th>\n",
       "      <td>00:35:00</td>\n",
       "    </tr>\n",
       "    <tr>\n",
       "      <th>868</th>\n",
       "      <td>01:05:00</td>\n",
       "    </tr>\n",
       "    <tr>\n",
       "      <th>869</th>\n",
       "      <td>00:05:00</td>\n",
       "    </tr>\n",
       "    <tr>\n",
       "      <th>870</th>\n",
       "      <td>00:35:00</td>\n",
       "    </tr>\n",
       "    <tr>\n",
       "      <th>871</th>\n",
       "      <td>01:05:00</td>\n",
       "    </tr>\n",
       "    <tr>\n",
       "      <th>872</th>\n",
       "      <td>00:05:00</td>\n",
       "    </tr>\n",
       "    <tr>\n",
       "      <th>873</th>\n",
       "      <td>00:35:00</td>\n",
       "    </tr>\n",
       "    <tr>\n",
       "      <th>874</th>\n",
       "      <td>00:10:00</td>\n",
       "    </tr>\n",
       "    <tr>\n",
       "      <th>875</th>\n",
       "      <td>00:35:00</td>\n",
       "    </tr>\n",
       "    <tr>\n",
       "      <th>876</th>\n",
       "      <td>01:20:00</td>\n",
       "    </tr>\n",
       "    <tr>\n",
       "      <th>877</th>\n",
       "      <td>00:00:00</td>\n",
       "    </tr>\n",
       "    <tr>\n",
       "      <th>878</th>\n",
       "      <td>00:45:00</td>\n",
       "    </tr>\n",
       "    <tr>\n",
       "      <th>879</th>\n",
       "      <td>01:30:00</td>\n",
       "    </tr>\n",
       "    <tr>\n",
       "      <th>880</th>\n",
       "      <td>00:05:00</td>\n",
       "    </tr>\n",
       "    <tr>\n",
       "      <th>881</th>\n",
       "      <td>01:05:00</td>\n",
       "    </tr>\n",
       "  </tbody>\n",
       "</table>\n",
       "<p>882 rows × 1 columns</p>\n",
       "</div>"
      ],
      "text/plain": [
       "      timePR\n",
       "0   00:22:00\n",
       "1   00:52:00\n",
       "2   00:00:00\n",
       "3   00:30:00\n",
       "4   00:30:00\n",
       "5   00:10:00\n",
       "6   01:10:00\n",
       "7   01:40:00\n",
       "8   00:05:00\n",
       "9   00:10:00\n",
       "10  00:50:00\n",
       "11  00:20:00\n",
       "12  00:00:00\n",
       "13  00:40:00\n",
       "14  01:40:00\n",
       "15  00:10:00\n",
       "16  00:40:00\n",
       "17  00:20:00\n",
       "18  01:00:00\n",
       "19  00:30:00\n",
       "20  00:08:00\n",
       "21  00:30:00\n",
       "22  01:10:00\n",
       "23  00:00:00\n",
       "24  00:10:00\n",
       "25  00:15:00\n",
       "26  00:15:00\n",
       "27  00:05:00\n",
       "28  00:55:00\n",
       "29  01:55:00\n",
       "..       ...\n",
       "852 00:06:00\n",
       "853 00:51:00\n",
       "854 01:36:00\n",
       "855 02:10:00\n",
       "856 03:10:00\n",
       "857 00:04:00\n",
       "858 00:34:00\n",
       "859 01:04:00\n",
       "860 01:49:00\n",
       "861 02:19:00\n",
       "862 03:04:00\n",
       "863 00:30:00\n",
       "864 01:00:00\n",
       "865 01:30:00\n",
       "866 00:10:00\n",
       "867 00:35:00\n",
       "868 01:05:00\n",
       "869 00:05:00\n",
       "870 00:35:00\n",
       "871 01:05:00\n",
       "872 00:05:00\n",
       "873 00:35:00\n",
       "874 00:10:00\n",
       "875 00:35:00\n",
       "876 01:20:00\n",
       "877 00:00:00\n",
       "878 00:45:00\n",
       "879 01:30:00\n",
       "880 00:05:00\n",
       "881 01:05:00\n",
       "\n",
       "[882 rows x 1 columns]"
      ]
     },
     "execution_count": 175,
     "metadata": {},
     "output_type": "execute_result"
    }
   ],
   "source": [
    "subgroup"
   ]
  },
  {
   "cell_type": "code",
   "execution_count": 176,
   "metadata": {},
   "outputs": [
    {
     "data": {
      "text/plain": [
       "-1800"
      ]
     },
     "execution_count": 176,
     "metadata": {},
     "output_type": "execute_result"
    }
   ],
   "source": [
    "tiempointer=subgroup['timePR'].dt.seconds\n",
    "#microseconds.values\n",
    "tiempointer[3]*(-1)"
   ]
  },
  {
   "cell_type": "code",
   "execution_count": 177,
   "metadata": {},
   "outputs": [
    {
     "name": "stderr",
     "output_type": "stream",
     "text": [
      "/Users/Mila/anaconda/lib/python3.5/site-packages/ipykernel_launcher.py:3: SettingWithCopyWarning: modifications to a property of a datetimelike object are not supported and are discarded. Change values on the original.\n",
      "  This is separate from the ipykernel package so we can avoid doing imports until\n"
     ]
    }
   ],
   "source": [
    "for i in range(len(lista)):   \n",
    "    if lista[i]:\n",
    "        tiempointer[i]= tiempointer[i]*(-1)"
   ]
  },
  {
   "cell_type": "code",
   "execution_count": 178,
   "metadata": {},
   "outputs": [
    {
     "data": {
      "text/plain": [
       "0       22.0\n",
       "1       52.0\n",
       "2        0.0\n",
       "3      -30.0\n",
       "4       30.0\n",
       "5       10.0\n",
       "6       70.0\n",
       "7      100.0\n",
       "8       -5.0\n",
       "9       10.0\n",
       "10      50.0\n",
       "11      20.0\n",
       "12       0.0\n",
       "13      40.0\n",
       "14     100.0\n",
       "15      10.0\n",
       "16      40.0\n",
       "17      20.0\n",
       "18      60.0\n",
       "19      30.0\n",
       "20      -8.0\n",
       "21      30.0\n",
       "22      70.0\n",
       "23       0.0\n",
       "24      10.0\n",
       "25     -15.0\n",
       "26      15.0\n",
       "27      -5.0\n",
       "28      55.0\n",
       "29     115.0\n",
       "       ...  \n",
       "852      6.0\n",
       "853     51.0\n",
       "854     96.0\n",
       "855    130.0\n",
       "856    190.0\n",
       "857      4.0\n",
       "858     34.0\n",
       "859     64.0\n",
       "860    109.0\n",
       "861    139.0\n",
       "862    184.0\n",
       "863     30.0\n",
       "864     60.0\n",
       "865     90.0\n",
       "866    -10.0\n",
       "867     35.0\n",
       "868     65.0\n",
       "869      5.0\n",
       "870     35.0\n",
       "871     65.0\n",
       "872      5.0\n",
       "873     35.0\n",
       "874    -10.0\n",
       "875     35.0\n",
       "876     80.0\n",
       "877      0.0\n",
       "878     45.0\n",
       "879     90.0\n",
       "880      5.0\n",
       "881     65.0\n",
       "Name: timePR, dtype: float64"
      ]
     },
     "execution_count": 178,
     "metadata": {},
     "output_type": "execute_result"
    }
   ],
   "source": [
    "tiempointer/60"
   ]
  },
  {
   "cell_type": "code",
   "execution_count": 25,
   "metadata": {
    "collapsed": true
   },
   "outputs": [],
   "source": [
    "#### Tiempo transcurrido entre la hora de inyección y la hora prescrita \n",
    "timePI = Inye -pres"
   ]
  },
  {
   "cell_type": "code",
   "execution_count": 28,
   "metadata": {},
   "outputs": [
    {
     "data": {
      "text/plain": [
       "0             00:30:00\n",
       "1             01:06:00\n",
       "2             00:31:00\n",
       "3             00:08:00\n",
       "4             00:02:00\n",
       "5             00:05:00\n",
       "6    -1 days +23:57:00\n",
       "7    -1 days +23:40:00\n",
       "8    -1 days +23:35:00\n",
       "9    -1 days +23:45:00\n",
       "10            00:25:00\n",
       "11            00:25:00\n",
       "dtype: timedelta64[ns]"
      ]
     },
     "execution_count": 28,
     "metadata": {},
     "output_type": "execute_result"
    }
   ],
   "source": [
    "timePI"
   ]
  },
  {
   "cell_type": "code",
   "execution_count": 29,
   "metadata": {
    "collapsed": true
   },
   "outputs": [],
   "source": [
    "#### Tiempo transcurrido entre la hora de dosificación y la hora de inyección\n",
    "timeID = Inye -dosi"
   ]
  },
  {
   "cell_type": "code",
   "execution_count": null,
   "metadata": {
    "collapsed": true
   },
   "outputs": [],
   "source": [
    "#timeID"
   ]
  },
  {
   "cell_type": "code",
   "execution_count": null,
   "metadata": {
    "collapsed": true
   },
   "outputs": [],
   "source": []
  },
  {
   "cell_type": "code",
   "execution_count": null,
   "metadata": {
    "collapsed": true
   },
   "outputs": [],
   "source": []
  },
  {
   "cell_type": "code",
   "execution_count": null,
   "metadata": {
    "collapsed": true
   },
   "outputs": [],
   "source": []
  }
 ],
 "metadata": {
  "kernelspec": {
   "display_name": "Python 3",
   "language": "python",
   "name": "python3"
  },
  "language_info": {
   "codemirror_mode": {
    "name": "ipython",
    "version": 3
   },
   "file_extension": ".py",
   "mimetype": "text/x-python",
   "name": "python",
   "nbconvert_exporter": "python",
   "pygments_lexer": "ipython3",
   "version": "3.5.5"
  }
 },
 "nbformat": 4,
 "nbformat_minor": 2
}
