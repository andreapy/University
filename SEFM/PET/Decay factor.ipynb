{
 "cells": [
  {
   "cell_type": "code",
   "execution_count": 105,
   "metadata": {},
   "outputs": [
    {
     "data": {
      "text/html": [
       "<div>\n",
       "<table border=\"1\" class=\"dataframe\">\n",
       "  <thead>\n",
       "    <tr style=\"text-align: right;\">\n",
       "      <th></th>\n",
       "      <th>Actividad</th>\n",
       "      <th>Hora</th>\n",
       "    </tr>\n",
       "  </thead>\n",
       "  <tbody>\n",
       "    <tr>\n",
       "      <th>0</th>\n",
       "      <td>75</td>\n",
       "      <td>11/12/2020T8:00</td>\n",
       "    </tr>\n",
       "    <tr>\n",
       "      <th>1</th>\n",
       "      <td>50</td>\n",
       "      <td>11/12/2020T15:00</td>\n",
       "    </tr>\n",
       "  </tbody>\n",
       "</table>\n",
       "</div>"
      ],
      "text/plain": [
       "   Actividad              Hora\n",
       "0         75   11/12/2020T8:00\n",
       "1         50  11/12/2020T15:00"
      ]
     },
     "execution_count": 105,
     "metadata": {},
     "output_type": "execute_result"
    }
   ],
   "source": [
    "import numpy as np\n",
    "import pandas as pd\n",
    "import matplotlib.pyplot as plt\n",
    "\n",
    "%matplotlib inline\n",
    "\n",
    "#### Paquete de tiempo\n",
    "import datetime\n",
    "\n",
    "from datetime import time\n",
    "from datetime import timedelta\n",
    "\n",
    "###Datos 11 de Diciembre 2020\n",
    "data = pd.read_csv('cherry.txt', delim_whitespace =True)\n",
    "\n",
    "\n",
    "#para ver los primeros datos\n",
    "data.head()"
   ]
  },
  {
   "cell_type": "code",
   "execution_count": 106,
   "metadata": {
    "collapsed": true
   },
   "outputs": [],
   "source": [
    "##############################\n",
    "########   Tc - 99m  ###########\n",
    "### half life [min]\n",
    "#HLTc= 6*60\n",
    "HLTc=68\n",
    "### Lambda\n",
    "LambdaTc= np.log(2)/HLTc"
   ]
  },
  {
   "cell_type": "code",
   "execution_count": 115,
   "metadata": {},
   "outputs": [],
   "source": [
    "#test='11/12/20 16:00'\n",
    "test='11/12/20 8:01'\n",
    "\n",
    "\n",
    "t=datetime.datetime.strptime(test,\"%d/%m/%y %H:%M\")\n",
    "h=pd.to_datetime(data[\"Hora\"],format=\"%d/%m/%YT%H:%M\")\n",
    "\n",
    "timeE=t-h\n",
    "\n",
    "### Tiempo en minutos \n",
    "#data['timeE']=(timeE.dt.seconds)/60"
   ]
  },
  {
   "cell_type": "code",
   "execution_count": 116,
   "metadata": {},
   "outputs": [],
   "source": [
    "listaE=timeE.dt.days<0        \n",
    "tiempoE=timeE.dt.seconds\n",
    "for i in range(len(listaE)):   \n",
    "    if listaE[i]:\n",
    "        timeE[i]=abs(t-h[i])\n",
    "        \n",
    "tiempoE=timeE.dt.seconds/60     \n",
    "        \n",
    "for i in range(len(listaE)):   \n",
    "    if listaE[i]:\n",
    "        tiempoE[i]= tiempoE[i]*(-1) "
   ]
  },
  {
   "cell_type": "code",
   "execution_count": 117,
   "metadata": {},
   "outputs": [
    {
     "data": {
      "text/plain": [
       "0      1.0\n",
       "1   -419.0\n",
       "Name: Hora, dtype: float64"
      ]
     },
     "execution_count": 117,
     "metadata": {},
     "output_type": "execute_result"
    }
   ],
   "source": [
    "data['timeE']=tiempoE\n",
    "tiempoE"
   ]
  },
  {
   "cell_type": "markdown",
   "metadata": {},
   "source": [
    "Porcentaje de decaimiento en 1 min de F-18, es de 0.6 % (0.6 %/min).\n",
    "\n",
    "\n",
    "Porcentaje de decaimiento en 1 min de Ga-68, es de 1.0 % (1.0 %/min)"
   ]
  },
  {
   "cell_type": "code",
   "execution_count": 118,
   "metadata": {},
   "outputs": [
    {
     "data": {
      "text/plain": [
       "0      0.6\n",
       "1    251.4\n",
       "Name: timeE, dtype: float64"
      ]
     },
     "execution_count": 118,
     "metadata": {},
     "output_type": "execute_result"
    }
   ],
   "source": [
    "(0.6 *np.absolute(data['timeE']))"
   ]
  },
  {
   "cell_type": "code",
   "execution_count": 128,
   "metadata": {},
   "outputs": [
    {
     "data": {
      "text/plain": [
       "[1]"
      ]
     },
     "execution_count": 128,
     "metadata": {},
     "output_type": "execute_result"
    }
   ],
   "source": [
    "data[data['timeE']<0].index.tolist()\n",
    "#data.loc[(data['timeE']<0)]"
   ]
  },
  {
   "cell_type": "markdown",
   "metadata": {},
   "source": [
    "$$FD=e^{-\\frac{ln 2}{T_{1/2}}t} $$"
   ]
  },
  {
   "cell_type": "code",
   "execution_count": 119,
   "metadata": {},
   "outputs": [],
   "source": [
    "FD=np.exp(-LambdaTc*data['timeE'])"
   ]
  },
  {
   "cell_type": "code",
   "execution_count": 120,
   "metadata": {},
   "outputs": [
    {
     "data": {
      "text/plain": [
       "0     0.989858\n",
       "1    71.593897\n",
       "Name: timeE, dtype: float64"
      ]
     },
     "execution_count": 120,
     "metadata": {},
     "output_type": "execute_result"
    }
   ],
   "source": [
    "data['CorAct']=data['Actividad']*FD\n",
    "FD"
   ]
  },
  {
   "cell_type": "code",
   "execution_count": 121,
   "metadata": {},
   "outputs": [],
   "source": [
    "data['pordecae']=(1-FD)*100"
   ]
  },
  {
   "cell_type": "code",
   "execution_count": 122,
   "metadata": {},
   "outputs": [
    {
     "data": {
      "text/html": [
       "<div>\n",
       "<table border=\"1\" class=\"dataframe\">\n",
       "  <thead>\n",
       "    <tr style=\"text-align: right;\">\n",
       "      <th></th>\n",
       "      <th>Actividad</th>\n",
       "      <th>Hora</th>\n",
       "      <th>timeE</th>\n",
       "      <th>CorAct</th>\n",
       "      <th>pordecae</th>\n",
       "    </tr>\n",
       "  </thead>\n",
       "  <tbody>\n",
       "    <tr>\n",
       "      <th>0</th>\n",
       "      <td>75</td>\n",
       "      <td>11/12/2020T8:00</td>\n",
       "      <td>1.0</td>\n",
       "      <td>74.239383</td>\n",
       "      <td>1.014156</td>\n",
       "    </tr>\n",
       "    <tr>\n",
       "      <th>1</th>\n",
       "      <td>50</td>\n",
       "      <td>11/12/2020T15:00</td>\n",
       "      <td>-419.0</td>\n",
       "      <td>3579.694851</td>\n",
       "      <td>-7059.389702</td>\n",
       "    </tr>\n",
       "  </tbody>\n",
       "</table>\n",
       "</div>"
      ],
      "text/plain": [
       "   Actividad              Hora  timeE       CorAct     pordecae\n",
       "0         75   11/12/2020T8:00    1.0    74.239383     1.014156\n",
       "1         50  11/12/2020T15:00 -419.0  3579.694851 -7059.389702"
      ]
     },
     "execution_count": 122,
     "metadata": {},
     "output_type": "execute_result"
    }
   ],
   "source": [
    "data"
   ]
  },
  {
   "cell_type": "code",
   "execution_count": null,
   "metadata": {
    "collapsed": true
   },
   "outputs": [],
   "source": []
  }
 ],
 "metadata": {
  "kernelspec": {
   "display_name": "Python 3",
   "language": "python",
   "name": "python3"
  },
  "language_info": {
   "codemirror_mode": {
    "name": "ipython",
    "version": 3
   },
   "file_extension": ".py",
   "mimetype": "text/x-python",
   "name": "python",
   "nbconvert_exporter": "python",
   "pygments_lexer": "ipython3",
   "version": "3.5.5"
  }
 },
 "nbformat": 4,
 "nbformat_minor": 2
}
