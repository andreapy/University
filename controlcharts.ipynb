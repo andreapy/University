{
 "cells": [
  {
   "cell_type": "code",
   "execution_count": 1,
   "metadata": {
    "collapsed": true
   },
   "outputs": [],
   "source": [
    "import numpy as np\n",
    "import pandas as pd\n",
    "import matplotlib.pyplot as plt\n",
    "from scipy import stats\n",
    "from scipy.stats import norm\n",
    "#### Paquete de tiempo\n",
    "import datetime\n",
    "\n",
    "%matplotlib inline\n",
    "\n",
    "#Para cargar los datos\n",
    "\n",
    "################################\n",
    "######  MEDICINA NUCLEAR #######\n",
    "################################\n",
    "\n",
    "###Activimetro CRC 25 PET con fuente Cs-137\n",
    "#data = pd.read_csv('ActPET.txt', delim_whitespace =True)\n",
    "\n",
    "###Activimetro 55tR con fuente Co-57\n",
    "data = pd.read_csv('ActSPECT.txt', delim_whitespace =True)\n",
    "\n",
    "\n",
    "#data.head()"
   ]
  },
  {
   "cell_type": "code",
   "execution_count": 2,
   "metadata": {},
   "outputs": [
    {
     "data": {
      "text/html": [
       "<div>\n",
       "<table border=\"1\" class=\"dataframe\">\n",
       "  <thead>\n",
       "    <tr style=\"text-align: right;\">\n",
       "      <th></th>\n",
       "      <th>Number</th>\n",
       "      <th>AjustemV</th>\n",
       "      <th>Fondo</th>\n",
       "      <th>Voltaje</th>\n",
       "      <th>Actividad</th>\n",
       "      <th>Desviacion</th>\n",
       "    </tr>\n",
       "  </thead>\n",
       "  <tbody>\n",
       "    <tr>\n",
       "      <th>count</th>\n",
       "      <td>439.00000</td>\n",
       "      <td>439.000000</td>\n",
       "      <td>439.000000</td>\n",
       "      <td>439.000000</td>\n",
       "      <td>439.000000</td>\n",
       "      <td>439.000000</td>\n",
       "    </tr>\n",
       "    <tr>\n",
       "      <th>mean</th>\n",
       "      <td>220.00000</td>\n",
       "      <td>0.018314</td>\n",
       "      <td>2.355877</td>\n",
       "      <td>155.296583</td>\n",
       "      <td>352.553531</td>\n",
       "      <td>-1.885011</td>\n",
       "    </tr>\n",
       "    <tr>\n",
       "      <th>std</th>\n",
       "      <td>126.87264</td>\n",
       "      <td>0.029016</td>\n",
       "      <td>3.189927</td>\n",
       "      <td>0.031870</td>\n",
       "      <td>177.048141</td>\n",
       "      <td>0.639048</td>\n",
       "    </tr>\n",
       "    <tr>\n",
       "      <th>min</th>\n",
       "      <td>1.00000</td>\n",
       "      <td>0.010000</td>\n",
       "      <td>0.250000</td>\n",
       "      <td>155.000000</td>\n",
       "      <td>128.000000</td>\n",
       "      <td>-4.300000</td>\n",
       "    </tr>\n",
       "    <tr>\n",
       "      <th>25%</th>\n",
       "      <td>110.50000</td>\n",
       "      <td>0.010000</td>\n",
       "      <td>0.330000</td>\n",
       "      <td>155.300000</td>\n",
       "      <td>200.600000</td>\n",
       "      <td>-2.200000</td>\n",
       "    </tr>\n",
       "    <tr>\n",
       "      <th>50%</th>\n",
       "      <td>220.00000</td>\n",
       "      <td>0.010000</td>\n",
       "      <td>0.450000</td>\n",
       "      <td>155.300000</td>\n",
       "      <td>306.000000</td>\n",
       "      <td>-2.000000</td>\n",
       "    </tr>\n",
       "    <tr>\n",
       "      <th>75%</th>\n",
       "      <td>329.50000</td>\n",
       "      <td>0.020000</td>\n",
       "      <td>2.735000</td>\n",
       "      <td>155.300000</td>\n",
       "      <td>472.000000</td>\n",
       "      <td>-1.800000</td>\n",
       "    </tr>\n",
       "    <tr>\n",
       "      <th>max</th>\n",
       "      <td>439.00000</td>\n",
       "      <td>0.260000</td>\n",
       "      <td>11.860000</td>\n",
       "      <td>155.300000</td>\n",
       "      <td>748.000000</td>\n",
       "      <td>1.600000</td>\n",
       "    </tr>\n",
       "  </tbody>\n",
       "</table>\n",
       "</div>"
      ],
      "text/plain": [
       "          Number    AjustemV       Fondo     Voltaje   Actividad  Desviacion\n",
       "count  439.00000  439.000000  439.000000  439.000000  439.000000  439.000000\n",
       "mean   220.00000    0.018314    2.355877  155.296583  352.553531   -1.885011\n",
       "std    126.87264    0.029016    3.189927    0.031870  177.048141    0.639048\n",
       "min      1.00000    0.010000    0.250000  155.000000  128.000000   -4.300000\n",
       "25%    110.50000    0.010000    0.330000  155.300000  200.600000   -2.200000\n",
       "50%    220.00000    0.010000    0.450000  155.300000  306.000000   -2.000000\n",
       "75%    329.50000    0.020000    2.735000  155.300000  472.000000   -1.800000\n",
       "max    439.00000    0.260000   11.860000  155.300000  748.000000    1.600000"
      ]
     },
     "execution_count": 2,
     "metadata": {},
     "output_type": "execute_result"
    }
   ],
   "source": [
    "data.describe()"
   ]
  },
  {
   "cell_type": "code",
   "execution_count": 3,
   "metadata": {
    "collapsed": true
   },
   "outputs": [],
   "source": [
    "##### de mCi a Bq\n",
    "#mcibq=3.7E7\n",
    "\n",
    "##### de uCi a Bq\n",
    "#ucibq=3.7E4"
   ]
  },
  {
   "cell_type": "code",
   "execution_count": 4,
   "metadata": {
    "collapsed": true
   },
   "outputs": [],
   "source": [
    "### Fuentes de Chequeo en Medicina Nuclear \n",
    "\n",
    "##############################\n",
    "########   Co 57  ###########\n",
    "\n",
    "#Fecha de referencia\n",
    "# primero de noviembre de 2015\n",
    "Co='01/11/2015'\n",
    "Co57= datetime.datetime.strptime(Co,'%d/%m/%Y')\n",
    "#Actividad en mCi\n",
    "AcCo= 5.774\n",
    "#Actividad en Bq [1/s]\n",
    "#AcCobq= AcCo*mcibq\n",
    "### half life [días]\n",
    "HLCo= 271.74\n",
    "### half life [s]\n",
    "HLCobq= 271.74*86400\n",
    "### Lambda\n",
    "Lambdaco= np.log(2)/HLCo\n",
    "### Lambda [1/s]\n",
    "Lambdacobq= np.log(2)/HLCobq\n",
    "\n",
    "#############################################\n",
    "######## Medicina Nuclear Cs 137  ###########\n",
    "\n",
    "#Fecha de referencia\n",
    "# primero de noviembre de 2015\n",
    "Cs='01/11/2015'\n",
    "Cs137= datetime.datetime.strptime(Cs,'%d/%m/%Y')\n",
    "#Actividad en uCi\n",
    "AcCs= 214.9\n",
    "#Actividad en Bq [1/s]\n",
    "#AcCsbq= AcCs*ucibq\n",
    "### half life  [días]\n",
    "HLCs= 30.08*365\n",
    "### half life [s]\n",
    "HLCsbq= HLCs*86400\n",
    "### Lambda\n",
    "Lambdacs= np.log(2)/HLCs\n",
    "### Lambda [1/s]\n",
    "Lambdacsbq= np.log(2)/HLCsbq\n",
    "\n",
    "\n",
    "\n",
    "#############################################\n",
    "######## Radiofarmacia Cs 137  ###########\n",
    "\n",
    "#Fecha de referencia\n",
    "# primero de Abril de 2007\n",
    "#Csrf='01/04/2007'\n",
    "#Cs137rf= datetime.datetime.strptime(Csrf,'%d/%m/%Y')\n",
    "#Actividad en uCi\n",
    "#AcCsrf= 190.1\n",
    "#Actividad en Bq [1/s]\n",
    "#AcCsrfbq= AcCsrf*ucibq\n",
    "\n",
    "\n",
    "### Lambda\n",
    "Lambdacsrf= np.log(2)/HLCs"
   ]
  },
  {
   "cell_type": "code",
   "execution_count": 5,
   "metadata": {
    "collapsed": true
   },
   "outputs": [],
   "source": [
    "################# Elapsed time ###############\n",
    "\n",
    "#data[\"Fecha\"][0]\n",
    "\n",
    "d = pd.to_datetime(data[\"Fecha\"],format='%m/%d/%y')\n",
    "###Cobalto 57\n",
    "timeE=(d-Co57)\n",
    "\n",
    "### Cesio 137\n",
    "#timeE=(d-Cs137)\n",
    "#timeE=(d-Cs137rf)"
   ]
  },
  {
   "cell_type": "code",
   "execution_count": 6,
   "metadata": {
    "collapsed": true
   },
   "outputs": [],
   "source": [
    "data['timeE']=timeE.dt.days.values"
   ]
  },
  {
   "cell_type": "code",
   "execution_count": 7,
   "metadata": {
    "collapsed": true
   },
   "outputs": [],
   "source": [
    "############# Expected Activity ###########\n",
    "#### Act =Act_oe^{-\\lambda t}\n",
    "\n",
    "###Cobalto 57\n",
    "Actco=AcCo*np.exp(-Lambdaco*data[\"timeE\"])*1000\n",
    "\n",
    "###Cesio 137\n",
    "#Actcs=AcCs*np.exp(-Lambdacs*data[\"timeE\"])"
   ]
  },
  {
   "cell_type": "code",
   "execution_count": 8,
   "metadata": {
    "collapsed": true
   },
   "outputs": [],
   "source": [
    "#### Cobalto 57\n",
    "data['EAct']=round(Actco,1)\n",
    "#### Cesio 137\n",
    "#data['EAct']=round(Actcs,1)"
   ]
  },
  {
   "cell_type": "code",
   "execution_count": 9,
   "metadata": {
    "collapsed": true
   },
   "outputs": [],
   "source": [
    "############# Acceptable Range of dose calibrator readings ###########\n",
    "\n",
    "### 10% ó 5%\n",
    "X=data['EAct']*(0.05)\n",
    "\n",
    "\n",
    "### Rango\n",
    "Rmin=np.round(data['EAct']-X,1)\n",
    "Rmax=np.round(data['EAct']+X,1)\n",
    "\n",
    "\n",
    "### Ingresar datos en el data \n",
    "data['Rmin']=Rmin\n",
    "data['Rmax']=Rmax"
   ]
  },
  {
   "cell_type": "code",
   "execution_count": 10,
   "metadata": {
    "collapsed": true
   },
   "outputs": [],
   "source": [
    "##Diferencia\n",
    "#perce=np.absolute(((data['EAct']-data['Actividad'])*100)/data['EAct'])\n",
    "perce=(-(data['EAct']-data['Actividad'])*100)/data['EAct']\n",
    "\n",
    "\n",
    "percent=round(perce,1)\n",
    "\n",
    "### Ingresar datos en el data \n",
    "data['percent']=percent\n",
    "#percent"
   ]
  },
  {
   "cell_type": "code",
   "execution_count": 11,
   "metadata": {
    "collapsed": true
   },
   "outputs": [],
   "source": [
    "razon=data['Actividad']/data['EAct']\n",
    "#razoninc=data['Incer']/data['EAct']\n",
    "data['razon']=round(razon,3)\n",
    "#data['razon'].head(10)"
   ]
  },
  {
   "cell_type": "code",
   "execution_count": 12,
   "metadata": {
    "collapsed": true
   },
   "outputs": [],
   "source": [
    "###### Diferencia entre datos\n",
    "diffajuste = data.AjustemV.diff()\n",
    "diffajuste.replace(np.nan, 0.0, inplace=True)\n",
    "data['Diffzero']=diffajuste"
   ]
  },
  {
   "cell_type": "code",
   "execution_count": 13,
   "metadata": {
    "collapsed": true
   },
   "outputs": [],
   "source": [
    "#df= pd.DataFrame({'AjustemV':data['AjustemV'],'Voltaje':data['Voltaje']})"
   ]
  },
  {
   "cell_type": "code",
   "execution_count": 14,
   "metadata": {
    "collapsed": true
   },
   "outputs": [],
   "source": [
    "#np.savetxt('datosdf.txt',df.values,delimiter=\" \",fmt='%s')"
   ]
  },
  {
   "cell_type": "code",
   "execution_count": 15,
   "metadata": {
    "collapsed": true
   },
   "outputs": [],
   "source": [
    "#datos= np.genfromtxt(\"datosdf.txt\")"
   ]
  },
  {
   "cell_type": "code",
   "execution_count": 16,
   "metadata": {
    "collapsed": true
   },
   "outputs": [],
   "source": [
    "#g=open('nuevasalida.txt','w')\n",
    "#g.write('Ajuste=[{0}] Voltaje=[{1}]'.format(datos[:,0],datos[:,1]))\n",
    "#g.close"
   ]
  },
  {
   "cell_type": "code",
   "execution_count": 17,
   "metadata": {
    "collapsed": true
   },
   "outputs": [],
   "source": [
    "#data.loc[(data['Fondo']<0.0) | (data['Fondo']>100.0)]= np.nan\n",
    "# simply drop whole row with NaN in \"Fondo\" column\n",
    "#data.dropna(subset=[\"Fondo\"], axis=0, inplace=True)\n",
    "data.loc[(data['Voltaje']<155.3)]= np.nan\n",
    "# simply drop whole row with NaN in \"Fondo\" column\n",
    "data.dropna(subset=[\"Voltaje\"], axis=0, inplace=True)"
   ]
  },
  {
   "cell_type": "code",
   "execution_count": 18,
   "metadata": {
    "collapsed": true
   },
   "outputs": [],
   "source": [
    "#z=np.array(data['Fondo'])\n",
    "#z"
   ]
  },
  {
   "cell_type": "code",
   "execution_count": 19,
   "metadata": {
    "collapsed": true
   },
   "outputs": [],
   "source": [
    "#np.savetxt('pruebamatlab.txt',z,delimiter=\" \",fmt='%s')"
   ]
  },
  {
   "cell_type": "code",
   "execution_count": 28,
   "metadata": {},
   "outputs": [
    {
     "data": {
      "text/plain": [
       "count    434.00000\n",
       "mean       0.98780\n",
       "std        0.02323\n",
       "min        0.92000\n",
       "25%        0.97800\n",
       "50%        0.98200\n",
       "75%        0.99900\n",
       "max        1.37800\n",
       "Name: razon, dtype: float64"
      ]
     },
     "execution_count": 28,
     "metadata": {},
     "output_type": "execute_result"
    }
   ],
   "source": [
    "data['razon'].describe()"
   ]
  },
  {
   "cell_type": "code",
   "execution_count": 29,
   "metadata": {
    "collapsed": true
   },
   "outputs": [],
   "source": [
    "### Agrupar datos \n",
    "y= data['razon'].values.reshape(62,7)"
   ]
  },
  {
   "cell_type": "code",
   "execution_count": 30,
   "metadata": {
    "collapsed": true
   },
   "outputs": [],
   "source": [
    "subgroup= pd.DataFrame(data=y)"
   ]
  },
  {
   "cell_type": "code",
   "execution_count": 31,
   "metadata": {
    "collapsed": true
   },
   "outputs": [],
   "source": [
    "# create headers list\n",
    "headers = [\"n1\",\"n2\",\"n3\",\"n4\",\"n5\",\"n6\",\"n7\"]\n",
    "subgroup.columns = headers"
   ]
  },
  {
   "cell_type": "code",
   "execution_count": 32,
   "metadata": {
    "collapsed": true
   },
   "outputs": [],
   "source": [
    "mean=subgroup[[\"n1\",\"n2\",\"n3\",\"n4\",\"n5\",\"n6\",\"n7\"]].mean(axis=1)\n",
    "subgroup['suma']= mean"
   ]
  },
  {
   "cell_type": "code",
   "execution_count": 33,
   "metadata": {
    "collapsed": true
   },
   "outputs": [],
   "source": [
    "std=subgroup[[\"n1\",\"n2\",\"n3\",\"n4\",\"n5\",\"n6\",\"n7\"]].std(axis=1)\n",
    "subgroup['std']= std"
   ]
  },
  {
   "cell_type": "code",
   "execution_count": 35,
   "metadata": {},
   "outputs": [
    {
     "data": {
      "text/plain": [
       "0.019847503941271036"
      ]
     },
     "execution_count": 35,
     "metadata": {},
     "output_type": "execute_result"
    }
   ],
   "source": [
    "subgroup['std'].std()"
   ]
  },
  {
   "cell_type": "markdown",
   "metadata": {},
   "source": [
    "####  Carta Xbar\n",
    "$$ UCL=\\bar{\\bar{x}}+\\frac{3\\bar{s}}{C_4\\sqrt{n}} $$\n",
    "$$ LCL=\\bar{\\bar{x}}-\\frac{3\\bar{s}}{C_4\\sqrt{n}} $$\n",
    "####  Carta S\n",
    "$$ UCLs=\\bar{s}+\\frac{3\\bar{s}\\sqrt{1-C_4^2}}{C_4} $$\n",
    "$$ LCLs=\\bar{s}+\\frac{3\\bar{s}\\sqrt{1-C_4^2}}{C_4} $$"
   ]
  },
  {
   "cell_type": "code",
   "execution_count": 41,
   "metadata": {
    "collapsed": true
   },
   "outputs": [],
   "source": [
    "gmean=subgroup['suma'].mean()\n",
    "gstd=subgroup['std'].std()\n",
    "#n=6\n",
    "#c4=0.9515\n",
    "#n=7\n",
    "c4=0.9594\n",
    "UCL=gmean+((3*gstd)/(c4*np.sqrt(7)))\n",
    "LCL=gmean-((3*gstd)/(c4*np.sqrt(7)))"
   ]
  },
  {
   "cell_type": "code",
   "execution_count": 44,
   "metadata": {
    "collapsed": true
   },
   "outputs": [],
   "source": [
    "##### Diffzero\n",
    "#USL=0.30\n",
    "#LSL=-0.30\n",
    "##### RAZON\n",
    "USL=1.05\n",
    "LSL=0.95\n",
    "target=1.00\n",
    "####### Voltaje\n",
    "#LSL=147.5\n",
    "#USL=163.1"
   ]
  },
  {
   "cell_type": "code",
   "execution_count": 45,
   "metadata": {},
   "outputs": [
    {
     "data": {
      "text/plain": [
       "Text(0.5,1,'Carta $\\\\bar{x}$ ')"
      ]
     },
     "execution_count": 45,
     "metadata": {},
     "output_type": "execute_result"
    },
    {
     "data": {
      "image/png": "[encoded data removed]",
      "text/plain": [
       "<Figure size 432x288 with 1 Axes>"
      ]
     },
     "metadata": {},
     "output_type": "display_data"
    }
   ],
   "source": [
    "plt.plot(subgroup['suma'],'ob-',label='Datos')\n",
    "#plt.plot((0,61),(USL,USL),'m',label='USL/LSL')\n",
    "#plt.plot((0,61),(LSL,LSL),'m')\n",
    "plt.plot((0,61),(target,target),'c--',label='Objetivo')\n",
    "plt.plot((0,61),(UCL,UCL),'r',label='UCL/LCL')\n",
    "plt.plot((0,61),(LCL,LCL),'r')\n",
    "plt.plot((0,61),(gmean,gmean),'g',label='Centro')\n",
    "plt.xlabel(r'Subgrupo')\n",
    "plt.ylabel(r'Razón')\n",
    "#plt.ylabel(r'Voltaje [V]')\n",
    "#plt.ylabel(r'Fondo [$\\mu$Ci]')\n",
    "#plt.ylabel(r'Ajuste [mV]')\n",
    "plt.legend(loc='upper left')\n",
    "plt.title(r'Carta $\\bar{x}$ ')\n",
    "#plt.savefig('ccajusxbartrmn.pdf')"
   ]
  },
  {
   "cell_type": "code",
   "execution_count": 197,
   "metadata": {},
   "outputs": [
    {
     "data": {
      "text/plain": [
       "6.4455282902577333e-05"
      ]
     },
     "execution_count": 197,
     "metadata": {},
     "output_type": "execute_result"
    }
   ],
   "source": [
    "UCLs=gstd+((3*gstd*np.sqrt(1-(c4**2)))/c4)\n",
    "LCLs=gstd-((3*gstd*np.sqrt(1-(c4**2)))/c4)\n",
    "LCLs"
   ]
  },
  {
   "cell_type": "code",
   "execution_count": 200,
   "metadata": {},
   "outputs": [
    {
     "data": {
      "image/png": "[encoded data removed]",
      "text/plain": [
       "<Figure size 432x288 with 1 Axes>"
      ]
     },
     "metadata": {},
     "output_type": "display_data"
    }
   ],
   "source": [
    "#plt.plot(subgroup['std'],'ob-',label='Datos')\n",
    "#plt.plot((0,61),(UCLs,UCLs),'r',label='UCL/LCL')\n",
    "#plt.plot((0,61),(LCLs,LCLs),'r')\n",
    "#plt.plot((0,61),(gstd,gstd),'g',label='Centro')\n",
    "#plt.xlabel(r'Subgrupo')\n",
    "#plt.ylabel(r'S')\n",
    "#plt.title(r'Carta S ')\n",
    "#plt.legend(loc='upper right')\n",
    "#plt.savefig('ccajusstrmn.pdf')"
   ]
  },
  {
   "cell_type": "code",
   "execution_count": 139,
   "metadata": {
    "collapsed": true
   },
   "outputs": [],
   "source": [
    "#plt.plot(data['Number'],data['percent'],'ob-')\n",
    "#plt.plot((0,350),(sigma3p,sigma3p))\n",
    "#plt.plot((0,350),(sigma3n,sigma3n))\n",
    "#plt.plot((0,350),(grandmean,grandmean))"
   ]
  },
  {
   "cell_type": "markdown",
   "metadata": {
    "collapsed": true
   },
   "source": [
    "#### Voltaje nominal CRC 55tR- MN: 155.3 V. 5% desviacion \n",
    "#plt.text(330, 155.5, 'Voltaje nominal 155.3',size=14)\n",
    "#plt.text(340, 148, 'Voltaje 5% 147.5',size=14)\n",
    "#plt.text(340, 162, 'Voltaje 5% 163.1',size=14)\n",
    "#plt.plot((0, 438),(147.5,147.5), 'k:', linewidth=2) \n",
    "#plt.plot((0, 438),(163.1,163.1), 'k:', linewidth=2)"
   ]
  },
  {
   "cell_type": "markdown",
   "metadata": {
    "collapsed": true
   },
   "source": [
    "### Estimación de la Fracción de no conformidad \n",
    "\n",
    "$$  \\sigma=\\frac{\\bar{s}}{C_4} $$"
   ]
  },
  {
   "cell_type": "markdown",
   "metadata": {},
   "source": [
    "$$  z1= \\frac{LSL-\\bar{\\bar{x}}}{\\sigma} \\;\\; \\; z2= \\frac{USL-\\bar{\\bar{x}}}{\\sigma}       $$\n",
    "\n",
    "$$ P(x<z1)+P(x>z2)  $$"
   ]
  },
  {
   "cell_type": "code",
   "execution_count": 47,
   "metadata": {},
   "outputs": [
    {
     "data": {
      "text/plain": [
       "0.020687412905223093"
      ]
     },
     "execution_count": 47,
     "metadata": {},
     "output_type": "execute_result"
    }
   ],
   "source": [
    "destd=gstd/c4\n",
    "destd"
   ]
  },
  {
   "cell_type": "code",
   "execution_count": 56,
   "metadata": {},
   "outputs": [],
   "source": [
    "z1=(LSL-gmean)/destd\n",
    "z2=(USL-gmean)/destd"
   ]
  },
  {
   "cell_type": "code",
   "execution_count": 58,
   "metadata": {},
   "outputs": [],
   "source": [
    "fractionNC=norm.cdf(z1)+(1-norm.cdf(z2))"
   ]
  },
  {
   "cell_type": "code",
   "execution_count": 59,
   "metadata": {},
   "outputs": [
    {
     "data": {
      "text/plain": [
       "3.5157256271386537"
      ]
     },
     "execution_count": 59,
     "metadata": {},
     "output_type": "execute_result"
    }
   ],
   "source": [
    "fractionNC*100"
   ]
  },
  {
   "cell_type": "markdown",
   "metadata": {},
   "source": [
    "One out of every 28 parts is likely to be out of specification"
   ]
  },
  {
   "cell_type": "code",
   "execution_count": 66,
   "metadata": {},
   "outputs": [
    {
     "data": {
      "text/plain": [
       "28.443630307233924"
      ]
     },
     "execution_count": 66,
     "metadata": {},
     "output_type": "execute_result"
    }
   ],
   "source": [
    "1/fractionNC"
   ]
  },
  {
   "cell_type": "markdown",
   "metadata": {},
   "source": [
    "### Indices de capacidad\n",
    "\n",
    "\n",
    "$$ C_p= \\frac{USL-LSL}{6\\sigma}  $$\n",
    "$$ C_{pk}=min\\left( \\frac{\\bar{\\bar{x}}-LSL}{3\\sigma},\\frac{USL-\\bar{\\bar{x}}}{3\\sigma}\\right) $$"
   ]
  },
  {
   "cell_type": "code",
   "execution_count": 89,
   "metadata": {},
   "outputs": [
    {
     "data": {
      "text/plain": [
       "0.8056428681064675"
      ]
     },
     "execution_count": 89,
     "metadata": {},
     "output_type": "execute_result"
    }
   ],
   "source": [
    "Cp=(USL-LSL)/(6*destd)\n",
    "Cp"
   ]
  },
  {
   "cell_type": "code",
   "execution_count": 92,
   "metadata": {},
   "outputs": [
    {
     "data": {
      "text/plain": [
       "0.8056428681064675"
      ]
     },
     "execution_count": 92,
     "metadata": {},
     "output_type": "execute_result"
    }
   ],
   "source": [
    "(1.0-LSL)/(3*destd)"
   ]
  },
  {
   "cell_type": "code",
   "execution_count": 93,
   "metadata": {},
   "outputs": [
    {
     "data": {
      "text/plain": [
       "0.8056428681064675"
      ]
     },
     "execution_count": 93,
     "metadata": {},
     "output_type": "execute_result"
    }
   ],
   "source": [
    "(USL-1.0)/(3*destd)"
   ]
  },
  {
   "cell_type": "markdown",
   "metadata": {},
   "source": [
    "### Average Run Length (ARL)"
   ]
  },
  {
   "cell_type": "code",
   "execution_count": 83,
   "metadata": {},
   "outputs": [
    {
     "data": {
      "text/plain": [
       "-3.000000000000004"
      ]
     },
     "execution_count": 83,
     "metadata": {},
     "output_type": "execute_result"
    }
   ],
   "source": [
    "(LCL-gmean)/(destd/np.sqrt(7))"
   ]
  },
  {
   "cell_type": "code",
   "execution_count": 84,
   "metadata": {},
   "outputs": [
    {
     "data": {
      "text/plain": [
       "2.9999999999999902"
      ]
     },
     "execution_count": 84,
     "metadata": {},
     "output_type": "execute_result"
    }
   ],
   "source": [
    "(UCL-gmean)/(destd/np.sqrt(7))"
   ]
  },
  {
   "cell_type": "code",
   "execution_count": 85,
   "metadata": {},
   "outputs": [
    {
     "data": {
      "text/plain": [
       "0.0026997960632601965"
      ]
     },
     "execution_count": 85,
     "metadata": {},
     "output_type": "execute_result"
    }
   ],
   "source": [
    "norm.cdf(-3.0) +(1-norm.cdf(3.0))"
   ]
  },
  {
   "cell_type": "code",
   "execution_count": 86,
   "metadata": {},
   "outputs": [
    {
     "data": {
      "text/plain": [
       "370.39834734495781"
      ]
     },
     "execution_count": 86,
     "metadata": {},
     "output_type": "execute_result"
    }
   ],
   "source": [
    "1/_"
   ]
  },
  {
   "cell_type": "code",
   "execution_count": null,
   "metadata": {
    "collapsed": true
   },
   "outputs": [],
   "source": []
  }
 ],
 "metadata": {
  "kernelspec": {
   "display_name": "Python 3",
   "language": "python",
   "name": "python3"
  },
  "language_info": {
   "codemirror_mode": {
    "name": "ipython",
    "version": 3
   },
   "file_extension": ".py",
   "mimetype": "text/x-python",
   "name": "python",
   "nbconvert_exporter": "python",
   "pygments_lexer": "ipython3",
   "version": "3.5.5"
  }
 },
 "nbformat": 4,
 "nbformat_minor": 2
}
