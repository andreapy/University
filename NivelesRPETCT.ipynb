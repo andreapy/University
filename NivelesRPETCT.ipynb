{
 "cells": [
  {
   "cell_type": "markdown",
   "metadata": {},
   "source": [
    "# Niveles de Referencia en  CT, Medicina Nuclear INC"
   ]
  },
  {
   "cell_type": "markdown",
   "metadata": {},
   "source": [
    "Elaborado por: Andrea Lizeth Lopez Rodriguez. Estudiante\n",
    "Dirigido por: Nathaly Barbosa, Física Médica de Medicina nuclear del INC    "
   ]
  },
  {
   "cell_type": "markdown",
   "metadata": {},
   "source": [
    "Inicialmente se importan los paquetes de Python que serán empleados en el análisis de los datos"
   ]
  },
  {
   "cell_type": "code",
   "execution_count": 11,
   "metadata": {},
   "outputs": [
    {
     "data": {
      "text/html": [
       "<div>\n",
       "<table border=\"1\" class=\"dataframe\">\n",
       "  <thead>\n",
       "    <tr style=\"text-align: right;\">\n",
       "      <th></th>\n",
       "      <th>CTDIvol</th>\n",
       "      <th>DLP</th>\n",
       "      <th>Tipo</th>\n",
       "      <th>EkV</th>\n",
       "      <th>EmA</th>\n",
       "      <th>skV</th>\n",
       "      <th>smA</th>\n",
       "    </tr>\n",
       "  </thead>\n",
       "  <tbody>\n",
       "    <tr>\n",
       "      <th>0</th>\n",
       "      <td>3.06</td>\n",
       "      <td>95.85</td>\n",
       "      <td>Pulmonar</td>\n",
       "      <td>100</td>\n",
       "      <td>100</td>\n",
       "      <td>100</td>\n",
       "      <td>10</td>\n",
       "    </tr>\n",
       "    <tr>\n",
       "      <th>1</th>\n",
       "      <td>2.46</td>\n",
       "      <td>81.52</td>\n",
       "      <td>Rastreo</td>\n",
       "      <td>100</td>\n",
       "      <td>120</td>\n",
       "      <td>80</td>\n",
       "      <td>10</td>\n",
       "    </tr>\n",
       "    <tr>\n",
       "      <th>2</th>\n",
       "      <td>1.54</td>\n",
       "      <td>133.66</td>\n",
       "      <td>OSEA</td>\n",
       "      <td>100</td>\n",
       "      <td>42</td>\n",
       "      <td>80</td>\n",
       "      <td>10</td>\n",
       "    </tr>\n",
       "    <tr>\n",
       "      <th>3</th>\n",
       "      <td>1.28</td>\n",
       "      <td>51.75</td>\n",
       "      <td>OSEA</td>\n",
       "      <td>100</td>\n",
       "      <td>40</td>\n",
       "      <td>80</td>\n",
       "      <td>10</td>\n",
       "    </tr>\n",
       "    <tr>\n",
       "      <th>4</th>\n",
       "      <td>1.61</td>\n",
       "      <td>124.08</td>\n",
       "      <td>OSEA</td>\n",
       "      <td>100</td>\n",
       "      <td>79</td>\n",
       "      <td>80</td>\n",
       "      <td>10</td>\n",
       "    </tr>\n",
       "  </tbody>\n",
       "</table>\n",
       "</div>"
      ],
      "text/plain": [
       "   CTDIvol     DLP      Tipo  EkV  EmA  skV  smA\n",
       "0     3.06   95.85  Pulmonar  100  100  100   10\n",
       "1     2.46   81.52   Rastreo  100  120   80   10\n",
       "2     1.54  133.66      OSEA  100   42   80   10\n",
       "3     1.28   51.75      OSEA  100   40   80   10\n",
       "4     1.61  124.08      OSEA  100   79   80   10"
      ]
     },
     "execution_count": 11,
     "metadata": {},
     "output_type": "execute_result"
    }
   ],
   "source": [
    "import seaborn as sns\n",
    "import numpy as np\n",
    "import pandas as pd\n",
    "import matplotlib.pyplot as plt\n",
    "\n",
    "%matplotlib inline\n",
    "\n",
    "\n",
    "##Archivo plano de texto, colocar los datos y los encabezados sin espacios \n",
    "#Para cargar los datos\n",
    "#data = pd.read_csv('DRLCT.txt', delim_whitespace =True)\n",
    "\n",
    "data = pd.read_csv('DRLSPECT.txt', delim_whitespace =True)\n",
    "\n",
    "#para ver los primeros datos\n",
    "data.head()"
   ]
  },
  {
   "cell_type": "code",
   "execution_count": 12,
   "metadata": {},
   "outputs": [
    {
     "data": {
      "text/plain": [
       "OSEA            89\n",
       "Rastreo         60\n",
       "Pulmonar        10\n",
       "Paratiroides     8\n",
       "Centinela        7\n",
       "ROLL             2\n",
       "MIBG             2\n",
       "HYNIC            2\n",
       "Tumoral          1\n",
       "Name: Tipo, dtype: int64"
      ]
     },
     "execution_count": 12,
     "metadata": {},
     "output_type": "execute_result"
    }
   ],
   "source": [
    "######Conteo de variables categoricas\n",
    "#data[\"Genero\"].value_counts()\n",
    "\n",
    "\n",
    "data[\"Tipo\"].value_counts()\n",
    "\n",
    "\n",
    "####GROUP BY in Python \n",
    "#data_test =data[['Tipo','DLP','CTDIvol']]\n",
    "#data_grp=data_test.groupby(['Protocolo'],as_index=False).median()\n",
    "#data_grp\n",
    "\n",
    "\n",
    "####Pandas Method- Pivot()\n",
    "\n",
    "#data_pivot=data_grp.pivot(index='Protocolo', columns='Genero')\n",
    "#data_pivot\n",
    "\n",
    "#####Heatmap\n",
    "#plt.pcolor(data_pivot,cmap='RdBu')\n",
    "#plt.colorbar()\n",
    "#plt.show\n",
    "\n",
    "#Filtrando datos por Genero \n",
    "#Masculino = ['M']\n",
    "#FEMENINO\n",
    "#data_femenino= data[~data.Genero.isin(Masculino)]\n",
    "#data_femenino.shape\n",
    "#MASCULINO\n",
    "#data_masculino=data[data.Genero.isin(Masculino)]\n",
    "#data_masculino.shape"
   ]
  },
  {
   "cell_type": "code",
   "execution_count": 16,
   "metadata": {},
   "outputs": [
    {
     "name": "stderr",
     "output_type": "stream",
     "text": [
      "/Users/Mila/anaconda/lib/python3.5/site-packages/matplotlib/axes/_axes.py:6462: UserWarning: The 'normed' kwarg is deprecated, and has been replaced by the 'density' kwarg.\n",
      "  warnings.warn(\"The 'normed' kwarg is deprecated, and has been \"\n"
     ]
    },
    {
     "data": {
      "text/html": [
       "<div>\n",
       "<table border=\"1\" class=\"dataframe\">\n",
       "  <thead>\n",
       "    <tr style=\"text-align: right;\">\n",
       "      <th></th>\n",
       "      <th>CTDIvol</th>\n",
       "      <th>DLP</th>\n",
       "      <th>Tipo</th>\n",
       "      <th>EkV</th>\n",
       "      <th>EmA</th>\n",
       "      <th>skV</th>\n",
       "      <th>smA</th>\n",
       "    </tr>\n",
       "  </thead>\n",
       "  <tbody>\n",
       "    <tr>\n",
       "      <th>count</th>\n",
       "      <td>89.000000</td>\n",
       "      <td>89.000000</td>\n",
       "      <td>89</td>\n",
       "      <td>89.000000</td>\n",
       "      <td>89.000000</td>\n",
       "      <td>89.000000</td>\n",
       "      <td>89.000000</td>\n",
       "    </tr>\n",
       "    <tr>\n",
       "      <th>unique</th>\n",
       "      <td>NaN</td>\n",
       "      <td>NaN</td>\n",
       "      <td>1</td>\n",
       "      <td>NaN</td>\n",
       "      <td>NaN</td>\n",
       "      <td>NaN</td>\n",
       "      <td>NaN</td>\n",
       "    </tr>\n",
       "    <tr>\n",
       "      <th>top</th>\n",
       "      <td>NaN</td>\n",
       "      <td>NaN</td>\n",
       "      <td>OSEA</td>\n",
       "      <td>NaN</td>\n",
       "      <td>NaN</td>\n",
       "      <td>NaN</td>\n",
       "      <td>NaN</td>\n",
       "    </tr>\n",
       "    <tr>\n",
       "      <th>freq</th>\n",
       "      <td>NaN</td>\n",
       "      <td>NaN</td>\n",
       "      <td>89</td>\n",
       "      <td>NaN</td>\n",
       "      <td>NaN</td>\n",
       "      <td>NaN</td>\n",
       "      <td>NaN</td>\n",
       "    </tr>\n",
       "    <tr>\n",
       "      <th>mean</th>\n",
       "      <td>2.344157</td>\n",
       "      <td>144.004270</td>\n",
       "      <td>NaN</td>\n",
       "      <td>105.168539</td>\n",
       "      <td>81.764045</td>\n",
       "      <td>81.797753</td>\n",
       "      <td>13.146067</td>\n",
       "    </tr>\n",
       "    <tr>\n",
       "      <th>std</th>\n",
       "      <td>1.732255</td>\n",
       "      <td>126.394799</td>\n",
       "      <td>NaN</td>\n",
       "      <td>8.805004</td>\n",
       "      <td>17.402339</td>\n",
       "      <td>8.334184</td>\n",
       "      <td>11.139151</td>\n",
       "    </tr>\n",
       "    <tr>\n",
       "      <th>min</th>\n",
       "      <td>1.180000</td>\n",
       "      <td>45.260000</td>\n",
       "      <td>NaN</td>\n",
       "      <td>100.000000</td>\n",
       "      <td>40.000000</td>\n",
       "      <td>80.000000</td>\n",
       "      <td>10.000000</td>\n",
       "    </tr>\n",
       "    <tr>\n",
       "      <th>25%</th>\n",
       "      <td>1.640000</td>\n",
       "      <td>74.110000</td>\n",
       "      <td>NaN</td>\n",
       "      <td>100.000000</td>\n",
       "      <td>79.000000</td>\n",
       "      <td>80.000000</td>\n",
       "      <td>10.000000</td>\n",
       "    </tr>\n",
       "    <tr>\n",
       "      <th>50%</th>\n",
       "      <td>1.640000</td>\n",
       "      <td>117.690000</td>\n",
       "      <td>NaN</td>\n",
       "      <td>100.000000</td>\n",
       "      <td>79.000000</td>\n",
       "      <td>80.000000</td>\n",
       "      <td>10.000000</td>\n",
       "    </tr>\n",
       "    <tr>\n",
       "      <th>75%</th>\n",
       "      <td>2.720000</td>\n",
       "      <td>151.380000</td>\n",
       "      <td>NaN</td>\n",
       "      <td>120.000000</td>\n",
       "      <td>79.000000</td>\n",
       "      <td>80.000000</td>\n",
       "      <td>10.000000</td>\n",
       "    </tr>\n",
       "    <tr>\n",
       "      <th>max</th>\n",
       "      <td>13.150000</td>\n",
       "      <td>894.840000</td>\n",
       "      <td>NaN</td>\n",
       "      <td>120.000000</td>\n",
       "      <td>110.000000</td>\n",
       "      <td>120.000000</td>\n",
       "      <td>110.000000</td>\n",
       "    </tr>\n",
       "  </tbody>\n",
       "</table>\n",
       "</div>"
      ],
      "text/plain": [
       "          CTDIvol         DLP  Tipo         EkV         EmA         skV  \\\n",
       "count   89.000000   89.000000    89   89.000000   89.000000   89.000000   \n",
       "unique        NaN         NaN     1         NaN         NaN         NaN   \n",
       "top           NaN         NaN  OSEA         NaN         NaN         NaN   \n",
       "freq          NaN         NaN    89         NaN         NaN         NaN   \n",
       "mean     2.344157  144.004270   NaN  105.168539   81.764045   81.797753   \n",
       "std      1.732255  126.394799   NaN    8.805004   17.402339    8.334184   \n",
       "min      1.180000   45.260000   NaN  100.000000   40.000000   80.000000   \n",
       "25%      1.640000   74.110000   NaN  100.000000   79.000000   80.000000   \n",
       "50%      1.640000  117.690000   NaN  100.000000   79.000000   80.000000   \n",
       "75%      2.720000  151.380000   NaN  120.000000   79.000000   80.000000   \n",
       "max     13.150000  894.840000   NaN  120.000000  110.000000  120.000000   \n",
       "\n",
       "               smA  \n",
       "count    89.000000  \n",
       "unique         NaN  \n",
       "top            NaN  \n",
       "freq           NaN  \n",
       "mean     13.146067  \n",
       "std      11.139151  \n",
       "min      10.000000  \n",
       "25%      10.000000  \n",
       "50%      10.000000  \n",
       "75%      10.000000  \n",
       "max     110.000000  "
      ]
     },
     "execution_count": 16,
     "metadata": {},
     "output_type": "execute_result"
    },
    {
     "data": {
      "image/png": "[encoded data removed]",
      "text/plain": [
       "<Figure size 432x288 with 1 Axes>"
      ]
     },
     "metadata": {},
     "output_type": "display_data"
    }
   ],
   "source": [
    "######################## OSEA ##############################\n",
    "\n",
    "is_CTWBf =  data['Tipo']=='OSEA'\n",
    "#is_CTWBf.head()\n",
    "data_CTWBf=data[is_CTWBf]\n",
    "#data_CTWBf.shape\n",
    "###Masculino\n",
    "#is_CTWBm =  data_masculino['Protocolo']=='CTWB'\n",
    "#data_CTWBm=data_masculino[is_CTWBm]\n",
    "#data_CTWBm.shape\n",
    "\n",
    "###Carga de paquete de estadística (ajustes)\n",
    "from scipy import stats\n",
    "\n",
    "sns.distplot(data_CTWBf['DLP'],kde=False,color='b')\n",
    "plt.title('CT G. OSEA')\n",
    "plt.xlabel('DLP [mGy cm]')\n",
    "plt.ylabel('Número de Pacientes')\n",
    "\n",
    "plt.savefig('SPECTOSEA.pdf')\n",
    "data_CTWBf.describe(include=\"all\")\n",
    "\n",
    "\n",
    "######### CTWBPED #####\n",
    "#is_CTWBPEDf =  data_femenino['Protocolo']=='CTWBPED'\n",
    "#data_CTWBPEDf=data_femenino[is_CTWBPEDf]\n",
    "#data_CTWBPEDf.shape\n",
    "\n",
    "#is_CTWBPEDm =  data_masculino['Protocolo']=='CTWBPED'\n",
    "#data_CTWBPEDm=data_masculino[is_CTWBPEDm]\n",
    "#data_CTWBPEDm.shape\n",
    "\n",
    "######### CTWBOBESO #####\n",
    "#is_CTWBOBESOf =  data_femenino['Protocolo']=='CTWBOBESO'\n",
    "#data_CTWBOBESOf=data_femenino[is_CTWBOBESOf]\n",
    "#data_CTWBOBESOf.shape\n",
    "\n",
    "#is_CTWBOBESOm =  data_masculino['Protocolo']=='CTWBOBESO'\n",
    "#data_CTWBOBESOm=data_masculino[is_CTWBOBESOm]\n",
    "#data_CTWBOBESOm.shape\n",
    "\n"
   ]
  },
  {
   "cell_type": "code",
   "execution_count": 15,
   "metadata": {},
   "outputs": [
    {
     "data": {
      "text/plain": [
       "<matplotlib.axes._subplots.AxesSubplot at 0x1a18a7be48>"
      ]
     },
     "execution_count": 15,
     "metadata": {},
     "output_type": "execute_result"
    },
    {
     "data": {
      "image/png": "[encoded data removed]",
      "text/plain": [
       "<Figure size 432x288 with 1 Axes>"
      ]
     },
     "metadata": {},
     "output_type": "display_data"
    }
   ],
   "source": [
    "sns.boxplot(x=\"Tipo\", y=\"DLP\", data=data_CTWBf)"
   ]
  },
  {
   "cell_type": "code",
   "execution_count": 34,
   "metadata": {},
   "outputs": [
    {
     "name": "stderr",
     "output_type": "stream",
     "text": [
      "/Users/Mila/anaconda/lib/python3.5/site-packages/matplotlib/axes/_axes.py:6462: UserWarning: The 'normed' kwarg is deprecated, and has been replaced by the 'density' kwarg.\n",
      "  warnings.warn(\"The 'normed' kwarg is deprecated, and has been \"\n"
     ]
    },
    {
     "data": {
      "text/plain": [
       "Text(0,0.5,'Número de Pacientes')"
      ]
     },
     "execution_count": 34,
     "metadata": {},
     "output_type": "execute_result"
    },
    {
     "data": {
      "image/png": "[encoded data removed]",
      "text/plain": [
       "<Figure size 432x288 with 1 Axes>"
      ]
     },
     "metadata": {},
     "output_type": "display_data"
    }
   ],
   "source": [
    "sns.distplot(data_CTWBf['CTDIvol'],kde=False,color='b')\n",
    "plt.title('CT G. OSEA')\n",
    "plt.xlabel('CTDIvol [mGy]')\n",
    "plt.ylabel('Número de Pacientes')"
   ]
  },
  {
   "cell_type": "code",
   "execution_count": 35,
   "metadata": {},
   "outputs": [
    {
     "data": {
      "text/plain": [
       "<matplotlib.axes._subplots.AxesSubplot at 0x1a188c70b8>"
      ]
     },
     "execution_count": 35,
     "metadata": {},
     "output_type": "execute_result"
    },
    {
     "data": {
      "image/png": "[encoded data removed]",
      "text/plain": [
       "<Figure size 432x288 with 1 Axes>"
      ]
     },
     "metadata": {},
     "output_type": "display_data"
    }
   ],
   "source": [
    "sns.boxplot(x=\"Tipo\", y=\"CTDIvol\", data=data_CTWBf)"
   ]
  },
  {
   "cell_type": "code",
   "execution_count": 21,
   "metadata": {},
   "outputs": [
    {
     "name": "stderr",
     "output_type": "stream",
     "text": [
      "/Users/Mila/anaconda/lib/python3.5/site-packages/matplotlib/axes/_axes.py:6462: UserWarning: The 'normed' kwarg is deprecated, and has been replaced by the 'density' kwarg.\n",
      "  warnings.warn(\"The 'normed' kwarg is deprecated, and has been \"\n"
     ]
    },
    {
     "data": {
      "text/html": [
       "<div>\n",
       "<table border=\"1\" class=\"dataframe\">\n",
       "  <thead>\n",
       "    <tr style=\"text-align: right;\">\n",
       "      <th></th>\n",
       "      <th>CTDIvol</th>\n",
       "      <th>DLP</th>\n",
       "      <th>EkV</th>\n",
       "      <th>EmA</th>\n",
       "      <th>skV</th>\n",
       "      <th>smA</th>\n",
       "    </tr>\n",
       "  </thead>\n",
       "  <tbody>\n",
       "    <tr>\n",
       "      <th>count</th>\n",
       "      <td>60.000000</td>\n",
       "      <td>60.000000</td>\n",
       "      <td>60.000000</td>\n",
       "      <td>60.000000</td>\n",
       "      <td>60.000000</td>\n",
       "      <td>60.000000</td>\n",
       "    </tr>\n",
       "    <tr>\n",
       "      <th>mean</th>\n",
       "      <td>2.673167</td>\n",
       "      <td>113.422500</td>\n",
       "      <td>100.666667</td>\n",
       "      <td>117.183333</td>\n",
       "      <td>80.666667</td>\n",
       "      <td>11.333333</td>\n",
       "    </tr>\n",
       "    <tr>\n",
       "      <th>std</th>\n",
       "      <td>1.655974</td>\n",
       "      <td>72.366488</td>\n",
       "      <td>7.333847</td>\n",
       "      <td>10.153887</td>\n",
       "      <td>3.620407</td>\n",
       "      <td>3.428033</td>\n",
       "    </tr>\n",
       "    <tr>\n",
       "      <th>min</th>\n",
       "      <td>1.070000</td>\n",
       "      <td>54.520000</td>\n",
       "      <td>80.000000</td>\n",
       "      <td>74.000000</td>\n",
       "      <td>80.000000</td>\n",
       "      <td>10.000000</td>\n",
       "    </tr>\n",
       "    <tr>\n",
       "      <th>25%</th>\n",
       "      <td>2.460000</td>\n",
       "      <td>78.840000</td>\n",
       "      <td>100.000000</td>\n",
       "      <td>120.000000</td>\n",
       "      <td>80.000000</td>\n",
       "      <td>10.000000</td>\n",
       "    </tr>\n",
       "    <tr>\n",
       "      <th>50%</th>\n",
       "      <td>2.460000</td>\n",
       "      <td>96.105000</td>\n",
       "      <td>100.000000</td>\n",
       "      <td>120.000000</td>\n",
       "      <td>80.000000</td>\n",
       "      <td>10.000000</td>\n",
       "    </tr>\n",
       "    <tr>\n",
       "      <th>75%</th>\n",
       "      <td>2.460000</td>\n",
       "      <td>116.275000</td>\n",
       "      <td>100.000000</td>\n",
       "      <td>120.000000</td>\n",
       "      <td>80.000000</td>\n",
       "      <td>10.000000</td>\n",
       "    </tr>\n",
       "    <tr>\n",
       "      <th>max</th>\n",
       "      <td>14.800000</td>\n",
       "      <td>552.880000</td>\n",
       "      <td>120.000000</td>\n",
       "      <td>149.000000</td>\n",
       "      <td>100.000000</td>\n",
       "      <td>20.000000</td>\n",
       "    </tr>\n",
       "  </tbody>\n",
       "</table>\n",
       "</div>"
      ],
      "text/plain": [
       "         CTDIvol         DLP         EkV         EmA         skV        smA\n",
       "count  60.000000   60.000000   60.000000   60.000000   60.000000  60.000000\n",
       "mean    2.673167  113.422500  100.666667  117.183333   80.666667  11.333333\n",
       "std     1.655974   72.366488    7.333847   10.153887    3.620407   3.428033\n",
       "min     1.070000   54.520000   80.000000   74.000000   80.000000  10.000000\n",
       "25%     2.460000   78.840000  100.000000  120.000000   80.000000  10.000000\n",
       "50%     2.460000   96.105000  100.000000  120.000000   80.000000  10.000000\n",
       "75%     2.460000  116.275000  100.000000  120.000000   80.000000  10.000000\n",
       "max    14.800000  552.880000  120.000000  149.000000  100.000000  20.000000"
      ]
     },
     "execution_count": 21,
     "metadata": {},
     "output_type": "execute_result"
    },
    {
     "data": {
      "image/png": "[encoded data removed]",
      "text/plain": [
       "<Figure size 432x288 with 1 Axes>"
      ]
     },
     "metadata": {},
     "output_type": "display_data"
    }
   ],
   "source": [
    "######################## RASTREO ##############################\n",
    "\n",
    "######### CTABD #####\n",
    "#is_CTABDf =  data_femenino['Protocolo']=='CTABD'\n",
    "#data_CTABDf=data_femenino[is_CTABDf]\n",
    "#data_CTABDf.shape\n",
    "\n",
    "#is_CTABDm =  data_masculino['Protocolo']=='CTABD'\n",
    "#data_CTABDm=data_masculino[is_CTABDm]\n",
    "#data_CTABDm.shape\n",
    "\n",
    "######### CTABDPELVI #####\n",
    "#is_CTABDPELVIf =  data_femenino['Protocolo']=='CTABDPELVI'\n",
    "#data_CTABDPELVIf=data_femenino[is_CTABDPELVIf]\n",
    "#data_CTABDPELVIf.shape\n",
    "\n",
    "is_CTABDPELVIm =  data['Tipo']=='Rastreo'\n",
    "data_CTABDPELVIm=data[is_CTABDPELVIm]\n",
    "#data_CTABDPELVIm.shape\n",
    "\n",
    "sns.distplot(data_CTABDPELVIm['DLP'],bins=4,kde=False,color='b')\n",
    "plt.title('CT RASTREO')\n",
    "plt.xlabel('DLP [mGy cm]')\n",
    "plt.ylabel('Número de Pacientes')\n",
    "\n",
    "plt.savefig('SPECTRASTREO.pdf')\n",
    "data_CTABDPELVIm.describe()\n",
    "\n"
   ]
  },
  {
   "cell_type": "code",
   "execution_count": 20,
   "metadata": {},
   "outputs": [
    {
     "data": {
      "text/plain": [
       "<matplotlib.axes._subplots.AxesSubplot at 0x1a18cd5518>"
      ]
     },
     "execution_count": 20,
     "metadata": {},
     "output_type": "execute_result"
    },
    {
     "data": {
      "image/png": "[encoded data removed]",
      "text/plain": [
       "<Figure size 432x288 with 1 Axes>"
      ]
     },
     "metadata": {},
     "output_type": "display_data"
    }
   ],
   "source": [
    "sns.boxplot(x=\"Tipo\", y=\"DLP\", data=data_CTABDPELVIm)"
   ]
  },
  {
   "cell_type": "code",
   "execution_count": 36,
   "metadata": {},
   "outputs": [
    {
     "name": "stderr",
     "output_type": "stream",
     "text": [
      "/Users/Mila/anaconda/lib/python3.5/site-packages/matplotlib/axes/_axes.py:6462: UserWarning: The 'normed' kwarg is deprecated, and has been replaced by the 'density' kwarg.\n",
      "  warnings.warn(\"The 'normed' kwarg is deprecated, and has been \"\n"
     ]
    },
    {
     "data": {
      "text/plain": [
       "Text(0,0.5,'Número de Pacientes')"
      ]
     },
     "execution_count": 36,
     "metadata": {},
     "output_type": "execute_result"
    },
    {
     "data": {
      "image/png": "[encoded data removed]",
      "text/plain": [
       "<Figure size 432x288 with 1 Axes>"
      ]
     },
     "metadata": {},
     "output_type": "display_data"
    }
   ],
   "source": [
    "sns.distplot(data_CTABDPELVIm['CTDIvol'],bins=4,kde=False,color='b')\n",
    "plt.title('CT RASTREO')\n",
    "plt.xlabel('CTDIvol [mGy]')\n",
    "plt.ylabel('Número de Pacientes')"
   ]
  },
  {
   "cell_type": "code",
   "execution_count": 37,
   "metadata": {},
   "outputs": [
    {
     "data": {
      "text/plain": [
       "<matplotlib.axes._subplots.AxesSubplot at 0x1a187bafd0>"
      ]
     },
     "execution_count": 37,
     "metadata": {},
     "output_type": "execute_result"
    },
    {
     "data": {
      "image/png": "[encoded data removed]",
      "text/plain": [
       "<Figure size 432x288 with 1 Axes>"
      ]
     },
     "metadata": {},
     "output_type": "display_data"
    }
   ],
   "source": [
    "sns.boxplot(x=\"Tipo\", y=\"CTDIvol\", data=data_CTABDPELVIm)"
   ]
  },
  {
   "cell_type": "code",
   "execution_count": 34,
   "metadata": {},
   "outputs": [
    {
     "data": {
      "text/plain": [
       "(5, 7)"
      ]
     },
     "execution_count": 34,
     "metadata": {},
     "output_type": "execute_result"
    }
   ],
   "source": [
    "######################## CTCYC Y CTCEREBRO ##############################\n",
    "\n",
    "######### CTCYC #####\n",
    "#is_CTCYCf =  data_femenino['Protocolo']=='CTCYC'\n",
    "#data_CTCYCf=data_femenino[is_CTCYCf]\n",
    "#data_CTCYCf.shape\n",
    "\n",
    "#is_CTCYCm =  data_masculino['Protocolo']=='CTCYC'\n",
    "#data_CTCYCm=data_masculino[is_CTCYCm]\n",
    "#data_CTCYCm.shape\n",
    "\n",
    "######### CTCEREBRO #####\n",
    "#is_CTCEREBROf =  data_femenino['Protocolo']=='CTCEREBRO'\n",
    "#data_CTCEREBROf=data_femenino[is_CTCEREBROf]\n",
    "#data_CTCEREBROf.shape\n",
    "\n",
    "#is_CTCEREBROm =  data_masculino['Protocolo']=='CTCEREBRO'\n",
    "#data_CTCEREBROm=data_masculino[is_CTCEREBROm]\n",
    "#data_CTCEREBROm.shape"
   ]
  },
  {
   "cell_type": "markdown",
   "metadata": {},
   "source": [
    "# ADULTO "
   ]
  },
  {
   "cell_type": "code",
   "execution_count": 22,
   "metadata": {},
   "outputs": [],
   "source": [
    "##### CTWB ######\n",
    "#from scipy import stats\n",
    "#is_CTWB =  data['Protocolo']=='CTWB'\n",
    "#data_CTWB=data[is_CTWB]\n",
    "#data_CTWB.shape\n",
    "#data_CTWB.head()\n",
    "#data_CTWB.describe()"
   ]
  },
  {
   "cell_type": "markdown",
   "metadata": {},
   "source": [
    "Donde se presenta en orden el número de datos (count), su promedio (mean), su desviación estandar (std), el valor máximo (max) y el mínimo en cada columna de datos. Adicionalmente se muestra el percentil 25 (25 %), 50 (50 %) y 75 (75 %). Donde el percentil 25 indica que el 25% de los datos tienen un valor menor o igual al reportado. Entonces el percentil 50, hace referencia a la mediana de los datos :)"
   ]
  },
  {
   "cell_type": "markdown",
   "metadata": {},
   "source": [
    "### Histograma CT WB"
   ]
  },
  {
   "cell_type": "code",
   "execution_count": 23,
   "metadata": {},
   "outputs": [],
   "source": [
    "#sns.distplot(data_CTWB['CTDIvol'],kde=False,color='b')\n",
    "\n",
    "### Decoración del histograma\n",
    "#plt.title('CT Cuerpo Completo Adulto')\n",
    "#plt.xlabel('CTDIvol [mGy]')\n",
    "#plt.ylabel('Frecuencia')"
   ]
  },
  {
   "cell_type": "code",
   "execution_count": 24,
   "metadata": {},
   "outputs": [],
   "source": [
    "######################## CTABDPELVI ##############################\n",
    "\n",
    "######### CTABDPELVI #####\n",
    "#is_CTABDPELVI =  data['Protocolo']=='CTABDPELVI'\n",
    "#data_CTABDPELVI=data[is_CTABDPELVI]\n",
    "#data_CTABDPELVI.shape\n",
    "#data_CTABDPELVI.head()\n",
    "#data_CTABDPELVI.describe()"
   ]
  },
  {
   "cell_type": "code",
   "execution_count": 25,
   "metadata": {},
   "outputs": [],
   "source": [
    "#sns.distplot(data_CTABDPELVI['CTDIvol'],bins= 11,kde=False,color='b')\n",
    "\n",
    "### Decoración del histograma\n",
    "#plt.title('CT Abdomen y Pelvis Adulto')\n",
    "#plt.xlabel('CTDIvol[mGy]')\n",
    "#plt.ylabel('Frecuencia')"
   ]
  },
  {
   "cell_type": "code",
   "execution_count": 26,
   "metadata": {},
   "outputs": [],
   "source": [
    "######################## CTCYC ##############################\n",
    "\n",
    "######### CTCYC #####\n",
    "#is_CTCYC =  data['Protocolo']=='CTCYC'\n",
    "#data_CTCYC=data[is_CTCYC]\n",
    "#data_CTCYC.shape\n",
    "#data_CTCYC.head()\n",
    "#data_CTCYC.describe()"
   ]
  },
  {
   "cell_type": "code",
   "execution_count": 27,
   "metadata": {},
   "outputs": [],
   "source": [
    "#sns.distplot(data_CTCYC['DLP'],kde=False,color='b')\n",
    "\n",
    "### Decoración del histograma\n",
    "#plt.title('Todos')\n",
    "#plt.xlabel('DLP [mGy cm]')\n",
    "#plt.ylabel('Frecuencia')"
   ]
  },
  {
   "cell_type": "code",
   "execution_count": 28,
   "metadata": {},
   "outputs": [],
   "source": [
    "######### CTCEREBRO #####\n",
    "#is_CTCEREBRO =  data['Protocolo']=='CTCEREBRO'\n",
    "#data_CTCEREBRO=data[is_CTCEREBRO]\n",
    "#data_CTCEREBRO.shape\n",
    "#data_CTCEREBRO.head()\n",
    "#data_CTCEREBRO.describe()"
   ]
  },
  {
   "cell_type": "code",
   "execution_count": 29,
   "metadata": {},
   "outputs": [],
   "source": [
    "#Para cargar los datos\n",
    "#dato = pd.read_csv('DRLSPECT.txt', delim_whitespace =True)\n",
    "\n",
    "#para ver los primeros datos\n",
    "#dato.head()"
   ]
  },
  {
   "cell_type": "code",
   "execution_count": 30,
   "metadata": {},
   "outputs": [],
   "source": [
    "#is_OSEA =  dato['ESTUDIO']=='OSEA'\n",
    "#dato_OSEA=dato[is_OSEA]\n",
    "#data_CTWB.shape\n",
    "#data_CTWB.head()\n",
    "#dato_OSEA.describe()"
   ]
  },
  {
   "cell_type": "code",
   "execution_count": 31,
   "metadata": {},
   "outputs": [],
   "source": [
    "#is_RASTREO =  dato['ESTUDIO']=='RASTREO'\n",
    "#dato_RASTREO=dato[is_RASTREO]\n",
    "#data_CTWB.shape\n",
    "#data_CTWB.head()\n",
    "#dato_RASTREO.describe()"
   ]
  },
  {
   "cell_type": "code",
   "execution_count": 32,
   "metadata": {},
   "outputs": [],
   "source": [
    "#sns.distplot(dato_OSEA['CTDIvol'],kde=False,color='b')\n",
    "\n",
    "### Decoración del histograma\n",
    "#plt.title('Todos')\n",
    "#plt.xlabel('CTDIvol [mGy]')\n",
    "#plt.ylabel('Frecuencia')"
   ]
  },
  {
   "cell_type": "code",
   "execution_count": 33,
   "metadata": {},
   "outputs": [],
   "source": [
    "#sns.distplot(dato_RASTREO['CTDIvol'],kde=False,color='b')\n",
    "\n",
    "### Decoración del histograma\n",
    "#plt.title('Todos')\n",
    "#plt.xlabel('CTDIvol [mGy]')\n",
    "#plt.ylabel('Frecuencia')"
   ]
  },
  {
   "cell_type": "code",
   "execution_count": null,
   "metadata": {
    "collapsed": true
   },
   "outputs": [],
   "source": []
  },
  {
   "cell_type": "code",
   "execution_count": null,
   "metadata": {
    "collapsed": true
   },
   "outputs": [],
   "source": []
  }
 ],
 "metadata": {
  "kernelspec": {
   "display_name": "Python 3",
   "language": "python",
   "name": "python3"
  }
 },
 "nbformat": 4,
 "nbformat_minor": 2
}
