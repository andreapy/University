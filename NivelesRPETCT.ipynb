{
 "cells": [
  {
   "cell_type": "markdown",
   "metadata": {},
   "source": [
    "# Niveles de Referencia en  CT, Medicina Nuclear INC"
   ]
  },
  {
   "cell_type": "markdown",
   "metadata": {},
   "source": [
    "Elaborado por: Andrea Lizeth Lopez Rodriguez. Estudiante\n",
    "Dirigido por: Nathaly Barbosa, Física Médica de Medicina nuclear del INC    "
   ]
  },
  {
   "cell_type": "markdown",
   "metadata": {},
   "source": [
    "Inicialmente se importan los paquetes de Python que serán empleados en el análisis de los datos"
   ]
  },
  {
   "cell_type": "code",
   "execution_count": 11,
   "metadata": {},
   "outputs": [
    {
     "data": {
      "text/html": [
       "<div>\n",
       "<table border=\"1\" class=\"dataframe\">\n",
       "  <thead>\n",
       "    <tr style=\"text-align: right;\">\n",
       "      <th></th>\n",
       "      <th>CTDIvol</th>\n",
       "      <th>DLP</th>\n",
       "      <th>Tipo</th>\n",
       "      <th>EkV</th>\n",
       "      <th>EmA</th>\n",
       "      <th>skV</th>\n",
       "      <th>smA</th>\n",
       "    </tr>\n",
       "  </thead>\n",
       "  <tbody>\n",
       "    <tr>\n",
       "      <th>0</th>\n",
       "      <td>3.06</td>\n",
       "      <td>95.85</td>\n",
       "      <td>Pulmonar</td>\n",
       "      <td>100</td>\n",
       "      <td>100</td>\n",
       "      <td>100</td>\n",
       "      <td>10</td>\n",
       "    </tr>\n",
       "    <tr>\n",
       "      <th>1</th>\n",
       "      <td>2.46</td>\n",
       "      <td>81.52</td>\n",
       "      <td>Rastreo</td>\n",
       "      <td>100</td>\n",
       "      <td>120</td>\n",
       "      <td>80</td>\n",
       "      <td>10</td>\n",
       "    </tr>\n",
       "    <tr>\n",
       "      <th>2</th>\n",
       "      <td>1.54</td>\n",
       "      <td>133.66</td>\n",
       "      <td>OSEA</td>\n",
       "      <td>100</td>\n",
       "      <td>42</td>\n",
       "      <td>80</td>\n",
       "      <td>10</td>\n",
       "    </tr>\n",
       "    <tr>\n",
       "      <th>3</th>\n",
       "      <td>1.28</td>\n",
       "      <td>51.75</td>\n",
       "      <td>OSEA</td>\n",
       "      <td>100</td>\n",
       "      <td>40</td>\n",
       "      <td>80</td>\n",
       "      <td>10</td>\n",
       "    </tr>\n",
       "    <tr>\n",
       "      <th>4</th>\n",
       "      <td>1.61</td>\n",
       "      <td>124.08</td>\n",
       "      <td>OSEA</td>\n",
       "      <td>100</td>\n",
       "      <td>79</td>\n",
       "      <td>80</td>\n",
       "      <td>10</td>\n",
       "    </tr>\n",
       "  </tbody>\n",
       "</table>\n",
       "</div>"
      ],
      "text/plain": [
       "   CTDIvol     DLP      Tipo  EkV  EmA  skV  smA\n",
       "0     3.06   95.85  Pulmonar  100  100  100   10\n",
       "1     2.46   81.52   Rastreo  100  120   80   10\n",
       "2     1.54  133.66      OSEA  100   42   80   10\n",
       "3     1.28   51.75      OSEA  100   40   80   10\n",
       "4     1.61  124.08      OSEA  100   79   80   10"
      ]
     },
     "execution_count": 11,
     "metadata": {},
     "output_type": "execute_result"
    }
   ],
   "source": [
    "import seaborn as sns\n",
    "import numpy as np\n",
    "import pandas as pd\n",
    "import matplotlib.pyplot as plt\n",
    "\n",
    "%matplotlib inline\n",
    "\n",
    "\n",
    "##Archivo plano de texto, colocar los datos y los encabezados sin espacios \n",
    "#Para cargar los datos\n",
    "#data = pd.read_csv('DRLCT.txt', delim_whitespace =True)\n",
    "\n",
    "data = pd.read_csv('DRLSPECT.txt', delim_whitespace =True)\n",
    "\n",
    "#para ver los primeros datos\n",
    "data.head()"
   ]
  },
  {
   "cell_type": "code",
   "execution_count": 12,
   "metadata": {},
   "outputs": [
    {
     "data": {
      "text/plain": [
       "OSEA            89\n",
       "Rastreo         60\n",
       "Pulmonar        10\n",
       "Paratiroides     8\n",
       "Centinela        7\n",
       "ROLL             2\n",
       "MIBG             2\n",
       "HYNIC            2\n",
       "Tumoral          1\n",
       "Name: Tipo, dtype: int64"
      ]
     },
     "execution_count": 12,
     "metadata": {},
     "output_type": "execute_result"
    }
   ],
   "source": [
    "######Conteo de variables categoricas\n",
    "#data[\"Genero\"].value_counts()\n",
    "\n",
    "\n",
    "data[\"Tipo\"].value_counts()\n",
    "\n",
    "\n",
    "####GROUP BY in Python \n",
    "#data_test =data[['Tipo','DLP','CTDIvol']]\n",
    "#data_grp=data_test.groupby(['Protocolo'],as_index=False).median()\n",
    "#data_grp\n",
    "\n",
    "\n",
    "####Pandas Method- Pivot()\n",
    "\n",
    "#data_pivot=data_grp.pivot(index='Protocolo', columns='Genero')\n",
    "#data_pivot\n",
    "\n",
    "#####Heatmap\n",
    "#plt.pcolor(data_pivot,cmap='RdBu')\n",
    "#plt.colorbar()\n",
    "#plt.show\n",
    "\n",
    "#Filtrando datos por Genero \n",
    "#Masculino = ['M']\n",
    "#FEMENINO\n",
    "#data_femenino= data[~data.Genero.isin(Masculino)]\n",
    "#data_femenino.shape\n",
    "#MASCULINO\n",
    "#data_masculino=data[data.Genero.isin(Masculino)]\n",
    "#data_masculino.shape"
   ]
  },
  {
   "cell_type": "code",
   "execution_count": 14,
   "metadata": {},
   "outputs": [
    {
     "name": "stderr",
     "output_type": "stream",
     "text": [
      "/Users/Mila/anaconda/lib/python3.5/site-packages/matplotlib/axes/_axes.py:6462: UserWarning: The 'normed' kwarg is deprecated, and has been replaced by the 'density' kwarg.\n",
      "  warnings.warn(\"The 'normed' kwarg is deprecated, and has been \"\n"
     ]
    },
    {
     "data": {
      "text/html": [
       "<div>\n",
       "<table border=\"1\" class=\"dataframe\">\n",
       "  <thead>\n",
       "    <tr style=\"text-align: right;\">\n",
       "      <th></th>\n",
       "      <th>CTDIvol</th>\n",
       "      <th>DLP</th>\n",
       "      <th>Tipo</th>\n",
       "      <th>EkV</th>\n",
       "      <th>EmA</th>\n",
       "      <th>skV</th>\n",
       "      <th>smA</th>\n",
       "    </tr>\n",
       "  </thead>\n",
       "  <tbody>\n",
       "    <tr>\n",
       "      <th>count</th>\n",
       "      <td>89.000000</td>\n",
       "      <td>89.000000</td>\n",
       "      <td>89</td>\n",
       "      <td>89.000000</td>\n",
       "      <td>89.000000</td>\n",
       "      <td>89.000000</td>\n",
       "      <td>89.000000</td>\n",
       "    </tr>\n",
       "    <tr>\n",
       "      <th>unique</th>\n",
       "      <td>NaN</td>\n",
       "      <td>NaN</td>\n",
       "      <td>1</td>\n",
       "      <td>NaN</td>\n",
       "      <td>NaN</td>\n",
       "      <td>NaN</td>\n",
       "      <td>NaN</td>\n",
       "    </tr>\n",
       "    <tr>\n",
       "      <th>top</th>\n",
       "      <td>NaN</td>\n",
       "      <td>NaN</td>\n",
       "      <td>OSEA</td>\n",
       "      <td>NaN</td>\n",
       "      <td>NaN</td>\n",
       "      <td>NaN</td>\n",
       "      <td>NaN</td>\n",
       "    </tr>\n",
       "    <tr>\n",
       "      <th>freq</th>\n",
       "      <td>NaN</td>\n",
       "      <td>NaN</td>\n",
       "      <td>89</td>\n",
       "      <td>NaN</td>\n",
       "      <td>NaN</td>\n",
       "      <td>NaN</td>\n",
       "      <td>NaN</td>\n",
       "    </tr>\n",
       "    <tr>\n",
       "      <th>mean</th>\n",
       "      <td>2.344157</td>\n",
       "      <td>144.004270</td>\n",
       "      <td>NaN</td>\n",
       "      <td>105.168539</td>\n",
       "      <td>81.764045</td>\n",
       "      <td>81.797753</td>\n",
       "      <td>13.146067</td>\n",
       "    </tr>\n",
       "    <tr>\n",
       "      <th>std</th>\n",
       "      <td>1.732255</td>\n",
       "      <td>126.394799</td>\n",
       "      <td>NaN</td>\n",
       "      <td>8.805004</td>\n",
       "      <td>17.402339</td>\n",
       "      <td>8.334184</td>\n",
       "      <td>11.139151</td>\n",
       "    </tr>\n",
       "    <tr>\n",
       "      <th>min</th>\n",
       "      <td>1.180000</td>\n",
       "      <td>45.260000</td>\n",
       "      <td>NaN</td>\n",
       "      <td>100.000000</td>\n",
       "      <td>40.000000</td>\n",
       "      <td>80.000000</td>\n",
       "      <td>10.000000</td>\n",
       "    </tr>\n",
       "    <tr>\n",
       "      <th>25%</th>\n",
       "      <td>1.640000</td>\n",
       "      <td>74.110000</td>\n",
       "      <td>NaN</td>\n",
       "      <td>100.000000</td>\n",
       "      <td>79.000000</td>\n",
       "      <td>80.000000</td>\n",
       "      <td>10.000000</td>\n",
       "    </tr>\n",
       "    <tr>\n",
       "      <th>50%</th>\n",
       "      <td>1.640000</td>\n",
       "      <td>117.690000</td>\n",
       "      <td>NaN</td>\n",
       "      <td>100.000000</td>\n",
       "      <td>79.000000</td>\n",
       "      <td>80.000000</td>\n",
       "      <td>10.000000</td>\n",
       "    </tr>\n",
       "    <tr>\n",
       "      <th>75%</th>\n",
       "      <td>2.720000</td>\n",
       "      <td>151.380000</td>\n",
       "      <td>NaN</td>\n",
       "      <td>120.000000</td>\n",
       "      <td>79.000000</td>\n",
       "      <td>80.000000</td>\n",
       "      <td>10.000000</td>\n",
       "    </tr>\n",
       "    <tr>\n",
       "      <th>max</th>\n",
       "      <td>13.150000</td>\n",
       "      <td>894.840000</td>\n",
       "      <td>NaN</td>\n",
       "      <td>120.000000</td>\n",
       "      <td>110.000000</td>\n",
       "      <td>120.000000</td>\n",
       "      <td>110.000000</td>\n",
       "    </tr>\n",
       "  </tbody>\n",
       "</table>\n",
       "</div>"
      ],
      "text/plain": [
       "          CTDIvol         DLP  Tipo         EkV         EmA         skV  \\\n",
       "count   89.000000   89.000000    89   89.000000   89.000000   89.000000   \n",
       "unique        NaN         NaN     1         NaN         NaN         NaN   \n",
       "top           NaN         NaN  OSEA         NaN         NaN         NaN   \n",
       "freq          NaN         NaN    89         NaN         NaN         NaN   \n",
       "mean     2.344157  144.004270   NaN  105.168539   81.764045   81.797753   \n",
       "std      1.732255  126.394799   NaN    8.805004   17.402339    8.334184   \n",
       "min      1.180000   45.260000   NaN  100.000000   40.000000   80.000000   \n",
       "25%      1.640000   74.110000   NaN  100.000000   79.000000   80.000000   \n",
       "50%      1.640000  117.690000   NaN  100.000000   79.000000   80.000000   \n",
       "75%      2.720000  151.380000   NaN  120.000000   79.000000   80.000000   \n",
       "max     13.150000  894.840000   NaN  120.000000  110.000000  120.000000   \n",
       "\n",
       "               smA  \n",
       "count    89.000000  \n",
       "unique         NaN  \n",
       "top            NaN  \n",
       "freq           NaN  \n",
       "mean     13.146067  \n",
       "std      11.139151  \n",
       "min      10.000000  \n",
       "25%      10.000000  \n",
       "50%      10.000000  \n",
       "75%      10.000000  \n",
       "max     110.000000  "
      ]
     },
     "execution_count": 14,
     "metadata": {},
     "output_type": "execute_result"
    },
    {
     "data": {
      "image/png": "[encoded data removed]",
      "text/plain": [
       "<Figure size 432x288 with 1 Axes>"
      ]
     },
     "metadata": {},
     "output_type": "display_data"
    }
   ],
   "source": [
    "######################## CTWB ##############################\n",
    "\n",
    "is_CTWBf =  data['Tipo']=='OSEA'\n",
    "#is_CTWBf.head()\n",
    "data_CTWBf=data[is_CTWBf]\n",
    "#data_CTWBf.shape\n",
    "###Masculino\n",
    "#is_CTWBm =  data_masculino['Protocolo']=='CTWB'\n",
    "#data_CTWBm=data_masculino[is_CTWBm]\n",
    "#data_CTWBm.shape\n",
    "\n",
    "###Carga de paquete de estadística (ajustes)\n",
    "from scipy import stats\n",
    "\n",
    "sns.distplot(data_CTWBf['DLP'],kde=False,color='b')\n",
    "plt.title('CT G. OSEA')\n",
    "plt.xlabel('DLP [mGy cm]')\n",
    "plt.ylabel('Número de Pacientes')\n",
    "data_CTWBf.describe(include=\"all\")\n",
    "\n",
    "\n",
    "######### CTWBPED #####\n",
    "#is_CTWBPEDf =  data_femenino['Protocolo']=='CTWBPED'\n",
    "#data_CTWBPEDf=data_femenino[is_CTWBPEDf]\n",
    "#data_CTWBPEDf.shape\n",
    "\n",
    "#is_CTWBPEDm =  data_masculino['Protocolo']=='CTWBPED'\n",
    "#data_CTWBPEDm=data_masculino[is_CTWBPEDm]\n",
    "#data_CTWBPEDm.shape\n",
    "\n",
    "######### CTWBOBESO #####\n",
    "#is_CTWBOBESOf =  data_femenino['Protocolo']=='CTWBOBESO'\n",
    "#data_CTWBOBESOf=data_femenino[is_CTWBOBESOf]\n",
    "#data_CTWBOBESOf.shape\n",
    "\n",
    "#is_CTWBOBESOm =  data_masculino['Protocolo']=='CTWBOBESO'\n",
    "#data_CTWBOBESOm=data_masculino[is_CTWBOBESOm]\n",
    "#data_CTWBOBESOm.shape\n",
    "\n"
   ]
  },
  {
   "cell_type": "code",
   "execution_count": 15,
   "metadata": {},
   "outputs": [
    {
     "data": {
      "text/plain": [
       "<matplotlib.axes._subplots.AxesSubplot at 0x1a18a7be48>"
      ]
     },
     "execution_count": 15,
     "metadata": {},
     "output_type": "execute_result"
    },
    {
     "data": {
      "image/png": "[encoded data removed]",
      "text/plain": [
       "<Figure size 432x288 with 1 Axes>"
      ]
     },
     "metadata": {},
     "output_type": "display_data"
    }
   ],
   "source": [
    "sns.boxplot(x=\"Tipo\", y=\"DLP\", data=data_CTWBf)"
   ]
  },
  {
   "cell_type": "code",
   "execution_count": 76,
   "metadata": {},
   "outputs": [
    {
     "data": {
      "text/html": [
       "<div>\n",
       "<table border=\"1\" class=\"dataframe\">\n",
       "  <thead>\n",
       "    <tr style=\"text-align: right;\">\n",
       "      <th></th>\n",
       "      <th>KV</th>\n",
       "      <th>mAs</th>\n",
       "      <th>ref</th>\n",
       "      <th>CTDIvol</th>\n",
       "      <th>DLP</th>\n",
       "    </tr>\n",
       "  </thead>\n",
       "  <tbody>\n",
       "    <tr>\n",
       "      <th>count</th>\n",
       "      <td>14.000000</td>\n",
       "      <td>14.000000</td>\n",
       "      <td>14.000000</td>\n",
       "      <td>14.000000</td>\n",
       "      <td>14.000000</td>\n",
       "    </tr>\n",
       "    <tr>\n",
       "      <th>mean</th>\n",
       "      <td>121.428571</td>\n",
       "      <td>48.928571</td>\n",
       "      <td>81.928571</td>\n",
       "      <td>2.928571</td>\n",
       "      <td>137.857143</td>\n",
       "    </tr>\n",
       "    <tr>\n",
       "      <th>std</th>\n",
       "      <td>5.345225</td>\n",
       "      <td>11.750380</td>\n",
       "      <td>7.216054</td>\n",
       "      <td>0.916875</td>\n",
       "      <td>58.783641</td>\n",
       "    </tr>\n",
       "    <tr>\n",
       "      <th>min</th>\n",
       "      <td>120.000000</td>\n",
       "      <td>34.000000</td>\n",
       "      <td>80.000000</td>\n",
       "      <td>2.000000</td>\n",
       "      <td>70.000000</td>\n",
       "    </tr>\n",
       "    <tr>\n",
       "      <th>25%</th>\n",
       "      <td>120.000000</td>\n",
       "      <td>38.500000</td>\n",
       "      <td>80.000000</td>\n",
       "      <td>2.000000</td>\n",
       "      <td>94.000000</td>\n",
       "    </tr>\n",
       "    <tr>\n",
       "      <th>50%</th>\n",
       "      <td>120.000000</td>\n",
       "      <td>46.000000</td>\n",
       "      <td>80.000000</td>\n",
       "      <td>3.000000</td>\n",
       "      <td>122.500000</td>\n",
       "    </tr>\n",
       "    <tr>\n",
       "      <th>75%</th>\n",
       "      <td>120.000000</td>\n",
       "      <td>58.750000</td>\n",
       "      <td>80.000000</td>\n",
       "      <td>4.000000</td>\n",
       "      <td>187.000000</td>\n",
       "    </tr>\n",
       "    <tr>\n",
       "      <th>max</th>\n",
       "      <td>140.000000</td>\n",
       "      <td>69.000000</td>\n",
       "      <td>107.000000</td>\n",
       "      <td>4.000000</td>\n",
       "      <td>234.000000</td>\n",
       "    </tr>\n",
       "  </tbody>\n",
       "</table>\n",
       "</div>"
      ],
      "text/plain": [
       "               KV        mAs         ref    CTDIvol         DLP\n",
       "count   14.000000  14.000000   14.000000  14.000000   14.000000\n",
       "mean   121.428571  48.928571   81.928571   2.928571  137.857143\n",
       "std      5.345225  11.750380    7.216054   0.916875   58.783641\n",
       "min    120.000000  34.000000   80.000000   2.000000   70.000000\n",
       "25%    120.000000  38.500000   80.000000   2.000000   94.000000\n",
       "50%    120.000000  46.000000   80.000000   3.000000  122.500000\n",
       "75%    120.000000  58.750000   80.000000   4.000000  187.000000\n",
       "max    140.000000  69.000000  107.000000   4.000000  234.000000"
      ]
     },
     "execution_count": 76,
     "metadata": {},
     "output_type": "execute_result"
    },
    {
     "data": {
      "image/png": "[encoded data removed]",
      "text/plain": [
       "<matplotlib.figure.Figure at 0x1a1ecc2d68>"
      ]
     },
     "metadata": {},
     "output_type": "display_data"
    }
   ],
   "source": [
    "######################## CTABD Y CTABDPELVI ##############################\n",
    "\n",
    "######### CTABD #####\n",
    "#is_CTABDf =  data_femenino['Protocolo']=='CTABD'\n",
    "#data_CTABDf=data_femenino[is_CTABDf]\n",
    "#data_CTABDf.shape\n",
    "\n",
    "#is_CTABDm =  data_masculino['Protocolo']=='CTABD'\n",
    "#data_CTABDm=data_masculino[is_CTABDm]\n",
    "#data_CTABDm.shape\n",
    "\n",
    "######### CTABDPELVI #####\n",
    "#is_CTABDPELVIf =  data_femenino['Protocolo']=='CTABDPELVI'\n",
    "#data_CTABDPELVIf=data_femenino[is_CTABDPELVIf]\n",
    "#data_CTABDPELVIf.shape\n",
    "\n",
    "is_CTABDPELVIm =  data_masculino['Protocolo']=='CTABDPELVI'\n",
    "data_CTABDPELVIm=data_masculino[is_CTABDPELVIm]\n",
    "#data_CTABDPELVIm.shape\n",
    "\n",
    "sns.distplot(data_CTABDPELVIm['DLP'],bins=4,kde=False,color='b')\n",
    "plt.title('CT Abdomen y Pelvis M')\n",
    "plt.xlabel('DLP [mGy cm]')\n",
    "plt.ylabel('Frecuencia')\n",
    "data_CTABDPELVIm.describe()\n",
    "\n"
   ]
  },
  {
   "cell_type": "code",
   "execution_count": 34,
   "metadata": {},
   "outputs": [
    {
     "data": {
      "text/plain": [
       "(5, 7)"
      ]
     },
     "execution_count": 34,
     "metadata": {},
     "output_type": "execute_result"
    }
   ],
   "source": [
    "######################## CTCYC Y CTCEREBRO ##############################\n",
    "\n",
    "######### CTCYC #####\n",
    "#is_CTCYCf =  data_femenino['Protocolo']=='CTCYC'\n",
    "#data_CTCYCf=data_femenino[is_CTCYCf]\n",
    "#data_CTCYCf.shape\n",
    "\n",
    "#is_CTCYCm =  data_masculino['Protocolo']=='CTCYC'\n",
    "#data_CTCYCm=data_masculino[is_CTCYCm]\n",
    "#data_CTCYCm.shape\n",
    "\n",
    "######### CTCEREBRO #####\n",
    "#is_CTCEREBROf =  data_femenino['Protocolo']=='CTCEREBRO'\n",
    "#data_CTCEREBROf=data_femenino[is_CTCEREBROf]\n",
    "#data_CTCEREBROf.shape\n",
    "\n",
    "#is_CTCEREBROm =  data_masculino['Protocolo']=='CTCEREBRO'\n",
    "#data_CTCEREBROm=data_masculino[is_CTCEREBROm]\n",
    "#data_CTCEREBROm.shape"
   ]
  },
  {
   "cell_type": "markdown",
   "metadata": {},
   "source": [
    "# ADULTO "
   ]
  },
  {
   "cell_type": "code",
   "execution_count": 85,
   "metadata": {},
   "outputs": [
    {
     "data": {
      "text/html": [
       "<div>\n",
       "<table border=\"1\" class=\"dataframe\">\n",
       "  <thead>\n",
       "    <tr style=\"text-align: right;\">\n",
       "      <th></th>\n",
       "      <th>KV</th>\n",
       "      <th>mAs</th>\n",
       "      <th>ref</th>\n",
       "      <th>CTDIvol</th>\n",
       "      <th>DLP</th>\n",
       "    </tr>\n",
       "  </thead>\n",
       "  <tbody>\n",
       "    <tr>\n",
       "      <th>count</th>\n",
       "      <td>430.0</td>\n",
       "      <td>430.000000</td>\n",
       "      <td>430.000000</td>\n",
       "      <td>430.000000</td>\n",
       "      <td>430.000000</td>\n",
       "    </tr>\n",
       "    <tr>\n",
       "      <th>mean</th>\n",
       "      <td>120.0</td>\n",
       "      <td>60.151163</td>\n",
       "      <td>99.581395</td>\n",
       "      <td>3.537209</td>\n",
       "      <td>382.404651</td>\n",
       "    </tr>\n",
       "    <tr>\n",
       "      <th>std</th>\n",
       "      <td>0.0</td>\n",
       "      <td>13.233529</td>\n",
       "      <td>6.130791</td>\n",
       "      <td>0.929828</td>\n",
       "      <td>115.762956</td>\n",
       "    </tr>\n",
       "    <tr>\n",
       "      <th>min</th>\n",
       "      <td>120.0</td>\n",
       "      <td>26.000000</td>\n",
       "      <td>10.000000</td>\n",
       "      <td>1.000000</td>\n",
       "      <td>82.000000</td>\n",
       "    </tr>\n",
       "    <tr>\n",
       "      <th>25%</th>\n",
       "      <td>120.0</td>\n",
       "      <td>51.000000</td>\n",
       "      <td>100.000000</td>\n",
       "      <td>3.000000</td>\n",
       "      <td>281.000000</td>\n",
       "    </tr>\n",
       "    <tr>\n",
       "      <th>50%</th>\n",
       "      <td>120.0</td>\n",
       "      <td>59.000000</td>\n",
       "      <td>100.000000</td>\n",
       "      <td>3.000000</td>\n",
       "      <td>375.000000</td>\n",
       "    </tr>\n",
       "    <tr>\n",
       "      <th>75%</th>\n",
       "      <td>120.0</td>\n",
       "      <td>69.000000</td>\n",
       "      <td>100.000000</td>\n",
       "      <td>4.000000</td>\n",
       "      <td>469.000000</td>\n",
       "    </tr>\n",
       "    <tr>\n",
       "      <th>max</th>\n",
       "      <td>120.0</td>\n",
       "      <td>105.000000</td>\n",
       "      <td>100.000000</td>\n",
       "      <td>7.000000</td>\n",
       "      <td>787.000000</td>\n",
       "    </tr>\n",
       "  </tbody>\n",
       "</table>\n",
       "</div>"
      ],
      "text/plain": [
       "          KV         mAs         ref     CTDIvol         DLP\n",
       "count  430.0  430.000000  430.000000  430.000000  430.000000\n",
       "mean   120.0   60.151163   99.581395    3.537209  382.404651\n",
       "std      0.0   13.233529    6.130791    0.929828  115.762956\n",
       "min    120.0   26.000000   10.000000    1.000000   82.000000\n",
       "25%    120.0   51.000000  100.000000    3.000000  281.000000\n",
       "50%    120.0   59.000000  100.000000    3.000000  375.000000\n",
       "75%    120.0   69.000000  100.000000    4.000000  469.000000\n",
       "max    120.0  105.000000  100.000000    7.000000  787.000000"
      ]
     },
     "execution_count": 85,
     "metadata": {},
     "output_type": "execute_result"
    }
   ],
   "source": [
    "##### CTWB ######\n",
    "from scipy import stats\n",
    "is_CTWB =  data['Protocolo']=='CTWB'\n",
    "data_CTWB=data[is_CTWB]\n",
    "#data_CTWB.shape\n",
    "#data_CTWB.head()\n",
    "data_CTWB.describe()"
   ]
  },
  {
   "cell_type": "markdown",
   "metadata": {},
   "source": [
    "Donde se presenta en orden el número de datos (count), su promedio (mean), su desviación estandar (std), el valor máximo (max) y el mínimo en cada columna de datos. Adicionalmente se muestra el percentil 25 (25 %), 50 (50 %) y 75 (75 %). Donde el percentil 25 indica que el 25% de los datos tienen un valor menor o igual al reportado. Entonces el percentil 50, hace referencia a la mediana de los datos :)"
   ]
  },
  {
   "cell_type": "markdown",
   "metadata": {},
   "source": [
    "### Histograma CT WB"
   ]
  },
  {
   "cell_type": "code",
   "execution_count": 86,
   "metadata": {},
   "outputs": [
    {
     "data": {
      "text/plain": [
       "<matplotlib.text.Text at 0x1a1eccd198>"
      ]
     },
     "execution_count": 86,
     "metadata": {},
     "output_type": "execute_result"
    },
    {
     "data": {
      "image/png": "[encoded data removed]",
      "text/plain": [
       "<matplotlib.figure.Figure at 0x1a1f085be0>"
      ]
     },
     "metadata": {},
     "output_type": "display_data"
    }
   ],
   "source": [
    "sns.distplot(data_CTWB['CTDIvol'],kde=False,color='b')\n",
    "\n",
    "### Decoración del histograma\n",
    "plt.title('CT Cuerpo Completo Adulto')\n",
    "plt.xlabel('CTDIvol [mGy]')\n",
    "plt.ylabel('Frecuencia')"
   ]
  },
  {
   "cell_type": "code",
   "execution_count": 87,
   "metadata": {},
   "outputs": [
    {
     "data": {
      "text/html": [
       "<div>\n",
       "<table border=\"1\" class=\"dataframe\">\n",
       "  <thead>\n",
       "    <tr style=\"text-align: right;\">\n",
       "      <th></th>\n",
       "      <th>KV</th>\n",
       "      <th>mAs</th>\n",
       "      <th>ref</th>\n",
       "      <th>CTDIvol</th>\n",
       "      <th>DLP</th>\n",
       "    </tr>\n",
       "  </thead>\n",
       "  <tbody>\n",
       "    <tr>\n",
       "      <th>count</th>\n",
       "      <td>34.000000</td>\n",
       "      <td>34.000000</td>\n",
       "      <td>34.000000</td>\n",
       "      <td>34.000000</td>\n",
       "      <td>34.000000</td>\n",
       "    </tr>\n",
       "    <tr>\n",
       "      <th>mean</th>\n",
       "      <td>120.588235</td>\n",
       "      <td>51.029412</td>\n",
       "      <td>80.794118</td>\n",
       "      <td>3.000000</td>\n",
       "      <td>132.058824</td>\n",
       "    </tr>\n",
       "    <tr>\n",
       "      <th>std</th>\n",
       "      <td>3.429972</td>\n",
       "      <td>12.671814</td>\n",
       "      <td>4.630462</td>\n",
       "      <td>0.984732</td>\n",
       "      <td>48.283218</td>\n",
       "    </tr>\n",
       "    <tr>\n",
       "      <th>min</th>\n",
       "      <td>120.000000</td>\n",
       "      <td>29.000000</td>\n",
       "      <td>80.000000</td>\n",
       "      <td>1.000000</td>\n",
       "      <td>35.000000</td>\n",
       "    </tr>\n",
       "    <tr>\n",
       "      <th>25%</th>\n",
       "      <td>120.000000</td>\n",
       "      <td>43.000000</td>\n",
       "      <td>80.000000</td>\n",
       "      <td>2.000000</td>\n",
       "      <td>94.000000</td>\n",
       "    </tr>\n",
       "    <tr>\n",
       "      <th>50%</th>\n",
       "      <td>120.000000</td>\n",
       "      <td>49.500000</td>\n",
       "      <td>80.000000</td>\n",
       "      <td>3.000000</td>\n",
       "      <td>140.000000</td>\n",
       "    </tr>\n",
       "    <tr>\n",
       "      <th>75%</th>\n",
       "      <td>120.000000</td>\n",
       "      <td>60.000000</td>\n",
       "      <td>80.000000</td>\n",
       "      <td>4.000000</td>\n",
       "      <td>175.750000</td>\n",
       "    </tr>\n",
       "    <tr>\n",
       "      <th>max</th>\n",
       "      <td>140.000000</td>\n",
       "      <td>82.000000</td>\n",
       "      <td>107.000000</td>\n",
       "      <td>5.000000</td>\n",
       "      <td>234.000000</td>\n",
       "    </tr>\n",
       "  </tbody>\n",
       "</table>\n",
       "</div>"
      ],
      "text/plain": [
       "               KV        mAs         ref    CTDIvol         DLP\n",
       "count   34.000000  34.000000   34.000000  34.000000   34.000000\n",
       "mean   120.588235  51.029412   80.794118   3.000000  132.058824\n",
       "std      3.429972  12.671814    4.630462   0.984732   48.283218\n",
       "min    120.000000  29.000000   80.000000   1.000000   35.000000\n",
       "25%    120.000000  43.000000   80.000000   2.000000   94.000000\n",
       "50%    120.000000  49.500000   80.000000   3.000000  140.000000\n",
       "75%    120.000000  60.000000   80.000000   4.000000  175.750000\n",
       "max    140.000000  82.000000  107.000000   5.000000  234.000000"
      ]
     },
     "execution_count": 87,
     "metadata": {},
     "output_type": "execute_result"
    }
   ],
   "source": [
    "######################## CTABDPELVI ##############################\n",
    "\n",
    "######### CTABDPELVI #####\n",
    "is_CTABDPELVI =  data['Protocolo']=='CTABDPELVI'\n",
    "data_CTABDPELVI=data[is_CTABDPELVI]\n",
    "#data_CTABDPELVI.shape\n",
    "#data_CTABDPELVI.head()\n",
    "data_CTABDPELVI.describe()"
   ]
  },
  {
   "cell_type": "code",
   "execution_count": 99,
   "metadata": {},
   "outputs": [
    {
     "data": {
      "text/plain": [
       "<matplotlib.text.Text at 0x1a1faa9668>"
      ]
     },
     "execution_count": 99,
     "metadata": {},
     "output_type": "execute_result"
    },
    {
     "data": {
      "image/png": "[encoded data removed]",
      "text/plain": [
       "<matplotlib.figure.Figure at 0x1a1fa0b080>"
      ]
     },
     "metadata": {},
     "output_type": "display_data"
    }
   ],
   "source": [
    "sns.distplot(data_CTABDPELVI['CTDIvol'],bins= 11,kde=False,color='b')\n",
    "\n",
    "### Decoración del histograma\n",
    "plt.title('CT Abdomen y Pelvis Adulto')\n",
    "plt.xlabel('CTDIvol[mGy]')\n",
    "plt.ylabel('Frecuencia')"
   ]
  },
  {
   "cell_type": "code",
   "execution_count": 58,
   "metadata": {},
   "outputs": [
    {
     "data": {
      "text/html": [
       "<div>\n",
       "<table border=\"1\" class=\"dataframe\">\n",
       "  <thead>\n",
       "    <tr style=\"text-align: right;\">\n",
       "      <th></th>\n",
       "      <th>KV</th>\n",
       "      <th>mAs</th>\n",
       "      <th>ref</th>\n",
       "      <th>CTDIvol</th>\n",
       "      <th>DLP</th>\n",
       "    </tr>\n",
       "  </thead>\n",
       "  <tbody>\n",
       "    <tr>\n",
       "      <th>count</th>\n",
       "      <td>47.0</td>\n",
       "      <td>47.0</td>\n",
       "      <td>47.0</td>\n",
       "      <td>47.0</td>\n",
       "      <td>47.000000</td>\n",
       "    </tr>\n",
       "    <tr>\n",
       "      <th>mean</th>\n",
       "      <td>120.0</td>\n",
       "      <td>170.0</td>\n",
       "      <td>0.0</td>\n",
       "      <td>11.0</td>\n",
       "      <td>431.872340</td>\n",
       "    </tr>\n",
       "    <tr>\n",
       "      <th>std</th>\n",
       "      <td>0.0</td>\n",
       "      <td>0.0</td>\n",
       "      <td>0.0</td>\n",
       "      <td>0.0</td>\n",
       "      <td>65.182559</td>\n",
       "    </tr>\n",
       "    <tr>\n",
       "      <th>min</th>\n",
       "      <td>120.0</td>\n",
       "      <td>170.0</td>\n",
       "      <td>0.0</td>\n",
       "      <td>11.0</td>\n",
       "      <td>366.000000</td>\n",
       "    </tr>\n",
       "    <tr>\n",
       "      <th>25%</th>\n",
       "      <td>120.0</td>\n",
       "      <td>170.0</td>\n",
       "      <td>0.0</td>\n",
       "      <td>11.0</td>\n",
       "      <td>366.000000</td>\n",
       "    </tr>\n",
       "    <tr>\n",
       "      <th>50%</th>\n",
       "      <td>120.0</td>\n",
       "      <td>170.0</td>\n",
       "      <td>0.0</td>\n",
       "      <td>11.0</td>\n",
       "      <td>495.000000</td>\n",
       "    </tr>\n",
       "    <tr>\n",
       "      <th>75%</th>\n",
       "      <td>120.0</td>\n",
       "      <td>170.0</td>\n",
       "      <td>0.0</td>\n",
       "      <td>11.0</td>\n",
       "      <td>495.000000</td>\n",
       "    </tr>\n",
       "    <tr>\n",
       "      <th>max</th>\n",
       "      <td>120.0</td>\n",
       "      <td>170.0</td>\n",
       "      <td>0.0</td>\n",
       "      <td>11.0</td>\n",
       "      <td>495.000000</td>\n",
       "    </tr>\n",
       "  </tbody>\n",
       "</table>\n",
       "</div>"
      ],
      "text/plain": [
       "          KV    mAs   ref  CTDIvol         DLP\n",
       "count   47.0   47.0  47.0     47.0   47.000000\n",
       "mean   120.0  170.0   0.0     11.0  431.872340\n",
       "std      0.0    0.0   0.0      0.0   65.182559\n",
       "min    120.0  170.0   0.0     11.0  366.000000\n",
       "25%    120.0  170.0   0.0     11.0  366.000000\n",
       "50%    120.0  170.0   0.0     11.0  495.000000\n",
       "75%    120.0  170.0   0.0     11.0  495.000000\n",
       "max    120.0  170.0   0.0     11.0  495.000000"
      ]
     },
     "execution_count": 58,
     "metadata": {},
     "output_type": "execute_result"
    }
   ],
   "source": [
    "######################## CTCYC ##############################\n",
    "\n",
    "######### CTCYC #####\n",
    "is_CTCYC =  data['Protocolo']=='CTCYC'\n",
    "data_CTCYC=data[is_CTCYC]\n",
    "#data_CTCYC.shape\n",
    "#data_CTCYC.head()\n",
    "data_CTCYC.describe()"
   ]
  },
  {
   "cell_type": "code",
   "execution_count": 63,
   "metadata": {},
   "outputs": [
    {
     "data": {
      "text/plain": [
       "<matplotlib.text.Text at 0x1a1e4cc0b8>"
      ]
     },
     "execution_count": 63,
     "metadata": {},
     "output_type": "execute_result"
    },
    {
     "data": {
      "image/png": "[encoded data removed]",
      "text/plain": [
       "<matplotlib.figure.Figure at 0x1a1e4a7908>"
      ]
     },
     "metadata": {},
     "output_type": "display_data"
    }
   ],
   "source": [
    "sns.distplot(data_CTCYC['DLP'],kde=False,color='b')\n",
    "\n",
    "### Decoración del histograma\n",
    "#plt.title('Todos')\n",
    "plt.xlabel('DLP [mGy cm]')\n",
    "plt.ylabel('Frecuencia')"
   ]
  },
  {
   "cell_type": "code",
   "execution_count": 66,
   "metadata": {},
   "outputs": [
    {
     "data": {
      "text/html": [
       "<div>\n",
       "<table border=\"1\" class=\"dataframe\">\n",
       "  <thead>\n",
       "    <tr style=\"text-align: right;\">\n",
       "      <th></th>\n",
       "      <th>KV</th>\n",
       "      <th>mAs</th>\n",
       "      <th>ref</th>\n",
       "      <th>CTDIvol</th>\n",
       "      <th>DLP</th>\n",
       "    </tr>\n",
       "  </thead>\n",
       "  <tbody>\n",
       "    <tr>\n",
       "      <th>count</th>\n",
       "      <td>10.0</td>\n",
       "      <td>10.0</td>\n",
       "      <td>10.0</td>\n",
       "      <td>10.0</td>\n",
       "      <td>10.0</td>\n",
       "    </tr>\n",
       "    <tr>\n",
       "      <th>mean</th>\n",
       "      <td>120.0</td>\n",
       "      <td>170.0</td>\n",
       "      <td>0.0</td>\n",
       "      <td>11.0</td>\n",
       "      <td>256.0</td>\n",
       "    </tr>\n",
       "    <tr>\n",
       "      <th>std</th>\n",
       "      <td>0.0</td>\n",
       "      <td>0.0</td>\n",
       "      <td>0.0</td>\n",
       "      <td>0.0</td>\n",
       "      <td>0.0</td>\n",
       "    </tr>\n",
       "    <tr>\n",
       "      <th>min</th>\n",
       "      <td>120.0</td>\n",
       "      <td>170.0</td>\n",
       "      <td>0.0</td>\n",
       "      <td>11.0</td>\n",
       "      <td>256.0</td>\n",
       "    </tr>\n",
       "    <tr>\n",
       "      <th>25%</th>\n",
       "      <td>120.0</td>\n",
       "      <td>170.0</td>\n",
       "      <td>0.0</td>\n",
       "      <td>11.0</td>\n",
       "      <td>256.0</td>\n",
       "    </tr>\n",
       "    <tr>\n",
       "      <th>50%</th>\n",
       "      <td>120.0</td>\n",
       "      <td>170.0</td>\n",
       "      <td>0.0</td>\n",
       "      <td>11.0</td>\n",
       "      <td>256.0</td>\n",
       "    </tr>\n",
       "    <tr>\n",
       "      <th>75%</th>\n",
       "      <td>120.0</td>\n",
       "      <td>170.0</td>\n",
       "      <td>0.0</td>\n",
       "      <td>11.0</td>\n",
       "      <td>256.0</td>\n",
       "    </tr>\n",
       "    <tr>\n",
       "      <th>max</th>\n",
       "      <td>120.0</td>\n",
       "      <td>170.0</td>\n",
       "      <td>0.0</td>\n",
       "      <td>11.0</td>\n",
       "      <td>256.0</td>\n",
       "    </tr>\n",
       "  </tbody>\n",
       "</table>\n",
       "</div>"
      ],
      "text/plain": [
       "          KV    mAs   ref  CTDIvol    DLP\n",
       "count   10.0   10.0  10.0     10.0   10.0\n",
       "mean   120.0  170.0   0.0     11.0  256.0\n",
       "std      0.0    0.0   0.0      0.0    0.0\n",
       "min    120.0  170.0   0.0     11.0  256.0\n",
       "25%    120.0  170.0   0.0     11.0  256.0\n",
       "50%    120.0  170.0   0.0     11.0  256.0\n",
       "75%    120.0  170.0   0.0     11.0  256.0\n",
       "max    120.0  170.0   0.0     11.0  256.0"
      ]
     },
     "execution_count": 66,
     "metadata": {},
     "output_type": "execute_result"
    }
   ],
   "source": [
    "######### CTCEREBRO #####\n",
    "is_CTCEREBRO =  data['Protocolo']=='CTCEREBRO'\n",
    "data_CTCEREBRO=data[is_CTCEREBRO]\n",
    "#data_CTCEREBRO.shape\n",
    "#data_CTCEREBRO.head()\n",
    "data_CTCEREBRO.describe()"
   ]
  },
  {
   "cell_type": "code",
   "execution_count": 100,
   "metadata": {},
   "outputs": [
    {
     "data": {
      "text/html": [
       "<div>\n",
       "<table border=\"1\" class=\"dataframe\">\n",
       "  <thead>\n",
       "    <tr style=\"text-align: right;\">\n",
       "      <th></th>\n",
       "      <th>ESTUDIO</th>\n",
       "      <th>CTDIvol</th>\n",
       "    </tr>\n",
       "  </thead>\n",
       "  <tbody>\n",
       "    <tr>\n",
       "      <th>0</th>\n",
       "      <td>OSEA</td>\n",
       "      <td>4.40</td>\n",
       "    </tr>\n",
       "    <tr>\n",
       "      <th>1</th>\n",
       "      <td>OSEA</td>\n",
       "      <td>3.56</td>\n",
       "    </tr>\n",
       "    <tr>\n",
       "      <th>2</th>\n",
       "      <td>OSEA</td>\n",
       "      <td>4.48</td>\n",
       "    </tr>\n",
       "    <tr>\n",
       "      <th>3</th>\n",
       "      <td>OSEA</td>\n",
       "      <td>4.58</td>\n",
       "    </tr>\n",
       "    <tr>\n",
       "      <th>4</th>\n",
       "      <td>OSEA</td>\n",
       "      <td>8.94</td>\n",
       "    </tr>\n",
       "  </tbody>\n",
       "</table>\n",
       "</div>"
      ],
      "text/plain": [
       "  ESTUDIO  CTDIvol\n",
       "0    OSEA     4.40\n",
       "1    OSEA     3.56\n",
       "2    OSEA     4.48\n",
       "3    OSEA     4.58\n",
       "4    OSEA     8.94"
      ]
     },
     "execution_count": 100,
     "metadata": {},
     "output_type": "execute_result"
    }
   ],
   "source": [
    "#Para cargar los datos\n",
    "dato = pd.read_csv('DRLSPECT.txt', delim_whitespace =True)\n",
    "\n",
    "#para ver los primeros datos\n",
    "dato.head()"
   ]
  },
  {
   "cell_type": "code",
   "execution_count": 101,
   "metadata": {},
   "outputs": [
    {
     "data": {
      "text/html": [
       "<div>\n",
       "<table border=\"1\" class=\"dataframe\">\n",
       "  <thead>\n",
       "    <tr style=\"text-align: right;\">\n",
       "      <th></th>\n",
       "      <th>CTDIvol</th>\n",
       "    </tr>\n",
       "  </thead>\n",
       "  <tbody>\n",
       "    <tr>\n",
       "      <th>count</th>\n",
       "      <td>242.000000</td>\n",
       "    </tr>\n",
       "    <tr>\n",
       "      <th>mean</th>\n",
       "      <td>4.455165</td>\n",
       "    </tr>\n",
       "    <tr>\n",
       "      <th>std</th>\n",
       "      <td>0.978895</td>\n",
       "    </tr>\n",
       "    <tr>\n",
       "      <th>min</th>\n",
       "      <td>1.690000</td>\n",
       "    </tr>\n",
       "    <tr>\n",
       "      <th>25%</th>\n",
       "      <td>4.262500</td>\n",
       "    </tr>\n",
       "    <tr>\n",
       "      <th>50%</th>\n",
       "      <td>4.550000</td>\n",
       "    </tr>\n",
       "    <tr>\n",
       "      <th>75%</th>\n",
       "      <td>4.580000</td>\n",
       "    </tr>\n",
       "    <tr>\n",
       "      <th>max</th>\n",
       "      <td>14.680000</td>\n",
       "    </tr>\n",
       "  </tbody>\n",
       "</table>\n",
       "</div>"
      ],
      "text/plain": [
       "          CTDIvol\n",
       "count  242.000000\n",
       "mean     4.455165\n",
       "std      0.978895\n",
       "min      1.690000\n",
       "25%      4.262500\n",
       "50%      4.550000\n",
       "75%      4.580000\n",
       "max     14.680000"
      ]
     },
     "execution_count": 101,
     "metadata": {},
     "output_type": "execute_result"
    }
   ],
   "source": [
    "is_OSEA =  dato['ESTUDIO']=='OSEA'\n",
    "dato_OSEA=dato[is_OSEA]\n",
    "#data_CTWB.shape\n",
    "#data_CTWB.head()\n",
    "dato_OSEA.describe()"
   ]
  },
  {
   "cell_type": "code",
   "execution_count": 102,
   "metadata": {},
   "outputs": [
    {
     "data": {
      "text/html": [
       "<div>\n",
       "<table border=\"1\" class=\"dataframe\">\n",
       "  <thead>\n",
       "    <tr style=\"text-align: right;\">\n",
       "      <th></th>\n",
       "      <th>CTDIvol</th>\n",
       "    </tr>\n",
       "  </thead>\n",
       "  <tbody>\n",
       "    <tr>\n",
       "      <th>count</th>\n",
       "      <td>122.000000</td>\n",
       "    </tr>\n",
       "    <tr>\n",
       "      <th>mean</th>\n",
       "      <td>12.787541</td>\n",
       "    </tr>\n",
       "    <tr>\n",
       "      <th>std</th>\n",
       "      <td>0.907925</td>\n",
       "    </tr>\n",
       "    <tr>\n",
       "      <th>min</th>\n",
       "      <td>4.380000</td>\n",
       "    </tr>\n",
       "    <tr>\n",
       "      <th>25%</th>\n",
       "      <td>12.920000</td>\n",
       "    </tr>\n",
       "    <tr>\n",
       "      <th>50%</th>\n",
       "      <td>12.920000</td>\n",
       "    </tr>\n",
       "    <tr>\n",
       "      <th>75%</th>\n",
       "      <td>12.920000</td>\n",
       "    </tr>\n",
       "    <tr>\n",
       "      <th>max</th>\n",
       "      <td>12.920000</td>\n",
       "    </tr>\n",
       "  </tbody>\n",
       "</table>\n",
       "</div>"
      ],
      "text/plain": [
       "          CTDIvol\n",
       "count  122.000000\n",
       "mean    12.787541\n",
       "std      0.907925\n",
       "min      4.380000\n",
       "25%     12.920000\n",
       "50%     12.920000\n",
       "75%     12.920000\n",
       "max     12.920000"
      ]
     },
     "execution_count": 102,
     "metadata": {},
     "output_type": "execute_result"
    }
   ],
   "source": [
    "is_RASTREO =  dato['ESTUDIO']=='RASTREO'\n",
    "dato_RASTREO=dato[is_RASTREO]\n",
    "#data_CTWB.shape\n",
    "#data_CTWB.head()\n",
    "dato_RASTREO.describe()"
   ]
  },
  {
   "cell_type": "code",
   "execution_count": 103,
   "metadata": {},
   "outputs": [
    {
     "data": {
      "text/plain": [
       "<matplotlib.text.Text at 0x1a1fb788d0>"
      ]
     },
     "execution_count": 103,
     "metadata": {},
     "output_type": "execute_result"
    },
    {
     "data": {
      "image/png": "[encoded data removed]",
      "text/plain": [
       "<matplotlib.figure.Figure at 0x1a1ea26240>"
      ]
     },
     "metadata": {},
     "output_type": "display_data"
    }
   ],
   "source": [
    "sns.distplot(dato_OSEA['CTDIvol'],kde=False,color='b')\n",
    "\n",
    "### Decoración del histograma\n",
    "#plt.title('Todos')\n",
    "plt.xlabel('CTDIvol [mGy]')\n",
    "plt.ylabel('Frecuencia')"
   ]
  },
  {
   "cell_type": "code",
   "execution_count": 104,
   "metadata": {},
   "outputs": [
    {
     "data": {
      "text/plain": [
       "<matplotlib.text.Text at 0x1a1fdc9ac8>"
      ]
     },
     "execution_count": 104,
     "metadata": {},
     "output_type": "execute_result"
    },
    {
     "data": {
      "image/png": "[encoded data removed]",
      "text/plain": [
       "<matplotlib.figure.Figure at 0x1a1fdaa898>"
      ]
     },
     "metadata": {},
     "output_type": "display_data"
    }
   ],
   "source": [
    "sns.distplot(dato_RASTREO['CTDIvol'],kde=False,color='b')\n",
    "\n",
    "### Decoración del histograma\n",
    "#plt.title('Todos')\n",
    "plt.xlabel('CTDIvol [mGy]')\n",
    "plt.ylabel('Frecuencia')"
   ]
  },
  {
   "cell_type": "code",
   "execution_count": null,
   "metadata": {
    "collapsed": true
   },
   "outputs": [],
   "source": []
  }
 ],
 "metadata": {
  "kernelspec": {
   "display_name": "Python 3",
   "language": "python",
   "name": "python3"
  }
 },
 "nbformat": 4,
 "nbformat_minor": 2
}
