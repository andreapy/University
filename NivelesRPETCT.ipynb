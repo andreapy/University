{
 "cells": [
  {
   "cell_type": "markdown",
   "metadata": {},
   "source": [
    "# Niveles de Referencia en  CT, Medicina Nuclear INC"
   ]
  },
  {
   "cell_type": "markdown",
   "metadata": {},
   "source": [
    "Elaborado por: Andrea Lizeth Lopez Rodriguez. Estudiante\n",
    "Dirigido por: Nathaly Barbosa, Física Médica de Medicina nuclear del INC    "
   ]
  },
  {
   "cell_type": "markdown",
   "metadata": {},
   "source": [
    "Inicialmente se importan los paquetes de Python que serán empleados en el análisis de los datos"
   ]
  },
  {
   "cell_type": "code",
   "execution_count": 47,
   "metadata": {},
   "outputs": [
    {
     "data": {
      "text/html": [
       "<div>\n",
       "<table border=\"1\" class=\"dataframe\">\n",
       "  <thead>\n",
       "    <tr style=\"text-align: right;\">\n",
       "      <th></th>\n",
       "      <th>CTDIvol</th>\n",
       "      <th>DLP</th>\n",
       "      <th>Tipo</th>\n",
       "      <th>EkV</th>\n",
       "      <th>EmA</th>\n",
       "      <th>skV</th>\n",
       "      <th>smA</th>\n",
       "    </tr>\n",
       "  </thead>\n",
       "  <tbody>\n",
       "    <tr>\n",
       "      <th>0</th>\n",
       "      <td>3.06</td>\n",
       "      <td>95.85</td>\n",
       "      <td>Pulmonar</td>\n",
       "      <td>100</td>\n",
       "      <td>100</td>\n",
       "      <td>100</td>\n",
       "      <td>10</td>\n",
       "    </tr>\n",
       "    <tr>\n",
       "      <th>1</th>\n",
       "      <td>2.46</td>\n",
       "      <td>81.52</td>\n",
       "      <td>Rastreo</td>\n",
       "      <td>100</td>\n",
       "      <td>120</td>\n",
       "      <td>80</td>\n",
       "      <td>10</td>\n",
       "    </tr>\n",
       "    <tr>\n",
       "      <th>2</th>\n",
       "      <td>1.54</td>\n",
       "      <td>133.66</td>\n",
       "      <td>OSEA</td>\n",
       "      <td>100</td>\n",
       "      <td>42</td>\n",
       "      <td>80</td>\n",
       "      <td>10</td>\n",
       "    </tr>\n",
       "    <tr>\n",
       "      <th>3</th>\n",
       "      <td>1.28</td>\n",
       "      <td>51.75</td>\n",
       "      <td>OSEA</td>\n",
       "      <td>100</td>\n",
       "      <td>40</td>\n",
       "      <td>80</td>\n",
       "      <td>10</td>\n",
       "    </tr>\n",
       "    <tr>\n",
       "      <th>4</th>\n",
       "      <td>1.61</td>\n",
       "      <td>124.08</td>\n",
       "      <td>OSEA</td>\n",
       "      <td>100</td>\n",
       "      <td>79</td>\n",
       "      <td>80</td>\n",
       "      <td>10</td>\n",
       "    </tr>\n",
       "  </tbody>\n",
       "</table>\n",
       "</div>"
      ],
      "text/plain": [
       "   CTDIvol     DLP      Tipo  EkV  EmA  skV  smA\n",
       "0     3.06   95.85  Pulmonar  100  100  100   10\n",
       "1     2.46   81.52   Rastreo  100  120   80   10\n",
       "2     1.54  133.66      OSEA  100   42   80   10\n",
       "3     1.28   51.75      OSEA  100   40   80   10\n",
       "4     1.61  124.08      OSEA  100   79   80   10"
      ]
     },
     "execution_count": 47,
     "metadata": {},
     "output_type": "execute_result"
    }
   ],
   "source": [
    "import seaborn as sns\n",
    "import numpy as np\n",
    "import pandas as pd\n",
    "import matplotlib.pyplot as plt\n",
    "\n",
    "%matplotlib inline\n",
    "\n",
    "\n",
    "##Archivo plano de texto, colocar los datos y los encabezados sin espacios \n",
    "#Para cargar los datos\n",
    "#data = pd.read_csv('DRLCT.txt', delim_whitespace =True)\n",
    "\n",
    "data = pd.read_csv('DRLSPECT.txt', delim_whitespace =True)\n",
    "\n",
    "#para ver los primeros datos\n",
    "data.head()"
   ]
  },
  {
   "cell_type": "code",
   "execution_count": 48,
   "metadata": {},
   "outputs": [
    {
     "data": {
      "text/plain": [
       "OSEA            135\n",
       "Rastreo          71\n",
       "Pulmonar         11\n",
       "Centinela         8\n",
       "Paratiroides      8\n",
       "ROLL              4\n",
       "HYNIC             4\n",
       "MIBG              2\n",
       "Tumoral           1\n",
       "Name: Tipo, dtype: int64"
      ]
     },
     "execution_count": 48,
     "metadata": {},
     "output_type": "execute_result"
    }
   ],
   "source": [
    "######Conteo de variables categoricas\n",
    "#data[\"Genero\"].value_counts()\n",
    "\n",
    "\n",
    "data[\"Tipo\"].value_counts()\n",
    "\n",
    "\n",
    "####GROUP BY in Python \n",
    "#data_test =data[['Tipo','DLP','CTDIvol']]\n",
    "#data_grp=data_test.groupby(['Protocolo'],as_index=False).median()\n",
    "#data_grp\n",
    "\n",
    "\n",
    "####Pandas Method- Pivot()\n",
    "\n",
    "#data_pivot=data_grp.pivot(index='Protocolo', columns='Genero')\n",
    "#data_pivot\n",
    "\n",
    "#####Heatmap\n",
    "#plt.pcolor(data_pivot,cmap='RdBu')\n",
    "#plt.colorbar()\n",
    "#plt.show\n",
    "\n",
    "#Filtrando datos por Genero \n",
    "#Masculino = ['M']\n",
    "#FEMENINO\n",
    "#data_femenino= data[~data.Genero.isin(Masculino)]\n",
    "#data_femenino.shape\n",
    "#MASCULINO\n",
    "#data_masculino=data[data.Genero.isin(Masculino)]\n",
    "#data_masculino.shape"
   ]
  },
  {
   "cell_type": "code",
   "execution_count": 49,
   "metadata": {},
   "outputs": [
    {
     "name": "stderr",
     "output_type": "stream",
     "text": [
      "/Users/Mila/anaconda/lib/python3.5/site-packages/matplotlib/axes/_axes.py:6462: UserWarning: The 'normed' kwarg is deprecated, and has been replaced by the 'density' kwarg.\n",
      "  warnings.warn(\"The 'normed' kwarg is deprecated, and has been \"\n"
     ]
    },
    {
     "data": {
      "text/html": [
       "<div>\n",
       "<table border=\"1\" class=\"dataframe\">\n",
       "  <thead>\n",
       "    <tr style=\"text-align: right;\">\n",
       "      <th></th>\n",
       "      <th>CTDIvol</th>\n",
       "      <th>DLP</th>\n",
       "      <th>Tipo</th>\n",
       "      <th>EkV</th>\n",
       "      <th>EmA</th>\n",
       "      <th>skV</th>\n",
       "      <th>smA</th>\n",
       "    </tr>\n",
       "  </thead>\n",
       "  <tbody>\n",
       "    <tr>\n",
       "      <th>count</th>\n",
       "      <td>135.000000</td>\n",
       "      <td>135.000000</td>\n",
       "      <td>135</td>\n",
       "      <td>135.000000</td>\n",
       "      <td>135.000000</td>\n",
       "      <td>135.000000</td>\n",
       "      <td>135.000000</td>\n",
       "    </tr>\n",
       "    <tr>\n",
       "      <th>unique</th>\n",
       "      <td>NaN</td>\n",
       "      <td>NaN</td>\n",
       "      <td>1</td>\n",
       "      <td>NaN</td>\n",
       "      <td>NaN</td>\n",
       "      <td>NaN</td>\n",
       "      <td>NaN</td>\n",
       "    </tr>\n",
       "    <tr>\n",
       "      <th>top</th>\n",
       "      <td>NaN</td>\n",
       "      <td>NaN</td>\n",
       "      <td>OSEA</td>\n",
       "      <td>NaN</td>\n",
       "      <td>NaN</td>\n",
       "      <td>NaN</td>\n",
       "      <td>NaN</td>\n",
       "    </tr>\n",
       "    <tr>\n",
       "      <th>freq</th>\n",
       "      <td>NaN</td>\n",
       "      <td>NaN</td>\n",
       "      <td>135</td>\n",
       "      <td>NaN</td>\n",
       "      <td>NaN</td>\n",
       "      <td>NaN</td>\n",
       "      <td>NaN</td>\n",
       "    </tr>\n",
       "    <tr>\n",
       "      <th>mean</th>\n",
       "      <td>2.720815</td>\n",
       "      <td>158.424222</td>\n",
       "      <td>NaN</td>\n",
       "      <td>107.555556</td>\n",
       "      <td>92.681481</td>\n",
       "      <td>82.370370</td>\n",
       "      <td>13.481481</td>\n",
       "    </tr>\n",
       "    <tr>\n",
       "      <th>std</th>\n",
       "      <td>1.734610</td>\n",
       "      <td>119.916083</td>\n",
       "      <td>NaN</td>\n",
       "      <td>13.574926</td>\n",
       "      <td>22.477402</td>\n",
       "      <td>9.479547</td>\n",
       "      <td>9.488290</td>\n",
       "    </tr>\n",
       "    <tr>\n",
       "      <th>min</th>\n",
       "      <td>1.180000</td>\n",
       "      <td>45.260000</td>\n",
       "      <td>NaN</td>\n",
       "      <td>100.000000</td>\n",
       "      <td>40.000000</td>\n",
       "      <td>80.000000</td>\n",
       "      <td>10.000000</td>\n",
       "    </tr>\n",
       "    <tr>\n",
       "      <th>25%</th>\n",
       "      <td>1.640000</td>\n",
       "      <td>101.495000</td>\n",
       "      <td>NaN</td>\n",
       "      <td>100.000000</td>\n",
       "      <td>79.000000</td>\n",
       "      <td>80.000000</td>\n",
       "      <td>10.000000</td>\n",
       "    </tr>\n",
       "    <tr>\n",
       "      <th>50%</th>\n",
       "      <td>2.460000</td>\n",
       "      <td>128.100000</td>\n",
       "      <td>NaN</td>\n",
       "      <td>100.000000</td>\n",
       "      <td>79.000000</td>\n",
       "      <td>80.000000</td>\n",
       "      <td>10.000000</td>\n",
       "    </tr>\n",
       "    <tr>\n",
       "      <th>75%</th>\n",
       "      <td>3.740000</td>\n",
       "      <td>169.275000</td>\n",
       "      <td>NaN</td>\n",
       "      <td>120.000000</td>\n",
       "      <td>110.000000</td>\n",
       "      <td>80.000000</td>\n",
       "      <td>20.000000</td>\n",
       "    </tr>\n",
       "    <tr>\n",
       "      <th>max</th>\n",
       "      <td>13.150000</td>\n",
       "      <td>894.840000</td>\n",
       "      <td>NaN</td>\n",
       "      <td>220.000000</td>\n",
       "      <td>160.000000</td>\n",
       "      <td>120.000000</td>\n",
       "      <td>110.000000</td>\n",
       "    </tr>\n",
       "  </tbody>\n",
       "</table>\n",
       "</div>"
      ],
      "text/plain": [
       "           CTDIvol         DLP  Tipo         EkV         EmA         skV  \\\n",
       "count   135.000000  135.000000   135  135.000000  135.000000  135.000000   \n",
       "unique         NaN         NaN     1         NaN         NaN         NaN   \n",
       "top            NaN         NaN  OSEA         NaN         NaN         NaN   \n",
       "freq           NaN         NaN   135         NaN         NaN         NaN   \n",
       "mean      2.720815  158.424222   NaN  107.555556   92.681481   82.370370   \n",
       "std       1.734610  119.916083   NaN   13.574926   22.477402    9.479547   \n",
       "min       1.180000   45.260000   NaN  100.000000   40.000000   80.000000   \n",
       "25%       1.640000  101.495000   NaN  100.000000   79.000000   80.000000   \n",
       "50%       2.460000  128.100000   NaN  100.000000   79.000000   80.000000   \n",
       "75%       3.740000  169.275000   NaN  120.000000  110.000000   80.000000   \n",
       "max      13.150000  894.840000   NaN  220.000000  160.000000  120.000000   \n",
       "\n",
       "               smA  \n",
       "count   135.000000  \n",
       "unique         NaN  \n",
       "top            NaN  \n",
       "freq           NaN  \n",
       "mean     13.481481  \n",
       "std       9.488290  \n",
       "min      10.000000  \n",
       "25%      10.000000  \n",
       "50%      10.000000  \n",
       "75%      20.000000  \n",
       "max     110.000000  "
      ]
     },
     "execution_count": 49,
     "metadata": {},
     "output_type": "execute_result"
    },
    {
     "data": {
      "image/png": "[encoded data removed]",
      "text/plain": [
       "<Figure size 432x288 with 1 Axes>"
      ]
     },
     "metadata": {},
     "output_type": "display_data"
    }
   ],
   "source": [
    "######################## OSEA ##############################\n",
    "\n",
    "is_CTWBf =  data['Tipo']=='OSEA'\n",
    "#is_CTWBf.head()\n",
    "data_CTWBf=data[is_CTWBf]\n",
    "#data_CTWBf.shape\n",
    "###Masculino\n",
    "#is_CTWBm =  data_masculino['Protocolo']=='CTWB'\n",
    "#data_CTWBm=data_masculino[is_CTWBm]\n",
    "#data_CTWBm.shape\n",
    "\n",
    "###Carga de paquete de estadística (ajustes)\n",
    "from scipy import stats\n",
    "\n",
    "sns.distplot(data_CTWBf['DLP'],kde=False,color='b')\n",
    "plt.title('CT G. OSEA')\n",
    "plt.xlabel('DLP [mGy cm]')\n",
    "plt.ylabel('Número de Pacientes')\n",
    "\n",
    "plt.savefig('SPECTOSEA.pdf')\n",
    "data_CTWBf.describe(include=\"all\")\n",
    "\n",
    "\n",
    "######### CTWBPED #####\n",
    "#is_CTWBPEDf =  data_femenino['Protocolo']=='CTWBPED'\n",
    "#data_CTWBPEDf=data_femenino[is_CTWBPEDf]\n",
    "#data_CTWBPEDf.shape\n",
    "\n",
    "#is_CTWBPEDm =  data_masculino['Protocolo']=='CTWBPED'\n",
    "#data_CTWBPEDm=data_masculino[is_CTWBPEDm]\n",
    "#data_CTWBPEDm.shape\n",
    "\n",
    "######### CTWBOBESO #####\n",
    "#is_CTWBOBESOf =  data_femenino['Protocolo']=='CTWBOBESO'\n",
    "#data_CTWBOBESOf=data_femenino[is_CTWBOBESOf]\n",
    "#data_CTWBOBESOf.shape\n",
    "\n",
    "#is_CTWBOBESOm =  data_masculino['Protocolo']=='CTWBOBESO'\n",
    "#data_CTWBOBESOm=data_masculino[is_CTWBOBESOm]\n",
    "#data_CTWBOBESOm.shape\n",
    "\n"
   ]
  },
  {
   "cell_type": "code",
   "execution_count": 50,
   "metadata": {},
   "outputs": [
    {
     "data": {
      "text/plain": [
       "<matplotlib.axes._subplots.AxesSubplot at 0x1a1d67ccf8>"
      ]
     },
     "execution_count": 50,
     "metadata": {},
     "output_type": "execute_result"
    },
    {
     "data": {
      "image/png": "[encoded data removed]",
      "text/plain": [
       "<Figure size 432x288 with 1 Axes>"
      ]
     },
     "metadata": {},
     "output_type": "display_data"
    }
   ],
   "source": [
    "sns.boxplot(x=\"Tipo\", y=\"DLP\", data=data_CTWBf)"
   ]
  },
  {
   "cell_type": "code",
   "execution_count": 51,
   "metadata": {},
   "outputs": [
    {
     "name": "stderr",
     "output_type": "stream",
     "text": [
      "/Users/Mila/anaconda/lib/python3.5/site-packages/matplotlib/axes/_axes.py:6462: UserWarning: The 'normed' kwarg is deprecated, and has been replaced by the 'density' kwarg.\n",
      "  warnings.warn(\"The 'normed' kwarg is deprecated, and has been \"\n"
     ]
    },
    {
     "data": {
      "text/plain": [
       "Text(0,0.5,'Número de Pacientes')"
      ]
     },
     "execution_count": 51,
     "metadata": {},
     "output_type": "execute_result"
    },
    {
     "data": {
      "image/png": "[encoded data removed]",
      "text/plain": [
       "<Figure size 432x288 with 1 Axes>"
      ]
     },
     "metadata": {},
     "output_type": "display_data"
    }
   ],
   "source": [
    "sns.distplot(data_CTWBf['CTDIvol'],kde=False,color='b')\n",
    "plt.title('CT G. OSEA')\n",
    "plt.xlabel('CTDIvol [mGy]')\n",
    "plt.ylabel('Número de Pacientes')"
   ]
  },
  {
   "cell_type": "code",
   "execution_count": 52,
   "metadata": {},
   "outputs": [
    {
     "data": {
      "text/plain": [
       "<matplotlib.axes._subplots.AxesSubplot at 0x1a1d372f60>"
      ]
     },
     "execution_count": 52,
     "metadata": {},
     "output_type": "execute_result"
    },
    {
     "data": {
      "image/png": "[encoded data removed]",
      "text/plain": [
       "<Figure size 432x288 with 1 Axes>"
      ]
     },
     "metadata": {},
     "output_type": "display_data"
    }
   ],
   "source": [
    "sns.boxplot(x=\"Tipo\", y=\"CTDIvol\", data=data_CTWBf)"
   ]
  },
  {
   "cell_type": "code",
   "execution_count": 53,
   "metadata": {},
   "outputs": [
    {
     "name": "stderr",
     "output_type": "stream",
     "text": [
      "/Users/Mila/anaconda/lib/python3.5/site-packages/matplotlib/axes/_axes.py:6462: UserWarning: The 'normed' kwarg is deprecated, and has been replaced by the 'density' kwarg.\n",
      "  warnings.warn(\"The 'normed' kwarg is deprecated, and has been \"\n"
     ]
    },
    {
     "data": {
      "text/html": [
       "<div>\n",
       "<table border=\"1\" class=\"dataframe\">\n",
       "  <thead>\n",
       "    <tr style=\"text-align: right;\">\n",
       "      <th></th>\n",
       "      <th>CTDIvol</th>\n",
       "      <th>DLP</th>\n",
       "      <th>EkV</th>\n",
       "      <th>EmA</th>\n",
       "      <th>skV</th>\n",
       "      <th>smA</th>\n",
       "    </tr>\n",
       "  </thead>\n",
       "  <tbody>\n",
       "    <tr>\n",
       "      <th>count</th>\n",
       "      <td>71.000000</td>\n",
       "      <td>71.000000</td>\n",
       "      <td>71.000000</td>\n",
       "      <td>71.000000</td>\n",
       "      <td>71.000000</td>\n",
       "      <td>71.000000</td>\n",
       "    </tr>\n",
       "    <tr>\n",
       "      <th>mean</th>\n",
       "      <td>2.899577</td>\n",
       "      <td>130.599577</td>\n",
       "      <td>101.408451</td>\n",
       "      <td>121.126761</td>\n",
       "      <td>81.126761</td>\n",
       "      <td>11.408451</td>\n",
       "    </tr>\n",
       "    <tr>\n",
       "      <th>std</th>\n",
       "      <td>2.095613</td>\n",
       "      <td>129.654464</td>\n",
       "      <td>8.501391</td>\n",
       "      <td>19.186997</td>\n",
       "      <td>5.744388</td>\n",
       "      <td>3.503376</td>\n",
       "    </tr>\n",
       "    <tr>\n",
       "      <th>min</th>\n",
       "      <td>1.070000</td>\n",
       "      <td>48.670000</td>\n",
       "      <td>80.000000</td>\n",
       "      <td>74.000000</td>\n",
       "      <td>80.000000</td>\n",
       "      <td>10.000000</td>\n",
       "    </tr>\n",
       "    <tr>\n",
       "      <th>25%</th>\n",
       "      <td>2.460000</td>\n",
       "      <td>79.225000</td>\n",
       "      <td>100.000000</td>\n",
       "      <td>120.000000</td>\n",
       "      <td>80.000000</td>\n",
       "      <td>10.000000</td>\n",
       "    </tr>\n",
       "    <tr>\n",
       "      <th>50%</th>\n",
       "      <td>2.460000</td>\n",
       "      <td>105.150000</td>\n",
       "      <td>100.000000</td>\n",
       "      <td>120.000000</td>\n",
       "      <td>80.000000</td>\n",
       "      <td>10.000000</td>\n",
       "    </tr>\n",
       "    <tr>\n",
       "      <th>75%</th>\n",
       "      <td>2.460000</td>\n",
       "      <td>125.930000</td>\n",
       "      <td>100.000000</td>\n",
       "      <td>120.000000</td>\n",
       "      <td>80.000000</td>\n",
       "      <td>10.000000</td>\n",
       "    </tr>\n",
       "    <tr>\n",
       "      <th>max</th>\n",
       "      <td>14.800000</td>\n",
       "      <td>1030.600000</td>\n",
       "      <td>120.000000</td>\n",
       "      <td>219.000000</td>\n",
       "      <td>120.000000</td>\n",
       "      <td>20.000000</td>\n",
       "    </tr>\n",
       "  </tbody>\n",
       "</table>\n",
       "</div>"
      ],
      "text/plain": [
       "         CTDIvol          DLP         EkV         EmA         skV        smA\n",
       "count  71.000000    71.000000   71.000000   71.000000   71.000000  71.000000\n",
       "mean    2.899577   130.599577  101.408451  121.126761   81.126761  11.408451\n",
       "std     2.095613   129.654464    8.501391   19.186997    5.744388   3.503376\n",
       "min     1.070000    48.670000   80.000000   74.000000   80.000000  10.000000\n",
       "25%     2.460000    79.225000  100.000000  120.000000   80.000000  10.000000\n",
       "50%     2.460000   105.150000  100.000000  120.000000   80.000000  10.000000\n",
       "75%     2.460000   125.930000  100.000000  120.000000   80.000000  10.000000\n",
       "max    14.800000  1030.600000  120.000000  219.000000  120.000000  20.000000"
      ]
     },
     "execution_count": 53,
     "metadata": {},
     "output_type": "execute_result"
    },
    {
     "data": {
      "image/png": "[encoded data removed]",
      "text/plain": [
       "<Figure size 432x288 with 1 Axes>"
      ]
     },
     "metadata": {},
     "output_type": "display_data"
    }
   ],
   "source": [
    "######################## RASTREO ##############################\n",
    "\n",
    "######### CTABD #####\n",
    "#is_CTABDf =  data_femenino['Protocolo']=='CTABD'\n",
    "#data_CTABDf=data_femenino[is_CTABDf]\n",
    "#data_CTABDf.shape\n",
    "\n",
    "#is_CTABDm =  data_masculino['Protocolo']=='CTABD'\n",
    "#data_CTABDm=data_masculino[is_CTABDm]\n",
    "#data_CTABDm.shape\n",
    "\n",
    "######### CTABDPELVI #####\n",
    "#is_CTABDPELVIf =  data_femenino['Protocolo']=='CTABDPELVI'\n",
    "#data_CTABDPELVIf=data_femenino[is_CTABDPELVIf]\n",
    "#data_CTABDPELVIf.shape\n",
    "\n",
    "is_CTABDPELVIm =  data['Tipo']=='Rastreo'\n",
    "data_CTABDPELVIm=data[is_CTABDPELVIm]\n",
    "#data_CTABDPELVIm.shape\n",
    "\n",
    "sns.distplot(data_CTABDPELVIm['DLP'],bins=4,kde=False,color='b')\n",
    "plt.title('CT RASTREO')\n",
    "plt.xlabel('DLP [mGy cm]')\n",
    "plt.ylabel('Número de Pacientes')\n",
    "\n",
    "plt.savefig('SPECTRASTREO.pdf')\n",
    "data_CTABDPELVIm.describe()\n",
    "\n"
   ]
  },
  {
   "cell_type": "code",
   "execution_count": 54,
   "metadata": {},
   "outputs": [
    {
     "data": {
      "text/plain": [
       "<matplotlib.axes._subplots.AxesSubplot at 0x1a1ced7358>"
      ]
     },
     "execution_count": 54,
     "metadata": {},
     "output_type": "execute_result"
    },
    {
     "data": {
      "image/png": "[encoded data removed]",
      "text/plain": [
       "<Figure size 432x288 with 1 Axes>"
      ]
     },
     "metadata": {},
     "output_type": "display_data"
    }
   ],
   "source": [
    "sns.boxplot(x=\"Tipo\", y=\"DLP\", data=data_CTABDPELVIm)"
   ]
  },
  {
   "cell_type": "code",
   "execution_count": 55,
   "metadata": {},
   "outputs": [
    {
     "name": "stderr",
     "output_type": "stream",
     "text": [
      "/Users/Mila/anaconda/lib/python3.5/site-packages/matplotlib/axes/_axes.py:6462: UserWarning: The 'normed' kwarg is deprecated, and has been replaced by the 'density' kwarg.\n",
      "  warnings.warn(\"The 'normed' kwarg is deprecated, and has been \"\n"
     ]
    },
    {
     "data": {
      "text/plain": [
       "Text(0,0.5,'Número de Pacientes')"
      ]
     },
     "execution_count": 55,
     "metadata": {},
     "output_type": "execute_result"
    },
    {
     "data": {
      "image/png": "[encoded data removed]",
      "text/plain": [
       "<Figure size 432x288 with 1 Axes>"
      ]
     },
     "metadata": {},
     "output_type": "display_data"
    }
   ],
   "source": [
    "sns.distplot(data_CTABDPELVIm['CTDIvol'],bins=4,kde=False,color='b')\n",
    "plt.title('CT RASTREO')\n",
    "plt.xlabel('CTDIvol [mGy]')\n",
    "plt.ylabel('Número de Pacientes')"
   ]
  },
  {
   "cell_type": "code",
   "execution_count": 56,
   "metadata": {},
   "outputs": [
    {
     "data": {
      "text/plain": [
       "<matplotlib.axes._subplots.AxesSubplot at 0x1a1d63aeb8>"
      ]
     },
     "execution_count": 56,
     "metadata": {},
     "output_type": "execute_result"
    },
    {
     "data": {
      "image/png": "[encoded data removed]",
      "text/plain": [
       "<Figure size 432x288 with 1 Axes>"
      ]
     },
     "metadata": {},
     "output_type": "display_data"
    }
   ],
   "source": [
    "sns.boxplot(x=\"Tipo\", y=\"CTDIvol\", data=data_CTABDPELVIm)"
   ]
  },
  {
   "cell_type": "code",
   "execution_count": 57,
   "metadata": {},
   "outputs": [
    {
     "name": "stderr",
     "output_type": "stream",
     "text": [
      "/Users/Mila/anaconda/lib/python3.5/site-packages/matplotlib/axes/_axes.py:6462: UserWarning: The 'normed' kwarg is deprecated, and has been replaced by the 'density' kwarg.\n",
      "  warnings.warn(\"The 'normed' kwarg is deprecated, and has been \"\n"
     ]
    },
    {
     "data": {
      "text/html": [
       "<div>\n",
       "<table border=\"1\" class=\"dataframe\">\n",
       "  <thead>\n",
       "    <tr style=\"text-align: right;\">\n",
       "      <th></th>\n",
       "      <th>CTDIvol</th>\n",
       "      <th>DLP</th>\n",
       "      <th>EkV</th>\n",
       "      <th>EmA</th>\n",
       "      <th>skV</th>\n",
       "      <th>smA</th>\n",
       "    </tr>\n",
       "  </thead>\n",
       "  <tbody>\n",
       "    <tr>\n",
       "      <th>count</th>\n",
       "      <td>11.000000</td>\n",
       "      <td>11.000000</td>\n",
       "      <td>11.0</td>\n",
       "      <td>11.0</td>\n",
       "      <td>11.0</td>\n",
       "      <td>11.0</td>\n",
       "    </tr>\n",
       "    <tr>\n",
       "      <th>mean</th>\n",
       "      <td>3.121818</td>\n",
       "      <td>103.604545</td>\n",
       "      <td>100.0</td>\n",
       "      <td>100.0</td>\n",
       "      <td>100.0</td>\n",
       "      <td>10.0</td>\n",
       "    </tr>\n",
       "    <tr>\n",
       "      <th>std</th>\n",
       "      <td>0.205028</td>\n",
       "      <td>13.556383</td>\n",
       "      <td>0.0</td>\n",
       "      <td>0.0</td>\n",
       "      <td>0.0</td>\n",
       "      <td>0.0</td>\n",
       "    </tr>\n",
       "    <tr>\n",
       "      <th>min</th>\n",
       "      <td>3.060000</td>\n",
       "      <td>89.110000</td>\n",
       "      <td>100.0</td>\n",
       "      <td>100.0</td>\n",
       "      <td>100.0</td>\n",
       "      <td>10.0</td>\n",
       "    </tr>\n",
       "    <tr>\n",
       "      <th>25%</th>\n",
       "      <td>3.060000</td>\n",
       "      <td>93.055000</td>\n",
       "      <td>100.0</td>\n",
       "      <td>100.0</td>\n",
       "      <td>100.0</td>\n",
       "      <td>10.0</td>\n",
       "    </tr>\n",
       "    <tr>\n",
       "      <th>50%</th>\n",
       "      <td>3.060000</td>\n",
       "      <td>102.890000</td>\n",
       "      <td>100.0</td>\n",
       "      <td>100.0</td>\n",
       "      <td>100.0</td>\n",
       "      <td>10.0</td>\n",
       "    </tr>\n",
       "    <tr>\n",
       "      <th>75%</th>\n",
       "      <td>3.060000</td>\n",
       "      <td>109.200000</td>\n",
       "      <td>100.0</td>\n",
       "      <td>100.0</td>\n",
       "      <td>100.0</td>\n",
       "      <td>10.0</td>\n",
       "    </tr>\n",
       "    <tr>\n",
       "      <th>max</th>\n",
       "      <td>3.740000</td>\n",
       "      <td>131.590000</td>\n",
       "      <td>100.0</td>\n",
       "      <td>100.0</td>\n",
       "      <td>100.0</td>\n",
       "      <td>10.0</td>\n",
       "    </tr>\n",
       "  </tbody>\n",
       "</table>\n",
       "</div>"
      ],
      "text/plain": [
       "         CTDIvol         DLP    EkV    EmA    skV   smA\n",
       "count  11.000000   11.000000   11.0   11.0   11.0  11.0\n",
       "mean    3.121818  103.604545  100.0  100.0  100.0  10.0\n",
       "std     0.205028   13.556383    0.0    0.0    0.0   0.0\n",
       "min     3.060000   89.110000  100.0  100.0  100.0  10.0\n",
       "25%     3.060000   93.055000  100.0  100.0  100.0  10.0\n",
       "50%     3.060000  102.890000  100.0  100.0  100.0  10.0\n",
       "75%     3.060000  109.200000  100.0  100.0  100.0  10.0\n",
       "max     3.740000  131.590000  100.0  100.0  100.0  10.0"
      ]
     },
     "execution_count": 57,
     "metadata": {},
     "output_type": "execute_result"
    },
    {
     "data": {
      "image/png": "[encoded data removed]",
      "text/plain": [
       "<Figure size 432x288 with 1 Axes>"
      ]
     },
     "metadata": {},
     "output_type": "display_data"
    }
   ],
   "source": [
    "######################### Perfusion Pulmonar #################\n",
    "\n",
    "is_CTPulmonar =  data['Tipo']=='Pulmonar'\n",
    "data_CTPulmonar=data[is_CTPulmonar]\n",
    "#data_CTABDPELVIm.shape\n",
    "\n",
    "sns.distplot(data_CTPulmonar['DLP'],bins=4,kde=False,color='b')\n",
    "plt.title('CT Pulmonar')\n",
    "plt.xlabel('DLP [mGy cm]')\n",
    "plt.ylabel('Número de Pacientes')\n",
    "\n",
    "plt.savefig('SPECTPulmonar.pdf')\n",
    "data_CTPulmonar.describe()\n",
    "\n"
   ]
  },
  {
   "cell_type": "code",
   "execution_count": 58,
   "metadata": {},
   "outputs": [
    {
     "data": {
      "text/plain": [
       "<matplotlib.axes._subplots.AxesSubplot at 0x1a1d82da90>"
      ]
     },
     "execution_count": 58,
     "metadata": {},
     "output_type": "execute_result"
    },
    {
     "data": {
      "image/png": "[encoded data removed]",
      "text/plain": [
       "<Figure size 432x288 with 1 Axes>"
      ]
     },
     "metadata": {},
     "output_type": "display_data"
    }
   ],
   "source": [
    "sns.boxplot(x=\"Tipo\", y=\"DLP\", data=data_CTPulmonar)"
   ]
  },
  {
   "cell_type": "code",
   "execution_count": 59,
   "metadata": {},
   "outputs": [
    {
     "name": "stderr",
     "output_type": "stream",
     "text": [
      "/Users/Mila/anaconda/lib/python3.5/site-packages/matplotlib/axes/_axes.py:6462: UserWarning: The 'normed' kwarg is deprecated, and has been replaced by the 'density' kwarg.\n",
      "  warnings.warn(\"The 'normed' kwarg is deprecated, and has been \"\n"
     ]
    },
    {
     "data": {
      "text/plain": [
       "Text(0,0.5,'Número de Pacientes')"
      ]
     },
     "execution_count": 59,
     "metadata": {},
     "output_type": "execute_result"
    },
    {
     "data": {
      "image/png": "[encoded data removed]",
      "text/plain": [
       "<Figure size 432x288 with 1 Axes>"
      ]
     },
     "metadata": {},
     "output_type": "display_data"
    }
   ],
   "source": [
    "sns.distplot(data_CTPulmonar['CTDIvol'],kde=False,color='b')\n",
    "plt.title('CT Perfusión Pulmonar')\n",
    "plt.xlabel('CTDIvol [mGy]')\n",
    "plt.ylabel('Número de Pacientes')"
   ]
  },
  {
   "cell_type": "code",
   "execution_count": 60,
   "metadata": {},
   "outputs": [
    {
     "data": {
      "text/plain": [
       "<matplotlib.axes._subplots.AxesSubplot at 0x1a1d96e208>"
      ]
     },
     "execution_count": 60,
     "metadata": {},
     "output_type": "execute_result"
    },
    {
     "data": {
      "image/png": "[encoded data removed]",
      "text/plain": [
       "<Figure size 432x288 with 1 Axes>"
      ]
     },
     "metadata": {},
     "output_type": "display_data"
    }
   ],
   "source": [
    "sns.boxplot(x=\"Tipo\", y=\"CTDIvol\", data=data_CTPulmonar)"
   ]
  },
  {
   "cell_type": "code",
   "execution_count": 61,
   "metadata": {},
   "outputs": [
    {
     "name": "stderr",
     "output_type": "stream",
     "text": [
      "/Users/Mila/anaconda/lib/python3.5/site-packages/matplotlib/axes/_axes.py:6462: UserWarning: The 'normed' kwarg is deprecated, and has been replaced by the 'density' kwarg.\n",
      "  warnings.warn(\"The 'normed' kwarg is deprecated, and has been \"\n"
     ]
    },
    {
     "data": {
      "text/html": [
       "<div>\n",
       "<table border=\"1\" class=\"dataframe\">\n",
       "  <thead>\n",
       "    <tr style=\"text-align: right;\">\n",
       "      <th></th>\n",
       "      <th>CTDIvol</th>\n",
       "      <th>DLP</th>\n",
       "      <th>EkV</th>\n",
       "      <th>EmA</th>\n",
       "      <th>skV</th>\n",
       "      <th>smA</th>\n",
       "    </tr>\n",
       "  </thead>\n",
       "  <tbody>\n",
       "    <tr>\n",
       "      <th>count</th>\n",
       "      <td>8.000000e+00</td>\n",
       "      <td>8.000000</td>\n",
       "      <td>8.0</td>\n",
       "      <td>8.0</td>\n",
       "      <td>8.0</td>\n",
       "      <td>8.0</td>\n",
       "    </tr>\n",
       "    <tr>\n",
       "      <th>mean</th>\n",
       "      <td>2.460000e+00</td>\n",
       "      <td>88.888750</td>\n",
       "      <td>100.0</td>\n",
       "      <td>120.0</td>\n",
       "      <td>80.0</td>\n",
       "      <td>10.0</td>\n",
       "    </tr>\n",
       "    <tr>\n",
       "      <th>std</th>\n",
       "      <td>4.747513e-16</td>\n",
       "      <td>10.821908</td>\n",
       "      <td>0.0</td>\n",
       "      <td>0.0</td>\n",
       "      <td>0.0</td>\n",
       "      <td>0.0</td>\n",
       "    </tr>\n",
       "    <tr>\n",
       "      <th>min</th>\n",
       "      <td>2.460000e+00</td>\n",
       "      <td>76.920000</td>\n",
       "      <td>100.0</td>\n",
       "      <td>120.0</td>\n",
       "      <td>80.0</td>\n",
       "      <td>10.0</td>\n",
       "    </tr>\n",
       "    <tr>\n",
       "      <th>25%</th>\n",
       "      <td>2.460000e+00</td>\n",
       "      <td>83.445000</td>\n",
       "      <td>100.0</td>\n",
       "      <td>120.0</td>\n",
       "      <td>80.0</td>\n",
       "      <td>10.0</td>\n",
       "    </tr>\n",
       "    <tr>\n",
       "      <th>50%</th>\n",
       "      <td>2.460000e+00</td>\n",
       "      <td>85.820000</td>\n",
       "      <td>100.0</td>\n",
       "      <td>120.0</td>\n",
       "      <td>80.0</td>\n",
       "      <td>10.0</td>\n",
       "    </tr>\n",
       "    <tr>\n",
       "      <th>75%</th>\n",
       "      <td>2.460000e+00</td>\n",
       "      <td>92.955000</td>\n",
       "      <td>100.0</td>\n",
       "      <td>120.0</td>\n",
       "      <td>80.0</td>\n",
       "      <td>10.0</td>\n",
       "    </tr>\n",
       "    <tr>\n",
       "      <th>max</th>\n",
       "      <td>2.460000e+00</td>\n",
       "      <td>105.150000</td>\n",
       "      <td>100.0</td>\n",
       "      <td>120.0</td>\n",
       "      <td>80.0</td>\n",
       "      <td>10.0</td>\n",
       "    </tr>\n",
       "  </tbody>\n",
       "</table>\n",
       "</div>"
      ],
      "text/plain": [
       "            CTDIvol         DLP    EkV    EmA   skV   smA\n",
       "count  8.000000e+00    8.000000    8.0    8.0   8.0   8.0\n",
       "mean   2.460000e+00   88.888750  100.0  120.0  80.0  10.0\n",
       "std    4.747513e-16   10.821908    0.0    0.0   0.0   0.0\n",
       "min    2.460000e+00   76.920000  100.0  120.0  80.0  10.0\n",
       "25%    2.460000e+00   83.445000  100.0  120.0  80.0  10.0\n",
       "50%    2.460000e+00   85.820000  100.0  120.0  80.0  10.0\n",
       "75%    2.460000e+00   92.955000  100.0  120.0  80.0  10.0\n",
       "max    2.460000e+00  105.150000  100.0  120.0  80.0  10.0"
      ]
     },
     "execution_count": 61,
     "metadata": {},
     "output_type": "execute_result"
    },
    {
     "data": {
      "image/png": "[encoded data removed]",
      "text/plain": [
       "<Figure size 432x288 with 1 Axes>"
      ]
     },
     "metadata": {},
     "output_type": "display_data"
    }
   ],
   "source": [
    "######################### Paratiroides #################\n",
    "\n",
    "is_CTPara =  data['Tipo']=='Paratiroides'\n",
    "data_CTPara=data[is_CTPara]\n",
    "\n",
    "\n",
    "sns.distplot(data_CTPara['DLP'],bins=4,kde=False,color='b')\n",
    "plt.title('CT Paratiroides')\n",
    "plt.xlabel('DLP [mGy cm]')\n",
    "plt.ylabel('Número de Pacientes')\n",
    "\n",
    "plt.savefig('SPECTPara.pdf')\n",
    "data_CTPara.describe()\n",
    "\n"
   ]
  },
  {
   "cell_type": "code",
   "execution_count": 62,
   "metadata": {},
   "outputs": [
    {
     "data": {
      "text/plain": [
       "<matplotlib.axes._subplots.AxesSubplot at 0x1a1dabebe0>"
      ]
     },
     "execution_count": 62,
     "metadata": {},
     "output_type": "execute_result"
    },
    {
     "data": {
      "image/png": "[encoded data removed]",
      "text/plain": [
       "<Figure size 432x288 with 1 Axes>"
      ]
     },
     "metadata": {},
     "output_type": "display_data"
    }
   ],
   "source": [
    "sns.boxplot(x=\"Tipo\", y=\"DLP\", data=data_CTPara)"
   ]
  },
  {
   "cell_type": "code",
   "execution_count": 63,
   "metadata": {},
   "outputs": [
    {
     "name": "stderr",
     "output_type": "stream",
     "text": [
      "/Users/Mila/anaconda/lib/python3.5/site-packages/matplotlib/axes/_axes.py:6462: UserWarning: The 'normed' kwarg is deprecated, and has been replaced by the 'density' kwarg.\n",
      "  warnings.warn(\"The 'normed' kwarg is deprecated, and has been \"\n"
     ]
    },
    {
     "data": {
      "text/plain": [
       "Text(0,0.5,'Número de Pacientes')"
      ]
     },
     "execution_count": 63,
     "metadata": {},
     "output_type": "execute_result"
    },
    {
     "data": {
      "image/png": "[encoded data removed]",
      "text/plain": [
       "<Figure size 432x288 with 1 Axes>"
      ]
     },
     "metadata": {},
     "output_type": "display_data"
    }
   ],
   "source": [
    "sns.distplot(data_CTPara['CTDIvol'],kde=False,color='b')\n",
    "plt.title('CT Paratiroides')\n",
    "plt.xlabel('CTDIvol [mGy]')\n",
    "plt.ylabel('Número de Pacientes')"
   ]
  },
  {
   "cell_type": "code",
   "execution_count": 64,
   "metadata": {},
   "outputs": [
    {
     "data": {
      "text/plain": [
       "<matplotlib.axes._subplots.AxesSubplot at 0x1a1db93400>"
      ]
     },
     "execution_count": 64,
     "metadata": {},
     "output_type": "execute_result"
    },
    {
     "data": {
      "image/png": "[encoded data removed]",
      "text/plain": [
       "<Figure size 432x288 with 1 Axes>"
      ]
     },
     "metadata": {},
     "output_type": "display_data"
    }
   ],
   "source": [
    "sns.boxplot(x=\"Tipo\", y=\"CTDIvol\", data=data_CTPara)"
   ]
  },
  {
   "cell_type": "code",
   "execution_count": 65,
   "metadata": {},
   "outputs": [
    {
     "name": "stderr",
     "output_type": "stream",
     "text": [
      "/Users/Mila/anaconda/lib/python3.5/site-packages/matplotlib/axes/_axes.py:6462: UserWarning: The 'normed' kwarg is deprecated, and has been replaced by the 'density' kwarg.\n",
      "  warnings.warn(\"The 'normed' kwarg is deprecated, and has been \"\n"
     ]
    },
    {
     "data": {
      "text/html": [
       "<div>\n",
       "<table border=\"1\" class=\"dataframe\">\n",
       "  <thead>\n",
       "    <tr style=\"text-align: right;\">\n",
       "      <th></th>\n",
       "      <th>CTDIvol</th>\n",
       "      <th>DLP</th>\n",
       "      <th>EkV</th>\n",
       "      <th>EmA</th>\n",
       "      <th>skV</th>\n",
       "      <th>smA</th>\n",
       "    </tr>\n",
       "  </thead>\n",
       "  <tbody>\n",
       "    <tr>\n",
       "      <th>count</th>\n",
       "      <td>8.000000</td>\n",
       "      <td>8.000000</td>\n",
       "      <td>8.000000</td>\n",
       "      <td>8.000000</td>\n",
       "      <td>8.0</td>\n",
       "      <td>8.0</td>\n",
       "    </tr>\n",
       "    <tr>\n",
       "      <th>mean</th>\n",
       "      <td>2.790000</td>\n",
       "      <td>109.780000</td>\n",
       "      <td>102.500000</td>\n",
       "      <td>123.750000</td>\n",
       "      <td>80.0</td>\n",
       "      <td>10.0</td>\n",
       "    </tr>\n",
       "    <tr>\n",
       "      <th>std</th>\n",
       "      <td>0.933381</td>\n",
       "      <td>33.338022</td>\n",
       "      <td>7.071068</td>\n",
       "      <td>10.606602</td>\n",
       "      <td>0.0</td>\n",
       "      <td>0.0</td>\n",
       "    </tr>\n",
       "    <tr>\n",
       "      <th>min</th>\n",
       "      <td>2.460000</td>\n",
       "      <td>74.160000</td>\n",
       "      <td>100.000000</td>\n",
       "      <td>120.000000</td>\n",
       "      <td>80.0</td>\n",
       "      <td>10.0</td>\n",
       "    </tr>\n",
       "    <tr>\n",
       "      <th>25%</th>\n",
       "      <td>2.460000</td>\n",
       "      <td>98.402500</td>\n",
       "      <td>100.000000</td>\n",
       "      <td>120.000000</td>\n",
       "      <td>80.0</td>\n",
       "      <td>10.0</td>\n",
       "    </tr>\n",
       "    <tr>\n",
       "      <th>50%</th>\n",
       "      <td>2.460000</td>\n",
       "      <td>104.845000</td>\n",
       "      <td>100.000000</td>\n",
       "      <td>120.000000</td>\n",
       "      <td>80.0</td>\n",
       "      <td>10.0</td>\n",
       "    </tr>\n",
       "    <tr>\n",
       "      <th>75%</th>\n",
       "      <td>2.460000</td>\n",
       "      <td>107.682500</td>\n",
       "      <td>100.000000</td>\n",
       "      <td>120.000000</td>\n",
       "      <td>80.0</td>\n",
       "      <td>10.0</td>\n",
       "    </tr>\n",
       "    <tr>\n",
       "      <th>max</th>\n",
       "      <td>5.100000</td>\n",
       "      <td>185.750000</td>\n",
       "      <td>120.000000</td>\n",
       "      <td>150.000000</td>\n",
       "      <td>80.0</td>\n",
       "      <td>10.0</td>\n",
       "    </tr>\n",
       "  </tbody>\n",
       "</table>\n",
       "</div>"
      ],
      "text/plain": [
       "        CTDIvol         DLP         EkV         EmA   skV   smA\n",
       "count  8.000000    8.000000    8.000000    8.000000   8.0   8.0\n",
       "mean   2.790000  109.780000  102.500000  123.750000  80.0  10.0\n",
       "std    0.933381   33.338022    7.071068   10.606602   0.0   0.0\n",
       "min    2.460000   74.160000  100.000000  120.000000  80.0  10.0\n",
       "25%    2.460000   98.402500  100.000000  120.000000  80.0  10.0\n",
       "50%    2.460000  104.845000  100.000000  120.000000  80.0  10.0\n",
       "75%    2.460000  107.682500  100.000000  120.000000  80.0  10.0\n",
       "max    5.100000  185.750000  120.000000  150.000000  80.0  10.0"
      ]
     },
     "execution_count": 65,
     "metadata": {},
     "output_type": "execute_result"
    },
    {
     "data": {
      "image/png": "[encoded data removed]",
      "text/plain": [
       "<Figure size 432x288 with 1 Axes>"
      ]
     },
     "metadata": {},
     "output_type": "display_data"
    }
   ],
   "source": [
    "######################### Centinela #################\n",
    "\n",
    "is_CTCenti =  data['Tipo']=='Centinela'\n",
    "data_CTCenti=data[is_CTCenti]\n",
    "\n",
    "\n",
    "sns.distplot(data_CTCenti['DLP'],bins=4,kde=False,color='b')\n",
    "plt.title('CT Centinela')\n",
    "plt.xlabel('DLP [mGy cm]')\n",
    "plt.ylabel('Número de Pacientes')\n",
    "\n",
    "plt.savefig('SPECTCentinela.pdf')\n",
    "data_CTCenti.describe()\n",
    "\n"
   ]
  },
  {
   "cell_type": "code",
   "execution_count": 66,
   "metadata": {},
   "outputs": [
    {
     "data": {
      "text/plain": [
       "<matplotlib.axes._subplots.AxesSubplot at 0x1a1dd23320>"
      ]
     },
     "execution_count": 66,
     "metadata": {},
     "output_type": "execute_result"
    },
    {
     "data": {
      "image/png": "[encoded data removed]",
      "text/plain": [
       "<Figure size 432x288 with 1 Axes>"
      ]
     },
     "metadata": {},
     "output_type": "display_data"
    }
   ],
   "source": [
    "sns.boxplot(x=\"Tipo\", y=\"DLP\", data=data_CTCenti)"
   ]
  },
  {
   "cell_type": "code",
   "execution_count": 67,
   "metadata": {},
   "outputs": [
    {
     "name": "stderr",
     "output_type": "stream",
     "text": [
      "/Users/Mila/anaconda/lib/python3.5/site-packages/matplotlib/axes/_axes.py:6462: UserWarning: The 'normed' kwarg is deprecated, and has been replaced by the 'density' kwarg.\n",
      "  warnings.warn(\"The 'normed' kwarg is deprecated, and has been \"\n"
     ]
    },
    {
     "data": {
      "text/plain": [
       "Text(0,0.5,'Número de Pacientes')"
      ]
     },
     "execution_count": 67,
     "metadata": {},
     "output_type": "execute_result"
    },
    {
     "data": {
      "image/png": "[encoded data removed]",
      "text/plain": [
       "<Figure size 432x288 with 1 Axes>"
      ]
     },
     "metadata": {},
     "output_type": "display_data"
    }
   ],
   "source": [
    "sns.distplot(data_CTCenti['CTDIvol'],kde=False,color='b')\n",
    "plt.title('CT Centinela')\n",
    "plt.xlabel('CTDIvol [mGy]')\n",
    "plt.ylabel('Número de Pacientes')"
   ]
  },
  {
   "cell_type": "code",
   "execution_count": 68,
   "metadata": {},
   "outputs": [
    {
     "data": {
      "text/plain": [
       "<matplotlib.axes._subplots.AxesSubplot at 0x1a1de6b0f0>"
      ]
     },
     "execution_count": 68,
     "metadata": {},
     "output_type": "execute_result"
    },
    {
     "data": {
      "image/png": "[encoded data removed]",
      "text/plain": [
       "<Figure size 432x288 with 1 Axes>"
      ]
     },
     "metadata": {},
     "output_type": "display_data"
    }
   ],
   "source": [
    "sns.boxplot(x=\"Tipo\", y=\"CTDIvol\", data=data_CTCenti)"
   ]
  },
  {
   "cell_type": "code",
   "execution_count": null,
   "metadata": {
    "collapsed": true
   },
   "outputs": [],
   "source": []
  },
  {
   "cell_type": "code",
   "execution_count": 34,
   "metadata": {},
   "outputs": [
    {
     "data": {
      "text/plain": [
       "(5, 7)"
      ]
     },
     "execution_count": 34,
     "metadata": {},
     "output_type": "execute_result"
    }
   ],
   "source": [
    "######################## CTCYC Y CTCEREBRO ##############################\n",
    "\n",
    "######### CTCYC #####\n",
    "#is_CTCYCf =  data_femenino['Protocolo']=='CTCYC'\n",
    "#data_CTCYCf=data_femenino[is_CTCYCf]\n",
    "#data_CTCYCf.shape\n",
    "\n",
    "#is_CTCYCm =  data_masculino['Protocolo']=='CTCYC'\n",
    "#data_CTCYCm=data_masculino[is_CTCYCm]\n",
    "#data_CTCYCm.shape\n",
    "\n",
    "######### CTCEREBRO #####\n",
    "#is_CTCEREBROf =  data_femenino['Protocolo']=='CTCEREBRO'\n",
    "#data_CTCEREBROf=data_femenino[is_CTCEREBROf]\n",
    "#data_CTCEREBROf.shape\n",
    "\n",
    "#is_CTCEREBROm =  data_masculino['Protocolo']=='CTCEREBRO'\n",
    "#data_CTCEREBROm=data_masculino[is_CTCEREBROm]\n",
    "#data_CTCEREBROm.shape"
   ]
  },
  {
   "cell_type": "markdown",
   "metadata": {},
   "source": [
    "# ADULTO "
   ]
  },
  {
   "cell_type": "code",
   "execution_count": 22,
   "metadata": {
    "collapsed": true
   },
   "outputs": [],
   "source": [
    "##### CTWB ######\n",
    "#from scipy import stats\n",
    "#is_CTWB =  data['Protocolo']=='CTWB'\n",
    "#data_CTWB=data[is_CTWB]\n",
    "#data_CTWB.shape\n",
    "#data_CTWB.head()\n",
    "#data_CTWB.describe()"
   ]
  },
  {
   "cell_type": "markdown",
   "metadata": {},
   "source": [
    "Donde se presenta en orden el número de datos (count), su promedio (mean), su desviación estandar (std), el valor máximo (max) y el mínimo en cada columna de datos. Adicionalmente se muestra el percentil 25 (25 %), 50 (50 %) y 75 (75 %). Donde el percentil 25 indica que el 25% de los datos tienen un valor menor o igual al reportado. Entonces el percentil 50, hace referencia a la mediana de los datos :)"
   ]
  },
  {
   "cell_type": "markdown",
   "metadata": {},
   "source": [
    "### Histograma CT WB"
   ]
  },
  {
   "cell_type": "code",
   "execution_count": 23,
   "metadata": {
    "collapsed": true
   },
   "outputs": [],
   "source": [
    "#sns.distplot(data_CTWB['CTDIvol'],kde=False,color='b')\n",
    "\n",
    "### Decoración del histograma\n",
    "#plt.title('CT Cuerpo Completo Adulto')\n",
    "#plt.xlabel('CTDIvol [mGy]')\n",
    "#plt.ylabel('Frecuencia')"
   ]
  },
  {
   "cell_type": "code",
   "execution_count": 24,
   "metadata": {
    "collapsed": true
   },
   "outputs": [],
   "source": [
    "######################## CTABDPELVI ##############################\n",
    "\n",
    "######### CTABDPELVI #####\n",
    "#is_CTABDPELVI =  data['Protocolo']=='CTABDPELVI'\n",
    "#data_CTABDPELVI=data[is_CTABDPELVI]\n",
    "#data_CTABDPELVI.shape\n",
    "#data_CTABDPELVI.head()\n",
    "#data_CTABDPELVI.describe()"
   ]
  },
  {
   "cell_type": "code",
   "execution_count": 25,
   "metadata": {
    "collapsed": true
   },
   "outputs": [],
   "source": [
    "#sns.distplot(data_CTABDPELVI['CTDIvol'],bins= 11,kde=False,color='b')\n",
    "\n",
    "### Decoración del histograma\n",
    "#plt.title('CT Abdomen y Pelvis Adulto')\n",
    "#plt.xlabel('CTDIvol[mGy]')\n",
    "#plt.ylabel('Frecuencia')"
   ]
  },
  {
   "cell_type": "code",
   "execution_count": 26,
   "metadata": {
    "collapsed": true
   },
   "outputs": [],
   "source": [
    "######################## CTCYC ##############################\n",
    "\n",
    "######### CTCYC #####\n",
    "#is_CTCYC =  data['Protocolo']=='CTCYC'\n",
    "#data_CTCYC=data[is_CTCYC]\n",
    "#data_CTCYC.shape\n",
    "#data_CTCYC.head()\n",
    "#data_CTCYC.describe()"
   ]
  },
  {
   "cell_type": "code",
   "execution_count": 27,
   "metadata": {
    "collapsed": true
   },
   "outputs": [],
   "source": [
    "#sns.distplot(data_CTCYC['DLP'],kde=False,color='b')\n",
    "\n",
    "### Decoración del histograma\n",
    "#plt.title('Todos')\n",
    "#plt.xlabel('DLP [mGy cm]')\n",
    "#plt.ylabel('Frecuencia')"
   ]
  },
  {
   "cell_type": "code",
   "execution_count": 28,
   "metadata": {
    "collapsed": true
   },
   "outputs": [],
   "source": [
    "######### CTCEREBRO #####\n",
    "#is_CTCEREBRO =  data['Protocolo']=='CTCEREBRO'\n",
    "#data_CTCEREBRO=data[is_CTCEREBRO]\n",
    "#data_CTCEREBRO.shape\n",
    "#data_CTCEREBRO.head()\n",
    "#data_CTCEREBRO.describe()"
   ]
  },
  {
   "cell_type": "code",
   "execution_count": 29,
   "metadata": {
    "collapsed": true
   },
   "outputs": [],
   "source": [
    "#Para cargar los datos\n",
    "#dato = pd.read_csv('DRLSPECT.txt', delim_whitespace =True)\n",
    "\n",
    "#para ver los primeros datos\n",
    "#dato.head()"
   ]
  },
  {
   "cell_type": "code",
   "execution_count": 30,
   "metadata": {
    "collapsed": true
   },
   "outputs": [],
   "source": [
    "#is_OSEA =  dato['ESTUDIO']=='OSEA'\n",
    "#dato_OSEA=dato[is_OSEA]\n",
    "#data_CTWB.shape\n",
    "#data_CTWB.head()\n",
    "#dato_OSEA.describe()"
   ]
  },
  {
   "cell_type": "code",
   "execution_count": 31,
   "metadata": {
    "collapsed": true
   },
   "outputs": [],
   "source": [
    "#is_RASTREO =  dato['ESTUDIO']=='RASTREO'\n",
    "#dato_RASTREO=dato[is_RASTREO]\n",
    "#data_CTWB.shape\n",
    "#data_CTWB.head()\n",
    "#dato_RASTREO.describe()"
   ]
  },
  {
   "cell_type": "code",
   "execution_count": 32,
   "metadata": {
    "collapsed": true
   },
   "outputs": [],
   "source": [
    "#sns.distplot(dato_OSEA['CTDIvol'],kde=False,color='b')\n",
    "\n",
    "### Decoración del histograma\n",
    "#plt.title('Todos')\n",
    "#plt.xlabel('CTDIvol [mGy]')\n",
    "#plt.ylabel('Frecuencia')"
   ]
  },
  {
   "cell_type": "code",
   "execution_count": 33,
   "metadata": {
    "collapsed": true
   },
   "outputs": [],
   "source": [
    "#sns.distplot(dato_RASTREO['CTDIvol'],kde=False,color='b')\n",
    "\n",
    "### Decoración del histograma\n",
    "#plt.title('Todos')\n",
    "#plt.xlabel('CTDIvol [mGy]')\n",
    "#plt.ylabel('Frecuencia')"
   ]
  },
  {
   "cell_type": "code",
   "execution_count": null,
   "metadata": {
    "collapsed": true
   },
   "outputs": [],
   "source": []
  },
  {
   "cell_type": "code",
   "execution_count": null,
   "metadata": {
    "collapsed": true
   },
   "outputs": [],
   "source": []
  }
 ],
 "metadata": {
  "kernelspec": {
   "display_name": "Python 3",
   "language": "python",
   "name": "python3"
  },
  "language_info": {
   "codemirror_mode": {
    "name": "ipython",
    "version": 3
   },
   "file_extension": ".py",
   "mimetype": "text/x-python",
   "name": "python",
   "nbconvert_exporter": "python",
   "pygments_lexer": "ipython3",
   "version": "3.5.5"
  }
 },
 "nbformat": 4,
 "nbformat_minor": 2
}
