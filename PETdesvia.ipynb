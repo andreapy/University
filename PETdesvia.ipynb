{
 "cells": [
  {
   "cell_type": "markdown",
   "metadata": {},
   "source": [
    "## Comparison of injected activity with prescribed activity in PET exams "
   ]
  },
  {
   "cell_type": "code",
   "execution_count": 1,
   "metadata": {},
   "outputs": [
    {
     "data": {
      "text/html": [
       "<div>\n",
       "<table border=\"1\" class=\"dataframe\">\n",
       "  <thead>\n",
       "    <tr style=\"text-align: right;\">\n",
       "      <th></th>\n",
       "      <th>Fecha</th>\n",
       "      <th>Radiofarmaco</th>\n",
       "      <th>ActivIny</th>\n",
       "      <th>HoraIny</th>\n",
       "      <th>HoraRecep</th>\n",
       "      <th>ActivAdm</th>\n",
       "      <th>HoraAdm</th>\n",
       "      <th>ActivDosi</th>\n",
       "      <th>VolDosi</th>\n",
       "      <th>HoraDosi</th>\n",
       "    </tr>\n",
       "  </thead>\n",
       "  <tbody>\n",
       "    <tr>\n",
       "      <th>0</th>\n",
       "      <td>10/06/2019</td>\n",
       "      <td>GADOTA</td>\n",
       "      <td>2.10</td>\n",
       "      <td>14:05</td>\n",
       "      <td>13:50</td>\n",
       "      <td>3.9</td>\n",
       "      <td>13:35</td>\n",
       "      <td>3.2</td>\n",
       "      <td>7.5</td>\n",
       "      <td>13:23</td>\n",
       "    </tr>\n",
       "    <tr>\n",
       "      <th>1</th>\n",
       "      <td>09/09/2019</td>\n",
       "      <td>GADOTA</td>\n",
       "      <td>4.16</td>\n",
       "      <td>13:06</td>\n",
       "      <td>13:05</td>\n",
       "      <td>4.6</td>\n",
       "      <td>12:00</td>\n",
       "      <td>6</td>\n",
       "      <td>6</td>\n",
       "      <td>11:56</td>\n",
       "    </tr>\n",
       "    <tr>\n",
       "      <th>2</th>\n",
       "      <td>09/09/2019</td>\n",
       "      <td>GADOTA</td>\n",
       "      <td>4.55</td>\n",
       "      <td>14:01</td>\n",
       "      <td>13:05</td>\n",
       "      <td>3.9</td>\n",
       "      <td>13:30</td>\n",
       "      <td>10.2</td>\n",
       "      <td>7.6</td>\n",
       "      <td>12:47</td>\n",
       "    </tr>\n",
       "    <tr>\n",
       "      <th>3</th>\n",
       "      <td>08/01/2020</td>\n",
       "      <td>FDG</td>\n",
       "      <td>8.25</td>\n",
       "      <td>13:21</td>\n",
       "      <td>12:20</td>\n",
       "      <td>9.75</td>\n",
       "      <td>13:13</td>\n",
       "      <td>24.5</td>\n",
       "      <td>1</td>\n",
       "      <td>10:53</td>\n",
       "    </tr>\n",
       "    <tr>\n",
       "      <th>4</th>\n",
       "      <td>08/01/2020</td>\n",
       "      <td>FDG</td>\n",
       "      <td>14.91</td>\n",
       "      <td>13:52</td>\n",
       "      <td>12:20</td>\n",
       "      <td>14.4</td>\n",
       "      <td>13:50</td>\n",
       "      <td>43</td>\n",
       "      <td>1.6</td>\n",
       "      <td>11:33</td>\n",
       "    </tr>\n",
       "  </tbody>\n",
       "</table>\n",
       "</div>"
      ],
      "text/plain": [
       "        Fecha Radiofarmaco  ActivIny HoraIny HoraRecep ActivAdm HoraAdm  \\\n",
       "0  10/06/2019       GADOTA      2.10   14:05     13:50      3.9   13:35   \n",
       "1  09/09/2019       GADOTA      4.16   13:06     13:05      4.6   12:00   \n",
       "2  09/09/2019       GADOTA      4.55   14:01     13:05      3.9   13:30   \n",
       "3  08/01/2020          FDG      8.25   13:21     12:20     9.75   13:13   \n",
       "4  08/01/2020          FDG     14.91   13:52     12:20     14.4   13:50   \n",
       "\n",
       "  ActivDosi VolDosi HoraDosi  \n",
       "0       3.2     7.5    13:23  \n",
       "1         6       6    11:56  \n",
       "2      10.2     7.6    12:47  \n",
       "3      24.5       1    10:53  \n",
       "4        43     1.6    11:33  "
      ]
     },
     "execution_count": 1,
     "metadata": {},
     "output_type": "execute_result"
    }
   ],
   "source": [
    "import numpy as np\n",
    "import pandas as pd\n",
    "import matplotlib.pyplot as plt\n",
    "\n",
    "%matplotlib inline\n",
    "\n",
    "#### Paquete de tiempo\n",
    "import datetime\n",
    "\n",
    "### Cargar Datos #### \n",
    "\n",
    "### Datos Radiofarmacos PET 2019\n",
    "data = pd.read_csv('fdgdrl.txt', delim_whitespace =True)\n",
    "\n",
    "# create headers list\n",
    "headers = [\"Genero\",\"Peso\",\"Horarec\",\"Actipres\",\"Horadm\",\"Actidosi\",\"Horadosi\",\"Voldosi\",\"Actiny\",\"Horainy\"]\n",
    "data.columns = headers"
   ]
  },
  {
   "cell_type": "code",
   "execution_count": null,
   "metadata": {
    "collapsed": true
   },
   "outputs": [],
   "source": [
    "#para ver los primeros datos\n",
    "#data.head()"
   ]
  },
  {
   "cell_type": "code",
   "execution_count": 2,
   "metadata": {
    "collapsed": true
   },
   "outputs": [],
   "source": [
    "### Half life PET radionuclides\n",
    "\n",
    "##############################\n",
    "########   F- 18  ###########\n",
    "### half life [min]\n",
    "HLF= 110\n",
    "### Lambda\n",
    "LambdaF= np.log(2)/HLF\n",
    "\n",
    "##############################\n",
    "########   Ga- 68  ###########\n",
    "### half life [min]\n",
    "HLGa= 67.83\n",
    "### Lambda\n",
    "LambdaGa= np.log(2)/HLGa"
   ]
  },
  {
   "cell_type": "code",
   "execution_count": 3,
   "metadata": {},
   "outputs": [
    {
     "data": {
      "text/plain": [
       "FDG       88\n",
       "GADOTA     3\n",
       "Name: Radiofarmaco, dtype: int64"
      ]
     },
     "execution_count": 3,
     "metadata": {},
     "output_type": "execute_result"
    }
   ],
   "source": [
    "#### Cuantos datos por radiofarmaco\n",
    "data[\"Radiofarmaco\"].value_counts()"
   ]
  },
  {
   "cell_type": "markdown",
   "metadata": {},
   "source": [
    "### Diagnostic Reference Level "
   ]
  },
  {
   "cell_type": "markdown",
   "metadata": {},
   "source": [
    "Comparar con guías internacionales: Europea (SNMMI) y no se que otra. Los valores de actividad a administrar por RF de diagnostico en PET."
   ]
  },
  {
   "cell_type": "code",
   "execution_count": 4,
   "metadata": {
    "collapsed": true
   },
   "outputs": [],
   "source": [
    "##########  Agrupando por examen #########\n",
    "data_group_exam = data.groupby(['Radiofarmaco'],as_index=False)\n",
    "\n",
    "######### FDG ##########\n",
    "FDG= data_group_exam.get_group('FDG')\n",
    "\n",
    "######### GADOTA  ##########\n",
    "GADOTA= data_group_exam.get_group('GADOTA')\n",
    "\n",
    "######### GAPSMA  ##########\n",
    "#GAPSMA= data_group_exam.get_group('GADOTA')"
   ]
  },
  {
   "cell_type": "code",
   "execution_count": 5,
   "metadata": {
    "collapsed": true
   },
   "outputs": [],
   "source": [
    "import seaborn as sns"
   ]
  },
  {
   "cell_type": "code",
   "execution_count": 6,
   "metadata": {},
   "outputs": [
    {
     "name": "stderr",
     "output_type": "stream",
     "text": [
      "/Users/Mila/anaconda/lib/python3.5/site-packages/matplotlib/axes/_axes.py:6462: UserWarning: The 'normed' kwarg is deprecated, and has been replaced by the 'density' kwarg.\n",
      "  warnings.warn(\"The 'normed' kwarg is deprecated, and has been \"\n"
     ]
    },
    {
     "data": {
      "image/png": "[encoded data removed]",
      "text/plain": [
       "<Figure size 720x504 with 2 Axes>"
      ]
     },
     "metadata": {},
     "output_type": "display_data"
    }
   ],
   "source": [
    "### Plot the data\n",
    "plt.figure(figsize=(10,7))\n",
    "ax1=plt.subplot(1,1,1)\n",
    "sns.distplot(FDG['ActivIny'],kde=False,color='b',ax=ax1)\n",
    "#plt.plot((15, 15),(0,125), '--k', linewidth=1) \n",
    "#plt.plot((4.2, 4.2),(0,125), '--k', linewidth=1) \n",
    "\n",
    "ax1.set_title('$^{18}$F-FDG',fontsize=14)\n",
    "ax1.set_ylabel('Number of patients',fontsize=14)\n",
    "ax1.set_xlabel('Injected Activity [mCi]',fontsize=14)\n",
    "ax1.tick_params(axis='both',labelsize=14)\n",
    "sns.set_style('ticks')\n",
    "\n",
    "## Set second x-axis for MBq\n",
    "ax2 = ax1.twiny()\n",
    "MBqs = np.linspace(FDG['ActivIny'].min(),FDG['ActivIny'].max()*37,7) # Actividad en MBq\n",
    "ax2.set_xticks(MBqs/37) # Ponga los ticks\n",
    "ax2.set_xticklabels(MBqs.astype(int)) # Ponga los Labels\n",
    "ax2.xaxis.set_ticks_position('bottom') # set the position of the second x-axis to bottom\n",
    "ax2.xaxis.set_label_position('bottom') # set the position of the second x-axis to bottom\n",
    "ax2.spines['bottom'].set_position(('outward', 56))\n",
    "ax2.set_xlabel('Injected Activity [MBq]',fontsize=14)\n",
    "ax2.set_xlim(ax1.get_xlim())\n",
    "ax2.tick_params(labelsize=14)\n",
    "\n",
    "#plt.savefig('fdgrf.pdf',bbox_inches = \"tight\")"
   ]
  },
  {
   "cell_type": "code",
   "execution_count": 7,
   "metadata": {},
   "outputs": [
    {
     "data": {
      "text/plain": [
       "count    88.000000\n",
       "mean      9.898182\n",
       "std       2.330812\n",
       "min       2.410000\n",
       "25%       8.702500\n",
       "50%       9.695000\n",
       "75%      11.222500\n",
       "max      16.370000\n",
       "Name: ActivIny, dtype: float64"
      ]
     },
     "execution_count": 7,
     "metadata": {},
     "output_type": "execute_result"
    }
   ],
   "source": [
    "######## Estadisticos FDG F-18\n",
    "FDG['ActivIny'].describe()"
   ]
  },
  {
   "cell_type": "code",
   "execution_count": 8,
   "metadata": {
    "collapsed": true
   },
   "outputs": [],
   "source": [
    "######## Estadisticos GADOTA Ga-68\n",
    "#GADOTA['ActivIny'].describe()"
   ]
  },
  {
   "cell_type": "code",
   "execution_count": 9,
   "metadata": {
    "collapsed": true
   },
   "outputs": [],
   "source": [
    "######## Estadisticos GAPSMA Ga-68\n",
    "#GAPSMA['ActivIny'].describe()"
   ]
  },
  {
   "cell_type": "code",
   "execution_count": 10,
   "metadata": {},
   "outputs": [
    {
     "data": {
      "text/plain": [
       "Fecha            object\n",
       "Radiofarmaco     object\n",
       "ActivIny        float64\n",
       "HoraIny          object\n",
       "HoraRecep        object\n",
       "ActivAdm         object\n",
       "HoraAdm          object\n",
       "ActivDosi        object\n",
       "VolDosi          object\n",
       "HoraDosi         object\n",
       "dtype: object"
      ]
     },
     "execution_count": 10,
     "metadata": {},
     "output_type": "execute_result"
    }
   ],
   "source": [
    "data.dtypes"
   ]
  },
  {
   "cell_type": "code",
   "execution_count": 11,
   "metadata": {
    "collapsed": true
   },
   "outputs": [],
   "source": [
    "#replace NV to NaN\n",
    "data.replace(\"NV\", np.nan, inplace = True)"
   ]
  },
  {
   "cell_type": "code",
   "execution_count": 12,
   "metadata": {},
   "outputs": [
    {
     "data": {
      "text/plain": [
       "Fecha            object\n",
       "Radiofarmaco     object\n",
       "ActivIny        float64\n",
       "HoraIny          object\n",
       "HoraRecep        object\n",
       "ActivAdm         object\n",
       "HoraAdm          object\n",
       "ActivDosi        object\n",
       "VolDosi          object\n",
       "HoraDosi         object\n",
       "dtype: object"
      ]
     },
     "execution_count": 12,
     "metadata": {},
     "output_type": "execute_result"
    }
   ],
   "source": [
    "data.dtypes"
   ]
  },
  {
   "cell_type": "code",
   "execution_count": 13,
   "metadata": {
    "collapsed": true
   },
   "outputs": [],
   "source": [
    "data[[\"ActivAdm\"]] = data[[\"ActivAdm\"]].astype(\"float\")"
   ]
  },
  {
   "cell_type": "code",
   "execution_count": 14,
   "metadata": {
    "collapsed": true
   },
   "outputs": [],
   "source": [
    "data.dropna(subset=[\"ActivAdm\"], axis=0, inplace=True)"
   ]
  },
  {
   "cell_type": "code",
   "execution_count": 16,
   "metadata": {
    "collapsed": true
   },
   "outputs": [],
   "source": [
    "data.reset_index(drop=True, inplace=True)"
   ]
  },
  {
   "cell_type": "markdown",
   "metadata": {},
   "source": [
    "### Diferencia entre actividad prescrita e inyectada "
   ]
  },
  {
   "cell_type": "markdown",
   "metadata": {},
   "source": [
    "\\begin{equation}\n",
    "\\frac{(\\text{Actividad Prescrita}-\\text{Actividad Inyectada})\\times 100}{\\text{Actividad Prescrita}}\n",
    "\\end{equation}"
   ]
  },
  {
   "cell_type": "markdown",
   "metadata": {},
   "source": [
    "Aquí Actividad Inyectada = Actividad Pre-jeringa -Actividad Post Jeringa"
   ]
  },
  {
   "cell_type": "code",
   "execution_count": 17,
   "metadata": {
    "collapsed": true
   },
   "outputs": [],
   "source": [
    "##Diferencia\n",
    "perce=np.absolute(((data['ActivAdm']-data['ActivIny'])*100)/data['ActivAdm'])"
   ]
  },
  {
   "cell_type": "code",
   "execution_count": 18,
   "metadata": {
    "collapsed": true
   },
   "outputs": [],
   "source": [
    "percent=round(perce,1)"
   ]
  },
  {
   "cell_type": "code",
   "execution_count": 19,
   "metadata": {
    "collapsed": true
   },
   "outputs": [],
   "source": [
    "### Ingresar datos en el data \n",
    "data['percent']= percent"
   ]
  },
  {
   "cell_type": "code",
   "execution_count": 20,
   "metadata": {},
   "outputs": [
    {
     "data": {
      "text/html": [
       "<div>\n",
       "<table border=\"1\" class=\"dataframe\">\n",
       "  <thead>\n",
       "    <tr style=\"text-align: right;\">\n",
       "      <th></th>\n",
       "      <th>Fecha</th>\n",
       "      <th>Radiofarmaco</th>\n",
       "      <th>ActivIny</th>\n",
       "      <th>HoraIny</th>\n",
       "      <th>HoraRecep</th>\n",
       "      <th>ActivAdm</th>\n",
       "      <th>HoraAdm</th>\n",
       "      <th>ActivDosi</th>\n",
       "      <th>VolDosi</th>\n",
       "      <th>HoraDosi</th>\n",
       "      <th>percent</th>\n",
       "    </tr>\n",
       "  </thead>\n",
       "  <tbody>\n",
       "    <tr>\n",
       "      <th>0</th>\n",
       "      <td>10/06/2019</td>\n",
       "      <td>GADOTA</td>\n",
       "      <td>2.10</td>\n",
       "      <td>14:05</td>\n",
       "      <td>13:50</td>\n",
       "      <td>3.90</td>\n",
       "      <td>13:35</td>\n",
       "      <td>3.2</td>\n",
       "      <td>7.5</td>\n",
       "      <td>13:23</td>\n",
       "      <td>46.2</td>\n",
       "    </tr>\n",
       "    <tr>\n",
       "      <th>1</th>\n",
       "      <td>09/09/2019</td>\n",
       "      <td>GADOTA</td>\n",
       "      <td>4.16</td>\n",
       "      <td>13:06</td>\n",
       "      <td>13:05</td>\n",
       "      <td>4.60</td>\n",
       "      <td>12:00</td>\n",
       "      <td>6</td>\n",
       "      <td>6</td>\n",
       "      <td>11:56</td>\n",
       "      <td>9.6</td>\n",
       "    </tr>\n",
       "    <tr>\n",
       "      <th>2</th>\n",
       "      <td>09/09/2019</td>\n",
       "      <td>GADOTA</td>\n",
       "      <td>4.55</td>\n",
       "      <td>14:01</td>\n",
       "      <td>13:05</td>\n",
       "      <td>3.90</td>\n",
       "      <td>13:30</td>\n",
       "      <td>10.2</td>\n",
       "      <td>7.6</td>\n",
       "      <td>12:47</td>\n",
       "      <td>16.7</td>\n",
       "    </tr>\n",
       "    <tr>\n",
       "      <th>3</th>\n",
       "      <td>08/01/2020</td>\n",
       "      <td>FDG</td>\n",
       "      <td>8.25</td>\n",
       "      <td>13:21</td>\n",
       "      <td>12:20</td>\n",
       "      <td>9.75</td>\n",
       "      <td>13:13</td>\n",
       "      <td>24.5</td>\n",
       "      <td>1</td>\n",
       "      <td>10:53</td>\n",
       "      <td>15.4</td>\n",
       "    </tr>\n",
       "    <tr>\n",
       "      <th>4</th>\n",
       "      <td>08/01/2020</td>\n",
       "      <td>FDG</td>\n",
       "      <td>14.91</td>\n",
       "      <td>13:52</td>\n",
       "      <td>12:20</td>\n",
       "      <td>14.40</td>\n",
       "      <td>13:50</td>\n",
       "      <td>43</td>\n",
       "      <td>1.6</td>\n",
       "      <td>11:33</td>\n",
       "      <td>3.5</td>\n",
       "    </tr>\n",
       "  </tbody>\n",
       "</table>\n",
       "</div>"
      ],
      "text/plain": [
       "        Fecha Radiofarmaco  ActivIny HoraIny HoraRecep  ActivAdm HoraAdm  \\\n",
       "0  10/06/2019       GADOTA      2.10   14:05     13:50      3.90   13:35   \n",
       "1  09/09/2019       GADOTA      4.16   13:06     13:05      4.60   12:00   \n",
       "2  09/09/2019       GADOTA      4.55   14:01     13:05      3.90   13:30   \n",
       "3  08/01/2020          FDG      8.25   13:21     12:20      9.75   13:13   \n",
       "4  08/01/2020          FDG     14.91   13:52     12:20     14.40   13:50   \n",
       "\n",
       "  ActivDosi VolDosi HoraDosi  percent  \n",
       "0       3.2     7.5    13:23     46.2  \n",
       "1         6       6    11:56      9.6  \n",
       "2      10.2     7.6    12:47     16.7  \n",
       "3      24.5       1    10:53     15.4  \n",
       "4        43     1.6    11:33      3.5  "
      ]
     },
     "execution_count": 20,
     "metadata": {},
     "output_type": "execute_result"
    }
   ],
   "source": [
    "data.head()"
   ]
  },
  {
   "cell_type": "markdown",
   "metadata": {},
   "source": [
    "Altos porcentajes de diferencia entre actividad prescrita y actividad inyectada, pueden tener las siguientes causas asignables:\n",
    "\n",
    "1. Retraso en la recepción de la actividad porque: radiofarmaco esta en pruebas de control de calidad ó falla  comunicación entre RF-MN  [TIEMPO]\n",
    "2. El farmaco marcado con Ga-68 es enviado en una lonchera y con un tapón. En el cambio del tapón por la jeringa, es probable que se pierda una cierta cantidad de material\n",
    "3. Dificultades tecnicas con el PET, que retrasa el proceso para realizar el estudio [TIEMPO]\n",
    "4. ¿Actividad residual en jeringa es considerable?"
   ]
  },
  {
   "cell_type": "markdown",
   "metadata": {},
   "source": [
    "#### Añadir grafico % Dif "
   ]
  },
  {
   "cell_type": "code",
   "execution_count": 21,
   "metadata": {
    "collapsed": true
   },
   "outputs": [],
   "source": [
    "##########  Agrupando por examen #########\n",
    "data_group_exam = data.groupby(['Radiofarmaco'],as_index=False)\n",
    "\n",
    "######### FDG ##########\n",
    "FDG= data_group_exam.get_group('FDG')\n",
    "\n",
    "######### GADOTA  ##########\n",
    "#GADOTA= data_group_exam.get_group('GADOTA')"
   ]
  },
  {
   "cell_type": "code",
   "execution_count": 22,
   "metadata": {},
   "outputs": [
    {
     "data": {
      "text/plain": [
       "count     9.000000\n",
       "mean     10.844444\n",
       "std       8.120362\n",
       "min       0.200000\n",
       "25%       4.500000\n",
       "50%       8.900000\n",
       "75%      15.500000\n",
       "max      25.900000\n",
       "Name: percent, dtype: float64"
      ]
     },
     "execution_count": 22,
     "metadata": {},
     "output_type": "execute_result"
    }
   ],
   "source": [
    "FDG['percent'].describe()"
   ]
  },
  {
   "cell_type": "markdown",
   "metadata": {},
   "source": [
    "#### Calcular actividad Prejeringa por decaimiento y con Actividad inyectada estimar actividad residual (o post jeringa) "
   ]
  },
  {
   "cell_type": "markdown",
   "metadata": {},
   "source": [
    "## ELAPSED TIME "
   ]
  },
  {
   "cell_type": "code",
   "execution_count": 23,
   "metadata": {
    "collapsed": true
   },
   "outputs": [],
   "source": [
    "##### HORAS EN FORMATO DE 24 H \n",
    "##### MINUTOS EN FORMATO DE 60 \n",
    "\n",
    "#############################################################\n",
    "##### Hora para la que esta \"calibrada la actividad\" ########\n",
    "pres = pd.to_datetime(data[\"HoraAdm\"],format='%H:%M')\n",
    "\n",
    "############################################################\n",
    "##### Hora de recepción del bulto en MN ########\n",
    "recep = pd.to_datetime(data[\"HoraRecep\"],format='%H:%M')\n",
    "\n",
    "############################################################\n",
    "##### Hora de recepción del bulto en MN ########\n",
    "Inye = pd.to_datetime(data[\"HoraIny\"],format='%H:%M')\n",
    "\n",
    "############################################################\n",
    "##### Hora de recepción del bulto en MN ########\n",
    "dosi = pd.to_datetime(data[\"HoraDosi\"],format='%H:%M')\n"
   ]
  },
  {
   "cell_type": "code",
   "execution_count": 24,
   "metadata": {
    "collapsed": true
   },
   "outputs": [],
   "source": [
    "#### Elapsed time\n",
    "\n",
    "#### Tiempo transcurrido entre la hora prescrita y la hora de recepción \n",
    "timePR = pres - recep\n",
    "\n",
    "## Si el tiempo es negativo -> Recepción tarde! -> Asignar variable Categorica"
   ]
  },
  {
   "cell_type": "code",
   "execution_count": null,
   "metadata": {
    "collapsed": true
   },
   "outputs": [],
   "source": [
    "#timePR"
   ]
  },
  {
   "cell_type": "code",
   "execution_count": 25,
   "metadata": {
    "collapsed": true
   },
   "outputs": [],
   "source": [
    "#### Tiempo transcurrido entre la hora de inyección y la hora prescrita \n",
    "timePI = Inye -pres"
   ]
  },
  {
   "cell_type": "code",
   "execution_count": 28,
   "metadata": {},
   "outputs": [
    {
     "data": {
      "text/plain": [
       "0             00:30:00\n",
       "1             01:06:00\n",
       "2             00:31:00\n",
       "3             00:08:00\n",
       "4             00:02:00\n",
       "5             00:05:00\n",
       "6    -1 days +23:57:00\n",
       "7    -1 days +23:40:00\n",
       "8    -1 days +23:35:00\n",
       "9    -1 days +23:45:00\n",
       "10            00:25:00\n",
       "11            00:25:00\n",
       "dtype: timedelta64[ns]"
      ]
     },
     "execution_count": 28,
     "metadata": {},
     "output_type": "execute_result"
    }
   ],
   "source": [
    "timePI"
   ]
  },
  {
   "cell_type": "code",
   "execution_count": 29,
   "metadata": {
    "collapsed": true
   },
   "outputs": [],
   "source": [
    "#### Tiempo transcurrido entre la hora de dosificación y la hora de inyección\n",
    "timeID = Inye -dosi"
   ]
  },
  {
   "cell_type": "code",
   "execution_count": null,
   "metadata": {
    "collapsed": true
   },
   "outputs": [],
   "source": [
    "#timeID"
   ]
  },
  {
   "cell_type": "code",
   "execution_count": null,
   "metadata": {
    "collapsed": true
   },
   "outputs": [],
   "source": []
  },
  {
   "cell_type": "code",
   "execution_count": null,
   "metadata": {
    "collapsed": true
   },
   "outputs": [],
   "source": []
  },
  {
   "cell_type": "code",
   "execution_count": null,
   "metadata": {
    "collapsed": true
   },
   "outputs": [],
   "source": []
  }
 ],
 "metadata": {
  "kernelspec": {
   "display_name": "Python 3",
   "language": "python",
   "name": "python3"
  },
  "language_info": {
   "codemirror_mode": {
    "name": "ipython",
    "version": 3
   },
   "file_extension": ".py",
   "mimetype": "text/x-python",
   "name": "python",
   "nbconvert_exporter": "python",
   "pygments_lexer": "ipython3",
   "version": "3.5.5"
  }
 },
 "nbformat": 4,
 "nbformat_minor": 2
}
