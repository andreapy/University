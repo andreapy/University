{
 "cells": [
  {
   "cell_type": "markdown",
   "metadata": {},
   "source": [
    "# Prueba Geometría - Activimetros\n",
    "#### INC-2020  "
   ]
  },
  {
   "cell_type": "code",
   "execution_count": 183,
   "metadata": {},
   "outputs": [
    {
     "data": {
      "text/html": [
       "<div>\n",
       "<table border=\"1\" class=\"dataframe\">\n",
       "  <thead>\n",
       "    <tr style=\"text-align: right;\">\n",
       "      <th></th>\n",
       "      <th>RN</th>\n",
       "      <th>Activ</th>\n",
       "      <th>Contenedor</th>\n",
       "      <th>Capacidad</th>\n",
       "      <th>Volumen</th>\n",
       "      <th>Hora</th>\n",
       "      <th>Mean</th>\n",
       "      <th>STD</th>\n",
       "    </tr>\n",
       "  </thead>\n",
       "  <tbody>\n",
       "    <tr>\n",
       "      <th>0</th>\n",
       "      <td>Tc</td>\n",
       "      <td>25PET</td>\n",
       "      <td>Jeringa</td>\n",
       "      <td>1</td>\n",
       "      <td>0.1</td>\n",
       "      <td>13:44</td>\n",
       "      <td>0.355</td>\n",
       "      <td>0.0007</td>\n",
       "    </tr>\n",
       "    <tr>\n",
       "      <th>1</th>\n",
       "      <td>Tc</td>\n",
       "      <td>25PET</td>\n",
       "      <td>Jeringa</td>\n",
       "      <td>3</td>\n",
       "      <td>0.1</td>\n",
       "      <td>13:46</td>\n",
       "      <td>0.343</td>\n",
       "      <td>0.0007</td>\n",
       "    </tr>\n",
       "    <tr>\n",
       "      <th>2</th>\n",
       "      <td>Tc</td>\n",
       "      <td>25PET</td>\n",
       "      <td>Jeringa</td>\n",
       "      <td>1</td>\n",
       "      <td>0.3</td>\n",
       "      <td>13:47</td>\n",
       "      <td>0.548</td>\n",
       "      <td>0.0007</td>\n",
       "    </tr>\n",
       "    <tr>\n",
       "      <th>3</th>\n",
       "      <td>Tc</td>\n",
       "      <td>25PET</td>\n",
       "      <td>Jeringa</td>\n",
       "      <td>3</td>\n",
       "      <td>1.5</td>\n",
       "      <td>13:50</td>\n",
       "      <td>2.030</td>\n",
       "      <td>0.0042</td>\n",
       "    </tr>\n",
       "    <tr>\n",
       "      <th>4</th>\n",
       "      <td>Tc</td>\n",
       "      <td>25PET</td>\n",
       "      <td>Jeringa</td>\n",
       "      <td>3</td>\n",
       "      <td>0.3</td>\n",
       "      <td>13:51</td>\n",
       "      <td>0.560</td>\n",
       "      <td>0.0012</td>\n",
       "    </tr>\n",
       "  </tbody>\n",
       "</table>\n",
       "</div>"
      ],
      "text/plain": [
       "   RN  Activ Contenedor Capacidad  Volumen   Hora   Mean     STD\n",
       "0  Tc  25PET    Jeringa         1      0.1  13:44  0.355  0.0007\n",
       "1  Tc  25PET    Jeringa         3      0.1  13:46  0.343  0.0007\n",
       "2  Tc  25PET    Jeringa         1      0.3  13:47  0.548  0.0007\n",
       "3  Tc  25PET    Jeringa         3      1.5  13:50  2.030  0.0042\n",
       "4  Tc  25PET    Jeringa         3      0.3  13:51  0.560  0.0012"
      ]
     },
     "execution_count": 183,
     "metadata": {},
     "output_type": "execute_result"
    }
   ],
   "source": [
    "import numpy as np\n",
    "import pandas as pd\n",
    "import matplotlib.pyplot as plt\n",
    "\n",
    "#### Paquete de tiempo\n",
    "import datetime\n",
    "from datetime import time\n",
    "from datetime import timedelta\n",
    "\n",
    "%matplotlib inline\n",
    "\n",
    "#Para cargar los datos\n",
    "\n",
    "##############################################\n",
    "######  MEDICINA NUCLEAR y RADIOFARMACIA #####\n",
    "##############################################\n",
    "\n",
    "###Datos 11 de Diciembre 2020\n",
    "data = pd.read_csv('ActGeometria.txt', delim_whitespace =True)\n",
    "\n",
    "\n",
    "#para ver los primeros datos\n",
    "data.head()"
   ]
  },
  {
   "cell_type": "code",
   "execution_count": 184,
   "metadata": {
    "collapsed": true
   },
   "outputs": [],
   "source": [
    "#data.describe()\n",
    "### Half Life Fuentes- Isotope Browser IAEA\n",
    "\n",
    "##############################\n",
    "########   Tc-99m  ###########\n",
    "### half life [minutos]\n",
    "HLTc= 6.0072*60\n",
    "### half life [s]\n",
    "##HLTcbq= \n",
    "### Lambda\n",
    "LambdaTc= np.log(2)/HLTc\n",
    "### Lambda [1/s]\n",
    "##Lambdacobq= np.log(2)/HLTcbq"
   ]
  },
  {
   "cell_type": "markdown",
   "metadata": {},
   "source": [
    "#### Variabilidad valores medidos repetidos"
   ]
  },
  {
   "cell_type": "code",
   "execution_count": 185,
   "metadata": {
    "collapsed": true
   },
   "outputs": [],
   "source": [
    "data['Var']=(data['STD']*100)/data['Mean']"
   ]
  },
  {
   "cell_type": "markdown",
   "metadata": {},
   "source": [
    "#### Desviación estándar del promedio-SDOM"
   ]
  },
  {
   "cell_type": "code",
   "execution_count": 186,
   "metadata": {
    "collapsed": true
   },
   "outputs": [],
   "source": [
    "data['SDOM']=data['STD']/np.sqrt(10)"
   ]
  },
  {
   "cell_type": "code",
   "execution_count": 146,
   "metadata": {
    "collapsed": true
   },
   "outputs": [],
   "source": [
    "##lista de tipos de datos por cada columna\n",
    "#data.dtypes"
   ]
  },
  {
   "cell_type": "code",
   "execution_count": null,
   "metadata": {
    "collapsed": true
   },
   "outputs": [],
   "source": []
  },
  {
   "cell_type": "markdown",
   "metadata": {},
   "source": [
    "### Estabilidad de la medición x Radionucleido, Activimetro y Geometría"
   ]
  },
  {
   "cell_type": "code",
   "execution_count": 187,
   "metadata": {
    "collapsed": true
   },
   "outputs": [],
   "source": [
    "### Tecnecio\n",
    "lista_Tc= data['RN']=='Tc'\n",
    "dTc = data[lista_Tc]\n",
    "### Yodo\n",
    "lista_I= data['RN']=='I'\n",
    "dI = data[lista_I]\n",
    "### Lutecio\n",
    "lista_Lu= data['RN']=='Lu'\n",
    "dLu = data[lista_Lu]"
   ]
  },
  {
   "cell_type": "code",
   "execution_count": 188,
   "metadata": {
    "collapsed": true
   },
   "outputs": [],
   "source": [
    "#dTc"
   ]
  },
  {
   "cell_type": "code",
   "execution_count": 189,
   "metadata": {},
   "outputs": [
    {
     "name": "stderr",
     "output_type": "stream",
     "text": [
      "/Users/Mila/anaconda/lib/python3.5/site-packages/ipykernel_launcher.py:11: SettingWithCopyWarning: \n",
      "A value is trying to be set on a copy of a slice from a DataFrame.\n",
      "Try using .loc[row_indexer,col_indexer] = value instead\n",
      "\n",
      "See the caveats in the documentation: http://pandas.pydata.org/pandas-docs/stable/indexing.html#indexing-view-versus-copy\n",
      "  # This is added back by InteractiveShellApp.init_path()\n"
     ]
    }
   ],
   "source": [
    "################# Elapsed time ###############\n",
    "#### Corrigiendo todas las medidas al tiempo de primera medición\n",
    "### Tc-99m ###\n",
    "test='13:44'\n",
    "t= datetime.datetime.strptime(test,'%H:%M')\n",
    "h = pd.to_datetime(dTc[\"Hora\"],format='%H:%M')\n",
    "#h=pd.to_datetime(dTc['Hora']).dt.time\n",
    "\n",
    "#timedelta\n",
    "timeE= h-t\n",
    "dTc['timeE']=(timeE.dt.seconds)/60"
   ]
  },
  {
   "cell_type": "code",
   "execution_count": 89,
   "metadata": {},
   "outputs": [],
   "source": [
    "#dTc"
   ]
  },
  {
   "cell_type": "code",
   "execution_count": 190,
   "metadata": {},
   "outputs": [
    {
     "name": "stderr",
     "output_type": "stream",
     "text": [
      "/Users/Mila/anaconda/lib/python3.5/site-packages/ipykernel_launcher.py:4: SettingWithCopyWarning: \n",
      "A value is trying to be set on a copy of a slice from a DataFrame.\n",
      "Try using .loc[row_indexer,col_indexer] = value instead\n",
      "\n",
      "See the caveats in the documentation: http://pandas.pydata.org/pandas-docs/stable/indexing.html#indexing-view-versus-copy\n",
      "  after removing the cwd from sys.path.\n"
     ]
    }
   ],
   "source": [
    "### Decay Factor-correction \n",
    "DF=1/np.exp(-LambdaTc*dTc[\"timeE\"])\n",
    "### Correción a Actividad Medida\n",
    "dTc['CMean']=DF*dTc['Mean']"
   ]
  },
  {
   "cell_type": "code",
   "execution_count": 191,
   "metadata": {},
   "outputs": [
    {
     "name": "stderr",
     "output_type": "stream",
     "text": [
      "/Users/Mila/anaconda/lib/python3.5/site-packages/ipykernel_launcher.py:1: SettingWithCopyWarning: \n",
      "A value is trying to be set on a copy of a slice from a DataFrame.\n",
      "Try using .loc[row_indexer,col_indexer] = value instead\n",
      "\n",
      "See the caveats in the documentation: http://pandas.pydata.org/pandas-docs/stable/indexing.html#indexing-view-versus-copy\n",
      "  \"\"\"Entry point for launching an IPython kernel.\n"
     ]
    }
   ],
   "source": [
    "dTc['Concentra']=(DF*dTc['CMean'])/dTc['Volumen']"
   ]
  },
  {
   "cell_type": "code",
   "execution_count": 152,
   "metadata": {},
   "outputs": [],
   "source": [
    "#dTc"
   ]
  },
  {
   "cell_type": "code",
   "execution_count": 192,
   "metadata": {},
   "outputs": [
    {
     "data": {
      "text/plain": [
       "Jeringa     24\n",
       "JeringaR     4\n",
       "Vial         2\n",
       "Name: Contenedor, dtype: int64"
      ]
     },
     "execution_count": 192,
     "metadata": {},
     "output_type": "execute_result"
    }
   ],
   "source": [
    "dTc['Contenedor'].value_counts()"
   ]
  },
  {
   "cell_type": "code",
   "execution_count": 217,
   "metadata": {},
   "outputs": [
    {
     "data": {
      "image/png": "[encoded data removed]",
      "text/plain": [
       "<Figure size 432x288 with 1 Axes>"
      ]
     },
     "metadata": {},
     "output_type": "display_data"
    }
   ],
   "source": [
    "dTc[dTc.Capacidad == '1'].pivot_table('CMean', index=['Activ'],\n",
    "                    columns='Volumen').plot(marker='o')\n",
    "plt.ylabel('Actividad medida [mCi]')\n",
    "plt.xlabel('Activimetro')\n",
    "#plt.xlabel('Volumen[mL]')\n",
    "plt.savefig('tcje1.pdf')"
   ]
  },
  {
   "cell_type": "code",
   "execution_count": 58,
   "metadata": {},
   "outputs": [],
   "source": [
    "#plt.errorbar(dTc['Volumen'],dTc['Mean'], yerr=dTc['SDOM'],fmt='.b',label='Experimento',capsize=1)\n",
    "#plt.plot(data['ActividadCal'],data['ActividadM'],'ob',label='Datos')\n",
    "#plt.plot(data['ActicalMBq'],data['ActicalMBq'],'--r',label='Teoría')\n",
    "#plt.xlabel(r'Volumen [mL]',size=15)\n",
    "#plt.ylabel(r'Actividad [mCi]',size=15)\n",
    "#plt.legend()"
   ]
  },
  {
   "cell_type": "code",
   "execution_count": 174,
   "metadata": {
    "collapsed": true
   },
   "outputs": [],
   "source": [
    "table1 = pd.pivot_table(dTc, values=['Var'], index=['Activ', 'Contenedor','Capacidad','Volumen'],\n",
    "                    aggfunc={'Var':max})"
   ]
  },
  {
   "cell_type": "code",
   "execution_count": 175,
   "metadata": {},
   "outputs": [
    {
     "data": {
      "text/html": [
       "<div>\n",
       "<table border=\"1\" class=\"dataframe\">\n",
       "  <thead>\n",
       "    <tr style=\"text-align: right;\">\n",
       "      <th></th>\n",
       "      <th></th>\n",
       "      <th></th>\n",
       "      <th></th>\n",
       "      <th>Var</th>\n",
       "    </tr>\n",
       "    <tr>\n",
       "      <th>Activ</th>\n",
       "      <th>Contenedor</th>\n",
       "      <th>Capacidad</th>\n",
       "      <th>Volumen</th>\n",
       "      <th></th>\n",
       "    </tr>\n",
       "  </thead>\n",
       "  <tbody>\n",
       "    <tr>\n",
       "      <th rowspan=\"7\" valign=\"top\">15R</th>\n",
       "      <th rowspan=\"6\" valign=\"top\">Jeringa</th>\n",
       "      <th rowspan=\"3\" valign=\"top\">1</th>\n",
       "      <th>0.1</th>\n",
       "      <td>0.243902</td>\n",
       "    </tr>\n",
       "    <tr>\n",
       "      <th>0.3</th>\n",
       "      <td>0.439560</td>\n",
       "    </tr>\n",
       "    <tr>\n",
       "      <th>1.0</th>\n",
       "      <td>0.296296</td>\n",
       "    </tr>\n",
       "    <tr>\n",
       "      <th rowspan=\"3\" valign=\"top\">3</th>\n",
       "      <th>0.1</th>\n",
       "      <td>0.174216</td>\n",
       "    </tr>\n",
       "    <tr>\n",
       "      <th>0.3</th>\n",
       "      <td>0.108225</td>\n",
       "    </tr>\n",
       "    <tr>\n",
       "      <th>1.5</th>\n",
       "      <td>0.000000</td>\n",
       "    </tr>\n",
       "    <tr>\n",
       "      <th>JeringaR</th>\n",
       "      <th>10</th>\n",
       "      <th>5.0</th>\n",
       "      <td>0.000000</td>\n",
       "    </tr>\n",
       "    <tr>\n",
       "      <th rowspan=\"7\" valign=\"top\">25PET</th>\n",
       "      <th rowspan=\"6\" valign=\"top\">Jeringa</th>\n",
       "      <th rowspan=\"3\" valign=\"top\">1</th>\n",
       "      <th>0.1</th>\n",
       "      <td>0.197183</td>\n",
       "    </tr>\n",
       "    <tr>\n",
       "      <th>0.3</th>\n",
       "      <td>0.127737</td>\n",
       "    </tr>\n",
       "    <tr>\n",
       "      <th>1.0</th>\n",
       "      <td>0.081833</td>\n",
       "    </tr>\n",
       "    <tr>\n",
       "      <th rowspan=\"3\" valign=\"top\">3</th>\n",
       "      <th>0.1</th>\n",
       "      <td>0.204082</td>\n",
       "    </tr>\n",
       "    <tr>\n",
       "      <th>0.3</th>\n",
       "      <td>0.214286</td>\n",
       "    </tr>\n",
       "    <tr>\n",
       "      <th>1.5</th>\n",
       "      <td>0.206897</td>\n",
       "    </tr>\n",
       "    <tr>\n",
       "      <th>JeringaR</th>\n",
       "      <th>10</th>\n",
       "      <th>5.0</th>\n",
       "      <td>0.090517</td>\n",
       "    </tr>\n",
       "    <tr>\n",
       "      <th rowspan=\"8\" valign=\"top\">55TRMN</th>\n",
       "      <th rowspan=\"6\" valign=\"top\">Jeringa</th>\n",
       "      <th rowspan=\"3\" valign=\"top\">1</th>\n",
       "      <th>0.1</th>\n",
       "      <td>0.092650</td>\n",
       "    </tr>\n",
       "    <tr>\n",
       "      <th>0.3</th>\n",
       "      <td>0.076908</td>\n",
       "    </tr>\n",
       "    <tr>\n",
       "      <th>1.0</th>\n",
       "      <td>0.059423</td>\n",
       "    </tr>\n",
       "    <tr>\n",
       "      <th rowspan=\"3\" valign=\"top\">3</th>\n",
       "      <th>0.1</th>\n",
       "      <td>0.062035</td>\n",
       "    </tr>\n",
       "    <tr>\n",
       "      <th>0.3</th>\n",
       "      <td>0.056818</td>\n",
       "    </tr>\n",
       "    <tr>\n",
       "      <th>1.5</th>\n",
       "      <td>0.056789</td>\n",
       "    </tr>\n",
       "    <tr>\n",
       "      <th>JeringaR</th>\n",
       "      <th>10</th>\n",
       "      <th>5.0</th>\n",
       "      <td>0.056883</td>\n",
       "    </tr>\n",
       "    <tr>\n",
       "      <th>Vial</th>\n",
       "      <th>1</th>\n",
       "      <th>0.1</th>\n",
       "      <td>0.091130</td>\n",
       "    </tr>\n",
       "    <tr>\n",
       "      <th rowspan=\"8\" valign=\"top\">55TRRF</th>\n",
       "      <th rowspan=\"6\" valign=\"top\">Jeringa</th>\n",
       "      <th rowspan=\"3\" valign=\"top\">1</th>\n",
       "      <th>0.1</th>\n",
       "      <td>0.111607</td>\n",
       "    </tr>\n",
       "    <tr>\n",
       "      <th>0.3</th>\n",
       "      <td>0.023196</td>\n",
       "    </tr>\n",
       "    <tr>\n",
       "      <th>1.0</th>\n",
       "      <td>0.067050</td>\n",
       "    </tr>\n",
       "    <tr>\n",
       "      <th rowspan=\"3\" valign=\"top\">3</th>\n",
       "      <th>0.1</th>\n",
       "      <td>0.074184</td>\n",
       "    </tr>\n",
       "    <tr>\n",
       "      <th>0.3</th>\n",
       "      <td>0.111932</td>\n",
       "    </tr>\n",
       "    <tr>\n",
       "      <th>1.5</th>\n",
       "      <td>0.029709</td>\n",
       "    </tr>\n",
       "    <tr>\n",
       "      <th>JeringaR</th>\n",
       "      <th>10</th>\n",
       "      <th>5.0</th>\n",
       "      <td>0.111406</td>\n",
       "    </tr>\n",
       "    <tr>\n",
       "      <th>Vial</th>\n",
       "      <th>1</th>\n",
       "      <th>0.1</th>\n",
       "      <td>0.036617</td>\n",
       "    </tr>\n",
       "  </tbody>\n",
       "</table>\n",
       "</div>"
      ],
      "text/plain": [
       "                                          Var\n",
       "Activ  Contenedor Capacidad Volumen          \n",
       "15R    Jeringa    1         0.1      0.243902\n",
       "                            0.3      0.439560\n",
       "                            1.0      0.296296\n",
       "                  3         0.1      0.174216\n",
       "                            0.3      0.108225\n",
       "                            1.5      0.000000\n",
       "       JeringaR   10        5.0      0.000000\n",
       "25PET  Jeringa    1         0.1      0.197183\n",
       "                            0.3      0.127737\n",
       "                            1.0      0.081833\n",
       "                  3         0.1      0.204082\n",
       "                            0.3      0.214286\n",
       "                            1.5      0.206897\n",
       "       JeringaR   10        5.0      0.090517\n",
       "55TRMN Jeringa    1         0.1      0.092650\n",
       "                            0.3      0.076908\n",
       "                            1.0      0.059423\n",
       "                  3         0.1      0.062035\n",
       "                            0.3      0.056818\n",
       "                            1.5      0.056789\n",
       "       JeringaR   10        5.0      0.056883\n",
       "       Vial       1         0.1      0.091130\n",
       "55TRRF Jeringa    1         0.1      0.111607\n",
       "                            0.3      0.023196\n",
       "                            1.0      0.067050\n",
       "                  3         0.1      0.074184\n",
       "                            0.3      0.111932\n",
       "                            1.5      0.029709\n",
       "       JeringaR   10        5.0      0.111406\n",
       "       Vial       1         0.1      0.036617"
      ]
     },
     "execution_count": 175,
     "metadata": {},
     "output_type": "execute_result"
    }
   ],
   "source": [
    "table1"
   ]
  },
  {
   "cell_type": "code",
   "execution_count": 155,
   "metadata": {},
   "outputs": [
    {
     "data": {
      "text/plain": [
       "Text(0,0.5,'$\\\\%$')"
      ]
     },
     "execution_count": 155,
     "metadata": {},
     "output_type": "execute_result"
    },
    {
     "data": {
      "image/png": "[encoded data removed]",
      "text/plain": [
       "<Figure size 432x288 with 1 Axes>"
      ]
     },
     "metadata": {},
     "output_type": "display_data"
    }
   ],
   "source": [
    "#dTc.pivot_table('Var', index=['Contenedor','Capacidad'],\n",
    "                    #columns='Activ', aggfunc='max').plot(marker='o')\n",
    "#plt.ylabel('$\\%$')\n",
    "#plt.savefig('Estabilidadpg.pdf')"
   ]
  },
  {
   "cell_type": "code",
   "execution_count": 97,
   "metadata": {},
   "outputs": [],
   "source": [
    "#dTc.pivot_table('Mean', index=['Volumen'],\n",
    "                    #columns=['Contenedor','Capacidad']).plot(marker='o')\n",
    "    \n",
    "plt.plot(dTc[dTc.Capacidad == '3']['Volumen'],dTc[dTc.Capacidad == '3']['CMean'],'or',label='Jeringa de 3 mL')    "
   ]
  },
  {
   "cell_type": "code",
   "execution_count": 98,
   "metadata": {
    "collapsed": true
   },
   "outputs": [],
   "source": [
    "table2 = pd.pivot_table(dTc, values=['Mean'], index=['Activ', 'Contenedor','Capacidad','Volumen'])"
   ]
  },
  {
   "cell_type": "code",
   "execution_count": 156,
   "metadata": {},
   "outputs": [],
   "source": [
    "#table2"
   ]
  },
  {
   "cell_type": "code",
   "execution_count": 176,
   "metadata": {
    "collapsed": true
   },
   "outputs": [],
   "source": [
    "### Elegir activimetro\n",
    "is_Activ =  dTc['Activ']=='55TRMN'\n",
    "dTc=dTc[is_Activ]"
   ]
  },
  {
   "cell_type": "code",
   "execution_count": 177,
   "metadata": {},
   "outputs": [
    {
     "data": {
      "text/plain": [
       "74"
      ]
     },
     "execution_count": 177,
     "metadata": {},
     "output_type": "execute_result"
    }
   ],
   "source": [
    "### Obteniendo indice de Referencia \n",
    "c=dTc[dTc['Contenedor']=='JeringaR'].index.values.astype(int)[0]\n",
    "c"
   ]
  },
  {
   "cell_type": "code",
   "execution_count": 178,
   "metadata": {},
   "outputs": [
    {
     "data": {
      "text/plain": [
       "4.8385862783653932"
      ]
     },
     "execution_count": 178,
     "metadata": {},
     "output_type": "execute_result"
    }
   ],
   "source": [
    "REF=dTc.loc[c]['CMean']\n",
    "REF"
   ]
  },
  {
   "cell_type": "code",
   "execution_count": 179,
   "metadata": {},
   "outputs": [
    {
     "data": {
      "text/html": [
       "<div>\n",
       "<table border=\"1\" class=\"dataframe\">\n",
       "  <thead>\n",
       "    <tr style=\"text-align: right;\">\n",
       "      <th></th>\n",
       "      <th>RN</th>\n",
       "      <th>Activ</th>\n",
       "      <th>Contenedor</th>\n",
       "      <th>Capacidad</th>\n",
       "      <th>Volumen</th>\n",
       "      <th>Hora</th>\n",
       "      <th>Mean</th>\n",
       "      <th>STD</th>\n",
       "      <th>Var</th>\n",
       "      <th>SDOM</th>\n",
       "      <th>timeE</th>\n",
       "      <th>CMean</th>\n",
       "      <th>Concentra</th>\n",
       "    </tr>\n",
       "  </thead>\n",
       "  <tbody>\n",
       "    <tr>\n",
       "      <th>68</th>\n",
       "      <td>Tc</td>\n",
       "      <td>55TRMN</td>\n",
       "      <td>Jeringa</td>\n",
       "      <td>1</td>\n",
       "      <td>0.3</td>\n",
       "      <td>14:24</td>\n",
       "      <td>0.5201</td>\n",
       "      <td>0.0004</td>\n",
       "      <td>0.076908</td>\n",
       "      <td>0.000126</td>\n",
       "      <td>40.0</td>\n",
       "      <td>0.561687</td>\n",
       "      <td>2.021999</td>\n",
       "    </tr>\n",
       "    <tr>\n",
       "      <th>69</th>\n",
       "      <td>Tc</td>\n",
       "      <td>55TRMN</td>\n",
       "      <td>Jeringa</td>\n",
       "      <td>3</td>\n",
       "      <td>0.1</td>\n",
       "      <td>14:25</td>\n",
       "      <td>0.3224</td>\n",
       "      <td>0.0002</td>\n",
       "      <td>0.062035</td>\n",
       "      <td>0.000063</td>\n",
       "      <td>41.0</td>\n",
       "      <td>0.348849</td>\n",
       "      <td>3.774686</td>\n",
       "    </tr>\n",
       "    <tr>\n",
       "      <th>70</th>\n",
       "      <td>Tc</td>\n",
       "      <td>55TRMN</td>\n",
       "      <td>Jeringa</td>\n",
       "      <td>3</td>\n",
       "      <td>1.5</td>\n",
       "      <td>14:27</td>\n",
       "      <td>1.9370</td>\n",
       "      <td>0.0011</td>\n",
       "      <td>0.056789</td>\n",
       "      <td>0.000348</td>\n",
       "      <td>43.0</td>\n",
       "      <td>2.103986</td>\n",
       "      <td>1.523579</td>\n",
       "    </tr>\n",
       "    <tr>\n",
       "      <th>71</th>\n",
       "      <td>Tc</td>\n",
       "      <td>55TRMN</td>\n",
       "      <td>Jeringa</td>\n",
       "      <td>3</td>\n",
       "      <td>0.3</td>\n",
       "      <td>14:29</td>\n",
       "      <td>0.5280</td>\n",
       "      <td>0.0003</td>\n",
       "      <td>0.056818</td>\n",
       "      <td>0.000095</td>\n",
       "      <td>45.0</td>\n",
       "      <td>0.575728</td>\n",
       "      <td>2.092570</td>\n",
       "    </tr>\n",
       "    <tr>\n",
       "      <th>72</th>\n",
       "      <td>Tc</td>\n",
       "      <td>55TRMN</td>\n",
       "      <td>Jeringa</td>\n",
       "      <td>1</td>\n",
       "      <td>0.1</td>\n",
       "      <td>14:30</td>\n",
       "      <td>0.3238</td>\n",
       "      <td>0.0003</td>\n",
       "      <td>0.092650</td>\n",
       "      <td>0.000095</td>\n",
       "      <td>46.0</td>\n",
       "      <td>0.353749</td>\n",
       "      <td>3.864689</td>\n",
       "    </tr>\n",
       "    <tr>\n",
       "      <th>73</th>\n",
       "      <td>Tc</td>\n",
       "      <td>55TRMN</td>\n",
       "      <td>Jeringa</td>\n",
       "      <td>1</td>\n",
       "      <td>1.0</td>\n",
       "      <td>14:32</td>\n",
       "      <td>1.1780</td>\n",
       "      <td>0.0007</td>\n",
       "      <td>0.059423</td>\n",
       "      <td>0.000221</td>\n",
       "      <td>48.0</td>\n",
       "      <td>1.291917</td>\n",
       "      <td>1.416850</td>\n",
       "    </tr>\n",
       "    <tr>\n",
       "      <th>74</th>\n",
       "      <td>Tc</td>\n",
       "      <td>55TRMN</td>\n",
       "      <td>JeringaR</td>\n",
       "      <td>10</td>\n",
       "      <td>5.0</td>\n",
       "      <td>14:34</td>\n",
       "      <td>4.3950</td>\n",
       "      <td>0.0025</td>\n",
       "      <td>0.056883</td>\n",
       "      <td>0.000791</td>\n",
       "      <td>50.0</td>\n",
       "      <td>4.838586</td>\n",
       "      <td>1.065389</td>\n",
       "    </tr>\n",
       "    <tr>\n",
       "      <th>75</th>\n",
       "      <td>Tc</td>\n",
       "      <td>55TRMN</td>\n",
       "      <td>Vial</td>\n",
       "      <td>1</td>\n",
       "      <td>0.1</td>\n",
       "      <td>14:35</td>\n",
       "      <td>0.3292</td>\n",
       "      <td>0.0003</td>\n",
       "      <td>0.091130</td>\n",
       "      <td>0.000095</td>\n",
       "      <td>51.0</td>\n",
       "      <td>0.363124</td>\n",
       "      <td>4.005433</td>\n",
       "    </tr>\n",
       "  </tbody>\n",
       "</table>\n",
       "</div>"
      ],
      "text/plain": [
       "    RN   Activ Contenedor Capacidad  Volumen   Hora    Mean     STD       Var  \\\n",
       "68  Tc  55TRMN    Jeringa         1      0.3  14:24  0.5201  0.0004  0.076908   \n",
       "69  Tc  55TRMN    Jeringa         3      0.1  14:25  0.3224  0.0002  0.062035   \n",
       "70  Tc  55TRMN    Jeringa         3      1.5  14:27  1.9370  0.0011  0.056789   \n",
       "71  Tc  55TRMN    Jeringa         3      0.3  14:29  0.5280  0.0003  0.056818   \n",
       "72  Tc  55TRMN    Jeringa         1      0.1  14:30  0.3238  0.0003  0.092650   \n",
       "73  Tc  55TRMN    Jeringa         1      1.0  14:32  1.1780  0.0007  0.059423   \n",
       "74  Tc  55TRMN   JeringaR        10      5.0  14:34  4.3950  0.0025  0.056883   \n",
       "75  Tc  55TRMN       Vial         1      0.1  14:35  0.3292  0.0003  0.091130   \n",
       "\n",
       "        SDOM  timeE     CMean  Concentra  \n",
       "68  0.000126   40.0  0.561687   2.021999  \n",
       "69  0.000063   41.0  0.348849   3.774686  \n",
       "70  0.000348   43.0  2.103986   1.523579  \n",
       "71  0.000095   45.0  0.575728   2.092570  \n",
       "72  0.000095   46.0  0.353749   3.864689  \n",
       "73  0.000221   48.0  1.291917   1.416850  \n",
       "74  0.000791   50.0  4.838586   1.065389  \n",
       "75  0.000095   51.0  0.363124   4.005433  "
      ]
     },
     "execution_count": 179,
     "metadata": {},
     "output_type": "execute_result"
    }
   ],
   "source": [
    "dTc"
   ]
  },
  {
   "cell_type": "code",
   "execution_count": 180,
   "metadata": {
    "scrolled": true
   },
   "outputs": [],
   "source": [
    "dTc['razon']=dTc['CMean']/REF\n",
    "#dTc[dTc.Capacidad == '1']"
   ]
  },
  {
   "cell_type": "code",
   "execution_count": 182,
   "metadata": {},
   "outputs": [
    {
     "data": {
      "image/png": "[encoded data removed]",
      "text/plain": [
       "<Figure size 432x288 with 1 Axes>"
      ]
     },
     "metadata": {},
     "output_type": "display_data"
    }
   ],
   "source": [
    "plt.plot((dTc[dTc.Capacidad == '1']['Volumen'])/5,dTc[dTc.Capacidad == '1']['razon'],'ob',label='Jeringa de 1 mL')\n",
    "plt.plot((dTc[dTc.Capacidad == '3']['Volumen'])/5,dTc[dTc.Capacidad == '3']['razon'],'or',label='Jeringa de 3 mL')\n",
    "plt.plot((dTc[dTc.Contenedor == 'Vial']['Volumen'])/5,dTc[dTc.Contenedor == 'Vial']['razon'],'ok',label='Vial de 1 mL')\n",
    "#plt.plot((dTc[dTc.Capacidad == '10']['Volumen'])/5,dTc[dTc.Capacidad == '10']['razon'],'og',label='Jeringa de Referencia')\n",
    "#plt.plot((0.0,1.0),(1.0,1.0),'--g')\n",
    "#plt.plot((1.0,1.0),(0.0,1.0),'--g')\n",
    "plt.legend()\n",
    "plt.xlabel(r'Volumen/5')\n",
    "plt.ylabel('Actividad medida/Actividad Referencia')\n",
    "plt.savefig('jeringas55mntcl.pdf')"
   ]
  },
  {
   "cell_type": "code",
   "execution_count": 78,
   "metadata": {},
   "outputs": [],
   "source": [
    "jeringa1 = 0.563271/dTc[dTc.Capacidad == '1']['CMean']\n",
    "jeringa2 =0.565376/dTc[dTc.Capacidad == '3']['CMean']\n",
    "#jeringa1\n",
    "#jeringa2"
   ]
  },
  {
   "cell_type": "code",
   "execution_count": null,
   "metadata": {
    "collapsed": true
   },
   "outputs": [],
   "source": []
  },
  {
   "cell_type": "code",
   "execution_count": 80,
   "metadata": {},
   "outputs": [
    {
     "data": {
      "image/png": "[encoded data removed]",
      "text/plain": [
       "<Figure size 432x288 with 1 Axes>"
      ]
     },
     "metadata": {},
     "output_type": "display_data"
    }
   ],
   "source": [
    "plt.plot(dTc[dTc.Capacidad == '1']['Volumen'],jeringa1,'ob',label='Jeringa de 1 mL')\n",
    "plt.plot(dTc[dTc.Capacidad == '3']['Volumen'],jeringa2,'or',label='Jeringa de 3 mL')\n",
    "plt.plot((0,1.6),(1.0,1.0),'--')\n",
    "plt.legend()\n",
    "plt.xlabel('Volumen [mL]')\n",
    "plt.ylabel('CF')\n",
    "#plt.savefig('jeringas13tc.pdf')"
   ]
  },
  {
   "cell_type": "code",
   "execution_count": 26,
   "metadata": {},
   "outputs": [
    {
     "data": {
      "text/html": [
       "<div>\n",
       "<table border=\"1\" class=\"dataframe\">\n",
       "  <thead>\n",
       "    <tr style=\"text-align: right;\">\n",
       "      <th></th>\n",
       "      <th>RN</th>\n",
       "      <th>Activ</th>\n",
       "      <th>Contenedor</th>\n",
       "      <th>Capacidad</th>\n",
       "      <th>Volumen</th>\n",
       "      <th>Hora</th>\n",
       "      <th>Mean</th>\n",
       "      <th>STD</th>\n",
       "      <th>Var</th>\n",
       "      <th>SDOM</th>\n",
       "      <th>timeE</th>\n",
       "      <th>CMean</th>\n",
       "      <th>Concentra</th>\n",
       "    </tr>\n",
       "  </thead>\n",
       "  <tbody>\n",
       "    <tr>\n",
       "      <th>30</th>\n",
       "      <td>Tc</td>\n",
       "      <td>15R</td>\n",
       "      <td>Jeringa</td>\n",
       "      <td>3</td>\n",
       "      <td>1.5</td>\n",
       "      <td>15:27</td>\n",
       "      <td>1.760</td>\n",
       "      <td>0.0000</td>\n",
       "      <td>0.000000</td>\n",
       "      <td>0.000000</td>\n",
       "      <td>103.0</td>\n",
       "      <td>2.145544</td>\n",
       "      <td>1.430363</td>\n",
       "    </tr>\n",
       "    <tr>\n",
       "      <th>31</th>\n",
       "      <td>Tc</td>\n",
       "      <td>15R</td>\n",
       "      <td>Jeringa</td>\n",
       "      <td>3</td>\n",
       "      <td>0.3</td>\n",
       "      <td>15:29</td>\n",
       "      <td>0.462</td>\n",
       "      <td>0.0005</td>\n",
       "      <td>0.108225</td>\n",
       "      <td>0.000158</td>\n",
       "      <td>105.0</td>\n",
       "      <td>0.565376</td>\n",
       "      <td>1.884586</td>\n",
       "    </tr>\n",
       "    <tr>\n",
       "      <th>32</th>\n",
       "      <td>Tc</td>\n",
       "      <td>15R</td>\n",
       "      <td>Jeringa</td>\n",
       "      <td>3</td>\n",
       "      <td>0.1</td>\n",
       "      <td>15:30</td>\n",
       "      <td>0.287</td>\n",
       "      <td>0.0005</td>\n",
       "      <td>0.174216</td>\n",
       "      <td>0.000158</td>\n",
       "      <td>106.0</td>\n",
       "      <td>0.351894</td>\n",
       "      <td>3.518943</td>\n",
       "    </tr>\n",
       "    <tr>\n",
       "      <th>33</th>\n",
       "      <td>Tc</td>\n",
       "      <td>15R</td>\n",
       "      <td>JeringaR</td>\n",
       "      <td>10</td>\n",
       "      <td>5.0</td>\n",
       "      <td>15:31</td>\n",
       "      <td>3.940</td>\n",
       "      <td>0.0000</td>\n",
       "      <td>0.000000</td>\n",
       "      <td>0.000000</td>\n",
       "      <td>107.0</td>\n",
       "      <td>4.840183</td>\n",
       "      <td>0.968037</td>\n",
       "    </tr>\n",
       "    <tr>\n",
       "      <th>34</th>\n",
       "      <td>Tc</td>\n",
       "      <td>15R</td>\n",
       "      <td>Jeringa</td>\n",
       "      <td>1</td>\n",
       "      <td>1.0</td>\n",
       "      <td>15:32</td>\n",
       "      <td>1.080</td>\n",
       "      <td>0.0032</td>\n",
       "      <td>0.296296</td>\n",
       "      <td>0.001012</td>\n",
       "      <td>108.0</td>\n",
       "      <td>1.329305</td>\n",
       "      <td>1.329305</td>\n",
       "    </tr>\n",
       "    <tr>\n",
       "      <th>35</th>\n",
       "      <td>Tc</td>\n",
       "      <td>15R</td>\n",
       "      <td>Jeringa</td>\n",
       "      <td>1</td>\n",
       "      <td>0.3</td>\n",
       "      <td>15:35</td>\n",
       "      <td>0.455</td>\n",
       "      <td>0.0020</td>\n",
       "      <td>0.439560</td>\n",
       "      <td>0.000632</td>\n",
       "      <td>111.0</td>\n",
       "      <td>0.563271</td>\n",
       "      <td>1.877571</td>\n",
       "    </tr>\n",
       "    <tr>\n",
       "      <th>36</th>\n",
       "      <td>Tc</td>\n",
       "      <td>15R</td>\n",
       "      <td>Jeringa</td>\n",
       "      <td>1</td>\n",
       "      <td>0.1</td>\n",
       "      <td>15:36</td>\n",
       "      <td>0.287</td>\n",
       "      <td>0.0007</td>\n",
       "      <td>0.243902</td>\n",
       "      <td>0.000221</td>\n",
       "      <td>112.0</td>\n",
       "      <td>0.355978</td>\n",
       "      <td>3.559782</td>\n",
       "    </tr>\n",
       "  </tbody>\n",
       "</table>\n",
       "</div>"
      ],
      "text/plain": [
       "    RN Activ Contenedor Capacidad  Volumen   Hora   Mean     STD       Var  \\\n",
       "30  Tc   15R    Jeringa         3      1.5  15:27  1.760  0.0000  0.000000   \n",
       "31  Tc   15R    Jeringa         3      0.3  15:29  0.462  0.0005  0.108225   \n",
       "32  Tc   15R    Jeringa         3      0.1  15:30  0.287  0.0005  0.174216   \n",
       "33  Tc   15R   JeringaR        10      5.0  15:31  3.940  0.0000  0.000000   \n",
       "34  Tc   15R    Jeringa         1      1.0  15:32  1.080  0.0032  0.296296   \n",
       "35  Tc   15R    Jeringa         1      0.3  15:35  0.455  0.0020  0.439560   \n",
       "36  Tc   15R    Jeringa         1      0.1  15:36  0.287  0.0007  0.243902   \n",
       "\n",
       "        SDOM  timeE     CMean  Concentra  \n",
       "30  0.000000  103.0  2.145544   1.430363  \n",
       "31  0.000158  105.0  0.565376   1.884586  \n",
       "32  0.000158  106.0  0.351894   3.518943  \n",
       "33  0.000000  107.0  4.840183   0.968037  \n",
       "34  0.001012  108.0  1.329305   1.329305  \n",
       "35  0.000632  111.0  0.563271   1.877571  \n",
       "36  0.000221  112.0  0.355978   3.559782  "
      ]
     },
     "execution_count": 26,
     "metadata": {},
     "output_type": "execute_result"
    }
   ],
   "source": []
  },
  {
   "cell_type": "code",
   "execution_count": null,
   "metadata": {
    "collapsed": true
   },
   "outputs": [],
   "source": []
  },
  {
   "cell_type": "code",
   "execution_count": null,
   "metadata": {
    "collapsed": true
   },
   "outputs": [],
   "source": []
  },
  {
   "cell_type": "code",
   "execution_count": null,
   "metadata": {
    "collapsed": true
   },
   "outputs": [],
   "source": []
  }
 ],
 "metadata": {
  "kernelspec": {
   "display_name": "Python 3",
   "language": "python",
   "name": "python3"
  },
  "language_info": {
   "codemirror_mode": {
    "name": "ipython",
    "version": 3
   },
   "file_extension": ".py",
   "mimetype": "text/x-python",
   "name": "python",
   "nbconvert_exporter": "python",
   "pygments_lexer": "ipython3",
   "version": "3.5.5"
  }
 },
 "nbformat": 4,
 "nbformat_minor": 2
}
