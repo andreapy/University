{
 "cells": [
  {
   "cell_type": "markdown",
   "metadata": {},
   "source": [
    "# QC Linealidad  radionuclide (Dose) calibrator in NM"
   ]
  },
  {
   "cell_type": "code",
   "execution_count": 1,
   "metadata": {},
   "outputs": [
    {
     "data": {
      "text/html": [
       "<div>\n",
       "<table border=\"1\" class=\"dataframe\">\n",
       "  <thead>\n",
       "    <tr style=\"text-align: right;\">\n",
       "      <th></th>\n",
       "      <th>Tiempo</th>\n",
       "      <th>ActividadM</th>\n",
       "      <th>ActividadCal</th>\n",
       "    </tr>\n",
       "  </thead>\n",
       "  <tbody>\n",
       "    <tr>\n",
       "      <th>0</th>\n",
       "      <td>0</td>\n",
       "      <td>123.043</td>\n",
       "      <td>123.043</td>\n",
       "    </tr>\n",
       "    <tr>\n",
       "      <th>1</th>\n",
       "      <td>1</td>\n",
       "      <td>84.203</td>\n",
       "      <td>84.239</td>\n",
       "    </tr>\n",
       "    <tr>\n",
       "      <th>2</th>\n",
       "      <td>2</td>\n",
       "      <td>57.588</td>\n",
       "      <td>57.673</td>\n",
       "    </tr>\n",
       "    <tr>\n",
       "      <th>3</th>\n",
       "      <td>3</td>\n",
       "      <td>39.424</td>\n",
       "      <td>39.485</td>\n",
       "    </tr>\n",
       "    <tr>\n",
       "      <th>4</th>\n",
       "      <td>4</td>\n",
       "      <td>26.991</td>\n",
       "      <td>27.033</td>\n",
       "    </tr>\n",
       "  </tbody>\n",
       "</table>\n",
       "</div>"
      ],
      "text/plain": [
       "   Tiempo  ActividadM  ActividadCal\n",
       "0       0     123.043       123.043\n",
       "1       1      84.203        84.239\n",
       "2       2      57.588        57.673\n",
       "3       3      39.424        39.485\n",
       "4       4      26.991        27.033"
      ]
     },
     "execution_count": 1,
     "metadata": {},
     "output_type": "execute_result"
    }
   ],
   "source": [
    "import numpy as np\n",
    "import pandas as pd\n",
    "import matplotlib.pyplot as plt\n",
    "\n",
    "from scipy import stats\n",
    "from scipy.stats import norm\n",
    "#### Paquete de tiempo\n",
    "import datetime\n",
    "\n",
    "%matplotlib inline\n",
    "\n",
    "#Para cargar los datos\n",
    "\n",
    "#data = pd.read_csv('testlinealidad.txt', delim_whitespace =True)\n",
    "################################\n",
    "######  MEDICINA NUCLEAR #######\n",
    "################################\n",
    "\n",
    "###Activimetro CRC 25 PET \n",
    "#data = pd.read_csv('linealidadpetmn19.txt', delim_whitespace =True)\n",
    "###Activimetro 55tR con fuente Co-57\n",
    "#data = pd.read_csv('linealidadtr2019.txt', delim_whitespace =True)\n",
    "\n",
    "################################\n",
    "######  RADIOFARMACIA #######\n",
    "################################\n",
    "\n",
    "###Activimetro CRC 15 R \n",
    "#data = pd.read_csv('linealidad15rRF2020.txt', delim_whitespace =True)\n",
    "\n",
    "###Activimetro CRC 25 PET \n",
    "#data = pd.read_csv('linealidad25PETRF2020.txt', delim_whitespace =True)\n",
    "\n",
    "###Activimetro CRC 55 tR \n",
    "#data = pd.read_csv('linealidad55trRF2020.txt', delim_whitespace =True)\n",
    "\n",
    "###Activimetro MECMURPHILL \n",
    "#data = pd.read_csv('linealidadMECRF2020.txt', delim_whitespace =True)\n",
    "\n",
    "###Activimetro Theodorico A\n",
    "data = pd.read_csv('linealidadTheoARF2020.txt', delim_whitespace =True)\n",
    "\n",
    "###Activimetro Theodorico B\n",
    "#data = pd.read_csv('linealidadTheoBRF2020.txt', delim_whitespace =True)\n",
    "\n",
    "#para ver los primeros datos\n",
    "\n",
    "data.head()"
   ]
  },
  {
   "cell_type": "code",
   "execution_count": 2,
   "metadata": {
    "collapsed": true
   },
   "outputs": [],
   "source": [
    "#(1-(norm.cdf(3)-norm.cdf(-3)))*100"
   ]
  },
  {
   "cell_type": "code",
   "execution_count": 3,
   "metadata": {
    "collapsed": true
   },
   "outputs": [],
   "source": [
    "perce=(-(data['ActividadCal']-data['ActividadM'])*100)/data['ActividadCal']\n",
    "data['percent']=perce"
   ]
  },
  {
   "cell_type": "code",
   "execution_count": 4,
   "metadata": {},
   "outputs": [
    {
     "data": {
      "text/html": [
       "<div>\n",
       "<table border=\"1\" class=\"dataframe\">\n",
       "  <thead>\n",
       "    <tr style=\"text-align: right;\">\n",
       "      <th></th>\n",
       "      <th>Tiempo</th>\n",
       "      <th>ActividadM</th>\n",
       "      <th>ActividadCal</th>\n",
       "      <th>percent</th>\n",
       "    </tr>\n",
       "  </thead>\n",
       "  <tbody>\n",
       "    <tr>\n",
       "      <th>count</th>\n",
       "      <td>22.000000</td>\n",
       "      <td>22.000000</td>\n",
       "      <td>22.000000</td>\n",
       "      <td>22.000000</td>\n",
       "    </tr>\n",
       "    <tr>\n",
       "      <th>mean</th>\n",
       "      <td>10.500000</td>\n",
       "      <td>17.715591</td>\n",
       "      <td>17.730227</td>\n",
       "      <td>-1.067585</td>\n",
       "    </tr>\n",
       "    <tr>\n",
       "      <th>std</th>\n",
       "      <td>6.493587</td>\n",
       "      <td>32.046397</td>\n",
       "      <td>32.056929</td>\n",
       "      <td>1.818848</td>\n",
       "    </tr>\n",
       "    <tr>\n",
       "      <th>min</th>\n",
       "      <td>0.000000</td>\n",
       "      <td>0.040000</td>\n",
       "      <td>0.043000</td>\n",
       "      <td>-6.976744</td>\n",
       "    </tr>\n",
       "    <tr>\n",
       "      <th>25%</th>\n",
       "      <td>5.250000</td>\n",
       "      <td>0.315250</td>\n",
       "      <td>0.320000</td>\n",
       "      <td>-1.386623</td>\n",
       "    </tr>\n",
       "    <tr>\n",
       "      <th>50%</th>\n",
       "      <td>10.500000</td>\n",
       "      <td>2.346000</td>\n",
       "      <td>2.345000</td>\n",
       "      <td>-0.226417</td>\n",
       "    </tr>\n",
       "    <tr>\n",
       "      <th>75%</th>\n",
       "      <td>15.750000</td>\n",
       "      <td>16.996500</td>\n",
       "      <td>17.048000</td>\n",
       "      <td>-0.045168</td>\n",
       "    </tr>\n",
       "    <tr>\n",
       "      <th>max</th>\n",
       "      <td>21.000000</td>\n",
       "      <td>123.043000</td>\n",
       "      <td>123.043000</td>\n",
       "      <td>0.245942</td>\n",
       "    </tr>\n",
       "  </tbody>\n",
       "</table>\n",
       "</div>"
      ],
      "text/plain": [
       "          Tiempo  ActividadM  ActividadCal    percent\n",
       "count  22.000000   22.000000     22.000000  22.000000\n",
       "mean   10.500000   17.715591     17.730227  -1.067585\n",
       "std     6.493587   32.046397     32.056929   1.818848\n",
       "min     0.000000    0.040000      0.043000  -6.976744\n",
       "25%     5.250000    0.315250      0.320000  -1.386623\n",
       "50%    10.500000    2.346000      2.345000  -0.226417\n",
       "75%    15.750000   16.996500     17.048000  -0.045168\n",
       "max    21.000000  123.043000    123.043000   0.245942"
      ]
     },
     "execution_count": 4,
     "metadata": {},
     "output_type": "execute_result"
    }
   ],
   "source": [
    "data.describe()\n",
    "#data.dtypes"
   ]
  },
  {
   "cell_type": "code",
   "execution_count": 5,
   "metadata": {},
   "outputs": [
    {
     "data": {
      "text/plain": [
       "6.9767441860465027"
      ]
     },
     "execution_count": 5,
     "metadata": {},
     "output_type": "execute_result"
    }
   ],
   "source": [
    "max(np.absolute(data['percent']))"
   ]
  },
  {
   "cell_type": "code",
   "execution_count": null,
   "metadata": {
    "collapsed": true
   },
   "outputs": [],
   "source": []
  },
  {
   "cell_type": "code",
   "execution_count": 6,
   "metadata": {
    "scrolled": true
   },
   "outputs": [
    {
     "name": "stderr",
     "output_type": "stream",
     "text": [
      "/Users/Mila/anaconda/lib/python3.5/site-packages/sklearn/utils/fixes.py:313: FutureWarning: numpy not_equal will not check object identity in the future. The comparison did not return the same result as suggested by the identity (`is`)) and will change.\n",
      "  _nan_object_mask = _nan_object_array != _nan_object_array\n"
     ]
    },
    {
     "data": {
      "text/plain": [
       "LinearRegression(copy_X=True, fit_intercept=True, n_jobs=None,\n",
       "         normalize=False)"
      ]
     },
     "execution_count": 6,
     "metadata": {},
     "output_type": "execute_result"
    }
   ],
   "source": [
    "from sklearn.linear_model import LinearRegression\n",
    "#Create the linear regression object\n",
    "lm = LinearRegression()\n",
    "lm"
   ]
  },
  {
   "cell_type": "code",
   "execution_count": 7,
   "metadata": {
    "collapsed": true
   },
   "outputs": [],
   "source": [
    "X = data[['ActividadCal']]\n",
    "Y = data['ActividadM']"
   ]
  },
  {
   "cell_type": "code",
   "execution_count": 8,
   "metadata": {},
   "outputs": [
    {
     "data": {
      "text/plain": [
       "LinearRegression(copy_X=True, fit_intercept=True, n_jobs=None,\n",
       "         normalize=False)"
      ]
     },
     "execution_count": 8,
     "metadata": {},
     "output_type": "execute_result"
    }
   ],
   "source": [
    "lm.fit(X,Y)"
   ]
  },
  {
   "cell_type": "code",
   "execution_count": 9,
   "metadata": {},
   "outputs": [
    {
     "data": {
      "text/plain": [
       "array([ 0.99967116])"
      ]
     },
     "execution_count": 9,
     "metadata": {},
     "output_type": "execute_result"
    }
   ],
   "source": [
    "# Slope \n",
    "bl=lm.coef_\n",
    "bl"
   ]
  },
  {
   "cell_type": "code",
   "execution_count": 10,
   "metadata": {},
   "outputs": [
    {
     "data": {
      "text/plain": [
       "-0.0088059881549114039"
      ]
     },
     "execution_count": 10,
     "metadata": {},
     "output_type": "execute_result"
    }
   ],
   "source": [
    "# Intercept\n",
    "al=lm.intercept_\n",
    "al"
   ]
  },
  {
   "cell_type": "code",
   "execution_count": 11,
   "metadata": {
    "collapsed": true
   },
   "outputs": [],
   "source": [
    "##### de mCi a Bq\n",
    "mcibq=3.7E7\n",
    "##### de uCi a Bq\n",
    "ucibq=3.7E4\n",
    "\n",
    "### half life  [minutos]\n",
    "HL= 110\n",
    "### half life [s]\n",
    "HLbq= HL*60\n",
    "### Tau [s]\n",
    "Taubq= HLbq/np.log(2)"
   ]
  },
  {
   "cell_type": "code",
   "execution_count": 12,
   "metadata": {},
   "outputs": [
    {
     "data": {
      "text/plain": [
       "array([ 0.00032884])"
      ]
     },
     "execution_count": 12,
     "metadata": {},
     "output_type": "execute_result"
    }
   ],
   "source": [
    "#plt.plot(data['Tiempo'],data['ActividadM'],'ob')\n",
    "#plt.yscale('log')\n",
    "1-bl"
   ]
  },
  {
   "cell_type": "code",
   "execution_count": 13,
   "metadata": {
    "collapsed": true
   },
   "outputs": [],
   "source": [
    "data['ActBq']=data['ActividadM']*mcibq\n",
    "data['ActMBq']=data['ActBq']/1.0E6\n",
    "data['IncerBq']=np.sqrt(data['ActBq'])\n",
    "data['RaizMBq']=np.sqrt(data['ActMBq'])\n",
    "data['ActicalMBq']=(data['ActividadCal']*mcibq)/1.0E6"
   ]
  },
  {
   "cell_type": "code",
   "execution_count": 18,
   "metadata": {},
   "outputs": [
    {
     "data": {
      "text/plain": [
       "<matplotlib.legend.Legend at 0x1a17919780>"
      ]
     },
     "execution_count": 18,
     "metadata": {},
     "output_type": "execute_result"
    },
    {
     "data": {
      "image/png": "[encoded data removed]",
      "text/plain": [
       "<Figure size 432x288 with 1 Axes>"
      ]
     },
     "metadata": {},
     "output_type": "display_data"
    }
   ],
   "source": [
    "plt.errorbar(data['ActicalMBq'],data['ActMBq'], yerr=data['RaizMBq'],fmt='.b',label='Experimento',capsize=5)\n",
    "#plt.plot(data['ActividadCal'],data['ActividadM'],'ob',label='Datos')\n",
    "plt.plot(data['ActicalMBq'],data['ActicalMBq'],'--r',label='Teoría')\n",
    "plt.xlabel(r'Actividad Calculada [MBq]',size=15)\n",
    "plt.ylabel(r'Actividad Medida [MBq]',size=15)\n",
    "plt.legend()"
   ]
  },
  {
   "cell_type": "code",
   "execution_count": 150,
   "metadata": {
    "collapsed": true
   },
   "outputs": [],
   "source": [
    "data['LN']=np.log(data['ActMBq'])\n",
    "#data['LN']=np.log(data['Cuentas'])\n",
    "#data['LN']=np.log(data['actividad'])"
   ]
  },
  {
   "cell_type": "code",
   "execution_count": 151,
   "metadata": {},
   "outputs": [
    {
     "data": {
      "text/plain": [
       "123.04299999999999"
      ]
     },
     "execution_count": 151,
     "metadata": {},
     "output_type": "execute_result"
    }
   ],
   "source": [
    "data['ActividadM'][0]"
   ]
  },
  {
   "cell_type": "code",
   "execution_count": 152,
   "metadata": {
    "collapsed": true
   },
   "outputs": [],
   "source": [
    "Aexp=data['ActividadM'][0]*np.exp(-((data['Tiempo']*np.log(2))/(1.83)))\n",
    "#np.round(Aexp,2)"
   ]
  },
  {
   "cell_type": "markdown",
   "metadata": {},
   "source": [
    "## Notas de Clase -Física Experimental II - Capítulo 6"
   ]
  },
  {
   "cell_type": "markdown",
   "metadata": {},
   "source": [
    "Función a ajustar: "
   ]
  },
  {
   "cell_type": "markdown",
   "metadata": {},
   "source": [
    "$$A(t) = A_o e^{-t/\\tau}$$"
   ]
  },
  {
   "cell_type": "markdown",
   "metadata": {},
   "source": [
    "que se puede linealizar tomando el logaritmo natural a ambos lados: "
   ]
  },
  {
   "cell_type": "markdown",
   "metadata": {},
   "source": [
    "$$\\text{ln} \\;A(t) =\\text{ln}\\; A_o-\\frac{t}{\\tau}$$"
   ]
  },
  {
   "cell_type": "markdown",
   "metadata": {},
   "source": [
    "tal que:"
   ]
  },
  {
   "cell_type": "markdown",
   "metadata": {},
   "source": [
    "$$\n",
    "\\begin{align}\n",
    "f(t) = \\text{ln}\\;A(t)\\\\\n",
    "a=\\text{ln}\\; A_o\\\\\n",
    "b=-\\frac{1}{\\tau}\n",
    "\\end{align}\n",
    "$$\n"
   ]
  },
  {
   "cell_type": "markdown",
   "metadata": {},
   "source": [
    "### Ajuste por el metodo de mínimos cuadrados "
   ]
  },
  {
   "cell_type": "markdown",
   "metadata": {},
   "source": [
    "$$\n",
    "\\begin{align}\n",
    "y(t) = \\text{ln}\\;A(t)\\\\\n",
    "\\sigma_y^2=\\left[\\frac{dy}{dA}\\right]^2\\sigma_A^2\\\\\n",
    "\\sigma_y^2=\\frac{1}{A^2} (\\sqrt{A})^2=\\frac{1}{A}\n",
    "\\end{align}\n",
    "$$"
   ]
  },
  {
   "cell_type": "markdown",
   "metadata": {},
   "source": [
    "#### Pesos    $w = 1/\\sigma^2$"
   ]
  },
  {
   "cell_type": "code",
   "execution_count": 153,
   "metadata": {
    "collapsed": true
   },
   "outputs": [],
   "source": [
    "w= data['ActMBq']\n",
    "#w= data['Cuentas']\n",
    "#w= data['ActividadM']"
   ]
  },
  {
   "cell_type": "code",
   "execution_count": 154,
   "metadata": {
    "collapsed": true
   },
   "outputs": [],
   "source": [
    "S=sum(w)"
   ]
  },
  {
   "cell_type": "markdown",
   "metadata": {},
   "source": [
    "\n",
    "$$\n",
    "\\begin{align}\n",
    "S= \\sum \\frac{1}{\\sigma_i^2}  \\; \\; \\; S_x= \\sum \\frac{x_i}{\\sigma_i^2}\\; \\; \\; S_y= \\sum \\frac{y_i}{\\sigma_i^2}\\\\\n",
    " S_{xx}= \\sum \\frac{x_i^2}{\\sigma_i^2}\\; \\; \\; S_{xy}= \\sum \\frac{x_iy_i}{\\sigma_i^2}\n",
    "\\end{align}\n",
    "$$"
   ]
  },
  {
   "cell_type": "code",
   "execution_count": 155,
   "metadata": {
    "collapsed": true
   },
   "outputs": [],
   "source": [
    "x=data['Tiempo']*w"
   ]
  },
  {
   "cell_type": "code",
   "execution_count": 156,
   "metadata": {
    "collapsed": true
   },
   "outputs": [],
   "source": [
    "Sx=sum(x)"
   ]
  },
  {
   "cell_type": "code",
   "execution_count": 157,
   "metadata": {
    "collapsed": true
   },
   "outputs": [],
   "source": [
    "xx=((data['Tiempo'])**2)*w"
   ]
  },
  {
   "cell_type": "code",
   "execution_count": 158,
   "metadata": {
    "collapsed": true
   },
   "outputs": [],
   "source": [
    "Sxx=sum(xx)"
   ]
  },
  {
   "cell_type": "code",
   "execution_count": 159,
   "metadata": {
    "collapsed": true
   },
   "outputs": [],
   "source": [
    "y=data['LN']*w"
   ]
  },
  {
   "cell_type": "code",
   "execution_count": 160,
   "metadata": {
    "collapsed": true
   },
   "outputs": [],
   "source": [
    "Sy=sum(y)"
   ]
  },
  {
   "cell_type": "code",
   "execution_count": 161,
   "metadata": {
    "collapsed": true
   },
   "outputs": [],
   "source": [
    "xy=(data['Tiempo']*data['LN'])*w"
   ]
  },
  {
   "cell_type": "code",
   "execution_count": 162,
   "metadata": {
    "collapsed": true
   },
   "outputs": [],
   "source": [
    "Sxy=sum(xy)"
   ]
  },
  {
   "cell_type": "markdown",
   "metadata": {},
   "source": [
    "$$\n",
    "\\begin{align}\n",
    "f(t)= a+bt\\\\\n",
    "a=\\frac{1}{\\Delta}(S_{xx}S_{y}-S_xS_{xy})\\\\\n",
    "b=\\frac{1}{\\Delta}(SS_{xy}-S_xS_y)\\\\\n",
    "\\Delta= SS_{xx}-(S_x)^2\n",
    "\\end{align}\n",
    "$$\n"
   ]
  },
  {
   "cell_type": "code",
   "execution_count": 163,
   "metadata": {
    "collapsed": true
   },
   "outputs": [],
   "source": [
    "### Calculando Delta \n",
    "det=(S*Sxx)-(Sx)**2"
   ]
  },
  {
   "cell_type": "markdown",
   "metadata": {},
   "source": [
    "### Ajuste con pesos de a y b "
   ]
  },
  {
   "cell_type": "code",
   "execution_count": 164,
   "metadata": {},
   "outputs": [
    {
     "data": {
      "text/plain": [
       "8.4231944423161078"
      ]
     },
     "execution_count": 164,
     "metadata": {},
     "output_type": "execute_result"
    }
   ],
   "source": [
    "a=((Sxx*Sy)-(Sx*Sxy))/det\n",
    "a"
   ]
  },
  {
   "cell_type": "code",
   "execution_count": 165,
   "metadata": {},
   "outputs": [
    {
     "data": {
      "text/plain": [
       "-0.37913384002027373"
      ]
     },
     "execution_count": 165,
     "metadata": {},
     "output_type": "execute_result"
    }
   ],
   "source": [
    "b=((S*Sxy)-(Sx*Sy))/det\n",
    "b"
   ]
  },
  {
   "cell_type": "markdown",
   "metadata": {},
   "source": [
    "#### Incertidumbres"
   ]
  },
  {
   "cell_type": "markdown",
   "metadata": {},
   "source": [
    "$$\n",
    "\\begin{align}\n",
    "\\text{error a}=\\sqrt{\\frac{S_{xx}}{\\Delta}}\\\\\n",
    "\\text{error b}=\\sqrt{\\frac{S}{\\Delta}}\\\\\n",
    "\\end{align}\n",
    "$$"
   ]
  },
  {
   "cell_type": "code",
   "execution_count": 166,
   "metadata": {
    "collapsed": true
   },
   "outputs": [],
   "source": [
    "# incertidumbre acm\n",
    "inca= np.sqrt(Sxx/det)\n",
    "# incertidumbre bcm\n",
    "incb=np.sqrt(S/det)"
   ]
  },
  {
   "cell_type": "code",
   "execution_count": 167,
   "metadata": {
    "collapsed": true
   },
   "outputs": [],
   "source": [
    "#inca"
   ]
  },
  {
   "cell_type": "markdown",
   "metadata": {},
   "source": [
    "### Calculo de Vida media  $\\tau$ y $N_o$"
   ]
  },
  {
   "cell_type": "markdown",
   "metadata": {},
   "source": [
    "$$\n",
    "\\begin{align}\n",
    "\\tau=-\\frac{1}{b}\\\\\n",
    "e^a= N_o\n",
    "\\end{align}\n",
    "$$"
   ]
  },
  {
   "cell_type": "code",
   "execution_count": 168,
   "metadata": {},
   "outputs": [
    {
     "data": {
      "text/plain": [
       "2.6375909888353046"
      ]
     },
     "execution_count": 168,
     "metadata": {},
     "output_type": "execute_result"
    }
   ],
   "source": [
    "### Vida Media \n",
    "tau=-1/b\n",
    "tau"
   ]
  },
  {
   "cell_type": "code",
   "execution_count": 169,
   "metadata": {},
   "outputs": [
    {
     "data": {
      "text/plain": [
       "4551.4195045703418"
      ]
     },
     "execution_count": 169,
     "metadata": {},
     "output_type": "execute_result"
    }
   ],
   "source": [
    "### Cuentas\n",
    "cuen=np.exp(a)\n",
    "cuen"
   ]
  },
  {
   "cell_type": "code",
   "execution_count": 170,
   "metadata": {
    "collapsed": true
   },
   "outputs": [],
   "source": [
    "###Actividad en MBq\n",
    "#A=(cuen)*np.exp(-(data['Tiempo']/tau))/1.0E6\n",
    "#N=(cuen)*np.exp(-(data['Tiempo']/tau))\n",
    "A=(cuen)*np.exp(-(data['Tiempo']/tau))"
   ]
  },
  {
   "cell_type": "markdown",
   "metadata": {},
   "source": [
    "#### Incertidumbres  vida media y cuentas "
   ]
  },
  {
   "cell_type": "markdown",
   "metadata": {},
   "source": [
    "$$\n",
    "\\begin{align}\n",
    "\\sigma^2 (a)=\\left[\\frac{da}{dN_o}\\right]^2\\sigma^2 (N_o) \\; \\; \\; \\; \\sigma (N_o)= N_o \\sigma (a)\\\\\n",
    "\\sigma^2 (\\tau)=\\left[\\frac{d\\tau}{db}\\right]^2\\sigma^2 (b) \\; \\; \\; \\; \\sigma (\\tau)=\\frac{1}{b^2} \\sigma (b)\n",
    "\\end{align}\n",
    "$$"
   ]
  },
  {
   "cell_type": "code",
   "execution_count": 171,
   "metadata": {},
   "outputs": [
    {
     "data": {
      "text/plain": [
       "49.319672417985302"
      ]
     },
     "execution_count": 171,
     "metadata": {},
     "output_type": "execute_result"
    }
   ],
   "source": [
    "inccuen= cuen*inca\n",
    "inccuen"
   ]
  },
  {
   "cell_type": "code",
   "execution_count": 172,
   "metadata": {},
   "outputs": [
    {
     "data": {
      "text/plain": [
       "0.022292060666870339"
      ]
     },
     "execution_count": 172,
     "metadata": {},
     "output_type": "execute_result"
    }
   ],
   "source": [
    "inctau=incb/(b**2)\n",
    "inctau"
   ]
  },
  {
   "cell_type": "code",
   "execution_count": 173,
   "metadata": {},
   "outputs": [
    {
     "data": {
      "text/html": [
       "<div>\n",
       "<table border=\"1\" class=\"dataframe\">\n",
       "  <thead>\n",
       "    <tr style=\"text-align: right;\">\n",
       "      <th></th>\n",
       "      <th>Tiempo</th>\n",
       "      <th>ActividadM</th>\n",
       "      <th>ActividadCal</th>\n",
       "      <th>percent</th>\n",
       "      <th>ActBq</th>\n",
       "      <th>ActMBq</th>\n",
       "      <th>IncerBq</th>\n",
       "      <th>RaizMBq</th>\n",
       "      <th>ActicalMBq</th>\n",
       "      <th>LN</th>\n",
       "    </tr>\n",
       "  </thead>\n",
       "  <tbody>\n",
       "    <tr>\n",
       "      <th>17</th>\n",
       "      <td>17</td>\n",
       "      <td>0.193</td>\n",
       "      <td>0.196</td>\n",
       "      <td>-1.530612</td>\n",
       "      <td>7141000.0</td>\n",
       "      <td>7.141</td>\n",
       "      <td>2672.264957</td>\n",
       "      <td>2.672265</td>\n",
       "      <td>7.252</td>\n",
       "      <td>1.965853</td>\n",
       "    </tr>\n",
       "    <tr>\n",
       "      <th>18</th>\n",
       "      <td>18</td>\n",
       "      <td>0.131</td>\n",
       "      <td>0.134</td>\n",
       "      <td>-2.238806</td>\n",
       "      <td>4847000.0</td>\n",
       "      <td>4.847</td>\n",
       "      <td>2201.590334</td>\n",
       "      <td>2.201590</td>\n",
       "      <td>4.958</td>\n",
       "      <td>1.578360</td>\n",
       "    </tr>\n",
       "    <tr>\n",
       "      <th>19</th>\n",
       "      <td>19</td>\n",
       "      <td>0.089</td>\n",
       "      <td>0.092</td>\n",
       "      <td>-3.260870</td>\n",
       "      <td>3293000.0</td>\n",
       "      <td>3.293</td>\n",
       "      <td>1814.662503</td>\n",
       "      <td>1.814663</td>\n",
       "      <td>3.404</td>\n",
       "      <td>1.191799</td>\n",
       "    </tr>\n",
       "    <tr>\n",
       "      <th>20</th>\n",
       "      <td>20</td>\n",
       "      <td>0.060</td>\n",
       "      <td>0.063</td>\n",
       "      <td>-4.761905</td>\n",
       "      <td>2220000.0</td>\n",
       "      <td>2.220</td>\n",
       "      <td>1489.966443</td>\n",
       "      <td>1.489966</td>\n",
       "      <td>2.331</td>\n",
       "      <td>0.797507</td>\n",
       "    </tr>\n",
       "    <tr>\n",
       "      <th>21</th>\n",
       "      <td>21</td>\n",
       "      <td>0.040</td>\n",
       "      <td>0.043</td>\n",
       "      <td>-6.976744</td>\n",
       "      <td>1480000.0</td>\n",
       "      <td>1.480</td>\n",
       "      <td>1216.552506</td>\n",
       "      <td>1.216553</td>\n",
       "      <td>1.591</td>\n",
       "      <td>0.392042</td>\n",
       "    </tr>\n",
       "  </tbody>\n",
       "</table>\n",
       "</div>"
      ],
      "text/plain": [
       "    Tiempo  ActividadM  ActividadCal   percent      ActBq  ActMBq  \\\n",
       "17      17       0.193         0.196 -1.530612  7141000.0   7.141   \n",
       "18      18       0.131         0.134 -2.238806  4847000.0   4.847   \n",
       "19      19       0.089         0.092 -3.260870  3293000.0   3.293   \n",
       "20      20       0.060         0.063 -4.761905  2220000.0   2.220   \n",
       "21      21       0.040         0.043 -6.976744  1480000.0   1.480   \n",
       "\n",
       "        IncerBq   RaizMBq  ActicalMBq        LN  \n",
       "17  2672.264957  2.672265       7.252  1.965853  \n",
       "18  2201.590334  2.201590       4.958  1.578360  \n",
       "19  1814.662503  1.814663       3.404  1.191799  \n",
       "20  1489.966443  1.489966       2.331  0.797507  \n",
       "21  1216.552506  1.216553       1.591  0.392042  "
      ]
     },
     "execution_count": 173,
     "metadata": {},
     "output_type": "execute_result"
    }
   ],
   "source": [
    "#data['incerti']=data['actividad']*0.0182\n",
    "#data['incerti']=np.sqrt(data['Cuentas'])\n",
    "data.tail()"
   ]
  },
  {
   "cell_type": "code",
   "execution_count": 174,
   "metadata": {
    "collapsed": true
   },
   "outputs": [],
   "source": [
    "# import the visualization package: seaborn\n",
    "import seaborn as sns\n",
    "sns.set_context(\"talk\",font_scale=1.4)"
   ]
  },
  {
   "cell_type": "markdown",
   "metadata": {},
   "source": [
    "###  Visualización "
   ]
  },
  {
   "cell_type": "code",
   "execution_count": 175,
   "metadata": {},
   "outputs": [
    {
     "data": {
      "image/png": "[encoded data removed]",
      "text/plain": [
       "<Figure size 748.8x514.8 with 1 Axes>"
      ]
     },
     "metadata": {},
     "output_type": "display_data"
    }
   ],
   "source": [
    "#plt.errorbar(data['Tiempo'],data['ActMBq'], yerr=data['IncerMBq'],fmt='.r',label='Experimento',capsize=1)\n",
    "plt.errorbar(data['Tiempo'],data['ActMBq'], yerr=data['RaizMBq'],fmt='.r',label='Experimento',capsize=1)\n",
    "#plt.errorbar(data['Tiempo'],data['Cuentas'], yerr=data['incerti'],fmt='.r',label='Experimento',capsize=1)\n",
    "#plt.errorbar(data['Tiempo'],data['actividad'], yerr=data['Raizmci'],fmt='.r',label='Experimento',capsize=1)\n",
    "#plt.plot(data['Tiempo'],N,label='ajuste')\n",
    "plt.plot(data['Tiempo'],A,label='Ajuste')\n",
    "#plt.plot((0,17),(3.48,3.48), 'k:', linewidth=2) \n",
    "#plt.text(0,3.48,'2$\\%$')\n",
    "#plt.plot((0,18.5),(1.92,1.92), 'k:', linewidth=2) \n",
    "#plt.text(0,1.92,'4$\\%$')\n",
    "#plt.plot(data['Tiempo'],data['ActicalMBq'],label='Calculada')\n",
    "#plt.xlabel(r'Tiempo [h]',size=15)\n",
    "#plt.ylabel(r'Actividad [MBq]',size=20)\n",
    "#plt.ylabel(r'Actividad [mCi]',size=20)\n",
    "\n",
    "\n",
    "\n",
    "tx=r'$\\mathbf{{\\tau}}$ = {:.2f} $\\pm$ {:.2f} h'\n",
    "plt.annotate(tx.format(tau,inctau),xy=(0, 50), fontsize=14, fontweight=\"bold\")\n",
    "plt.legend()\n",
    "#plt.xlim(-0.5,20.4)\n",
    "#plt.ylim(1E-1,1E2)\n",
    "plt.yscale('log')\n",
    "#plt.savefig('linealitheobrf.pdf')"
   ]
  },
  {
   "cell_type": "code",
   "execution_count": 180,
   "metadata": {},
   "outputs": [
    {
     "data": {
      "image/png": "[encoded data removed]",
      "text/plain": [
       "<Figure size 748.8x514.8 with 1 Axes>"
      ]
     },
     "metadata": {},
     "output_type": "display_data"
    }
   ],
   "source": [
    "#plt.errorbar(data['ActMBq'],np.absolute(data['percent']), xerr=data['RaizMBq'],fmt='.r',label='Experimento',capsize=1)\n",
    "plt.plot(data['ActMBq'],np.absolute(data['percent']),'.r',label='F-18')\n",
    "\n",
    "plt.plot((0.5,10),(1,1), 'k:', linewidth=2)\n",
    "plt.plot((0.5,5),(5,5), 'k:', linewidth=2)\n",
    "plt.plot((74.74,74.74),(-0.05,4), 'b:', linewidth=2) \n",
    "plt.plot((740,740),(-0.05,4), 'b:', linewidth=2)\n",
    "plt.plot((3700,3700),(-0.05,4), 'g:', linewidth=2)\n",
    "\n",
    "plt.text(0.5,1.1,r'1$\\%$',fontsize=14,color='k')\n",
    "plt.text(0.5,5.1,r'5$\\%$',fontsize=14,color='k')\n",
    "plt.text(100,2,r'Actividad Inyectada',fontsize=12,color='b')\n",
    "plt.text(500,4.5,r'Actividad Max Dosificada',fontsize=12,color='g')\n",
    "#plt.xlabel(r'Tiempo [h]',size=15)\n",
    "plt.xlabel(r'Actividad [MBq]',size=20)\n",
    "plt.ylabel(r'$\\%$ Error relativo',size=20)\n",
    "plt.legend()\n",
    "\n",
    "plt.xscale('log')\n",
    "plt.savefig('errorlineatheoA20.pdf')"
   ]
  },
  {
   "cell_type": "markdown",
   "metadata": {
    "collapsed": true
   },
   "source": [
    "#### data"
   ]
  },
  {
   "cell_type": "code",
   "execution_count": 383,
   "metadata": {},
   "outputs": [
    {
     "data": {
      "text/plain": [
       "109.64544694929259"
      ]
     },
     "execution_count": 383,
     "metadata": {},
     "output_type": "execute_result"
    }
   ],
   "source": [
    "Periodosemi=(tau*np.log(2))*60\n",
    "#Periodosemi=(tau*np.log(2))/60\n",
    "Periodosemi"
   ]
  },
  {
   "cell_type": "code",
   "execution_count": 384,
   "metadata": {},
   "outputs": [
    {
     "data": {
      "text/plain": [
       "0.97479552724478025"
      ]
     },
     "execution_count": 384,
     "metadata": {},
     "output_type": "execute_result"
    }
   ],
   "source": [
    "semividainc=(inctau*np.log(2))*60\n",
    "#semividainc=(inctau*np.log(2))/60\n",
    "semividainc"
   ]
  },
  {
   "cell_type": "code",
   "execution_count": 134,
   "metadata": {},
   "outputs": [
    {
     "data": {
      "text/plain": [
       "0.19143117593436074"
      ]
     },
     "execution_count": 134,
     "metadata": {},
     "output_type": "execute_result"
    }
   ],
   "source": [
    "### Tc 99m Activimetro 55 tR-MN \n",
    "#período semidesintegración 6.01 h \n",
    "#((np.round(Periodosemi,2)-6.01)*100)/6.01\n",
    "### F -18 Activimetro 25 PET-MN\n",
    "((np.round(Periodosemi,2)-109.7)*100)/109.7"
   ]
  },
  {
   "cell_type": "markdown",
   "metadata": {},
   "source": [
    "### Discrepancia\n",
    "\n",
    "$$ Discrepancia=x_{best}-x_{accepted} $$\n",
    "$$ t=\\frac{|x_{best}-x_{accepted}|}{\\sigma}$$"
   ]
  },
  {
   "cell_type": "code",
   "execution_count": 329,
   "metadata": {
    "collapsed": true
   },
   "outputs": [],
   "source": [
    "### Tc 99m Activimetro 55 tR-MN \n",
    "#período semidesintegración 6.01 h \n",
    "discre=np.round(Periodosemi,2)-110"
   ]
  },
  {
   "cell_type": "code",
   "execution_count": 330,
   "metadata": {},
   "outputs": [
    {
     "data": {
      "text/plain": [
       "True"
      ]
     },
     "execution_count": 330,
     "metadata": {},
     "output_type": "execute_result"
    }
   ],
   "source": [
    "discre<semividainc"
   ]
  },
  {
   "cell_type": "markdown",
   "metadata": {},
   "source": [
    "si discre < semividainc, discrepancia no es significativa. Medición satisfactoria "
   ]
  },
  {
   "cell_type": "code",
   "execution_count": 63,
   "metadata": {
    "collapsed": true
   },
   "outputs": [],
   "source": [
    "#t=(np.absolute(np.round(Periodosemi,2)-6.01))/semividainc"
   ]
  },
  {
   "cell_type": "code",
   "execution_count": 64,
   "metadata": {},
   "outputs": [
    {
     "data": {
      "text/plain": [
       "100.0"
      ]
     },
     "execution_count": 64,
     "metadata": {},
     "output_type": "execute_result"
    }
   ],
   "source": [
    "#(1-(norm.cdf(t)-norm.cdf(t)))*100"
   ]
  },
  {
   "cell_type": "code",
   "execution_count": 51,
   "metadata": {},
   "outputs": [
    {
     "data": {
      "text/plain": [
       "5.0"
      ]
     },
     "execution_count": 51,
     "metadata": {},
     "output_type": "execute_result"
    }
   ],
   "source": [
    "#### Sobreestimación porcentaje error\n",
    "np.round(max(np.absolute(data['percent'])),2)"
   ]
  },
  {
   "cell_type": "markdown",
   "metadata": {},
   "source": [
    "### Que tan bueno es el ajuste? - Chi cuadrado"
   ]
  },
  {
   "cell_type": "code",
   "execution_count": 59,
   "metadata": {
    "collapsed": true
   },
   "outputs": [],
   "source": [
    "#data['LN']\n",
    "#((data['LN']-(a+(b*data['Tiempo'])))/data['incerti'])**2"
   ]
  },
  {
   "cell_type": "code",
   "execution_count": 67,
   "metadata": {
    "collapsed": true
   },
   "outputs": [],
   "source": [
    "#chicuadrado= sum(((data['Cuentas']-np.round(cuen*np.exp(b*data['Tiempo']),0))/data['incerti'])**2)\n",
    "#chicuadrado= sum(((data['ActMBq']-np.round(cuen*np.exp(b*data['Tiempo']),2))/data['RaizMBq'])**2)\n",
    "#chicuadrado= sum(((data['actividad']-np.round(cuen*np.exp(b*data['Tiempo']),2))/data['Raizmci'])**2)\n",
    "#chicuadrado"
   ]
  },
  {
   "cell_type": "code",
   "execution_count": 68,
   "metadata": {
    "collapsed": true
   },
   "outputs": [],
   "source": [
    "#sum(((data['actividad']-np.round(cuen*np.exp(b*data['Tiempo']),2))/data['Raizmci'])**2)\n",
    "#sum(((data['ActMBq']-np.round(cuen*np.exp(b*data['Tiempo']),2))/data['RaizMBq'])**2)"
   ]
  },
  {
   "cell_type": "code",
   "execution_count": 69,
   "metadata": {
    "collapsed": true
   },
   "outputs": [],
   "source": [
    "### Número de grados de libertad= Número de puntos independientes a ajustar - Número de parámetros por hallar (2 línea Recta)\n",
    "#libertad= len(data['Tiempo'])-2\n",
    "#libertad"
   ]
  },
  {
   "cell_type": "code",
   "execution_count": 70,
   "metadata": {
    "collapsed": true
   },
   "outputs": [],
   "source": [
    "###Chi cuadrado reducido\n",
    "#chicuadrado/libertad"
   ]
  },
  {
   "cell_type": "markdown",
   "metadata": {},
   "source": [
    "### Distribución acumulativa Chi-cuadrado\n",
    "\n",
    "en una terminal ejecute el programa maxima\n",
    "y escriba: \n",
    "\n",
    "\n",
    "\n",
    "gamma_incomplete_regularized(libertad/2,chicuadrado/2);\n",
    "\n",
    "Nivel de confianza convencional en Física= CL = 0.05\n",
    "\n"
   ]
  },
  {
   "cell_type": "code",
   "execution_count": null,
   "metadata": {
    "collapsed": true
   },
   "outputs": [],
   "source": []
  },
  {
   "cell_type": "code",
   "execution_count": null,
   "metadata": {
    "collapsed": true
   },
   "outputs": [],
   "source": []
  }
 ],
 "metadata": {
  "kernelspec": {
   "display_name": "Python 3",
   "language": "python",
   "name": "python3"
  },
  "language_info": {
   "codemirror_mode": {
    "name": "ipython",
    "version": 3
   },
   "file_extension": ".py",
   "mimetype": "text/x-python",
   "name": "python",
   "nbconvert_exporter": "python",
   "pygments_lexer": "ipython3",
   "version": "3.5.5"
  }
 },
 "nbformat": 4,
 "nbformat_minor": 2
}
