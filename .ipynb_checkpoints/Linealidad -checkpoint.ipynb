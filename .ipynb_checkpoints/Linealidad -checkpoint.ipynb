{
 "cells": [
  {
   "cell_type": "markdown",
   "metadata": {},
   "source": [
    "# QC Linealidad  radionuclide (Dose) calibrator in NM"
   ]
  },
  {
   "cell_type": "code",
   "execution_count": 185,
   "metadata": {},
   "outputs": [
    {
     "data": {
      "text/html": [
       "<div>\n",
       "<table border=\"1\" class=\"dataframe\">\n",
       "  <thead>\n",
       "    <tr style=\"text-align: right;\">\n",
       "      <th></th>\n",
       "      <th>Tiempo</th>\n",
       "      <th>actividad</th>\n",
       "    </tr>\n",
       "  </thead>\n",
       "  <tbody>\n",
       "    <tr>\n",
       "      <th>0</th>\n",
       "      <td>0</td>\n",
       "      <td>18.44</td>\n",
       "    </tr>\n",
       "    <tr>\n",
       "      <th>1</th>\n",
       "      <td>28</td>\n",
       "      <td>15.49</td>\n",
       "    </tr>\n",
       "    <tr>\n",
       "      <th>2</th>\n",
       "      <td>56</td>\n",
       "      <td>12.97</td>\n",
       "    </tr>\n",
       "    <tr>\n",
       "      <th>3</th>\n",
       "      <td>84</td>\n",
       "      <td>10.81</td>\n",
       "    </tr>\n",
       "    <tr>\n",
       "      <th>4</th>\n",
       "      <td>137</td>\n",
       "      <td>7.80</td>\n",
       "    </tr>\n",
       "  </tbody>\n",
       "</table>\n",
       "</div>"
      ],
      "text/plain": [
       "   Tiempo  actividad\n",
       "0       0      18.44\n",
       "1      28      15.49\n",
       "2      56      12.97\n",
       "3      84      10.81\n",
       "4     137       7.80"
      ]
     },
     "execution_count": 185,
     "metadata": {},
     "output_type": "execute_result"
    }
   ],
   "source": [
    "import numpy as np\n",
    "import pandas as pd\n",
    "import matplotlib.pyplot as plt\n",
    "\n",
    "#### Paquete de tiempo\n",
    "import datetime\n",
    "\n",
    "%matplotlib inline\n",
    "\n",
    "#Para cargar los datos\n",
    "################################\n",
    "######  MEDICINA NUCLEAR #######\n",
    "################################\n",
    "\n",
    "###Activimetro CRC 25 PET con fuente Cs-137\n",
    "#data = pd.read_csv('testlinealidad.txt', delim_whitespace =True)\n",
    "data = pd.read_csv('lineapet.txt', delim_whitespace =True)\n",
    "###Activimetro 55tR con fuente Co-57\n",
    "#data = pd.read_csv('ActSPECT.txt', delim_whitespace =True)\n",
    "\n",
    "\n",
    "\n",
    "\n",
    "#para ver los primeros datos\n",
    "data.head()"
   ]
  },
  {
   "cell_type": "code",
   "execution_count": 186,
   "metadata": {},
   "outputs": [
    {
     "data": {
      "text/plain": [
       "Tiempo         int64\n",
       "actividad    float64\n",
       "dtype: object"
      ]
     },
     "execution_count": 186,
     "metadata": {},
     "output_type": "execute_result"
    }
   ],
   "source": [
    "#data.describe()\n",
    "data.dtypes"
   ]
  },
  {
   "cell_type": "code",
   "execution_count": 187,
   "metadata": {
    "collapsed": true
   },
   "outputs": [],
   "source": [
    "##### de mCi a Bq\n",
    "mcibq=3.7E7\n",
    "##### de uCi a Bq\n",
    "ucibq=3.7E4\n",
    "\n",
    "### half life  [minutos]\n",
    "HL= 110\n",
    "### half life [s]\n",
    "HLbq= HL*60\n",
    "### Tau [s]\n",
    "Taubq= HLbq/np.log(2)"
   ]
  },
  {
   "cell_type": "code",
   "execution_count": 188,
   "metadata": {},
   "outputs": [],
   "source": [
    "#plt.plot(data['Tiempo'],data['actividad'],'ob')\n",
    "#plt.yscale('log')"
   ]
  },
  {
   "cell_type": "code",
   "execution_count": 189,
   "metadata": {
    "collapsed": true
   },
   "outputs": [],
   "source": [
    "data['ActBq']=data['actividad']*mcibq\n",
    "data['ActMBq']=data['ActBq']/1.0E6\n",
    "data['IncerBq']=np.sqrt(data['ActBq'])\n",
    "data['IncerMBq']=data['IncerBq']/1.0E6\n",
    "data['incerti']=data['IncerBq']/mcibq"
   ]
  },
  {
   "cell_type": "code",
   "execution_count": 190,
   "metadata": {},
   "outputs": [],
   "source": [
    "data['LN']=np.log(data['ActBq'])\n",
    "#data['LN']=np.log(data['Cuentas'])"
   ]
  },
  {
   "cell_type": "code",
   "execution_count": 191,
   "metadata": {},
   "outputs": [
    {
     "data": {
      "text/html": [
       "<div>\n",
       "<table border=\"1\" class=\"dataframe\">\n",
       "  <thead>\n",
       "    <tr style=\"text-align: right;\">\n",
       "      <th></th>\n",
       "      <th>Tiempo</th>\n",
       "      <th>actividad</th>\n",
       "      <th>ActBq</th>\n",
       "      <th>ActMBq</th>\n",
       "      <th>IncerBq</th>\n",
       "      <th>IncerMBq</th>\n",
       "      <th>incerti</th>\n",
       "      <th>LN</th>\n",
       "    </tr>\n",
       "  </thead>\n",
       "  <tbody>\n",
       "    <tr>\n",
       "      <th>0</th>\n",
       "      <td>0</td>\n",
       "      <td>18.44</td>\n",
       "      <td>682280000.0</td>\n",
       "      <td>682.28</td>\n",
       "      <td>26120.490041</td>\n",
       "      <td>0.026120</td>\n",
       "      <td>0.000706</td>\n",
       "      <td>20.340951</td>\n",
       "    </tr>\n",
       "    <tr>\n",
       "      <th>1</th>\n",
       "      <td>28</td>\n",
       "      <td>15.49</td>\n",
       "      <td>573130000.0</td>\n",
       "      <td>573.13</td>\n",
       "      <td>23940.133667</td>\n",
       "      <td>0.023940</td>\n",
       "      <td>0.000647</td>\n",
       "      <td>20.166623</td>\n",
       "    </tr>\n",
       "    <tr>\n",
       "      <th>2</th>\n",
       "      <td>56</td>\n",
       "      <td>12.97</td>\n",
       "      <td>479890000.0</td>\n",
       "      <td>479.89</td>\n",
       "      <td>21906.391761</td>\n",
       "      <td>0.021906</td>\n",
       "      <td>0.000592</td>\n",
       "      <td>19.989067</td>\n",
       "    </tr>\n",
       "    <tr>\n",
       "      <th>3</th>\n",
       "      <td>84</td>\n",
       "      <td>10.81</td>\n",
       "      <td>399970000.0</td>\n",
       "      <td>399.97</td>\n",
       "      <td>19999.249986</td>\n",
       "      <td>0.019999</td>\n",
       "      <td>0.000541</td>\n",
       "      <td>19.806900</td>\n",
       "    </tr>\n",
       "    <tr>\n",
       "      <th>4</th>\n",
       "      <td>137</td>\n",
       "      <td>7.80</td>\n",
       "      <td>288600000.0</td>\n",
       "      <td>288.60</td>\n",
       "      <td>16988.231220</td>\n",
       "      <td>0.016988</td>\n",
       "      <td>0.000459</td>\n",
       "      <td>19.480552</td>\n",
       "    </tr>\n",
       "  </tbody>\n",
       "</table>\n",
       "</div>"
      ],
      "text/plain": [
       "   Tiempo  actividad        ActBq  ActMBq       IncerBq  IncerMBq   incerti  \\\n",
       "0       0      18.44  682280000.0  682.28  26120.490041  0.026120  0.000706   \n",
       "1      28      15.49  573130000.0  573.13  23940.133667  0.023940  0.000647   \n",
       "2      56      12.97  479890000.0  479.89  21906.391761  0.021906  0.000592   \n",
       "3      84      10.81  399970000.0  399.97  19999.249986  0.019999  0.000541   \n",
       "4     137       7.80  288600000.0  288.60  16988.231220  0.016988  0.000459   \n",
       "\n",
       "          LN  \n",
       "0  20.340951  \n",
       "1  20.166623  \n",
       "2  19.989067  \n",
       "3  19.806900  \n",
       "4  19.480552  "
      ]
     },
     "execution_count": 191,
     "metadata": {},
     "output_type": "execute_result"
    }
   ],
   "source": [
    "data.head()"
   ]
  },
  {
   "cell_type": "markdown",
   "metadata": {},
   "source": [
    "## Notas de Clase -Física Experimental II - Capítulo 6"
   ]
  },
  {
   "cell_type": "markdown",
   "metadata": {},
   "source": [
    "Función a ajustar: "
   ]
  },
  {
   "cell_type": "markdown",
   "metadata": {},
   "source": [
    "$$A(t) = A_o e^{-t/\\tau}$$"
   ]
  },
  {
   "cell_type": "markdown",
   "metadata": {},
   "source": [
    "que se puede linealizar tomando el logaritmo natural a ambos lados: "
   ]
  },
  {
   "cell_type": "markdown",
   "metadata": {},
   "source": [
    "$$\\text{ln} \\;A(t) =\\text{ln}\\; A_o-\\frac{t}{\\tau}$$"
   ]
  },
  {
   "cell_type": "markdown",
   "metadata": {},
   "source": [
    "tal que:"
   ]
  },
  {
   "cell_type": "markdown",
   "metadata": {},
   "source": [
    "$$\n",
    "\\begin{align}\n",
    "f(t) = \\text{ln}\\;A(t)\\\\\n",
    "a=\\text{ln}\\; A_o\\\\\n",
    "b=-\\frac{1}{\\tau}\n",
    "\\end{align}\n",
    "$$\n"
   ]
  },
  {
   "cell_type": "code",
   "execution_count": 192,
   "metadata": {},
   "outputs": [
    {
     "data": {
      "text/plain": [
       "LinearRegression(copy_X=True, fit_intercept=True, n_jobs=None,\n",
       "         normalize=False)"
      ]
     },
     "execution_count": 192,
     "metadata": {},
     "output_type": "execute_result"
    }
   ],
   "source": [
    "from sklearn.linear_model import LinearRegression\n",
    "#Create the linear regression object\n",
    "lm = LinearRegression()\n",
    "lm"
   ]
  },
  {
   "cell_type": "code",
   "execution_count": 193,
   "metadata": {
    "collapsed": true
   },
   "outputs": [],
   "source": [
    "X = data[['Tiempo']]\n",
    "Y = data['LN']"
   ]
  },
  {
   "cell_type": "code",
   "execution_count": 194,
   "metadata": {},
   "outputs": [
    {
     "data": {
      "text/plain": [
       "LinearRegression(copy_X=True, fit_intercept=True, n_jobs=None,\n",
       "         normalize=False)"
      ]
     },
     "execution_count": 194,
     "metadata": {},
     "output_type": "execute_result"
    }
   ],
   "source": [
    "lm.fit(X,Y)"
   ]
  },
  {
   "cell_type": "code",
   "execution_count": 195,
   "metadata": {
    "collapsed": true
   },
   "outputs": [],
   "source": [
    "# Slope \n",
    "bl=lm.coef_"
   ]
  },
  {
   "cell_type": "code",
   "execution_count": 196,
   "metadata": {
    "collapsed": true
   },
   "outputs": [],
   "source": [
    "# Intercept\n",
    "al=lm.intercept_"
   ]
  },
  {
   "cell_type": "code",
   "execution_count": 197,
   "metadata": {},
   "outputs": [
    {
     "data": {
      "text/plain": [
       "681208207.01063466"
      ]
     },
     "execution_count": 197,
     "metadata": {},
     "output_type": "execute_result"
    }
   ],
   "source": [
    "### Número de cuentas N_o, será entonces: \n",
    "#No= \n",
    "np.exp(al)\n",
    "#al"
   ]
  },
  {
   "cell_type": "code",
   "execution_count": 198,
   "metadata": {},
   "outputs": [
    {
     "data": {
      "text/plain": [
       "array([ 158.79384743])"
      ]
     },
     "execution_count": 198,
     "metadata": {},
     "output_type": "execute_result"
    }
   ],
   "source": [
    "### Vida media \n",
    "-1/bl\n",
    "#bl"
   ]
  },
  {
   "cell_type": "markdown",
   "metadata": {},
   "source": [
    "### Ajuste por el metodo de mínimos cuadrados "
   ]
  },
  {
   "cell_type": "markdown",
   "metadata": {},
   "source": [
    "$$\n",
    "\\begin{align}\n",
    "y(t) = \\text{ln}\\;A(t)\\\\\n",
    "\\sigma_y^2=\\left[\\frac{dy}{dA}\\right]^2\\sigma_A^2\\\\\n",
    "\\sigma_y^2=\\frac{1}{A^2} (\\sqrt{A})^2=\\frac{1}{A}\n",
    "\\end{align}\n",
    "$$"
   ]
  },
  {
   "cell_type": "markdown",
   "metadata": {},
   "source": [
    "#### Pesos    $w = 1/\\sigma^2$"
   ]
  },
  {
   "cell_type": "code",
   "execution_count": 199,
   "metadata": {},
   "outputs": [],
   "source": [
    "w= data['ActBq']\n",
    "#w= data['Cuentas']"
   ]
  },
  {
   "cell_type": "code",
   "execution_count": 200,
   "metadata": {
    "collapsed": true
   },
   "outputs": [],
   "source": [
    "S=sum(w)"
   ]
  },
  {
   "cell_type": "markdown",
   "metadata": {},
   "source": [
    "\n",
    "$$\n",
    "\\begin{align}\n",
    "S= \\sum \\frac{1}{\\sigma_i^2}  \\; \\; \\; S_x= \\sum \\frac{x_i}{\\sigma_i^2}\\; \\; \\; S_y= \\sum \\frac{y_i}{\\sigma_i^2}\\\\\n",
    " S_{xx}= \\sum \\frac{x_i^2}{\\sigma_i^2}\\; \\; \\; S_{xy}= \\sum \\frac{x_iy_i}{\\sigma_i^2}\n",
    "\\end{align}\n",
    "$$"
   ]
  },
  {
   "cell_type": "code",
   "execution_count": 201,
   "metadata": {
    "collapsed": true
   },
   "outputs": [],
   "source": [
    "x=data['Tiempo']*w"
   ]
  },
  {
   "cell_type": "code",
   "execution_count": 202,
   "metadata": {
    "collapsed": true
   },
   "outputs": [],
   "source": [
    "Sx=sum(x)"
   ]
  },
  {
   "cell_type": "code",
   "execution_count": 203,
   "metadata": {
    "collapsed": true
   },
   "outputs": [],
   "source": [
    "xx=((data['Tiempo'])**2)*w"
   ]
  },
  {
   "cell_type": "code",
   "execution_count": 204,
   "metadata": {
    "collapsed": true
   },
   "outputs": [],
   "source": [
    "Sxx=sum(xx)"
   ]
  },
  {
   "cell_type": "code",
   "execution_count": 205,
   "metadata": {
    "collapsed": true
   },
   "outputs": [],
   "source": [
    "y=data['LN']*w"
   ]
  },
  {
   "cell_type": "code",
   "execution_count": 206,
   "metadata": {
    "collapsed": true
   },
   "outputs": [],
   "source": [
    "Sy=sum(y)"
   ]
  },
  {
   "cell_type": "code",
   "execution_count": 207,
   "metadata": {
    "collapsed": true
   },
   "outputs": [],
   "source": [
    "xy=(data['Tiempo']*data['LN'])*w"
   ]
  },
  {
   "cell_type": "code",
   "execution_count": 208,
   "metadata": {
    "collapsed": true
   },
   "outputs": [],
   "source": [
    "Sxy=sum(xy)"
   ]
  },
  {
   "cell_type": "markdown",
   "metadata": {},
   "source": [
    "$$\n",
    "\\begin{align}\n",
    "f(t)= a+bt\\\\\n",
    "a=\\frac{1}{\\Delta}(S_{xx}S_{y}-S_xS_{xy})\\\\\n",
    "b=\\frac{1}{\\Delta}(SS_{xy}-S_xS_y)\\\\\n",
    "\\Delta= SS_{xx}-(S_x)^2\n",
    "\\end{align}\n",
    "$$\n"
   ]
  },
  {
   "cell_type": "code",
   "execution_count": 209,
   "metadata": {
    "collapsed": true
   },
   "outputs": [],
   "source": [
    "### Calculando Delta \n",
    "det=(S*Sxx)-(Sx)**2"
   ]
  },
  {
   "cell_type": "markdown",
   "metadata": {},
   "source": [
    "### Ajuste con pesos de a y b "
   ]
  },
  {
   "cell_type": "code",
   "execution_count": 210,
   "metadata": {},
   "outputs": [
    {
     "data": {
      "text/plain": [
       "20.341008520838358"
      ]
     },
     "execution_count": 210,
     "metadata": {},
     "output_type": "execute_result"
    }
   ],
   "source": [
    "a=((Sxx*Sy)-(Sx*Sxy))/det\n",
    "a"
   ]
  },
  {
   "cell_type": "code",
   "execution_count": 211,
   "metadata": {},
   "outputs": [
    {
     "data": {
      "text/plain": [
       "-0.0063065135582978989"
      ]
     },
     "execution_count": 211,
     "metadata": {},
     "output_type": "execute_result"
    }
   ],
   "source": [
    "b=((S*Sxy)-(Sx*Sy))/det\n",
    "b"
   ]
  },
  {
   "cell_type": "markdown",
   "metadata": {},
   "source": [
    "#### Incertidumbres"
   ]
  },
  {
   "cell_type": "markdown",
   "metadata": {},
   "source": [
    "$$\n",
    "\\begin{align}\n",
    "\\text{error a}=\\sqrt{\\frac{S_{xx}}{\\Delta}}\\\\\n",
    "\\text{error b}=\\sqrt{\\frac{S}{\\Delta}}\\\\\n",
    "\\end{align}\n",
    "$$"
   ]
  },
  {
   "cell_type": "code",
   "execution_count": 212,
   "metadata": {
    "collapsed": true
   },
   "outputs": [],
   "source": [
    "# incertidumbre acm\n",
    "inca= np.sqrt(Sxx/det)\n",
    "# incertidumbre bcm\n",
    "incb=np.sqrt(S/det)"
   ]
  },
  {
   "cell_type": "code",
   "execution_count": 213,
   "metadata": {},
   "outputs": [],
   "source": [
    "#inca"
   ]
  },
  {
   "cell_type": "markdown",
   "metadata": {},
   "source": [
    "### Calculo de Vida media  $\\tau$ y $N_o$"
   ]
  },
  {
   "cell_type": "markdown",
   "metadata": {},
   "source": [
    "$$\n",
    "\\begin{align}\n",
    "\\tau=-\\frac{1}{b}\\\\\n",
    "e^a= N_o\n",
    "\\end{align}\n",
    "$$"
   ]
  },
  {
   "cell_type": "code",
   "execution_count": 214,
   "metadata": {},
   "outputs": [
    {
     "data": {
      "text/plain": [
       "158.56621741250893"
      ]
     },
     "execution_count": 214,
     "metadata": {},
     "output_type": "execute_result"
    }
   ],
   "source": [
    "### Vida Media \n",
    "tau=-1/b\n",
    "tau"
   ]
  },
  {
   "cell_type": "code",
   "execution_count": 215,
   "metadata": {},
   "outputs": [
    {
     "data": {
      "text/plain": [
       "682319458.82713342"
      ]
     },
     "execution_count": 215,
     "metadata": {},
     "output_type": "execute_result"
    }
   ],
   "source": [
    "### Cuentas\n",
    "cuen=np.exp(a)\n",
    "cuen"
   ]
  },
  {
   "cell_type": "code",
   "execution_count": 216,
   "metadata": {
    "collapsed": true
   },
   "outputs": [],
   "source": [
    "A=(cuen)*np.exp(-(data['Tiempo']/tau))/1.0E6"
   ]
  },
  {
   "cell_type": "markdown",
   "metadata": {},
   "source": [
    "#### Incertidumbres  vida media y cuentas "
   ]
  },
  {
   "cell_type": "markdown",
   "metadata": {},
   "source": [
    "$$\n",
    "\\begin{align}\n",
    "\\sigma^2 (a)=\\left[\\frac{da}{dN_o}\\right]^2\\sigma^2 (N_o) \\; \\; \\; \\; \\sigma (N_o)= N_o \\sigma (a)\\\\\n",
    "\\sigma^2 (\\tau)=\\left[\\frac{d\\tau}{db}\\right]^2\\sigma^2 (b) \\; \\; \\; \\; \\sigma (\\tau)=\\frac{1}{b^2} \\sigma (b)\n",
    "\\end{align}\n",
    "$$"
   ]
  },
  {
   "cell_type": "code",
   "execution_count": 217,
   "metadata": {},
   "outputs": [
    {
     "data": {
      "text/plain": [
       "15894.456695332809"
      ]
     },
     "execution_count": 217,
     "metadata": {},
     "output_type": "execute_result"
    }
   ],
   "source": [
    "inccuen= cuen*inca\n",
    "inccuen"
   ]
  },
  {
   "cell_type": "code",
   "execution_count": 218,
   "metadata": {},
   "outputs": [
    {
     "data": {
      "text/plain": [
       "0.0034770412281929734"
      ]
     },
     "execution_count": 218,
     "metadata": {},
     "output_type": "execute_result"
    }
   ],
   "source": [
    "inctau=incb/(b**2)\n",
    "inctau"
   ]
  },
  {
   "cell_type": "code",
   "execution_count": 219,
   "metadata": {},
   "outputs": [
    {
     "data": {
      "text/html": [
       "<div>\n",
       "<table border=\"1\" class=\"dataframe\">\n",
       "  <thead>\n",
       "    <tr style=\"text-align: right;\">\n",
       "      <th></th>\n",
       "      <th>Tiempo</th>\n",
       "      <th>actividad</th>\n",
       "      <th>ActBq</th>\n",
       "      <th>ActMBq</th>\n",
       "      <th>IncerBq</th>\n",
       "      <th>IncerMBq</th>\n",
       "      <th>incerti</th>\n",
       "      <th>LN</th>\n",
       "    </tr>\n",
       "  </thead>\n",
       "  <tbody>\n",
       "    <tr>\n",
       "      <th>11</th>\n",
       "      <td>412</td>\n",
       "      <td>1.38</td>\n",
       "      <td>51060000.0</td>\n",
       "      <td>51.06</td>\n",
       "      <td>7145.628034</td>\n",
       "      <td>0.007146</td>\n",
       "      <td>0.000193</td>\n",
       "      <td>17.748512</td>\n",
       "    </tr>\n",
       "    <tr>\n",
       "      <th>12</th>\n",
       "      <td>437</td>\n",
       "      <td>1.18</td>\n",
       "      <td>43660000.0</td>\n",
       "      <td>43.66</td>\n",
       "      <td>6607.571415</td>\n",
       "      <td>0.006608</td>\n",
       "      <td>0.000179</td>\n",
       "      <td>17.591943</td>\n",
       "    </tr>\n",
       "    <tr>\n",
       "      <th>13</th>\n",
       "      <td>462</td>\n",
       "      <td>1.00</td>\n",
       "      <td>37000000.0</td>\n",
       "      <td>37.00</td>\n",
       "      <td>6082.762530</td>\n",
       "      <td>0.006083</td>\n",
       "      <td>0.000164</td>\n",
       "      <td>17.426428</td>\n",
       "    </tr>\n",
       "    <tr>\n",
       "      <th>14</th>\n",
       "      <td>489</td>\n",
       "      <td>0.84</td>\n",
       "      <td>31080000.0</td>\n",
       "      <td>31.08</td>\n",
       "      <td>5574.943946</td>\n",
       "      <td>0.005575</td>\n",
       "      <td>0.000151</td>\n",
       "      <td>17.252075</td>\n",
       "    </tr>\n",
       "    <tr>\n",
       "      <th>15</th>\n",
       "      <td>514</td>\n",
       "      <td>0.73</td>\n",
       "      <td>27010000.0</td>\n",
       "      <td>27.01</td>\n",
       "      <td>5197.114584</td>\n",
       "      <td>0.005197</td>\n",
       "      <td>0.000140</td>\n",
       "      <td>17.111718</td>\n",
       "    </tr>\n",
       "  </tbody>\n",
       "</table>\n",
       "</div>"
      ],
      "text/plain": [
       "    Tiempo  actividad       ActBq  ActMBq      IncerBq  IncerMBq   incerti  \\\n",
       "11     412       1.38  51060000.0   51.06  7145.628034  0.007146  0.000193   \n",
       "12     437       1.18  43660000.0   43.66  6607.571415  0.006608  0.000179   \n",
       "13     462       1.00  37000000.0   37.00  6082.762530  0.006083  0.000164   \n",
       "14     489       0.84  31080000.0   31.08  5574.943946  0.005575  0.000151   \n",
       "15     514       0.73  27010000.0   27.01  5197.114584  0.005197  0.000140   \n",
       "\n",
       "           LN  \n",
       "11  17.748512  \n",
       "12  17.591943  \n",
       "13  17.426428  \n",
       "14  17.252075  \n",
       "15  17.111718  "
      ]
     },
     "execution_count": 219,
     "metadata": {},
     "output_type": "execute_result"
    }
   ],
   "source": [
    "#data['incerti']=data['actividad']*0.0182\n",
    "#data['incerti']=np.sqrt(data['Cuentas'])\n",
    "data.tail()"
   ]
  },
  {
   "cell_type": "code",
   "execution_count": 220,
   "metadata": {
    "collapsed": true
   },
   "outputs": [],
   "source": [
    "# import the visualization package: seaborn\n",
    "#import seaborn as sns\n",
    "#sns.set_context(\"talk\",font_scale=1.4)"
   ]
  },
  {
   "cell_type": "markdown",
   "metadata": {},
   "source": [
    "###  Visualización "
   ]
  },
  {
   "cell_type": "code",
   "execution_count": 222,
   "metadata": {},
   "outputs": [
    {
     "data": {
      "image/png": "[encoded data removed]",
      "text/plain": [
       "<Figure size 432x288 with 1 Axes>"
      ]
     },
     "metadata": {},
     "output_type": "display_data"
    }
   ],
   "source": [
    "plt.errorbar(data['Tiempo'],data['ActMBq'], yerr=data['IncerMBq'],fmt='.r',label='Experimento',capsize=1)\n",
    "plt.plot(data['Tiempo'],A,label='ajuste')\n",
    "plt.xlabel(r'Tiempo [min]',size=15)\n",
    "plt.ylabel(r'Actividad [MBq]',size=20)\n",
    "\n",
    "tx=r'$\\mathbf{{\\tau}}$ = {:.3f} $\\pm$ {:.3f} min'\n",
    "plt.annotate(tx.format(tau,inctau),xy=(20, 100), fontsize=12, fontweight=\"bold\")\n",
    "plt.legend()\n",
    "#plt.ylim(1E-20,1E2)\n",
    "plt.yscale('log')\n",
    "#plt.savefig('eficazcm.pdf')"
   ]
  },
  {
   "cell_type": "code",
   "execution_count": 231,
   "metadata": {},
   "outputs": [
    {
     "data": {
      "text/plain": [
       "109.91"
      ]
     },
     "execution_count": 231,
     "metadata": {},
     "output_type": "execute_result"
    }
   ],
   "source": [
    "np.round(tau*np.log(2),3)"
   ]
  },
  {
   "cell_type": "code",
   "execution_count": 229,
   "metadata": {},
   "outputs": [
    {
     "data": {
      "text/plain": [
       "0.002"
      ]
     },
     "execution_count": 229,
     "metadata": {},
     "output_type": "execute_result"
    }
   ],
   "source": [
    "np.round(inctau*np.log(2),3)"
   ]
  },
  {
   "cell_type": "code",
   "execution_count": null,
   "metadata": {
    "collapsed": true
   },
   "outputs": [],
   "source": []
  }
 ],
 "metadata": {
  "kernelspec": {
   "display_name": "Python 3",
   "language": "python",
   "name": "python3"
  },
  "language_info": {
   "codemirror_mode": {
    "name": "ipython",
    "version": 3
   },
   "file_extension": ".py",
   "mimetype": "text/x-python",
   "name": "python",
   "nbconvert_exporter": "python",
   "pygments_lexer": "ipython3",
   "version": "3.5.5"
  }
 },
 "nbformat": 4,
 "nbformat_minor": 2
}
