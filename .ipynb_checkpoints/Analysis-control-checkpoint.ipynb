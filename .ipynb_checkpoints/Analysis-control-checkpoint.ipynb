{
 "cells": [
  {
   "cell_type": "code",
   "execution_count": 60,
   "metadata": {},
   "outputs": [
    {
     "data": {
      "text/html": [
       "<div>\n",
       "<table border=\"1\" class=\"dataframe\">\n",
       "  <thead>\n",
       "    <tr style=\"text-align: right;\">\n",
       "      <th></th>\n",
       "      <th>Number</th>\n",
       "      <th>Fecha</th>\n",
       "      <th>AjustemV</th>\n",
       "      <th>Fondo</th>\n",
       "      <th>Voltaje</th>\n",
       "      <th>Actividad</th>\n",
       "      <th>Desviacion</th>\n",
       "    </tr>\n",
       "  </thead>\n",
       "  <tbody>\n",
       "    <tr>\n",
       "      <th>0</th>\n",
       "      <td>1</td>\n",
       "      <td>11/20/18</td>\n",
       "      <td>-0.02</td>\n",
       "      <td>0.42</td>\n",
       "      <td>156.0</td>\n",
       "      <td>144.0</td>\n",
       "      <td>0.9</td>\n",
       "    </tr>\n",
       "    <tr>\n",
       "      <th>1</th>\n",
       "      <td>2</td>\n",
       "      <td>11/21/18</td>\n",
       "      <td>-0.02</td>\n",
       "      <td>0.35</td>\n",
       "      <td>156.0</td>\n",
       "      <td>145.2</td>\n",
       "      <td>0.1</td>\n",
       "    </tr>\n",
       "    <tr>\n",
       "      <th>2</th>\n",
       "      <td>3</td>\n",
       "      <td>11/22/18</td>\n",
       "      <td>-0.02</td>\n",
       "      <td>2.13</td>\n",
       "      <td>156.0</td>\n",
       "      <td>144.6</td>\n",
       "      <td>0.5</td>\n",
       "    </tr>\n",
       "    <tr>\n",
       "      <th>3</th>\n",
       "      <td>4</td>\n",
       "      <td>11/23/18</td>\n",
       "      <td>-0.02</td>\n",
       "      <td>1.67</td>\n",
       "      <td>156.0</td>\n",
       "      <td>143.8</td>\n",
       "      <td>1.0</td>\n",
       "    </tr>\n",
       "    <tr>\n",
       "      <th>4</th>\n",
       "      <td>5</td>\n",
       "      <td>11/26/18</td>\n",
       "      <td>-0.02</td>\n",
       "      <td>0.58</td>\n",
       "      <td>156.0</td>\n",
       "      <td>146.3</td>\n",
       "      <td>2.0</td>\n",
       "    </tr>\n",
       "  </tbody>\n",
       "</table>\n",
       "</div>"
      ],
      "text/plain": [
       "   Number     Fecha  AjustemV  Fondo  Voltaje  Actividad  Desviacion\n",
       "0       1  11/20/18     -0.02   0.42    156.0      144.0         0.9\n",
       "1       2  11/21/18     -0.02   0.35    156.0      145.2         0.1\n",
       "2       3  11/22/18     -0.02   2.13    156.0      144.6         0.5\n",
       "3       4  11/23/18     -0.02   1.67    156.0      143.8         1.0\n",
       "4       5  11/26/18     -0.02   0.58    156.0      146.3         2.0"
      ]
     },
     "execution_count": 60,
     "metadata": {},
     "output_type": "execute_result"
    }
   ],
   "source": [
    "import numpy as np\n",
    "import pandas as pd\n",
    "import matplotlib.pyplot as plt\n",
    "from scipy import stats\n",
    "from scipy.stats import norm\n",
    "#### Paquete de tiempo\n",
    "import datetime\n",
    "\n",
    "%matplotlib inline\n",
    "\n",
    "#Para cargar los datos\n",
    "\n",
    "################################\n",
    "######  MEDICINA NUCLEAR #######\n",
    "################################\n",
    "\n",
    "###Activimetro CRC 25 PET con fuente Cs-137\n",
    "#data = pd.read_csv('ActPET.txt', delim_whitespace =True)\n",
    "\n",
    "###Activimetro 55tR con fuente Co-57\n",
    "data = pd.read_csv('ActRF55tR.txt', delim_whitespace =True)\n",
    "\n",
    "\n",
    "data.head()"
   ]
  },
  {
   "cell_type": "code",
   "execution_count": 61,
   "metadata": {},
   "outputs": [
    {
     "data": {
      "text/html": [
       "<div>\n",
       "<table border=\"1\" class=\"dataframe\">\n",
       "  <thead>\n",
       "    <tr style=\"text-align: right;\">\n",
       "      <th></th>\n",
       "      <th>Number</th>\n",
       "      <th>AjustemV</th>\n",
       "      <th>Fondo</th>\n",
       "      <th>Voltaje</th>\n",
       "      <th>Actividad</th>\n",
       "      <th>Desviacion</th>\n",
       "    </tr>\n",
       "  </thead>\n",
       "  <tbody>\n",
       "    <tr>\n",
       "      <th>count</th>\n",
       "      <td>185.000000</td>\n",
       "      <td>185.000000</td>\n",
       "      <td>185.000000</td>\n",
       "      <td>185.000000</td>\n",
       "      <td>185.000000</td>\n",
       "      <td>185.000000</td>\n",
       "    </tr>\n",
       "    <tr>\n",
       "      <th>mean</th>\n",
       "      <td>93.000000</td>\n",
       "      <td>-0.022865</td>\n",
       "      <td>1.452757</td>\n",
       "      <td>157.920000</td>\n",
       "      <td>142.667568</td>\n",
       "      <td>1.193027</td>\n",
       "    </tr>\n",
       "    <tr>\n",
       "      <th>std</th>\n",
       "      <td>53.549043</td>\n",
       "      <td>0.009719</td>\n",
       "      <td>6.202605</td>\n",
       "      <td>26.780908</td>\n",
       "      <td>2.338623</td>\n",
       "      <td>0.635332</td>\n",
       "    </tr>\n",
       "    <tr>\n",
       "      <th>min</th>\n",
       "      <td>1.000000</td>\n",
       "      <td>-0.100000</td>\n",
       "      <td>0.190000</td>\n",
       "      <td>147.000000</td>\n",
       "      <td>138.400000</td>\n",
       "      <td>0.000000</td>\n",
       "    </tr>\n",
       "    <tr>\n",
       "      <th>25%</th>\n",
       "      <td>47.000000</td>\n",
       "      <td>-0.030000</td>\n",
       "      <td>0.380000</td>\n",
       "      <td>156.000000</td>\n",
       "      <td>141.200000</td>\n",
       "      <td>0.700000</td>\n",
       "    </tr>\n",
       "    <tr>\n",
       "      <th>50%</th>\n",
       "      <td>93.000000</td>\n",
       "      <td>-0.020000</td>\n",
       "      <td>0.530000</td>\n",
       "      <td>156.000000</td>\n",
       "      <td>142.200000</td>\n",
       "      <td>1.200000</td>\n",
       "    </tr>\n",
       "    <tr>\n",
       "      <th>75%</th>\n",
       "      <td>139.000000</td>\n",
       "      <td>-0.020000</td>\n",
       "      <td>0.720000</td>\n",
       "      <td>156.000000</td>\n",
       "      <td>143.800000</td>\n",
       "      <td>1.600000</td>\n",
       "    </tr>\n",
       "    <tr>\n",
       "      <th>max</th>\n",
       "      <td>185.000000</td>\n",
       "      <td>0.030000</td>\n",
       "      <td>60.000000</td>\n",
       "      <td>520.100000</td>\n",
       "      <td>156.000000</td>\n",
       "      <td>3.100000</td>\n",
       "    </tr>\n",
       "  </tbody>\n",
       "</table>\n",
       "</div>"
      ],
      "text/plain": [
       "           Number    AjustemV       Fondo     Voltaje   Actividad  Desviacion\n",
       "count  185.000000  185.000000  185.000000  185.000000  185.000000  185.000000\n",
       "mean    93.000000   -0.022865    1.452757  157.920000  142.667568    1.193027\n",
       "std     53.549043    0.009719    6.202605   26.780908    2.338623    0.635332\n",
       "min      1.000000   -0.100000    0.190000  147.000000  138.400000    0.000000\n",
       "25%     47.000000   -0.030000    0.380000  156.000000  141.200000    0.700000\n",
       "50%     93.000000   -0.020000    0.530000  156.000000  142.200000    1.200000\n",
       "75%    139.000000   -0.020000    0.720000  156.000000  143.800000    1.600000\n",
       "max    185.000000    0.030000   60.000000  520.100000  156.000000    3.100000"
      ]
     },
     "execution_count": 61,
     "metadata": {},
     "output_type": "execute_result"
    }
   ],
   "source": [
    "data.describe()"
   ]
  },
  {
   "cell_type": "code",
   "execution_count": 62,
   "metadata": {
    "collapsed": true
   },
   "outputs": [],
   "source": [
    "##### de mCi a Bq\n",
    "mcibq=3.7E7\n",
    "\n",
    "##### de uCi a Bq\n",
    "ucibq=3.7E4"
   ]
  },
  {
   "cell_type": "markdown",
   "metadata": {},
   "source": [
    "## Fuentes Chequeo MN"
   ]
  },
  {
   "cell_type": "code",
   "execution_count": 63,
   "metadata": {
    "collapsed": true
   },
   "outputs": [],
   "source": [
    "### Fuentes de Chequeo en Medicina Nuclear \n",
    "\n",
    "##############################\n",
    "########   Co 57  ###########\n",
    "\n",
    "#Fecha de referencia\n",
    "# primero de noviembre de 2015\n",
    "Co='01/11/2015'\n",
    "Co57= datetime.datetime.strptime(Co,'%d/%m/%Y')\n",
    "#Actividad en mCi\n",
    "AcCo= 5.774\n",
    "#Actividad en Bq [1/s]\n",
    "#AcCobq= AcCo*mcibq\n",
    "### half life [días]\n",
    "HLCo= 271.74\n",
    "### half life [s]\n",
    "HLCobq= 271.74*86400\n",
    "### Lambda\n",
    "Lambdaco= np.log(2)/HLCo\n",
    "### Lambda [1/s]\n",
    "Lambdacobq= np.log(2)/HLCobq\n",
    "\n",
    "#############################################\n",
    "######## Medicina Nuclear Cs 137  ###########\n",
    "\n",
    "#Fecha de referencia\n",
    "# primero de noviembre de 2015\n",
    "Cs='01/11/2015'\n",
    "Cs137= datetime.datetime.strptime(Cs,'%d/%m/%Y')\n",
    "#Actividad en uCi\n",
    "AcCs= 214.9\n",
    "#Actividad en Bq [1/s]\n",
    "#AcCsbq= AcCs*ucibq\n",
    "### half life  [días]\n",
    "HLCs= 30.08*365\n",
    "### half life [s]\n",
    "HLCsbq= HLCs*86400\n",
    "### Lambda\n",
    "Lambdacs= np.log(2)/HLCs\n",
    "### Lambda [1/s]\n",
    "Lambdacsbq= np.log(2)/HLCsbq\n",
    "\n",
    "\n",
    "\n",
    "#############################################\n",
    "######## Radiofarmacia Cs 137  ###########\n",
    "\n",
    "#Fecha de referencia\n",
    "# primero de Abril de 2007\n",
    "Csrf='01/04/2007'\n",
    "Cs137rf= datetime.datetime.strptime(Csrf,'%d/%m/%Y')\n",
    "#Actividad en uCi\n",
    "AcCsrf= 190.1\n",
    "#Actividad en Bq [1/s]\n",
    "#AcCsrfbq= AcCsrf*ucibq\n",
    "\n",
    "\n",
    "### Lambda\n",
    "Lambdacsrf= np.log(2)/HLCs"
   ]
  },
  {
   "cell_type": "code",
   "execution_count": 5,
   "metadata": {
    "collapsed": true
   },
   "outputs": [],
   "source": [
    "# import the visualization package: seaborn\n",
    "#import seaborn as sns"
   ]
  },
  {
   "cell_type": "code",
   "execution_count": 6,
   "metadata": {
    "collapsed": true
   },
   "outputs": [],
   "source": [
    "#sns.set_context(\"talk\",font_scale=1.4)"
   ]
  },
  {
   "cell_type": "markdown",
   "metadata": {},
   "source": [
    "# PHASE 1 "
   ]
  },
  {
   "cell_type": "code",
   "execution_count": 7,
   "metadata": {
    "collapsed": true
   },
   "outputs": [],
   "source": [
    "##data['Actividad'][0:30]"
   ]
  },
  {
   "cell_type": "markdown",
   "metadata": {},
   "source": [
    "## Medición de actividad "
   ]
  },
  {
   "cell_type": "code",
   "execution_count": 8,
   "metadata": {
    "collapsed": true
   },
   "outputs": [],
   "source": [
    "##########   Co-57\n",
    "#data['Incer']=(np.sqrt((data['Actividad']*mcibq)*Lambdacobq))/mcibq\n",
    "\n",
    "##########   Cs-137\n",
    "#data['Incer']=(np.sqrt((data['Actividad']*ucibq)*Lambdacsbq))/ucibq"
   ]
  },
  {
   "cell_type": "markdown",
   "metadata": {},
   "source": [
    "### Practical Mathematics in Nuclear Medicine Technology, Patricia Wells"
   ]
  },
  {
   "cell_type": "code",
   "execution_count": 64,
   "metadata": {
    "collapsed": true
   },
   "outputs": [],
   "source": [
    "################# Elapsed time ###############\n",
    "\n",
    "#data[\"Fecha\"][0]\n",
    "\n",
    "d = pd.to_datetime(data[\"Fecha\"],format='%m/%d/%y')\n",
    "###Cobalto 57\n",
    "#timeE=(d-Co57)\n",
    "\n",
    "### Cesio 137\n",
    "#timeE=(d-Cs137)\n",
    "timeE=(d-Cs137rf)"
   ]
  },
  {
   "cell_type": "code",
   "execution_count": 65,
   "metadata": {
    "collapsed": true
   },
   "outputs": [],
   "source": [
    "data['timeE']=timeE.dt.days.values"
   ]
  },
  {
   "cell_type": "code",
   "execution_count": 66,
   "metadata": {
    "collapsed": true
   },
   "outputs": [],
   "source": [
    "############# Expected Activity ###########\n",
    "#### Act =Act_oe^{-\\lambda t}\n",
    "\n",
    "###Cobalto 57\n",
    "#Actco=AcCo*np.exp(-Lambdaco*data[\"timeE\"])*1000\n",
    "\n",
    "###Cesio 137\n",
    "Actcs=AcCsrf*np.exp(-Lambdacsrf*data[\"timeE\"])"
   ]
  },
  {
   "cell_type": "code",
   "execution_count": 67,
   "metadata": {
    "collapsed": true
   },
   "outputs": [],
   "source": [
    "#### Cobalto 57\n",
    "#data['EAct']=round(Actco,1)\n",
    "#### Cesio 137\n",
    "data['EAct']=round(Actcs,1)"
   ]
  },
  {
   "cell_type": "code",
   "execution_count": 68,
   "metadata": {
    "collapsed": true
   },
   "outputs": [],
   "source": [
    "############# Acceptable Range of dose calibrator readings ###########\n",
    "\n",
    "### 10% ó 5%\n",
    "X=data['EAct']*(0.05)\n",
    "\n",
    "\n",
    "### Rango\n",
    "Rmin=np.round(data['EAct']-X,1)\n",
    "Rmax=np.round(data['EAct']+X,1)\n",
    "\n",
    "\n",
    "### Ingresar datos en el data \n",
    "data['Rmin']=Rmin\n",
    "data['Rmax']=Rmax"
   ]
  },
  {
   "cell_type": "code",
   "execution_count": 86,
   "metadata": {
    "collapsed": true
   },
   "outputs": [],
   "source": [
    "### Plot the data\n",
    "ax1=plt.subplot(1,1,1)\n",
    "\n",
    "ax1.errorbar(data['Number'],data['Actividad'],yerr=data['Incer'],fmt='.r',label='Experimento',capsize=6)\n",
    "ax1.plot(data['Number'],data['Rmin'],'b--')\n",
    "ax1.plot(data['Number'],data['Rmax'],'b--')\n",
    "\n",
    "\n",
    "ax1.set_title('Actividad Co-57 CRC 55tR MN',fontsize=14)\n",
    "ax1.set_xlabel('Número de Medida diaria',fontsize=14)\n",
    "ax1.set_ylabel('Actividad [$\\mu$Ci]',fontsize=14)\n",
    "ax1.tick_params(axis='both',labelsize=14)\n",
    "ax1.legend()\n",
    "ax1.set_yscale('log')\n",
    "## Set second y-axis for MBq\n",
    "#ax2 = ax1.twinx()\n",
    "#kBqs = np.linspace(data['Actividad'].min(),data['Actividad'].max()*37,6) # Actividad en MBq\n",
    "#ax2.set_yticks(kBqs/37) # Ponga los ticks\n",
    "#ax2.set_yticklabels(kBqs.astype(int)) # Ponga los Labels\n",
    "#ax2.yaxis.set_ticks_position('right') # set the position of the second x-axis to bottom\n",
    "#ax2.yaxis.set_label_position('right') # set the position of the second x-axis to bottom\n",
    "#ax2.spines['right'].set_position(('outward', 0))\n",
    "#ax2.set_ylabel('Actividad [kBq]',fontsize=14)\n",
    "#ax2.set_ylim(ax1.get_ylim())\n",
    "#ax2.tick_params(axis='y',labelsize=14)\n",
    "\n",
    "\n",
    "#plt.savefig('mncrc55tRcs.pdf')\n",
    "\n",
    "#plt.legend()\n",
    "#plt.title('TODOS')\n",
    "#plt.ylabel('Actividad [$\\mu$Ci]')\n",
    "#plt.xlabel('Measurement number')"
   ]
  },
  {
   "cell_type": "markdown",
   "metadata": {},
   "source": [
    "#### Percent error for dose calibrator accuracy and constancy, Pag 104"
   ]
  },
  {
   "cell_type": "code",
   "execution_count": 69,
   "metadata": {
    "collapsed": true
   },
   "outputs": [],
   "source": [
    "##Diferencia\n",
    "#perce=np.absolute(((data['EAct']-data['Actividad'])*100)/data['EAct'])\n",
    "perce=(-(data['EAct']-data['Actividad'])*100)/data['EAct']\n",
    "\n",
    "\n",
    "percent=round(perce,1)\n",
    "\n",
    "### Ingresar datos en el data \n",
    "data['percent']=percent\n",
    "#percent"
   ]
  },
  {
   "cell_type": "code",
   "execution_count": 70,
   "metadata": {
    "collapsed": true
   },
   "outputs": [],
   "source": [
    "#plt.plot(data['Number'],data['percent'],'bo-')\n",
    "#plt.plot((0, 439),(5,5), 'k:', linewidth=2) \n",
    "#plt.plot((0, 439),(-5,-5), 'k:', linewidth=2) "
   ]
  },
  {
   "cell_type": "markdown",
   "metadata": {},
   "source": [
    "#### Percent Outside"
   ]
  },
  {
   "cell_type": "code",
   "execution_count": 71,
   "metadata": {},
   "outputs": [
    {
     "data": {
      "text/plain": [
       "1"
      ]
     },
     "execution_count": 71,
     "metadata": {},
     "output_type": "execute_result"
    }
   ],
   "source": [
    "len(data[(np.absolute(data['percent'])>5.0)])"
   ]
  },
  {
   "cell_type": "code",
   "execution_count": 72,
   "metadata": {},
   "outputs": [
    {
     "data": {
      "text/html": [
       "<div>\n",
       "<table border=\"1\" class=\"dataframe\">\n",
       "  <thead>\n",
       "    <tr style=\"text-align: right;\">\n",
       "      <th></th>\n",
       "      <th>Number</th>\n",
       "      <th>Fecha</th>\n",
       "      <th>AjustemV</th>\n",
       "      <th>Fondo</th>\n",
       "      <th>Voltaje</th>\n",
       "      <th>Actividad</th>\n",
       "      <th>Desviacion</th>\n",
       "      <th>timeE</th>\n",
       "      <th>EAct</th>\n",
       "      <th>Rmin</th>\n",
       "      <th>Rmax</th>\n",
       "      <th>percent</th>\n",
       "    </tr>\n",
       "  </thead>\n",
       "  <tbody>\n",
       "    <tr>\n",
       "      <th>20</th>\n",
       "      <td>21</td>\n",
       "      <td>12/24/18</td>\n",
       "      <td>-0.02</td>\n",
       "      <td>0.35</td>\n",
       "      <td>147.0</td>\n",
       "      <td>156.0</td>\n",
       "      <td>2.1</td>\n",
       "      <td>4285</td>\n",
       "      <td>145.0</td>\n",
       "      <td>137.8</td>\n",
       "      <td>152.2</td>\n",
       "      <td>7.6</td>\n",
       "    </tr>\n",
       "  </tbody>\n",
       "</table>\n",
       "</div>"
      ],
      "text/plain": [
       "    Number     Fecha  AjustemV  Fondo  Voltaje  Actividad  Desviacion  timeE  \\\n",
       "20      21  12/24/18     -0.02   0.35    147.0      156.0         2.1   4285   \n",
       "\n",
       "     EAct   Rmin   Rmax  percent  \n",
       "20  145.0  137.8  152.2      7.6  "
      ]
     },
     "execution_count": 72,
     "metadata": {},
     "output_type": "execute_result"
    }
   ],
   "source": [
    "data[(np.absolute(data['percent'])>5.0)]"
   ]
  },
  {
   "cell_type": "markdown",
   "metadata": {},
   "source": [
    "### Razones de Actividades \n",
    "\\begin{equation}\n",
    "\\frac{\\text{Actividad Medida}}{\\text{Actividad Esperada}}\n",
    "\\end{equation}"
   ]
  },
  {
   "cell_type": "code",
   "execution_count": 73,
   "metadata": {
    "collapsed": true
   },
   "outputs": [],
   "source": [
    "razon=data['Actividad']/data['EAct']\n",
    "#razoninc=data['Incer']/data['EAct']\n",
    "data['razon']=round(razon,3)\n",
    "#data['razon'].head(10)"
   ]
  },
  {
   "cell_type": "markdown",
   "metadata": {},
   "source": [
    "#### Razón Outside"
   ]
  },
  {
   "cell_type": "code",
   "execution_count": 74,
   "metadata": {},
   "outputs": [
    {
     "data": {
      "text/plain": [
       "1"
      ]
     },
     "execution_count": 74,
     "metadata": {},
     "output_type": "execute_result"
    }
   ],
   "source": [
    "## Cuantos datos por fuera del rango según servicio\n",
    "len(data[(data['razon']<0.95) | (data['razon']>1.05)])"
   ]
  },
  {
   "cell_type": "code",
   "execution_count": 75,
   "metadata": {},
   "outputs": [
    {
     "data": {
      "text/plain": [
       "0     0.990\n",
       "1     0.999\n",
       "2     0.995\n",
       "3     0.990\n",
       "4     1.007\n",
       "5     0.999\n",
       "6     0.999\n",
       "7     0.999\n",
       "8     0.987\n",
       "9     0.994\n",
       "10    0.993\n",
       "11    0.995\n",
       "12    0.999\n",
       "13    1.001\n",
       "14    0.999\n",
       "15    1.000\n",
       "16    0.991\n",
       "17    0.993\n",
       "18    1.008\n",
       "19    0.985\n",
       "20    1.076\n",
       "21    0.987\n",
       "22    0.988\n",
       "23    0.992\n",
       "24    0.998\n",
       "25    0.988\n",
       "26    0.981\n",
       "27    1.014\n",
       "28    1.008\n",
       "29    0.990\n",
       "30    0.992\n",
       "Name: razon, dtype: float64"
      ]
     },
     "execution_count": 75,
     "metadata": {},
     "output_type": "execute_result"
    }
   ],
   "source": [
    "#data[(data['razon']<0.95) | (data['razon']>1.05)]\n",
    "data['razon'][0:31]"
   ]
  },
  {
   "cell_type": "markdown",
   "metadata": {},
   "source": [
    "## Amplifier offset "
   ]
  },
  {
   "cell_type": "code",
   "execution_count": 37,
   "metadata": {
    "collapsed": true
   },
   "outputs": [],
   "source": [
    "#plt.plot(data['Number'],data['AjustemV'],'ob-')"
   ]
  },
  {
   "cell_type": "code",
   "execution_count": 38,
   "metadata": {
    "collapsed": true
   },
   "outputs": [],
   "source": [
    "#data['AjustemV'].value_counts()"
   ]
  },
  {
   "cell_type": "code",
   "execution_count": 17,
   "metadata": {
    "collapsed": true
   },
   "outputs": [],
   "source": [
    "###### Diferencia entre datos\n",
    "diffajuste = data.AjustemV.diff()\n",
    "diffajuste.replace(np.nan, 0.0, inplace=True)\n",
    "data['Diffzero']=diffajuste"
   ]
  },
  {
   "cell_type": "code",
   "execution_count": 18,
   "metadata": {},
   "outputs": [
    {
     "data": {
      "text/plain": [
       "count    439.000000\n",
       "mean      -0.000023\n",
       "std        0.025180\n",
       "min       -0.250000\n",
       "25%        0.000000\n",
       "50%        0.000000\n",
       "75%        0.000000\n",
       "max        0.250000\n",
       "Name: Diffzero, dtype: float64"
      ]
     },
     "execution_count": 18,
     "metadata": {},
     "output_type": "execute_result"
    }
   ],
   "source": [
    "data['Diffzero'].describe()"
   ]
  },
  {
   "cell_type": "markdown",
   "metadata": {},
   "source": [
    "#### Offset Outside"
   ]
  },
  {
   "cell_type": "code",
   "execution_count": 19,
   "metadata": {},
   "outputs": [
    {
     "data": {
      "text/plain": [
       "0"
      ]
     },
     "execution_count": 19,
     "metadata": {},
     "output_type": "execute_result"
    }
   ],
   "source": [
    "## Cuantos datos por fuera del rango según fabricante\n",
    "len(data[(np.absolute(data['Diffzero'])>0.3)])"
   ]
  },
  {
   "cell_type": "code",
   "execution_count": 20,
   "metadata": {
    "collapsed": true
   },
   "outputs": [],
   "source": [
    "#data[(np.absolute(data['Diffzero'])>0.3)]"
   ]
  },
  {
   "cell_type": "markdown",
   "metadata": {},
   "source": [
    "### Voltaje"
   ]
  },
  {
   "cell_type": "code",
   "execution_count": 21,
   "metadata": {
    "collapsed": true
   },
   "outputs": [],
   "source": [
    "#plt.plot(data['Number'],data['Voltaje'],'b-')"
   ]
  },
  {
   "cell_type": "code",
   "execution_count": 22,
   "metadata": {
    "collapsed": true
   },
   "outputs": [],
   "source": [
    "#####  EQUIPOS 15R y  25 PET\n",
    "Z=data['Voltaje'].mean()*(0.05)\n",
    "Zmin=data['Voltaje'].mean()-Z\n",
    "Zmax=data['Voltaje'].mean()+Z"
   ]
  },
  {
   "cell_type": "markdown",
   "metadata": {},
   "source": [
    "#### Voltaje Outside"
   ]
  },
  {
   "cell_type": "code",
   "execution_count": 23,
   "metadata": {},
   "outputs": [
    {
     "data": {
      "text/plain": [
       "0"
      ]
     },
     "execution_count": 23,
     "metadata": {},
     "output_type": "execute_result"
    }
   ],
   "source": [
    "###fabricante 25 PET MN\n",
    "len(data[(data['Voltaje']<Zmin) | (data['Voltaje']>Zmax)])\n",
    "## Cuantos datos por fuera del rango según fabricante 55tR MN\n",
    "#len(data[(data['Voltaje']<147.5) | (data['Voltaje']>163.1)])"
   ]
  },
  {
   "cell_type": "code",
   "execution_count": 24,
   "metadata": {
    "collapsed": true
   },
   "outputs": [],
   "source": [
    "#data[(data['Voltaje']<Zmin) | (data['Voltaje']>Zmax)]"
   ]
  },
  {
   "cell_type": "markdown",
   "metadata": {},
   "source": [
    "### Fondo"
   ]
  },
  {
   "cell_type": "code",
   "execution_count": 25,
   "metadata": {
    "collapsed": true
   },
   "outputs": [],
   "source": [
    "#plt.plot(data['Number'],data['Fondo'],'ob-')"
   ]
  },
  {
   "cell_type": "code",
   "execution_count": 26,
   "metadata": {},
   "outputs": [
    {
     "data": {
      "text/plain": [
       "0"
      ]
     },
     "execution_count": 26,
     "metadata": {},
     "output_type": "execute_result"
    }
   ],
   "source": [
    "## Cuantos datos por fuera del protocolo INC \n",
    "len(data[(data['Fondo']<0.0) | (data['Fondo']>15.0)])"
   ]
  },
  {
   "cell_type": "code",
   "execution_count": 27,
   "metadata": {
    "collapsed": true
   },
   "outputs": [],
   "source": [
    "#data[(data['Fondo']<0.0) | (data['Fondo']>15.0)]"
   ]
  },
  {
   "cell_type": "markdown",
   "metadata": {},
   "source": [
    "# Limpieza Datos -Outliers\n",
    "### CAPINTEC"
   ]
  },
  {
   "cell_type": "code",
   "execution_count": 28,
   "metadata": {},
   "outputs": [
    {
     "data": {
      "text/plain": [
       "4"
      ]
     },
     "execution_count": 28,
     "metadata": {},
     "output_type": "execute_result"
    }
   ],
   "source": [
    "######  Medicina Nuclear\n",
    "###   CAPINTEC 25 PET MN \n",
    "len(data[(data['Fondo']<0.0) | (data['Fondo']>15.0)])+ len(data[(data['razon']<0.95) | (data['razon']>1.05)])+len(data[(np.absolute(data['Diffzero'])>0.3)])+len(data[(data['Voltaje']<Zmin) | (data['Voltaje']>Zmax)])\n",
    "###   CAPINTEC 55 tR MN\n",
    "#len(data[(data['Fondo']<0.0) | (data['Fondo']>15.0)])+ len(data[(data['razon']<0.95) | (data['razon']>1.05)])+len(data[(np.absolute(data['Diffzero'])>0.3)])+ len(data[(data['Voltaje']<147.5) | (data['Voltaje']>163.1)])"
   ]
  },
  {
   "cell_type": "code",
   "execution_count": 29,
   "metadata": {
    "collapsed": true
   },
   "outputs": [],
   "source": [
    "data.loc[np.absolute(data['percent'])>5.0]= np.nan\n",
    "data.dropna(subset=[\"percent\"], axis=0, inplace=True)"
   ]
  },
  {
   "cell_type": "code",
   "execution_count": 30,
   "metadata": {
    "collapsed": true
   },
   "outputs": [],
   "source": [
    "#Localización y conversión a Not a Number NaN\n",
    "data.loc[(data['razon']<0.95) | (data['razon']>1.05)]= np.nan\n",
    "# simply drop whole row with NaN in \"razon\" column\n",
    "data.dropna(subset=[\"razon\"], axis=0, inplace=True)"
   ]
  },
  {
   "cell_type": "code",
   "execution_count": 31,
   "metadata": {
    "collapsed": true
   },
   "outputs": [],
   "source": [
    "#Localización y conversión a Not a Number NaN\n",
    "data.loc[np.absolute(data['Diffzero'])>0.3]= np.nan\n",
    "# simply drop whole row with NaN in \"Fondo\" column\n",
    "data.dropna(subset=[\"Diffzero\"], axis=0, inplace=True)"
   ]
  },
  {
   "cell_type": "code",
   "execution_count": 32,
   "metadata": {
    "collapsed": true
   },
   "outputs": [],
   "source": [
    "#Localización y conversión a Not a Number NaN\n",
    "data.loc[(data['Fondo']<0.0) | (data['Fondo']>15.0)]= np.nan\n",
    "# simply drop whole row with NaN in \"Fondo\" column\n",
    "data.dropna(subset=[\"Fondo\"], axis=0, inplace=True)"
   ]
  },
  {
   "cell_type": "markdown",
   "metadata": {},
   "source": [
    "### Voltaje"
   ]
  },
  {
   "cell_type": "code",
   "execution_count": 33,
   "metadata": {
    "collapsed": true
   },
   "outputs": [],
   "source": [
    "##########################   Voltaje  ######################################\n",
    "#Localización y conversión a Not a Number NaN\n",
    "####### CAPINTEC 25 PET MN\n",
    "data.loc[(data['Voltaje']<Zmin) | (data['Voltaje']>Zmax)]= np.nan\n",
    "####### CAPINTEC 55 tR MN\n",
    "#data.loc[(data['Voltaje']<147.5) | (data['Voltaje']>163.1)]= np.nan"
   ]
  },
  {
   "cell_type": "code",
   "execution_count": 34,
   "metadata": {
    "collapsed": true
   },
   "outputs": [],
   "source": [
    "# simply drop whole row with NaN in \"Voltaje\" column\n",
    "data.dropna(subset=[\"Voltaje\"], axis=0, inplace=True)"
   ]
  },
  {
   "cell_type": "code",
   "execution_count": 35,
   "metadata": {
    "collapsed": true
   },
   "outputs": [],
   "source": [
    "#reset index, because we droped rows\n",
    "data.reset_index(drop=True, inplace=True)"
   ]
  },
  {
   "cell_type": "code",
   "execution_count": 36,
   "metadata": {},
   "outputs": [
    {
     "data": {
      "text/plain": [
       "0"
      ]
     },
     "execution_count": 36,
     "metadata": {},
     "output_type": "execute_result"
    }
   ],
   "source": [
    "###   CAPINTEC 25 PET MN \n",
    "len(data[(data['Fondo']<0.0) | (data['Fondo']>15.0)])+ len(data[(data['razon']<0.95) | (data['razon']>1.05)])+len(data[(np.absolute(data['Diffzero'])>0.3)])+len(data[(data['Voltaje']<Zmin) | (data['Voltaje']>Zmax)])\n",
    "###   CAPINTEC 55 tR MN\n",
    "#len(data[(data['Fondo']<0.0) | (data['Fondo']>15.0)])+ len(data[(data['razon']<0.95) | (data['razon']>1.05)])+len(data[(np.absolute(data['Diffzero'])>0.3)])+ len(data[(data['Voltaje']<147.5) | (data['Voltaje']>163.1)])"
   ]
  },
  {
   "cell_type": "markdown",
   "metadata": {},
   "source": [
    "### Datos para Phase I"
   ]
  },
  {
   "cell_type": "code",
   "execution_count": 37,
   "metadata": {},
   "outputs": [
    {
     "data": {
      "text/html": [
       "<div>\n",
       "<table border=\"1\" class=\"dataframe\">\n",
       "  <thead>\n",
       "    <tr style=\"text-align: right;\">\n",
       "      <th></th>\n",
       "      <th>AjustemV</th>\n",
       "      <th>Diffzero</th>\n",
       "      <th>Fondo</th>\n",
       "      <th>Voltaje</th>\n",
       "      <th>percent</th>\n",
       "      <th>razon</th>\n",
       "    </tr>\n",
       "  </thead>\n",
       "  <tbody>\n",
       "    <tr>\n",
       "      <th>count</th>\n",
       "      <td>435.000000</td>\n",
       "      <td>435.000000</td>\n",
       "      <td>435.000000</td>\n",
       "      <td>435.000000</td>\n",
       "      <td>435.000000</td>\n",
       "      <td>435.000000</td>\n",
       "    </tr>\n",
       "    <tr>\n",
       "      <th>mean</th>\n",
       "      <td>0.018368</td>\n",
       "      <td>-0.000023</td>\n",
       "      <td>2.370575</td>\n",
       "      <td>155.296552</td>\n",
       "      <td>-1.306437</td>\n",
       "      <td>0.986936</td>\n",
       "    </tr>\n",
       "    <tr>\n",
       "      <th>std</th>\n",
       "      <td>0.029141</td>\n",
       "      <td>0.025295</td>\n",
       "      <td>3.200129</td>\n",
       "      <td>0.032015</td>\n",
       "      <td>1.041669</td>\n",
       "      <td>0.010417</td>\n",
       "    </tr>\n",
       "    <tr>\n",
       "      <th>min</th>\n",
       "      <td>0.010000</td>\n",
       "      <td>-0.250000</td>\n",
       "      <td>0.250000</td>\n",
       "      <td>155.000000</td>\n",
       "      <td>-3.600000</td>\n",
       "      <td>0.964000</td>\n",
       "    </tr>\n",
       "    <tr>\n",
       "      <th>25%</th>\n",
       "      <td>0.010000</td>\n",
       "      <td>0.000000</td>\n",
       "      <td>0.330000</td>\n",
       "      <td>155.300000</td>\n",
       "      <td>-2.200000</td>\n",
       "      <td>0.978000</td>\n",
       "    </tr>\n",
       "    <tr>\n",
       "      <th>50%</th>\n",
       "      <td>0.010000</td>\n",
       "      <td>0.000000</td>\n",
       "      <td>0.460000</td>\n",
       "      <td>155.300000</td>\n",
       "      <td>-1.800000</td>\n",
       "      <td>0.982000</td>\n",
       "    </tr>\n",
       "    <tr>\n",
       "      <th>75%</th>\n",
       "      <td>0.020000</td>\n",
       "      <td>0.000000</td>\n",
       "      <td>2.760000</td>\n",
       "      <td>155.300000</td>\n",
       "      <td>-0.100000</td>\n",
       "      <td>0.999000</td>\n",
       "    </tr>\n",
       "    <tr>\n",
       "      <th>max</th>\n",
       "      <td>0.260000</td>\n",
       "      <td>0.250000</td>\n",
       "      <td>11.860000</td>\n",
       "      <td>155.300000</td>\n",
       "      <td>1.000000</td>\n",
       "      <td>1.010000</td>\n",
       "    </tr>\n",
       "  </tbody>\n",
       "</table>\n",
       "</div>"
      ],
      "text/plain": [
       "         AjustemV    Diffzero       Fondo     Voltaje     percent       razon\n",
       "count  435.000000  435.000000  435.000000  435.000000  435.000000  435.000000\n",
       "mean     0.018368   -0.000023    2.370575  155.296552   -1.306437    0.986936\n",
       "std      0.029141    0.025295    3.200129    0.032015    1.041669    0.010417\n",
       "min      0.010000   -0.250000    0.250000  155.000000   -3.600000    0.964000\n",
       "25%      0.010000    0.000000    0.330000  155.300000   -2.200000    0.978000\n",
       "50%      0.010000    0.000000    0.460000  155.300000   -1.800000    0.982000\n",
       "75%      0.020000    0.000000    2.760000  155.300000   -0.100000    0.999000\n",
       "max      0.260000    0.250000   11.860000  155.300000    1.000000    1.010000"
      ]
     },
     "execution_count": 37,
     "metadata": {},
     "output_type": "execute_result"
    }
   ],
   "source": [
    "data[['AjustemV','Diffzero','Fondo','Voltaje','percent','razon']].describe()"
   ]
  },
  {
   "cell_type": "code",
   "execution_count": 38,
   "metadata": {
    "collapsed": true
   },
   "outputs": [],
   "source": [
    "#plt.plot(data['AjustemV'])\n",
    "#plt.plot(data['Diffzero'])\n",
    "#plt.plot(data['Fondo'])\n",
    "#plt.plot(data['Voltaje'])\n",
    "#plt.plot(data['percent'])\n",
    "#plt.plot(data['razon'])"
   ]
  },
  {
   "cell_type": "code",
   "execution_count": 39,
   "metadata": {
    "collapsed": true
   },
   "outputs": [],
   "source": [
    "#plt.hist(data['AjustemV'])\n",
    "#plt.hist(data['Diffzero'])\n",
    "#plt.hist(data['Fondo'])\n",
    "#plt.hist(data['Voltaje'])\n",
    "#plt.hist(data['percent'])\n",
    "#plt.hist(data['razon'])"
   ]
  },
  {
   "cell_type": "code",
   "execution_count": 40,
   "metadata": {
    "collapsed": true
   },
   "outputs": [],
   "source": [
    "from scipy.stats import skew, kurtosis"
   ]
  },
  {
   "cell_type": "code",
   "execution_count": 41,
   "metadata": {
    "collapsed": true
   },
   "outputs": [],
   "source": [
    "#### Kurtosis\n",
    "#3+kurtosis(data['AjustemV'])"
   ]
  },
  {
   "cell_type": "code",
   "execution_count": 42,
   "metadata": {
    "collapsed": true
   },
   "outputs": [],
   "source": [
    "### Skew\n",
    "#skew(data['AjustemV'])"
   ]
  },
  {
   "cell_type": "code",
   "execution_count": 43,
   "metadata": {
    "collapsed": true
   },
   "outputs": [],
   "source": [
    "xb=np.sort(data['Fondo'])"
   ]
  },
  {
   "cell_type": "markdown",
   "metadata": {},
   "source": [
    "# Calculate quantiles and least-square-fit curve\n",
    "(quantiles, values), (slope, intercept, r) = stats.probplot(xb, dist='norm')\n",
    "\n",
    "#plot results\n",
    "plt.plot(values, quantiles,'+b')\n",
    "plt.plot(quantiles * slope + intercept, quantiles, 'r')\n",
    "\n",
    "#plt.xlim([1.01,1.06])\n",
    "#define ticks\n",
    "ticks_perc=[0.01, 0.05, 0.10, 0.20, 0.50, 0.80, 0.90, 0.95, 0.99]\n",
    "\n",
    "#transfrom them from precentile to cumulative density\n",
    "ticks_quan=[stats.norm.ppf(i) for i in ticks_perc]\n",
    "#assign new ticks\n",
    "plt.yticks(ticks_quan,ticks_perc)"
   ]
  },
  {
   "cell_type": "code",
   "execution_count": 44,
   "metadata": {},
   "outputs": [
    {
     "data": {
      "text/plain": [
       "Text(0.5,1,'Gráfico de probabilidad normal')"
      ]
     },
     "execution_count": 44,
     "metadata": {},
     "output_type": "execute_result"
    },
    {
     "data": {
      "image/png": "[encoded data removed]",
      "text/plain": [
       "<Figure size 432x288 with 1 Axes>"
      ]
     },
     "metadata": {},
     "output_type": "display_data"
    }
   ],
   "source": [
    "# Calculate quantiles and least-square-fit curve\n",
    "(quantiles, values), (slope, intercept, r) = stats.probplot(xb, dist='norm')\n",
    "\n",
    "#plot results\n",
    "plt.plot(values, quantiles,'+b')\n",
    "plt.plot(quantiles * slope + intercept, quantiles, 'r')\n",
    "\n",
    "#define ticks\n",
    "ticks_perc=[0.01, 0.05, 0.10, 0.20, 0.50, 0.80, 0.90, 0.95, 0.99]\n",
    "\n",
    "#transfrom them from precentile to cumulative density\n",
    "ticks_quan=[stats.norm.ppf(i) for i in ticks_perc]\n",
    "#assign new ticks\n",
    "plt.yticks(ticks_quan,ticks_perc)\n",
    "plt.xlabel('Fondo [$\\mu Ci$]')\n",
    "plt.ylabel('Probabilidad')\n",
    "plt.title('Gráfico de probabilidad normal')"
   ]
  },
  {
   "cell_type": "markdown",
   "metadata": {
    "collapsed": true
   },
   "source": [
    "## Capintec 25 PET MN: \n",
    "#### AjustemV: \n",
    "\n",
    "\\begin{equation}\n",
    "\\text{Kurtosis}=10.60\\;\\;\\; \\text{Skewness}=-1.42\n",
    "\\end{equation}\n",
    "    \n",
    "#### Diffzero: \n",
    "\n",
    "\\begin{equation}\n",
    "\\text{Kurtosis}=8.52\\;\\;\\; \\text{Skewness}=0.31\n",
    "\\end{equation}    \n",
    "\n",
    "#### Fondo: \n",
    "\n",
    "\\begin{equation}\n",
    "\\text{Kurtosis}=3.69\\;\\;\\; \\text{Skewness}=0.25\n",
    "\\end{equation} \n",
    "\n",
    "#### Voltaje: \n",
    "\n",
    "\\begin{equation}\n",
    "\\text{Kurtosis}=13.52\\;\\;\\; \\text{Skewness}=2.32\n",
    "\\end{equation} \n",
    "\n",
    "#### percent: \n",
    "\n",
    "\\begin{equation}\n",
    "\\text{Kurtosis}=10.06\\;\\;\\; \\text{Skewness}=-1.92\n",
    "\\end{equation} \n",
    "\n",
    "#### razon: \n",
    "\n",
    "\\begin{equation}\n",
    "\\text{Kurtosis}=10.06\\;\\;\\; \\text{Skewness}=-1.92\n",
    "\\end{equation} "
   ]
  },
  {
   "cell_type": "markdown",
   "metadata": {},
   "source": [
    "## Capintec 55 tR MN: \n",
    "#### AjustemV: \n",
    "\n",
    "\\begin{equation}\n",
    "\\text{Kurtosis}=39.376551\\;\\;\\; \\text{Skewness}=5.972\n",
    "\\end{equation}\n",
    "    \n",
    "#### Diffzero: \n",
    "\n",
    "\\begin{equation}\n",
    "\\text{Kurtosis}=69.9264829\\;\\;\\; \\text{Skewness}=0.14881\n",
    "\\end{equation}    \n",
    "\n",
    "#### Fondo: \n",
    "\n",
    "\\begin{equation}\n",
    "\\text{Kurtosis}=3.687477\\;\\;\\; \\text{Skewness}=1.4787154\n",
    "\\end{equation} \n",
    "\n",
    "#### Voltaje: \n",
    "\n",
    "\\begin{equation}\n",
    "\\text{Kurtosis}=85.0116\\;\\;\\; \\text{Skewness}=-9.1657857\n",
    "\\end{equation} \n",
    "\n",
    "#### percent: \n",
    "\n",
    "\\begin{equation}\n",
    "\\text{Kurtosis}=1.6218\\;\\;\\; \\text{Skewness}=0.3445\n",
    "\\end{equation} \n",
    "\n",
    "#### razon: \n",
    "\n",
    "\\begin{equation}\n",
    "\\text{Kurtosis}=1.6218\\;\\;\\; \\text{Skewness}=0.3445\n",
    "\\end{equation} "
   ]
  },
  {
   "cell_type": "markdown",
   "metadata": {},
   "source": [
    "Asumir normalidad según kurtosis y skewness solo posible para los datos de Fondo\n",
    "\n",
    "## Rejection data"
   ]
  },
  {
   "cell_type": "code",
   "execution_count": 45,
   "metadata": {
    "collapsed": true
   },
   "outputs": [],
   "source": [
    "to=(np.absolute(data['AjustemV']-data['AjustemV'].mean()))/data['AjustemV'].std()"
   ]
  },
  {
   "cell_type": "code",
   "execution_count": 46,
   "metadata": {
    "collapsed": true
   },
   "outputs": [],
   "source": [
    "prob=np.round(1-(norm.cdf(to)-norm.cdf(-to)),2)\n",
    "data['prob']= prob"
   ]
  },
  {
   "cell_type": "code",
   "execution_count": 47,
   "metadata": {
    "collapsed": true
   },
   "outputs": [],
   "source": [
    "no= data['AjustemV'].count()*prob\n",
    "#no"
   ]
  },
  {
   "cell_type": "code",
   "execution_count": 48,
   "metadata": {},
   "outputs": [
    {
     "data": {
      "text/plain": [
       "13"
      ]
     },
     "execution_count": 48,
     "metadata": {},
     "output_type": "execute_result"
    }
   ],
   "source": [
    "#len(no[no<0.5])\n",
    "len(no[no<4.5])"
   ]
  },
  {
   "cell_type": "code",
   "execution_count": 49,
   "metadata": {
    "collapsed": true
   },
   "outputs": [],
   "source": [
    "data['no']= no"
   ]
  },
  {
   "cell_type": "code",
   "execution_count": 50,
   "metadata": {
    "collapsed": true
   },
   "outputs": [],
   "source": [
    "data.loc[np.absolute(data['no'])<4.5]= np.nan\n",
    "data.dropna(subset=[\"no\"], axis=0, inplace=True)\n",
    "#reset index, because we droped rows\n",
    "data.reset_index(drop=True, inplace=True)"
   ]
  },
  {
   "cell_type": "code",
   "execution_count": 51,
   "metadata": {},
   "outputs": [
    {
     "data": {
      "text/plain": [
       "count    422.000000\n",
       "mean       0.013578\n",
       "std        0.004849\n",
       "min        0.010000\n",
       "25%        0.010000\n",
       "50%        0.010000\n",
       "75%        0.020000\n",
       "max        0.030000\n",
       "Name: AjustemV, dtype: float64"
      ]
     },
     "execution_count": 51,
     "metadata": {},
     "output_type": "execute_result"
    }
   ],
   "source": [
    "data['AjustemV'].describe()"
   ]
  },
  {
   "cell_type": "code",
   "execution_count": 52,
   "metadata": {
    "collapsed": true
   },
   "outputs": [],
   "source": [
    "#plt.hist(data['percent'])"
   ]
  },
  {
   "cell_type": "code",
   "execution_count": 53,
   "metadata": {
    "collapsed": true
   },
   "outputs": [],
   "source": [
    "#sigma3p=data['percent'].mean()+(3*data['percent'].std())\n",
    "#sigma3n=data['percent'].mean()-(3*data['percent'].std())"
   ]
  },
  {
   "cell_type": "code",
   "execution_count": 54,
   "metadata": {
    "collapsed": true
   },
   "outputs": [],
   "source": [
    "#grandmean=data['percent'].mean()grandmean"
   ]
  },
  {
   "cell_type": "code",
   "execution_count": 55,
   "metadata": {
    "collapsed": true
   },
   "outputs": [],
   "source": [
    "#plt.plot(data['Number'],data['percent'],'ob-')\n",
    "#plt.plot((0,350),(sigma3p,sigma3p))\n",
    "#plt.plot((0,350),(sigma3n,sigma3n))\n",
    "#plt.plot((0,350),(grandmean,grandmean))"
   ]
  },
  {
   "cell_type": "code",
   "execution_count": 267,
   "metadata": {
    "collapsed": true
   },
   "outputs": [],
   "source": [
    "### Agrupar datos \n",
    "#y= data['AjustemV'].values.reshape(87,4)"
   ]
  },
  {
   "cell_type": "code",
   "execution_count": 268,
   "metadata": {
    "collapsed": true
   },
   "outputs": [],
   "source": [
    "#subgroup= pd.DataFrame(data=y)"
   ]
  },
  {
   "cell_type": "code",
   "execution_count": 269,
   "metadata": {
    "collapsed": true
   },
   "outputs": [],
   "source": [
    "# create headers list\n",
    "#headers = [\"n1\",\"n2\",\"n3\",\"n4\"]\n",
    "#,\"n5\",\"n6\"]\n",
    "#subgroup.columns = headers"
   ]
  },
  {
   "cell_type": "code",
   "execution_count": 270,
   "metadata": {
    "collapsed": true
   },
   "outputs": [],
   "source": [
    "#mean=subgroup[[\"n1\",\"n2\",\"n3\",\"n4\"]].std(axis=1)\n",
    "#subgroup['std']= mean"
   ]
  },
  {
   "cell_type": "code",
   "execution_count": 271,
   "metadata": {
    "collapsed": true
   },
   "outputs": [],
   "source": [
    "#subgroup['std'].mean()"
   ]
  },
  {
   "cell_type": "markdown",
   "metadata": {},
   "source": [
    "# Grand\n",
    "\n",
    "## Capintec 25 PET MN: \n",
    "#### AjustemV: \n",
    "\n",
    "\\begin{equation}\n",
    "\\text{Grandmean}=-0.19482658959537574\\;\\;\\; \\text{Grandstd}=0.026\n",
    "\\end{equation}\n",
    "    \n",
    "#### Diffzero: \n",
    "\n",
    "\\begin{equation}\n",
    "\\text{Grandmean}=-0.001079\\;\\;\\; \\text{Grandstd}= 0.028791\n",
    "\\end{equation}   \n",
    "\n",
    "#### Fondo: \n",
    "\n",
    "\\begin{equation}\n",
    "\\text{Grandmean}=5.276723\\;\\;\\; \\text{Grandstd}=1.24\n",
    "\\end{equation}\n",
    "\n",
    "#### Voltaje: \n",
    "\n",
    "\\begin{equation}\n",
    "\\text{Grandmean}=513.576744\\;\\;\\; \\text{Grandstd}=0.703871\n",
    "\\end{equation}\n",
    "\n",
    "#### percent: \n",
    "\n",
    "\\begin{equation}\n",
    "\\text{Grandmean}=3.094253\\;\\;\\; \\text{Grandstd}=0.564738\n",
    "\\end{equation}\n",
    "\n",
    "#### razon: \n",
    "\n",
    "\\begin{equation}\n",
    "\\text{Grandmean}= 1.030943\\;\\;\\; \\text{Grandstd}=0.005647\n",
    "\\end{equation}"
   ]
  },
  {
   "cell_type": "code",
   "execution_count": 382,
   "metadata": {
    "collapsed": true
   },
   "outputs": [],
   "source": [
    "z=np.array(data['AjustemV'])"
   ]
  },
  {
   "cell_type": "code",
   "execution_count": 383,
   "metadata": {
    "collapsed": true
   },
   "outputs": [],
   "source": [
    "np.savetxt('automatlab.txt',z,delimiter=\" \",fmt='%s')"
   ]
  },
  {
   "cell_type": "code",
   "execution_count": null,
   "metadata": {
    "collapsed": true
   },
   "outputs": [],
   "source": []
  }
 ],
 "metadata": {
  "kernelspec": {
   "display_name": "Python 3",
   "language": "python",
   "name": "python3"
  },
  "language_info": {
   "codemirror_mode": {
    "name": "ipython",
    "version": 3
   },
   "file_extension": ".py",
   "mimetype": "text/x-python",
   "name": "python",
   "nbconvert_exporter": "python",
   "pygments_lexer": "ipython3",
   "version": "3.5.5"
  }
 },
 "nbformat": 4,
 "nbformat_minor": 2
}
