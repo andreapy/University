{
 "cells": [
  {
   "cell_type": "markdown",
   "metadata": {
    "collapsed": true
   },
   "source": [
    "Andrea Lizeth Lopez-Rodriguez"
   ]
  },
  {
   "cell_type": "markdown",
   "metadata": {},
   "source": [
    "# Daily QC  Radionuclide Calibrator (Dose Calibrator) in NM"
   ]
  },
  {
   "cell_type": "markdown",
   "metadata": {},
   "source": [
    "Data: January 2018 to November 2019. Inicialmente se importan los paquetes de Python que serán empleados en el análisis de los datos"
   ]
  },
  {
   "cell_type": "code",
   "execution_count": 1,
   "metadata": {},
   "outputs": [
    {
     "data": {
      "text/html": [
       "<div>\n",
       "<table border=\"1\" class=\"dataframe\">\n",
       "  <thead>\n",
       "    <tr style=\"text-align: right;\">\n",
       "      <th></th>\n",
       "      <th>Number</th>\n",
       "      <th>Fecha</th>\n",
       "      <th>AjustemV</th>\n",
       "      <th>Fondo</th>\n",
       "      <th>Voltaje</th>\n",
       "      <th>Actividad</th>\n",
       "      <th>Desviacion</th>\n",
       "    </tr>\n",
       "  </thead>\n",
       "  <tbody>\n",
       "    <tr>\n",
       "      <th>0</th>\n",
       "      <td>1</td>\n",
       "      <td>01/02/18</td>\n",
       "      <td>0.02</td>\n",
       "      <td>0.34</td>\n",
       "      <td>155.3</td>\n",
       "      <td>748.0</td>\n",
       "      <td>-2.1</td>\n",
       "    </tr>\n",
       "    <tr>\n",
       "      <th>1</th>\n",
       "      <td>2</td>\n",
       "      <td>01/03/18</td>\n",
       "      <td>0.02</td>\n",
       "      <td>0.30</td>\n",
       "      <td>155.3</td>\n",
       "      <td>747.0</td>\n",
       "      <td>-2.0</td>\n",
       "    </tr>\n",
       "    <tr>\n",
       "      <th>2</th>\n",
       "      <td>3</td>\n",
       "      <td>01/04/18</td>\n",
       "      <td>0.02</td>\n",
       "      <td>0.30</td>\n",
       "      <td>155.3</td>\n",
       "      <td>747.0</td>\n",
       "      <td>-1.7</td>\n",
       "    </tr>\n",
       "    <tr>\n",
       "      <th>3</th>\n",
       "      <td>4</td>\n",
       "      <td>01/05/18</td>\n",
       "      <td>0.02</td>\n",
       "      <td>0.36</td>\n",
       "      <td>155.3</td>\n",
       "      <td>746.0</td>\n",
       "      <td>-1.6</td>\n",
       "    </tr>\n",
       "    <tr>\n",
       "      <th>4</th>\n",
       "      <td>5</td>\n",
       "      <td>01/09/18</td>\n",
       "      <td>0.02</td>\n",
       "      <td>0.36</td>\n",
       "      <td>155.3</td>\n",
       "      <td>747.0</td>\n",
       "      <td>-1.7</td>\n",
       "    </tr>\n",
       "  </tbody>\n",
       "</table>\n",
       "</div>"
      ],
      "text/plain": [
       "   Number     Fecha  AjustemV  Fondo  Voltaje  Actividad  Desviacion\n",
       "0       1  01/02/18      0.02   0.34    155.3      748.0        -2.1\n",
       "1       2  01/03/18      0.02   0.30    155.3      747.0        -2.0\n",
       "2       3  01/04/18      0.02   0.30    155.3      747.0        -1.7\n",
       "3       4  01/05/18      0.02   0.36    155.3      746.0        -1.6\n",
       "4       5  01/09/18      0.02   0.36    155.3      747.0        -1.7"
      ]
     },
     "execution_count": 1,
     "metadata": {},
     "output_type": "execute_result"
    }
   ],
   "source": [
    "import numpy as np\n",
    "import pandas as pd\n",
    "import matplotlib.pyplot as plt\n",
    "\n",
    "#### Paquete de tiempo\n",
    "import datetime\n",
    "\n",
    "%matplotlib inline\n",
    "\n",
    "#Para cargar los datos\n",
    "\n",
    "###Activimetro CRC 25 PET con fuente Cs-137\n",
    "#data = pd.read_csv('ActPET.txt', delim_whitespace =True)\n",
    "\n",
    "###Activimetro 55tR con fuente Co-57\n",
    "data = pd.read_csv('ActSPECT.txt', delim_whitespace =True)\n",
    "\n",
    "#para ver los primeros datos\n",
    "data.head()"
   ]
  },
  {
   "cell_type": "code",
   "execution_count": 2,
   "metadata": {},
   "outputs": [
    {
     "data": {
      "text/plain": [
       "count    439.000000\n",
       "mean     352.553531\n",
       "std      177.048141\n",
       "min      128.000000\n",
       "25%      200.600000\n",
       "50%      306.000000\n",
       "75%      472.000000\n",
       "max      748.000000\n",
       "Name: Actividad, dtype: float64"
      ]
     },
     "execution_count": 2,
     "metadata": {},
     "output_type": "execute_result"
    }
   ],
   "source": [
    "#data.describe(include=\"all\")\n",
    "data['Actividad'].describe()"
   ]
  },
  {
   "cell_type": "markdown",
   "metadata": {},
   "source": [
    "## Fuentes Chequeo MN"
   ]
  },
  {
   "cell_type": "code",
   "execution_count": 3,
   "metadata": {
    "collapsed": true
   },
   "outputs": [],
   "source": [
    "### Fuentes de Chequeo en Medicina Nuclear \n",
    "\n",
    "##############################\n",
    "########   Co 57  ###########\n",
    "\n",
    "#Fecha de referencia\n",
    "# primero de noviembre de 2015\n",
    "Co='01/11/2015'\n",
    "Co57= datetime.datetime.strptime(Co,'%d/%m/%Y')\n",
    "#Actividad en mCi\n",
    "AcCo= 5.774\n",
    "### half life [días]\n",
    "HLCo= 271.74\n",
    "### Lambda\n",
    "Lambdaco= np.log(2)/HLCo\n",
    "\n",
    "\n",
    "##############################\n",
    "########   Cs 137  ###########\n",
    "\n",
    "#Fecha de referencia\n",
    "# primero de noviembre de 2015\n",
    "Cs='01/11/2015'\n",
    "Cs137= datetime.datetime.strptime(Cs,'%d/%m/%Y')\n",
    "#Actividad en uCi\n",
    "AcCs= 214.9\n",
    "### half life  [días]\n",
    "HLCs= 30.08*365\n",
    "### Lambda\n",
    "Lambdacs= np.log(2)/HLCs"
   ]
  },
  {
   "cell_type": "code",
   "execution_count": null,
   "metadata": {
    "collapsed": true
   },
   "outputs": [],
   "source": []
  },
  {
   "cell_type": "markdown",
   "metadata": {},
   "source": [
    "## Amplifier offset "
   ]
  },
  {
   "cell_type": "code",
   "execution_count": 4,
   "metadata": {},
   "outputs": [
    {
     "data": {
      "text/plain": [
       "[<matplotlib.lines.Line2D at 0x1189192b0>]"
      ]
     },
     "execution_count": 4,
     "metadata": {},
     "output_type": "execute_result"
    },
    {
     "data": {
      "image/png": "[encoded data removed]",
      "text/plain": [
       "<Figure size 432x288 with 1 Axes>"
      ]
     },
     "metadata": {},
     "output_type": "display_data"
    }
   ],
   "source": [
    "Medida=data['Number']\n",
    "Ajuste=data['AjustemV']\n",
    "plt.ylabel('Amplifier offset [mV]')\n",
    "plt.xlabel('Measurement number')\n",
    "#plt.grid(False)\n",
    "plt.title('Amplifier offset')\n",
    "plt.plot(Medida,Ajuste,'ob-')\n",
    "#plt.savefig('SPECTajuste.pdf')"
   ]
  },
  {
   "cell_type": "markdown",
   "metadata": {},
   "source": [
    "## Background"
   ]
  },
  {
   "cell_type": "code",
   "execution_count": 5,
   "metadata": {},
   "outputs": [
    {
     "data": {
      "text/plain": [
       "[<matplotlib.lines.Line2D at 0x11c533828>]"
      ]
     },
     "execution_count": 5,
     "metadata": {},
     "output_type": "execute_result"
    },
    {
     "data": {
      "image/png": "[encoded data removed]",
      "text/plain": [
       "<Figure size 432x288 with 1 Axes>"
      ]
     },
     "metadata": {},
     "output_type": "display_data"
    }
   ],
   "source": [
    "Medida=data['Number']\n",
    "background=data['Fondo']\n",
    "plt.ylabel('Background [$\\mu$Ci]')\n",
    "plt.xlabel('Measurement number')\n",
    "plt.title('Background activity')\n",
    "plt.plot(Medida,background,'ob-')\n",
    "#plt.savefig('SPECTfondo.pdf')"
   ]
  },
  {
   "cell_type": "markdown",
   "metadata": {},
   "source": [
    "## Check Source Accuracy,  % desviación"
   ]
  },
  {
   "cell_type": "code",
   "execution_count": 6,
   "metadata": {},
   "outputs": [
    {
     "data": {
      "text/plain": [
       "[<matplotlib.lines.Line2D at 0x11c8403c8>]"
      ]
     },
     "execution_count": 6,
     "metadata": {},
     "output_type": "execute_result"
    },
    {
     "data": {
      "image/png": "[encoded data removed]",
      "text/plain": [
       "<Figure size 432x288 with 1 Axes>"
      ]
     },
     "metadata": {},
     "output_type": "display_data"
    }
   ],
   "source": [
    "Medida=data['Number']\n",
    "Error=data['Desviacion']\n",
    "plt.ylabel('% Error')\n",
    "plt.xlabel('Measurement number')\n",
    "plt.title('Co-57 check source accuracy')\n",
    "plt.plot(Medida,Error,'bo-')\n",
    "plt.plot((0, 368),(5,5), 'k:', linewidth=2) \n",
    "plt.plot((0, 368),(-5,-5), 'k:', linewidth=2) \n",
    "#plt.savefig('SPECTaccuracy.pdf')"
   ]
  },
  {
   "cell_type": "markdown",
   "metadata": {},
   "source": [
    "## HV Reading "
   ]
  },
  {
   "cell_type": "code",
   "execution_count": 7,
   "metadata": {},
   "outputs": [
    {
     "data": {
      "text/plain": [
       "[<matplotlib.lines.Line2D at 0x1188fd780>]"
      ]
     },
     "execution_count": 7,
     "metadata": {},
     "output_type": "execute_result"
    },
    {
     "data": {
      "image/png": "[encoded data removed]",
      "text/plain": [
       "<Figure size 432x288 with 1 Axes>"
      ]
     },
     "metadata": {},
     "output_type": "display_data"
    }
   ],
   "source": [
    "Medida=data['Number']\n",
    "HV=data['Voltaje']\n",
    "plt.ylabel('HV [V]')\n",
    "plt.xlabel('Measurement number')\n",
    "plt.title('HV Reading')\n",
    "plt.plot(Medida,HV,'b-')\n",
    "#plt.savefig('SPECTHV.pdf')"
   ]
  },
  {
   "cell_type": "markdown",
   "metadata": {},
   "source": [
    "## Activimetro Inyección"
   ]
  },
  {
   "cell_type": "markdown",
   "metadata": {},
   "source": [
    "### Practical Mathematics in Nuclear Medicine Technology, Patricia Wells"
   ]
  },
  {
   "cell_type": "markdown",
   "metadata": {},
   "source": [
    "#### How to calculate the acceptable range of dose calibrator readings for a given source, Pag 102 "
   ]
  },
  {
   "cell_type": "code",
   "execution_count": 8,
   "metadata": {
    "collapsed": true
   },
   "outputs": [],
   "source": [
    "################# Elapsed time ###############\n",
    "\n",
    "#data[\"Fecha\"][0]\n",
    "\n",
    "d = pd.to_datetime(data[\"Fecha\"],format='%m/%d/%y')\n",
    "###Cobalto 57\n",
    "timeE=(d-Co57)\n",
    "\n",
    "#test='01/02/18'\n",
    "#date=datetime.datetime.strptime(test,'%m/%d/%y')\n",
    "#c=(date-dateCo57).days\n"
   ]
  },
  {
   "cell_type": "code",
   "execution_count": 9,
   "metadata": {
    "collapsed": true
   },
   "outputs": [],
   "source": [
    "data['timeE']=timeE.dt.days.values"
   ]
  },
  {
   "cell_type": "code",
   "execution_count": 10,
   "metadata": {
    "collapsed": true
   },
   "outputs": [],
   "source": [
    "#data"
   ]
  },
  {
   "cell_type": "code",
   "execution_count": 11,
   "metadata": {
    "collapsed": true
   },
   "outputs": [],
   "source": [
    "############# Expected Activity ###########\n",
    "#### Act =Act_oe^{-\\lambda t}\n",
    "\n",
    "###Cobalto 57\n",
    "Actco=AcCo*np.exp(-Lambdaco*data[\"timeE\"])*1000"
   ]
  },
  {
   "cell_type": "code",
   "execution_count": 12,
   "metadata": {
    "collapsed": true
   },
   "outputs": [],
   "source": [
    "data['EAct']=Actco"
   ]
  },
  {
   "cell_type": "code",
   "execution_count": 13,
   "metadata": {
    "collapsed": true
   },
   "outputs": [],
   "source": [
    "#data"
   ]
  },
  {
   "cell_type": "code",
   "execution_count": 14,
   "metadata": {
    "collapsed": true
   },
   "outputs": [],
   "source": [
    "############# Acceptable Range of dose calibrator readings ###########\n",
    "\n",
    "### 10% ó 5%\n",
    "X=data['EAct']*(0.05)\n",
    "\n",
    "\n",
    "### Rango\n",
    "Rmin=data['EAct']-X\n",
    "Rmax=data['EAct']+X\n"
   ]
  },
  {
   "cell_type": "code",
   "execution_count": 15,
   "metadata": {
    "collapsed": true
   },
   "outputs": [],
   "source": [
    "### Ingresar datos en el data \n",
    "data['Rmin']=Rmin\n",
    "data['Rmax']=Rmax"
   ]
  },
  {
   "cell_type": "code",
   "execution_count": 16,
   "metadata": {},
   "outputs": [
    {
     "data": {
      "image/png": "[encoded data removed]",
      "text/plain": [
       "<Figure size 432x288 with 2 Axes>"
      ]
     },
     "metadata": {},
     "output_type": "display_data"
    }
   ],
   "source": [
    "### Plot the data\n",
    "ax1=plt.subplot(1,1,1)\n",
    "\n",
    "ax1.plot(data['Number'],data['Actividad'],'or')\n",
    "ax1.plot(data['Number'],data['Rmin'],'b--')\n",
    "ax1.plot(data['Number'],data['Rmax'],'b--')\n",
    "\n",
    "\n",
    "ax1.set_title('Cobalto 57',fontsize=14)\n",
    "ax1.set_xlabel('Measurement number',fontsize=14)\n",
    "ax1.set_ylabel('Actividad [$\\mu$Ci]',fontsize=14)\n",
    "ax1.tick_params(axis='both',labelsize=14)\n",
    "\n",
    "## Set second y-axis for MBq\n",
    "ax2 = ax1.twinx()\n",
    "kBqs = np.linspace(data['Actividad'].min(),data['Actividad'].max()*37,6) # Actividad en MBq\n",
    "ax2.set_yticks(kBqs/37) # Ponga los ticks\n",
    "ax2.set_yticklabels(kBqs.astype(int)) # Ponga los Labels\n",
    "ax2.yaxis.set_ticks_position('right') # set the position of the second x-axis to bottom\n",
    "ax2.yaxis.set_label_position('right') # set the position of the second x-axis to bottom\n",
    "ax2.spines['right'].set_position(('outward', 0))\n",
    "ax2.set_ylabel('Actividad [kBq]',fontsize=14)\n",
    "ax2.set_ylim(ax1.get_ylim())\n",
    "ax2.tick_params(axis='y',labelsize=14)\n",
    "\n",
    "\n",
    "\n",
    "\n",
    "#plt.legend()\n",
    "#plt.title('TODOS')\n",
    "#plt.ylabel('Actividad [$\\mu$Ci]')\n",
    "#plt.xlabel('Measurement number')"
   ]
  },
  {
   "cell_type": "code",
   "execution_count": 8,
   "metadata": {
    "collapsed": true
   },
   "outputs": [],
   "source": [
    "# import the visualization package: seaborn\n",
    "import seaborn as sns"
   ]
  },
  {
   "cell_type": "code",
   "execution_count": 9,
   "metadata": {},
   "outputs": [
    {
     "data": {
      "text/plain": [
       "Text(0.5,0,'Theoretical Activity')"
      ]
     },
     "execution_count": 9,
     "metadata": {},
     "output_type": "execute_result"
    },
    {
     "data": {
      "image/png": "[encoded data removed]",
      "text/plain": [
       "<Figure size 432x288 with 1 Axes>"
      ]
     },
     "metadata": {},
     "output_type": "display_data"
    }
   ],
   "source": [
    "\n",
    "sns.residplot(data['ActividadmuC'], data['Actividad'])\n",
    "plt.ylabel('Difference')\n",
    "plt.xlabel('Theoretical Activity')\n"
   ]
  },
  {
   "cell_type": "code",
   "execution_count": 10,
   "metadata": {
    "collapsed": true
   },
   "outputs": [],
   "source": [
    "residuos=data['Actividad']-data['ActividadmuC']\n",
    "data['residuos']= residuos"
   ]
  },
  {
   "cell_type": "code",
   "execution_count": 11,
   "metadata": {},
   "outputs": [
    {
     "data": {
      "text/plain": [
       "count    439.000000\n",
       "mean      -4.100248\n",
       "std        7.059009\n",
       "min      -50.821416\n",
       "25%       -6.648378\n",
       "50%       -3.882012\n",
       "75%       -0.163635\n",
       "max       88.142512\n",
       "Name: residuos, dtype: float64"
      ]
     },
     "execution_count": 11,
     "metadata": {},
     "output_type": "execute_result"
    }
   ],
   "source": [
    "data['residuos'].describe()"
   ]
  },
  {
   "cell_type": "markdown",
   "metadata": {},
   "source": [
    "## Shewhart Chart"
   ]
  },
  {
   "cell_type": "markdown",
   "metadata": {},
   "source": [
    "A Shewhart Chart uses the mean value of the data, and the standard deviation to plot certain limits:\n",
    "-The upper and lower inf limits are $x\\pm \\sigma$\n",
    "-The upper and lower warning limits are $x\\pm 2\\sigma$\n",
    "-The upper and lower action limits are $x\\pm 3\\sigma$"
   ]
  },
  {
   "cell_type": "code",
   "execution_count": 14,
   "metadata": {
    "scrolled": true
   },
   "outputs": [
    {
     "data": {
      "text/plain": [
       "Text(0.5,0,'Measurement number')"
      ]
     },
     "execution_count": 14,
     "metadata": {},
     "output_type": "execute_result"
    },
    {
     "data": {
      "image/png": "[encoded data removed]",
      "text/plain": [
       "<Figure size 432x288 with 1 Axes>"
      ]
     },
     "metadata": {},
     "output_type": "display_data"
    }
   ],
   "source": [
    "\n",
    "x= data['Number']\n",
    "y=data['Actividad']\n",
    "plt.plot(x,y,'oy')\n",
    "\n",
    "meanAct=data['Actividad'].mean()\n",
    "Stdeviacion=data['Actividad'].std()\n",
    "\n",
    "###Mean\n",
    "#plt.plot((0,368),(meanAct,meanAct),k:, )\n",
    "\n",
    "xt= np.arange(0,368,1)\n",
    "#Mean\n",
    "y1= meanAct + (xt*0)\n",
    "## 1 sigma\n",
    "y2= meanAct+Stdeviacion+ (xt*0)\n",
    "y3= meanAct-Stdeviacion+ (xt*0)\n",
    "## 2 sigma\n",
    "y4= meanAct- (2*Stdeviacion)+ (xt*0)\n",
    "y5= meanAct+ (2*Stdeviacion)+ (xt*0)\n",
    "## 3 sigma\n",
    "y6= meanAct- (3*Stdeviacion)+ (xt*0)\n",
    "y7= meanAct+ (3*Stdeviacion)+ (xt*0)\n",
    "\n",
    "##The lines to plot\n",
    "plt.plot(xt,y,'or')\n",
    "plt.plot(xt,y1,'k:')\n",
    "plt.plot(xt,y2,'m:')\n",
    "plt.plot(xt,y3,'m:')\n",
    "plt.plot(xt,y4,'g--')\n",
    "plt.plot(xt,y5,'g--')\n",
    "plt.plot(xt,y6,'b--')\n",
    "plt.plot(xt,y7,'b--')\n",
    "\n",
    "\n",
    "#Text in plot\n",
    "\n",
    "plt.text(310,206.5,'Mean',color='black',size=12)\n",
    "plt.text(310,209.5,'Mean+$\\sigma$',color='magenta',size=12)\n",
    "plt.text(310,212.3,'Mean+ 2$\\sigma$',color='green',size=12)\n",
    "plt.text(310,215,'Mean+ 3$\\sigma$',color='blue',size=12)\n",
    "#plt.fill_between(xt, y2,y3, color='dodgerblue', alpha='0.8')\n",
    "#plt.fill_between(xt, y4,y5, color='dodgerblue', alpha='0.5')\n",
    "#plt.fill_between(xt, y6,y7, color='lightskyblue', alpha='0.5')\n",
    "\n",
    "plt.ylabel('Actividad [$\\mu$Ci]')\n",
    "plt.xlabel('Measurement number')\n",
    "\n",
    "#plt.plot((0, 300),(206.8,206.8), 'k:', linewidth=2) \n",
    "## 1 sigma\n",
    "#plt.plot((0, 300),(209.2,209.2), 'm:', linewidth=2)\n",
    "#plt.plot((0, 300),(204.4,204.4), ':m', linewidth=2)\n",
    "## 2 sigma\n",
    "#plt.plot((0, 300),(202,202), 'g--', linewidth=2)\n",
    "#plt.plot((0, 300),(211.6,211.6), 'g--', linewidth=2)\n",
    "## 3 sigma\n",
    "#plt.plot((0, 300),(199.6,199.6), 'b--', linewidth=2)\n",
    "#plt.plot((0, 300),(214,214), 'b--', linewidth=2)\n",
    "#plt.savefig('PETActividad.pdf')"
   ]
  },
  {
   "cell_type": "markdown",
   "metadata": {},
   "source": [
    "### For a system in control"
   ]
  },
  {
   "cell_type": "code",
   "execution_count": 40,
   "metadata": {
    "collapsed": true
   },
   "outputs": [],
   "source": [
    "def count(datos,L,H):\n",
    "    c=0\n",
    "    for x in datos:\n",
    "    #Condition check\n",
    "        if x<L or x>H:\n",
    "            c+=1\n",
    "    return c "
   ]
  },
  {
   "cell_type": "code",
   "execution_count": 41,
   "metadata": {
    "collapsed": true
   },
   "outputs": [],
   "source": [
    "### Information Limits\n",
    "HIL= meanAct+Stdeviacion\n",
    "LIL= meanAct-Stdeviacion\n",
    "### Warning Limits\n",
    "HWL= meanAct+(2*Stdeviacion)\n",
    "LWL= meanAct-(2*Stdeviacion)\n",
    "### Action Limits\n",
    "HAL= meanAct+(3*Stdeviacion)\n",
    "LAL= meanAct-(3*Stdeviacion)"
   ]
  },
  {
   "cell_type": "code",
   "execution_count": 46,
   "metadata": {},
   "outputs": [
    {
     "data": {
      "text/plain": [
       "122.66666666666667"
      ]
     },
     "execution_count": 46,
     "metadata": {},
     "output_type": "execute_result"
    }
   ],
   "source": [
    "### 1 in 3 outside, Information limits\n",
    "data['Actividad'].count()/3"
   ]
  },
  {
   "cell_type": "code",
   "execution_count": 47,
   "metadata": {},
   "outputs": [
    {
     "data": {
      "text/plain": [
       "171"
      ]
     },
     "execution_count": 47,
     "metadata": {},
     "output_type": "execute_result"
    }
   ],
   "source": [
    "count(data['Actividad'],LIL,HIL)"
   ]
  },
  {
   "cell_type": "code",
   "execution_count": 48,
   "metadata": {},
   "outputs": [
    {
     "data": {
      "text/plain": [
       "18.399999999999999"
      ]
     },
     "execution_count": 48,
     "metadata": {},
     "output_type": "execute_result"
    }
   ],
   "source": [
    "### 1 in 20 outside, Warning limits\n",
    "data['Actividad'].count()/20"
   ]
  },
  {
   "cell_type": "code",
   "execution_count": 49,
   "metadata": {},
   "outputs": [
    {
     "data": {
      "text/plain": [
       "16"
      ]
     },
     "execution_count": 49,
     "metadata": {},
     "output_type": "execute_result"
    }
   ],
   "source": [
    "count(data['Actividad'],LWL,HWL)"
   ]
  },
  {
   "cell_type": "code",
   "execution_count": 50,
   "metadata": {},
   "outputs": [
    {
     "data": {
      "text/plain": [
       "0.36799999999999999"
      ]
     },
     "execution_count": 50,
     "metadata": {},
     "output_type": "execute_result"
    }
   ],
   "source": [
    "### 1 in 1000 outside, Action limits\n",
    "data['Actividad'].count()/1000"
   ]
  },
  {
   "cell_type": "code",
   "execution_count": 51,
   "metadata": {},
   "outputs": [
    {
     "data": {
      "text/plain": [
       "0"
      ]
     },
     "execution_count": 51,
     "metadata": {},
     "output_type": "execute_result"
    }
   ],
   "source": [
    "count(data['Actividad'],LAL,HAL)"
   ]
  },
  {
   "cell_type": "code",
   "execution_count": null,
   "metadata": {
    "collapsed": true
   },
   "outputs": [],
   "source": []
  },
  {
   "cell_type": "code",
   "execution_count": 12,
   "metadata": {},
   "outputs": [
    {
     "data": {
      "text/plain": [
       "Text(0.5,0,'Measurement number')"
      ]
     },
     "execution_count": 12,
     "metadata": {},
     "output_type": "execute_result"
    },
    {
     "data": {
      "image/png": "[encoded data removed]",
      "text/plain": [
       "<Figure size 432x288 with 1 Axes>"
      ]
     },
     "metadata": {},
     "output_type": "display_data"
    }
   ],
   "source": [
    "\n",
    "x= data['Number']\n",
    "y=data['Actividad']\n",
    "#plt.plot(x,y,'oy')\n",
    "\n",
    "yteo=data['ActividadmuC']\n",
    "Stdeviacion=data['residuos'].std()\n",
    "\n",
    "xt= np.arange(0,439,1)\n",
    "#Mean\n",
    "y1= yteo+ (xt*0)\n",
    "## 1 sigma\n",
    "y2= yteo+Stdeviacion+ (xt*0)\n",
    "y3= yteo-Stdeviacion+ (xt*0)\n",
    "## 2 sigma\n",
    "y4= yteo- (2*Stdeviacion)+ (xt*0)\n",
    "y5= yteo+ (2*Stdeviacion)+ (xt*0)\n",
    "## 3 sigma\n",
    "y6= yteo- (3*Stdeviacion)+ (xt*0)\n",
    "y7= yteo+ (3*Stdeviacion)+ (xt*0)\n",
    "\n",
    "##The lines to plot\n",
    "plt.plot(xt,y,'or')\n",
    "plt.plot(xt,y1,'k:')\n",
    "plt.plot(xt,y2,'m:')\n",
    "plt.plot(xt,y3,'m:')\n",
    "plt.plot(xt,y4,'g--')\n",
    "plt.plot(xt,y5,'g--')\n",
    "plt.plot(xt,y6,'b--')\n",
    "plt.plot(xt,y7,'b--')\n",
    "\n",
    "\n",
    "#Text in plot\n",
    "\n",
    "#plt.text(310,206.5,'Mean',color='black',size=12)\n",
    "#plt.text(310,209.5,'Mean+$\\sigma$',color='magenta',size=12)\n",
    "#plt.text(310,212.3,'Mean+ 2$\\sigma$',color='green',size=12)\n",
    "#plt.text(310,215,'Mean+ 3$\\sigma$',color='blue',size=12)\n",
    "#plt.fill_between(xt, y2,y3, color='dodgerblue', alpha='0.8')\n",
    "#plt.fill_between(xt, y4,y5, color='dodgerblue', alpha='0.5')\n",
    "#plt.fill_between(xt, y6,y7, color='lightskyblue', alpha='0.5')\n",
    "\n",
    "plt.ylabel('Actividad [$\\mu$Ci]')\n",
    "plt.xlabel('Measurement number')\n",
    "#plt.savefig('SPECTActividad.pdf'"
   ]
  },
  {
   "cell_type": "markdown",
   "metadata": {},
   "source": [
    "## Cusum Chart"
   ]
  },
  {
   "cell_type": "code",
   "execution_count": 13,
   "metadata": {
    "collapsed": true
   },
   "outputs": [],
   "source": [
    "## Differences from mean\n",
    "Diferencias=data['Actividad']-data['ActividadmuC']\n",
    "data['Diferencias']= Diferencias"
   ]
  },
  {
   "cell_type": "code",
   "execution_count": 14,
   "metadata": {},
   "outputs": [
    {
     "data": {
      "text/plain": [
       "count    439.000000\n",
       "mean      -4.100248\n",
       "std        7.059009\n",
       "min      -50.821416\n",
       "25%       -6.648378\n",
       "50%       -3.882012\n",
       "75%       -0.163635\n",
       "max       88.142512\n",
       "Name: Diferencias, dtype: float64"
      ]
     },
     "execution_count": 14,
     "metadata": {},
     "output_type": "execute_result"
    }
   ],
   "source": [
    "data['Diferencias'].describe()"
   ]
  },
  {
   "cell_type": "code",
   "execution_count": 15,
   "metadata": {},
   "outputs": [
    {
     "data": {
      "text/plain": [
       "0     -15.838978\n",
       "1     -14.893080\n",
       "2     -12.952140\n",
       "3     -12.016145\n",
       "4      -3.321357\n",
       "5     -15.409896\n",
       "6     -15.503305\n",
       "7     -15.601570\n",
       "8     -15.925386\n",
       "9     -15.042957\n",
       "10    -13.165323\n",
       "11    -22.292472\n",
       "12     -9.424393\n",
       "13      0.151340\n",
       "14     -2.999544\n",
       "15     -3.155138\n",
       "16     -0.315431\n",
       "17     -0.480411\n",
       "18     -0.003352\n",
       "19      1.813041\n",
       "20      0.624806\n",
       "21      1.431955\n",
       "22      0.234501\n",
       "23      0.614633\n",
       "24      0.398881\n",
       "25    -50.821416\n",
       "26     -0.046248\n",
       "27     -1.275601\n",
       "28      0.009319\n",
       "29     -1.238009\n",
       "         ...    \n",
       "409    -0.093830\n",
       "410    -0.018341\n",
       "411     0.056191\n",
       "412    -0.055195\n",
       "413     0.014591\n",
       "414    -3.216565\n",
       "415    -4.148660\n",
       "416    -3.450561\n",
       "417    -3.086391\n",
       "418    -3.023149\n",
       "419    -4.960832\n",
       "420    -4.999438\n",
       "421    -3.020771\n",
       "422    -2.963046\n",
       "423    -2.806233\n",
       "424    -2.950328\n",
       "425    -2.395330\n",
       "426     0.015643\n",
       "427    -2.833858\n",
       "428     0.015748\n",
       "429    -0.035536\n",
       "430     0.050466\n",
       "431    -0.005237\n",
       "432    -2.961818\n",
       "433     0.080727\n",
       "434     0.003133\n",
       "435    49.980404\n",
       "436    -2.241458\n",
       "437    -2.308391\n",
       "438    -1.744801\n",
       "Name: Diferencias, dtype: float64"
      ]
     },
     "execution_count": 15,
     "metadata": {},
     "output_type": "execute_result"
    }
   ],
   "source": [
    "data['Diferencias']"
   ]
  },
  {
   "cell_type": "code",
   "execution_count": 16,
   "metadata": {
    "collapsed": true
   },
   "outputs": [],
   "source": [
    "##A cumulative sum function\n",
    "suma=np.cumsum(data['Diferencias'])\n",
    "data['Suma']= suma"
   ]
  },
  {
   "cell_type": "markdown",
   "metadata": {},
   "source": [
    "\n"
   ]
  },
  {
   "cell_type": "code",
   "execution_count": 17,
   "metadata": {
    "scrolled": true
   },
   "outputs": [
    {
     "data": {
      "text/plain": [
       "[<matplotlib.lines.Line2D at 0x1a1cdbbc50>]"
      ]
     },
     "execution_count": 17,
     "metadata": {},
     "output_type": "execute_result"
    },
    {
     "data": {
      "image/png": "[encoded data removed]",
      "text/plain": [
       "<Figure size 432x288 with 1 Axes>"
      ]
     },
     "metadata": {},
     "output_type": "display_data"
    }
   ],
   "source": [
    "xc= data['Number']\n",
    "yc=data['Suma']\n",
    "plt.plot(xc,yc,'oy')"
   ]
  },
  {
   "cell_type": "markdown",
   "metadata": {},
   "source": [
    "# Accuracy Testing"
   ]
  },
  {
   "cell_type": "code",
   "execution_count": null,
   "metadata": {
    "collapsed": true
   },
   "outputs": [],
   "source": []
  },
  {
   "cell_type": "code",
   "execution_count": null,
   "metadata": {
    "collapsed": true
   },
   "outputs": [],
   "source": []
  },
  {
   "cell_type": "code",
   "execution_count": null,
   "metadata": {
    "collapsed": true
   },
   "outputs": [],
   "source": []
  },
  {
   "cell_type": "markdown",
   "metadata": {},
   "source": [
    "# Subsidiary Calibrations"
   ]
  },
  {
   "cell_type": "markdown",
   "metadata": {},
   "source": [
    "Relate to containers and Volumes for which calibration factors are not supplied by the manufacturer (geometries and volumes)"
   ]
  },
  {
   "cell_type": "code",
   "execution_count": null,
   "metadata": {
    "collapsed": true
   },
   "outputs": [],
   "source": []
  },
  {
   "cell_type": "code",
   "execution_count": null,
   "metadata": {
    "collapsed": true
   },
   "outputs": [],
   "source": []
  },
  {
   "cell_type": "markdown",
   "metadata": {},
   "source": [
    "# Repeatability testing "
   ]
  },
  {
   "cell_type": "markdown",
   "metadata": {},
   "source": [
    "If a measurement shows precision using the same procedure, operator, measuring system and location over a short period of time. Repeatability (Chamber and geometries)"
   ]
  },
  {
   "cell_type": "code",
   "execution_count": null,
   "metadata": {
    "collapsed": true
   },
   "outputs": [],
   "source": []
  },
  {
   "cell_type": "code",
   "execution_count": null,
   "metadata": {
    "collapsed": true
   },
   "outputs": [],
   "source": []
  },
  {
   "cell_type": "markdown",
   "metadata": {
    "collapsed": true
   },
   "source": [
    "# Lineality testing "
   ]
  },
  {
   "cell_type": "code",
   "execution_count": null,
   "metadata": {
    "collapsed": true
   },
   "outputs": [],
   "source": []
  }
 ],
 "metadata": {
  "kernelspec": {
   "display_name": "Python 3",
   "language": "python",
   "name": "python3"
  },
  "language_info": {
   "codemirror_mode": {
    "name": "ipython",
    "version": 3
   },
   "file_extension": ".py",
   "mimetype": "text/x-python",
   "name": "python",
   "nbconvert_exporter": "python",
   "pygments_lexer": "ipython3",
   "version": "3.5.5"
  }
 },
 "nbformat": 4,
 "nbformat_minor": 2
}
