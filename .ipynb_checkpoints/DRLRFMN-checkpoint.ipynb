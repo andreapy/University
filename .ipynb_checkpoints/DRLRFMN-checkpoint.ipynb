{
 "cells": [
  {
   "cell_type": "markdown",
   "metadata": {},
   "source": [
    "# Diagnostic Reference Level for Radiopharmaceuticals in NM- INC "
   ]
  },
  {
   "cell_type": "markdown",
   "metadata": {},
   "source": [
    "Elaborado por: Andrea Lizeth Lopez Rodriguez.Universidad Nacional de Colombia "
   ]
  },
  {
   "cell_type": "markdown",
   "metadata": {},
   "source": [
    "Inicialmente se importan los paquetes de Python que serán empleados en el análisis de los datos"
   ]
  },
  {
   "cell_type": "code",
   "execution_count": 5,
   "metadata": {},
   "outputs": [
    {
     "data": {
      "text/html": [
       "<div>\n",
       "<table border=\"1\" class=\"dataframe\">\n",
       "  <thead>\n",
       "    <tr style=\"text-align: right;\">\n",
       "      <th></th>\n",
       "      <th>DIA</th>\n",
       "      <th>MES</th>\n",
       "      <th>RF</th>\n",
       "      <th>EXAM</th>\n",
       "      <th>Actdosi</th>\n",
       "    </tr>\n",
       "  </thead>\n",
       "  <tbody>\n",
       "    <tr>\n",
       "      <th>0</th>\n",
       "      <td>2</td>\n",
       "      <td>Enero</td>\n",
       "      <td>Tc</td>\n",
       "      <td>OSEA</td>\n",
       "      <td>20.0</td>\n",
       "    </tr>\n",
       "    <tr>\n",
       "      <th>1</th>\n",
       "      <td>2</td>\n",
       "      <td>Enero</td>\n",
       "      <td>Tc</td>\n",
       "      <td>OSEA</td>\n",
       "      <td>20.0</td>\n",
       "    </tr>\n",
       "    <tr>\n",
       "      <th>2</th>\n",
       "      <td>2</td>\n",
       "      <td>Enero</td>\n",
       "      <td>Tc</td>\n",
       "      <td>OSEA</td>\n",
       "      <td>20.0</td>\n",
       "    </tr>\n",
       "    <tr>\n",
       "      <th>3</th>\n",
       "      <td>2</td>\n",
       "      <td>Enero</td>\n",
       "      <td>Tc</td>\n",
       "      <td>OSEA</td>\n",
       "      <td>20.0</td>\n",
       "    </tr>\n",
       "    <tr>\n",
       "      <th>4</th>\n",
       "      <td>2</td>\n",
       "      <td>Enero</td>\n",
       "      <td>Tc</td>\n",
       "      <td>VENTRI</td>\n",
       "      <td>20.0</td>\n",
       "    </tr>\n",
       "  </tbody>\n",
       "</table>\n",
       "</div>"
      ],
      "text/plain": [
       "   DIA    MES  RF    EXAM  Actdosi\n",
       "0    2  Enero  Tc    OSEA     20.0\n",
       "1    2  Enero  Tc    OSEA     20.0\n",
       "2    2  Enero  Tc    OSEA     20.0\n",
       "3    2  Enero  Tc    OSEA     20.0\n",
       "4    2  Enero  Tc  VENTRI     20.0"
      ]
     },
     "execution_count": 5,
     "metadata": {},
     "output_type": "execute_result"
    }
   ],
   "source": [
    "import seaborn as sns\n",
    "import numpy as np\n",
    "import pandas as pd\n",
    "import matplotlib.pyplot as plt\n",
    "\n",
    "%matplotlib inline\n",
    "\n",
    "\n",
    "##Archivo plano de texto, colocar los datos y los encabezados sin espacios \n",
    "#Para cargar los datos de actividades y volumenes\n",
    "#data = pd.read_csv('DRLRF.txt', delim_whitespace =True)\n",
    "\n",
    "#Para cargar los datos de Unidosis RF- INC: Enero 2019- Diciembre 2019\n",
    "dat = pd.read_csv('UNIRF.txt', delim_whitespace =True)\n",
    "\n",
    "#para ver los primeros datos\n",
    "dat.head()"
   ]
  },
  {
   "cell_type": "code",
   "execution_count": 6,
   "metadata": {
    "collapsed": true
   },
   "outputs": [],
   "source": [
    "from scipy import stats"
   ]
  },
  {
   "cell_type": "markdown",
   "metadata": {},
   "source": [
    "donde ActAdm -> Actividad Administrada y Actdosi -> Actividad dosificada en mCi. Vol -> Volumen en mL"
   ]
  },
  {
   "cell_type": "code",
   "execution_count": 7,
   "metadata": {},
   "outputs": [
    {
     "data": {
      "text/plain": [
       "DIA          int64\n",
       "MES         object\n",
       "RF          object\n",
       "EXAM        object\n",
       "Actdosi    float64\n",
       "dtype: object"
      ]
     },
     "execution_count": 7,
     "metadata": {},
     "output_type": "execute_result"
    }
   ],
   "source": [
    "##lista de tipos de datos por cada columna\n",
    "dat.dtypes"
   ]
  },
  {
   "cell_type": "markdown",
   "metadata": {},
   "source": [
    "## Variables Categóricas"
   ]
  },
  {
   "cell_type": "code",
   "execution_count": 9,
   "metadata": {},
   "outputs": [
    {
     "data": {
      "text/plain": [
       "Tc    6201\n",
       "F     1226\n",
       "I      359\n",
       "Ga     293\n",
       "Lu      46\n",
       "Ra       3\n",
       "Name: RF, dtype: int64"
      ]
     },
     "execution_count": 9,
     "metadata": {},
     "output_type": "execute_result"
    }
   ],
   "source": [
    "######Conteo de variables categoricas\n",
    "####GROUP BY in Python \n",
    "data_test =dat[['RF','EXAM']]\n",
    "dat[\"RF\"].value_counts()"
   ]
  },
  {
   "cell_type": "code",
   "execution_count": 25,
   "metadata": {},
   "outputs": [
    {
     "data": {
      "text/html": [
       "<div>\n",
       "<table border=\"1\" class=\"dataframe\">\n",
       "  <thead>\n",
       "    <tr style=\"text-align: right;\">\n",
       "      <th></th>\n",
       "      <th>RF</th>\n",
       "      <th>EXAM</th>\n",
       "    </tr>\n",
       "  </thead>\n",
       "  <tbody>\n",
       "    <tr>\n",
       "      <th>0</th>\n",
       "      <td>Tc</td>\n",
       "      <td>OSEA</td>\n",
       "    </tr>\n",
       "    <tr>\n",
       "      <th>1</th>\n",
       "      <td>Tc</td>\n",
       "      <td>OSEA</td>\n",
       "    </tr>\n",
       "    <tr>\n",
       "      <th>2</th>\n",
       "      <td>Tc</td>\n",
       "      <td>OSEA</td>\n",
       "    </tr>\n",
       "    <tr>\n",
       "      <th>3</th>\n",
       "      <td>Tc</td>\n",
       "      <td>OSEA</td>\n",
       "    </tr>\n",
       "    <tr>\n",
       "      <th>4</th>\n",
       "      <td>Tc</td>\n",
       "      <td>VENTRI</td>\n",
       "    </tr>\n",
       "    <tr>\n",
       "      <th>5</th>\n",
       "      <td>Tc</td>\n",
       "      <td>VENTRI</td>\n",
       "    </tr>\n",
       "    <tr>\n",
       "      <th>6</th>\n",
       "      <td>Tc</td>\n",
       "      <td>VENTRI</td>\n",
       "    </tr>\n",
       "    <tr>\n",
       "      <th>7</th>\n",
       "      <td>Tc</td>\n",
       "      <td>OSEA</td>\n",
       "    </tr>\n",
       "    <tr>\n",
       "      <th>8</th>\n",
       "      <td>Tc</td>\n",
       "      <td>OSEA</td>\n",
       "    </tr>\n",
       "    <tr>\n",
       "      <th>9</th>\n",
       "      <td>Tc</td>\n",
       "      <td>OSEA</td>\n",
       "    </tr>\n",
       "    <tr>\n",
       "      <th>10</th>\n",
       "      <td>Tc</td>\n",
       "      <td>OSEA</td>\n",
       "    </tr>\n",
       "    <tr>\n",
       "      <th>11</th>\n",
       "      <td>Tc</td>\n",
       "      <td>OSEA</td>\n",
       "    </tr>\n",
       "    <tr>\n",
       "      <th>12</th>\n",
       "      <td>Tc</td>\n",
       "      <td>OSEA</td>\n",
       "    </tr>\n",
       "    <tr>\n",
       "      <th>13</th>\n",
       "      <td>Tc</td>\n",
       "      <td>OSEA</td>\n",
       "    </tr>\n",
       "    <tr>\n",
       "      <th>14</th>\n",
       "      <td>Tc</td>\n",
       "      <td>OSEA</td>\n",
       "    </tr>\n",
       "    <tr>\n",
       "      <th>15</th>\n",
       "      <td>Ga</td>\n",
       "      <td>GADOTA</td>\n",
       "    </tr>\n",
       "    <tr>\n",
       "      <th>16</th>\n",
       "      <td>Tc</td>\n",
       "      <td>DTPA</td>\n",
       "    </tr>\n",
       "    <tr>\n",
       "      <th>17</th>\n",
       "      <td>Ga</td>\n",
       "      <td>GADOTA</td>\n",
       "    </tr>\n",
       "    <tr>\n",
       "      <th>18</th>\n",
       "      <td>Tc</td>\n",
       "      <td>NANO</td>\n",
       "    </tr>\n",
       "    <tr>\n",
       "      <th>19</th>\n",
       "      <td>Tc</td>\n",
       "      <td>DTPA</td>\n",
       "    </tr>\n",
       "    <tr>\n",
       "      <th>20</th>\n",
       "      <td>Tc</td>\n",
       "      <td>DTPA</td>\n",
       "    </tr>\n",
       "    <tr>\n",
       "      <th>21</th>\n",
       "      <td>Tc</td>\n",
       "      <td>OSEA</td>\n",
       "    </tr>\n",
       "    <tr>\n",
       "      <th>22</th>\n",
       "      <td>Tc</td>\n",
       "      <td>OSEA</td>\n",
       "    </tr>\n",
       "    <tr>\n",
       "      <th>23</th>\n",
       "      <td>Tc</td>\n",
       "      <td>NANO</td>\n",
       "    </tr>\n",
       "    <tr>\n",
       "      <th>24</th>\n",
       "      <td>Tc</td>\n",
       "      <td>OSEA</td>\n",
       "    </tr>\n",
       "    <tr>\n",
       "      <th>25</th>\n",
       "      <td>Tc</td>\n",
       "      <td>OSEA</td>\n",
       "    </tr>\n",
       "    <tr>\n",
       "      <th>26</th>\n",
       "      <td>Tc</td>\n",
       "      <td>OSEA</td>\n",
       "    </tr>\n",
       "    <tr>\n",
       "      <th>27</th>\n",
       "      <td>Tc</td>\n",
       "      <td>OSEA</td>\n",
       "    </tr>\n",
       "    <tr>\n",
       "      <th>28</th>\n",
       "      <td>Tc</td>\n",
       "      <td>OSEA</td>\n",
       "    </tr>\n",
       "    <tr>\n",
       "      <th>29</th>\n",
       "      <td>Tc</td>\n",
       "      <td>OSEA</td>\n",
       "    </tr>\n",
       "    <tr>\n",
       "      <th>...</th>\n",
       "      <td>...</td>\n",
       "      <td>...</td>\n",
       "    </tr>\n",
       "    <tr>\n",
       "      <th>8098</th>\n",
       "      <td>Tc</td>\n",
       "      <td>OSEA</td>\n",
       "    </tr>\n",
       "    <tr>\n",
       "      <th>8099</th>\n",
       "      <td>Tc</td>\n",
       "      <td>OSEA</td>\n",
       "    </tr>\n",
       "    <tr>\n",
       "      <th>8100</th>\n",
       "      <td>Tc</td>\n",
       "      <td>OSEA</td>\n",
       "    </tr>\n",
       "    <tr>\n",
       "      <th>8101</th>\n",
       "      <td>Tc</td>\n",
       "      <td>OSEA</td>\n",
       "    </tr>\n",
       "    <tr>\n",
       "      <th>8102</th>\n",
       "      <td>Tc</td>\n",
       "      <td>OSEA</td>\n",
       "    </tr>\n",
       "    <tr>\n",
       "      <th>8103</th>\n",
       "      <td>Tc</td>\n",
       "      <td>OSEA</td>\n",
       "    </tr>\n",
       "    <tr>\n",
       "      <th>8104</th>\n",
       "      <td>Tc</td>\n",
       "      <td>OSEA</td>\n",
       "    </tr>\n",
       "    <tr>\n",
       "      <th>8105</th>\n",
       "      <td>Tc</td>\n",
       "      <td>OSEA</td>\n",
       "    </tr>\n",
       "    <tr>\n",
       "      <th>8106</th>\n",
       "      <td>Tc</td>\n",
       "      <td>VENTRI</td>\n",
       "    </tr>\n",
       "    <tr>\n",
       "      <th>8107</th>\n",
       "      <td>Tc</td>\n",
       "      <td>VENTRI</td>\n",
       "    </tr>\n",
       "    <tr>\n",
       "      <th>8108</th>\n",
       "      <td>Tc</td>\n",
       "      <td>VENTRI</td>\n",
       "    </tr>\n",
       "    <tr>\n",
       "      <th>8109</th>\n",
       "      <td>Tc</td>\n",
       "      <td>VENTRI</td>\n",
       "    </tr>\n",
       "    <tr>\n",
       "      <th>8110</th>\n",
       "      <td>Tc</td>\n",
       "      <td>VENTRI</td>\n",
       "    </tr>\n",
       "    <tr>\n",
       "      <th>8111</th>\n",
       "      <td>Tc</td>\n",
       "      <td>VENTRI</td>\n",
       "    </tr>\n",
       "    <tr>\n",
       "      <th>8112</th>\n",
       "      <td>Tc</td>\n",
       "      <td>VENTRI</td>\n",
       "    </tr>\n",
       "    <tr>\n",
       "      <th>8113</th>\n",
       "      <td>Tc</td>\n",
       "      <td>VENTRI</td>\n",
       "    </tr>\n",
       "    <tr>\n",
       "      <th>8114</th>\n",
       "      <td>Tc</td>\n",
       "      <td>OSEA</td>\n",
       "    </tr>\n",
       "    <tr>\n",
       "      <th>8115</th>\n",
       "      <td>Tc</td>\n",
       "      <td>OSEA</td>\n",
       "    </tr>\n",
       "    <tr>\n",
       "      <th>8116</th>\n",
       "      <td>Tc</td>\n",
       "      <td>OSEA</td>\n",
       "    </tr>\n",
       "    <tr>\n",
       "      <th>8117</th>\n",
       "      <td>Tc</td>\n",
       "      <td>OSEA</td>\n",
       "    </tr>\n",
       "    <tr>\n",
       "      <th>8118</th>\n",
       "      <td>Tc</td>\n",
       "      <td>DTPA</td>\n",
       "    </tr>\n",
       "    <tr>\n",
       "      <th>8119</th>\n",
       "      <td>Tc</td>\n",
       "      <td>DTPA</td>\n",
       "    </tr>\n",
       "    <tr>\n",
       "      <th>8120</th>\n",
       "      <td>Tc</td>\n",
       "      <td>DTPA</td>\n",
       "    </tr>\n",
       "    <tr>\n",
       "      <th>8121</th>\n",
       "      <td>Tc</td>\n",
       "      <td>DTPA</td>\n",
       "    </tr>\n",
       "    <tr>\n",
       "      <th>8122</th>\n",
       "      <td>Tc</td>\n",
       "      <td>DTPA</td>\n",
       "    </tr>\n",
       "    <tr>\n",
       "      <th>8123</th>\n",
       "      <td>Tc</td>\n",
       "      <td>DTPA</td>\n",
       "    </tr>\n",
       "    <tr>\n",
       "      <th>8124</th>\n",
       "      <td>Tc</td>\n",
       "      <td>DTPA</td>\n",
       "    </tr>\n",
       "    <tr>\n",
       "      <th>8125</th>\n",
       "      <td>Tc</td>\n",
       "      <td>VENTRI</td>\n",
       "    </tr>\n",
       "    <tr>\n",
       "      <th>8126</th>\n",
       "      <td>Tc</td>\n",
       "      <td>VENTRI</td>\n",
       "    </tr>\n",
       "    <tr>\n",
       "      <th>8127</th>\n",
       "      <td>Tc</td>\n",
       "      <td>VENTRI</td>\n",
       "    </tr>\n",
       "  </tbody>\n",
       "</table>\n",
       "<p>8128 rows × 2 columns</p>\n",
       "</div>"
      ],
      "text/plain": [
       "      RF    EXAM\n",
       "0     Tc    OSEA\n",
       "1     Tc    OSEA\n",
       "2     Tc    OSEA\n",
       "3     Tc    OSEA\n",
       "4     Tc  VENTRI\n",
       "5     Tc  VENTRI\n",
       "6     Tc  VENTRI\n",
       "7     Tc    OSEA\n",
       "8     Tc    OSEA\n",
       "9     Tc    OSEA\n",
       "10    Tc    OSEA\n",
       "11    Tc    OSEA\n",
       "12    Tc    OSEA\n",
       "13    Tc    OSEA\n",
       "14    Tc    OSEA\n",
       "15    Ga  GADOTA\n",
       "16    Tc    DTPA\n",
       "17    Ga  GADOTA\n",
       "18    Tc    NANO\n",
       "19    Tc    DTPA\n",
       "20    Tc    DTPA\n",
       "21    Tc    OSEA\n",
       "22    Tc    OSEA\n",
       "23    Tc    NANO\n",
       "24    Tc    OSEA\n",
       "25    Tc    OSEA\n",
       "26    Tc    OSEA\n",
       "27    Tc    OSEA\n",
       "28    Tc    OSEA\n",
       "29    Tc    OSEA\n",
       "...   ..     ...\n",
       "8098  Tc    OSEA\n",
       "8099  Tc    OSEA\n",
       "8100  Tc    OSEA\n",
       "8101  Tc    OSEA\n",
       "8102  Tc    OSEA\n",
       "8103  Tc    OSEA\n",
       "8104  Tc    OSEA\n",
       "8105  Tc    OSEA\n",
       "8106  Tc  VENTRI\n",
       "8107  Tc  VENTRI\n",
       "8108  Tc  VENTRI\n",
       "8109  Tc  VENTRI\n",
       "8110  Tc  VENTRI\n",
       "8111  Tc  VENTRI\n",
       "8112  Tc  VENTRI\n",
       "8113  Tc  VENTRI\n",
       "8114  Tc    OSEA\n",
       "8115  Tc    OSEA\n",
       "8116  Tc    OSEA\n",
       "8117  Tc    OSEA\n",
       "8118  Tc    DTPA\n",
       "8119  Tc    DTPA\n",
       "8120  Tc    DTPA\n",
       "8121  Tc    DTPA\n",
       "8122  Tc    DTPA\n",
       "8123  Tc    DTPA\n",
       "8124  Tc    DTPA\n",
       "8125  Tc  VENTRI\n",
       "8126  Tc  VENTRI\n",
       "8127  Tc  VENTRI\n",
       "\n",
       "[8128 rows x 2 columns]"
      ]
     },
     "execution_count": 25,
     "metadata": {},
     "output_type": "execute_result"
    }
   ],
   "source": [
    "data_test"
   ]
  },
  {
   "cell_type": "code",
   "execution_count": 11,
   "metadata": {},
   "outputs": [
    {
     "data": {
      "text/plain": [
       "<matplotlib.axes._subplots.AxesSubplot at 0x1a16dc0908>"
      ]
     },
     "execution_count": 11,
     "metadata": {},
     "output_type": "execute_result"
    },
    {
     "data": {
      "image/png": "[encoded data removed]",
      "text/plain": [
       "<Figure size 432x288 with 1 Axes>"
      ]
     },
     "metadata": {},
     "output_type": "display_data"
    }
   ],
   "source": [
    "sns.countplot(y=\"RF\", data=dat,orient=\"h\",color=\"c\")"
   ]
  },
  {
   "cell_type": "code",
   "execution_count": 12,
   "metadata": {},
   "outputs": [
    {
     "data": {
      "text/plain": [
       "OSEA         2781\n",
       "VENTRI       1548\n",
       "DTPA         1430\n",
       "FDG          1226\n",
       "YODO          354\n",
       "NANO          261\n",
       "GADOTA        155\n",
       "GAPSMA        138\n",
       "MAA            52\n",
       "NANOMAA        48\n",
       "LUDOTATOC      46\n",
       "DMSA           36\n",
       "MIBI           27\n",
       "HYNICTOC       16\n",
       "MIBG            5\n",
       "RADIO           3\n",
       "ETILEN          1\n",
       "IDA             1\n",
       "Name: EXAM, dtype: int64"
      ]
     },
     "execution_count": 12,
     "metadata": {},
     "output_type": "execute_result"
    }
   ],
   "source": [
    "######Conteo de variables categoricas\n",
    "dat[\"EXAM\"].value_counts()"
   ]
  },
  {
   "cell_type": "code",
   "execution_count": 13,
   "metadata": {},
   "outputs": [
    {
     "data": {
      "text/plain": [
       "<matplotlib.axes._subplots.AxesSubplot at 0x1a1a9819e8>"
      ]
     },
     "execution_count": 13,
     "metadata": {},
     "output_type": "execute_result"
    },
    {
     "data": {
      "image/png": "[encoded data removed]",
      "text/plain": [
       "<Figure size 432x288 with 1 Axes>"
      ]
     },
     "metadata": {},
     "output_type": "display_data"
    }
   ],
   "source": [
    "sns.countplot(y=\"EXAM\", data=dat,orient=\"h\",color=\"c\")"
   ]
  },
  {
   "cell_type": "code",
   "execution_count": 53,
   "metadata": {},
   "outputs": [],
   "source": [
    "lista= ((dat['RF']=='Tc') | (dat['RF']=='F') | (dat['RF']=='Ga'))\n",
    "#df = dat[((dat['EXAM']=='Tc') | (dat['EXAM']=='F') | (dat['EXAM']=='Ga'))]\n",
    "df = dat[lista]\n",
    "#lista"
   ]
  },
  {
   "cell_type": "code",
   "execution_count": 74,
   "metadata": {},
   "outputs": [
    {
     "data": {
      "text/plain": [
       "<matplotlib.axes._subplots.AxesSubplot at 0x1a1b9e12e8>"
      ]
     },
     "execution_count": 74,
     "metadata": {},
     "output_type": "execute_result"
    },
    {
     "data": {
      "image/png": "[encoded data removed]",
      "text/plain": [
       "<Figure size 432x288 with 1 Axes>"
      ]
     },
     "metadata": {},
     "output_type": "display_data"
    }
   ],
   "source": [
    "sns.countplot(y=\"EXAM\", data=df,orient=\"h\",color=\"c\")"
   ]
  },
  {
   "cell_type": "code",
   "execution_count": 72,
   "metadata": {},
   "outputs": [
    {
     "data": {
      "text/plain": [
       "<matplotlib.axes._subplots.AxesSubplot at 0x1a1b4aed30>"
      ]
     },
     "execution_count": 72,
     "metadata": {},
     "output_type": "execute_result"
    },
    {
     "data": {
      "image/png": "[encoded data removed]",
      "text/plain": [
       "<Figure size 432x288 with 1 Axes>"
      ]
     },
     "metadata": {},
     "output_type": "display_data"
    }
   ],
   "source": [
    "sns.countplot(x=\"RF\", data=df,orient=\"h\",color=\"c\")"
   ]
  },
  {
   "cell_type": "code",
   "execution_count": 14,
   "metadata": {
    "collapsed": true
   },
   "outputs": [],
   "source": [
    "##########  Agrupando por examen #########\n",
    "dat_group_exam = dat.groupby(['EXAM'],as_index=False)"
   ]
  },
  {
   "cell_type": "markdown",
   "metadata": {},
   "source": [
    "## $\\color{red}{\\text{FDG}}$"
   ]
  },
  {
   "cell_type": "code",
   "execution_count": 18,
   "metadata": {
    "collapsed": true
   },
   "outputs": [],
   "source": [
    "FDG =dat_group_exam.get_group('FDG')"
   ]
  },
  {
   "cell_type": "code",
   "execution_count": 65,
   "metadata": {},
   "outputs": [
    {
     "data": {
      "text/plain": [
       "15.0"
      ]
     },
     "execution_count": 65,
     "metadata": {},
     "output_type": "execute_result"
    }
   ],
   "source": [
    "FDG['Actdosi'].max()"
   ]
  },
  {
   "cell_type": "code",
   "execution_count": 81,
   "metadata": {},
   "outputs": [
    {
     "name": "stderr",
     "output_type": "stream",
     "text": [
      "/Users/Mila/anaconda/lib/python3.5/site-packages/matplotlib/axes/_axes.py:6462: UserWarning: The 'normed' kwarg is deprecated, and has been replaced by the 'density' kwarg.\n",
      "  warnings.warn(\"The 'normed' kwarg is deprecated, and has been \"\n"
     ]
    },
    {
     "data": {
      "image/png": "[encoded data removed]",
      "text/plain": [
       "<Figure size 432x288 with 2 Axes>"
      ]
     },
     "metadata": {},
     "output_type": "display_data"
    }
   ],
   "source": [
    "### Plot the data\n",
    "ax1=plt.subplot(1,1,1)\n",
    "sns.distplot(FDG['Actdosi'],kde=False,color='b',ax=ax1)\n",
    "\n",
    "ax1.set_title('FDG',fontsize=14)\n",
    "ax1.set_ylabel('Número de Pacientes',fontsize=14)\n",
    "ax1.set_xlabel('Actividad [mCi]',fontsize=14)\n",
    "ax1.tick_params(axis='both',labelsize=14)\n",
    "\n",
    "## Set second x-axis for MBq\n",
    "ax2 = ax1.twiny()\n",
    "MBqs = np.linspace(FDG['Actdosi'].min(),FDG['Actdosi'].max()*37,7) # Actividad en MBq\n",
    "ax2.set_xticks(MBqs/37) # Ponga los ticks\n",
    "ax2.set_xticklabels(MBqs.astype(int)) # Ponga los Labels\n",
    "ax2.xaxis.set_ticks_position('bottom') # set the position of the second x-axis to bottom\n",
    "ax2.xaxis.set_label_position('bottom') # set the position of the second x-axis to bottom\n",
    "ax2.spines['bottom'].set_position(('outward', 56))\n",
    "ax2.set_xlabel('Actividad [MBq]',fontsize=14)\n",
    "ax2.set_xlim(ax1.get_xlim())\n",
    "ax2.tick_params(labelsize=14)"
   ]
  },
  {
   "cell_type": "code",
   "execution_count": 60,
   "metadata": {},
   "outputs": [
    {
     "data": {
      "text/plain": [
       "count    1226.000000\n",
       "mean        9.632113\n",
       "std         2.236187\n",
       "min         2.400000\n",
       "25%         8.300000\n",
       "50%         9.600000\n",
       "75%        11.100000\n",
       "max        15.000000\n",
       "Name: Actdosi, dtype: float64"
      ]
     },
     "execution_count": 60,
     "metadata": {},
     "output_type": "execute_result"
    }
   ],
   "source": [
    "FDG['Actdosi'].describe()"
   ]
  },
  {
   "cell_type": "markdown",
   "metadata": {},
   "source": [
    "## $\\color{red}{\\text{Ga-Dota}}$"
   ]
  },
  {
   "cell_type": "code",
   "execution_count": 21,
   "metadata": {
    "collapsed": true
   },
   "outputs": [],
   "source": [
    "GADOTA =dat_group_exam.get_group('GADOTA')"
   ]
  },
  {
   "cell_type": "code",
   "execution_count": 80,
   "metadata": {},
   "outputs": [
    {
     "name": "stderr",
     "output_type": "stream",
     "text": [
      "/Users/Mila/anaconda/lib/python3.5/site-packages/matplotlib/axes/_axes.py:6462: UserWarning: The 'normed' kwarg is deprecated, and has been replaced by the 'density' kwarg.\n",
      "  warnings.warn(\"The 'normed' kwarg is deprecated, and has been \"\n"
     ]
    },
    {
     "data": {
      "image/png": "[encoded data removed]",
      "text/plain": [
       "<Figure size 432x288 with 2 Axes>"
      ]
     },
     "metadata": {},
     "output_type": "display_data"
    }
   ],
   "source": [
    "### Plot the data\n",
    "ax1=plt.subplot(1,1,1)\n",
    "sns.distplot(GADOTA['Actdosi'],kde=False,color='b',ax=ax1)\n",
    "\n",
    "ax1.set_title('Galio Dotanoc',fontsize=14)\n",
    "ax1.set_ylabel('Número de Pacientes',fontsize=14)\n",
    "ax1.set_xlabel('Actividad [mCi]',fontsize=14)\n",
    "ax1.tick_params(axis='both',labelsize=14)\n",
    "\n",
    "## Set second x-axis for MBq\n",
    "ax2 = ax1.twiny()\n",
    "MBqs = np.linspace(GADOTA['Actdosi'].min(),GADOTA['Actdosi'].max()*37,5) # Actividad en MBq\n",
    "ax2.set_xticks(MBqs/37) # Ponga los ticks\n",
    "ax2.set_xticklabels(MBqs.astype(int)) # Ponga los Labels\n",
    "ax2.xaxis.set_ticks_position('bottom') # set the position of the second x-axis to bottom\n",
    "ax2.xaxis.set_label_position('bottom') # set the position of the second x-axis to bottom\n",
    "ax2.spines['bottom'].set_position(('outward', 56))\n",
    "ax2.set_xlabel('Actividad [MBq]',fontsize=14)\n",
    "ax2.set_xlim(ax1.get_xlim())\n",
    "ax2.tick_params(labelsize=14)"
   ]
  },
  {
   "cell_type": "code",
   "execution_count": 61,
   "metadata": {},
   "outputs": [
    {
     "data": {
      "text/plain": [
       "count    155.000000\n",
       "mean       4.186452\n",
       "std        0.933161\n",
       "min        2.500000\n",
       "25%        3.100000\n",
       "50%        4.300000\n",
       "75%        4.900000\n",
       "max        5.500000\n",
       "Name: Actdosi, dtype: float64"
      ]
     },
     "execution_count": 61,
     "metadata": {},
     "output_type": "execute_result"
    }
   ],
   "source": [
    "GADOTA['Actdosi'].describe()"
   ]
  },
  {
   "cell_type": "markdown",
   "metadata": {},
   "source": [
    "## $\\color{red}{\\text{Ga-PSMA}}$"
   ]
  },
  {
   "cell_type": "code",
   "execution_count": 23,
   "metadata": {
    "collapsed": true
   },
   "outputs": [],
   "source": [
    "GAPSMA =dat_group_exam.get_group('GAPSMA')"
   ]
  },
  {
   "cell_type": "code",
   "execution_count": 82,
   "metadata": {},
   "outputs": [
    {
     "name": "stderr",
     "output_type": "stream",
     "text": [
      "/Users/Mila/anaconda/lib/python3.5/site-packages/matplotlib/axes/_axes.py:6462: UserWarning: The 'normed' kwarg is deprecated, and has been replaced by the 'density' kwarg.\n",
      "  warnings.warn(\"The 'normed' kwarg is deprecated, and has been \"\n"
     ]
    },
    {
     "data": {
      "image/png": "[encoded data removed]",
      "text/plain": [
       "<Figure size 432x288 with 2 Axes>"
      ]
     },
     "metadata": {},
     "output_type": "display_data"
    }
   ],
   "source": [
    "### Plot the data\n",
    "ax1=plt.subplot(1,1,1)\n",
    "sns.distplot(GAPSMA['Actdosi'],kde=False,color='b',ax=ax1)\n",
    "\n",
    "ax1.set_title('Galio PSMA',fontsize=14)\n",
    "ax1.set_ylabel('Número de Pacientes',fontsize=14)\n",
    "ax1.set_xlabel('Actividad [mCi]',fontsize=14)\n",
    "ax1.tick_params(axis='both',labelsize=14)\n",
    "\n",
    "## Set second x-axis for MBq\n",
    "ax2 = ax1.twiny()\n",
    "MBqs = np.linspace(GAPSMA['Actdosi'].min(),GAPSMA['Actdosi'].max()*37,5) # Actividad en MBq\n",
    "ax2.set_xticks(MBqs/37) # Ponga los ticks\n",
    "ax2.set_xticklabels(MBqs.astype(int)) # Ponga los Labels\n",
    "ax2.xaxis.set_ticks_position('bottom') # set the position of the second x-axis to bottom\n",
    "ax2.xaxis.set_label_position('bottom') # set the position of the second x-axis to bottom\n",
    "ax2.spines['bottom'].set_position(('outward', 56))\n",
    "ax2.set_xlabel('Actividad [MBq]',fontsize=14)\n",
    "ax2.set_xlim(ax1.get_xlim())\n",
    "ax2.tick_params(labelsize=14)"
   ]
  },
  {
   "cell_type": "code",
   "execution_count": 62,
   "metadata": {},
   "outputs": [
    {
     "data": {
      "text/plain": [
       "count    138.000000\n",
       "mean       4.692029\n",
       "std        0.949534\n",
       "min        2.700000\n",
       "25%        4.125000\n",
       "50%        5.000000\n",
       "75%        5.500000\n",
       "max        5.500000\n",
       "Name: Actdosi, dtype: float64"
      ]
     },
     "execution_count": 62,
     "metadata": {},
     "output_type": "execute_result"
    }
   ],
   "source": [
    "GAPSMA['Actdosi'].describe()"
   ]
  },
  {
   "cell_type": "markdown",
   "metadata": {},
   "source": [
    "## Missing Values"
   ]
  },
  {
   "cell_type": "markdown",
   "metadata": {},
   "source": [
    "Eliminar los valores faltantes a lo largo de las columnas \"ActAdm\", \"Actdosi\" y \"Vol\""
   ]
  },
  {
   "cell_type": "code",
   "execution_count": 117,
   "metadata": {},
   "outputs": [
    {
     "data": {
      "text/html": [
       "<div>\n",
       "<table border=\"1\" class=\"dataframe\">\n",
       "  <thead>\n",
       "    <tr style=\"text-align: right;\">\n",
       "      <th></th>\n",
       "      <th>RF</th>\n",
       "      <th>EXAM</th>\n",
       "      <th>ActAdm</th>\n",
       "      <th>Actdosi</th>\n",
       "      <th>Vol</th>\n",
       "    </tr>\n",
       "  </thead>\n",
       "  <tbody>\n",
       "    <tr>\n",
       "      <th>0</th>\n",
       "      <td>False</td>\n",
       "      <td>False</td>\n",
       "      <td>False</td>\n",
       "      <td>False</td>\n",
       "      <td>False</td>\n",
       "    </tr>\n",
       "    <tr>\n",
       "      <th>1</th>\n",
       "      <td>False</td>\n",
       "      <td>False</td>\n",
       "      <td>False</td>\n",
       "      <td>False</td>\n",
       "      <td>False</td>\n",
       "    </tr>\n",
       "    <tr>\n",
       "      <th>2</th>\n",
       "      <td>False</td>\n",
       "      <td>False</td>\n",
       "      <td>False</td>\n",
       "      <td>False</td>\n",
       "      <td>False</td>\n",
       "    </tr>\n",
       "    <tr>\n",
       "      <th>3</th>\n",
       "      <td>False</td>\n",
       "      <td>False</td>\n",
       "      <td>False</td>\n",
       "      <td>False</td>\n",
       "      <td>False</td>\n",
       "    </tr>\n",
       "    <tr>\n",
       "      <th>4</th>\n",
       "      <td>False</td>\n",
       "      <td>False</td>\n",
       "      <td>False</td>\n",
       "      <td>False</td>\n",
       "      <td>False</td>\n",
       "    </tr>\n",
       "  </tbody>\n",
       "</table>\n",
       "</div>"
      ],
      "text/plain": [
       "      RF   EXAM ActAdm Actdosi    Vol\n",
       "0  False  False  False   False  False\n",
       "1  False  False  False   False  False\n",
       "2  False  False  False   False  False\n",
       "3  False  False  False   False  False\n",
       "4  False  False  False   False  False"
      ]
     },
     "execution_count": 117,
     "metadata": {},
     "output_type": "execute_result"
    }
   ],
   "source": [
    "missing_data = data.isnull()\n",
    "missing_data.head(5)"
   ]
  },
  {
   "cell_type": "markdown",
   "metadata": {},
   "source": [
    "### Count missing values in each column\n",
    "Using a for loop in Python, we can quickly figure out the number of missing values in each column. As mentioned above, \"True\" represents a missing value, \"False\" means the value is present in the dataset. In the body of the for loop the method \".value_counts()\" counts the number of \"True\" values."
   ]
  },
  {
   "cell_type": "code",
   "execution_count": 118,
   "metadata": {},
   "outputs": [
    {
     "name": "stdout",
     "output_type": "stream",
     "text": [
      "RF\n",
      "False    1013\n",
      "Name: RF, dtype: int64\n",
      "\n",
      "EXAM\n",
      "False    1013\n",
      "Name: EXAM, dtype: int64\n",
      "\n",
      "ActAdm\n",
      "False    1013\n",
      "Name: ActAdm, dtype: int64\n",
      "\n",
      "Actdosi\n",
      "False    1013\n",
      "Name: Actdosi, dtype: int64\n",
      "\n",
      "Vol\n",
      "False    1012\n",
      "True        1\n",
      "Name: Vol, dtype: int64\n",
      "\n"
     ]
    }
   ],
   "source": [
    "for column in missing_data.columns.values.tolist():\n",
    "    print(column)\n",
    "    print (missing_data[column].value_counts())\n",
    "    print(\"\")    "
   ]
  },
  {
   "cell_type": "markdown",
   "metadata": {},
   "source": [
    "### Deal with missing data\n",
    "Drop the whole row"
   ]
  },
  {
   "cell_type": "code",
   "execution_count": 119,
   "metadata": {
    "collapsed": true
   },
   "outputs": [],
   "source": [
    "# simply drop whole row with NaN in \"Vol\" column\n",
    "data.dropna(subset=[\"Vol\"], axis=0, inplace=True)\n",
    "\n",
    "# reset index, because we droped one row\n",
    "data.reset_index(drop=True, inplace=True)"
   ]
  },
  {
   "cell_type": "markdown",
   "metadata": {},
   "source": [
    "## $\\color{blue}{\\text{Actividad especifica}}$"
   ]
  },
  {
   "cell_type": "code",
   "execution_count": 120,
   "metadata": {
    "collapsed": true
   },
   "outputs": [],
   "source": [
    "especifica=data[\"Actdosi\"]/data[\"Vol\"]\n",
    "data['Esp']= especifica"
   ]
  },
  {
   "cell_type": "markdown",
   "metadata": {},
   "source": [
    "## $\\color{blue}{\\text{Agrupar por Examen }}$ "
   ]
  },
  {
   "cell_type": "code",
   "execution_count": 121,
   "metadata": {
    "collapsed": true
   },
   "outputs": [],
   "source": [
    "data_group_exam = data.groupby(['EXAM'],as_index=False)\n",
    "data_group_rf = data.groupby(['RF'],as_index=False)"
   ]
  },
  {
   "cell_type": "markdown",
   "metadata": {},
   "source": [
    "### Mediana-percentil 50 "
   ]
  },
  {
   "cell_type": "code",
   "execution_count": 122,
   "metadata": {},
   "outputs": [
    {
     "data": {
      "text/html": [
       "<div>\n",
       "<table border=\"1\" class=\"dataframe\">\n",
       "  <thead>\n",
       "    <tr style=\"text-align: right;\">\n",
       "      <th></th>\n",
       "      <th>EXAM</th>\n",
       "      <th>ActAdm</th>\n",
       "      <th>Actdosi</th>\n",
       "      <th>Vol</th>\n",
       "      <th>Esp</th>\n",
       "    </tr>\n",
       "  </thead>\n",
       "  <tbody>\n",
       "    <tr>\n",
       "      <th>0</th>\n",
       "      <td>CENTI</td>\n",
       "      <td>1.0</td>\n",
       "      <td>1.10</td>\n",
       "      <td>0.100</td>\n",
       "      <td>11.000000</td>\n",
       "    </tr>\n",
       "    <tr>\n",
       "      <th>1</th>\n",
       "      <td>DMSA</td>\n",
       "      <td>5.0</td>\n",
       "      <td>5.30</td>\n",
       "      <td>0.100</td>\n",
       "      <td>53.000000</td>\n",
       "    </tr>\n",
       "    <tr>\n",
       "      <th>2</th>\n",
       "      <td>FDG</td>\n",
       "      <td>9.5</td>\n",
       "      <td>19.30</td>\n",
       "      <td>1.800</td>\n",
       "      <td>13.100000</td>\n",
       "    </tr>\n",
       "    <tr>\n",
       "      <th>3</th>\n",
       "      <td>FILTRA</td>\n",
       "      <td>3.0</td>\n",
       "      <td>3.18</td>\n",
       "      <td>0.200</td>\n",
       "      <td>16.000000</td>\n",
       "    </tr>\n",
       "    <tr>\n",
       "      <th>4</th>\n",
       "      <td>GADOTA</td>\n",
       "      <td>4.6</td>\n",
       "      <td>5.49</td>\n",
       "      <td>7.500</td>\n",
       "      <td>0.813333</td>\n",
       "    </tr>\n",
       "    <tr>\n",
       "      <th>5</th>\n",
       "      <td>GAPSMA</td>\n",
       "      <td>5.3</td>\n",
       "      <td>5.50</td>\n",
       "      <td>8.000</td>\n",
       "      <td>0.716667</td>\n",
       "    </tr>\n",
       "    <tr>\n",
       "      <th>6</th>\n",
       "      <td>GPARA</td>\n",
       "      <td>20.0</td>\n",
       "      <td>19.94</td>\n",
       "      <td>0.375</td>\n",
       "      <td>53.421429</td>\n",
       "    </tr>\n",
       "    <tr>\n",
       "      <th>7</th>\n",
       "      <td>MDP</td>\n",
       "      <td>20.0</td>\n",
       "      <td>22.00</td>\n",
       "      <td>0.350</td>\n",
       "      <td>66.666667</td>\n",
       "    </tr>\n",
       "    <tr>\n",
       "      <th>8</th>\n",
       "      <td>RENO</td>\n",
       "      <td>3.0</td>\n",
       "      <td>3.24</td>\n",
       "      <td>0.200</td>\n",
       "      <td>16.000000</td>\n",
       "    </tr>\n",
       "    <tr>\n",
       "      <th>9</th>\n",
       "      <td>ROLLT</td>\n",
       "      <td>3.0</td>\n",
       "      <td>3.10</td>\n",
       "      <td>0.200</td>\n",
       "      <td>15.500000</td>\n",
       "    </tr>\n",
       "    <tr>\n",
       "      <th>10</th>\n",
       "      <td>VENTRI</td>\n",
       "      <td>20.0</td>\n",
       "      <td>22.00</td>\n",
       "      <td>0.200</td>\n",
       "      <td>110.000000</td>\n",
       "    </tr>\n",
       "  </tbody>\n",
       "</table>\n",
       "</div>"
      ],
      "text/plain": [
       "      EXAM  ActAdm  Actdosi    Vol         Esp\n",
       "0    CENTI     1.0     1.10  0.100   11.000000\n",
       "1     DMSA     5.0     5.30  0.100   53.000000\n",
       "2      FDG     9.5    19.30  1.800   13.100000\n",
       "3   FILTRA     3.0     3.18  0.200   16.000000\n",
       "4   GADOTA     4.6     5.49  7.500    0.813333\n",
       "5   GAPSMA     5.3     5.50  8.000    0.716667\n",
       "6    GPARA    20.0    19.94  0.375   53.421429\n",
       "7      MDP    20.0    22.00  0.350   66.666667\n",
       "8     RENO     3.0     3.24  0.200   16.000000\n",
       "9    ROLLT     3.0     3.10  0.200   15.500000\n",
       "10  VENTRI    20.0    22.00  0.200  110.000000"
      ]
     },
     "execution_count": 122,
     "metadata": {},
     "output_type": "execute_result"
    }
   ],
   "source": [
    "data_group_exam.median()"
   ]
  },
  {
   "cell_type": "markdown",
   "metadata": {},
   "source": [
    "### Minimo"
   ]
  },
  {
   "cell_type": "code",
   "execution_count": 123,
   "metadata": {},
   "outputs": [
    {
     "data": {
      "text/html": [
       "<div>\n",
       "<table border=\"1\" class=\"dataframe\">\n",
       "  <thead>\n",
       "    <tr style=\"text-align: right;\">\n",
       "      <th></th>\n",
       "      <th>EXAM</th>\n",
       "      <th>RF</th>\n",
       "      <th>ActAdm</th>\n",
       "      <th>Actdosi</th>\n",
       "      <th>Vol</th>\n",
       "      <th>Esp</th>\n",
       "    </tr>\n",
       "  </thead>\n",
       "  <tbody>\n",
       "    <tr>\n",
       "      <th>0</th>\n",
       "      <td>CENTI</td>\n",
       "      <td>Tc</td>\n",
       "      <td>0.25</td>\n",
       "      <td>0.21</td>\n",
       "      <td>0.10</td>\n",
       "      <td>2.100000</td>\n",
       "    </tr>\n",
       "    <tr>\n",
       "      <th>1</th>\n",
       "      <td>DMSA</td>\n",
       "      <td>Tc</td>\n",
       "      <td>5.00</td>\n",
       "      <td>5.30</td>\n",
       "      <td>0.10</td>\n",
       "      <td>53.000000</td>\n",
       "    </tr>\n",
       "    <tr>\n",
       "      <th>2</th>\n",
       "      <td>FDG</td>\n",
       "      <td>F</td>\n",
       "      <td>2.50</td>\n",
       "      <td>3.06</td>\n",
       "      <td>1.00</td>\n",
       "      <td>1.530000</td>\n",
       "    </tr>\n",
       "    <tr>\n",
       "      <th>3</th>\n",
       "      <td>FILTRA</td>\n",
       "      <td>Tc</td>\n",
       "      <td>3.00</td>\n",
       "      <td>3.00</td>\n",
       "      <td>0.10</td>\n",
       "      <td>3.000000</td>\n",
       "    </tr>\n",
       "    <tr>\n",
       "      <th>4</th>\n",
       "      <td>GADOTA</td>\n",
       "      <td>Ga</td>\n",
       "      <td>2.50</td>\n",
       "      <td>2.60</td>\n",
       "      <td>3.00</td>\n",
       "      <td>0.325000</td>\n",
       "    </tr>\n",
       "    <tr>\n",
       "      <th>5</th>\n",
       "      <td>GAPSMA</td>\n",
       "      <td>Ga</td>\n",
       "      <td>3.50</td>\n",
       "      <td>3.30</td>\n",
       "      <td>4.00</td>\n",
       "      <td>0.412500</td>\n",
       "    </tr>\n",
       "    <tr>\n",
       "      <th>6</th>\n",
       "      <td>GPARA</td>\n",
       "      <td>Tc</td>\n",
       "      <td>20.00</td>\n",
       "      <td>19.88</td>\n",
       "      <td>0.35</td>\n",
       "      <td>49.700000</td>\n",
       "    </tr>\n",
       "    <tr>\n",
       "      <th>7</th>\n",
       "      <td>MDP</td>\n",
       "      <td>Tc</td>\n",
       "      <td>15.00</td>\n",
       "      <td>15.00</td>\n",
       "      <td>0.15</td>\n",
       "      <td>23.090909</td>\n",
       "    </tr>\n",
       "    <tr>\n",
       "      <th>8</th>\n",
       "      <td>RENO</td>\n",
       "      <td>Tc</td>\n",
       "      <td>3.00</td>\n",
       "      <td>3.00</td>\n",
       "      <td>0.10</td>\n",
       "      <td>11.600000</td>\n",
       "    </tr>\n",
       "    <tr>\n",
       "      <th>9</th>\n",
       "      <td>ROLLT</td>\n",
       "      <td>Tc</td>\n",
       "      <td>3.00</td>\n",
       "      <td>3.07</td>\n",
       "      <td>0.16</td>\n",
       "      <td>12.600000</td>\n",
       "    </tr>\n",
       "    <tr>\n",
       "      <th>10</th>\n",
       "      <td>VENTRI</td>\n",
       "      <td>Tc</td>\n",
       "      <td>20.00</td>\n",
       "      <td>20.00</td>\n",
       "      <td>0.10</td>\n",
       "      <td>13.400000</td>\n",
       "    </tr>\n",
       "  </tbody>\n",
       "</table>\n",
       "</div>"
      ],
      "text/plain": [
       "      EXAM  RF  ActAdm  Actdosi   Vol        Esp\n",
       "0    CENTI  Tc    0.25     0.21  0.10   2.100000\n",
       "1     DMSA  Tc    5.00     5.30  0.10  53.000000\n",
       "2      FDG   F    2.50     3.06  1.00   1.530000\n",
       "3   FILTRA  Tc    3.00     3.00  0.10   3.000000\n",
       "4   GADOTA  Ga    2.50     2.60  3.00   0.325000\n",
       "5   GAPSMA  Ga    3.50     3.30  4.00   0.412500\n",
       "6    GPARA  Tc   20.00    19.88  0.35  49.700000\n",
       "7      MDP  Tc   15.00    15.00  0.15  23.090909\n",
       "8     RENO  Tc    3.00     3.00  0.10  11.600000\n",
       "9    ROLLT  Tc    3.00     3.07  0.16  12.600000\n",
       "10  VENTRI  Tc   20.00    20.00  0.10  13.400000"
      ]
     },
     "execution_count": 123,
     "metadata": {},
     "output_type": "execute_result"
    }
   ],
   "source": [
    "data_group_exam.min()"
   ]
  },
  {
   "cell_type": "markdown",
   "metadata": {},
   "source": [
    "### Máximo"
   ]
  },
  {
   "cell_type": "code",
   "execution_count": 124,
   "metadata": {},
   "outputs": [
    {
     "data": {
      "text/html": [
       "<div>\n",
       "<table border=\"1\" class=\"dataframe\">\n",
       "  <thead>\n",
       "    <tr style=\"text-align: right;\">\n",
       "      <th></th>\n",
       "      <th>EXAM</th>\n",
       "      <th>RF</th>\n",
       "      <th>ActAdm</th>\n",
       "      <th>Actdosi</th>\n",
       "      <th>Vol</th>\n",
       "      <th>Esp</th>\n",
       "    </tr>\n",
       "  </thead>\n",
       "  <tbody>\n",
       "    <tr>\n",
       "      <th>0</th>\n",
       "      <td>CENTI</td>\n",
       "      <td>Tc</td>\n",
       "      <td>3.0</td>\n",
       "      <td>4.32</td>\n",
       "      <td>0.3</td>\n",
       "      <td>28.333333</td>\n",
       "    </tr>\n",
       "    <tr>\n",
       "      <th>1</th>\n",
       "      <td>DMSA</td>\n",
       "      <td>Tc</td>\n",
       "      <td>5.0</td>\n",
       "      <td>5.30</td>\n",
       "      <td>0.1</td>\n",
       "      <td>53.000000</td>\n",
       "    </tr>\n",
       "    <tr>\n",
       "      <th>2</th>\n",
       "      <td>FDG</td>\n",
       "      <td>F</td>\n",
       "      <td>15.0</td>\n",
       "      <td>89.00</td>\n",
       "      <td>4.0</td>\n",
       "      <td>64.600000</td>\n",
       "    </tr>\n",
       "    <tr>\n",
       "      <th>3</th>\n",
       "      <td>FILTRA</td>\n",
       "      <td>Tc</td>\n",
       "      <td>20.0</td>\n",
       "      <td>20.00</td>\n",
       "      <td>1.0</td>\n",
       "      <td>30.000000</td>\n",
       "    </tr>\n",
       "    <tr>\n",
       "      <th>4</th>\n",
       "      <td>GADOTA</td>\n",
       "      <td>Ga</td>\n",
       "      <td>5.5</td>\n",
       "      <td>12.20</td>\n",
       "      <td>10.0</td>\n",
       "      <td>1.933333</td>\n",
       "    </tr>\n",
       "    <tr>\n",
       "      <th>5</th>\n",
       "      <td>GAPSMA</td>\n",
       "      <td>Ga</td>\n",
       "      <td>5.5</td>\n",
       "      <td>14.00</td>\n",
       "      <td>10.0</td>\n",
       "      <td>2.333333</td>\n",
       "    </tr>\n",
       "    <tr>\n",
       "      <th>6</th>\n",
       "      <td>GPARA</td>\n",
       "      <td>Tc</td>\n",
       "      <td>20.0</td>\n",
       "      <td>20.00</td>\n",
       "      <td>0.4</td>\n",
       "      <td>57.142857</td>\n",
       "    </tr>\n",
       "    <tr>\n",
       "      <th>7</th>\n",
       "      <td>MDP</td>\n",
       "      <td>Tc</td>\n",
       "      <td>25.0</td>\n",
       "      <td>32.60</td>\n",
       "      <td>1.1</td>\n",
       "      <td>134.000000</td>\n",
       "    </tr>\n",
       "    <tr>\n",
       "      <th>8</th>\n",
       "      <td>RENO</td>\n",
       "      <td>Tc</td>\n",
       "      <td>3.0</td>\n",
       "      <td>3.80</td>\n",
       "      <td>0.3</td>\n",
       "      <td>33.000000</td>\n",
       "    </tr>\n",
       "    <tr>\n",
       "      <th>9</th>\n",
       "      <td>ROLLT</td>\n",
       "      <td>Tc</td>\n",
       "      <td>3.0</td>\n",
       "      <td>3.78</td>\n",
       "      <td>0.3</td>\n",
       "      <td>19.187500</td>\n",
       "    </tr>\n",
       "    <tr>\n",
       "      <th>10</th>\n",
       "      <td>VENTRI</td>\n",
       "      <td>Tc</td>\n",
       "      <td>20.0</td>\n",
       "      <td>26.00</td>\n",
       "      <td>1.5</td>\n",
       "      <td>238.000000</td>\n",
       "    </tr>\n",
       "  </tbody>\n",
       "</table>\n",
       "</div>"
      ],
      "text/plain": [
       "      EXAM  RF  ActAdm  Actdosi   Vol         Esp\n",
       "0    CENTI  Tc     3.0     4.32   0.3   28.333333\n",
       "1     DMSA  Tc     5.0     5.30   0.1   53.000000\n",
       "2      FDG   F    15.0    89.00   4.0   64.600000\n",
       "3   FILTRA  Tc    20.0    20.00   1.0   30.000000\n",
       "4   GADOTA  Ga     5.5    12.20  10.0    1.933333\n",
       "5   GAPSMA  Ga     5.5    14.00  10.0    2.333333\n",
       "6    GPARA  Tc    20.0    20.00   0.4   57.142857\n",
       "7      MDP  Tc    25.0    32.60   1.1  134.000000\n",
       "8     RENO  Tc     3.0     3.80   0.3   33.000000\n",
       "9    ROLLT  Tc     3.0     3.78   0.3   19.187500\n",
       "10  VENTRI  Tc    20.0    26.00   1.5  238.000000"
      ]
     },
     "execution_count": 124,
     "metadata": {},
     "output_type": "execute_result"
    }
   ],
   "source": [
    "data_group_exam.max()"
   ]
  },
  {
   "cell_type": "markdown",
   "metadata": {},
   "source": [
    "### Desviación Estandar"
   ]
  },
  {
   "cell_type": "code",
   "execution_count": 125,
   "metadata": {},
   "outputs": [
    {
     "ename": "AttributeError",
     "evalue": "'str' object has no attribute 'sqrt'",
     "output_type": "error",
     "traceback": [
      "\u001b[0;31m---------------------------------------------------------------------------\u001b[0m",
      "\u001b[0;31mAttributeError\u001b[0m                            Traceback (most recent call last)",
      "\u001b[0;32m<ipython-input-125-3b1e7dffc7b0>\u001b[0m in \u001b[0;36m<module>\u001b[0;34m()\u001b[0m\n\u001b[0;32m----> 1\u001b[0;31m \u001b[0mdata_group_exam\u001b[0m\u001b[0;34m.\u001b[0m\u001b[0mstd\u001b[0m\u001b[0;34m(\u001b[0m\u001b[0;34m)\u001b[0m\u001b[0;34m\u001b[0m\u001b[0m\n\u001b[0m",
      "\u001b[0;32m/Users/Mila/anaconda/lib/python3.5/site-packages/pandas/core/groupby.py\u001b[0m in \u001b[0;36mstd\u001b[0;34m(self, ddof, *args, **kwargs)\u001b[0m\n\u001b[1;32m   1063\u001b[0m         \u001b[0;31m# TODO: implement at Cython level?\u001b[0m\u001b[0;34m\u001b[0m\u001b[0;34m\u001b[0m\u001b[0m\n\u001b[1;32m   1064\u001b[0m         \u001b[0mnv\u001b[0m\u001b[0;34m.\u001b[0m\u001b[0mvalidate_groupby_func\u001b[0m\u001b[0;34m(\u001b[0m\u001b[0;34m'std'\u001b[0m\u001b[0;34m,\u001b[0m \u001b[0margs\u001b[0m\u001b[0;34m,\u001b[0m \u001b[0mkwargs\u001b[0m\u001b[0;34m)\u001b[0m\u001b[0;34m\u001b[0m\u001b[0m\n\u001b[0;32m-> 1065\u001b[0;31m         \u001b[0;32mreturn\u001b[0m \u001b[0mnp\u001b[0m\u001b[0;34m.\u001b[0m\u001b[0msqrt\u001b[0m\u001b[0;34m(\u001b[0m\u001b[0mself\u001b[0m\u001b[0;34m.\u001b[0m\u001b[0mvar\u001b[0m\u001b[0;34m(\u001b[0m\u001b[0mddof\u001b[0m\u001b[0;34m=\u001b[0m\u001b[0mddof\u001b[0m\u001b[0;34m)\u001b[0m\u001b[0;34m)\u001b[0m\u001b[0;34m\u001b[0m\u001b[0m\n\u001b[0m\u001b[1;32m   1066\u001b[0m \u001b[0;34m\u001b[0m\u001b[0m\n\u001b[1;32m   1067\u001b[0m     \u001b[0;34m@\u001b[0m\u001b[0mSubstitution\u001b[0m\u001b[0;34m(\u001b[0m\u001b[0mname\u001b[0m\u001b[0;34m=\u001b[0m\u001b[0;34m'groupby'\u001b[0m\u001b[0;34m)\u001b[0m\u001b[0;34m\u001b[0m\u001b[0m\n",
      "\u001b[0;31mAttributeError\u001b[0m: 'str' object has no attribute 'sqrt'"
     ]
    }
   ],
   "source": [
    "data_group_exam.std()"
   ]
  },
  {
   "cell_type": "code",
   "execution_count": 83,
   "metadata": {},
   "outputs": [],
   "source": [
    "## Variables Categóricas\n",
    "##Datos de tecneciados corresponden al mes de Enero de 2019. Datos de FDG corresponden a Enero-27 Junio de 2019. Datos Ga DOTA de Enero-Octubre de 2019. \n",
    "#Datos de Ga PSMA de Enero-Octubre de 2019\n",
    "#dat_group_rf = dat.groupby(['RF'],as_index=False).sum()\n",
    "#dat_group_rf\n",
    "######Conteo de variables categoricas\n",
    "####GROUP BY in Python \n",
    "#data_test =dat[['RF','EXAM']]\n",
    "#data[\"RF\"].value_counts()\n",
    "#sns.countplot(y=\"RF\", data=data,orient=\"h\",color=\"c\")\n",
    "######Conteo de variables categoricas\n",
    "#data[\"EXAM\"].value_counts()\n",
    "#sns.countplot(y=\"EXAM\", data=data,orient=\"h\",color=\"c\")\n",
    "#plt.bar(dat_group_rf['RF'],dat_group_rf['Vol'])\n",
    "#dat_group_exam = dat.groupby(['EXAM'],as_index=False).sum()\n",
    "#dat_group_exam\n",
    "#plt.bar(dat_group_exam['EXAM'],dat_group_exam['Vol'])"
   ]
  },
  {
   "cell_type": "markdown",
   "metadata": {},
   "source": []
  },
  {
   "cell_type": "markdown",
   "metadata": {},
   "source": [
    "Filtrando datos por Radiofarmaco : Tc-99m(Tc), F-18(F), Ga-68 PSMA(GaPSMA) y Ga-68 DOTA(GaDOTA). "
   ]
  },
  {
   "cell_type": "markdown",
   "metadata": {},
   "source": [
    "## Variables Númericas "
   ]
  },
  {
   "cell_type": "markdown",
   "metadata": {},
   "source": [
    "## $\\color{red}{\\text{Tc-99m}}$"
   ]
  },
  {
   "cell_type": "code",
   "execution_count": 126,
   "metadata": {
    "collapsed": true
   },
   "outputs": [],
   "source": [
    "######################################### Tc-99m ##############################################\n",
    "#Tecnecio = ['Tc']\n",
    "#data_Tc =data[data.RF.isin(Tecnecio)]\n",
    "#data_Tc.shape\n",
    "\n",
    "data_Tc=data_group_rf.get_group('Tc')"
   ]
  },
  {
   "cell_type": "code",
   "execution_count": 127,
   "metadata": {},
   "outputs": [
    {
     "data": {
      "text/plain": [
       "<matplotlib.axes._subplots.AxesSubplot at 0x1a1d7c9e80>"
      ]
     },
     "execution_count": 127,
     "metadata": {},
     "output_type": "execute_result"
    },
    {
     "data": {
      "image/png": "[encoded data removed]",
      "text/plain": [
       "<Figure size 432x288 with 1 Axes>"
      ]
     },
     "metadata": {},
     "output_type": "display_data"
    }
   ],
   "source": [
    "sns.boxplot(x=\"EXAM\", y=\"Actdosi\", data=data_Tc)"
   ]
  },
  {
   "cell_type": "code",
   "execution_count": 128,
   "metadata": {},
   "outputs": [
    {
     "data": {
      "text/plain": [
       "<matplotlib.axes._subplots.AxesSubplot at 0x1a1d8d5c50>"
      ]
     },
     "execution_count": 128,
     "metadata": {},
     "output_type": "execute_result"
    },
    {
     "data": {
      "image/png": "[encoded data removed]",
      "text/plain": [
       "<Figure size 432x288 with 1 Axes>"
      ]
     },
     "metadata": {},
     "output_type": "display_data"
    }
   ],
   "source": [
    "sns.boxplot(x=\"EXAM\", y=\"ActAdm\", data=data_Tc)"
   ]
  },
  {
   "cell_type": "code",
   "execution_count": 129,
   "metadata": {},
   "outputs": [
    {
     "data": {
      "text/plain": [
       "<matplotlib.axes._subplots.AxesSubplot at 0x1a1d9c4780>"
      ]
     },
     "execution_count": 129,
     "metadata": {},
     "output_type": "execute_result"
    },
    {
     "data": {
      "image/png": "[encoded data removed]",
      "text/plain": [
       "<Figure size 432x288 with 1 Axes>"
      ]
     },
     "metadata": {},
     "output_type": "display_data"
    }
   ],
   "source": [
    "sns.boxplot(x=\"EXAM\", y=\"Vol\", data=data_Tc)"
   ]
  },
  {
   "cell_type": "code",
   "execution_count": 130,
   "metadata": {},
   "outputs": [
    {
     "data": {
      "text/plain": [
       "<matplotlib.axes._subplots.AxesSubplot at 0x1a1dab7a58>"
      ]
     },
     "execution_count": 130,
     "metadata": {},
     "output_type": "execute_result"
    },
    {
     "data": {
      "image/png": "[encoded data removed]",
      "text/plain": [
       "<Figure size 432x288 with 1 Axes>"
      ]
     },
     "metadata": {},
     "output_type": "display_data"
    }
   ],
   "source": [
    "sns.boxplot(x=\"EXAM\", y=\"Esp\", data=data_Tc)"
   ]
  },
  {
   "cell_type": "code",
   "execution_count": 136,
   "metadata": {
    "collapsed": true
   },
   "outputs": [],
   "source": [
    "MDP =data_group_exam.get_group('MDP')"
   ]
  },
  {
   "cell_type": "code",
   "execution_count": 137,
   "metadata": {},
   "outputs": [
    {
     "data": {
      "text/plain": [
       "ActAdm      1.132277\n",
       "Actdosi     2.436212\n",
       "Vol         0.104408\n",
       "Esp        16.646655\n",
       "dtype: float64"
      ]
     },
     "execution_count": 137,
     "metadata": {},
     "output_type": "execute_result"
    }
   ],
   "source": [
    "MDP.std()"
   ]
  },
  {
   "cell_type": "code",
   "execution_count": 138,
   "metadata": {},
   "outputs": [
    {
     "name": "stderr",
     "output_type": "stream",
     "text": [
      "/Users/Mila/anaconda/lib/python3.5/site-packages/matplotlib/axes/_axes.py:6462: UserWarning: The 'normed' kwarg is deprecated, and has been replaced by the 'density' kwarg.\n",
      "  warnings.warn(\"The 'normed' kwarg is deprecated, and has been \"\n"
     ]
    },
    {
     "data": {
      "text/plain": [
       "<matplotlib.axes._subplots.AxesSubplot at 0x1a1dbb0908>"
      ]
     },
     "execution_count": 138,
     "metadata": {},
     "output_type": "execute_result"
    },
    {
     "data": {
      "image/png": "[encoded data removed]",
      "text/plain": [
       "<Figure size 432x288 with 1 Axes>"
      ]
     },
     "metadata": {},
     "output_type": "display_data"
    }
   ],
   "source": [
    "sns.distplot(MDP['Actdosi'],kde=False,color='b')"
   ]
  },
  {
   "cell_type": "code",
   "execution_count": 139,
   "metadata": {
    "collapsed": true
   },
   "outputs": [],
   "source": [
    "VENTRI =data_group_exam.get_group('VENTRI')"
   ]
  },
  {
   "cell_type": "code",
   "execution_count": 140,
   "metadata": {},
   "outputs": [
    {
     "data": {
      "text/plain": [
       "ActAdm      0.000000\n",
       "Actdosi     1.549877\n",
       "Vol         0.258241\n",
       "Esp        55.871759\n",
       "dtype: float64"
      ]
     },
     "execution_count": 140,
     "metadata": {},
     "output_type": "execute_result"
    }
   ],
   "source": [
    "VENTRI.std()"
   ]
  },
  {
   "cell_type": "code",
   "execution_count": 141,
   "metadata": {},
   "outputs": [
    {
     "name": "stderr",
     "output_type": "stream",
     "text": [
      "/Users/Mila/anaconda/lib/python3.5/site-packages/matplotlib/axes/_axes.py:6462: UserWarning: The 'normed' kwarg is deprecated, and has been replaced by the 'density' kwarg.\n",
      "  warnings.warn(\"The 'normed' kwarg is deprecated, and has been \"\n"
     ]
    },
    {
     "data": {
      "text/plain": [
       "<matplotlib.axes._subplots.AxesSubplot at 0x1a1dc5a358>"
      ]
     },
     "execution_count": 141,
     "metadata": {},
     "output_type": "execute_result"
    },
    {
     "data": {
      "image/png": "[encoded data removed]",
      "text/plain": [
       "<Figure size 432x288 with 1 Axes>"
      ]
     },
     "metadata": {},
     "output_type": "display_data"
    }
   ],
   "source": [
    "sns.distplot(VENTRI['Actdosi'],kde=False,color='b')"
   ]
  },
  {
   "cell_type": "markdown",
   "metadata": {},
   "source": [
    "## $\\color{red}{\\text{F-18}}$"
   ]
  },
  {
   "cell_type": "code",
   "execution_count": 91,
   "metadata": {
    "collapsed": true
   },
   "outputs": [],
   "source": [
    "######################################### F-18 ##############################################\n",
    "#Fluor = ['F']\n",
    "#data_F =data[data.RF.isin(Fluor)]\n",
    "#data_F.shape\n",
    "\n",
    "data_F=data_group_rf.get_group('F')"
   ]
  },
  {
   "cell_type": "code",
   "execution_count": 150,
   "metadata": {},
   "outputs": [
    {
     "data": {
      "text/plain": [
       "<matplotlib.axes._subplots.AxesSubplot at 0x1a1de4d9b0>"
      ]
     },
     "execution_count": 150,
     "metadata": {},
     "output_type": "execute_result"
    },
    {
     "data": {
      "image/png": "[encoded data removed]",
      "text/plain": [
       "<Figure size 432x288 with 1 Axes>"
      ]
     },
     "metadata": {},
     "output_type": "display_data"
    }
   ],
   "source": [
    "sns.boxplot(x=\"EXAM\", y=\"Actdosi\", data=data_F)"
   ]
  },
  {
   "cell_type": "code",
   "execution_count": 151,
   "metadata": {},
   "outputs": [
    {
     "data": {
      "text/html": [
       "<div>\n",
       "<table border=\"1\" class=\"dataframe\">\n",
       "  <thead>\n",
       "    <tr style=\"text-align: right;\">\n",
       "      <th></th>\n",
       "      <th>ActAdm</th>\n",
       "      <th>Actdosi</th>\n",
       "      <th>Vol</th>\n",
       "      <th>Esp</th>\n",
       "    </tr>\n",
       "  </thead>\n",
       "  <tbody>\n",
       "    <tr>\n",
       "      <th>count</th>\n",
       "      <td>553.000000</td>\n",
       "      <td>553.000000</td>\n",
       "      <td>553.000000</td>\n",
       "      <td>553.000000</td>\n",
       "    </tr>\n",
       "    <tr>\n",
       "      <th>mean</th>\n",
       "      <td>9.445136</td>\n",
       "      <td>23.434521</td>\n",
       "      <td>1.635805</td>\n",
       "      <td>15.460020</td>\n",
       "    </tr>\n",
       "    <tr>\n",
       "      <th>std</th>\n",
       "      <td>2.222082</td>\n",
       "      <td>13.625090</td>\n",
       "      <td>0.523075</td>\n",
       "      <td>9.334624</td>\n",
       "    </tr>\n",
       "    <tr>\n",
       "      <th>min</th>\n",
       "      <td>2.500000</td>\n",
       "      <td>3.060000</td>\n",
       "      <td>1.000000</td>\n",
       "      <td>1.530000</td>\n",
       "    </tr>\n",
       "    <tr>\n",
       "      <th>25%</th>\n",
       "      <td>8.100000</td>\n",
       "      <td>14.000000</td>\n",
       "      <td>1.000000</td>\n",
       "      <td>8.888889</td>\n",
       "    </tr>\n",
       "    <tr>\n",
       "      <th>50%</th>\n",
       "      <td>9.500000</td>\n",
       "      <td>19.300000</td>\n",
       "      <td>1.800000</td>\n",
       "      <td>13.100000</td>\n",
       "    </tr>\n",
       "    <tr>\n",
       "      <th>75%</th>\n",
       "      <td>10.800000</td>\n",
       "      <td>29.000000</td>\n",
       "      <td>2.000000</td>\n",
       "      <td>19.500000</td>\n",
       "    </tr>\n",
       "    <tr>\n",
       "      <th>max</th>\n",
       "      <td>15.000000</td>\n",
       "      <td>89.000000</td>\n",
       "      <td>4.000000</td>\n",
       "      <td>64.600000</td>\n",
       "    </tr>\n",
       "  </tbody>\n",
       "</table>\n",
       "</div>"
      ],
      "text/plain": [
       "           ActAdm     Actdosi         Vol         Esp\n",
       "count  553.000000  553.000000  553.000000  553.000000\n",
       "mean     9.445136   23.434521    1.635805   15.460020\n",
       "std      2.222082   13.625090    0.523075    9.334624\n",
       "min      2.500000    3.060000    1.000000    1.530000\n",
       "25%      8.100000   14.000000    1.000000    8.888889\n",
       "50%      9.500000   19.300000    1.800000   13.100000\n",
       "75%     10.800000   29.000000    2.000000   19.500000\n",
       "max     15.000000   89.000000    4.000000   64.600000"
      ]
     },
     "execution_count": 151,
     "metadata": {},
     "output_type": "execute_result"
    }
   ],
   "source": [
    "data_F.describe()"
   ]
  },
  {
   "cell_type": "code",
   "execution_count": 95,
   "metadata": {},
   "outputs": [
    {
     "name": "stderr",
     "output_type": "stream",
     "text": [
      "/Users/Mila/anaconda/lib/python3.5/site-packages/matplotlib/axes/_axes.py:6462: UserWarning: The 'normed' kwarg is deprecated, and has been replaced by the 'density' kwarg.\n",
      "  warnings.warn(\"The 'normed' kwarg is deprecated, and has been \"\n"
     ]
    },
    {
     "data": {
      "text/plain": [
       "Text(0,0.5,'Número de Pacientes')"
      ]
     },
     "execution_count": 95,
     "metadata": {},
     "output_type": "execute_result"
    },
    {
     "data": {
      "image/png": "[encoded data removed]",
      "text/plain": [
       "<Figure size 432x288 with 1 Axes>"
      ]
     },
     "metadata": {},
     "output_type": "display_data"
    }
   ],
   "source": [
    "sns.distplot(data_F['Actdosi'],kde=False,color='b')\n",
    "plt.title('F-18 FDG')\n",
    "plt.xlabel('Actividad Dosificada [mCi]')\n",
    "plt.ylabel('Número de Pacientes')"
   ]
  },
  {
   "cell_type": "code",
   "execution_count": 97,
   "metadata": {},
   "outputs": [
    {
     "name": "stderr",
     "output_type": "stream",
     "text": [
      "/Users/Mila/anaconda/lib/python3.5/site-packages/matplotlib/axes/_axes.py:6462: UserWarning: The 'normed' kwarg is deprecated, and has been replaced by the 'density' kwarg.\n",
      "  warnings.warn(\"The 'normed' kwarg is deprecated, and has been \"\n"
     ]
    },
    {
     "data": {
      "text/plain": [
       "Text(0,0.5,'Número de Pacientes')"
      ]
     },
     "execution_count": 97,
     "metadata": {},
     "output_type": "execute_result"
    },
    {
     "data": {
      "image/png": "[encoded data removed]",
      "text/plain": [
       "<Figure size 432x288 with 1 Axes>"
      ]
     },
     "metadata": {},
     "output_type": "display_data"
    }
   ],
   "source": [
    "sns.distplot(data_F['Esp'],kde=False,color='b')\n",
    "plt.title('F-18 FDG')\n",
    "plt.xlabel('Actividad Especifica [mCi/mL]')\n",
    "plt.ylabel('Número de Pacientes')"
   ]
  },
  {
   "cell_type": "code",
   "execution_count": 98,
   "metadata": {},
   "outputs": [
    {
     "name": "stderr",
     "output_type": "stream",
     "text": [
      "/Users/Mila/anaconda/lib/python3.5/site-packages/matplotlib/axes/_axes.py:6462: UserWarning: The 'normed' kwarg is deprecated, and has been replaced by the 'density' kwarg.\n",
      "  warnings.warn(\"The 'normed' kwarg is deprecated, and has been \"\n"
     ]
    },
    {
     "data": {
      "text/plain": [
       "Text(0,0.5,'Número de Pacientes')"
      ]
     },
     "execution_count": 98,
     "metadata": {},
     "output_type": "execute_result"
    },
    {
     "data": {
      "image/png": "[encoded data removed]",
      "text/plain": [
       "<Figure size 432x288 with 1 Axes>"
      ]
     },
     "metadata": {},
     "output_type": "display_data"
    }
   ],
   "source": [
    "sns.distplot(data_F['ActAdm'],kde=False,color='b')\n",
    "plt.title('F-18 FDG')\n",
    "plt.xlabel('Actividad Administrada [mCi]')\n",
    "plt.ylabel('Número de Pacientes')"
   ]
  },
  {
   "cell_type": "markdown",
   "metadata": {},
   "source": [
    "## $\\color{red}{\\text{Ga-68}}$"
   ]
  },
  {
   "cell_type": "code",
   "execution_count": 144,
   "metadata": {
    "collapsed": true
   },
   "outputs": [],
   "source": [
    "######################################### Ga-68 ##############################################\n",
    "data_Ga=data_group_rf.get_group('Ga')"
   ]
  },
  {
   "cell_type": "code",
   "execution_count": 145,
   "metadata": {},
   "outputs": [
    {
     "data": {
      "text/plain": [
       "<matplotlib.axes._subplots.AxesSubplot at 0x1a1dc86b38>"
      ]
     },
     "execution_count": 145,
     "metadata": {},
     "output_type": "execute_result"
    },
    {
     "data": {
      "image/png": "[encoded data removed]",
      "text/plain": [
       "<Figure size 432x288 with 1 Axes>"
      ]
     },
     "metadata": {},
     "output_type": "display_data"
    }
   ],
   "source": [
    "sns.boxplot(x=\"EXAM\", y=\"Actdosi\", data=data_Ga)"
   ]
  },
  {
   "cell_type": "code",
   "execution_count": 147,
   "metadata": {
    "collapsed": true
   },
   "outputs": [],
   "source": [
    "GADOTA =data_group_exam.get_group('GADOTA')"
   ]
  },
  {
   "cell_type": "code",
   "execution_count": 149,
   "metadata": {},
   "outputs": [
    {
     "data": {
      "text/plain": [
       "ActAdm     0.736526\n",
       "Actdosi    2.170093\n",
       "Vol        1.366018\n",
       "Esp        0.380747\n",
       "dtype: float64"
      ]
     },
     "execution_count": 149,
     "metadata": {},
     "output_type": "execute_result"
    }
   ],
   "source": [
    "GADOTA.std()"
   ]
  },
  {
   "cell_type": "code",
   "execution_count": 148,
   "metadata": {},
   "outputs": [
    {
     "name": "stderr",
     "output_type": "stream",
     "text": [
      "/Users/Mila/anaconda/lib/python3.5/site-packages/matplotlib/axes/_axes.py:6462: UserWarning: The 'normed' kwarg is deprecated, and has been replaced by the 'density' kwarg.\n",
      "  warnings.warn(\"The 'normed' kwarg is deprecated, and has been \"\n"
     ]
    },
    {
     "data": {
      "text/plain": [
       "<matplotlib.axes._subplots.AxesSubplot at 0x1a1dd92a90>"
      ]
     },
     "execution_count": 148,
     "metadata": {},
     "output_type": "execute_result"
    },
    {
     "data": {
      "image/png": "[encoded data removed]",
      "text/plain": [
       "<Figure size 432x288 with 1 Axes>"
      ]
     },
     "metadata": {},
     "output_type": "display_data"
    }
   ],
   "source": [
    "sns.distplot(GADOTA['Actdosi'],kde=False,color='b')"
   ]
  },
  {
   "cell_type": "code",
   "execution_count": null,
   "metadata": {
    "collapsed": true
   },
   "outputs": [],
   "source": []
  }
 ],
 "metadata": {
  "kernelspec": {
   "display_name": "Python 3",
   "language": "python",
   "name": "python3"
  },
  "language_info": {
   "codemirror_mode": {
    "name": "ipython",
    "version": 3
   },
   "file_extension": ".py",
   "mimetype": "text/x-python",
   "name": "python",
   "nbconvert_exporter": "python",
   "pygments_lexer": "ipython3",
   "version": "3.5.5"
  }
 },
 "nbformat": 4,
 "nbformat_minor": 2
}
