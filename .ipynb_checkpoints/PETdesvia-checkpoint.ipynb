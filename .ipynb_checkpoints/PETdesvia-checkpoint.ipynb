{
 "cells": [
  {
   "cell_type": "markdown",
   "metadata": {},
   "source": [
    "## Comparison of injected activity with prescribed activity in PET exams "
   ]
  },
  {
   "cell_type": "code",
   "execution_count": 138,
   "metadata": {
    "collapsed": true
   },
   "outputs": [],
   "source": [
    "import numpy as np\n",
    "import pandas as pd\n",
    "import matplotlib.pyplot as plt\n",
    "\n",
    "%matplotlib inline\n",
    "\n",
    "#### Paquete de tiempo\n",
    "import datetime\n",
    "\n",
    "from datetime import time\n",
    "from datetime import timedelta\n",
    "\n",
    "\n",
    "\n",
    "\n",
    "### Cargar Datos #### \n",
    "\n",
    "### Datos Radiofarmacos PET 2019\n",
    "#data= pd.read_csv('PET.txt', delim_whitespace =True)\n",
    "data = pd.read_csv('fdgdrl.txt', delim_whitespace =True, header=None)\n",
    "#data = pd.read_csv('gapsmadrl.txt', delim_whitespace =True, header=None)\n",
    "#data = pd.read_csv('gadotadrl.txt', delim_whitespace =True, header=None)\n",
    "#data = pd.read_csv('galiospetmn.txt', delim_whitespace =True, header=None)\n",
    "\n",
    "# create headers list\n",
    "#### FDG\n",
    "headers = [\"Genero\",\"Peso\",\"Horarec\",\"Actipres\",\"Horadm\",\"Actidosi\",\"Horadosi\",\"Voldosi\",\"Actiny\",\"Horainy\", \"Operador\"]\n",
    "#### GAPSMA\n",
    "#headers = [\"Genero\",\"Actipres\",\"Horadm\",\"Peso\",\"Actidosi\",\"Horadosi\",\"Actiny\",\"Horainy\",\"Voldosi\"]\n",
    "#### GADOTANOC\n",
    "#headers = [\"Genero\",\"Peso\",\"Actipres\",\"Horadm\",\"Actidosi\",\"Horadosi\",\"Voldosi\",\"Actiny\",\"Horainy\"]\n",
    "\n",
    "data.columns = headers"
   ]
  },
  {
   "cell_type": "code",
   "execution_count": 139,
   "metadata": {},
   "outputs": [
    {
     "data": {
      "text/html": [
       "<div>\n",
       "<table border=\"1\" class=\"dataframe\">\n",
       "  <thead>\n",
       "    <tr style=\"text-align: right;\">\n",
       "      <th></th>\n",
       "      <th>Genero</th>\n",
       "      <th>Peso</th>\n",
       "      <th>Horarec</th>\n",
       "      <th>Actipres</th>\n",
       "      <th>Horadm</th>\n",
       "      <th>Actidosi</th>\n",
       "      <th>Horadosi</th>\n",
       "      <th>Voldosi</th>\n",
       "      <th>Actiny</th>\n",
       "      <th>Horainy</th>\n",
       "      <th>Operador</th>\n",
       "    </tr>\n",
       "  </thead>\n",
       "  <tbody>\n",
       "    <tr>\n",
       "      <th>0</th>\n",
       "      <td>F</td>\n",
       "      <td>90</td>\n",
       "      <td>7:38</td>\n",
       "      <td>13.5</td>\n",
       "      <td>8:00</td>\n",
       "      <td>16.7</td>\n",
       "      <td>7:21</td>\n",
       "      <td>1.5</td>\n",
       "      <td>10.87</td>\n",
       "      <td>8:20</td>\n",
       "      <td>Andrea</td>\n",
       "    </tr>\n",
       "    <tr>\n",
       "      <th>1</th>\n",
       "      <td>M</td>\n",
       "      <td>74</td>\n",
       "      <td>7:38</td>\n",
       "      <td>11.1</td>\n",
       "      <td>8:30</td>\n",
       "      <td>17.5</td>\n",
       "      <td>7:30</td>\n",
       "      <td>2.6</td>\n",
       "      <td>10.11</td>\n",
       "      <td>8:50</td>\n",
       "      <td>Andrea</td>\n",
       "    </tr>\n",
       "    <tr>\n",
       "      <th>2</th>\n",
       "      <td>M</td>\n",
       "      <td>55</td>\n",
       "      <td>9:00</td>\n",
       "      <td>8.3</td>\n",
       "      <td>9:00</td>\n",
       "      <td>13.8</td>\n",
       "      <td>7:38</td>\n",
       "      <td>2</td>\n",
       "      <td>7.24</td>\n",
       "      <td>11:08</td>\n",
       "      <td>Andrea</td>\n",
       "    </tr>\n",
       "    <tr>\n",
       "      <th>3</th>\n",
       "      <td>F</td>\n",
       "      <td>62</td>\n",
       "      <td>10:00</td>\n",
       "      <td>9.3</td>\n",
       "      <td>9:30</td>\n",
       "      <td>15.8</td>\n",
       "      <td>8:15</td>\n",
       "      <td>2</td>\n",
       "      <td>7.97</td>\n",
       "      <td>9:51</td>\n",
       "      <td>Andrea</td>\n",
       "    </tr>\n",
       "    <tr>\n",
       "      <th>4</th>\n",
       "      <td>F</td>\n",
       "      <td>60</td>\n",
       "      <td>10:00</td>\n",
       "      <td>9.0</td>\n",
       "      <td>10:30</td>\n",
       "      <td>21</td>\n",
       "      <td>8:26</td>\n",
       "      <td>2</td>\n",
       "      <td>6.54</td>\n",
       "      <td>10:39</td>\n",
       "      <td>Andrea</td>\n",
       "    </tr>\n",
       "  </tbody>\n",
       "</table>\n",
       "</div>"
      ],
      "text/plain": [
       "  Genero Peso Horarec  Actipres Horadm Actidosi Horadosi Voldosi Actiny  \\\n",
       "0      F   90    7:38      13.5   8:00     16.7     7:21     1.5  10.87   \n",
       "1      M   74    7:38      11.1   8:30     17.5     7:30     2.6  10.11   \n",
       "2      M   55    9:00       8.3   9:00     13.8     7:38       2   7.24   \n",
       "3      F   62   10:00       9.3   9:30     15.8     8:15       2   7.97   \n",
       "4      F   60   10:00       9.0  10:30       21     8:26       2   6.54   \n",
       "\n",
       "  Horainy Operador  \n",
       "0    8:20   Andrea  \n",
       "1    8:50   Andrea  \n",
       "2   11:08   Andrea  \n",
       "3    9:51   Andrea  \n",
       "4   10:39   Andrea  "
      ]
     },
     "execution_count": 139,
     "metadata": {},
     "output_type": "execute_result"
    }
   ],
   "source": [
    "#para ver los primeros datos\n",
    "data.head()"
   ]
  },
  {
   "cell_type": "code",
   "execution_count": 140,
   "metadata": {
    "collapsed": true
   },
   "outputs": [],
   "source": [
    "### Half life PET radionuclides\n",
    "\n",
    "##############################\n",
    "########   F- 18  ###########\n",
    "### half life [min]\n",
    "HLF= 110\n",
    "### Lambda\n",
    "LambdaF= np.log(2)/HLF\n",
    "\n",
    "##############################\n",
    "########   Ga- 68  ###########\n",
    "### half life [min]\n",
    "HLGa= 67.83\n",
    "### Lambda\n",
    "LambdaGa= np.log(2)/HLGa"
   ]
  },
  {
   "cell_type": "code",
   "execution_count": 141,
   "metadata": {},
   "outputs": [
    {
     "data": {
      "text/plain": [
       "Genero       object\n",
       "Peso         object\n",
       "Horarec      object\n",
       "Actipres    float64\n",
       "Horadm       object\n",
       "Actidosi     object\n",
       "Horadosi     object\n",
       "Voldosi      object\n",
       "Actiny       object\n",
       "Horainy      object\n",
       "Operador     object\n",
       "dtype: object"
      ]
     },
     "execution_count": 141,
     "metadata": {},
     "output_type": "execute_result"
    }
   ],
   "source": [
    "data.dtypes\n",
    "#### Cuantos datos por radiofarmaco\n",
    "#data[\"Radiofarmaco\"].value_counts()"
   ]
  },
  {
   "cell_type": "code",
   "execution_count": 142,
   "metadata": {},
   "outputs": [
    {
     "data": {
      "text/plain": [
       "1190"
      ]
     },
     "execution_count": 142,
     "metadata": {},
     "output_type": "execute_result"
    }
   ],
   "source": [
    "len(data['Genero'])"
   ]
  },
  {
   "cell_type": "code",
   "execution_count": null,
   "metadata": {
    "collapsed": true
   },
   "outputs": [],
   "source": []
  },
  {
   "cell_type": "markdown",
   "metadata": {},
   "source": [
    "# Tiempos en la práctica PET "
   ]
  },
  {
   "cell_type": "markdown",
   "metadata": {},
   "source": [
    "## ELAPSED TIME "
   ]
  },
  {
   "cell_type": "code",
   "execution_count": 143,
   "metadata": {
    "collapsed": true
   },
   "outputs": [],
   "source": [
    "#replace NP to NaN\n",
    "data.replace(\"NP\", np.nan, inplace = True)"
   ]
  },
  {
   "cell_type": "code",
   "execution_count": 144,
   "metadata": {},
   "outputs": [
    {
     "data": {
      "text/html": [
       "<div>\n",
       "<table border=\"1\" class=\"dataframe\">\n",
       "  <thead>\n",
       "    <tr style=\"text-align: right;\">\n",
       "      <th></th>\n",
       "      <th>Horadm</th>\n",
       "      <th>Horarec</th>\n",
       "      <th>Horadosi</th>\n",
       "      <th>Horainy</th>\n",
       "    </tr>\n",
       "  </thead>\n",
       "  <tbody>\n",
       "    <tr>\n",
       "      <th>count</th>\n",
       "      <td>1189</td>\n",
       "      <td>915</td>\n",
       "      <td>1178</td>\n",
       "      <td>1163</td>\n",
       "    </tr>\n",
       "    <tr>\n",
       "      <th>unique</th>\n",
       "      <td>90</td>\n",
       "      <td>96</td>\n",
       "      <td>385</td>\n",
       "      <td>366</td>\n",
       "    </tr>\n",
       "    <tr>\n",
       "      <th>top</th>\n",
       "      <td>7:30</td>\n",
       "      <td>7:30</td>\n",
       "      <td>7:05</td>\n",
       "      <td>11:00</td>\n",
       "    </tr>\n",
       "    <tr>\n",
       "      <th>freq</th>\n",
       "      <td>75</td>\n",
       "      <td>82</td>\n",
       "      <td>14</td>\n",
       "      <td>28</td>\n",
       "    </tr>\n",
       "  </tbody>\n",
       "</table>\n",
       "</div>"
      ],
      "text/plain": [
       "       Horadm Horarec Horadosi Horainy\n",
       "count    1189     915     1178    1163\n",
       "unique     90      96      385     366\n",
       "top      7:30    7:30     7:05   11:00\n",
       "freq       75      82       14      28"
      ]
     },
     "execution_count": 144,
     "metadata": {},
     "output_type": "execute_result"
    }
   ],
   "source": [
    "data[['Horadm','Horarec','Horadosi','Horainy']].describe()"
   ]
  },
  {
   "cell_type": "code",
   "execution_count": 57,
   "metadata": {},
   "outputs": [
    {
     "data": {
      "text/plain": [
       "1190"
      ]
     },
     "execution_count": 57,
     "metadata": {},
     "output_type": "execute_result"
    }
   ],
   "source": []
  },
  {
   "cell_type": "code",
   "execution_count": 126,
   "metadata": {},
   "outputs": [],
   "source": [
    "##### HORAS EN FORMATO DE 24 H \n",
    "##### MINUTOS EN FORMATO DE 60 \n",
    "\n",
    "#############################################################\n",
    "##### Hora para la que esta \"calibrada la actividad\" ########\n",
    "pres = pd.to_datetime(data[\"Horadm\"],format='%H:%M')\n",
    "\n",
    "############################################################\n",
    "##### Hora de recepción del bulto en MN ########\n",
    "rec = pd.to_datetime(data[\"Horarec\"],format='%H:%M')\n",
    "\n",
    "############################################################\n",
    "##### Hora de dosificacion ########\n",
    "dosi = pd.to_datetime(data[\"Horadosi\"],format='%H:%M')\n",
    "\n",
    "############################################################\n",
    "##### Hora de inyección ########\n",
    "iny = pd.to_datetime(data[\"Horainy\"],format='%H:%M')"
   ]
  },
  {
   "cell_type": "code",
   "execution_count": 145,
   "metadata": {},
   "outputs": [],
   "source": [
    "###  \n",
    "timePR = data.filter(items=['Horadm', 'Horarec'])"
   ]
  },
  {
   "cell_type": "code",
   "execution_count": 146,
   "metadata": {},
   "outputs": [],
   "source": [
    "timePR.dropna(subset=[\"Horadm\"], axis=0, inplace=True)\n",
    "timePR.dropna(subset=[\"Horarec\"], axis=0, inplace=True)\n",
    "# reset index, because we droped rows\n",
    "timePR.reset_index(drop=True, inplace=True)"
   ]
  },
  {
   "cell_type": "code",
   "execution_count": 147,
   "metadata": {},
   "outputs": [
    {
     "data": {
      "text/html": [
       "<div>\n",
       "<table border=\"1\" class=\"dataframe\">\n",
       "  <thead>\n",
       "    <tr style=\"text-align: right;\">\n",
       "      <th></th>\n",
       "      <th>Horadm</th>\n",
       "      <th>Horarec</th>\n",
       "    </tr>\n",
       "  </thead>\n",
       "  <tbody>\n",
       "    <tr>\n",
       "      <th>count</th>\n",
       "      <td>914</td>\n",
       "      <td>914</td>\n",
       "    </tr>\n",
       "    <tr>\n",
       "      <th>unique</th>\n",
       "      <td>85</td>\n",
       "      <td>96</td>\n",
       "    </tr>\n",
       "    <tr>\n",
       "      <th>top</th>\n",
       "      <td>7:30</td>\n",
       "      <td>7:30</td>\n",
       "    </tr>\n",
       "    <tr>\n",
       "      <th>freq</th>\n",
       "      <td>59</td>\n",
       "      <td>82</td>\n",
       "    </tr>\n",
       "  </tbody>\n",
       "</table>\n",
       "</div>"
      ],
      "text/plain": [
       "       Horadm Horarec\n",
       "count     914     914\n",
       "unique     85      96\n",
       "top      7:30    7:30\n",
       "freq       59      82"
      ]
     },
     "execution_count": 147,
     "metadata": {},
     "output_type": "execute_result"
    }
   ],
   "source": [
    "timePR.describe()"
   ]
  },
  {
   "cell_type": "code",
   "execution_count": 148,
   "metadata": {
    "collapsed": true
   },
   "outputs": [],
   "source": [
    "#############################################################\n",
    "##### Hora para la que esta \"calibrada la actividad\" ########\n",
    "pres = pd.to_datetime(timePR[\"Horadm\"],format='%H:%M')\n",
    "\n",
    "############################################################\n",
    "##### Hora de recepción del bulto en MN ########\n",
    "rec = pd.to_datetime(timePR[\"Horarec\"],format='%H:%M')"
   ]
  },
  {
   "cell_type": "code",
   "execution_count": 149,
   "metadata": {
    "collapsed": true
   },
   "outputs": [],
   "source": [
    "#### Elapsed time\n",
    "\n",
    "PR=pres-rec\n",
    "\n",
    "#subgroup=pd.DataFrame(data=timePR)\n",
    "#### Tiempo transcurrido entre la hora prescrita y la hora de recepción \n",
    "\n",
    "#headers = [\"timePR\"]\n",
    "#subgroup.columns = headers\n",
    "#subgroup\n",
    "\n",
    "## Si el tiempo es negativo -> Recepción tarde! -> Asignar variable Categorica"
   ]
  },
  {
   "cell_type": "code",
   "execution_count": 150,
   "metadata": {},
   "outputs": [
    {
     "data": {
      "text/plain": [
       "0              00:22:00\n",
       "1              00:52:00\n",
       "2              00:00:00\n",
       "3     -1 days +23:30:00\n",
       "4              00:30:00\n",
       "5              00:10:00\n",
       "6              01:10:00\n",
       "7              01:40:00\n",
       "8     -1 days +23:55:00\n",
       "9              00:10:00\n",
       "10             00:50:00\n",
       "11             00:20:00\n",
       "12             00:00:00\n",
       "13             00:40:00\n",
       "14             01:40:00\n",
       "15             00:10:00\n",
       "16             00:40:00\n",
       "17             00:20:00\n",
       "18             01:00:00\n",
       "19             00:30:00\n",
       "20    -1 days +23:52:00\n",
       "21             00:30:00\n",
       "22             01:10:00\n",
       "23             00:00:00\n",
       "24             00:10:00\n",
       "25    -1 days +23:45:00\n",
       "26             00:15:00\n",
       "27    -1 days +23:55:00\n",
       "28             00:55:00\n",
       "29             01:55:00\n",
       "             ...       \n",
       "884            01:36:00\n",
       "885            02:10:00\n",
       "886            03:10:00\n",
       "887            00:04:00\n",
       "888            00:34:00\n",
       "889            01:04:00\n",
       "890            01:49:00\n",
       "891            02:19:00\n",
       "892            03:04:00\n",
       "893            00:30:00\n",
       "894            01:00:00\n",
       "895            01:30:00\n",
       "896   -1 days +23:50:00\n",
       "897            00:35:00\n",
       "898            01:05:00\n",
       "899            00:05:00\n",
       "900            00:35:00\n",
       "901            01:05:00\n",
       "902            00:05:00\n",
       "903            00:35:00\n",
       "904   -1 days +23:50:00\n",
       "905            00:35:00\n",
       "906            01:20:00\n",
       "907            00:00:00\n",
       "908            00:45:00\n",
       "909            01:30:00\n",
       "910            00:05:00\n",
       "911            01:05:00\n",
       "912            01:35:00\n",
       "913            00:00:00\n",
       "dtype: timedelta64[ns]"
      ]
     },
     "execution_count": 150,
     "metadata": {},
     "output_type": "execute_result"
    }
   ],
   "source": [
    "PR"
   ]
  },
  {
   "cell_type": "code",
   "execution_count": 151,
   "metadata": {},
   "outputs": [],
   "source": [
    "lista=PR.dt.days<0\n",
    "tiempointer=PR.dt.seconds\n",
    "for i in range(len(lista)):   \n",
    "    if lista[i]:\n",
    "        PR[i]=abs(pres[i]-rec[i])\n",
    "        #tiempointer[i]=PR.dt.seconds/60\n",
    "        #tiempointer[i]= tiempointer[i]*(-1)\n",
    "\n",
    "tiempointer=PR.dt.seconds/60     \n",
    "        \n",
    "for i in range(len(lista)):   \n",
    "    if lista[i]:\n",
    "        tiempointer[i]= tiempointer[i]*(-1)        "
   ]
  },
  {
   "cell_type": "code",
   "execution_count": 153,
   "metadata": {},
   "outputs": [
    {
     "data": {
      "text/plain": [
       "0       22.0\n",
       "1       52.0\n",
       "2        0.0\n",
       "3      -30.0\n",
       "4       30.0\n",
       "5       10.0\n",
       "6       70.0\n",
       "7      100.0\n",
       "8       -5.0\n",
       "9       10.0\n",
       "10      50.0\n",
       "11      20.0\n",
       "12       0.0\n",
       "13      40.0\n",
       "14     100.0\n",
       "15      10.0\n",
       "16      40.0\n",
       "17      20.0\n",
       "18      60.0\n",
       "19      30.0\n",
       "20      -8.0\n",
       "21      30.0\n",
       "22      70.0\n",
       "23       0.0\n",
       "24      10.0\n",
       "25     -15.0\n",
       "26      15.0\n",
       "27      -5.0\n",
       "28      55.0\n",
       "29     115.0\n",
       "       ...  \n",
       "884     96.0\n",
       "885    130.0\n",
       "886    190.0\n",
       "887      4.0\n",
       "888     34.0\n",
       "889     64.0\n",
       "890    109.0\n",
       "891    139.0\n",
       "892    184.0\n",
       "893     30.0\n",
       "894     60.0\n",
       "895     90.0\n",
       "896    -10.0\n",
       "897     35.0\n",
       "898     65.0\n",
       "899      5.0\n",
       "900     35.0\n",
       "901     65.0\n",
       "902      5.0\n",
       "903     35.0\n",
       "904    -10.0\n",
       "905     35.0\n",
       "906     80.0\n",
       "907      0.0\n",
       "908     45.0\n",
       "909     90.0\n",
       "910      5.0\n",
       "911     65.0\n",
       "912     95.0\n",
       "913      0.0\n",
       "dtype: float64"
      ]
     },
     "execution_count": 153,
     "metadata": {},
     "output_type": "execute_result"
    }
   ],
   "source": [
    "#PR\n",
    "tiempointer"
   ]
  },
  {
   "cell_type": "code",
   "execution_count": 6,
   "metadata": {},
   "outputs": [
    {
     "data": {
      "text/plain": [
       "Genero       object\n",
       "Peso         object\n",
       "Horarec      object\n",
       "Actipres    float64\n",
       "Horadm       object\n",
       "Actidosi    float64\n",
       "Horadosi     object\n",
       "Voldosi     float64\n",
       "Actiny      float64\n",
       "Horainy      object\n",
       "Operador     object\n",
       "dtype: object"
      ]
     },
     "execution_count": 6,
     "metadata": {},
     "output_type": "execute_result"
    }
   ],
   "source": [
    "data[[\"Actiny\"]] = data[[\"Actiny\"]].astype(\"float\")\n",
    "data[[\"Actipres\"]] = data[[\"Actipres\"]].astype(\"float\")\n",
    "data[[\"Actidosi\"]] = data[[\"Actidosi\"]].astype(\"float\")\n",
    "data[[\"Voldosi\"]] = data[[\"Voldosi\"]].astype(\"float\")\n",
    "data.dtypes"
   ]
  },
  {
   "cell_type": "code",
   "execution_count": 40,
   "metadata": {
    "collapsed": true
   },
   "outputs": [],
   "source": [
    "data[\"desviasigno\"]=((data[\"Actiny\"]-data[\"Actipres\"])*100)/data[\"Actipres\"]"
   ]
  },
  {
   "cell_type": "code",
   "execution_count": 41,
   "metadata": {
    "collapsed": true
   },
   "outputs": [],
   "source": [
    "### Error relativo porcentual entre Actividad prescrita y actividad inyectada \n",
    "data[\"desvia\"]=np.absolute(((data[\"Actiny\"]-data[\"Actipres\"])*100)/data[\"Actipres\"])"
   ]
  },
  {
   "cell_type": "code",
   "execution_count": 42,
   "metadata": {},
   "outputs": [
    {
     "data": {
      "text/plain": [
       "count    223.000000\n",
       "mean       8.339552\n",
       "std       11.221968\n",
       "min        2.600000\n",
       "25%        4.400000\n",
       "50%        5.500000\n",
       "75%        7.300000\n",
       "max       84.600000\n",
       "Name: Actidosi, dtype: float64"
      ]
     },
     "execution_count": 42,
     "metadata": {},
     "output_type": "execute_result"
    }
   ],
   "source": [
    "data[\"Actidosi\"].describe()"
   ]
  },
  {
   "cell_type": "code",
   "execution_count": 43,
   "metadata": {},
   "outputs": [
    {
     "data": {
      "text/plain": [
       "84"
      ]
     },
     "execution_count": 43,
     "metadata": {},
     "output_type": "execute_result"
    }
   ],
   "source": [
    "len(data[(np.absolute(data['desviasigno'])<=10.0)])"
   ]
  },
  {
   "cell_type": "code",
   "execution_count": 44,
   "metadata": {},
   "outputs": [
    {
     "data": {
      "text/plain": [
       "26.500212457729734"
      ]
     },
     "execution_count": 44,
     "metadata": {},
     "output_type": "execute_result"
    }
   ],
   "source": [
    "data['desviasigno'].std()"
   ]
  },
  {
   "cell_type": "code",
   "execution_count": 45,
   "metadata": {
    "collapsed": true
   },
   "outputs": [],
   "source": [
    "# simply drop whole row with NaN in \"Vol\" column\n",
    "data.dropna(subset=[\"Voldosi\"], axis=0, inplace=True)\n",
    "\n",
    "# reset index, because we droped one row\n",
    "data.reset_index(drop=True, inplace=True)"
   ]
  },
  {
   "cell_type": "code",
   "execution_count": 46,
   "metadata": {
    "collapsed": true
   },
   "outputs": [],
   "source": [
    "data.dropna(subset=[\"Actiny\"], axis=0, inplace=True)\n",
    "# reset index, because we droped rows\n",
    "data.reset_index(drop=True, inplace=True)"
   ]
  },
  {
   "cell_type": "code",
   "execution_count": 47,
   "metadata": {
    "collapsed": true
   },
   "outputs": [],
   "source": [
    "data[[\"Voldosi\"]] = data[[\"Voldosi\"]].astype(\"float\")"
   ]
  },
  {
   "cell_type": "code",
   "execution_count": 48,
   "metadata": {
    "collapsed": true
   },
   "outputs": [],
   "source": [
    "especifica=data[\"Actiny\"]/data[\"Voldosi\"]\n",
    "data['Espiny']= especifica"
   ]
  },
  {
   "cell_type": "code",
   "execution_count": 49,
   "metadata": {},
   "outputs": [
    {
     "data": {
      "text/html": [
       "<div>\n",
       "<table border=\"1\" class=\"dataframe\">\n",
       "  <thead>\n",
       "    <tr style=\"text-align: right;\">\n",
       "      <th></th>\n",
       "      <th>Actipres</th>\n",
       "      <th>Actidosi</th>\n",
       "      <th>Actiny</th>\n",
       "      <th>Voldosi</th>\n",
       "      <th>desviasigno</th>\n",
       "      <th>desvia</th>\n",
       "      <th>Espiny</th>\n",
       "    </tr>\n",
       "  </thead>\n",
       "  <tbody>\n",
       "    <tr>\n",
       "      <th>count</th>\n",
       "      <td>219.000000</td>\n",
       "      <td>219.000000</td>\n",
       "      <td>219.000000</td>\n",
       "      <td>219.000000</td>\n",
       "      <td>219.000000</td>\n",
       "      <td>219.000000</td>\n",
       "      <td>219.000000</td>\n",
       "    </tr>\n",
       "    <tr>\n",
       "      <th>mean</th>\n",
       "      <td>4.608904</td>\n",
       "      <td>8.397808</td>\n",
       "      <td>4.500731</td>\n",
       "      <td>6.000457</td>\n",
       "      <td>-0.518217</td>\n",
       "      <td>18.813806</td>\n",
       "      <td>1.137441</td>\n",
       "    </tr>\n",
       "    <tr>\n",
       "      <th>std</th>\n",
       "      <td>1.813962</td>\n",
       "      <td>11.315793</td>\n",
       "      <td>1.904448</td>\n",
       "      <td>1.888266</td>\n",
       "      <td>26.105935</td>\n",
       "      <td>18.061192</td>\n",
       "      <td>1.654233</td>\n",
       "    </tr>\n",
       "    <tr>\n",
       "      <th>min</th>\n",
       "      <td>2.500000</td>\n",
       "      <td>2.600000</td>\n",
       "      <td>1.700000</td>\n",
       "      <td>1.200000</td>\n",
       "      <td>-56.410256</td>\n",
       "      <td>0.000000</td>\n",
       "      <td>0.242857</td>\n",
       "    </tr>\n",
       "    <tr>\n",
       "      <th>25%</th>\n",
       "      <td>3.900000</td>\n",
       "      <td>4.400000</td>\n",
       "      <td>3.270000</td>\n",
       "      <td>5.000000</td>\n",
       "      <td>-15.165142</td>\n",
       "      <td>7.000000</td>\n",
       "      <td>0.505000</td>\n",
       "    </tr>\n",
       "    <tr>\n",
       "      <th>50%</th>\n",
       "      <td>4.000000</td>\n",
       "      <td>5.500000</td>\n",
       "      <td>4.200000</td>\n",
       "      <td>6.000000</td>\n",
       "      <td>0.000000</td>\n",
       "      <td>14.444444</td>\n",
       "      <td>0.662000</td>\n",
       "    </tr>\n",
       "    <tr>\n",
       "      <th>75%</th>\n",
       "      <td>4.900000</td>\n",
       "      <td>7.450000</td>\n",
       "      <td>4.920000</td>\n",
       "      <td>7.500000</td>\n",
       "      <td>13.146739</td>\n",
       "      <td>24.166667</td>\n",
       "      <td>0.829167</td>\n",
       "    </tr>\n",
       "    <tr>\n",
       "      <th>max</th>\n",
       "      <td>13.200000</td>\n",
       "      <td>84.600000</td>\n",
       "      <td>13.510000</td>\n",
       "      <td>10.000000</td>\n",
       "      <td>142.500000</td>\n",
       "      <td>142.500000</td>\n",
       "      <td>11.258333</td>\n",
       "    </tr>\n",
       "  </tbody>\n",
       "</table>\n",
       "</div>"
      ],
      "text/plain": [
       "         Actipres    Actidosi      Actiny     Voldosi  desviasigno  \\\n",
       "count  219.000000  219.000000  219.000000  219.000000   219.000000   \n",
       "mean     4.608904    8.397808    4.500731    6.000457    -0.518217   \n",
       "std      1.813962   11.315793    1.904448    1.888266    26.105935   \n",
       "min      2.500000    2.600000    1.700000    1.200000   -56.410256   \n",
       "25%      3.900000    4.400000    3.270000    5.000000   -15.165142   \n",
       "50%      4.000000    5.500000    4.200000    6.000000     0.000000   \n",
       "75%      4.900000    7.450000    4.920000    7.500000    13.146739   \n",
       "max     13.200000   84.600000   13.510000   10.000000   142.500000   \n",
       "\n",
       "           desvia      Espiny  \n",
       "count  219.000000  219.000000  \n",
       "mean    18.813806    1.137441  \n",
       "std     18.061192    1.654233  \n",
       "min      0.000000    0.242857  \n",
       "25%      7.000000    0.505000  \n",
       "50%     14.444444    0.662000  \n",
       "75%     24.166667    0.829167  \n",
       "max    142.500000   11.258333  "
      ]
     },
     "execution_count": 49,
     "metadata": {},
     "output_type": "execute_result"
    }
   ],
   "source": [
    "data.describe()"
   ]
  },
  {
   "cell_type": "code",
   "execution_count": 27,
   "metadata": {
    "collapsed": true
   },
   "outputs": [],
   "source": [
    "import seaborn as sns"
   ]
  },
  {
   "cell_type": "code",
   "execution_count": 33,
   "metadata": {},
   "outputs": [
    {
     "name": "stderr",
     "output_type": "stream",
     "text": [
      "/Users/Mila/anaconda/lib/python3.5/site-packages/matplotlib/axes/_axes.py:6462: UserWarning: The 'normed' kwarg is deprecated, and has been replaced by the 'density' kwarg.\n",
      "  warnings.warn(\"The 'normed' kwarg is deprecated, and has been \"\n"
     ]
    },
    {
     "data": {
      "image/png": "[encoded data removed]",
      "text/plain": [
       "<Figure size 720x504 with 2 Axes>"
      ]
     },
     "metadata": {},
     "output_type": "display_data"
    }
   ],
   "source": [
    "#sns.distplot(data_Gapsma['Esp'],kde=False,color='b')\n",
    "### Plot the data\n",
    "plt.figure(figsize=(10,7))\n",
    "ax1=plt.subplot(1,1,1)\n",
    "#sns.distplot(data['Esp'],norm_hist=True,kde=False,color='g',ax=ax1)\n",
    "#sns.distplot(data['Esppres'],norm_hist=True,kde=False,color='b',ax=ax1)\n",
    "sns.distplot(data['Espiny'],norm_hist=True,kde=False,color='b',ax=ax1)\n",
    "#plt.plot((15, 15),(0,125), '--k', linewidth=1) \n",
    "#plt.plot((4.2, 4.2),(0,125), '--k', linewidth=1) \n",
    "\n",
    "ax1.set_title('Fluor 18',fontsize=14)\n",
    "ax1.set_ylabel('Proporción de Pacientes',fontsize=14)\n",
    "ax1.set_xlabel('Concentración de Actividad [mCi ml$^{-1}$]',fontsize=14)\n",
    "ax1.tick_params(axis='both',labelsize=14)\n",
    "sns.set_style('ticks')\n",
    "\n",
    "## Set second x-axis for MBq\n",
    "ax2 = ax1.twiny()\n",
    "MBqs = np.linspace(data['Esp'].min(),data['Esp'].max()*37,7) # Actividad en MBq\n",
    "ax2.set_xticks(MBqs/37) # Ponga los ticks\n",
    "ax2.set_xticklabels(MBqs.astype(int)) # Ponga los Labels\n",
    "ax2.xaxis.set_ticks_position('bottom') # set the position of the second x-axis to bottom\n",
    "ax2.xaxis.set_label_position('bottom') # set the position of the second x-axis to bottom\n",
    "ax2.spines['bottom'].set_position(('outward', 56))\n",
    "ax2.set_xlabel('Concentración de Actividad  [MBq ml$^{-1}$]',fontsize=14)\n",
    "ax2.set_xlim(ax1.get_xlim())\n",
    "ax2.tick_params(labelsize=14)\n",
    "plt.savefig('FDGcon.pdf',bbox_inches = \"tight\")"
   ]
  },
  {
   "cell_type": "markdown",
   "metadata": {},
   "source": [
    "### Diagnostic Reference Level "
   ]
  },
  {
   "cell_type": "markdown",
   "metadata": {},
   "source": [
    "Comparar con guías internacionales: Europea (SNMMI) y no se que otra. Los valores de actividad a administrar por RF de diagnostico en PET."
   ]
  },
  {
   "cell_type": "code",
   "execution_count": 78,
   "metadata": {
    "collapsed": true
   },
   "outputs": [],
   "source": [
    "##########  Agrupando por examen #########\n",
    "#data_group_exam = data.groupby(['Radiofarmaco'],as_index=False)\n",
    "\n",
    "######### FDG ##########\n",
    "#FDG= data_group_exam.get_group('FDG')\n",
    "\n",
    "######### GADOTA  ##########\n",
    "#GADOTA= data_group_exam.get_group('GADOTA')\n",
    "\n",
    "######### GAPSMA  ##########\n",
    "#GAPSMA= data_group_exam.get_group('GADOTA')"
   ]
  },
  {
   "cell_type": "code",
   "execution_count": 79,
   "metadata": {
    "collapsed": true
   },
   "outputs": [],
   "source": [
    "data.dropna(subset=[\"Actiny\"], axis=0, inplace=True)\n",
    "# reset index, because we droped rows\n",
    "data.reset_index(drop=True, inplace=True)"
   ]
  },
  {
   "cell_type": "code",
   "execution_count": 80,
   "metadata": {},
   "outputs": [
    {
     "data": {
      "text/plain": [
       "count    1180.000000\n",
       "mean        8.965212\n",
       "std         2.195841\n",
       "min         2.020000\n",
       "25%         7.500000\n",
       "50%         9.000000\n",
       "75%        10.442500\n",
       "max        19.300000\n",
       "Name: Actiny, dtype: float64"
      ]
     },
     "execution_count": 80,
     "metadata": {},
     "output_type": "execute_result"
    }
   ],
   "source": [
    "data['Actiny'].describe()"
   ]
  },
  {
   "cell_type": "code",
   "execution_count": 81,
   "metadata": {
    "collapsed": true
   },
   "outputs": [],
   "source": [
    "import seaborn as sns"
   ]
  },
  {
   "cell_type": "code",
   "execution_count": 82,
   "metadata": {},
   "outputs": [
    {
     "name": "stderr",
     "output_type": "stream",
     "text": [
      "/Users/Mila/anaconda/lib/python3.5/site-packages/matplotlib/axes/_axes.py:6462: UserWarning: The 'normed' kwarg is deprecated, and has been replaced by the 'density' kwarg.\n",
      "  warnings.warn(\"The 'normed' kwarg is deprecated, and has been \"\n"
     ]
    },
    {
     "data": {
      "image/png": "[encoded data removed]",
      "text/plain": [
       "<Figure size 720x504 with 2 Axes>"
      ]
     },
     "metadata": {},
     "output_type": "display_data"
    }
   ],
   "source": [
    "### Plot the data\n",
    "plt.figure(figsize=(10,7))\n",
    "ax1=plt.subplot(1,1,1)\n",
    "sns.distplot(data['Actiny'],norm_hist=True,kde=False,ax=ax1,label='Actividad Inyectada',hist_kws={\"histtype\": \"step\", \"linewidth\": 3,\n",
    "\"alpha\": 1, \"color\": \"b\"})\n",
    "sns.distplot(data['Actipres'],norm_hist=True,kde=False,ax=ax1, label='Actividad Prescrita',hist_kws={\"histtype\": \"step\", \"linewidth\": 3,\n",
    "\"alpha\": 1, \"color\": \"g\"})\n",
    "\n",
    "################################ \n",
    "#########  FDG  ################\n",
    "#plt.plot((20, 20),(0,0.25), '--k', linewidth=1) \n",
    "#plt.plot((4, 4),(0,0.25), '--k', linewidth=1) \n",
    "#plt.plot((9.0, 9.0),(0,0.25), '--r', linewidth=2,label='DRL-Inyectada')\n",
    "\n",
    "\n",
    "################################ \n",
    "#########  GAPSMA  ################\n",
    "#plt.plot((20, 20),(0,0.25), '--k', linewidth=1) \n",
    "#plt.plot((4, 4),(0,0.25), '--k', linewidth=1) \n",
    "#plt.plot((4.46, 4.46),(0,0.6), '--r', linewidth=2,label='DRL-Inyectada')\n",
    "\n",
    "################################ \n",
    "#########  GADOTANOC  ################\n",
    "#plt.plot((20, 20),(0,0.25), '--k', linewidth=1) \n",
    "#plt.plot((4, 4),(0,0.25), '--k', linewidth=1) \n",
    "#plt.plot((3.88, 3.88),(0,0.4), '--r', linewidth=2,label='DRL-Inyectada')\n",
    "\n",
    "\n",
    "#ax1.set_title('$^{18}$F-FDG',fontsize=14)\n",
    "#ax1.set_title('$^{68}$Ga-PSMA',fontsize=14)\n",
    "#ax1.set_title('$^{68}$Ga-DOTA',fontsize=14)\n",
    "ax1.set_ylabel('Proporción de pacientes',fontsize=14)\n",
    "ax1.set_xlabel('Actividad [mCi]',fontsize=14)\n",
    "ax1.tick_params(axis='both',labelsize=14)\n",
    "ax1.legend(loc='upper right')\n",
    "sns.set_style('ticks')\n",
    "\n",
    "## Set second x-axis for MBq\n",
    "ax2 = ax1.twiny()\n",
    "MBqs = np.linspace(data['Actiny'].min(),data['Actiny'].max()*37,7) # Actividad en MBq\n",
    "ax2.set_xticks(MBqs/37) # Ponga los ticks\n",
    "ax2.set_xticklabels(MBqs.astype(int)) # Ponga los Labels\n",
    "ax2.xaxis.set_ticks_position('bottom') # set the position of the second x-axis to bottom\n",
    "ax2.xaxis.set_label_position('bottom') # set the position of the second x-axis to bottom\n",
    "ax2.spines['bottom'].set_position(('outward', 56))\n",
    "ax2.set_xlabel('Actividad [MBq]',fontsize=14)\n",
    "ax2.set_xlim(ax1.get_xlim())\n",
    "ax2.tick_params(labelsize=14)\n",
    "\n",
    "\n",
    "#plt.savefig('gadotadrl.pdf',bbox_inches = \"tight\")"
   ]
  },
  {
   "cell_type": "code",
   "execution_count": 83,
   "metadata": {},
   "outputs": [
    {
     "data": {
      "text/html": [
       "<div>\n",
       "<table border=\"1\" class=\"dataframe\">\n",
       "  <thead>\n",
       "    <tr style=\"text-align: right;\">\n",
       "      <th></th>\n",
       "      <th>Actiny</th>\n",
       "      <th>Actipres</th>\n",
       "    </tr>\n",
       "  </thead>\n",
       "  <tbody>\n",
       "    <tr>\n",
       "      <th>count</th>\n",
       "      <td>1180.000000</td>\n",
       "      <td>1180.000000</td>\n",
       "    </tr>\n",
       "    <tr>\n",
       "      <th>mean</th>\n",
       "      <td>8.965212</td>\n",
       "      <td>9.619042</td>\n",
       "    </tr>\n",
       "    <tr>\n",
       "      <th>std</th>\n",
       "      <td>2.195841</td>\n",
       "      <td>2.237227</td>\n",
       "    </tr>\n",
       "    <tr>\n",
       "      <th>min</th>\n",
       "      <td>2.020000</td>\n",
       "      <td>2.400000</td>\n",
       "    </tr>\n",
       "    <tr>\n",
       "      <th>25%</th>\n",
       "      <td>7.500000</td>\n",
       "      <td>8.300000</td>\n",
       "    </tr>\n",
       "    <tr>\n",
       "      <th>50%</th>\n",
       "      <td>9.000000</td>\n",
       "      <td>9.600000</td>\n",
       "    </tr>\n",
       "    <tr>\n",
       "      <th>75%</th>\n",
       "      <td>10.442500</td>\n",
       "      <td>11.100000</td>\n",
       "    </tr>\n",
       "    <tr>\n",
       "      <th>max</th>\n",
       "      <td>19.300000</td>\n",
       "      <td>15.000000</td>\n",
       "    </tr>\n",
       "  </tbody>\n",
       "</table>\n",
       "</div>"
      ],
      "text/plain": [
       "            Actiny     Actipres\n",
       "count  1180.000000  1180.000000\n",
       "mean      8.965212     9.619042\n",
       "std       2.195841     2.237227\n",
       "min       2.020000     2.400000\n",
       "25%       7.500000     8.300000\n",
       "50%       9.000000     9.600000\n",
       "75%      10.442500    11.100000\n",
       "max      19.300000    15.000000"
      ]
     },
     "execution_count": 83,
     "metadata": {},
     "output_type": "execute_result"
    }
   ],
   "source": [
    "######## Estadisticos FDG F-18\n",
    "#FDG['ActivIny'].describe()\n",
    "data[['Actiny','Actipres']].describe()"
   ]
  },
  {
   "cell_type": "code",
   "execution_count": 84,
   "metadata": {},
   "outputs": [
    {
     "name": "stderr",
     "output_type": "stream",
     "text": [
      "/Users/Mila/anaconda/lib/python3.5/site-packages/matplotlib/axes/_axes.py:6462: UserWarning: The 'normed' kwarg is deprecated, and has been replaced by the 'density' kwarg.\n",
      "  warnings.warn(\"The 'normed' kwarg is deprecated, and has been \"\n"
     ]
    },
    {
     "data": {
      "text/plain": [
       "Text(0,0.5,'Proporción de Pacientes')"
      ]
     },
     "execution_count": 84,
     "metadata": {},
     "output_type": "execute_result"
    },
    {
     "data": {
      "image/png": "[encoded data removed]",
      "text/plain": [
       "<Figure size 432x288 with 1 Axes>"
      ]
     },
     "metadata": {},
     "output_type": "display_data"
    }
   ],
   "source": [
    "sns.distplot(data['desviasigno'],norm_hist=True,kde=False,color='c',label='Actividad Inyectada')\n",
    "plt.plot((10, 10),(0,0.025), '--r', linewidth=1) \n",
    "plt.plot((-10, -10),(0,0.025), '--r', linewidth=1) \n",
    "plt.xlabel('Error relativo $\\%$')\n",
    "plt.ylabel('Proporción de Pacientes')\n",
    "#plt.savefig('errorrelgadota.pdf',bbox_inches = \"tight\")"
   ]
  },
  {
   "cell_type": "code",
   "execution_count": 85,
   "metadata": {},
   "outputs": [
    {
     "data": {
      "text/plain": [
       "count    1180.000000\n",
       "mean       -6.287146\n",
       "std        11.893597\n",
       "min       -51.041667\n",
       "25%       -12.796349\n",
       "50%        -6.045009\n",
       "75%         0.000000\n",
       "max        76.666667\n",
       "Name: desviasigno, dtype: float64"
      ]
     },
     "execution_count": 85,
     "metadata": {},
     "output_type": "execute_result"
    }
   ],
   "source": [
    "data['desviasigno'].describe()"
   ]
  },
  {
   "cell_type": "code",
   "execution_count": 86,
   "metadata": {
    "collapsed": true
   },
   "outputs": [],
   "source": [
    "######## Estadisticos GADOTA Ga-68\n",
    "#GADOTA['ActivIny'].describe()"
   ]
  },
  {
   "cell_type": "code",
   "execution_count": 87,
   "metadata": {
    "collapsed": true
   },
   "outputs": [],
   "source": [
    "######## Estadisticos GAPSMA Ga-68\n",
    "#GAPSMA['ActivIny'].describe()"
   ]
  },
  {
   "cell_type": "code",
   "execution_count": 88,
   "metadata": {
    "collapsed": true
   },
   "outputs": [],
   "source": [
    "#data.dtypes"
   ]
  },
  {
   "cell_type": "code",
   "execution_count": 89,
   "metadata": {
    "collapsed": true
   },
   "outputs": [],
   "source": [
    "#replace NV to NaN\n",
    "#data.replace(\"NV\", np.nan, inplace = True)"
   ]
  },
  {
   "cell_type": "code",
   "execution_count": 90,
   "metadata": {
    "collapsed": true
   },
   "outputs": [],
   "source": [
    "#data.dtypes"
   ]
  },
  {
   "cell_type": "code",
   "execution_count": 91,
   "metadata": {
    "collapsed": true
   },
   "outputs": [],
   "source": [
    "#data[[\"ActivAdm\"]] = data[[\"ActivAdm\"]].astype(\"float\")"
   ]
  },
  {
   "cell_type": "code",
   "execution_count": 92,
   "metadata": {
    "collapsed": true
   },
   "outputs": [],
   "source": [
    "#data.dropna(subset=[\"ActivAdm\"], axis=0, inplace=True)"
   ]
  },
  {
   "cell_type": "code",
   "execution_count": 93,
   "metadata": {
    "collapsed": true
   },
   "outputs": [],
   "source": [
    "#data.reset_index(drop=True, inplace=True)"
   ]
  },
  {
   "cell_type": "markdown",
   "metadata": {},
   "source": [
    "### Diferencia entre actividad prescrita e inyectada "
   ]
  },
  {
   "cell_type": "markdown",
   "metadata": {},
   "source": [
    "\\begin{equation}\n",
    "\\%=\\frac{(\\text{Actividad Prescrita}-\\text{Actividad Inyectada})\\times 100}{\\text{Actividad Prescrita}}\n",
    "\\end{equation}"
   ]
  },
  {
   "cell_type": "markdown",
   "metadata": {},
   "source": [
    "Aquí Actividad Inyectada = Actividad Pre-jeringa -Actividad Post Jeringa"
   ]
  },
  {
   "cell_type": "code",
   "execution_count": 94,
   "metadata": {
    "collapsed": true
   },
   "outputs": [],
   "source": [
    "##Diferencia\n",
    "#perce=np.absolute(((data['ActivAdm']-data['ActivIny'])*100)/data['ActivAdm'])"
   ]
  },
  {
   "cell_type": "code",
   "execution_count": 95,
   "metadata": {
    "collapsed": true
   },
   "outputs": [],
   "source": [
    "#percent=round(perce,1)"
   ]
  },
  {
   "cell_type": "code",
   "execution_count": 96,
   "metadata": {
    "collapsed": true
   },
   "outputs": [],
   "source": [
    "### Ingresar datos en el data \n",
    "#data['percent']= percent"
   ]
  },
  {
   "cell_type": "code",
   "execution_count": 97,
   "metadata": {},
   "outputs": [
    {
     "data": {
      "text/html": [
       "<div>\n",
       "<table border=\"1\" class=\"dataframe\">\n",
       "  <thead>\n",
       "    <tr style=\"text-align: right;\">\n",
       "      <th></th>\n",
       "      <th>Genero</th>\n",
       "      <th>Peso</th>\n",
       "      <th>Horarec</th>\n",
       "      <th>Actipres</th>\n",
       "      <th>Horadm</th>\n",
       "      <th>Actidosi</th>\n",
       "      <th>Horadosi</th>\n",
       "      <th>Voldosi</th>\n",
       "      <th>Actiny</th>\n",
       "      <th>Horainy</th>\n",
       "      <th>Operador</th>\n",
       "      <th>desviasigno</th>\n",
       "      <th>desvia</th>\n",
       "    </tr>\n",
       "  </thead>\n",
       "  <tbody>\n",
       "    <tr>\n",
       "      <th>0</th>\n",
       "      <td>F</td>\n",
       "      <td>90</td>\n",
       "      <td>7:38</td>\n",
       "      <td>13.5</td>\n",
       "      <td>8:00</td>\n",
       "      <td>16.7</td>\n",
       "      <td>7:21</td>\n",
       "      <td>1.5</td>\n",
       "      <td>10.87</td>\n",
       "      <td>8:20</td>\n",
       "      <td>Andrea</td>\n",
       "      <td>-19.481481</td>\n",
       "      <td>19.481481</td>\n",
       "    </tr>\n",
       "    <tr>\n",
       "      <th>1</th>\n",
       "      <td>M</td>\n",
       "      <td>74</td>\n",
       "      <td>7:38</td>\n",
       "      <td>11.1</td>\n",
       "      <td>8:30</td>\n",
       "      <td>17.5</td>\n",
       "      <td>7:30</td>\n",
       "      <td>2.6</td>\n",
       "      <td>10.11</td>\n",
       "      <td>8:50</td>\n",
       "      <td>Andrea</td>\n",
       "      <td>-8.918919</td>\n",
       "      <td>8.918919</td>\n",
       "    </tr>\n",
       "    <tr>\n",
       "      <th>2</th>\n",
       "      <td>M</td>\n",
       "      <td>55</td>\n",
       "      <td>9:00</td>\n",
       "      <td>8.3</td>\n",
       "      <td>9:00</td>\n",
       "      <td>13.8</td>\n",
       "      <td>7:38</td>\n",
       "      <td>2</td>\n",
       "      <td>7.24</td>\n",
       "      <td>11:08</td>\n",
       "      <td>Andrea</td>\n",
       "      <td>-12.771084</td>\n",
       "      <td>12.771084</td>\n",
       "    </tr>\n",
       "    <tr>\n",
       "      <th>3</th>\n",
       "      <td>F</td>\n",
       "      <td>62</td>\n",
       "      <td>10:00</td>\n",
       "      <td>9.3</td>\n",
       "      <td>9:30</td>\n",
       "      <td>15.8</td>\n",
       "      <td>8:15</td>\n",
       "      <td>2</td>\n",
       "      <td>7.97</td>\n",
       "      <td>9:51</td>\n",
       "      <td>Andrea</td>\n",
       "      <td>-14.301075</td>\n",
       "      <td>14.301075</td>\n",
       "    </tr>\n",
       "    <tr>\n",
       "      <th>4</th>\n",
       "      <td>F</td>\n",
       "      <td>60</td>\n",
       "      <td>10:00</td>\n",
       "      <td>9.0</td>\n",
       "      <td>10:30</td>\n",
       "      <td>21.0</td>\n",
       "      <td>8:26</td>\n",
       "      <td>2</td>\n",
       "      <td>6.54</td>\n",
       "      <td>10:39</td>\n",
       "      <td>Andrea</td>\n",
       "      <td>-27.333333</td>\n",
       "      <td>27.333333</td>\n",
       "    </tr>\n",
       "  </tbody>\n",
       "</table>\n",
       "</div>"
      ],
      "text/plain": [
       "  Genero Peso Horarec  Actipres Horadm  Actidosi Horadosi Voldosi  Actiny  \\\n",
       "0      F   90    7:38      13.5   8:00      16.7     7:21     1.5   10.87   \n",
       "1      M   74    7:38      11.1   8:30      17.5     7:30     2.6   10.11   \n",
       "2      M   55    9:00       8.3   9:00      13.8     7:38       2    7.24   \n",
       "3      F   62   10:00       9.3   9:30      15.8     8:15       2    7.97   \n",
       "4      F   60   10:00       9.0  10:30      21.0     8:26       2    6.54   \n",
       "\n",
       "  Horainy Operador  desviasigno     desvia  \n",
       "0    8:20   Andrea   -19.481481  19.481481  \n",
       "1    8:50   Andrea    -8.918919   8.918919  \n",
       "2   11:08   Andrea   -12.771084  12.771084  \n",
       "3    9:51   Andrea   -14.301075  14.301075  \n",
       "4   10:39   Andrea   -27.333333  27.333333  "
      ]
     },
     "execution_count": 97,
     "metadata": {},
     "output_type": "execute_result"
    }
   ],
   "source": [
    "data.head()"
   ]
  },
  {
   "cell_type": "markdown",
   "metadata": {},
   "source": [
    "Altos porcentajes de diferencia entre actividad prescrita y actividad inyectada, pueden tener las siguientes causas asignables:\n",
    "\n",
    "1. Retraso en la recepción de la actividad porque: radiofarmaco esta en pruebas de control de calidad ó falla  comunicación entre RF-MN  [TIEMPO]\n",
    "2. El farmaco marcado con Ga-68 es enviado en una lonchera y con un tapón. En el cambio del tapón por la jeringa, es probable que se pierda una cierta cantidad de material (y tiempo)\n",
    "3. Dificultades tecnicas con el PET, que retrasa el proceso para realizar el estudio [TIEMPO]\n",
    "4. ¿Actividad residual en jeringa es considerable?\n",
    "5. Daño en el ascensor"
   ]
  },
  {
   "cell_type": "markdown",
   "metadata": {},
   "source": [
    "#### Añadir grafico % Dif "
   ]
  },
  {
   "cell_type": "code",
   "execution_count": 98,
   "metadata": {
    "collapsed": true
   },
   "outputs": [],
   "source": [
    "##########  Agrupando por examen #########\n",
    "#data_group_exam = data.groupby(['Radiofarmaco'],as_index=False)\n",
    "\n",
    "######### FDG ##########\n",
    "#FDG= data_group_exam.get_group('FDG')\n",
    "\n",
    "######### GADOTA  ##########\n",
    "#GADOTA= data_group_exam.get_group('GADOTA')"
   ]
  },
  {
   "cell_type": "code",
   "execution_count": 99,
   "metadata": {
    "collapsed": true
   },
   "outputs": [],
   "source": [
    "#FDG['percent'].describe()"
   ]
  },
  {
   "cell_type": "markdown",
   "metadata": {},
   "source": []
  },
  {
   "cell_type": "code",
   "execution_count": 115,
   "metadata": {
    "collapsed": true
   },
   "outputs": [],
   "source": [
    "data.dropna(subset=[\"Horadm\"], axis=0, inplace=True)\n",
    "data.dropna(subset=[\"Horarec\"], axis=0, inplace=True)\n",
    "data.dropna(subset=[\"Horadosi\"], axis=0, inplace=True)\n",
    "data.dropna(subset=[\"Horainy\"], axis=0, inplace=True)\n",
    "# reset index, because we droped rows\n",
    "data.reset_index(drop=True, inplace=True)"
   ]
  },
  {
   "cell_type": "markdown",
   "metadata": {},
   "source": []
  },
  {
   "cell_type": "code",
   "execution_count": 169,
   "metadata": {
    "collapsed": true
   },
   "outputs": [],
   "source": [
    "\n"
   ]
  },
  {
   "cell_type": "code",
   "execution_count": 170,
   "metadata": {
    "collapsed": true
   },
   "outputs": [],
   "source": []
  },
  {
   "cell_type": "code",
   "execution_count": 171,
   "metadata": {
    "collapsed": true
   },
   "outputs": [],
   "source": [
    "#subgroup"
   ]
  },
  {
   "cell_type": "code",
   "execution_count": 172,
   "metadata": {
    "collapsed": true
   },
   "outputs": [],
   "source": [
    "lista=timePR.dt.days<0"
   ]
  },
  {
   "cell_type": "code",
   "execution_count": 173,
   "metadata": {
    "collapsed": true
   },
   "outputs": [],
   "source": [
    "#subgroup.loc[subgroup['timePR'].dt.days<0]= np.nan"
   ]
  },
  {
   "cell_type": "code",
   "execution_count": 174,
   "metadata": {
    "collapsed": true
   },
   "outputs": [],
   "source": [
    "for i in range(len(lista)):   \n",
    "    if lista[i]:\n",
    "        subgroup['timePR'][i]=rec[i]-pres[i]\n",
    "#subgroup\n",
    "\n",
    "#subgroup[\"suma\"].dt.seconds"
   ]
  },
  {
   "cell_type": "code",
   "execution_count": 175,
   "metadata": {},
   "outputs": [
    {
     "data": {
      "text/html": [
       "<div>\n",
       "<table border=\"1\" class=\"dataframe\">\n",
       "  <thead>\n",
       "    <tr style=\"text-align: right;\">\n",
       "      <th></th>\n",
       "      <th>timePR</th>\n",
       "    </tr>\n",
       "  </thead>\n",
       "  <tbody>\n",
       "    <tr>\n",
       "      <th>0</th>\n",
       "      <td>00:22:00</td>\n",
       "    </tr>\n",
       "    <tr>\n",
       "      <th>1</th>\n",
       "      <td>00:52:00</td>\n",
       "    </tr>\n",
       "    <tr>\n",
       "      <th>2</th>\n",
       "      <td>00:00:00</td>\n",
       "    </tr>\n",
       "    <tr>\n",
       "      <th>3</th>\n",
       "      <td>00:30:00</td>\n",
       "    </tr>\n",
       "    <tr>\n",
       "      <th>4</th>\n",
       "      <td>00:30:00</td>\n",
       "    </tr>\n",
       "    <tr>\n",
       "      <th>5</th>\n",
       "      <td>00:10:00</td>\n",
       "    </tr>\n",
       "    <tr>\n",
       "      <th>6</th>\n",
       "      <td>01:10:00</td>\n",
       "    </tr>\n",
       "    <tr>\n",
       "      <th>7</th>\n",
       "      <td>01:40:00</td>\n",
       "    </tr>\n",
       "    <tr>\n",
       "      <th>8</th>\n",
       "      <td>00:05:00</td>\n",
       "    </tr>\n",
       "    <tr>\n",
       "      <th>9</th>\n",
       "      <td>00:10:00</td>\n",
       "    </tr>\n",
       "    <tr>\n",
       "      <th>10</th>\n",
       "      <td>00:50:00</td>\n",
       "    </tr>\n",
       "    <tr>\n",
       "      <th>11</th>\n",
       "      <td>00:20:00</td>\n",
       "    </tr>\n",
       "    <tr>\n",
       "      <th>12</th>\n",
       "      <td>00:00:00</td>\n",
       "    </tr>\n",
       "    <tr>\n",
       "      <th>13</th>\n",
       "      <td>00:40:00</td>\n",
       "    </tr>\n",
       "    <tr>\n",
       "      <th>14</th>\n",
       "      <td>01:40:00</td>\n",
       "    </tr>\n",
       "    <tr>\n",
       "      <th>15</th>\n",
       "      <td>00:10:00</td>\n",
       "    </tr>\n",
       "    <tr>\n",
       "      <th>16</th>\n",
       "      <td>00:40:00</td>\n",
       "    </tr>\n",
       "    <tr>\n",
       "      <th>17</th>\n",
       "      <td>00:20:00</td>\n",
       "    </tr>\n",
       "    <tr>\n",
       "      <th>18</th>\n",
       "      <td>01:00:00</td>\n",
       "    </tr>\n",
       "    <tr>\n",
       "      <th>19</th>\n",
       "      <td>00:30:00</td>\n",
       "    </tr>\n",
       "    <tr>\n",
       "      <th>20</th>\n",
       "      <td>00:08:00</td>\n",
       "    </tr>\n",
       "    <tr>\n",
       "      <th>21</th>\n",
       "      <td>00:30:00</td>\n",
       "    </tr>\n",
       "    <tr>\n",
       "      <th>22</th>\n",
       "      <td>01:10:00</td>\n",
       "    </tr>\n",
       "    <tr>\n",
       "      <th>23</th>\n",
       "      <td>00:00:00</td>\n",
       "    </tr>\n",
       "    <tr>\n",
       "      <th>24</th>\n",
       "      <td>00:10:00</td>\n",
       "    </tr>\n",
       "    <tr>\n",
       "      <th>25</th>\n",
       "      <td>00:15:00</td>\n",
       "    </tr>\n",
       "    <tr>\n",
       "      <th>26</th>\n",
       "      <td>00:15:00</td>\n",
       "    </tr>\n",
       "    <tr>\n",
       "      <th>27</th>\n",
       "      <td>00:05:00</td>\n",
       "    </tr>\n",
       "    <tr>\n",
       "      <th>28</th>\n",
       "      <td>00:55:00</td>\n",
       "    </tr>\n",
       "    <tr>\n",
       "      <th>29</th>\n",
       "      <td>01:55:00</td>\n",
       "    </tr>\n",
       "    <tr>\n",
       "      <th>...</th>\n",
       "      <td>...</td>\n",
       "    </tr>\n",
       "    <tr>\n",
       "      <th>852</th>\n",
       "      <td>00:06:00</td>\n",
       "    </tr>\n",
       "    <tr>\n",
       "      <th>853</th>\n",
       "      <td>00:51:00</td>\n",
       "    </tr>\n",
       "    <tr>\n",
       "      <th>854</th>\n",
       "      <td>01:36:00</td>\n",
       "    </tr>\n",
       "    <tr>\n",
       "      <th>855</th>\n",
       "      <td>02:10:00</td>\n",
       "    </tr>\n",
       "    <tr>\n",
       "      <th>856</th>\n",
       "      <td>03:10:00</td>\n",
       "    </tr>\n",
       "    <tr>\n",
       "      <th>857</th>\n",
       "      <td>00:04:00</td>\n",
       "    </tr>\n",
       "    <tr>\n",
       "      <th>858</th>\n",
       "      <td>00:34:00</td>\n",
       "    </tr>\n",
       "    <tr>\n",
       "      <th>859</th>\n",
       "      <td>01:04:00</td>\n",
       "    </tr>\n",
       "    <tr>\n",
       "      <th>860</th>\n",
       "      <td>01:49:00</td>\n",
       "    </tr>\n",
       "    <tr>\n",
       "      <th>861</th>\n",
       "      <td>02:19:00</td>\n",
       "    </tr>\n",
       "    <tr>\n",
       "      <th>862</th>\n",
       "      <td>03:04:00</td>\n",
       "    </tr>\n",
       "    <tr>\n",
       "      <th>863</th>\n",
       "      <td>00:30:00</td>\n",
       "    </tr>\n",
       "    <tr>\n",
       "      <th>864</th>\n",
       "      <td>01:00:00</td>\n",
       "    </tr>\n",
       "    <tr>\n",
       "      <th>865</th>\n",
       "      <td>01:30:00</td>\n",
       "    </tr>\n",
       "    <tr>\n",
       "      <th>866</th>\n",
       "      <td>00:10:00</td>\n",
       "    </tr>\n",
       "    <tr>\n",
       "      <th>867</th>\n",
       "      <td>00:35:00</td>\n",
       "    </tr>\n",
       "    <tr>\n",
       "      <th>868</th>\n",
       "      <td>01:05:00</td>\n",
       "    </tr>\n",
       "    <tr>\n",
       "      <th>869</th>\n",
       "      <td>00:05:00</td>\n",
       "    </tr>\n",
       "    <tr>\n",
       "      <th>870</th>\n",
       "      <td>00:35:00</td>\n",
       "    </tr>\n",
       "    <tr>\n",
       "      <th>871</th>\n",
       "      <td>01:05:00</td>\n",
       "    </tr>\n",
       "    <tr>\n",
       "      <th>872</th>\n",
       "      <td>00:05:00</td>\n",
       "    </tr>\n",
       "    <tr>\n",
       "      <th>873</th>\n",
       "      <td>00:35:00</td>\n",
       "    </tr>\n",
       "    <tr>\n",
       "      <th>874</th>\n",
       "      <td>00:10:00</td>\n",
       "    </tr>\n",
       "    <tr>\n",
       "      <th>875</th>\n",
       "      <td>00:35:00</td>\n",
       "    </tr>\n",
       "    <tr>\n",
       "      <th>876</th>\n",
       "      <td>01:20:00</td>\n",
       "    </tr>\n",
       "    <tr>\n",
       "      <th>877</th>\n",
       "      <td>00:00:00</td>\n",
       "    </tr>\n",
       "    <tr>\n",
       "      <th>878</th>\n",
       "      <td>00:45:00</td>\n",
       "    </tr>\n",
       "    <tr>\n",
       "      <th>879</th>\n",
       "      <td>01:30:00</td>\n",
       "    </tr>\n",
       "    <tr>\n",
       "      <th>880</th>\n",
       "      <td>00:05:00</td>\n",
       "    </tr>\n",
       "    <tr>\n",
       "      <th>881</th>\n",
       "      <td>01:05:00</td>\n",
       "    </tr>\n",
       "  </tbody>\n",
       "</table>\n",
       "<p>882 rows × 1 columns</p>\n",
       "</div>"
      ],
      "text/plain": [
       "      timePR\n",
       "0   00:22:00\n",
       "1   00:52:00\n",
       "2   00:00:00\n",
       "3   00:30:00\n",
       "4   00:30:00\n",
       "5   00:10:00\n",
       "6   01:10:00\n",
       "7   01:40:00\n",
       "8   00:05:00\n",
       "9   00:10:00\n",
       "10  00:50:00\n",
       "11  00:20:00\n",
       "12  00:00:00\n",
       "13  00:40:00\n",
       "14  01:40:00\n",
       "15  00:10:00\n",
       "16  00:40:00\n",
       "17  00:20:00\n",
       "18  01:00:00\n",
       "19  00:30:00\n",
       "20  00:08:00\n",
       "21  00:30:00\n",
       "22  01:10:00\n",
       "23  00:00:00\n",
       "24  00:10:00\n",
       "25  00:15:00\n",
       "26  00:15:00\n",
       "27  00:05:00\n",
       "28  00:55:00\n",
       "29  01:55:00\n",
       "..       ...\n",
       "852 00:06:00\n",
       "853 00:51:00\n",
       "854 01:36:00\n",
       "855 02:10:00\n",
       "856 03:10:00\n",
       "857 00:04:00\n",
       "858 00:34:00\n",
       "859 01:04:00\n",
       "860 01:49:00\n",
       "861 02:19:00\n",
       "862 03:04:00\n",
       "863 00:30:00\n",
       "864 01:00:00\n",
       "865 01:30:00\n",
       "866 00:10:00\n",
       "867 00:35:00\n",
       "868 01:05:00\n",
       "869 00:05:00\n",
       "870 00:35:00\n",
       "871 01:05:00\n",
       "872 00:05:00\n",
       "873 00:35:00\n",
       "874 00:10:00\n",
       "875 00:35:00\n",
       "876 01:20:00\n",
       "877 00:00:00\n",
       "878 00:45:00\n",
       "879 01:30:00\n",
       "880 00:05:00\n",
       "881 01:05:00\n",
       "\n",
       "[882 rows x 1 columns]"
      ]
     },
     "execution_count": 175,
     "metadata": {},
     "output_type": "execute_result"
    }
   ],
   "source": [
    "subgroup"
   ]
  },
  {
   "cell_type": "code",
   "execution_count": 176,
   "metadata": {},
   "outputs": [
    {
     "data": {
      "text/plain": [
       "-1800"
      ]
     },
     "execution_count": 176,
     "metadata": {},
     "output_type": "execute_result"
    }
   ],
   "source": [
    "tiempointer=subgroup['timePR'].dt.seconds\n",
    "#microseconds.values\n",
    "tiempointer[3]*(-1)"
   ]
  },
  {
   "cell_type": "code",
   "execution_count": 177,
   "metadata": {},
   "outputs": [
    {
     "name": "stderr",
     "output_type": "stream",
     "text": [
      "/Users/Mila/anaconda/lib/python3.5/site-packages/ipykernel_launcher.py:3: SettingWithCopyWarning: modifications to a property of a datetimelike object are not supported and are discarded. Change values on the original.\n",
      "  This is separate from the ipykernel package so we can avoid doing imports until\n"
     ]
    }
   ],
   "source": [
    "for i in range(len(lista)):   \n",
    "    if lista[i]:\n",
    "        tiempointer[i]= tiempointer[i]*(-1)"
   ]
  },
  {
   "cell_type": "code",
   "execution_count": 178,
   "metadata": {},
   "outputs": [
    {
     "data": {
      "text/plain": [
       "0       22.0\n",
       "1       52.0\n",
       "2        0.0\n",
       "3      -30.0\n",
       "4       30.0\n",
       "5       10.0\n",
       "6       70.0\n",
       "7      100.0\n",
       "8       -5.0\n",
       "9       10.0\n",
       "10      50.0\n",
       "11      20.0\n",
       "12       0.0\n",
       "13      40.0\n",
       "14     100.0\n",
       "15      10.0\n",
       "16      40.0\n",
       "17      20.0\n",
       "18      60.0\n",
       "19      30.0\n",
       "20      -8.0\n",
       "21      30.0\n",
       "22      70.0\n",
       "23       0.0\n",
       "24      10.0\n",
       "25     -15.0\n",
       "26      15.0\n",
       "27      -5.0\n",
       "28      55.0\n",
       "29     115.0\n",
       "       ...  \n",
       "852      6.0\n",
       "853     51.0\n",
       "854     96.0\n",
       "855    130.0\n",
       "856    190.0\n",
       "857      4.0\n",
       "858     34.0\n",
       "859     64.0\n",
       "860    109.0\n",
       "861    139.0\n",
       "862    184.0\n",
       "863     30.0\n",
       "864     60.0\n",
       "865     90.0\n",
       "866    -10.0\n",
       "867     35.0\n",
       "868     65.0\n",
       "869      5.0\n",
       "870     35.0\n",
       "871     65.0\n",
       "872      5.0\n",
       "873     35.0\n",
       "874    -10.0\n",
       "875     35.0\n",
       "876     80.0\n",
       "877      0.0\n",
       "878     45.0\n",
       "879     90.0\n",
       "880      5.0\n",
       "881     65.0\n",
       "Name: timePR, dtype: float64"
      ]
     },
     "execution_count": 178,
     "metadata": {},
     "output_type": "execute_result"
    }
   ],
   "source": [
    "tiempointer/60"
   ]
  },
  {
   "cell_type": "code",
   "execution_count": 25,
   "metadata": {
    "collapsed": true
   },
   "outputs": [],
   "source": [
    "#### Tiempo transcurrido entre la hora de inyección y la hora prescrita \n",
    "timePI = Inye -pres"
   ]
  },
  {
   "cell_type": "code",
   "execution_count": 28,
   "metadata": {},
   "outputs": [
    {
     "data": {
      "text/plain": [
       "0             00:30:00\n",
       "1             01:06:00\n",
       "2             00:31:00\n",
       "3             00:08:00\n",
       "4             00:02:00\n",
       "5             00:05:00\n",
       "6    -1 days +23:57:00\n",
       "7    -1 days +23:40:00\n",
       "8    -1 days +23:35:00\n",
       "9    -1 days +23:45:00\n",
       "10            00:25:00\n",
       "11            00:25:00\n",
       "dtype: timedelta64[ns]"
      ]
     },
     "execution_count": 28,
     "metadata": {},
     "output_type": "execute_result"
    }
   ],
   "source": [
    "timePI"
   ]
  },
  {
   "cell_type": "code",
   "execution_count": 29,
   "metadata": {
    "collapsed": true
   },
   "outputs": [],
   "source": [
    "#### Tiempo transcurrido entre la hora de dosificación y la hora de inyección\n",
    "timeID = Inye -dosi"
   ]
  },
  {
   "cell_type": "code",
   "execution_count": null,
   "metadata": {
    "collapsed": true
   },
   "outputs": [],
   "source": [
    "#timeID"
   ]
  },
  {
   "cell_type": "code",
   "execution_count": null,
   "metadata": {
    "collapsed": true
   },
   "outputs": [],
   "source": []
  },
  {
   "cell_type": "code",
   "execution_count": null,
   "metadata": {
    "collapsed": true
   },
   "outputs": [],
   "source": []
  },
  {
   "cell_type": "code",
   "execution_count": null,
   "metadata": {
    "collapsed": true
   },
   "outputs": [],
   "source": []
  }
 ],
 "metadata": {
  "kernelspec": {
   "display_name": "Python 3",
   "language": "python",
   "name": "python3"
  },
  "language_info": {
   "codemirror_mode": {
    "name": "ipython",
    "version": 3
   },
   "file_extension": ".py",
   "mimetype": "text/x-python",
   "name": "python",
   "nbconvert_exporter": "python",
   "pygments_lexer": "ipython3",
   "version": "3.5.5"
  }
 },
 "nbformat": 4,
 "nbformat_minor": 2
}
