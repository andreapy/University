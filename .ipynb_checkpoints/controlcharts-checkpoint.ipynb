{
 "cells": [
  {
   "cell_type": "code",
   "execution_count": null,
   "metadata": {
    "collapsed": true
   },
   "outputs": [],
   "source": [
    "import numpy as np\n",
    "import pandas as pd\n",
    "import matplotlib.pyplot as plt\n",
    "from scipy import stats\n",
    "from scipy.stats import norm\n",
    "#### Paquete de tiempo\n",
    "import datetime\n",
    "\n",
    "%matplotlib inline\n",
    "\n",
    "#Para cargar los datos\n",
    "\n",
    "################################\n",
    "######  MEDICINA NUCLEAR #######\n",
    "################################\n",
    "\n",
    "###Activimetro CRC 25 PET con fuente Cs-137\n",
    "data = pd.read_csv('ActPET.txt', delim_whitespace =True)\n",
    "\n",
    "###Activimetro 55tR con fuente Co-57\n",
    "#data = pd.read_csv('ActSPECT.txt', delim_whitespace =True)\n",
    "\n",
    "\n",
    "#data.head()"
   ]
  },
  {
   "cell_type": "code",
   "execution_count": 2,
   "metadata": {},
   "outputs": [
    {
     "data": {
      "text/html": [
       "<div>\n",
       "<table border=\"1\" class=\"dataframe\">\n",
       "  <thead>\n",
       "    <tr style=\"text-align: right;\">\n",
       "      <th></th>\n",
       "      <th>Number</th>\n",
       "      <th>AjustemV</th>\n",
       "      <th>Fondo</th>\n",
       "      <th>Voltaje</th>\n",
       "      <th>Actividad</th>\n",
       "      <th>Desviacion</th>\n",
       "    </tr>\n",
       "  </thead>\n",
       "  <tbody>\n",
       "    <tr>\n",
       "      <th>count</th>\n",
       "      <td>439.00000</td>\n",
       "      <td>439.000000</td>\n",
       "      <td>439.000000</td>\n",
       "      <td>439.000000</td>\n",
       "      <td>439.000000</td>\n",
       "      <td>439.000000</td>\n",
       "    </tr>\n",
       "    <tr>\n",
       "      <th>mean</th>\n",
       "      <td>220.00000</td>\n",
       "      <td>0.018314</td>\n",
       "      <td>2.355877</td>\n",
       "      <td>155.296583</td>\n",
       "      <td>352.553531</td>\n",
       "      <td>-1.885011</td>\n",
       "    </tr>\n",
       "    <tr>\n",
       "      <th>std</th>\n",
       "      <td>126.87264</td>\n",
       "      <td>0.029016</td>\n",
       "      <td>3.189927</td>\n",
       "      <td>0.031870</td>\n",
       "      <td>177.048141</td>\n",
       "      <td>0.639048</td>\n",
       "    </tr>\n",
       "    <tr>\n",
       "      <th>min</th>\n",
       "      <td>1.00000</td>\n",
       "      <td>0.010000</td>\n",
       "      <td>0.250000</td>\n",
       "      <td>155.000000</td>\n",
       "      <td>128.000000</td>\n",
       "      <td>-4.300000</td>\n",
       "    </tr>\n",
       "    <tr>\n",
       "      <th>25%</th>\n",
       "      <td>110.50000</td>\n",
       "      <td>0.010000</td>\n",
       "      <td>0.330000</td>\n",
       "      <td>155.300000</td>\n",
       "      <td>200.600000</td>\n",
       "      <td>-2.200000</td>\n",
       "    </tr>\n",
       "    <tr>\n",
       "      <th>50%</th>\n",
       "      <td>220.00000</td>\n",
       "      <td>0.010000</td>\n",
       "      <td>0.450000</td>\n",
       "      <td>155.300000</td>\n",
       "      <td>306.000000</td>\n",
       "      <td>-2.000000</td>\n",
       "    </tr>\n",
       "    <tr>\n",
       "      <th>75%</th>\n",
       "      <td>329.50000</td>\n",
       "      <td>0.020000</td>\n",
       "      <td>2.735000</td>\n",
       "      <td>155.300000</td>\n",
       "      <td>472.000000</td>\n",
       "      <td>-1.800000</td>\n",
       "    </tr>\n",
       "    <tr>\n",
       "      <th>max</th>\n",
       "      <td>439.00000</td>\n",
       "      <td>0.260000</td>\n",
       "      <td>11.860000</td>\n",
       "      <td>155.300000</td>\n",
       "      <td>748.000000</td>\n",
       "      <td>1.600000</td>\n",
       "    </tr>\n",
       "  </tbody>\n",
       "</table>\n",
       "</div>"
      ],
      "text/plain": [
       "          Number    AjustemV       Fondo     Voltaje   Actividad  Desviacion\n",
       "count  439.00000  439.000000  439.000000  439.000000  439.000000  439.000000\n",
       "mean   220.00000    0.018314    2.355877  155.296583  352.553531   -1.885011\n",
       "std    126.87264    0.029016    3.189927    0.031870  177.048141    0.639048\n",
       "min      1.00000    0.010000    0.250000  155.000000  128.000000   -4.300000\n",
       "25%    110.50000    0.010000    0.330000  155.300000  200.600000   -2.200000\n",
       "50%    220.00000    0.010000    0.450000  155.300000  306.000000   -2.000000\n",
       "75%    329.50000    0.020000    2.735000  155.300000  472.000000   -1.800000\n",
       "max    439.00000    0.260000   11.860000  155.300000  748.000000    1.600000"
      ]
     },
     "execution_count": 2,
     "metadata": {},
     "output_type": "execute_result"
    }
   ],
   "source": [
    "data.describe()"
   ]
  },
  {
   "cell_type": "code",
   "execution_count": 49,
   "metadata": {
    "collapsed": true
   },
   "outputs": [],
   "source": [
    "##### de mCi a Bq\n",
    "#mcibq=3.7E7\n",
    "\n",
    "##### de uCi a Bq\n",
    "#ucibq=3.7E4"
   ]
  },
  {
   "cell_type": "code",
   "execution_count": 3,
   "metadata": {
    "collapsed": true
   },
   "outputs": [],
   "source": [
    "### Fuentes de Chequeo en Medicina Nuclear \n",
    "\n",
    "##############################\n",
    "########   Co 57  ###########\n",
    "\n",
    "#Fecha de referencia\n",
    "# primero de noviembre de 2015\n",
    "Co='01/11/2015'\n",
    "Co57= datetime.datetime.strptime(Co,'%d/%m/%Y')\n",
    "#Actividad en mCi\n",
    "AcCo= 5.774\n",
    "#Actividad en Bq [1/s]\n",
    "#AcCobq= AcCo*mcibq\n",
    "### half life [días]\n",
    "HLCo= 271.74\n",
    "### half life [s]\n",
    "HLCobq= 271.74*86400\n",
    "### Lambda\n",
    "Lambdaco= np.log(2)/HLCo\n",
    "### Lambda [1/s]\n",
    "Lambdacobq= np.log(2)/HLCobq\n",
    "\n",
    "#############################################\n",
    "######## Medicina Nuclear Cs 137  ###########\n",
    "\n",
    "#Fecha de referencia\n",
    "# primero de noviembre de 2015\n",
    "Cs='01/11/2015'\n",
    "Cs137= datetime.datetime.strptime(Cs,'%d/%m/%Y')\n",
    "#Actividad en uCi\n",
    "AcCs= 214.9\n",
    "#Actividad en Bq [1/s]\n",
    "#AcCsbq= AcCs*ucibq\n",
    "### half life  [días]\n",
    "HLCs= 30.08*365\n",
    "### half life [s]\n",
    "HLCsbq= HLCs*86400\n",
    "### Lambda\n",
    "Lambdacs= np.log(2)/HLCs\n",
    "### Lambda [1/s]\n",
    "Lambdacsbq= np.log(2)/HLCsbq\n",
    "\n",
    "\n",
    "\n",
    "#############################################\n",
    "######## Radiofarmacia Cs 137  ###########\n",
    "\n",
    "#Fecha de referencia\n",
    "# primero de Abril de 2007\n",
    "#Csrf='01/04/2007'\n",
    "#Cs137rf= datetime.datetime.strptime(Csrf,'%d/%m/%Y')\n",
    "#Actividad en uCi\n",
    "#AcCsrf= 190.1\n",
    "#Actividad en Bq [1/s]\n",
    "#AcCsrfbq= AcCsrf*ucibq\n",
    "\n",
    "\n",
    "### Lambda\n",
    "Lambdacsrf= np.log(2)/HLCs"
   ]
  },
  {
   "cell_type": "code",
   "execution_count": 4,
   "metadata": {
    "collapsed": true
   },
   "outputs": [],
   "source": [
    "################# Elapsed time ###############\n",
    "\n",
    "#data[\"Fecha\"][0]\n",
    "\n",
    "d = pd.to_datetime(data[\"Fecha\"],format='%m/%d/%y')\n",
    "###Cobalto 57\n",
    "timeE=(d-Co57)\n",
    "\n",
    "### Cesio 137\n",
    "#timeE=(d-Cs137)\n",
    "#timeE=(d-Cs137rf)"
   ]
  },
  {
   "cell_type": "code",
   "execution_count": 5,
   "metadata": {
    "collapsed": true
   },
   "outputs": [],
   "source": [
    "data['timeE']=timeE.dt.days.values"
   ]
  },
  {
   "cell_type": "code",
   "execution_count": 6,
   "metadata": {
    "collapsed": true
   },
   "outputs": [],
   "source": [
    "############# Expected Activity ###########\n",
    "#### Act =Act_oe^{-\\lambda t}\n",
    "\n",
    "###Cobalto 57\n",
    "Actco=AcCo*np.exp(-Lambdaco*data[\"timeE\"])*1000\n",
    "\n",
    "###Cesio 137\n",
    "#Actcs=AcCs*np.exp(-Lambdacs*data[\"timeE\"])"
   ]
  },
  {
   "cell_type": "code",
   "execution_count": 7,
   "metadata": {
    "collapsed": true
   },
   "outputs": [],
   "source": [
    "#### Cobalto 57\n",
    "data['EAct']=round(Actco,1)\n",
    "#### Cesio 137\n",
    "#data['EAct']=round(Actcs,1)"
   ]
  },
  {
   "cell_type": "code",
   "execution_count": 8,
   "metadata": {
    "collapsed": true
   },
   "outputs": [],
   "source": [
    "############# Acceptable Range of dose calibrator readings ###########\n",
    "\n",
    "### 10% ó 5%\n",
    "X=data['EAct']*(0.05)\n",
    "\n",
    "\n",
    "### Rango\n",
    "Rmin=np.round(data['EAct']-X,1)\n",
    "Rmax=np.round(data['EAct']+X,1)\n",
    "\n",
    "\n",
    "### Ingresar datos en el data \n",
    "data['Rmin']=Rmin\n",
    "data['Rmax']=Rmax"
   ]
  },
  {
   "cell_type": "code",
   "execution_count": 9,
   "metadata": {
    "collapsed": true
   },
   "outputs": [],
   "source": [
    "##Diferencia\n",
    "#perce=np.absolute(((data['EAct']-data['Actividad'])*100)/data['EAct'])\n",
    "perce=(-(data['EAct']-data['Actividad'])*100)/data['EAct']\n",
    "\n",
    "\n",
    "percent=round(perce,1)\n",
    "\n",
    "### Ingresar datos en el data \n",
    "data['percent']=percent\n",
    "#percent"
   ]
  },
  {
   "cell_type": "code",
   "execution_count": 10,
   "metadata": {
    "collapsed": true
   },
   "outputs": [],
   "source": [
    "razon=data['Actividad']/data['EAct']\n",
    "#razoninc=data['Incer']/data['EAct']\n",
    "data['razon']=round(razon,3)\n",
    "#data['razon'].head(10)"
   ]
  },
  {
   "cell_type": "code",
   "execution_count": 11,
   "metadata": {
    "collapsed": true
   },
   "outputs": [],
   "source": [
    "###### Diferencia entre datos\n",
    "diffajuste = data.AjustemV.diff()\n",
    "diffajuste.replace(np.nan, 0.0, inplace=True)\n",
    "data['Diffzero']=diffajuste"
   ]
  },
  {
   "cell_type": "code",
   "execution_count": 70,
   "metadata": {
    "collapsed": true
   },
   "outputs": [],
   "source": [
    "#df= pd.DataFrame({'AjustemV':data['AjustemV'],'Voltaje':data['Voltaje']})"
   ]
  },
  {
   "cell_type": "code",
   "execution_count": 71,
   "metadata": {
    "collapsed": true
   },
   "outputs": [],
   "source": [
    "#np.savetxt('datosdf.txt',df.values,delimiter=\" \",fmt='%s')"
   ]
  },
  {
   "cell_type": "code",
   "execution_count": 73,
   "metadata": {
    "collapsed": true
   },
   "outputs": [],
   "source": [
    "#datos= np.genfromtxt(\"datosdf.txt\")"
   ]
  },
  {
   "cell_type": "code",
   "execution_count": 78,
   "metadata": {},
   "outputs": [
    {
     "data": {
      "text/plain": [
       "<function TextIOWrapper.close>"
      ]
     },
     "execution_count": 78,
     "metadata": {},
     "output_type": "execute_result"
    }
   ],
   "source": [
    "#g=open('nuevasalida.txt','w')\n",
    "#g.write('Ajuste=[{0}] Voltaje=[{1}]'.format(datos[:,0],datos[:,1]))\n",
    "#g.close"
   ]
  },
  {
   "cell_type": "code",
   "execution_count": 89,
   "metadata": {
    "collapsed": true
   },
   "outputs": [],
   "source": [
    "#data.loc[(data['Fondo']<0.0) | (data['Fondo']>100.0)]= np.nan\n",
    "# simply drop whole row with NaN in \"Fondo\" column\n",
    "#data.dropna(subset=[\"Fondo\"], axis=0, inplace=True)"
   ]
  },
  {
   "cell_type": "code",
   "execution_count": 24,
   "metadata": {
    "collapsed": true
   },
   "outputs": [],
   "source": [
    "z=np.array(data['Fondo'])\n",
    "#z"
   ]
  },
  {
   "cell_type": "code",
   "execution_count": 25,
   "metadata": {
    "collapsed": true
   },
   "outputs": [],
   "source": [
    "np.savetxt('pruebamatlab.txt',z,delimiter=\" \",fmt='%s')"
   ]
  },
  {
   "cell_type": "code",
   "execution_count": 26,
   "metadata": {},
   "outputs": [
    {
     "data": {
      "text/plain": [
       "count    439.000000\n",
       "mean       2.355877\n",
       "std        3.189927\n",
       "min        0.250000\n",
       "25%        0.330000\n",
       "50%        0.450000\n",
       "75%        2.735000\n",
       "max       11.860000\n",
       "Name: Fondo, dtype: float64"
      ]
     },
     "execution_count": 26,
     "metadata": {},
     "output_type": "execute_result"
    }
   ],
   "source": [
    "data['Fondo'].describe()"
   ]
  },
  {
   "cell_type": "code",
   "execution_count": 61,
   "metadata": {
    "collapsed": true
   },
   "outputs": [],
   "source": [
    "### Agrupar datos \n",
    "y= data['AjustemV'].values.reshape(92,4)"
   ]
  },
  {
   "cell_type": "code",
   "execution_count": 62,
   "metadata": {
    "collapsed": true
   },
   "outputs": [],
   "source": [
    "subgroup= pd.DataFrame(data=y)"
   ]
  },
  {
   "cell_type": "code",
   "execution_count": 63,
   "metadata": {
    "collapsed": true
   },
   "outputs": [],
   "source": [
    "# create headers list\n",
    "headers = [\"n1\",\"n2\",\"n3\",\"n4\"]\n",
    "subgroup.columns = headers"
   ]
  },
  {
   "cell_type": "code",
   "execution_count": 64,
   "metadata": {
    "collapsed": true
   },
   "outputs": [],
   "source": [
    "mean=subgroup[[\"n1\",\"n2\",\"n3\",\"n4\"]].mean(axis=1)\n",
    "subgroup['suma']= mean"
   ]
  },
  {
   "cell_type": "code",
   "execution_count": 68,
   "metadata": {},
   "outputs": [
    {
     "data": {
      "text/plain": [
       "<function TextIOWrapper.close>"
      ]
     },
     "execution_count": 68,
     "metadata": {},
     "output_type": "execute_result"
    }
   ],
   "source": []
  },
  {
   "cell_type": "code",
   "execution_count": 67,
   "metadata": {},
   "outputs": [
    {
     "data": {
      "text/plain": [
       "array([-0.19, -0.19, -0.18, -0.2 , -0.19, -0.13, -0.19, -0.19, -0.19,\n",
       "       -0.2 , -0.19, -0.2 , -0.19, -0.19, -0.19, -0.19, -0.2 , -0.19,\n",
       "       -0.19, -0.19, -0.19, -0.19, -0.25, -0.19, -0.19, -0.19, -0.19,\n",
       "       -0.19, -0.19, -0.18, -0.25, -0.18, -0.2 , -0.18, -0.19, -0.15,\n",
       "       -0.18, -0.17, -0.17, -0.17, -0.18, -0.21, -0.19, -0.19, -0.14,\n",
       "       -0.19, -0.17, -0.19, -0.24, -0.2 , -0.19, -0.19, -0.18, -0.19,\n",
       "       -0.2 , -0.21, -0.19, -0.18, -0.19, -0.18, -0.18, -0.19, -0.18,\n",
       "       -0.18, -0.19, -0.19, -0.25, -0.19, -0.2 , -0.19, -0.25, -0.19,\n",
       "       -0.2 , -0.19, -0.2 , -0.2 , -0.29, -0.18, -0.2 , -0.28, -0.25,\n",
       "       -0.18, -0.18, -0.2 , -0.18, -0.18, -0.19, -0.18, -0.19, -0.18,\n",
       "       -0.18, -0.2 , -0.19, -0.2 , -0.19, -0.19, -0.19, -0.19, -0.19,\n",
       "       -0.19, -0.19, -0.19, -0.19, -0.19, -0.19, -0.19, -0.19, -0.19,\n",
       "       -0.19, -0.19, -0.19, -0.19, -0.18, -0.17, -0.19, -0.18, -0.18,\n",
       "       -0.18, -0.19, -0.19, -0.19, -0.19, -0.19, -0.19, -0.19, -0.18,\n",
       "       -0.18, -0.19, -0.18, -0.18, -0.18, -0.18, -0.18, -0.18, -0.19,\n",
       "       -0.19, -0.19, -0.2 , -0.19, -0.18, -0.19, -0.21, -0.19, -0.19,\n",
       "       -0.18, -0.21, -0.23, -0.18, -0.15, -0.17, -0.17, -0.2 , -0.22,\n",
       "       -0.19, -0.15, -0.19, -0.16, -0.19, -0.2 , -0.2 , -0.25, -0.16,\n",
       "       -0.16, -0.22, -0.24, -0.1 , -0.1 , -0.1 , -0.19, -0.19, -0.2 ,\n",
       "       -0.19, -0.2 , -0.23, -0.23, -0.2 , -0.2 , -0.17, -0.19, -0.19,\n",
       "       -0.22, -0.16, -0.19, -0.18, -0.12, -0.13, -0.16, -0.19, -0.15,\n",
       "       -0.13, -0.16, -0.21, -0.19, -0.16, -0.16, -0.2 , -0.24, -0.21,\n",
       "       -0.25, -0.23, -0.2 , -0.25, -0.22, -0.23, -0.22, -0.19, -0.2 ,\n",
       "       -0.2 , -0.27, -0.2 , -0.25, -0.21, -0.21, -0.21, -0.21, -0.24,\n",
       "       -0.2 , -0.23, -0.19, -0.19, -0.19, -0.19, -0.2 , -0.2 , -0.13,\n",
       "       -0.2 , -0.2 , -0.17, -0.2 , -0.4 , -0.3 , -0.19, -0.21, -0.13,\n",
       "       -0.12, -0.2 , -0.2 , -0.21, -0.22, -0.25, -0.14, -0.2 , -0.18,\n",
       "       -0.26, -0.12, -0.24, -0.2 , -0.16, -0.26, -0.3 , -0.16, -0.25,\n",
       "       -0.19, -0.18, -0.2 , -0.12, -0.19, -0.18, -0.18, -0.19, -0.2 ,\n",
       "       -0.18, -0.23, -0.19, -0.2 , -0.13, -0.19, -0.24, -0.19, -0.13,\n",
       "       -0.2 , -0.19, -0.19, -0.2 , -0.21, -0.2 , -0.2 , -0.2 , -0.21,\n",
       "       -0.21, -0.21, -0.2 , -0.25, -0.25, -0.19, -0.19, -0.2 , -0.26,\n",
       "       -0.28, -0.25, -0.26, -0.25, -0.23, -0.24, -0.2 , -0.2 , -0.2 ,\n",
       "       -0.2 , -0.19, -0.2 , -0.2 , -0.19, -0.19, -0.2 , -0.19, -0.19,\n",
       "       -0.2 , -0.19, -0.19, -0.19, -0.13, -0.19, -0.22, -0.27, -0.26,\n",
       "       -0.25, -0.23, -0.2 , -0.25, -0.25, -0.25, -0.13, -0.21, -0.21,\n",
       "       -0.22, -0.25, -0.23, -0.19, -0.19, -0.19, -0.2 , -0.21, -0.21,\n",
       "       -0.18, -0.19, -0.2 , -0.19, -0.18, -0.18, -0.19, -0.19, -0.19,\n",
       "       -0.18, -0.19, -0.19, -0.19, -0.19, -0.19, -0.21, -0.19, -0.19,\n",
       "       -0.19, -0.19, -0.18, -0.28, -0.23, -0.23, -0.19, -0.31, -0.39,\n",
       "       -0.19, -0.19, -0.19, -0.19, -0.19, -0.19, -0.19, -0.19])"
      ]
     },
     "execution_count": 67,
     "metadata": {},
     "output_type": "execute_result"
    }
   ],
   "source": [
    "plt.plot(data['Number'],data['percent'],'ob-')\n",
    "plt.plot((0,350),(sigma3p,sigma3p))\n",
    "plt.plot((0,350),(sigma3n,sigma3n))\n",
    "plt.plot((0,350),(grandmean,grandmean))"
   ]
  },
  {
   "cell_type": "markdown",
   "metadata": {
    "collapsed": true
   },
   "source": [
    "#### Voltaje nominal CRC 55tR- MN: 155.3 V. 5% desviacion \n",
    "#plt.text(330, 155.5, 'Voltaje nominal 155.3',size=14)\n",
    "#plt.text(340, 148, 'Voltaje 5% 147.5',size=14)\n",
    "#plt.text(340, 162, 'Voltaje 5% 163.1',size=14)\n",
    "#plt.plot((0, 438),(147.5,147.5), 'k:', linewidth=2) \n",
    "#plt.plot((0, 438),(163.1,163.1), 'k:', linewidth=2)"
   ]
  },
  {
   "cell_type": "code",
   "execution_count": null,
   "metadata": {
    "collapsed": true
   },
   "outputs": [],
   "source": []
  }
 ],
 "metadata": {
  "kernelspec": {
   "display_name": "Python 3",
   "language": "python",
   "name": "python3"
  },
  "language_info": {
   "codemirror_mode": {
    "name": "ipython",
    "version": 3
   },
   "file_extension": ".py",
   "mimetype": "text/x-python",
   "name": "python",
   "nbconvert_exporter": "python",
   "pygments_lexer": "ipython3",
   "version": "3.5.5"
  }
 },
 "nbformat": 4,
 "nbformat_minor": 2
}
