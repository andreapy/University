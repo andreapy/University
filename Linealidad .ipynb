{
 "cells": [
  {
   "cell_type": "markdown",
   "metadata": {},
   "source": [
    "# QC Linealidad  radionuclide (Dose) calibrator in NM"
   ]
  },
  {
   "cell_type": "code",
   "execution_count": 375,
   "metadata": {},
   "outputs": [
    {
     "data": {
      "text/html": [
       "<div>\n",
       "<table border=\"1\" class=\"dataframe\">\n",
       "  <thead>\n",
       "    <tr style=\"text-align: right;\">\n",
       "      <th></th>\n",
       "      <th>Tiempo</th>\n",
       "      <th>actividad</th>\n",
       "    </tr>\n",
       "  </thead>\n",
       "  <tbody>\n",
       "    <tr>\n",
       "      <th>0</th>\n",
       "      <td>0</td>\n",
       "      <td>21.60</td>\n",
       "    </tr>\n",
       "    <tr>\n",
       "      <th>1</th>\n",
       "      <td>60</td>\n",
       "      <td>19.28</td>\n",
       "    </tr>\n",
       "    <tr>\n",
       "      <th>2</th>\n",
       "      <td>120</td>\n",
       "      <td>17.20</td>\n",
       "    </tr>\n",
       "    <tr>\n",
       "      <th>3</th>\n",
       "      <td>180</td>\n",
       "      <td>15.31</td>\n",
       "    </tr>\n",
       "    <tr>\n",
       "      <th>4</th>\n",
       "      <td>240</td>\n",
       "      <td>13.64</td>\n",
       "    </tr>\n",
       "  </tbody>\n",
       "</table>\n",
       "</div>"
      ],
      "text/plain": [
       "   Tiempo  actividad\n",
       "0       0      21.60\n",
       "1      60      19.28\n",
       "2     120      17.20\n",
       "3     180      15.31\n",
       "4     240      13.64"
      ]
     },
     "execution_count": 375,
     "metadata": {},
     "output_type": "execute_result"
    }
   ],
   "source": [
    "import numpy as np\n",
    "import pandas as pd\n",
    "import matplotlib.pyplot as plt\n",
    "\n",
    "#### Paquete de tiempo\n",
    "import datetime\n",
    "\n",
    "%matplotlib inline\n",
    "\n",
    "#Para cargar los datos\n",
    "################################\n",
    "######  MEDICINA NUCLEAR #######\n",
    "################################\n",
    "\n",
    "###Activimetro CRC 25 PET con fuente Cs-137\n",
    "#data = pd.read_csv('testlinealidad.txt', delim_whitespace =True)\n",
    "#data = pd.read_csv('lineapet.txt', delim_whitespace =True)\n",
    "#data = pd.read_csv('linealidadpet8.txt', delim_whitespace =True)\n",
    "###Activimetro 55tR con fuente Co-57\n",
    "data = pd.read_csv('lineatr19.txt', delim_whitespace =True)\n",
    "\n",
    "\n",
    "\n",
    "\n",
    "#para ver los primeros datos\n",
    "data.head()"
   ]
  },
  {
   "cell_type": "code",
   "execution_count": 376,
   "metadata": {},
   "outputs": [
    {
     "data": {
      "text/plain": [
       "Tiempo         int64\n",
       "actividad    float64\n",
       "dtype: object"
      ]
     },
     "execution_count": 376,
     "metadata": {},
     "output_type": "execute_result"
    }
   ],
   "source": [
    "#data.describe()\n",
    "data.dtypes"
   ]
  },
  {
   "cell_type": "code",
   "execution_count": 377,
   "metadata": {
    "collapsed": true
   },
   "outputs": [],
   "source": [
    "##### de mCi a Bq\n",
    "mcibq=3.7E7\n",
    "##### de uCi a Bq\n",
    "ucibq=3.7E4\n",
    "\n",
    "### half life  [minutos]\n",
    "HL= 110\n",
    "### half life [s]\n",
    "HLbq= HL*60\n",
    "### Tau [s]\n",
    "Taubq= HLbq/np.log(2)"
   ]
  },
  {
   "cell_type": "code",
   "execution_count": 378,
   "metadata": {},
   "outputs": [],
   "source": [
    "#plt.plot(data['Tiempo'],data['actividad'],'ob')\n",
    "#plt.yscale('log')"
   ]
  },
  {
   "cell_type": "code",
   "execution_count": 379,
   "metadata": {
    "collapsed": true
   },
   "outputs": [],
   "source": [
    "data['ActBq']=data['actividad']*mcibq\n",
    "data['ActMBq']=data['ActBq']/1.0E6\n",
    "data['IncerBq']=np.sqrt(data['ActBq'])\n",
    "data['RaizMBq']=np.sqrt(data['ActMBq'])\n",
    "#data['IncerMBq']=data['IncerBq']/1.0E6\n",
    "data['Raizmci']=np.sqrt(data['actividad'])\n",
    "#data['incerti']=data['IncerBq']/mcibq"
   ]
  },
  {
   "cell_type": "code",
   "execution_count": 380,
   "metadata": {
    "collapsed": true
   },
   "outputs": [],
   "source": [
    "data['LN']=np.log(data['ActMBq'])\n",
    "#data['LN']=np.log(data['Cuentas'])\n",
    "#data['LN']=np.log(data['actividad'])"
   ]
  },
  {
   "cell_type": "code",
   "execution_count": 382,
   "metadata": {},
   "outputs": [
    {
     "data": {
      "image/png": "[encoded data removed]",
      "text/plain": [
       "<Figure size 432x288 with 1 Axes>"
      ]
     },
     "metadata": {},
     "output_type": "display_data"
    }
   ],
   "source": [
    "plt.errorbar(data['Tiempo'],data['ActMBq'], yerr=data['RaizMBq'],fmt='.r',label='Experimento',capsize=1)\n",
    "plt.yscale('log')"
   ]
  },
  {
   "cell_type": "markdown",
   "metadata": {},
   "source": [
    "## Notas de Clase -Física Experimental II - Capítulo 6"
   ]
  },
  {
   "cell_type": "markdown",
   "metadata": {},
   "source": [
    "Función a ajustar: "
   ]
  },
  {
   "cell_type": "markdown",
   "metadata": {},
   "source": [
    "$$A(t) = A_o e^{-t/\\tau}$$"
   ]
  },
  {
   "cell_type": "markdown",
   "metadata": {},
   "source": [
    "que se puede linealizar tomando el logaritmo natural a ambos lados: "
   ]
  },
  {
   "cell_type": "markdown",
   "metadata": {},
   "source": [
    "$$\\text{ln} \\;A(t) =\\text{ln}\\; A_o-\\frac{t}{\\tau}$$"
   ]
  },
  {
   "cell_type": "markdown",
   "metadata": {},
   "source": [
    "tal que:"
   ]
  },
  {
   "cell_type": "markdown",
   "metadata": {},
   "source": [
    "$$\n",
    "\\begin{align}\n",
    "f(t) = \\text{ln}\\;A(t)\\\\\n",
    "a=\\text{ln}\\; A_o\\\\\n",
    "b=-\\frac{1}{\\tau}\n",
    "\\end{align}\n",
    "$$\n"
   ]
  },
  {
   "cell_type": "code",
   "execution_count": 383,
   "metadata": {},
   "outputs": [
    {
     "data": {
      "text/plain": [
       "LinearRegression(copy_X=True, fit_intercept=True, n_jobs=None,\n",
       "         normalize=False)"
      ]
     },
     "execution_count": 383,
     "metadata": {},
     "output_type": "execute_result"
    }
   ],
   "source": [
    "from sklearn.linear_model import LinearRegression\n",
    "#Create the linear regression object\n",
    "lm = LinearRegression()\n",
    "lm"
   ]
  },
  {
   "cell_type": "code",
   "execution_count": 384,
   "metadata": {
    "collapsed": true
   },
   "outputs": [],
   "source": [
    "X = data[['Tiempo']]\n",
    "Y = data['LN']"
   ]
  },
  {
   "cell_type": "code",
   "execution_count": 385,
   "metadata": {},
   "outputs": [
    {
     "data": {
      "text/plain": [
       "LinearRegression(copy_X=True, fit_intercept=True, n_jobs=None,\n",
       "         normalize=False)"
      ]
     },
     "execution_count": 385,
     "metadata": {},
     "output_type": "execute_result"
    }
   ],
   "source": [
    "lm.fit(X,Y)"
   ]
  },
  {
   "cell_type": "code",
   "execution_count": 386,
   "metadata": {
    "collapsed": true
   },
   "outputs": [],
   "source": [
    "# Slope \n",
    "bl=lm.coef_"
   ]
  },
  {
   "cell_type": "code",
   "execution_count": 387,
   "metadata": {
    "collapsed": true
   },
   "outputs": [],
   "source": [
    "# Intercept\n",
    "al=lm.intercept_"
   ]
  },
  {
   "cell_type": "code",
   "execution_count": 388,
   "metadata": {},
   "outputs": [
    {
     "data": {
      "text/plain": [
       "798.58542148339632"
      ]
     },
     "execution_count": 388,
     "metadata": {},
     "output_type": "execute_result"
    }
   ],
   "source": [
    "### Número de cuentas N_o, será entonces: \n",
    "#No= \n",
    "np.exp(al)\n",
    "#al"
   ]
  },
  {
   "cell_type": "code",
   "execution_count": 389,
   "metadata": {},
   "outputs": [
    {
     "data": {
      "text/plain": [
       "array([ 522.72924847])"
      ]
     },
     "execution_count": 389,
     "metadata": {},
     "output_type": "execute_result"
    }
   ],
   "source": [
    "### Vida media \n",
    "-1/bl\n",
    "#bl"
   ]
  },
  {
   "cell_type": "markdown",
   "metadata": {},
   "source": [
    "### Ajuste por el metodo de mínimos cuadrados "
   ]
  },
  {
   "cell_type": "markdown",
   "metadata": {},
   "source": [
    "$$\n",
    "\\begin{align}\n",
    "y(t) = \\text{ln}\\;A(t)\\\\\n",
    "\\sigma_y^2=\\left[\\frac{dy}{dA}\\right]^2\\sigma_A^2\\\\\n",
    "\\sigma_y^2=\\frac{1}{A^2} (\\sqrt{A})^2=\\frac{1}{A}\n",
    "\\end{align}\n",
    "$$"
   ]
  },
  {
   "cell_type": "markdown",
   "metadata": {},
   "source": [
    "#### Pesos    $w = 1/\\sigma^2$"
   ]
  },
  {
   "cell_type": "code",
   "execution_count": 390,
   "metadata": {
    "collapsed": true
   },
   "outputs": [],
   "source": [
    "w= data['ActMBq']\n",
    "#w= data['Cuentas']\n",
    "#w= data['actividad']"
   ]
  },
  {
   "cell_type": "code",
   "execution_count": 391,
   "metadata": {
    "collapsed": true
   },
   "outputs": [],
   "source": [
    "S=sum(w)"
   ]
  },
  {
   "cell_type": "markdown",
   "metadata": {},
   "source": [
    "\n",
    "$$\n",
    "\\begin{align}\n",
    "S= \\sum \\frac{1}{\\sigma_i^2}  \\; \\; \\; S_x= \\sum \\frac{x_i}{\\sigma_i^2}\\; \\; \\; S_y= \\sum \\frac{y_i}{\\sigma_i^2}\\\\\n",
    " S_{xx}= \\sum \\frac{x_i^2}{\\sigma_i^2}\\; \\; \\; S_{xy}= \\sum \\frac{x_iy_i}{\\sigma_i^2}\n",
    "\\end{align}\n",
    "$$"
   ]
  },
  {
   "cell_type": "code",
   "execution_count": 392,
   "metadata": {
    "collapsed": true
   },
   "outputs": [],
   "source": [
    "x=data['Tiempo']*w"
   ]
  },
  {
   "cell_type": "code",
   "execution_count": 393,
   "metadata": {
    "collapsed": true
   },
   "outputs": [],
   "source": [
    "Sx=sum(x)"
   ]
  },
  {
   "cell_type": "code",
   "execution_count": 394,
   "metadata": {
    "collapsed": true
   },
   "outputs": [],
   "source": [
    "xx=((data['Tiempo'])**2)*w"
   ]
  },
  {
   "cell_type": "code",
   "execution_count": 395,
   "metadata": {
    "collapsed": true
   },
   "outputs": [],
   "source": [
    "Sxx=sum(xx)"
   ]
  },
  {
   "cell_type": "code",
   "execution_count": 396,
   "metadata": {
    "collapsed": true
   },
   "outputs": [],
   "source": [
    "y=data['LN']*w"
   ]
  },
  {
   "cell_type": "code",
   "execution_count": 397,
   "metadata": {
    "collapsed": true
   },
   "outputs": [],
   "source": [
    "Sy=sum(y)"
   ]
  },
  {
   "cell_type": "code",
   "execution_count": 398,
   "metadata": {
    "collapsed": true
   },
   "outputs": [],
   "source": [
    "xy=(data['Tiempo']*data['LN'])*w"
   ]
  },
  {
   "cell_type": "code",
   "execution_count": 399,
   "metadata": {
    "collapsed": true
   },
   "outputs": [],
   "source": [
    "Sxy=sum(xy)"
   ]
  },
  {
   "cell_type": "markdown",
   "metadata": {},
   "source": [
    "$$\n",
    "\\begin{align}\n",
    "f(t)= a+bt\\\\\n",
    "a=\\frac{1}{\\Delta}(S_{xx}S_{y}-S_xS_{xy})\\\\\n",
    "b=\\frac{1}{\\Delta}(SS_{xy}-S_xS_y)\\\\\n",
    "\\Delta= SS_{xx}-(S_x)^2\n",
    "\\end{align}\n",
    "$$\n"
   ]
  },
  {
   "cell_type": "code",
   "execution_count": 400,
   "metadata": {
    "collapsed": true
   },
   "outputs": [],
   "source": [
    "### Calculando Delta \n",
    "det=(S*Sxx)-(Sx)**2"
   ]
  },
  {
   "cell_type": "markdown",
   "metadata": {},
   "source": [
    "### Ajuste con pesos de a y b "
   ]
  },
  {
   "cell_type": "code",
   "execution_count": 401,
   "metadata": {},
   "outputs": [
    {
     "data": {
      "text/plain": [
       "6.6839344647522676"
      ]
     },
     "execution_count": 401,
     "metadata": {},
     "output_type": "execute_result"
    }
   ],
   "source": [
    "a=((Sxx*Sy)-(Sx*Sxy))/det\n",
    "a"
   ]
  },
  {
   "cell_type": "code",
   "execution_count": 402,
   "metadata": {},
   "outputs": [
    {
     "data": {
      "text/plain": [
       "-0.0019158698522029369"
      ]
     },
     "execution_count": 402,
     "metadata": {},
     "output_type": "execute_result"
    }
   ],
   "source": [
    "b=((S*Sxy)-(Sx*Sy))/det\n",
    "b"
   ]
  },
  {
   "cell_type": "markdown",
   "metadata": {},
   "source": [
    "#### Incertidumbres"
   ]
  },
  {
   "cell_type": "markdown",
   "metadata": {},
   "source": [
    "$$\n",
    "\\begin{align}\n",
    "\\text{error a}=\\sqrt{\\frac{S_{xx}}{\\Delta}}\\\\\n",
    "\\text{error b}=\\sqrt{\\frac{S}{\\Delta}}\\\\\n",
    "\\end{align}\n",
    "$$"
   ]
  },
  {
   "cell_type": "code",
   "execution_count": 403,
   "metadata": {
    "collapsed": true
   },
   "outputs": [],
   "source": [
    "# incertidumbre acm\n",
    "inca= np.sqrt(Sxx/det)\n",
    "# incertidumbre bcm\n",
    "incb=np.sqrt(S/det)"
   ]
  },
  {
   "cell_type": "code",
   "execution_count": 404,
   "metadata": {
    "collapsed": true
   },
   "outputs": [],
   "source": [
    "#inca"
   ]
  },
  {
   "cell_type": "markdown",
   "metadata": {},
   "source": [
    "### Calculo de Vida media  $\\tau$ y $N_o$"
   ]
  },
  {
   "cell_type": "markdown",
   "metadata": {},
   "source": [
    "$$\n",
    "\\begin{align}\n",
    "\\tau=-\\frac{1}{b}\\\\\n",
    "e^a= N_o\n",
    "\\end{align}\n",
    "$$"
   ]
  },
  {
   "cell_type": "code",
   "execution_count": 405,
   "metadata": {},
   "outputs": [
    {
     "data": {
      "text/plain": [
       "521.95612288077064"
      ]
     },
     "execution_count": 405,
     "metadata": {},
     "output_type": "execute_result"
    }
   ],
   "source": [
    "### Vida Media \n",
    "tau=-1/b\n",
    "tau"
   ]
  },
  {
   "cell_type": "code",
   "execution_count": 406,
   "metadata": {},
   "outputs": [
    {
     "data": {
      "text/plain": [
       "799.45837310008199"
      ]
     },
     "execution_count": 406,
     "metadata": {},
     "output_type": "execute_result"
    }
   ],
   "source": [
    "### Cuentas\n",
    "cuen=np.exp(a)\n",
    "cuen"
   ]
  },
  {
   "cell_type": "code",
   "execution_count": 407,
   "metadata": {
    "collapsed": true
   },
   "outputs": [],
   "source": [
    "###Actividad en MBq\n",
    "#A=(cuen)*np.exp(-(data['Tiempo']/tau))/1.0E6\n",
    "#N=(cuen)*np.exp(-(data['Tiempo']/tau))\n",
    "A=(cuen)*np.exp(-(data['Tiempo']/tau))"
   ]
  },
  {
   "cell_type": "markdown",
   "metadata": {},
   "source": [
    "#### Incertidumbres  vida media y cuentas "
   ]
  },
  {
   "cell_type": "markdown",
   "metadata": {},
   "source": [
    "$$\n",
    "\\begin{align}\n",
    "\\sigma^2 (a)=\\left[\\frac{da}{dN_o}\\right]^2\\sigma^2 (N_o) \\; \\; \\; \\; \\sigma (N_o)= N_o \\sigma (a)\\\\\n",
    "\\sigma^2 (\\tau)=\\left[\\frac{d\\tau}{db}\\right]^2\\sigma^2 (b) \\; \\; \\; \\; \\sigma (\\tau)=\\frac{1}{b^2} \\sigma (b)\n",
    "\\end{align}\n",
    "$$"
   ]
  },
  {
   "cell_type": "code",
   "execution_count": 408,
   "metadata": {},
   "outputs": [
    {
     "data": {
      "text/plain": [
       "16.01808560460773"
      ]
     },
     "execution_count": 408,
     "metadata": {},
     "output_type": "execute_result"
    }
   ],
   "source": [
    "inccuen= cuen*inca\n",
    "inccuen"
   ]
  },
  {
   "cell_type": "code",
   "execution_count": 409,
   "metadata": {},
   "outputs": [
    {
     "data": {
      "text/plain": [
       "13.564586826377973"
      ]
     },
     "execution_count": 409,
     "metadata": {},
     "output_type": "execute_result"
    }
   ],
   "source": [
    "inctau=incb/(b**2)\n",
    "inctau"
   ]
  },
  {
   "cell_type": "code",
   "execution_count": 410,
   "metadata": {},
   "outputs": [
    {
     "data": {
      "text/html": [
       "<div>\n",
       "<table border=\"1\" class=\"dataframe\">\n",
       "  <thead>\n",
       "    <tr style=\"text-align: right;\">\n",
       "      <th></th>\n",
       "      <th>Tiempo</th>\n",
       "      <th>actividad</th>\n",
       "      <th>ActBq</th>\n",
       "      <th>ActMBq</th>\n",
       "      <th>IncerBq</th>\n",
       "      <th>RaizMBq</th>\n",
       "      <th>Raizmci</th>\n",
       "      <th>LN</th>\n",
       "    </tr>\n",
       "  </thead>\n",
       "  <tbody>\n",
       "    <tr>\n",
       "      <th>11</th>\n",
       "      <td>660</td>\n",
       "      <td>6.08</td>\n",
       "      <td>224960000.0</td>\n",
       "      <td>224.96</td>\n",
       "      <td>14998.666607</td>\n",
       "      <td>14.998667</td>\n",
       "      <td>2.465766</td>\n",
       "      <td>5.415923</td>\n",
       "    </tr>\n",
       "    <tr>\n",
       "      <th>12</th>\n",
       "      <td>720</td>\n",
       "      <td>5.42</td>\n",
       "      <td>200540000.0</td>\n",
       "      <td>200.54</td>\n",
       "      <td>14161.214637</td>\n",
       "      <td>14.161215</td>\n",
       "      <td>2.328089</td>\n",
       "      <td>5.301014</td>\n",
       "    </tr>\n",
       "    <tr>\n",
       "      <th>13</th>\n",
       "      <td>780</td>\n",
       "      <td>4.88</td>\n",
       "      <td>180560000.0</td>\n",
       "      <td>180.56</td>\n",
       "      <td>13437.261626</td>\n",
       "      <td>13.437262</td>\n",
       "      <td>2.209072</td>\n",
       "      <td>5.196063</td>\n",
       "    </tr>\n",
       "    <tr>\n",
       "      <th>14</th>\n",
       "      <td>840</td>\n",
       "      <td>4.35</td>\n",
       "      <td>160950000.0</td>\n",
       "      <td>160.95</td>\n",
       "      <td>12686.607111</td>\n",
       "      <td>12.686607</td>\n",
       "      <td>2.085665</td>\n",
       "      <td>5.081094</td>\n",
       "    </tr>\n",
       "    <tr>\n",
       "      <th>15</th>\n",
       "      <td>900</td>\n",
       "      <td>3.87</td>\n",
       "      <td>143190000.0</td>\n",
       "      <td>143.19</td>\n",
       "      <td>11966.202405</td>\n",
       "      <td>11.966202</td>\n",
       "      <td>1.967232</td>\n",
       "      <td>4.964172</td>\n",
       "    </tr>\n",
       "  </tbody>\n",
       "</table>\n",
       "</div>"
      ],
      "text/plain": [
       "    Tiempo  actividad        ActBq  ActMBq       IncerBq    RaizMBq   Raizmci  \\\n",
       "11     660       6.08  224960000.0  224.96  14998.666607  14.998667  2.465766   \n",
       "12     720       5.42  200540000.0  200.54  14161.214637  14.161215  2.328089   \n",
       "13     780       4.88  180560000.0  180.56  13437.261626  13.437262  2.209072   \n",
       "14     840       4.35  160950000.0  160.95  12686.607111  12.686607  2.085665   \n",
       "15     900       3.87  143190000.0  143.19  11966.202405  11.966202  1.967232   \n",
       "\n",
       "          LN  \n",
       "11  5.415923  \n",
       "12  5.301014  \n",
       "13  5.196063  \n",
       "14  5.081094  \n",
       "15  4.964172  "
      ]
     },
     "execution_count": 410,
     "metadata": {},
     "output_type": "execute_result"
    }
   ],
   "source": [
    "#data['incerti']=data['actividad']*0.0182\n",
    "#data['incerti']=np.sqrt(data['Cuentas'])\n",
    "data.tail()"
   ]
  },
  {
   "cell_type": "code",
   "execution_count": 411,
   "metadata": {
    "collapsed": true
   },
   "outputs": [],
   "source": [
    "# import the visualization package: seaborn\n",
    "#import seaborn as sns\n",
    "#sns.set_context(\"talk\",font_scale=1.4)"
   ]
  },
  {
   "cell_type": "markdown",
   "metadata": {},
   "source": [
    "###  Visualización "
   ]
  },
  {
   "cell_type": "code",
   "execution_count": 419,
   "metadata": {},
   "outputs": [
    {
     "data": {
      "image/png": "[encoded data removed]",
      "text/plain": [
       "<Figure size 432x288 with 1 Axes>"
      ]
     },
     "metadata": {},
     "output_type": "display_data"
    }
   ],
   "source": [
    "#plt.errorbar(data['Tiempo'],data['ActMBq'], yerr=data['IncerMBq'],fmt='.r',label='Experimento',capsize=1)\n",
    "plt.errorbar(data['Tiempo'],data['ActMBq'], yerr=data['RaizMBq'],fmt='.r',label='Experimento',capsize=1)\n",
    "#plt.errorbar(data['Tiempo'],data['Cuentas'], yerr=data['incerti'],fmt='.r',label='Experimento',capsize=1)\n",
    "#plt.errorbar(data['Tiempo'],data['actividad'], yerr=data['Raizmci'],fmt='.r',label='Experimento',capsize=1)\n",
    "#plt.plot(data['Tiempo'],N,label='ajuste')\n",
    "plt.plot(data['Tiempo'],A,label='ajuste')\n",
    "plt.xlabel(r'Tiempo [min]',size=15)\n",
    "plt.ylabel(r'Actividad [MBq]',size=20)\n",
    "#plt.ylabel(r'Actividad [mCi]',size=20)\n",
    "\n",
    "tx=r'$\\mathbf{{\\tau}}$ = {:.3f} $\\pm$ {:.3f} min'\n",
    "plt.annotate(tx.format(tau,inctau),xy=(20, 200), fontsize=12, fontweight=\"bold\")\n",
    "plt.legend()\n",
    "#plt.ylim(1E-20,1E2)\n",
    "plt.yscale('log')\n",
    "#plt.savefig('eficazcm.pdf')"
   ]
  },
  {
   "cell_type": "code",
   "execution_count": 420,
   "metadata": {},
   "outputs": [
    {
     "data": {
      "text/plain": [
       "6.0298735825134422"
      ]
     },
     "execution_count": 420,
     "metadata": {},
     "output_type": "execute_result"
    }
   ],
   "source": [
    "(tau*np.log(2))/60"
   ]
  },
  {
   "cell_type": "code",
   "execution_count": 421,
   "metadata": {},
   "outputs": [
    {
     "data": {
      "text/plain": [
       "0.15670425190274115"
      ]
     },
     "execution_count": 421,
     "metadata": {},
     "output_type": "execute_result"
    }
   ],
   "source": [
    "(inctau*np.log(2))/60"
   ]
  },
  {
   "cell_type": "markdown",
   "metadata": {},
   "source": [
    "### Que tan bueno es el ajuste? - Chi cuadrado"
   ]
  },
  {
   "cell_type": "code",
   "execution_count": 184,
   "metadata": {},
   "outputs": [],
   "source": [
    "#data['LN']\n",
    "#((data['LN']-(a+(b*data['Tiempo'])))/data['incerti'])**2"
   ]
  },
  {
   "cell_type": "code",
   "execution_count": 424,
   "metadata": {},
   "outputs": [
    {
     "data": {
      "text/plain": [
       "0.032453455015238969"
      ]
     },
     "execution_count": 424,
     "metadata": {},
     "output_type": "execute_result"
    }
   ],
   "source": [
    "#chicuadrado= sum(((data['Cuentas']-np.round(cuen*np.exp(b*data['Tiempo']),0))/data['incerti'])**2)\n",
    "chicuadrado= sum(((data['ActMBq']-np.round(cuen*np.exp(b*data['Tiempo']),2))/data['RaizMBq'])**2)\n",
    "#chicuadrado= sum(((data['actividad']-np.round(cuen*np.exp(b*data['Tiempo']),2))/data['Raizmci'])**2)\n",
    "chicuadrado"
   ]
  },
  {
   "cell_type": "code",
   "execution_count": 427,
   "metadata": {},
   "outputs": [
    {
     "data": {
      "text/plain": [
       "0.032453455015238969"
      ]
     },
     "execution_count": 427,
     "metadata": {},
     "output_type": "execute_result"
    }
   ],
   "source": [
    "#sum(((data['actividad']-np.round(cuen*np.exp(b*data['Tiempo']),2))/data['Raizmci'])**2)\n",
    "sum(((data['ActMBq']-np.round(cuen*np.exp(b*data['Tiempo']),2))/data['RaizMBq'])**2)"
   ]
  },
  {
   "cell_type": "code",
   "execution_count": 431,
   "metadata": {},
   "outputs": [
    {
     "data": {
      "text/plain": [
       "14"
      ]
     },
     "execution_count": 431,
     "metadata": {},
     "output_type": "execute_result"
    }
   ],
   "source": [
    "### Número de grados de libertad= Número de puntos independientes a ajustar - Número de parámetros por hallar (2 línea Recta)\n",
    "libertad= len(data['Tiempo'])-2\n",
    "libertad"
   ]
  },
  {
   "cell_type": "code",
   "execution_count": 434,
   "metadata": {},
   "outputs": [
    {
     "data": {
      "text/plain": [
       "0.0023181039296599265"
      ]
     },
     "execution_count": 434,
     "metadata": {},
     "output_type": "execute_result"
    }
   ],
   "source": [
    "###Chi cuadrado reducido\n",
    "chicuadrado/libertad"
   ]
  },
  {
   "cell_type": "markdown",
   "metadata": {},
   "source": [
    "### Distribución acumulativa Chi-cuadrado\n",
    "\n",
    "en una terminal ejecute el programa maxima\n",
    "y escriba: \n",
    "\n",
    "\n",
    "\n",
    "gamma_incomplete_regularized(chicuadrado/2,libertad/2);\n",
    "\n",
    "Nivel de confianza convencional en Física= CL = 0.05\n",
    "\n"
   ]
  },
  {
   "cell_type": "code",
   "execution_count": 430,
   "metadata": {},
   "outputs": [
    {
     "data": {
      "text/plain": [
       "16"
      ]
     },
     "execution_count": 430,
     "metadata": {},
     "output_type": "execute_result"
    }
   ],
   "source": []
  },
  {
   "cell_type": "code",
   "execution_count": null,
   "metadata": {
    "collapsed": true
   },
   "outputs": [],
   "source": []
  }
 ],
 "metadata": {
  "kernelspec": {
   "display_name": "Python 3",
   "language": "python",
   "name": "python3"
  },
  "language_info": {
   "codemirror_mode": {
    "name": "ipython",
    "version": 3
   },
   "file_extension": ".py",
   "mimetype": "text/x-python",
   "name": "python",
   "nbconvert_exporter": "python",
   "pygments_lexer": "ipython3",
   "version": "3.5.5"
  }
 },
 "nbformat": 4,
 "nbformat_minor": 2
}
