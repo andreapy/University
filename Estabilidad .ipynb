{
 "cells": [
  {
   "cell_type": "code",
   "execution_count": 25,
   "metadata": {},
   "outputs": [
    {
     "data": {
      "text/html": [
       "<div>\n",
       "<table border=\"1\" class=\"dataframe\">\n",
       "  <thead>\n",
       "    <tr style=\"text-align: right;\">\n",
       "      <th></th>\n",
       "      <th>NRemover</th>\n",
       "      <th>Remover</th>\n",
       "      <th>Dato</th>\n",
       "    </tr>\n",
       "  </thead>\n",
       "  <tbody>\n",
       "    <tr>\n",
       "      <th>0</th>\n",
       "      <td>141.3</td>\n",
       "      <td>140.7</td>\n",
       "      <td>1</td>\n",
       "    </tr>\n",
       "    <tr>\n",
       "      <th>1</th>\n",
       "      <td>141.2</td>\n",
       "      <td>140.8</td>\n",
       "      <td>2</td>\n",
       "    </tr>\n",
       "    <tr>\n",
       "      <th>2</th>\n",
       "      <td>141.1</td>\n",
       "      <td>141.3</td>\n",
       "      <td>3</td>\n",
       "    </tr>\n",
       "    <tr>\n",
       "      <th>3</th>\n",
       "      <td>141.1</td>\n",
       "      <td>141.4</td>\n",
       "      <td>4</td>\n",
       "    </tr>\n",
       "    <tr>\n",
       "      <th>4</th>\n",
       "      <td>141.2</td>\n",
       "      <td>140.9</td>\n",
       "      <td>5</td>\n",
       "    </tr>\n",
       "  </tbody>\n",
       "</table>\n",
       "</div>"
      ],
      "text/plain": [
       "   NRemover  Remover  Dato\n",
       "0     141.3    140.7     1\n",
       "1     141.2    140.8     2\n",
       "2     141.1    141.3     3\n",
       "3     141.1    141.4     4\n",
       "4     141.2    140.9     5"
      ]
     },
     "execution_count": 25,
     "metadata": {},
     "output_type": "execute_result"
    }
   ],
   "source": [
    "import numpy as np\n",
    "import pandas as pd\n",
    "import matplotlib.pyplot as plt\n",
    "from scipy import stats\n",
    "from scipy.stats import norm\n",
    "#### Paquete de tiempo\n",
    "import datetime\n",
    "\n",
    "%matplotlib inline\n",
    "\n",
    "#Para cargar los datos\n",
    "\n",
    "################################\n",
    "######  MEDICINA NUCLEAR #######\n",
    "################################\n",
    "\n",
    "###Activimetro CRC 55 TR MN con fuente Co-57\n",
    "data = pd.read_csv('estableshort.txt', delim_whitespace =True)\n",
    "#data = pd.read_csv('establelargo55tr.txt', delim_whitespace =True)\n",
    "data.head()"
   ]
  },
  {
   "cell_type": "code",
   "execution_count": 26,
   "metadata": {},
   "outputs": [
    {
     "data": {
      "text/html": [
       "<div>\n",
       "<table border=\"1\" class=\"dataframe\">\n",
       "  <thead>\n",
       "    <tr style=\"text-align: right;\">\n",
       "      <th></th>\n",
       "      <th>NRemover</th>\n",
       "      <th>Remover</th>\n",
       "      <th>Dato</th>\n",
       "    </tr>\n",
       "  </thead>\n",
       "  <tbody>\n",
       "    <tr>\n",
       "      <th>count</th>\n",
       "      <td>10.000000</td>\n",
       "      <td>10.000000</td>\n",
       "      <td>10.00000</td>\n",
       "    </tr>\n",
       "    <tr>\n",
       "      <th>mean</th>\n",
       "      <td>141.200000</td>\n",
       "      <td>141.120000</td>\n",
       "      <td>5.50000</td>\n",
       "    </tr>\n",
       "    <tr>\n",
       "      <th>std</th>\n",
       "      <td>0.105409</td>\n",
       "      <td>0.265832</td>\n",
       "      <td>3.02765</td>\n",
       "    </tr>\n",
       "    <tr>\n",
       "      <th>min</th>\n",
       "      <td>141.100000</td>\n",
       "      <td>140.700000</td>\n",
       "      <td>1.00000</td>\n",
       "    </tr>\n",
       "    <tr>\n",
       "      <th>25%</th>\n",
       "      <td>141.100000</td>\n",
       "      <td>140.925000</td>\n",
       "      <td>3.25000</td>\n",
       "    </tr>\n",
       "    <tr>\n",
       "      <th>50%</th>\n",
       "      <td>141.200000</td>\n",
       "      <td>141.150000</td>\n",
       "      <td>5.50000</td>\n",
       "    </tr>\n",
       "    <tr>\n",
       "      <th>75%</th>\n",
       "      <td>141.275000</td>\n",
       "      <td>141.300000</td>\n",
       "      <td>7.75000</td>\n",
       "    </tr>\n",
       "    <tr>\n",
       "      <th>max</th>\n",
       "      <td>141.400000</td>\n",
       "      <td>141.500000</td>\n",
       "      <td>10.00000</td>\n",
       "    </tr>\n",
       "  </tbody>\n",
       "</table>\n",
       "</div>"
      ],
      "text/plain": [
       "         NRemover     Remover      Dato\n",
       "count   10.000000   10.000000  10.00000\n",
       "mean   141.200000  141.120000   5.50000\n",
       "std      0.105409    0.265832   3.02765\n",
       "min    141.100000  140.700000   1.00000\n",
       "25%    141.100000  140.925000   3.25000\n",
       "50%    141.200000  141.150000   5.50000\n",
       "75%    141.275000  141.300000   7.75000\n",
       "max    141.400000  141.500000  10.00000"
      ]
     },
     "execution_count": 26,
     "metadata": {},
     "output_type": "execute_result"
    }
   ],
   "source": [
    "data.describe()"
   ]
  },
  {
   "cell_type": "code",
   "execution_count": 27,
   "metadata": {
    "collapsed": true
   },
   "outputs": [],
   "source": [
    "##############################\n",
    "########   Co 57  ###########\n",
    "\n",
    "#Fecha de referencia\n",
    "# primero de noviembre de 2015\n",
    "Co='01/11/2015'\n",
    "Co57= datetime.datetime.strptime(Co,'%d/%m/%Y')\n",
    "#Actividad en mCi\n",
    "AcCo= 5.774\n",
    "#Actividad en Bq [1/s]\n",
    "#AcCobq= AcCo*mcibq\n",
    "### half life [días]\n",
    "HLCo= 271.74\n",
    "### half life [s]\n",
    "HLCobq= 271.74*86400\n",
    "### Lambda\n",
    "Lambdaco= np.log(2)/HLCo\n",
    "### Lambda [1/s]\n",
    "Lambdacobq= np.log(2)/HLCobq"
   ]
  },
  {
   "cell_type": "code",
   "execution_count": 28,
   "metadata": {},
   "outputs": [
    {
     "data": {
      "text/plain": [
       "datetime.timedelta(1452)"
      ]
     },
     "execution_count": 28,
     "metadata": {},
     "output_type": "execute_result"
    }
   ],
   "source": [
    "#####  Tiempo transcurrido\n",
    "test='23/10/2019'\n",
    "d=datetime.datetime.strptime(test,'%d/%m/%Y')\n",
    "timeE=(d-Co57)\n",
    "timeE"
   ]
  },
  {
   "cell_type": "code",
   "execution_count": 29,
   "metadata": {
    "collapsed": true
   },
   "outputs": [],
   "source": [
    "Actco=AcCo*np.exp(-Lambdaco*1452)*1000"
   ]
  },
  {
   "cell_type": "code",
   "execution_count": 30,
   "metadata": {
    "collapsed": true
   },
   "outputs": [],
   "source": [
    "X=Actco*(0.02)\n",
    "\n",
    "### Rango\n",
    "Rmin=np.round(Actco-X,1)\n",
    "Rmax=np.round(Actco+X,1)\n",
    "\n",
    "#Rmin=1.00+0.02\n",
    "#Rmax=1.00-0.02\n",
    "\n"
   ]
  },
  {
   "cell_type": "code",
   "execution_count": 16,
   "metadata": {},
   "outputs": [],
   "source": [
    "#data.loc[(data['Razon']<0.95) | (data['Razon']>1.05)]= np.nan\n",
    "# simply drop whole row with NaN in \"razon\" column\n",
    "#data.dropna(subset=[\"Razon\"], axis=0, inplace=True)"
   ]
  },
  {
   "cell_type": "markdown",
   "metadata": {},
   "source": [
    "plt.plot(data['Medida'],data['Razon'],'ob',label='Reproducibilidad')\n",
    "plt.plot((0, 30),(Rmin,Rmin), '--r', linewidth=1,label='Mínimo/Máximo')\n",
    "plt.plot((0, 30),(Rmax,Rmax), '--r', linewidth=1)\n",
    "#plt.plot((1, 10),(data['NRemover'].mean()/Actco,data['NRemover'].mean()/Actco), '--c', linewidth=1)\n",
    "#plt.plot((1, 10),((data['Remover'].mean()+data['Remover'].std())/Actco,(data['Remover'].mean()+data['Remover'].std())/Actco), '--c', linewidth=1)\n",
    "#plt.plot((1, 10),((data['Remover'].mean()-data['Remover'].std())/Actco,(data['Remover'].mean()-data['Remover'].std())/Actco), '--c', linewidth=1)\n",
    "plt.plot((0, 30),(1.0,1.0), '--k', linewidth=1,label='Objetivo')\n",
    "plt.xlabel('Número de Medida')\n",
    "plt.ylabel('Razón')\n",
    "plt.legend(loc='upper right')\n",
    "plt.savefig('longstable55tr.pdf')"
   ]
  },
  {
   "cell_type": "markdown",
   "metadata": {},
   "source": [
    "(data['Razon'].std()*100)/data['Razon'].mean()"
   ]
  },
  {
   "cell_type": "code",
   "execution_count": 31,
   "metadata": {},
   "outputs": [
    {
     "data": {
      "text/plain": [
       "<matplotlib.legend.Legend at 0x1a164640b8>"
      ]
     },
     "execution_count": 31,
     "metadata": {},
     "output_type": "execute_result"
    },
    {
     "data": {
      "image/png": "[encoded data removed]",
      "text/plain": [
       "<Figure size 432x288 with 1 Axes>"
      ]
     },
     "metadata": {},
     "output_type": "display_data"
    }
   ],
   "source": [
    "plt.plot(data['Dato'],data['NRemover']/Actco,'-og',label='Continuo')\n",
    "plt.plot(data['Dato'],data['Remover']/Actco,'-ob',label='Intermitente')\n",
    "plt.plot((1, 10),(Rmin/Actco,Rmin/Actco), '--r', linewidth=1,label='Mínimo/Máximo')\n",
    "plt.plot((1, 10),(Rmax/Actco,Rmax/Actco), '--r', linewidth=1)\n",
    "plt.plot((1, 10),(data['NRemover'].mean()/Actco,data['NRemover'].mean()/Actco), '--c', linewidth=1)\n",
    "plt.plot((1, 10),((data['Remover'].mean()+data['Remover'].std())/Actco,(data['Remover'].mean()+data['Remover'].std())/Actco), '--c', linewidth=1)\n",
    "plt.plot((1, 10),((data['Remover'].mean()-data['Remover'].std())/Actco,(data['Remover'].mean()-data['Remover'].std())/Actco), '--c', linewidth=1)\n",
    "plt.plot((1, 10),(1.0,1.0), '--k', linewidth=1,label='Objetivo')\n",
    "plt.xlabel('Número de Medida')\n",
    "plt.ylabel('Razón')\n",
    "plt.legend(loc='upper right')\n",
    "#plt.savefig('estabilidad55tR.pdf')"
   ]
  },
  {
   "cell_type": "code",
   "execution_count": 68,
   "metadata": {},
   "outputs": [
    {
     "data": {
      "text/plain": [
       "0.07465244712390368"
      ]
     },
     "execution_count": 68,
     "metadata": {},
     "output_type": "execute_result"
    }
   ],
   "source": [
    "(data['NRemover'].std()*100)/data['NRemover'].mean()"
   ]
  },
  {
   "cell_type": "code",
   "execution_count": 70,
   "metadata": {},
   "outputs": [
    {
     "data": {
      "text/plain": [
       "0.18837303512260994"
      ]
     },
     "execution_count": 70,
     "metadata": {},
     "output_type": "execute_result"
    }
   ],
   "source": [
    "(data['Remover'].std()*100)/data['Remover'].mean()"
   ]
  },
  {
   "cell_type": "code",
   "execution_count": 36,
   "metadata": {},
   "outputs": [
    {
     "data": {
      "text/plain": [
       "-0.71939670031564429"
      ]
     },
     "execution_count": 36,
     "metadata": {},
     "output_type": "execute_result"
    }
   ],
   "source": [
    "((data['NRemover'].mean()/Actco)-1.00)*100"
   ]
  },
  {
   "cell_type": "code",
   "execution_count": 38,
   "metadata": {},
   "outputs": [
    {
     "data": {
      "text/plain": [
       "-0.7756463339132047"
      ]
     },
     "execution_count": 38,
     "metadata": {},
     "output_type": "execute_result"
    }
   ],
   "source": [
    "((data['Remover'].mean()/Actco)-1.00)*100"
   ]
  },
  {
   "cell_type": "code",
   "execution_count": 37,
   "metadata": {},
   "outputs": [
    {
     "data": {
      "text/plain": [
       "5.000000000000004"
      ]
     },
     "execution_count": 37,
     "metadata": {},
     "output_type": "execute_result"
    }
   ],
   "source": []
  },
  {
   "cell_type": "code",
   "execution_count": null,
   "metadata": {
    "collapsed": true
   },
   "outputs": [],
   "source": []
  }
 ],
 "metadata": {
  "kernelspec": {
   "display_name": "Python 3",
   "language": "python",
   "name": "python3"
  },
  "language_info": {
   "codemirror_mode": {
    "name": "ipython",
    "version": 3
   },
   "file_extension": ".py",
   "mimetype": "text/x-python",
   "name": "python",
   "nbconvert_exporter": "python",
   "pygments_lexer": "ipython3",
   "version": "3.5.5"
  }
 },
 "nbformat": 4,
 "nbformat_minor": 2
}
